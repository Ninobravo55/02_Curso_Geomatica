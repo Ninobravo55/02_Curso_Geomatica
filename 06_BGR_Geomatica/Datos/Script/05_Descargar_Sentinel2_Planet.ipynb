{
 "cells": [
  {
   "cell_type": "markdown",
   "id": "244f6eeb-cb8d-4394-80fc-8abb4e45858f",
   "metadata": {},
   "source": [
    "# Descargar datos multiespectrales Sentinel2 y Planet NICFI"
   ]
  },
  {
   "cell_type": "code",
   "execution_count": 2,
   "id": "39010de0-b9b5-45e4-bb60-994515307f75",
   "metadata": {},
   "outputs": [
    {
     "data": {
      "text/html": [
       "\n",
       "            <style>\n",
       "                .geemap-dark {\n",
       "                    --jp-widgets-color: white;\n",
       "                    --jp-widgets-label-color: white;\n",
       "                    --jp-ui-font-color1: white;\n",
       "                    --jp-layout-color2: #454545;\n",
       "                    background-color: #383838;\n",
       "                }\n",
       "\n",
       "                .geemap-dark .jupyter-button {\n",
       "                    --jp-layout-color3: #383838;\n",
       "                }\n",
       "\n",
       "                .geemap-colab {\n",
       "                    background-color: var(--colab-primary-surface-color, white);\n",
       "                }\n",
       "\n",
       "                .geemap-colab .jupyter-button {\n",
       "                    --jp-layout-color3: var(--colab-primary-surface-color, white);\n",
       "                }\n",
       "            </style>\n",
       "            "
      ],
      "text/plain": [
       "<IPython.core.display.HTML object>"
      ]
     },
     "metadata": {},
     "output_type": "display_data"
    }
   ],
   "source": [
    "# Importar GEE y Iniciar sesion\n",
    "import ee, geemap, os, glob, copy\n",
    "import geopandas as gpd\n",
    "import pandas as pd"
   ]
  },
  {
   "cell_type": "code",
   "execution_count": 3,
   "id": "9f6cabb2-4166-42c6-acfa-112d1019df4e",
   "metadata": {},
   "outputs": [
    {
     "data": {
      "text/html": [
       "\n",
       "            <style>\n",
       "                .geemap-dark {\n",
       "                    --jp-widgets-color: white;\n",
       "                    --jp-widgets-label-color: white;\n",
       "                    --jp-ui-font-color1: white;\n",
       "                    --jp-layout-color2: #454545;\n",
       "                    background-color: #383838;\n",
       "                }\n",
       "\n",
       "                .geemap-dark .jupyter-button {\n",
       "                    --jp-layout-color3: #383838;\n",
       "                }\n",
       "\n",
       "                .geemap-colab {\n",
       "                    background-color: var(--colab-primary-surface-color, white);\n",
       "                }\n",
       "\n",
       "                .geemap-colab .jupyter-button {\n",
       "                    --jp-layout-color3: var(--colab-primary-surface-color, white);\n",
       "                }\n",
       "            </style>\n",
       "            "
      ],
      "text/plain": [
       "<IPython.core.display.HTML object>"
      ]
     },
     "metadata": {},
     "output_type": "display_data"
    }
   ],
   "source": [
    "ee.Initialize()"
   ]
  },
  {
   "cell_type": "code",
   "execution_count": 4,
   "id": "bfa74f48-1aad-4bee-9152-30d83eab3926",
   "metadata": {},
   "outputs": [
    {
     "data": {
      "text/html": [
       "\n",
       "            <style>\n",
       "                .geemap-dark {\n",
       "                    --jp-widgets-color: white;\n",
       "                    --jp-widgets-label-color: white;\n",
       "                    --jp-ui-font-color1: white;\n",
       "                    --jp-layout-color2: #454545;\n",
       "                    background-color: #383838;\n",
       "                }\n",
       "\n",
       "                .geemap-dark .jupyter-button {\n",
       "                    --jp-layout-color3: #383838;\n",
       "                }\n",
       "\n",
       "                .geemap-colab {\n",
       "                    background-color: var(--colab-primary-surface-color, white);\n",
       "                }\n",
       "\n",
       "                .geemap-colab .jupyter-button {\n",
       "                    --jp-layout-color3: var(--colab-primary-surface-color, white);\n",
       "                }\n",
       "            </style>\n",
       "            "
      ],
      "text/plain": [
       "<IPython.core.display.HTML object>"
      ]
     },
     "metadata": {},
     "output_type": "display_data"
    },
    {
     "data": {
      "application/vnd.jupyter.widget-view+json": {
       "model_id": "19d6161153fb49198e539b9ed41f63bb",
       "version_major": 2,
       "version_minor": 0
      },
      "text/plain": [
       "Map(center=[0, 0], controls=(WidgetControl(options=['position', 'transparent_bg'], widget=SearchDataGUI(childr…"
      ]
     },
     "execution_count": 4,
     "metadata": {},
     "output_type": "execute_result"
    }
   ],
   "source": [
    "Map = geemap.Map(basemap='Esri.WorldImagery')\n",
    "Map"
   ]
  },
  {
   "cell_type": "markdown",
   "id": "94abea99-1e3c-4f1c-896e-e9e73b1bcb00",
   "metadata": {},
   "source": [
    "## Importar shapefile"
   ]
  },
  {
   "cell_type": "code",
   "execution_count": 5,
   "id": "4d3c2537-fcc6-451c-93bf-6ea220c82447",
   "metadata": {},
   "outputs": [
    {
     "data": {
      "text/html": [
       "\n",
       "            <style>\n",
       "                .geemap-dark {\n",
       "                    --jp-widgets-color: white;\n",
       "                    --jp-widgets-label-color: white;\n",
       "                    --jp-ui-font-color1: white;\n",
       "                    --jp-layout-color2: #454545;\n",
       "                    background-color: #383838;\n",
       "                }\n",
       "\n",
       "                .geemap-dark .jupyter-button {\n",
       "                    --jp-layout-color3: #383838;\n",
       "                }\n",
       "\n",
       "                .geemap-colab {\n",
       "                    background-color: var(--colab-primary-surface-color, white);\n",
       "                }\n",
       "\n",
       "                .geemap-colab .jupyter-button {\n",
       "                    --jp-layout-color3: var(--colab-primary-surface-color, white);\n",
       "                }\n",
       "            </style>\n",
       "            "
      ],
      "text/plain": [
       "<IPython.core.display.HTML object>"
      ]
     },
     "metadata": {},
     "output_type": "display_data"
    },
    {
     "data": {
      "text/plain": [
       "'C:\\\\Users\\\\GEOMATICA\\\\Curso_Geomatica\\\\06_BGR_Geomatica\\\\Datos\\\\Script'"
      ]
     },
     "execution_count": 5,
     "metadata": {},
     "output_type": "execute_result"
    }
   ],
   "source": [
    "os.getcwd()"
   ]
  },
  {
   "cell_type": "code",
   "execution_count": 8,
   "id": "f98a308f-7295-403e-ae9a-cac21d4b144f",
   "metadata": {},
   "outputs": [
    {
     "data": {
      "text/html": [
       "\n",
       "            <style>\n",
       "                .geemap-dark {\n",
       "                    --jp-widgets-color: white;\n",
       "                    --jp-widgets-label-color: white;\n",
       "                    --jp-ui-font-color1: white;\n",
       "                    --jp-layout-color2: #454545;\n",
       "                    background-color: #383838;\n",
       "                }\n",
       "\n",
       "                .geemap-dark .jupyter-button {\n",
       "                    --jp-layout-color3: #383838;\n",
       "                }\n",
       "\n",
       "                .geemap-colab {\n",
       "                    background-color: var(--colab-primary-surface-color, white);\n",
       "                }\n",
       "\n",
       "                .geemap-colab .jupyter-button {\n",
       "                    --jp-layout-color3: var(--colab-primary-surface-color, white);\n",
       "                }\n",
       "            </style>\n",
       "            "
      ],
      "text/plain": [
       "<IPython.core.display.HTML object>"
      ]
     },
     "metadata": {},
     "output_type": "display_data"
    },
    {
     "data": {
      "text/plain": [
       "'C:\\\\Users\\\\GEOMATICA\\\\Curso_Geomatica\\\\06_BGR_Geomatica\\\\Datos\\\\Shp\\\\Zona_buffer_500'"
      ]
     },
     "execution_count": 8,
     "metadata": {},
     "output_type": "execute_result"
    }
   ],
   "source": [
    "ruta_archivos = r\"C:\\Users\\GEOMATICA\\Curso_Geomatica\\06_BGR_Geomatica\\Datos\\Shp\\Zona_buffer_500\"\n",
    "os.chdir(ruta_archivos) # Cambiar ruta trabajo\n",
    "os.getcwd() # Consultar ruta trabajo"
   ]
  },
  {
   "cell_type": "code",
   "execution_count": 9,
   "id": "85423a90-abd6-4950-a944-1c19f12b0f3e",
   "metadata": {},
   "outputs": [
    {
     "data": {
      "text/html": [
       "\n",
       "            <style>\n",
       "                .geemap-dark {\n",
       "                    --jp-widgets-color: white;\n",
       "                    --jp-widgets-label-color: white;\n",
       "                    --jp-ui-font-color1: white;\n",
       "                    --jp-layout-color2: #454545;\n",
       "                    background-color: #383838;\n",
       "                }\n",
       "\n",
       "                .geemap-dark .jupyter-button {\n",
       "                    --jp-layout-color3: #383838;\n",
       "                }\n",
       "\n",
       "                .geemap-colab {\n",
       "                    background-color: var(--colab-primary-surface-color, white);\n",
       "                }\n",
       "\n",
       "                .geemap-colab .jupyter-button {\n",
       "                    --jp-layout-color3: var(--colab-primary-surface-color, white);\n",
       "                }\n",
       "            </style>\n",
       "            "
      ],
      "text/plain": [
       "<IPython.core.display.HTML object>"
      ]
     },
     "metadata": {},
     "output_type": "display_data"
    },
    {
     "data": {
      "text/plain": [
       "['malla_seleccionada.shp', 'Zona_buffer_500.shp']"
      ]
     },
     "execution_count": 9,
     "metadata": {},
     "output_type": "execute_result"
    }
   ],
   "source": [
    "lista = glob.glob(\"*.shp\")\n",
    "lista"
   ]
  },
  {
   "cell_type": "code",
   "execution_count": 10,
   "id": "87198d11-bcbf-4576-b13c-848b803f1c13",
   "metadata": {},
   "outputs": [
    {
     "data": {
      "text/html": [
       "\n",
       "            <style>\n",
       "                .geemap-dark {\n",
       "                    --jp-widgets-color: white;\n",
       "                    --jp-widgets-label-color: white;\n",
       "                    --jp-ui-font-color1: white;\n",
       "                    --jp-layout-color2: #454545;\n",
       "                    background-color: #383838;\n",
       "                }\n",
       "\n",
       "                .geemap-dark .jupyter-button {\n",
       "                    --jp-layout-color3: #383838;\n",
       "                }\n",
       "\n",
       "                .geemap-colab {\n",
       "                    background-color: var(--colab-primary-surface-color, white);\n",
       "                }\n",
       "\n",
       "                .geemap-colab .jupyter-button {\n",
       "                    --jp-layout-color3: var(--colab-primary-surface-color, white);\n",
       "                }\n",
       "            </style>\n",
       "            "
      ],
      "text/plain": [
       "<IPython.core.display.HTML object>"
      ]
     },
     "metadata": {},
     "output_type": "display_data"
    },
    {
     "data": {
      "text/html": [
       "<div>\n",
       "<style scoped>\n",
       "    .dataframe tbody tr th:only-of-type {\n",
       "        vertical-align: middle;\n",
       "    }\n",
       "\n",
       "    .dataframe tbody tr th {\n",
       "        vertical-align: top;\n",
       "    }\n",
       "\n",
       "    .dataframe thead th {\n",
       "        text-align: right;\n",
       "    }\n",
       "</style>\n",
       "<table border=\"1\" class=\"dataframe\">\n",
       "  <thead>\n",
       "    <tr style=\"text-align: right;\">\n",
       "      <th></th>\n",
       "      <th>FID</th>\n",
       "      <th>Nombre</th>\n",
       "      <th>geometry</th>\n",
       "    </tr>\n",
       "  </thead>\n",
       "  <tbody>\n",
       "    <tr>\n",
       "      <th>0</th>\n",
       "      <td>0</td>\n",
       "      <td>Parcela_1</td>\n",
       "      <td>POLYGON ((203220.135 9045443.001, 203220.135 9...</td>\n",
       "    </tr>\n",
       "    <tr>\n",
       "      <th>1</th>\n",
       "      <td>0</td>\n",
       "      <td>Parcela_2</td>\n",
       "      <td>POLYGON ((203220.135 9050443.001, 203220.135 9...</td>\n",
       "    </tr>\n",
       "    <tr>\n",
       "      <th>2</th>\n",
       "      <td>0</td>\n",
       "      <td>Parcela_3</td>\n",
       "      <td>POLYGON ((208220.135 9045443.001, 208220.135 9...</td>\n",
       "    </tr>\n",
       "    <tr>\n",
       "      <th>3</th>\n",
       "      <td>0</td>\n",
       "      <td>Parcela_4</td>\n",
       "      <td>POLYGON ((208220.135 9050443.001, 208220.135 9...</td>\n",
       "    </tr>\n",
       "  </tbody>\n",
       "</table>\n",
       "</div>"
      ],
      "text/plain": [
       "   FID     Nombre                                           geometry\n",
       "0    0  Parcela_1  POLYGON ((203220.135 9045443.001, 203220.135 9...\n",
       "1    0  Parcela_2  POLYGON ((203220.135 9050443.001, 203220.135 9...\n",
       "2    0  Parcela_3  POLYGON ((208220.135 9045443.001, 208220.135 9...\n",
       "3    0  Parcela_4  POLYGON ((208220.135 9050443.001, 208220.135 9..."
      ]
     },
     "execution_count": 10,
     "metadata": {},
     "output_type": "execute_result"
    }
   ],
   "source": [
    "# cargar un shp\n",
    "zona_gdp = gpd.read_file(lista[0])\n",
    "zona_gdp"
   ]
  },
  {
   "cell_type": "markdown",
   "id": "b78eaa11-1db4-48ca-b5a9-b4fcac1c5077",
   "metadata": {},
   "source": [
    "## Convertir en Geográfico WGS84"
   ]
  },
  {
   "cell_type": "code",
   "execution_count": 11,
   "id": "4937abff-ce76-44a3-b63e-28abc8bffd97",
   "metadata": {},
   "outputs": [
    {
     "data": {
      "text/html": [
       "\n",
       "            <style>\n",
       "                .geemap-dark {\n",
       "                    --jp-widgets-color: white;\n",
       "                    --jp-widgets-label-color: white;\n",
       "                    --jp-ui-font-color1: white;\n",
       "                    --jp-layout-color2: #454545;\n",
       "                    background-color: #383838;\n",
       "                }\n",
       "\n",
       "                .geemap-dark .jupyter-button {\n",
       "                    --jp-layout-color3: #383838;\n",
       "                }\n",
       "\n",
       "                .geemap-colab {\n",
       "                    background-color: var(--colab-primary-surface-color, white);\n",
       "                }\n",
       "\n",
       "                .geemap-colab .jupyter-button {\n",
       "                    --jp-layout-color3: var(--colab-primary-surface-color, white);\n",
       "                }\n",
       "            </style>\n",
       "            "
      ],
      "text/plain": [
       "<IPython.core.display.HTML object>"
      ]
     },
     "metadata": {},
     "output_type": "display_data"
    }
   ],
   "source": [
    "# Hagamos una copia de seguridad de nuestros datos\n",
    "Zona_geo = zona_gdp.copy()\n",
    "# Reproject the data\n",
    "Zona_wg84 = Zona_geo.to_crs(epsg=4326)"
   ]
  },
  {
   "cell_type": "code",
   "execution_count": 9,
   "id": "207844a7-afd7-450c-9c20-12d6db2781a3",
   "metadata": {},
   "outputs": [
    {
     "data": {
      "text/html": [
       "\n",
       "            <style>\n",
       "                .geemap-dark {\n",
       "                    --jp-widgets-color: white;\n",
       "                    --jp-widgets-label-color: white;\n",
       "                    --jp-ui-font-color1: white;\n",
       "                    --jp-layout-color2: #454545;\n",
       "                    background-color: #383838;\n",
       "                }\n",
       "\n",
       "                .geemap-dark .jupyter-button {\n",
       "                    --jp-layout-color3: #383838;\n",
       "                }\n",
       "\n",
       "                .geemap-colab {\n",
       "                    background-color: var(--colab-primary-surface-color, white);\n",
       "                }\n",
       "\n",
       "                .geemap-colab .jupyter-button {\n",
       "                    --jp-layout-color3: var(--colab-primary-surface-color, white);\n",
       "                }\n",
       "            </style>\n",
       "            "
      ],
      "text/plain": [
       "<IPython.core.display.HTML object>"
      ]
     },
     "metadata": {},
     "output_type": "display_data"
    },
    {
     "data": {
      "text/plain": [
       "'WGS 84'"
      ]
     },
     "execution_count": 9,
     "metadata": {},
     "output_type": "execute_result"
    }
   ],
   "source": [
    "Zona_wg84.crs.name"
   ]
  },
  {
   "cell_type": "markdown",
   "id": "92f4e066-ddb8-4037-943a-2e6e7a391483",
   "metadata": {},
   "source": [
    "## Convertir de Geopandas a GEE"
   ]
  },
  {
   "cell_type": "code",
   "execution_count": 12,
   "id": "1b2de9d4-ec8b-4a8c-90ed-8a5733341828",
   "metadata": {},
   "outputs": [
    {
     "data": {
      "text/html": [
       "\n",
       "            <style>\n",
       "                .geemap-dark {\n",
       "                    --jp-widgets-color: white;\n",
       "                    --jp-widgets-label-color: white;\n",
       "                    --jp-ui-font-color1: white;\n",
       "                    --jp-layout-color2: #454545;\n",
       "                    background-color: #383838;\n",
       "                }\n",
       "\n",
       "                .geemap-dark .jupyter-button {\n",
       "                    --jp-layout-color3: #383838;\n",
       "                }\n",
       "\n",
       "                .geemap-colab {\n",
       "                    background-color: var(--colab-primary-surface-color, white);\n",
       "                }\n",
       "\n",
       "                .geemap-colab .jupyter-button {\n",
       "                    --jp-layout-color3: var(--colab-primary-surface-color, white);\n",
       "                }\n",
       "            </style>\n",
       "            "
      ],
      "text/plain": [
       "<IPython.core.display.HTML object>"
      ]
     },
     "metadata": {},
     "output_type": "display_data"
    }
   ],
   "source": [
    "# Crear un featureCollecion mediante GeoJSON\n",
    "ee_zona_gdp = ee.FeatureCollection(Zona_wg84.__geo_interface__)"
   ]
  },
  {
   "cell_type": "code",
   "execution_count": 13,
   "id": "833894ae-d77b-4a6d-ba81-9c31fea403ba",
   "metadata": {},
   "outputs": [
    {
     "data": {
      "text/html": [
       "\n",
       "            <style>\n",
       "                .geemap-dark {\n",
       "                    --jp-widgets-color: white;\n",
       "                    --jp-widgets-label-color: white;\n",
       "                    --jp-ui-font-color1: white;\n",
       "                    --jp-layout-color2: #454545;\n",
       "                    background-color: #383838;\n",
       "                }\n",
       "\n",
       "                .geemap-dark .jupyter-button {\n",
       "                    --jp-layout-color3: #383838;\n",
       "                }\n",
       "\n",
       "                .geemap-colab {\n",
       "                    background-color: var(--colab-primary-surface-color, white);\n",
       "                }\n",
       "\n",
       "                .geemap-colab .jupyter-button {\n",
       "                    --jp-layout-color3: var(--colab-primary-surface-color, white);\n",
       "                }\n",
       "            </style>\n",
       "            "
      ],
      "text/plain": [
       "<IPython.core.display.HTML object>"
      ]
     },
     "metadata": {},
     "output_type": "display_data"
    }
   ],
   "source": [
    "geometria = ee_zona_gdp.geometry()"
   ]
  },
  {
   "cell_type": "code",
   "execution_count": 14,
   "id": "38c8e4ce-f2da-4807-a52c-c81a0b860414",
   "metadata": {},
   "outputs": [
    {
     "data": {
      "text/html": [
       "\n",
       "            <style>\n",
       "                .geemap-dark {\n",
       "                    --jp-widgets-color: white;\n",
       "                    --jp-widgets-label-color: white;\n",
       "                    --jp-ui-font-color1: white;\n",
       "                    --jp-layout-color2: #454545;\n",
       "                    background-color: #383838;\n",
       "                }\n",
       "\n",
       "                .geemap-dark .jupyter-button {\n",
       "                    --jp-layout-color3: #383838;\n",
       "                }\n",
       "\n",
       "                .geemap-colab {\n",
       "                    background-color: var(--colab-primary-surface-color, white);\n",
       "                }\n",
       "\n",
       "                .geemap-colab .jupyter-button {\n",
       "                    --jp-layout-color3: var(--colab-primary-surface-color, white);\n",
       "                }\n",
       "            </style>\n",
       "            "
      ],
      "text/plain": [
       "<IPython.core.display.HTML object>"
      ]
     },
     "metadata": {},
     "output_type": "display_data"
    },
    {
     "data": {
      "application/vnd.jupyter.widget-view+json": {
       "model_id": "19d6161153fb49198e539b9ed41f63bb",
       "version_major": 2,
       "version_minor": 0
      },
      "text/plain": [
       "Map(bottom=812.0, center=[-8.581182171995554, -77.65072954333048], controls=(WidgetControl(options=['position'…"
      ]
     },
     "execution_count": 14,
     "metadata": {},
     "output_type": "execute_result"
    }
   ],
   "source": [
    "# Visualizar mapa\n",
    "Map.centerObject(geometria,12)\n",
    "Map.addLayer(ee_zona_gdp, {\"color\" : \"00FF11\"}, \"zona_gdp\")\n",
    "Map"
   ]
  },
  {
   "cell_type": "code",
   "execution_count": 15,
   "id": "a73ba326-289b-421f-a0e3-a1f566f119ff",
   "metadata": {},
   "outputs": [
    {
     "data": {
      "text/html": [
       "\n",
       "            <style>\n",
       "                .geemap-dark {\n",
       "                    --jp-widgets-color: white;\n",
       "                    --jp-widgets-label-color: white;\n",
       "                    --jp-ui-font-color1: white;\n",
       "                    --jp-layout-color2: #454545;\n",
       "                    background-color: #383838;\n",
       "                }\n",
       "\n",
       "                .geemap-dark .jupyter-button {\n",
       "                    --jp-layout-color3: #383838;\n",
       "                }\n",
       "\n",
       "                .geemap-colab {\n",
       "                    background-color: var(--colab-primary-surface-color, white);\n",
       "                }\n",
       "\n",
       "                .geemap-colab .jupyter-button {\n",
       "                    --jp-layout-color3: var(--colab-primary-surface-color, white);\n",
       "                }\n",
       "            </style>\n",
       "            "
      ],
      "text/plain": [
       "<IPython.core.display.HTML object>"
      ]
     },
     "metadata": {},
     "output_type": "display_data"
    },
    {
     "name": "stdout",
     "output_type": "stream",
     "text": [
      "['Parcela_1', 'Parcela_2', 'Parcela_3', 'Parcela_4']\n"
     ]
    }
   ],
   "source": [
    "# Extraer la lista \n",
    "lista_parcela = ee_zona_gdp.reduceColumns(ee.Reducer.toList(),[\"Nombre\"]).get(\"list\").getInfo()\n",
    "print(lista_parcela)"
   ]
  },
  {
   "cell_type": "code",
   "execution_count": 16,
   "id": "3d3cdce5-384a-4cab-93cf-69fe81464c4c",
   "metadata": {},
   "outputs": [
    {
     "data": {
      "text/html": [
       "\n",
       "            <style>\n",
       "                .geemap-dark {\n",
       "                    --jp-widgets-color: white;\n",
       "                    --jp-widgets-label-color: white;\n",
       "                    --jp-ui-font-color1: white;\n",
       "                    --jp-layout-color2: #454545;\n",
       "                    background-color: #383838;\n",
       "                }\n",
       "\n",
       "                .geemap-dark .jupyter-button {\n",
       "                    --jp-layout-color3: #383838;\n",
       "                }\n",
       "\n",
       "                .geemap-colab {\n",
       "                    background-color: var(--colab-primary-surface-color, white);\n",
       "                }\n",
       "\n",
       "                .geemap-colab .jupyter-button {\n",
       "                    --jp-layout-color3: var(--colab-primary-surface-color, white);\n",
       "                }\n",
       "            </style>\n",
       "            "
      ],
      "text/plain": [
       "<IPython.core.display.HTML object>"
      ]
     },
     "metadata": {},
     "output_type": "display_data"
    }
   ],
   "source": [
    "Parcela = ee_zona_gdp.filterMetadata('Nombre', 'equals', lista_parcela[0])"
   ]
  },
  {
   "cell_type": "code",
   "execution_count": 17,
   "id": "e43cd9e4-35de-4203-980a-1b8b2b42fb9e",
   "metadata": {},
   "outputs": [
    {
     "data": {
      "text/html": [
       "\n",
       "            <style>\n",
       "                .geemap-dark {\n",
       "                    --jp-widgets-color: white;\n",
       "                    --jp-widgets-label-color: white;\n",
       "                    --jp-ui-font-color1: white;\n",
       "                    --jp-layout-color2: #454545;\n",
       "                    background-color: #383838;\n",
       "                }\n",
       "\n",
       "                .geemap-dark .jupyter-button {\n",
       "                    --jp-layout-color3: #383838;\n",
       "                }\n",
       "\n",
       "                .geemap-colab {\n",
       "                    background-color: var(--colab-primary-surface-color, white);\n",
       "                }\n",
       "\n",
       "                .geemap-colab .jupyter-button {\n",
       "                    --jp-layout-color3: var(--colab-primary-surface-color, white);\n",
       "                }\n",
       "            </style>\n",
       "            "
      ],
      "text/plain": [
       "<IPython.core.display.HTML object>"
      ]
     },
     "metadata": {},
     "output_type": "display_data"
    }
   ],
   "source": [
    "os.chdir(r\"D:\\Descarga\")"
   ]
  },
  {
   "cell_type": "markdown",
   "id": "e0cbdb8c-8c1f-4148-af8b-0d054de3d719",
   "metadata": {},
   "source": [
    "## Descargar Planet NICFI"
   ]
  },
  {
   "cell_type": "code",
   "execution_count": 18,
   "id": "b57175ea-dd36-454c-95ae-c638fffe6662",
   "metadata": {},
   "outputs": [
    {
     "data": {
      "text/html": [
       "\n",
       "            <style>\n",
       "                .geemap-dark {\n",
       "                    --jp-widgets-color: white;\n",
       "                    --jp-widgets-label-color: white;\n",
       "                    --jp-ui-font-color1: white;\n",
       "                    --jp-layout-color2: #454545;\n",
       "                    background-color: #383838;\n",
       "                }\n",
       "\n",
       "                .geemap-dark .jupyter-button {\n",
       "                    --jp-layout-color3: #383838;\n",
       "                }\n",
       "\n",
       "                .geemap-colab {\n",
       "                    background-color: var(--colab-primary-surface-color, white);\n",
       "                }\n",
       "\n",
       "                .geemap-colab .jupyter-button {\n",
       "                    --jp-layout-color3: var(--colab-primary-surface-color, white);\n",
       "                }\n",
       "            </style>\n",
       "            "
      ],
      "text/plain": [
       "<IPython.core.display.HTML object>"
      ]
     },
     "metadata": {},
     "output_type": "display_data"
    }
   ],
   "source": [
    "# Cargar imagen Planet - NICFI\n",
    "nicfi = ee.ImageCollection('projects/planet-nicfi/assets/basemaps/americas')\\\n",
    "            .filter(ee.Filter.date('2023-06-01','2024-04-15'))"
   ]
  },
  {
   "cell_type": "code",
   "execution_count": 19,
   "id": "e3dd0ba5-246a-4264-83ca-78d4df5b5924",
   "metadata": {},
   "outputs": [
    {
     "data": {
      "text/html": [
       "\n",
       "            <style>\n",
       "                .geemap-dark {\n",
       "                    --jp-widgets-color: white;\n",
       "                    --jp-widgets-label-color: white;\n",
       "                    --jp-ui-font-color1: white;\n",
       "                    --jp-layout-color2: #454545;\n",
       "                    background-color: #383838;\n",
       "                }\n",
       "\n",
       "                .geemap-dark .jupyter-button {\n",
       "                    --jp-layout-color3: #383838;\n",
       "                }\n",
       "\n",
       "                .geemap-colab {\n",
       "                    background-color: var(--colab-primary-surface-color, white);\n",
       "                }\n",
       "\n",
       "                .geemap-colab .jupyter-button {\n",
       "                    --jp-layout-color3: var(--colab-primary-surface-color, white);\n",
       "                }\n",
       "            </style>\n",
       "            "
      ],
      "text/plain": [
       "<IPython.core.display.HTML object>"
      ]
     },
     "metadata": {},
     "output_type": "display_data"
    },
    {
     "name": "stdout",
     "output_type": "stream",
     "text": [
      "['planet_medres_normalized_analytic_2023-06_mosaic', 'planet_medres_normalized_analytic_2023-07_mosaic', 'planet_medres_normalized_analytic_2023-08_mosaic', 'planet_medres_normalized_analytic_2023-09_mosaic', 'planet_medres_normalized_analytic_2023-10_mosaic', 'planet_medres_normalized_analytic_2023-11_mosaic', 'planet_medres_normalized_analytic_2023-12_mosaic', 'planet_medres_normalized_analytic_2024-01_mosaic', 'planet_medres_normalized_analytic_2024-02_mosaic', 'planet_medres_normalized_analytic_2024-03_mosaic']\n"
     ]
    }
   ],
   "source": [
    "# Imprimir la lista de ID Imagenes\n",
    "ID_planet = nicfi.reduceColumns(ee.Reducer.toList(),[\"system:index\"]).get(\"list\").getInfo()\n",
    "print(ID_planet)"
   ]
  },
  {
   "cell_type": "code",
   "execution_count": 20,
   "id": "e340c1c7-ea96-431e-b988-9dbb4bb24ac1",
   "metadata": {},
   "outputs": [
    {
     "data": {
      "text/html": [
       "\n",
       "            <style>\n",
       "                .geemap-dark {\n",
       "                    --jp-widgets-color: white;\n",
       "                    --jp-widgets-label-color: white;\n",
       "                    --jp-ui-font-color1: white;\n",
       "                    --jp-layout-color2: #454545;\n",
       "                    background-color: #383838;\n",
       "                }\n",
       "\n",
       "                .geemap-dark .jupyter-button {\n",
       "                    --jp-layout-color3: #383838;\n",
       "                }\n",
       "\n",
       "                .geemap-colab {\n",
       "                    background-color: var(--colab-primary-surface-color, white);\n",
       "                }\n",
       "\n",
       "                .geemap-colab .jupyter-button {\n",
       "                    --jp-layout-color3: var(--colab-primary-surface-color, white);\n",
       "                }\n",
       "            </style>\n",
       "            "
      ],
      "text/plain": [
       "<IPython.core.display.HTML object>"
      ]
     },
     "metadata": {},
     "output_type": "display_data"
    },
    {
     "data": {
      "text/plain": [
       "'planet_medres_normalized_analytic_2024-03_mosaic'"
      ]
     },
     "execution_count": 20,
     "metadata": {},
     "output_type": "execute_result"
    }
   ],
   "source": [
    "ID_planet[-1]"
   ]
  },
  {
   "cell_type": "code",
   "execution_count": 21,
   "id": "ce657077-25b2-4aea-ad88-a448d9dc3d96",
   "metadata": {},
   "outputs": [
    {
     "data": {
      "text/html": [
       "\n",
       "            <style>\n",
       "                .geemap-dark {\n",
       "                    --jp-widgets-color: white;\n",
       "                    --jp-widgets-label-color: white;\n",
       "                    --jp-ui-font-color1: white;\n",
       "                    --jp-layout-color2: #454545;\n",
       "                    background-color: #383838;\n",
       "                }\n",
       "\n",
       "                .geemap-dark .jupyter-button {\n",
       "                    --jp-layout-color3: #383838;\n",
       "                }\n",
       "\n",
       "                .geemap-colab {\n",
       "                    background-color: var(--colab-primary-surface-color, white);\n",
       "                }\n",
       "\n",
       "                .geemap-colab .jupyter-button {\n",
       "                    --jp-layout-color3: var(--colab-primary-surface-color, white);\n",
       "                }\n",
       "            </style>\n",
       "            "
      ],
      "text/plain": [
       "<IPython.core.display.HTML object>"
      ]
     },
     "metadata": {},
     "output_type": "display_data"
    },
    {
     "data": {
      "text/plain": [
       "'2024-03_mosaic_Planet'"
      ]
     },
     "execution_count": 21,
     "metadata": {},
     "output_type": "execute_result"
    }
   ],
   "source": [
    "ID_planet[-1][-14:]+\"_Planet\""
   ]
  },
  {
   "cell_type": "code",
   "execution_count": 22,
   "id": "fd5bcc3b-a29b-4fbd-a5ee-a37f2fc61247",
   "metadata": {},
   "outputs": [
    {
     "data": {
      "text/html": [
       "\n",
       "            <style>\n",
       "                .geemap-dark {\n",
       "                    --jp-widgets-color: white;\n",
       "                    --jp-widgets-label-color: white;\n",
       "                    --jp-ui-font-color1: white;\n",
       "                    --jp-layout-color2: #454545;\n",
       "                    background-color: #383838;\n",
       "                }\n",
       "\n",
       "                .geemap-dark .jupyter-button {\n",
       "                    --jp-layout-color3: #383838;\n",
       "                }\n",
       "\n",
       "                .geemap-colab {\n",
       "                    background-color: var(--colab-primary-surface-color, white);\n",
       "                }\n",
       "\n",
       "                .geemap-colab .jupyter-button {\n",
       "                    --jp-layout-color3: var(--colab-primary-surface-color, white);\n",
       "                }\n",
       "            </style>\n",
       "            "
      ],
      "text/plain": [
       "<IPython.core.display.HTML object>"
      ]
     },
     "metadata": {},
     "output_type": "display_data"
    }
   ],
   "source": [
    "lista_ID_planet = []"
   ]
  },
  {
   "cell_type": "code",
   "execution_count": 23,
   "id": "feba9b8a-9187-4a92-a59b-872ee43f10d3",
   "metadata": {},
   "outputs": [
    {
     "data": {
      "text/html": [
       "\n",
       "            <style>\n",
       "                .geemap-dark {\n",
       "                    --jp-widgets-color: white;\n",
       "                    --jp-widgets-label-color: white;\n",
       "                    --jp-ui-font-color1: white;\n",
       "                    --jp-layout-color2: #454545;\n",
       "                    background-color: #383838;\n",
       "                }\n",
       "\n",
       "                .geemap-dark .jupyter-button {\n",
       "                    --jp-layout-color3: #383838;\n",
       "                }\n",
       "\n",
       "                .geemap-colab {\n",
       "                    background-color: var(--colab-primary-surface-color, white);\n",
       "                }\n",
       "\n",
       "                .geemap-colab .jupyter-button {\n",
       "                    --jp-layout-color3: var(--colab-primary-surface-color, white);\n",
       "                }\n",
       "            </style>\n",
       "            "
      ],
      "text/plain": [
       "<IPython.core.display.HTML object>"
      ]
     },
     "metadata": {},
     "output_type": "display_data"
    }
   ],
   "source": [
    "for r in range(len(ID_planet)):\n",
    "    lista_ID_planet.append(ID_planet[r][-14:])"
   ]
  },
  {
   "cell_type": "code",
   "execution_count": 24,
   "id": "ec65267a-f50e-4e40-966f-b47ef3dc49a6",
   "metadata": {},
   "outputs": [
    {
     "data": {
      "text/html": [
       "\n",
       "            <style>\n",
       "                .geemap-dark {\n",
       "                    --jp-widgets-color: white;\n",
       "                    --jp-widgets-label-color: white;\n",
       "                    --jp-ui-font-color1: white;\n",
       "                    --jp-layout-color2: #454545;\n",
       "                    background-color: #383838;\n",
       "                }\n",
       "\n",
       "                .geemap-dark .jupyter-button {\n",
       "                    --jp-layout-color3: #383838;\n",
       "                }\n",
       "\n",
       "                .geemap-colab {\n",
       "                    background-color: var(--colab-primary-surface-color, white);\n",
       "                }\n",
       "\n",
       "                .geemap-colab .jupyter-button {\n",
       "                    --jp-layout-color3: var(--colab-primary-surface-color, white);\n",
       "                }\n",
       "            </style>\n",
       "            "
      ],
      "text/plain": [
       "<IPython.core.display.HTML object>"
      ]
     },
     "metadata": {},
     "output_type": "display_data"
    },
    {
     "data": {
      "text/plain": [
       "['2023-06_mosaic',\n",
       " '2023-07_mosaic',\n",
       " '2023-08_mosaic',\n",
       " '2023-09_mosaic',\n",
       " '2023-10_mosaic',\n",
       " '2023-11_mosaic',\n",
       " '2023-12_mosaic',\n",
       " '2024-01_mosaic',\n",
       " '2024-02_mosaic',\n",
       " '2024-03_mosaic']"
      ]
     },
     "execution_count": 24,
     "metadata": {},
     "output_type": "execute_result"
    }
   ],
   "source": [
    "lista_ID_planet"
   ]
  },
  {
   "cell_type": "code",
   "execution_count": 25,
   "id": "9b822321-cad0-4534-88b4-db1560175d4f",
   "metadata": {},
   "outputs": [
    {
     "data": {
      "text/html": [
       "\n",
       "            <style>\n",
       "                .geemap-dark {\n",
       "                    --jp-widgets-color: white;\n",
       "                    --jp-widgets-label-color: white;\n",
       "                    --jp-ui-font-color1: white;\n",
       "                    --jp-layout-color2: #454545;\n",
       "                    background-color: #383838;\n",
       "                }\n",
       "\n",
       "                .geemap-dark .jupyter-button {\n",
       "                    --jp-layout-color3: #383838;\n",
       "                }\n",
       "\n",
       "                .geemap-colab {\n",
       "                    background-color: var(--colab-primary-surface-color, white);\n",
       "                }\n",
       "\n",
       "                .geemap-colab .jupyter-button {\n",
       "                    --jp-layout-color3: var(--colab-primary-surface-color, white);\n",
       "                }\n",
       "            </style>\n",
       "            "
      ],
      "text/plain": [
       "<IPython.core.display.HTML object>"
      ]
     },
     "metadata": {},
     "output_type": "display_data"
    }
   ],
   "source": [
    "tabla_Planet = pd.DataFrame(lista_ID_planet, columns=['ID_planet'])"
   ]
  },
  {
   "cell_type": "code",
   "execution_count": 26,
   "id": "514d3797-fe97-4555-b4df-3cb283a06ee0",
   "metadata": {},
   "outputs": [
    {
     "data": {
      "text/html": [
       "\n",
       "            <style>\n",
       "                .geemap-dark {\n",
       "                    --jp-widgets-color: white;\n",
       "                    --jp-widgets-label-color: white;\n",
       "                    --jp-ui-font-color1: white;\n",
       "                    --jp-layout-color2: #454545;\n",
       "                    background-color: #383838;\n",
       "                }\n",
       "\n",
       "                .geemap-dark .jupyter-button {\n",
       "                    --jp-layout-color3: #383838;\n",
       "                }\n",
       "\n",
       "                .geemap-colab {\n",
       "                    background-color: var(--colab-primary-surface-color, white);\n",
       "                }\n",
       "\n",
       "                .geemap-colab .jupyter-button {\n",
       "                    --jp-layout-color3: var(--colab-primary-surface-color, white);\n",
       "                }\n",
       "            </style>\n",
       "            "
      ],
      "text/plain": [
       "<IPython.core.display.HTML object>"
      ]
     },
     "metadata": {},
     "output_type": "display_data"
    },
    {
     "data": {
      "text/html": [
       "<div>\n",
       "<style scoped>\n",
       "    .dataframe tbody tr th:only-of-type {\n",
       "        vertical-align: middle;\n",
       "    }\n",
       "\n",
       "    .dataframe tbody tr th {\n",
       "        vertical-align: top;\n",
       "    }\n",
       "\n",
       "    .dataframe thead th {\n",
       "        text-align: right;\n",
       "    }\n",
       "</style>\n",
       "<table border=\"1\" class=\"dataframe\">\n",
       "  <thead>\n",
       "    <tr style=\"text-align: right;\">\n",
       "      <th></th>\n",
       "      <th>ID_planet</th>\n",
       "    </tr>\n",
       "  </thead>\n",
       "  <tbody>\n",
       "    <tr>\n",
       "      <th>0</th>\n",
       "      <td>2023-06_mosaic</td>\n",
       "    </tr>\n",
       "    <tr>\n",
       "      <th>1</th>\n",
       "      <td>2023-07_mosaic</td>\n",
       "    </tr>\n",
       "    <tr>\n",
       "      <th>2</th>\n",
       "      <td>2023-08_mosaic</td>\n",
       "    </tr>\n",
       "    <tr>\n",
       "      <th>3</th>\n",
       "      <td>2023-09_mosaic</td>\n",
       "    </tr>\n",
       "  </tbody>\n",
       "</table>\n",
       "</div>"
      ],
      "text/plain": [
       "        ID_planet\n",
       "0  2023-06_mosaic\n",
       "1  2023-07_mosaic\n",
       "2  2023-08_mosaic\n",
       "3  2023-09_mosaic"
      ]
     },
     "execution_count": 26,
     "metadata": {},
     "output_type": "execute_result"
    }
   ],
   "source": [
    "tabla_Planet.head(4)"
   ]
  },
  {
   "cell_type": "code",
   "execution_count": 27,
   "id": "7de3dbed-1740-4886-bd28-e2059720563c",
   "metadata": {},
   "outputs": [
    {
     "data": {
      "text/html": [
       "\n",
       "            <style>\n",
       "                .geemap-dark {\n",
       "                    --jp-widgets-color: white;\n",
       "                    --jp-widgets-label-color: white;\n",
       "                    --jp-ui-font-color1: white;\n",
       "                    --jp-layout-color2: #454545;\n",
       "                    background-color: #383838;\n",
       "                }\n",
       "\n",
       "                .geemap-dark .jupyter-button {\n",
       "                    --jp-layout-color3: #383838;\n",
       "                }\n",
       "\n",
       "                .geemap-colab {\n",
       "                    background-color: var(--colab-primary-surface-color, white);\n",
       "                }\n",
       "\n",
       "                .geemap-colab .jupyter-button {\n",
       "                    --jp-layout-color3: var(--colab-primary-surface-color, white);\n",
       "                }\n",
       "            </style>\n",
       "            "
      ],
      "text/plain": [
       "<IPython.core.display.HTML object>"
      ]
     },
     "metadata": {},
     "output_type": "display_data"
    },
    {
     "data": {
      "text/plain": [
       "'D:\\\\Descarga\\\\Planet'"
      ]
     },
     "execution_count": 27,
     "metadata": {},
     "output_type": "execute_result"
    }
   ],
   "source": [
    "# Concatenar string o texto \n",
    "out_dir_planet = os.path.normpath((os.getcwd() + '/Planet' ))\n",
    "out_dir_planet"
   ]
  },
  {
   "cell_type": "code",
   "execution_count": 28,
   "id": "3ec98853-0697-4d6f-a78f-448fa39d7c07",
   "metadata": {},
   "outputs": [
    {
     "data": {
      "text/html": [
       "\n",
       "            <style>\n",
       "                .geemap-dark {\n",
       "                    --jp-widgets-color: white;\n",
       "                    --jp-widgets-label-color: white;\n",
       "                    --jp-ui-font-color1: white;\n",
       "                    --jp-layout-color2: #454545;\n",
       "                    background-color: #383838;\n",
       "                }\n",
       "\n",
       "                .geemap-dark .jupyter-button {\n",
       "                    --jp-layout-color3: #383838;\n",
       "                }\n",
       "\n",
       "                .geemap-colab {\n",
       "                    background-color: var(--colab-primary-surface-color, white);\n",
       "                }\n",
       "\n",
       "                .geemap-colab .jupyter-button {\n",
       "                    --jp-layout-color3: var(--colab-primary-surface-color, white);\n",
       "                }\n",
       "            </style>\n",
       "            "
      ],
      "text/plain": [
       "<IPython.core.display.HTML object>"
      ]
     },
     "metadata": {},
     "output_type": "display_data"
    },
    {
     "data": {
      "text/plain": [
       "'D:\\\\Descarga\\\\Sentinel2'"
      ]
     },
     "execution_count": 28,
     "metadata": {},
     "output_type": "execute_result"
    }
   ],
   "source": [
    "# Concatenar string o texto \n",
    "out_dir_sentinel2 = os.path.normpath((os.getcwd() + '/Sentinel2' ))\n",
    "out_dir_sentinel2"
   ]
  },
  {
   "cell_type": "code",
   "execution_count": 29,
   "id": "0e096551-c79b-4e7a-aa82-9e1d4cb72dc0",
   "metadata": {},
   "outputs": [
    {
     "data": {
      "text/html": [
       "\n",
       "            <style>\n",
       "                .geemap-dark {\n",
       "                    --jp-widgets-color: white;\n",
       "                    --jp-widgets-label-color: white;\n",
       "                    --jp-ui-font-color1: white;\n",
       "                    --jp-layout-color2: #454545;\n",
       "                    background-color: #383838;\n",
       "                }\n",
       "\n",
       "                .geemap-dark .jupyter-button {\n",
       "                    --jp-layout-color3: #383838;\n",
       "                }\n",
       "\n",
       "                .geemap-colab {\n",
       "                    background-color: var(--colab-primary-surface-color, white);\n",
       "                }\n",
       "\n",
       "                .geemap-colab .jupyter-button {\n",
       "                    --jp-layout-color3: var(--colab-primary-surface-color, white);\n",
       "                }\n",
       "            </style>\n",
       "            "
      ],
      "text/plain": [
       "<IPython.core.display.HTML object>"
      ]
     },
     "metadata": {},
     "output_type": "display_data"
    }
   ],
   "source": [
    "# Crear la carpeta en el directorio\n",
    "os.makedirs(out_dir_planet)\n",
    "os.makedirs(out_dir_sentinel2)"
   ]
  },
  {
   "cell_type": "code",
   "execution_count": 30,
   "id": "0a0b5fee-786e-4c8d-87a5-d1df6d8a6b6f",
   "metadata": {},
   "outputs": [
    {
     "data": {
      "text/html": [
       "\n",
       "            <style>\n",
       "                .geemap-dark {\n",
       "                    --jp-widgets-color: white;\n",
       "                    --jp-widgets-label-color: white;\n",
       "                    --jp-ui-font-color1: white;\n",
       "                    --jp-layout-color2: #454545;\n",
       "                    background-color: #383838;\n",
       "                }\n",
       "\n",
       "                .geemap-dark .jupyter-button {\n",
       "                    --jp-layout-color3: #383838;\n",
       "                }\n",
       "\n",
       "                .geemap-colab {\n",
       "                    background-color: var(--colab-primary-surface-color, white);\n",
       "                }\n",
       "\n",
       "                .geemap-colab .jupyter-button {\n",
       "                    --jp-layout-color3: var(--colab-primary-surface-color, white);\n",
       "                }\n",
       "            </style>\n",
       "            "
      ],
      "text/plain": [
       "<IPython.core.display.HTML object>"
      ]
     },
     "metadata": {},
     "output_type": "display_data"
    }
   ],
   "source": [
    "os.chdir(out_dir_planet)"
   ]
  },
  {
   "cell_type": "code",
   "execution_count": 31,
   "id": "3f856d83-af7b-40a5-aba8-e3a0962b0192",
   "metadata": {},
   "outputs": [
    {
     "data": {
      "text/html": [
       "\n",
       "            <style>\n",
       "                .geemap-dark {\n",
       "                    --jp-widgets-color: white;\n",
       "                    --jp-widgets-label-color: white;\n",
       "                    --jp-ui-font-color1: white;\n",
       "                    --jp-layout-color2: #454545;\n",
       "                    background-color: #383838;\n",
       "                }\n",
       "\n",
       "                .geemap-dark .jupyter-button {\n",
       "                    --jp-layout-color3: #383838;\n",
       "                }\n",
       "\n",
       "                .geemap-colab {\n",
       "                    background-color: var(--colab-primary-surface-color, white);\n",
       "                }\n",
       "\n",
       "                .geemap-colab .jupyter-button {\n",
       "                    --jp-layout-color3: var(--colab-primary-surface-color, white);\n",
       "                }\n",
       "            </style>\n",
       "            "
      ],
      "text/plain": [
       "<IPython.core.display.HTML object>"
      ]
     },
     "metadata": {},
     "output_type": "display_data"
    }
   ],
   "source": [
    "tabla_Planet.to_csv(out_dir_planet+\"/tabla_ID_Planet.csv\")"
   ]
  },
  {
   "cell_type": "code",
   "execution_count": 32,
   "id": "e45e133b-69cd-4eff-bd47-c828493f73b7",
   "metadata": {},
   "outputs": [
    {
     "data": {
      "text/html": [
       "\n",
       "            <style>\n",
       "                .geemap-dark {\n",
       "                    --jp-widgets-color: white;\n",
       "                    --jp-widgets-label-color: white;\n",
       "                    --jp-ui-font-color1: white;\n",
       "                    --jp-layout-color2: #454545;\n",
       "                    background-color: #383838;\n",
       "                }\n",
       "\n",
       "                .geemap-dark .jupyter-button {\n",
       "                    --jp-layout-color3: #383838;\n",
       "                }\n",
       "\n",
       "                .geemap-colab {\n",
       "                    background-color: var(--colab-primary-surface-color, white);\n",
       "                }\n",
       "\n",
       "                .geemap-colab .jupyter-button {\n",
       "                    --jp-layout-color3: var(--colab-primary-surface-color, white);\n",
       "                }\n",
       "            </style>\n",
       "            "
      ],
      "text/plain": [
       "<IPython.core.display.HTML object>"
      ]
     },
     "metadata": {},
     "output_type": "display_data"
    },
    {
     "name": "stdout",
     "output_type": "stream",
     "text": [
      "Generating URL ...\n",
      "Downloading data from https://earthengine.googleapis.com/v1/projects/earthengine-legacy/thumbnails/81e9fa682b175cf697288a09ddb0d6b0-1a280d969605503b14d1ac01ba345309:getPixels\n",
      "Please wait ...\n",
      "Data downloaded to D:\\Descarga\\Planet\\2023-06_mosaic_Planet_Parcela_1.tif\n",
      "Archivo exportado 2023-06_mosaic_Planet_Parcela_1.tif\n",
      "Generating URL ...\n",
      "Downloading data from https://earthengine.googleapis.com/v1/projects/earthengine-legacy/thumbnails/6758bb72e2618889c7c1f85d748e1467-b45f04be72123937bf13edd129dc5700:getPixels\n",
      "Please wait ...\n",
      "Data downloaded to D:\\Descarga\\Planet\\2023-07_mosaic_Planet_Parcela_1.tif\n",
      "Archivo exportado 2023-07_mosaic_Planet_Parcela_1.tif\n",
      "Generating URL ...\n",
      "Downloading data from https://earthengine.googleapis.com/v1/projects/earthengine-legacy/thumbnails/49ba040c054ab4f8829eea51a29bb076-0bcb6a95c71dd11462ef9cab69433582:getPixels\n",
      "Please wait ...\n",
      "Data downloaded to D:\\Descarga\\Planet\\2023-08_mosaic_Planet_Parcela_1.tif\n",
      "Archivo exportado 2023-08_mosaic_Planet_Parcela_1.tif\n",
      "Generating URL ...\n",
      "Downloading data from https://earthengine.googleapis.com/v1/projects/earthengine-legacy/thumbnails/3c07015fe0e02049ee3d210a7a935c35-941eef57e0b45976b151c0c06df2183a:getPixels\n",
      "Please wait ...\n",
      "Data downloaded to D:\\Descarga\\Planet\\2023-09_mosaic_Planet_Parcela_1.tif\n",
      "Archivo exportado 2023-09_mosaic_Planet_Parcela_1.tif\n",
      "Generating URL ...\n",
      "Downloading data from https://earthengine.googleapis.com/v1/projects/earthengine-legacy/thumbnails/c458a1f5d6b76e083ef151b9aec4ff74-37cd940793fcb67de40d99656118953c:getPixels\n",
      "Please wait ...\n",
      "Data downloaded to D:\\Descarga\\Planet\\2023-10_mosaic_Planet_Parcela_1.tif\n",
      "Archivo exportado 2023-10_mosaic_Planet_Parcela_1.tif\n",
      "Generating URL ...\n",
      "Downloading data from https://earthengine.googleapis.com/v1/projects/earthengine-legacy/thumbnails/689a8ffc163ce38b2c6219e318ca9605-ce7857129c033bc2c0103701445802cd:getPixels\n",
      "Please wait ...\n",
      "Data downloaded to D:\\Descarga\\Planet\\2023-11_mosaic_Planet_Parcela_1.tif\n",
      "Archivo exportado 2023-11_mosaic_Planet_Parcela_1.tif\n",
      "Generating URL ...\n",
      "Downloading data from https://earthengine.googleapis.com/v1/projects/earthengine-legacy/thumbnails/de290f7e5cc7b8aea6ffc7f27006b7d2-201ac165b35a63d12f307498b55bd66e:getPixels\n",
      "Please wait ...\n",
      "Data downloaded to D:\\Descarga\\Planet\\2023-12_mosaic_Planet_Parcela_1.tif\n",
      "Archivo exportado 2023-12_mosaic_Planet_Parcela_1.tif\n",
      "Generating URL ...\n",
      "Downloading data from https://earthengine.googleapis.com/v1/projects/earthengine-legacy/thumbnails/7ac4ae2797850022db324c1a1d5f8981-7a8d412b62b2c73bb407529f297a6a71:getPixels\n",
      "Please wait ...\n",
      "Data downloaded to D:\\Descarga\\Planet\\2024-01_mosaic_Planet_Parcela_1.tif\n",
      "Archivo exportado 2024-01_mosaic_Planet_Parcela_1.tif\n",
      "Generating URL ...\n",
      "Downloading data from https://earthengine.googleapis.com/v1/projects/earthengine-legacy/thumbnails/6545ee69564f0fd4d5ceba8e7d47d71d-cf91c2167fdfc3e15757d4339e1d8485:getPixels\n",
      "Please wait ...\n",
      "Data downloaded to D:\\Descarga\\Planet\\2024-02_mosaic_Planet_Parcela_1.tif\n",
      "Archivo exportado 2024-02_mosaic_Planet_Parcela_1.tif\n",
      "Generating URL ...\n",
      "Downloading data from https://earthengine.googleapis.com/v1/projects/earthengine-legacy/thumbnails/68556c7c87b4042e2666752e1116b7fc-bd6161e9116d184290351b67037b6e59:getPixels\n",
      "Please wait ...\n",
      "Data downloaded to D:\\Descarga\\Planet\\2024-03_mosaic_Planet_Parcela_1.tif\n",
      "Archivo exportado 2024-03_mosaic_Planet_Parcela_1.tif\n",
      "Generating URL ...\n",
      "Downloading data from https://earthengine.googleapis.com/v1/projects/earthengine-legacy/thumbnails/261fd5def9213ec778ade9ebb22528c0-897fb0e2cc9cad5636a8ee8761558296:getPixels\n",
      "Please wait ...\n",
      "Data downloaded to D:\\Descarga\\Planet\\2023-06_mosaic_Planet_Parcela_2.tif\n",
      "Archivo exportado 2023-06_mosaic_Planet_Parcela_2.tif\n",
      "Generating URL ...\n",
      "Downloading data from https://earthengine.googleapis.com/v1/projects/earthengine-legacy/thumbnails/640dba1698a38a98fa2f3af1e4303b22-db641a999f31b05ad18694194aeaad70:getPixels\n",
      "Please wait ...\n",
      "Data downloaded to D:\\Descarga\\Planet\\2023-07_mosaic_Planet_Parcela_2.tif\n",
      "Archivo exportado 2023-07_mosaic_Planet_Parcela_2.tif\n",
      "Generating URL ...\n",
      "Downloading data from https://earthengine.googleapis.com/v1/projects/earthengine-legacy/thumbnails/813340ecd789348785ad1ec99ebd9708-54b59de65d5b1eba28911dd1eeeb99e2:getPixels\n",
      "Please wait ...\n",
      "Data downloaded to D:\\Descarga\\Planet\\2023-08_mosaic_Planet_Parcela_2.tif\n",
      "Archivo exportado 2023-08_mosaic_Planet_Parcela_2.tif\n",
      "Generating URL ...\n",
      "Downloading data from https://earthengine.googleapis.com/v1/projects/earthengine-legacy/thumbnails/05ea6a01b1d12ffcd744d10c04a4d8ec-a3768ce687ff8e886a96e9c46a2f8407:getPixels\n",
      "Please wait ...\n",
      "Data downloaded to D:\\Descarga\\Planet\\2023-09_mosaic_Planet_Parcela_2.tif\n",
      "Archivo exportado 2023-09_mosaic_Planet_Parcela_2.tif\n",
      "Generating URL ...\n",
      "Downloading data from https://earthengine.googleapis.com/v1/projects/earthengine-legacy/thumbnails/e5129b472253bdaae2d0d34f22faa918-c4462f17c9cb890fa1393ffe4d992807:getPixels\n",
      "Please wait ...\n",
      "Data downloaded to D:\\Descarga\\Planet\\2023-10_mosaic_Planet_Parcela_2.tif\n",
      "Archivo exportado 2023-10_mosaic_Planet_Parcela_2.tif\n",
      "Generating URL ...\n",
      "Downloading data from https://earthengine.googleapis.com/v1/projects/earthengine-legacy/thumbnails/088b4e5a06e95bd1ab16748c9bb32814-6dfba34fe3f86d09d1bf9425ec61f3b6:getPixels\n",
      "Please wait ...\n",
      "Data downloaded to D:\\Descarga\\Planet\\2023-11_mosaic_Planet_Parcela_2.tif\n",
      "Archivo exportado 2023-11_mosaic_Planet_Parcela_2.tif\n",
      "Generating URL ...\n",
      "Downloading data from https://earthengine.googleapis.com/v1/projects/earthengine-legacy/thumbnails/4763a63d26f6ced11d80cd84f338d563-9b66df1be79610f3d1188742b3e478ec:getPixels\n",
      "Please wait ...\n",
      "Data downloaded to D:\\Descarga\\Planet\\2023-12_mosaic_Planet_Parcela_2.tif\n",
      "Archivo exportado 2023-12_mosaic_Planet_Parcela_2.tif\n",
      "Generating URL ...\n",
      "Downloading data from https://earthengine.googleapis.com/v1/projects/earthengine-legacy/thumbnails/9f2bae8f3aa5d27c434e5238b3e06857-14cb49c833c258bc8c677a6db75f6958:getPixels\n",
      "Please wait ...\n",
      "Data downloaded to D:\\Descarga\\Planet\\2024-01_mosaic_Planet_Parcela_2.tif\n",
      "Archivo exportado 2024-01_mosaic_Planet_Parcela_2.tif\n",
      "Generating URL ...\n",
      "Downloading data from https://earthengine.googleapis.com/v1/projects/earthengine-legacy/thumbnails/ded19966584957e2c286c5ca6c0df197-a3e1f7a58f1293f1d287dd7c033d42e3:getPixels\n",
      "Please wait ...\n",
      "Data downloaded to D:\\Descarga\\Planet\\2024-02_mosaic_Planet_Parcela_2.tif\n",
      "Archivo exportado 2024-02_mosaic_Planet_Parcela_2.tif\n",
      "Generating URL ...\n",
      "Downloading data from https://earthengine.googleapis.com/v1/projects/earthengine-legacy/thumbnails/956fd3ee55a6410c68d51ce0f5b414cb-85a8c7d8df8b5a5742007a1cc2940a67:getPixels\n",
      "Please wait ...\n",
      "Data downloaded to D:\\Descarga\\Planet\\2024-03_mosaic_Planet_Parcela_2.tif\n",
      "Archivo exportado 2024-03_mosaic_Planet_Parcela_2.tif\n",
      "Generating URL ...\n",
      "Downloading data from https://earthengine.googleapis.com/v1/projects/earthengine-legacy/thumbnails/cc344990bcf35ee79c598bf1e199933e-737ce46fa00fe1716aa89d22f780784f:getPixels\n",
      "Please wait ...\n",
      "Data downloaded to D:\\Descarga\\Planet\\2023-06_mosaic_Planet_Parcela_3.tif\n",
      "Archivo exportado 2023-06_mosaic_Planet_Parcela_3.tif\n",
      "Generating URL ...\n",
      "Downloading data from https://earthengine.googleapis.com/v1/projects/earthengine-legacy/thumbnails/4cdab32afd64908eb2bef3311b2fefe0-1f25411396097fe449e219302e3a8f34:getPixels\n",
      "Please wait ...\n",
      "Data downloaded to D:\\Descarga\\Planet\\2023-07_mosaic_Planet_Parcela_3.tif\n",
      "Archivo exportado 2023-07_mosaic_Planet_Parcela_3.tif\n",
      "Generating URL ...\n",
      "Downloading data from https://earthengine.googleapis.com/v1/projects/earthengine-legacy/thumbnails/b220540f4722c7c41e1d2ecae92d84dd-3912df5989b10cc1dc45e8ab2eb405a3:getPixels\n",
      "Please wait ...\n",
      "Data downloaded to D:\\Descarga\\Planet\\2023-08_mosaic_Planet_Parcela_3.tif\n",
      "Archivo exportado 2023-08_mosaic_Planet_Parcela_3.tif\n",
      "Generating URL ...\n",
      "Downloading data from https://earthengine.googleapis.com/v1/projects/earthengine-legacy/thumbnails/b65c9c6c4d4c188fe48a9158c20999cd-4f095f6c6ad4c94903feb4d203da6030:getPixels\n",
      "Please wait ...\n",
      "Data downloaded to D:\\Descarga\\Planet\\2023-09_mosaic_Planet_Parcela_3.tif\n",
      "Archivo exportado 2023-09_mosaic_Planet_Parcela_3.tif\n",
      "Generating URL ...\n",
      "Downloading data from https://earthengine.googleapis.com/v1/projects/earthengine-legacy/thumbnails/8e0845268374dde25b5081b02d11794a-f1e8b21e6f81dbb2e1b18628a655cb18:getPixels\n",
      "Please wait ...\n",
      "Data downloaded to D:\\Descarga\\Planet\\2023-10_mosaic_Planet_Parcela_3.tif\n",
      "Archivo exportado 2023-10_mosaic_Planet_Parcela_3.tif\n",
      "Generating URL ...\n",
      "Downloading data from https://earthengine.googleapis.com/v1/projects/earthengine-legacy/thumbnails/4007133135ea9b45971c1edd34309267-b9886e26986d66782c09699f59e831cf:getPixels\n",
      "Please wait ...\n",
      "Data downloaded to D:\\Descarga\\Planet\\2023-11_mosaic_Planet_Parcela_3.tif\n",
      "Archivo exportado 2023-11_mosaic_Planet_Parcela_3.tif\n",
      "Generating URL ...\n",
      "Downloading data from https://earthengine.googleapis.com/v1/projects/earthengine-legacy/thumbnails/301d2ad3c5441ae071746791d60594c0-ee56a5dad966dceb954204fa45b8a66e:getPixels\n",
      "Please wait ...\n",
      "Data downloaded to D:\\Descarga\\Planet\\2023-12_mosaic_Planet_Parcela_3.tif\n",
      "Archivo exportado 2023-12_mosaic_Planet_Parcela_3.tif\n",
      "Generating URL ...\n",
      "Downloading data from https://earthengine.googleapis.com/v1/projects/earthengine-legacy/thumbnails/ae6c46c8754cef73ca6230039fd37fb9-3128c062c3058fa95becfbd6f334311e:getPixels\n",
      "Please wait ...\n",
      "Data downloaded to D:\\Descarga\\Planet\\2024-01_mosaic_Planet_Parcela_3.tif\n",
      "Archivo exportado 2024-01_mosaic_Planet_Parcela_3.tif\n",
      "Generating URL ...\n",
      "Downloading data from https://earthengine.googleapis.com/v1/projects/earthengine-legacy/thumbnails/5113bea7d6de7ae972854fc4653fb2a7-aa39cf3661e865fcedbbd0f349f8d787:getPixels\n",
      "Please wait ...\n",
      "Data downloaded to D:\\Descarga\\Planet\\2024-02_mosaic_Planet_Parcela_3.tif\n",
      "Archivo exportado 2024-02_mosaic_Planet_Parcela_3.tif\n",
      "Generating URL ...\n",
      "Downloading data from https://earthengine.googleapis.com/v1/projects/earthengine-legacy/thumbnails/3cd9738060dbc25278846fc9e3d1ff32-20819181e24f14ec9f4d3002856abccc:getPixels\n",
      "Please wait ...\n",
      "Data downloaded to D:\\Descarga\\Planet\\2024-03_mosaic_Planet_Parcela_3.tif\n",
      "Archivo exportado 2024-03_mosaic_Planet_Parcela_3.tif\n",
      "Generating URL ...\n",
      "Downloading data from https://earthengine.googleapis.com/v1/projects/earthengine-legacy/thumbnails/cba9558239cb3040856db6896a8c4a52-ca16076d3a2adbb573df1c5e7db40b86:getPixels\n",
      "Please wait ...\n",
      "Data downloaded to D:\\Descarga\\Planet\\2023-06_mosaic_Planet_Parcela_4.tif\n",
      "Archivo exportado 2023-06_mosaic_Planet_Parcela_4.tif\n",
      "Generating URL ...\n",
      "Downloading data from https://earthengine.googleapis.com/v1/projects/earthengine-legacy/thumbnails/40fb0e5507cc618af25367ea3ec27cf9-f4d166bdacd4f69ab4a4adae2a1999d8:getPixels\n",
      "Please wait ...\n",
      "Data downloaded to D:\\Descarga\\Planet\\2023-07_mosaic_Planet_Parcela_4.tif\n",
      "Archivo exportado 2023-07_mosaic_Planet_Parcela_4.tif\n",
      "Generating URL ...\n",
      "Downloading data from https://earthengine.googleapis.com/v1/projects/earthengine-legacy/thumbnails/2dac8376a9a84d3e73c119ffb66ba97b-689f65f8d0df17f96f9de7ed656c62f1:getPixels\n",
      "Please wait ...\n",
      "Data downloaded to D:\\Descarga\\Planet\\2023-08_mosaic_Planet_Parcela_4.tif\n",
      "Archivo exportado 2023-08_mosaic_Planet_Parcela_4.tif\n",
      "Generating URL ...\n",
      "Downloading data from https://earthengine.googleapis.com/v1/projects/earthengine-legacy/thumbnails/62e0cec9f6ebf4167752f96d30e63399-8edeb2ba758cd6278f31de0dbd292f6e:getPixels\n",
      "Please wait ...\n",
      "Data downloaded to D:\\Descarga\\Planet\\2023-09_mosaic_Planet_Parcela_4.tif\n",
      "Archivo exportado 2023-09_mosaic_Planet_Parcela_4.tif\n",
      "Generating URL ...\n",
      "Downloading data from https://earthengine.googleapis.com/v1/projects/earthengine-legacy/thumbnails/647e9801403792e1912287a53faaa2d9-a4188816b17014834d5fc1f8d5432d19:getPixels\n",
      "Please wait ...\n",
      "Data downloaded to D:\\Descarga\\Planet\\2023-10_mosaic_Planet_Parcela_4.tif\n",
      "Archivo exportado 2023-10_mosaic_Planet_Parcela_4.tif\n",
      "Generating URL ...\n",
      "Downloading data from https://earthengine.googleapis.com/v1/projects/earthengine-legacy/thumbnails/1386b7efda9d57be605135db34e06ed8-848c1c97cf425e09755040e2cf4c33af:getPixels\n",
      "Please wait ...\n",
      "Data downloaded to D:\\Descarga\\Planet\\2023-11_mosaic_Planet_Parcela_4.tif\n",
      "Archivo exportado 2023-11_mosaic_Planet_Parcela_4.tif\n",
      "Generating URL ...\n",
      "Downloading data from https://earthengine.googleapis.com/v1/projects/earthengine-legacy/thumbnails/ecb78946a85ac9ed378d8947ed278859-39ac428d64feca7d4295a8ac89778be9:getPixels\n",
      "Please wait ...\n",
      "Data downloaded to D:\\Descarga\\Planet\\2023-12_mosaic_Planet_Parcela_4.tif\n",
      "Archivo exportado 2023-12_mosaic_Planet_Parcela_4.tif\n",
      "Generating URL ...\n",
      "Downloading data from https://earthengine.googleapis.com/v1/projects/earthengine-legacy/thumbnails/c54a232552e6aeab02783a9f0bed6183-dd6cc0e9166e82d210447a406b2ba9ff:getPixels\n",
      "Please wait ...\n",
      "Data downloaded to D:\\Descarga\\Planet\\2024-01_mosaic_Planet_Parcela_4.tif\n",
      "Archivo exportado 2024-01_mosaic_Planet_Parcela_4.tif\n",
      "Generating URL ...\n",
      "Downloading data from https://earthengine.googleapis.com/v1/projects/earthengine-legacy/thumbnails/0266eaedc1d5aa6491e297bd538d6f7c-51bb1a0d85be7bdd0c3e348e1de796c3:getPixels\n",
      "Please wait ...\n",
      "Data downloaded to D:\\Descarga\\Planet\\2024-02_mosaic_Planet_Parcela_4.tif\n",
      "Archivo exportado 2024-02_mosaic_Planet_Parcela_4.tif\n",
      "Generating URL ...\n",
      "Downloading data from https://earthengine.googleapis.com/v1/projects/earthengine-legacy/thumbnails/246a45a4ceb408a4a48cf4b3cd4cda1d-e9b60cfb4dfeb6cbea788f24ff67db95:getPixels\n",
      "Please wait ...\n",
      "Data downloaded to D:\\Descarga\\Planet\\2024-03_mosaic_Planet_Parcela_4.tif\n",
      "Archivo exportado 2024-03_mosaic_Planet_Parcela_4.tif\n"
     ]
    }
   ],
   "source": [
    "for i in range(len(lista_parcela)):\n",
    "    Parcela = ee_zona_gdp.filterMetadata('Nombre', 'equals', lista_parcela[i])\n",
    "    geometria = Parcela.geometry()\n",
    "    name_parcela = lista_parcela[i]\n",
    "    for k in range(len(ID_planet)):\n",
    "        # Mantiene la convención de nombre de archivo original\n",
    "        image = ee.Image(\"projects/planet-nicfi/assets/basemaps/americas\" + \"/\" + ID_planet[k])\n",
    "        # Reproyectar segun zona de estudio\n",
    "        img_RS_es = image.reproject(crs=\"EPSG:32718\", scale=4.7)\n",
    "        # Recortar RS\n",
    "        img_RS_es_clip = img_RS_es.clip(Parcela)\n",
    "        # Descarga metodo 2\n",
    "        geemap.ee_export_image(img_RS_es_clip, \n",
    "                               filename=out_dir_planet+\"/\"+ID_planet[k][-14:]+\"_Planet_\"+name_parcela+\".tif\", \n",
    "                               region=geometria, \n",
    "                               scale=4.77, \n",
    "                               file_per_band=False)\n",
    "        print('Archivo exportado ' + ID_planet[k][-14:]+\"_Planet_\"+name_parcela+\".tif\")"
   ]
  },
  {
   "cell_type": "markdown",
   "id": "0fd052c6-06c9-480d-b76b-590b8c96dc7b",
   "metadata": {},
   "source": [
    "## Descargar Sentinel2"
   ]
  },
  {
   "cell_type": "code",
   "execution_count": 33,
   "id": "3c2f0207-2136-4825-aa30-714e17be2487",
   "metadata": {},
   "outputs": [
    {
     "data": {
      "text/html": [
       "\n",
       "            <style>\n",
       "                .geemap-dark {\n",
       "                    --jp-widgets-color: white;\n",
       "                    --jp-widgets-label-color: white;\n",
       "                    --jp-ui-font-color1: white;\n",
       "                    --jp-layout-color2: #454545;\n",
       "                    background-color: #383838;\n",
       "                }\n",
       "\n",
       "                .geemap-dark .jupyter-button {\n",
       "                    --jp-layout-color3: #383838;\n",
       "                }\n",
       "\n",
       "                .geemap-colab {\n",
       "                    background-color: var(--colab-primary-surface-color, white);\n",
       "                }\n",
       "\n",
       "                .geemap-colab .jupyter-button {\n",
       "                    --jp-layout-color3: var(--colab-primary-surface-color, white);\n",
       "                }\n",
       "            </style>\n",
       "            "
      ],
      "text/plain": [
       "<IPython.core.display.HTML object>"
      ]
     },
     "metadata": {},
     "output_type": "display_data"
    }
   ],
   "source": [
    "lista_ID_S2 = []"
   ]
  },
  {
   "cell_type": "code",
   "execution_count": 34,
   "id": "483d8c44-d507-4d74-a51f-565b930f55e6",
   "metadata": {},
   "outputs": [
    {
     "data": {
      "text/html": [
       "\n",
       "            <style>\n",
       "                .geemap-dark {\n",
       "                    --jp-widgets-color: white;\n",
       "                    --jp-widgets-label-color: white;\n",
       "                    --jp-ui-font-color1: white;\n",
       "                    --jp-layout-color2: #454545;\n",
       "                    background-color: #383838;\n",
       "                }\n",
       "\n",
       "                .geemap-dark .jupyter-button {\n",
       "                    --jp-layout-color3: #383838;\n",
       "                }\n",
       "\n",
       "                .geemap-colab {\n",
       "                    background-color: var(--colab-primary-surface-color, white);\n",
       "                }\n",
       "\n",
       "                .geemap-colab .jupyter-button {\n",
       "                    --jp-layout-color3: var(--colab-primary-surface-color, white);\n",
       "                }\n",
       "            </style>\n",
       "            "
      ],
      "text/plain": [
       "<IPython.core.display.HTML object>"
      ]
     },
     "metadata": {},
     "output_type": "display_data"
    }
   ],
   "source": [
    "os.chdir(out_dir_sentinel2)"
   ]
  },
  {
   "cell_type": "code",
   "execution_count": 35,
   "id": "44af2c84-06bf-4353-bdcc-84d05b50ab26",
   "metadata": {},
   "outputs": [
    {
     "data": {
      "text/html": [
       "\n",
       "            <style>\n",
       "                .geemap-dark {\n",
       "                    --jp-widgets-color: white;\n",
       "                    --jp-widgets-label-color: white;\n",
       "                    --jp-ui-font-color1: white;\n",
       "                    --jp-layout-color2: #454545;\n",
       "                    background-color: #383838;\n",
       "                }\n",
       "\n",
       "                .geemap-dark .jupyter-button {\n",
       "                    --jp-layout-color3: #383838;\n",
       "                }\n",
       "\n",
       "                .geemap-colab {\n",
       "                    background-color: var(--colab-primary-surface-color, white);\n",
       "                }\n",
       "\n",
       "                .geemap-colab .jupyter-button {\n",
       "                    --jp-layout-color3: var(--colab-primary-surface-color, white);\n",
       "                }\n",
       "            </style>\n",
       "            "
      ],
      "text/plain": [
       "<IPython.core.display.HTML object>"
      ]
     },
     "metadata": {},
     "output_type": "display_data"
    },
    {
     "name": "stdout",
     "output_type": "stream",
     "text": [
      "Generating URL ...\n",
      "Downloading data from https://earthengine.googleapis.com/v1/projects/earthengine-legacy/thumbnails/f0ff1aaf7c280d807a1d8f05f29b8b8b-43a4a0d19b86c1bdd97a80318d35cfb7:getPixels\n",
      "Please wait ...\n",
      "Data downloaded to D:\\Descarga\\Sentinel2\\20230602T152641_Parcela_1.tif\n",
      "Archivo exportado 20230602T152641_Parcela_1.tif\n",
      "Generating URL ...\n",
      "Downloading data from https://earthengine.googleapis.com/v1/projects/earthengine-legacy/thumbnails/527242ff0f4151725d0f495c6c2b0ba0-42bb65056f388cada275e1fcb8951935:getPixels\n",
      "Please wait ...\n",
      "Data downloaded to D:\\Descarga\\Sentinel2\\20230602T152641_Parcela_1.tif\n",
      "Archivo exportado 20230602T152641_Parcela_1.tif\n",
      "Generating URL ...\n",
      "Downloading data from https://earthengine.googleapis.com/v1/projects/earthengine-legacy/thumbnails/848b779cddb657e3efb6aa2b3ddb3028-56d32f9111f9af407a3896353a5502c4:getPixels\n",
      "Please wait ...\n",
      "Data downloaded to D:\\Descarga\\Sentinel2\\20230617T152639_Parcela_1.tif\n",
      "Archivo exportado 20230617T152639_Parcela_1.tif\n",
      "Generating URL ...\n",
      "Downloading data from https://earthengine.googleapis.com/v1/projects/earthengine-legacy/thumbnails/7826309b2d75c4c15abba00bcd1ed3e3-5ab701742efaa4ffa035334040d24520:getPixels\n",
      "Please wait ...\n",
      "Data downloaded to D:\\Descarga\\Sentinel2\\20230622T152641_Parcela_1.tif\n",
      "Archivo exportado 20230622T152641_Parcela_1.tif\n",
      "Generating URL ...\n",
      "Downloading data from https://earthengine.googleapis.com/v1/projects/earthengine-legacy/thumbnails/40bd2493b332d8a93ea2e13cf06a6a9d-a35d09a99b70484cb3952ca4a28d5c91:getPixels\n",
      "Please wait ...\n",
      "Data downloaded to D:\\Descarga\\Sentinel2\\20230622T152641_Parcela_1.tif\n",
      "Archivo exportado 20230622T152641_Parcela_1.tif\n",
      "Generating URL ...\n",
      "Downloading data from https://earthengine.googleapis.com/v1/projects/earthengine-legacy/thumbnails/6cd93cdd9bc548d58321254ed3887e04-e8c710ee331e132f452f00325c21207c:getPixels\n",
      "Please wait ...\n",
      "Data downloaded to D:\\Descarga\\Sentinel2\\20230627T152639_Parcela_1.tif\n",
      "Archivo exportado 20230627T152639_Parcela_1.tif\n",
      "Generating URL ...\n",
      "Downloading data from https://earthengine.googleapis.com/v1/projects/earthengine-legacy/thumbnails/556143e8f77eb021916094fe444806ce-057067829ebd7d3c1ce50cbd5de52edc:getPixels\n",
      "Please wait ...\n",
      "Data downloaded to D:\\Descarga\\Sentinel2\\20230627T152639_Parcela_1.tif\n",
      "Archivo exportado 20230627T152639_Parcela_1.tif\n",
      "Generating URL ...\n",
      "Downloading data from https://earthengine.googleapis.com/v1/projects/earthengine-legacy/thumbnails/25f58f9586ec58f0ddabe5e9034861b5-40c0b454e8000f6b19dffecf08091fca:getPixels\n",
      "Please wait ...\n",
      "Data downloaded to D:\\Descarga\\Sentinel2\\20230702T152641_Parcela_1.tif\n",
      "Archivo exportado 20230702T152641_Parcela_1.tif\n",
      "Generating URL ...\n",
      "Downloading data from https://earthengine.googleapis.com/v1/projects/earthengine-legacy/thumbnails/f09d85c885cacb5f67ed0379e88ea1e6-4c66c0b811293db0c5eb6c33cef778a4:getPixels\n",
      "Please wait ...\n",
      "Data downloaded to D:\\Descarga\\Sentinel2\\20230702T152641_Parcela_1.tif\n",
      "Archivo exportado 20230702T152641_Parcela_1.tif\n",
      "Generating URL ...\n",
      "Downloading data from https://earthengine.googleapis.com/v1/projects/earthengine-legacy/thumbnails/ca25b74ce27b00f9778d0efe7621ea75-0411d7c38d6323cc0b20edd296a7e8cd:getPixels\n",
      "Please wait ...\n",
      "Data downloaded to D:\\Descarga\\Sentinel2\\20230707T152649_Parcela_1.tif\n",
      "Archivo exportado 20230707T152649_Parcela_1.tif\n",
      "Generating URL ...\n",
      "Downloading data from https://earthengine.googleapis.com/v1/projects/earthengine-legacy/thumbnails/1d141b4336222e3850db58b4b1079fe0-170fc68d8739197749d5bddf6402196c:getPixels\n",
      "Please wait ...\n",
      "Data downloaded to D:\\Descarga\\Sentinel2\\20230707T152649_Parcela_1.tif\n",
      "Archivo exportado 20230707T152649_Parcela_1.tif\n",
      "Generating URL ...\n",
      "Downloading data from https://earthengine.googleapis.com/v1/projects/earthengine-legacy/thumbnails/45c1a968abdf98a9dcbc03701fa4f10e-e816d25c19fead58ba7395f9adfaf91a:getPixels\n",
      "Please wait ...\n",
      "Data downloaded to D:\\Descarga\\Sentinel2\\20230712T152641_Parcela_1.tif\n",
      "Archivo exportado 20230712T152641_Parcela_1.tif\n",
      "Generating URL ...\n",
      "Downloading data from https://earthengine.googleapis.com/v1/projects/earthengine-legacy/thumbnails/723fd34dea0aa25b630a4d375c1ddcea-88dc9bf59e09abbafe3d2fd0ea715cf2:getPixels\n",
      "Please wait ...\n",
      "Data downloaded to D:\\Descarga\\Sentinel2\\20230712T152641_Parcela_1.tif\n",
      "Archivo exportado 20230712T152641_Parcela_1.tif\n",
      "Generating URL ...\n",
      "Downloading data from https://earthengine.googleapis.com/v1/projects/earthengine-legacy/thumbnails/52064e90e3fd98a0902901ce10485dc6-354ee08f645fcbafad6a7c57471f4dad:getPixels\n",
      "Please wait ...\n",
      "Data downloaded to D:\\Descarga\\Sentinel2\\20230717T152649_Parcela_1.tif\n",
      "Archivo exportado 20230717T152649_Parcela_1.tif\n",
      "Generating URL ...\n",
      "Downloading data from https://earthengine.googleapis.com/v1/projects/earthengine-legacy/thumbnails/89cdec61bac7839dc301513e6e0b5cfa-6f5bc793bb51f9abf681a045ec37f783:getPixels\n",
      "Please wait ...\n",
      "Data downloaded to D:\\Descarga\\Sentinel2\\20230717T152649_Parcela_1.tif\n",
      "Archivo exportado 20230717T152649_Parcela_1.tif\n",
      "Generating URL ...\n",
      "Downloading data from https://earthengine.googleapis.com/v1/projects/earthengine-legacy/thumbnails/77682aee7831b885218358ac63619bba-10c9047b8352030e44943ff3ee077bfe:getPixels\n",
      "Please wait ...\n",
      "Data downloaded to D:\\Descarga\\Sentinel2\\20230722T152641_Parcela_1.tif\n",
      "Archivo exportado 20230722T152641_Parcela_1.tif\n",
      "Generating URL ...\n",
      "Downloading data from https://earthengine.googleapis.com/v1/projects/earthengine-legacy/thumbnails/6b62dc2b0ee32fe57f6396779291c39a-85a603af0ddd2c3e236bca8be372484e:getPixels\n",
      "Please wait ...\n",
      "Data downloaded to D:\\Descarga\\Sentinel2\\20230722T152641_Parcela_1.tif\n",
      "Archivo exportado 20230722T152641_Parcela_1.tif\n",
      "Generating URL ...\n",
      "Downloading data from https://earthengine.googleapis.com/v1/projects/earthengine-legacy/thumbnails/93418db4ba9da5f043117542e3d1f0ea-7defe3e58fdcf0c5122ae7a44305a1de:getPixels\n",
      "Please wait ...\n",
      "Data downloaded to D:\\Descarga\\Sentinel2\\20230727T152649_Parcela_1.tif\n",
      "Archivo exportado 20230727T152649_Parcela_1.tif\n",
      "Generating URL ...\n",
      "Downloading data from https://earthengine.googleapis.com/v1/projects/earthengine-legacy/thumbnails/792986e8f49a9c5fef7f70dadfeaab7e-b4488546c0312edb190c054f8a6890e8:getPixels\n",
      "Please wait ...\n",
      "Data downloaded to D:\\Descarga\\Sentinel2\\20230727T152649_Parcela_1.tif\n",
      "Archivo exportado 20230727T152649_Parcela_1.tif\n",
      "Generating URL ...\n",
      "Downloading data from https://earthengine.googleapis.com/v1/projects/earthengine-legacy/thumbnails/e7b38d1ff38c508398295ab1e3a46198-b7ec4c0c7867c6b3f4b9f5d86a3ae50c:getPixels\n",
      "Please wait ...\n",
      "Data downloaded to D:\\Descarga\\Sentinel2\\20230801T152641_Parcela_1.tif\n",
      "Archivo exportado 20230801T152641_Parcela_1.tif\n",
      "Generating URL ...\n",
      "Downloading data from https://earthengine.googleapis.com/v1/projects/earthengine-legacy/thumbnails/1aeed898bfbb3ebbe493b77ec38600e5-b5100537214ced28053b10decc19743d:getPixels\n",
      "Please wait ...\n",
      "Data downloaded to D:\\Descarga\\Sentinel2\\20230801T152641_Parcela_1.tif\n",
      "Archivo exportado 20230801T152641_Parcela_1.tif\n",
      "Generating URL ...\n",
      "Downloading data from https://earthengine.googleapis.com/v1/projects/earthengine-legacy/thumbnails/c3ab923a29efa2920eb7b7dc6841887d-fa4e5be4bea26a0468c54b7860f79941:getPixels\n",
      "Please wait ...\n",
      "Data downloaded to D:\\Descarga\\Sentinel2\\20230806T152649_Parcela_1.tif\n",
      "Archivo exportado 20230806T152649_Parcela_1.tif\n",
      "Generating URL ...\n",
      "Downloading data from https://earthengine.googleapis.com/v1/projects/earthengine-legacy/thumbnails/7501e0bdc0b0fbe9fc37e12e8ac22b3c-9a56a2bc371ad758cfdc8b3424e0b042:getPixels\n",
      "Please wait ...\n",
      "Data downloaded to D:\\Descarga\\Sentinel2\\20230806T152649_Parcela_1.tif\n",
      "Archivo exportado 20230806T152649_Parcela_1.tif\n",
      "Generating URL ...\n",
      "Downloading data from https://earthengine.googleapis.com/v1/projects/earthengine-legacy/thumbnails/540edc682b6ba62fd374114635e1a1fc-86f35d74c6fc5194ce429d52d84119ff:getPixels\n",
      "Please wait ...\n",
      "Data downloaded to D:\\Descarga\\Sentinel2\\20230811T152641_Parcela_1.tif\n",
      "Archivo exportado 20230811T152641_Parcela_1.tif\n",
      "Generating URL ...\n",
      "Downloading data from https://earthengine.googleapis.com/v1/projects/earthengine-legacy/thumbnails/8e81e42e2acd249c77d131ed9635606e-bdda677c68cea849888de6a1614c60b1:getPixels\n",
      "Please wait ...\n",
      "Data downloaded to D:\\Descarga\\Sentinel2\\20230816T152649_Parcela_1.tif\n",
      "Archivo exportado 20230816T152649_Parcela_1.tif\n",
      "Generating URL ...\n",
      "Downloading data from https://earthengine.googleapis.com/v1/projects/earthengine-legacy/thumbnails/e46ae7b58b64ee473225042270acfed9-b8319c14283d298f169e017dc7ad1225:getPixels\n",
      "Please wait ...\n",
      "Data downloaded to D:\\Descarga\\Sentinel2\\20230816T152649_Parcela_1.tif\n",
      "Archivo exportado 20230816T152649_Parcela_1.tif\n",
      "Generating URL ...\n",
      "Downloading data from https://earthengine.googleapis.com/v1/projects/earthengine-legacy/thumbnails/f2da72bf48ff6b70f0191c32c2916002-b0fcb9153499788273a6218d3f1794b8:getPixels\n",
      "Please wait ...\n",
      "Data downloaded to D:\\Descarga\\Sentinel2\\20230821T152641_Parcela_1.tif\n",
      "Archivo exportado 20230821T152641_Parcela_1.tif\n",
      "Generating URL ...\n",
      "Downloading data from https://earthengine.googleapis.com/v1/projects/earthengine-legacy/thumbnails/d414df3885adfcc0bdaa34bffcbd0a8e-151ec23a3beb21959833010394ff0b47:getPixels\n",
      "Please wait ...\n",
      "Data downloaded to D:\\Descarga\\Sentinel2\\20230821T152641_Parcela_1.tif\n",
      "Archivo exportado 20230821T152641_Parcela_1.tif\n",
      "Generating URL ...\n",
      "Downloading data from https://earthengine.googleapis.com/v1/projects/earthengine-legacy/thumbnails/3388349cf96d89d411d5899b07e2a7c5-fb9b353da5859903f998a36939caeec0:getPixels\n",
      "Please wait ...\n",
      "Data downloaded to D:\\Descarga\\Sentinel2\\20230831T152641_Parcela_1.tif\n",
      "Archivo exportado 20230831T152641_Parcela_1.tif\n",
      "Generating URL ...\n",
      "Downloading data from https://earthengine.googleapis.com/v1/projects/earthengine-legacy/thumbnails/b621699714ab258477944eb9a159471e-b9ab9eb96007660c3717c65749f36573:getPixels\n",
      "Please wait ...\n",
      "Data downloaded to D:\\Descarga\\Sentinel2\\20230910T152641_Parcela_1.tif\n",
      "Archivo exportado 20230910T152641_Parcela_1.tif\n",
      "Generating URL ...\n",
      "Downloading data from https://earthengine.googleapis.com/v1/projects/earthengine-legacy/thumbnails/cdd758d160765b32bbc27fa1839c34cd-e3e0aad3c7d7d2f322507fb5a7b74b6b:getPixels\n",
      "Please wait ...\n",
      "Data downloaded to D:\\Descarga\\Sentinel2\\20230925T152639_Parcela_1.tif\n",
      "Archivo exportado 20230925T152639_Parcela_1.tif\n",
      "Generating URL ...\n",
      "Downloading data from https://earthengine.googleapis.com/v1/projects/earthengine-legacy/thumbnails/4282fa72fbda1d7a142ca18849ce46c0-17aa1a119ce7578846538d907efaf728:getPixels\n",
      "Please wait ...\n",
      "Data downloaded to D:\\Descarga\\Sentinel2\\20240328T152651_Parcela_1.tif\n",
      "Archivo exportado 20240328T152651_Parcela_1.tif\n",
      "Generating URL ...\n",
      "Downloading data from https://earthengine.googleapis.com/v1/projects/earthengine-legacy/thumbnails/dc07c376ae5daaf7830f3adbf8b29571-37cf5a509fa403453b77e1cb599de0e6:getPixels\n",
      "Please wait ...\n",
      "Data downloaded to D:\\Descarga\\Sentinel2\\20230602T152641_Parcela_2.tif\n",
      "Archivo exportado 20230602T152641_Parcela_2.tif\n",
      "Generating URL ...\n",
      "Downloading data from https://earthengine.googleapis.com/v1/projects/earthengine-legacy/thumbnails/92c668f0957e9b4739ebd012479d09f2-94437e2e8043c942a639a157b748a833:getPixels\n",
      "Please wait ...\n",
      "Data downloaded to D:\\Descarga\\Sentinel2\\20230602T152641_Parcela_2.tif\n",
      "Archivo exportado 20230602T152641_Parcela_2.tif\n",
      "Generating URL ...\n",
      "Downloading data from https://earthengine.googleapis.com/v1/projects/earthengine-legacy/thumbnails/ef8f7d04af95be3b2e47b67dbe8e4f77-f23ee400b9a41510e924b3fa6e91a1a0:getPixels\n",
      "Please wait ...\n",
      "Data downloaded to D:\\Descarga\\Sentinel2\\20230617T152639_Parcela_2.tif\n",
      "Archivo exportado 20230617T152639_Parcela_2.tif\n",
      "Generating URL ...\n",
      "Downloading data from https://earthengine.googleapis.com/v1/projects/earthengine-legacy/thumbnails/46a9707b65670909d452e11ea58d13f6-2958667eb2b1ffa51146eb2123872099:getPixels\n",
      "Please wait ...\n",
      "Data downloaded to D:\\Descarga\\Sentinel2\\20230622T152641_Parcela_2.tif\n",
      "Archivo exportado 20230622T152641_Parcela_2.tif\n",
      "Generating URL ...\n",
      "Downloading data from https://earthengine.googleapis.com/v1/projects/earthengine-legacy/thumbnails/f792d7f3adb5f749c54955fbc9cd03e6-11c3af79cae99088eb0eb2444b7af9fa:getPixels\n",
      "Please wait ...\n",
      "Data downloaded to D:\\Descarga\\Sentinel2\\20230622T152641_Parcela_2.tif\n",
      "Archivo exportado 20230622T152641_Parcela_2.tif\n",
      "Generating URL ...\n",
      "Downloading data from https://earthengine.googleapis.com/v1/projects/earthengine-legacy/thumbnails/eae7c8db5a64649785b059068876b2dd-accfada72540ecd8daec50e856f80e36:getPixels\n",
      "Please wait ...\n",
      "Data downloaded to D:\\Descarga\\Sentinel2\\20230627T152639_Parcela_2.tif\n",
      "Archivo exportado 20230627T152639_Parcela_2.tif\n",
      "Generating URL ...\n",
      "Downloading data from https://earthengine.googleapis.com/v1/projects/earthengine-legacy/thumbnails/4072363d8c2f4fd13eafb3c5eb646bd5-550ad9e3e53e2732a225e5220d1f393c:getPixels\n",
      "Please wait ...\n",
      "Data downloaded to D:\\Descarga\\Sentinel2\\20230627T152639_Parcela_2.tif\n",
      "Archivo exportado 20230627T152639_Parcela_2.tif\n",
      "Generating URL ...\n",
      "Downloading data from https://earthengine.googleapis.com/v1/projects/earthengine-legacy/thumbnails/80caf97379d4cadd4118bfa68931ec53-8bf157a0ef3e1b189ae63d6567d96edc:getPixels\n",
      "Please wait ...\n",
      "Data downloaded to D:\\Descarga\\Sentinel2\\20230702T152641_Parcela_2.tif\n",
      "Archivo exportado 20230702T152641_Parcela_2.tif\n",
      "Generating URL ...\n",
      "Downloading data from https://earthengine.googleapis.com/v1/projects/earthengine-legacy/thumbnails/f7bbd6d5f2c206dcabbfc40a65dbc17b-110a087b17ffaf95ef004655ac28bfdd:getPixels\n",
      "Please wait ...\n",
      "Data downloaded to D:\\Descarga\\Sentinel2\\20230702T152641_Parcela_2.tif\n",
      "Archivo exportado 20230702T152641_Parcela_2.tif\n",
      "Generating URL ...\n",
      "Downloading data from https://earthengine.googleapis.com/v1/projects/earthengine-legacy/thumbnails/db9197f1c9d059542f0be14fec12fbe5-64e691e1d5263144a9c6a305c25694ac:getPixels\n",
      "Please wait ...\n",
      "Data downloaded to D:\\Descarga\\Sentinel2\\20230707T152649_Parcela_2.tif\n",
      "Archivo exportado 20230707T152649_Parcela_2.tif\n",
      "Generating URL ...\n",
      "Downloading data from https://earthengine.googleapis.com/v1/projects/earthengine-legacy/thumbnails/9b4aedf4eb71ff883df31b7d406902d9-44aedabbc332008b70cd93a54ae04660:getPixels\n",
      "Please wait ...\n",
      "Data downloaded to D:\\Descarga\\Sentinel2\\20230707T152649_Parcela_2.tif\n",
      "Archivo exportado 20230707T152649_Parcela_2.tif\n",
      "Generating URL ...\n",
      "Downloading data from https://earthengine.googleapis.com/v1/projects/earthengine-legacy/thumbnails/f7832f775e505b213f93eac9fad0f4e7-7ae4ea54568138c54b6a0ca8a4c7c641:getPixels\n",
      "Please wait ...\n",
      "Data downloaded to D:\\Descarga\\Sentinel2\\20230712T152641_Parcela_2.tif\n",
      "Archivo exportado 20230712T152641_Parcela_2.tif\n",
      "Generating URL ...\n",
      "Downloading data from https://earthengine.googleapis.com/v1/projects/earthengine-legacy/thumbnails/841fff669f7e4a4aef7dc002cc00359b-5e7331433617ad89b13c049169e98300:getPixels\n",
      "Please wait ...\n",
      "Data downloaded to D:\\Descarga\\Sentinel2\\20230712T152641_Parcela_2.tif\n",
      "Archivo exportado 20230712T152641_Parcela_2.tif\n",
      "Generating URL ...\n",
      "Downloading data from https://earthengine.googleapis.com/v1/projects/earthengine-legacy/thumbnails/be4a200c1a48922268fb4b3a69cbea66-b688802bd64cdc488a277eace027af5a:getPixels\n",
      "Please wait ...\n",
      "Data downloaded to D:\\Descarga\\Sentinel2\\20230717T152649_Parcela_2.tif\n",
      "Archivo exportado 20230717T152649_Parcela_2.tif\n",
      "Generating URL ...\n",
      "Downloading data from https://earthengine.googleapis.com/v1/projects/earthengine-legacy/thumbnails/24eb87737dee43d8b790bdc8c5328196-eaf597802b635a4747a180fcbf1060fe:getPixels\n",
      "Please wait ...\n",
      "Data downloaded to D:\\Descarga\\Sentinel2\\20230717T152649_Parcela_2.tif\n",
      "Archivo exportado 20230717T152649_Parcela_2.tif\n",
      "Generating URL ...\n",
      "Downloading data from https://earthengine.googleapis.com/v1/projects/earthengine-legacy/thumbnails/7b62b2d2c33c764cef678cca6327701a-631a1137fce449106eca66c439a980c6:getPixels\n",
      "Please wait ...\n",
      "Data downloaded to D:\\Descarga\\Sentinel2\\20230722T152641_Parcela_2.tif\n",
      "Archivo exportado 20230722T152641_Parcela_2.tif\n",
      "Generating URL ...\n",
      "Downloading data from https://earthengine.googleapis.com/v1/projects/earthengine-legacy/thumbnails/bf56864b10ff9dc84738fb5730774a11-4b92bc6cb2646bcd7909e0806cbf8e67:getPixels\n",
      "Please wait ...\n",
      "Data downloaded to D:\\Descarga\\Sentinel2\\20230722T152641_Parcela_2.tif\n",
      "Archivo exportado 20230722T152641_Parcela_2.tif\n",
      "Generating URL ...\n",
      "Downloading data from https://earthengine.googleapis.com/v1/projects/earthengine-legacy/thumbnails/fd1bede6f6180add005afc80a19f7701-a3ea2e75a03ef773d464db8e684cdaae:getPixels\n",
      "Please wait ...\n",
      "Data downloaded to D:\\Descarga\\Sentinel2\\20230727T152649_Parcela_2.tif\n",
      "Archivo exportado 20230727T152649_Parcela_2.tif\n",
      "Generating URL ...\n",
      "Downloading data from https://earthengine.googleapis.com/v1/projects/earthengine-legacy/thumbnails/0d300ba711d7b132516da125b4ba7abc-93ae4a669a65842087ee216e1afdb4cf:getPixels\n",
      "Please wait ...\n",
      "Data downloaded to D:\\Descarga\\Sentinel2\\20230727T152649_Parcela_2.tif\n",
      "Archivo exportado 20230727T152649_Parcela_2.tif\n",
      "Generating URL ...\n",
      "Downloading data from https://earthengine.googleapis.com/v1/projects/earthengine-legacy/thumbnails/c3c70fee49ffbf95ff73e0b23c3f2312-88c9a94b80796f27c35be00020802d08:getPixels\n",
      "Please wait ...\n",
      "Data downloaded to D:\\Descarga\\Sentinel2\\20230801T152641_Parcela_2.tif\n",
      "Archivo exportado 20230801T152641_Parcela_2.tif\n",
      "Generating URL ...\n",
      "Downloading data from https://earthengine.googleapis.com/v1/projects/earthengine-legacy/thumbnails/33fb73f43dea3a8508067c1010d40690-b1b9c68750d0697ccbd6421cfbd9b96c:getPixels\n",
      "Please wait ...\n",
      "Data downloaded to D:\\Descarga\\Sentinel2\\20230801T152641_Parcela_2.tif\n",
      "Archivo exportado 20230801T152641_Parcela_2.tif\n",
      "Generating URL ...\n",
      "Downloading data from https://earthengine.googleapis.com/v1/projects/earthengine-legacy/thumbnails/ecc83d25a36eafba1f1a192e7dfb5d33-228902841a71ef8ba245db22f08eb5fb:getPixels\n",
      "Please wait ...\n",
      "Data downloaded to D:\\Descarga\\Sentinel2\\20230806T152649_Parcela_2.tif\n",
      "Archivo exportado 20230806T152649_Parcela_2.tif\n",
      "Generating URL ...\n",
      "Downloading data from https://earthengine.googleapis.com/v1/projects/earthengine-legacy/thumbnails/4d341780fa525dab7af2cc3ca0e12539-e77a2db718953a14ff65d0433bf2ac2a:getPixels\n",
      "Please wait ...\n",
      "Data downloaded to D:\\Descarga\\Sentinel2\\20230806T152649_Parcela_2.tif\n",
      "Archivo exportado 20230806T152649_Parcela_2.tif\n",
      "Generating URL ...\n",
      "Downloading data from https://earthengine.googleapis.com/v1/projects/earthengine-legacy/thumbnails/0a67bf6ccbb3f06e46ea15e111e8563b-2d90e658c44da6a2bd0717864320f0c1:getPixels\n",
      "Please wait ...\n",
      "Data downloaded to D:\\Descarga\\Sentinel2\\20230811T152641_Parcela_2.tif\n",
      "Archivo exportado 20230811T152641_Parcela_2.tif\n",
      "Generating URL ...\n",
      "Downloading data from https://earthengine.googleapis.com/v1/projects/earthengine-legacy/thumbnails/b1a5e83a0f780fde8da10ecb177e0751-8b4151c2cab3f6f127aaee59748d4ef5:getPixels\n",
      "Please wait ...\n",
      "Data downloaded to D:\\Descarga\\Sentinel2\\20230816T152649_Parcela_2.tif\n",
      "Archivo exportado 20230816T152649_Parcela_2.tif\n",
      "Generating URL ...\n",
      "Downloading data from https://earthengine.googleapis.com/v1/projects/earthengine-legacy/thumbnails/28636f2d914c75c4b5899113945eb048-5494abff5c4842ee5429e505e52987ad:getPixels\n",
      "Please wait ...\n",
      "Data downloaded to D:\\Descarga\\Sentinel2\\20230816T152649_Parcela_2.tif\n",
      "Archivo exportado 20230816T152649_Parcela_2.tif\n",
      "Generating URL ...\n",
      "Downloading data from https://earthengine.googleapis.com/v1/projects/earthengine-legacy/thumbnails/03c90dd9e7c6b1f4993ff2c73ac536d9-505957b7fc8b43af43823392dd2f6b3f:getPixels\n",
      "Please wait ...\n",
      "Data downloaded to D:\\Descarga\\Sentinel2\\20230821T152641_Parcela_2.tif\n",
      "Archivo exportado 20230821T152641_Parcela_2.tif\n",
      "Generating URL ...\n",
      "Downloading data from https://earthengine.googleapis.com/v1/projects/earthengine-legacy/thumbnails/5042718416a51c7bacdc88f766c24adc-3cce158351cded7d123f5511fc2b455b:getPixels\n",
      "Please wait ...\n",
      "Data downloaded to D:\\Descarga\\Sentinel2\\20230821T152641_Parcela_2.tif\n",
      "Archivo exportado 20230821T152641_Parcela_2.tif\n",
      "Generating URL ...\n",
      "Downloading data from https://earthengine.googleapis.com/v1/projects/earthengine-legacy/thumbnails/c292e1f623995ffee5e155e26409d485-39c7a41313e0d8debd2eac8d93620990:getPixels\n",
      "Please wait ...\n",
      "Data downloaded to D:\\Descarga\\Sentinel2\\20230831T152641_Parcela_2.tif\n",
      "Archivo exportado 20230831T152641_Parcela_2.tif\n",
      "Generating URL ...\n",
      "Downloading data from https://earthengine.googleapis.com/v1/projects/earthengine-legacy/thumbnails/fc224f6c3682a036ccd5e1bb93468350-20b36c1f52f28029415a5b0b82255a0f:getPixels\n",
      "Please wait ...\n",
      "Data downloaded to D:\\Descarga\\Sentinel2\\20230910T152641_Parcela_2.tif\n",
      "Archivo exportado 20230910T152641_Parcela_2.tif\n",
      "Generating URL ...\n",
      "Downloading data from https://earthengine.googleapis.com/v1/projects/earthengine-legacy/thumbnails/0253195b23fceed0091bd813a56d7362-cefbdc84d696b254bcc3e72968d68627:getPixels\n",
      "Please wait ...\n",
      "Data downloaded to D:\\Descarga\\Sentinel2\\20230925T152639_Parcela_2.tif\n",
      "Archivo exportado 20230925T152639_Parcela_2.tif\n",
      "Generating URL ...\n",
      "Downloading data from https://earthengine.googleapis.com/v1/projects/earthengine-legacy/thumbnails/c62b563836ed369affadfb1a6c690219-29c4b1b30ac336ce9d057fc45f78b527:getPixels\n",
      "Please wait ...\n",
      "Data downloaded to D:\\Descarga\\Sentinel2\\20240328T152651_Parcela_2.tif\n",
      "Archivo exportado 20240328T152651_Parcela_2.tif\n",
      "Generating URL ...\n",
      "Downloading data from https://earthengine.googleapis.com/v1/projects/earthengine-legacy/thumbnails/4fbe995bc34a0eb4845f6a49336aaccc-8239d44735fe5e0d570588af4208d82a:getPixels\n",
      "Please wait ...\n",
      "Data downloaded to D:\\Descarga\\Sentinel2\\20230602T152641_Parcela_3.tif\n",
      "Archivo exportado 20230602T152641_Parcela_3.tif\n",
      "Generating URL ...\n",
      "Downloading data from https://earthengine.googleapis.com/v1/projects/earthengine-legacy/thumbnails/7c8c2848da58569142792e819c0d7d2f-377274a3e5e82682ef04d7d8198035ad:getPixels\n",
      "Please wait ...\n",
      "Data downloaded to D:\\Descarga\\Sentinel2\\20230602T152641_Parcela_3.tif\n",
      "Archivo exportado 20230602T152641_Parcela_3.tif\n",
      "Generating URL ...\n",
      "Downloading data from https://earthengine.googleapis.com/v1/projects/earthengine-legacy/thumbnails/7e7fdb0a31e7afd7ed00000a9b8d549f-05cc1525ab2f72483b1424a2e6fa935a:getPixels\n",
      "Please wait ...\n",
      "Data downloaded to D:\\Descarga\\Sentinel2\\20230617T152639_Parcela_3.tif\n",
      "Archivo exportado 20230617T152639_Parcela_3.tif\n",
      "Generating URL ...\n",
      "Downloading data from https://earthengine.googleapis.com/v1/projects/earthengine-legacy/thumbnails/97ef87f3e3e4b91fd9f805f502279e3d-e58c23b83fceb100333e2489dbb137a1:getPixels\n",
      "Please wait ...\n",
      "Data downloaded to D:\\Descarga\\Sentinel2\\20230622T152641_Parcela_3.tif\n",
      "Archivo exportado 20230622T152641_Parcela_3.tif\n",
      "Generating URL ...\n",
      "Downloading data from https://earthengine.googleapis.com/v1/projects/earthengine-legacy/thumbnails/da36cde1d7496237039f84d2e1ad8e18-56d7497882a6a672342bee9c95dd5abd:getPixels\n",
      "Please wait ...\n",
      "Data downloaded to D:\\Descarga\\Sentinel2\\20230622T152641_Parcela_3.tif\n",
      "Archivo exportado 20230622T152641_Parcela_3.tif\n",
      "Generating URL ...\n",
      "Downloading data from https://earthengine.googleapis.com/v1/projects/earthengine-legacy/thumbnails/1cf5eb95f27401a125d1b60d1c04d08d-2ab22073f743e8c229855c1bcf0de255:getPixels\n",
      "Please wait ...\n",
      "Data downloaded to D:\\Descarga\\Sentinel2\\20230627T152639_Parcela_3.tif\n",
      "Archivo exportado 20230627T152639_Parcela_3.tif\n",
      "Generating URL ...\n",
      "Downloading data from https://earthengine.googleapis.com/v1/projects/earthengine-legacy/thumbnails/04b1689f19df8e5449dfb77aa2e92325-56bbebda640089bf3931e83be5534a29:getPixels\n",
      "Please wait ...\n",
      "Data downloaded to D:\\Descarga\\Sentinel2\\20230627T152639_Parcela_3.tif\n",
      "Archivo exportado 20230627T152639_Parcela_3.tif\n",
      "Generating URL ...\n",
      "Downloading data from https://earthengine.googleapis.com/v1/projects/earthengine-legacy/thumbnails/1bf8b98f62f2bda8e407526e2fa2812a-f12c6b13646b2eac4c027c47430ba6e1:getPixels\n",
      "Please wait ...\n",
      "Data downloaded to D:\\Descarga\\Sentinel2\\20230702T152641_Parcela_3.tif\n",
      "Archivo exportado 20230702T152641_Parcela_3.tif\n",
      "Generating URL ...\n",
      "Downloading data from https://earthengine.googleapis.com/v1/projects/earthengine-legacy/thumbnails/390db7a3c4d378359c6d78861b81d3d7-90abeeb2fe58f4737cd9a1fb69de70af:getPixels\n",
      "Please wait ...\n",
      "Data downloaded to D:\\Descarga\\Sentinel2\\20230702T152641_Parcela_3.tif\n",
      "Archivo exportado 20230702T152641_Parcela_3.tif\n",
      "Generating URL ...\n",
      "Downloading data from https://earthengine.googleapis.com/v1/projects/earthengine-legacy/thumbnails/d07472943dbe11d6050139740527e48e-76662a1eaecc0a15b3b9bd6c4810581b:getPixels\n",
      "Please wait ...\n",
      "Data downloaded to D:\\Descarga\\Sentinel2\\20230707T152649_Parcela_3.tif\n",
      "Archivo exportado 20230707T152649_Parcela_3.tif\n",
      "Generating URL ...\n",
      "Downloading data from https://earthengine.googleapis.com/v1/projects/earthengine-legacy/thumbnails/2831e3a4bab1a6a0701a3106f27a3c51-5ff36895d9a9e0a676a8cde52029b4fd:getPixels\n",
      "Please wait ...\n",
      "Data downloaded to D:\\Descarga\\Sentinel2\\20230707T152649_Parcela_3.tif\n",
      "Archivo exportado 20230707T152649_Parcela_3.tif\n",
      "Generating URL ...\n",
      "Downloading data from https://earthengine.googleapis.com/v1/projects/earthengine-legacy/thumbnails/d1840bda1204f9c67ffe7b83bc5371fe-9b783f8c4e1724b8b185a6a257a1e519:getPixels\n",
      "Please wait ...\n",
      "Data downloaded to D:\\Descarga\\Sentinel2\\20230712T152641_Parcela_3.tif\n",
      "Archivo exportado 20230712T152641_Parcela_3.tif\n",
      "Generating URL ...\n",
      "Downloading data from https://earthengine.googleapis.com/v1/projects/earthengine-legacy/thumbnails/dbd05165e36bc9305dfbc15d57e35f83-85bfd58a7d6270e35b9e7a1ba58e481f:getPixels\n",
      "Please wait ...\n",
      "Data downloaded to D:\\Descarga\\Sentinel2\\20230712T152641_Parcela_3.tif\n",
      "Archivo exportado 20230712T152641_Parcela_3.tif\n",
      "Generating URL ...\n",
      "Downloading data from https://earthengine.googleapis.com/v1/projects/earthengine-legacy/thumbnails/210fca9ab0d5dcc04d254959d25df8af-0abf5f9084084433b07a3a2844ac0a1a:getPixels\n",
      "Please wait ...\n",
      "Data downloaded to D:\\Descarga\\Sentinel2\\20230717T152649_Parcela_3.tif\n",
      "Archivo exportado 20230717T152649_Parcela_3.tif\n",
      "Generating URL ...\n",
      "Downloading data from https://earthengine.googleapis.com/v1/projects/earthengine-legacy/thumbnails/8d5fe7f5d11a7b67ca32cb78f90199c3-e7ff222d4cc158749ef9075b325166d3:getPixels\n",
      "Please wait ...\n",
      "Data downloaded to D:\\Descarga\\Sentinel2\\20230717T152649_Parcela_3.tif\n",
      "Archivo exportado 20230717T152649_Parcela_3.tif\n",
      "Generating URL ...\n",
      "Downloading data from https://earthengine.googleapis.com/v1/projects/earthengine-legacy/thumbnails/0b3d8ba44224d3f8f6c45fd744adc0ce-2d1802aa657d3ba1d1166409c6fdc233:getPixels\n",
      "Please wait ...\n",
      "Data downloaded to D:\\Descarga\\Sentinel2\\20230722T152641_Parcela_3.tif\n",
      "Archivo exportado 20230722T152641_Parcela_3.tif\n",
      "Generating URL ...\n",
      "Downloading data from https://earthengine.googleapis.com/v1/projects/earthengine-legacy/thumbnails/8e7307cdc70099e72716e5db1bfde5d6-4f922402b4f5491aa696762d03604408:getPixels\n",
      "Please wait ...\n",
      "Data downloaded to D:\\Descarga\\Sentinel2\\20230722T152641_Parcela_3.tif\n",
      "Archivo exportado 20230722T152641_Parcela_3.tif\n",
      "Generating URL ...\n",
      "Downloading data from https://earthengine.googleapis.com/v1/projects/earthengine-legacy/thumbnails/1cb244abbab62fddf440d28f62e5937f-c743d07cdfaf33b2cc6f84833bbc8bda:getPixels\n",
      "Please wait ...\n",
      "Data downloaded to D:\\Descarga\\Sentinel2\\20230727T152649_Parcela_3.tif\n",
      "Archivo exportado 20230727T152649_Parcela_3.tif\n",
      "Generating URL ...\n",
      "Downloading data from https://earthengine.googleapis.com/v1/projects/earthengine-legacy/thumbnails/83d393632650632fc9636932c8858a5f-42d367bf7824583cd7b0cb6914b9d723:getPixels\n",
      "Please wait ...\n",
      "Data downloaded to D:\\Descarga\\Sentinel2\\20230727T152649_Parcela_3.tif\n",
      "Archivo exportado 20230727T152649_Parcela_3.tif\n",
      "Generating URL ...\n",
      "Downloading data from https://earthengine.googleapis.com/v1/projects/earthengine-legacy/thumbnails/cd772ee2f8e56934d4f0bfb01bb24a89-9505ff8b1e5b568c9d53648d0d89004c:getPixels\n",
      "Please wait ...\n",
      "Data downloaded to D:\\Descarga\\Sentinel2\\20230801T152641_Parcela_3.tif\n",
      "Archivo exportado 20230801T152641_Parcela_3.tif\n",
      "Generating URL ...\n",
      "Downloading data from https://earthengine.googleapis.com/v1/projects/earthengine-legacy/thumbnails/7aa940dce77804c5f27db22f07c13bfa-8ca2d688d7e0ffcbccb3dd4142325d78:getPixels\n",
      "Please wait ...\n",
      "Data downloaded to D:\\Descarga\\Sentinel2\\20230801T152641_Parcela_3.tif\n",
      "Archivo exportado 20230801T152641_Parcela_3.tif\n",
      "Generating URL ...\n",
      "Downloading data from https://earthengine.googleapis.com/v1/projects/earthengine-legacy/thumbnails/baf39f2ae1aaf1ecba788a1bd45bfab6-5bdb3c9cacdadc199a4ca608d2bc31ff:getPixels\n",
      "Please wait ...\n",
      "Data downloaded to D:\\Descarga\\Sentinel2\\20230806T152649_Parcela_3.tif\n",
      "Archivo exportado 20230806T152649_Parcela_3.tif\n",
      "Generating URL ...\n",
      "Downloading data from https://earthengine.googleapis.com/v1/projects/earthengine-legacy/thumbnails/90e2a70528d4e98793581546eb5bb414-40b078d9cb8b78996dfccfe61ca40a67:getPixels\n",
      "Please wait ...\n",
      "Data downloaded to D:\\Descarga\\Sentinel2\\20230806T152649_Parcela_3.tif\n",
      "Archivo exportado 20230806T152649_Parcela_3.tif\n",
      "Generating URL ...\n",
      "Downloading data from https://earthengine.googleapis.com/v1/projects/earthengine-legacy/thumbnails/76b209ef902dbc3ee63d3db7426b7a12-f8a5c82c44703b42d1b38d997ac89c61:getPixels\n",
      "Please wait ...\n",
      "Data downloaded to D:\\Descarga\\Sentinel2\\20230811T152641_Parcela_3.tif\n",
      "Archivo exportado 20230811T152641_Parcela_3.tif\n",
      "Generating URL ...\n",
      "Downloading data from https://earthengine.googleapis.com/v1/projects/earthengine-legacy/thumbnails/f6c8a89ba5cbe6362150de0b44b32dbb-735f1b2370a6f74309632cf5f9a4ee0d:getPixels\n",
      "Please wait ...\n",
      "Data downloaded to D:\\Descarga\\Sentinel2\\20230816T152649_Parcela_3.tif\n",
      "Archivo exportado 20230816T152649_Parcela_3.tif\n",
      "Generating URL ...\n",
      "Downloading data from https://earthengine.googleapis.com/v1/projects/earthengine-legacy/thumbnails/5db9f51b9e7d80178a39f4c4ab8e2f19-c5fb644a0c3c46bd59575f7c97ba590c:getPixels\n",
      "Please wait ...\n",
      "Data downloaded to D:\\Descarga\\Sentinel2\\20230816T152649_Parcela_3.tif\n",
      "Archivo exportado 20230816T152649_Parcela_3.tif\n",
      "Generating URL ...\n",
      "Downloading data from https://earthengine.googleapis.com/v1/projects/earthengine-legacy/thumbnails/8fe25d26d553d736d447464abdb462bd-db3f5bb9f1f789be24547f79067ee05d:getPixels\n",
      "Please wait ...\n",
      "Data downloaded to D:\\Descarga\\Sentinel2\\20230821T152641_Parcela_3.tif\n",
      "Archivo exportado 20230821T152641_Parcela_3.tif\n",
      "Generating URL ...\n",
      "Downloading data from https://earthengine.googleapis.com/v1/projects/earthengine-legacy/thumbnails/b4d402d8466b7d8603fdf7775af7f870-2f0ff1c6a740d69402f89dff13b0f66c:getPixels\n",
      "Please wait ...\n",
      "Data downloaded to D:\\Descarga\\Sentinel2\\20230821T152641_Parcela_3.tif\n",
      "Archivo exportado 20230821T152641_Parcela_3.tif\n",
      "Generating URL ...\n",
      "Downloading data from https://earthengine.googleapis.com/v1/projects/earthengine-legacy/thumbnails/be0aaeff1f58a403c3793e892bfa2120-63b94bc0ba787515fa0109e3939c4b2a:getPixels\n",
      "Please wait ...\n",
      "Data downloaded to D:\\Descarga\\Sentinel2\\20230831T152641_Parcela_3.tif\n",
      "Archivo exportado 20230831T152641_Parcela_3.tif\n",
      "Generating URL ...\n",
      "Downloading data from https://earthengine.googleapis.com/v1/projects/earthengine-legacy/thumbnails/03321f3ce03cda93424e126d201af676-d253a427acc2ec6301595e2cf58ba58f:getPixels\n",
      "Please wait ...\n",
      "Data downloaded to D:\\Descarga\\Sentinel2\\20230910T152641_Parcela_3.tif\n",
      "Archivo exportado 20230910T152641_Parcela_3.tif\n",
      "Generating URL ...\n",
      "Downloading data from https://earthengine.googleapis.com/v1/projects/earthengine-legacy/thumbnails/960266d94033b01ba3b51d32b3521100-ed0dfa393474909069ffbfbcbf18d860:getPixels\n",
      "Please wait ...\n",
      "Data downloaded to D:\\Descarga\\Sentinel2\\20230925T152639_Parcela_3.tif\n",
      "Archivo exportado 20230925T152639_Parcela_3.tif\n",
      "Generating URL ...\n",
      "Downloading data from https://earthengine.googleapis.com/v1/projects/earthengine-legacy/thumbnails/21ad829aee6bb0e8feb649111ff0230c-41e507a7edf63d7d6d03741ba8873fd6:getPixels\n",
      "Please wait ...\n",
      "Data downloaded to D:\\Descarga\\Sentinel2\\20240328T152651_Parcela_3.tif\n",
      "Archivo exportado 20240328T152651_Parcela_3.tif\n",
      "Generating URL ...\n",
      "Downloading data from https://earthengine.googleapis.com/v1/projects/earthengine-legacy/thumbnails/5a955ff132e0cd71727504a09a3cfc51-d95fd7d92b95e7f1938c647266c5ea24:getPixels\n",
      "Please wait ...\n",
      "Data downloaded to D:\\Descarga\\Sentinel2\\20230602T152641_Parcela_4.tif\n",
      "Archivo exportado 20230602T152641_Parcela_4.tif\n",
      "Generating URL ...\n",
      "Downloading data from https://earthengine.googleapis.com/v1/projects/earthengine-legacy/thumbnails/457b6a4e8044a731dace278e8ee2faa4-1eeb0f34831ddaee02a47adf8abfa1c7:getPixels\n",
      "Please wait ...\n",
      "Data downloaded to D:\\Descarga\\Sentinel2\\20230602T152641_Parcela_4.tif\n",
      "Archivo exportado 20230602T152641_Parcela_4.tif\n",
      "Generating URL ...\n",
      "Downloading data from https://earthengine.googleapis.com/v1/projects/earthengine-legacy/thumbnails/e2772cdcb71aa9aa067e385f95d3fb47-7bc753ddefea89adfb620be13251959c:getPixels\n",
      "Please wait ...\n",
      "Data downloaded to D:\\Descarga\\Sentinel2\\20230617T152639_Parcela_4.tif\n",
      "Archivo exportado 20230617T152639_Parcela_4.tif\n",
      "Generating URL ...\n",
      "Downloading data from https://earthengine.googleapis.com/v1/projects/earthengine-legacy/thumbnails/62c501df9b0bb0af1643c201db8daf65-8010e40186c9af5f40ad9c8e641c9324:getPixels\n",
      "Please wait ...\n",
      "Data downloaded to D:\\Descarga\\Sentinel2\\20230622T152641_Parcela_4.tif\n",
      "Archivo exportado 20230622T152641_Parcela_4.tif\n",
      "Generating URL ...\n",
      "Downloading data from https://earthengine.googleapis.com/v1/projects/earthengine-legacy/thumbnails/ea180a313f48423c8bff2419557a0b65-7fb7a5b6a61cf0178878cc470423cb88:getPixels\n",
      "Please wait ...\n",
      "Data downloaded to D:\\Descarga\\Sentinel2\\20230622T152641_Parcela_4.tif\n",
      "Archivo exportado 20230622T152641_Parcela_4.tif\n",
      "Generating URL ...\n",
      "Downloading data from https://earthengine.googleapis.com/v1/projects/earthengine-legacy/thumbnails/0b32facc244e3532e932f285ec8bf86c-6a7515b4df3b80d97b52d2ebe02a0902:getPixels\n",
      "Please wait ...\n",
      "Data downloaded to D:\\Descarga\\Sentinel2\\20230627T152639_Parcela_4.tif\n",
      "Archivo exportado 20230627T152639_Parcela_4.tif\n",
      "Generating URL ...\n",
      "Downloading data from https://earthengine.googleapis.com/v1/projects/earthengine-legacy/thumbnails/9757d8b1261740e930e1eba0444d2472-50511a85d2f171ce0cfa118faca1fe16:getPixels\n",
      "Please wait ...\n",
      "Data downloaded to D:\\Descarga\\Sentinel2\\20230627T152639_Parcela_4.tif\n",
      "Archivo exportado 20230627T152639_Parcela_4.tif\n",
      "Generating URL ...\n",
      "Downloading data from https://earthengine.googleapis.com/v1/projects/earthengine-legacy/thumbnails/bbaf2285d78b48acd18c6f031bf96254-968c878ac264ec3f905461dcf11ef928:getPixels\n",
      "Please wait ...\n",
      "Data downloaded to D:\\Descarga\\Sentinel2\\20230702T152641_Parcela_4.tif\n",
      "Archivo exportado 20230702T152641_Parcela_4.tif\n",
      "Generating URL ...\n",
      "Downloading data from https://earthengine.googleapis.com/v1/projects/earthengine-legacy/thumbnails/054726dabeaa985993a75d62edebfe10-93656d494a5d83d161ca1e10dfd03cfd:getPixels\n",
      "Please wait ...\n",
      "Data downloaded to D:\\Descarga\\Sentinel2\\20230702T152641_Parcela_4.tif\n",
      "Archivo exportado 20230702T152641_Parcela_4.tif\n",
      "Generating URL ...\n",
      "Downloading data from https://earthengine.googleapis.com/v1/projects/earthengine-legacy/thumbnails/d9abdedd5683f00870bb44f3c9f5a16b-80f0abc54d23b9bc026b87c3845b274b:getPixels\n",
      "Please wait ...\n",
      "Data downloaded to D:\\Descarga\\Sentinel2\\20230707T152649_Parcela_4.tif\n",
      "Archivo exportado 20230707T152649_Parcela_4.tif\n",
      "Generating URL ...\n",
      "Downloading data from https://earthengine.googleapis.com/v1/projects/earthengine-legacy/thumbnails/f9302571c8fdfa6f057ead8e2838e0e6-dc101fac4d229129388dd2752af5c1ff:getPixels\n",
      "Please wait ...\n",
      "Data downloaded to D:\\Descarga\\Sentinel2\\20230707T152649_Parcela_4.tif\n",
      "Archivo exportado 20230707T152649_Parcela_4.tif\n",
      "Generating URL ...\n",
      "Downloading data from https://earthengine.googleapis.com/v1/projects/earthengine-legacy/thumbnails/8ca071cd50b5160bc93854d78f811603-adedadc0e70d5ec6ce3c9a0502ec86cf:getPixels\n",
      "Please wait ...\n",
      "Data downloaded to D:\\Descarga\\Sentinel2\\20230712T152641_Parcela_4.tif\n",
      "Archivo exportado 20230712T152641_Parcela_4.tif\n",
      "Generating URL ...\n",
      "Downloading data from https://earthengine.googleapis.com/v1/projects/earthengine-legacy/thumbnails/45e284905efa4f39202a903e948abcf6-f73548d695d58ba842f17704b607a09e:getPixels\n",
      "Please wait ...\n",
      "Data downloaded to D:\\Descarga\\Sentinel2\\20230712T152641_Parcela_4.tif\n",
      "Archivo exportado 20230712T152641_Parcela_4.tif\n",
      "Generating URL ...\n",
      "Downloading data from https://earthengine.googleapis.com/v1/projects/earthengine-legacy/thumbnails/aaf77c55b23ac7fd9607a4936c7cfdad-eabd9f9abc140a90e10a54187c0e5824:getPixels\n",
      "Please wait ...\n",
      "Data downloaded to D:\\Descarga\\Sentinel2\\20230717T152649_Parcela_4.tif\n",
      "Archivo exportado 20230717T152649_Parcela_4.tif\n",
      "Generating URL ...\n",
      "Downloading data from https://earthengine.googleapis.com/v1/projects/earthengine-legacy/thumbnails/651bdd50efbfac1408a1bcb273768e5f-389fe43fb0372314129f1b8195811b53:getPixels\n",
      "Please wait ...\n",
      "Data downloaded to D:\\Descarga\\Sentinel2\\20230717T152649_Parcela_4.tif\n",
      "Archivo exportado 20230717T152649_Parcela_4.tif\n",
      "Generating URL ...\n",
      "Downloading data from https://earthengine.googleapis.com/v1/projects/earthengine-legacy/thumbnails/b34417a584d37e49bcf4c1e8ae9d9699-faa2eace810cc7374ab93062e7d6f5ed:getPixels\n",
      "Please wait ...\n",
      "Data downloaded to D:\\Descarga\\Sentinel2\\20230722T152641_Parcela_4.tif\n",
      "Archivo exportado 20230722T152641_Parcela_4.tif\n",
      "Generating URL ...\n",
      "Downloading data from https://earthengine.googleapis.com/v1/projects/earthengine-legacy/thumbnails/af1638ae4ae2f6a0989c0275720132c0-e8984c005712d078c40d6701c3c3d3fc:getPixels\n",
      "Please wait ...\n",
      "Data downloaded to D:\\Descarga\\Sentinel2\\20230722T152641_Parcela_4.tif\n",
      "Archivo exportado 20230722T152641_Parcela_4.tif\n",
      "Generating URL ...\n",
      "Downloading data from https://earthengine.googleapis.com/v1/projects/earthengine-legacy/thumbnails/7a8cd545ae163170ba3df669aafd75be-6041c4d68d4cf2de56b9d218f39f5650:getPixels\n",
      "Please wait ...\n",
      "Data downloaded to D:\\Descarga\\Sentinel2\\20230727T152649_Parcela_4.tif\n",
      "Archivo exportado 20230727T152649_Parcela_4.tif\n",
      "Generating URL ...\n",
      "Downloading data from https://earthengine.googleapis.com/v1/projects/earthengine-legacy/thumbnails/0738b7e54c4a74442212bdf74ee62b75-5ec5fe7cfe6bb4617276c0045b27013a:getPixels\n",
      "Please wait ...\n",
      "Data downloaded to D:\\Descarga\\Sentinel2\\20230727T152649_Parcela_4.tif\n",
      "Archivo exportado 20230727T152649_Parcela_4.tif\n",
      "Generating URL ...\n",
      "Downloading data from https://earthengine.googleapis.com/v1/projects/earthengine-legacy/thumbnails/4099db489410fbb209cced8cc69cd698-7b9d9caf1698b1b8c2661c350f09a28a:getPixels\n",
      "Please wait ...\n",
      "Data downloaded to D:\\Descarga\\Sentinel2\\20230801T152641_Parcela_4.tif\n",
      "Archivo exportado 20230801T152641_Parcela_4.tif\n",
      "Generating URL ...\n",
      "Downloading data from https://earthengine.googleapis.com/v1/projects/earthengine-legacy/thumbnails/477c8b9f3ab77608b47d4ada372450ab-798620e467be9d2f2adcdfe8e6ab3c84:getPixels\n",
      "Please wait ...\n",
      "Data downloaded to D:\\Descarga\\Sentinel2\\20230801T152641_Parcela_4.tif\n",
      "Archivo exportado 20230801T152641_Parcela_4.tif\n",
      "Generating URL ...\n",
      "Downloading data from https://earthengine.googleapis.com/v1/projects/earthengine-legacy/thumbnails/689f5c5152438f0973e506e805b2c15e-1601f0a7ac41e48828dfd02c165c763e:getPixels\n",
      "Please wait ...\n",
      "Data downloaded to D:\\Descarga\\Sentinel2\\20230806T152649_Parcela_4.tif\n",
      "Archivo exportado 20230806T152649_Parcela_4.tif\n",
      "Generating URL ...\n",
      "Downloading data from https://earthengine.googleapis.com/v1/projects/earthengine-legacy/thumbnails/c32ec40ddaf32091ab5fe3b5914a1b6e-d8b224fd3ffa63a48033316ad5712c26:getPixels\n",
      "Please wait ...\n",
      "Data downloaded to D:\\Descarga\\Sentinel2\\20230806T152649_Parcela_4.tif\n",
      "Archivo exportado 20230806T152649_Parcela_4.tif\n",
      "Generating URL ...\n",
      "Downloading data from https://earthengine.googleapis.com/v1/projects/earthengine-legacy/thumbnails/047a03e48eb06291c67b6a7d7d26ed98-78ea5656271d8da2ba99a5f02adffc22:getPixels\n",
      "Please wait ...\n",
      "Data downloaded to D:\\Descarga\\Sentinel2\\20230811T152641_Parcela_4.tif\n",
      "Archivo exportado 20230811T152641_Parcela_4.tif\n",
      "Generating URL ...\n",
      "Downloading data from https://earthengine.googleapis.com/v1/projects/earthengine-legacy/thumbnails/946b55bb005a530cf0ec58ef9fc2aeea-a276aca644d6c96ab99e62763bd76547:getPixels\n",
      "Please wait ...\n",
      "Data downloaded to D:\\Descarga\\Sentinel2\\20230816T152649_Parcela_4.tif\n",
      "Archivo exportado 20230816T152649_Parcela_4.tif\n",
      "Generating URL ...\n",
      "Downloading data from https://earthengine.googleapis.com/v1/projects/earthengine-legacy/thumbnails/6e8bf0a7eaa00620282cf57b60326adf-f0ed89713ae5bdcc8963434d1109af42:getPixels\n",
      "Please wait ...\n",
      "Data downloaded to D:\\Descarga\\Sentinel2\\20230816T152649_Parcela_4.tif\n",
      "Archivo exportado 20230816T152649_Parcela_4.tif\n",
      "Generating URL ...\n",
      "Downloading data from https://earthengine.googleapis.com/v1/projects/earthengine-legacy/thumbnails/9b7f590df233a8df38abf947a5da79a9-d00006d5fbff97c15ddb6fe1a240d9c6:getPixels\n",
      "Please wait ...\n",
      "Data downloaded to D:\\Descarga\\Sentinel2\\20230821T152641_Parcela_4.tif\n",
      "Archivo exportado 20230821T152641_Parcela_4.tif\n",
      "Generating URL ...\n",
      "Downloading data from https://earthengine.googleapis.com/v1/projects/earthengine-legacy/thumbnails/d23158cdd428b4c7b5b186462b2fd226-17203009515d5c65339033673a4ce12c:getPixels\n",
      "Please wait ...\n",
      "Data downloaded to D:\\Descarga\\Sentinel2\\20230821T152641_Parcela_4.tif\n",
      "Archivo exportado 20230821T152641_Parcela_4.tif\n",
      "Generating URL ...\n",
      "Downloading data from https://earthengine.googleapis.com/v1/projects/earthengine-legacy/thumbnails/da5b35fc0c2481a1a45ca0e6d404f522-8c2db57c40ce824e342591d39e6bd140:getPixels\n",
      "Please wait ...\n",
      "Data downloaded to D:\\Descarga\\Sentinel2\\20230831T152641_Parcela_4.tif\n",
      "Archivo exportado 20230831T152641_Parcela_4.tif\n",
      "Generating URL ...\n",
      "Downloading data from https://earthengine.googleapis.com/v1/projects/earthengine-legacy/thumbnails/bb675d9e399663f24cfd4125e1be141c-14ab2b013cb16f5071b07d75e59a81bb:getPixels\n",
      "Please wait ...\n",
      "Data downloaded to D:\\Descarga\\Sentinel2\\20230910T152641_Parcela_4.tif\n",
      "Archivo exportado 20230910T152641_Parcela_4.tif\n",
      "Generating URL ...\n",
      "Downloading data from https://earthengine.googleapis.com/v1/projects/earthengine-legacy/thumbnails/915c684534e5ea31214469f8dde7964d-be93085ff5eb3dceb2ae724fce822879:getPixels\n",
      "Please wait ...\n",
      "Data downloaded to D:\\Descarga\\Sentinel2\\20230925T152639_Parcela_4.tif\n",
      "Archivo exportado 20230925T152639_Parcela_4.tif\n",
      "Generating URL ...\n",
      "Downloading data from https://earthengine.googleapis.com/v1/projects/earthengine-legacy/thumbnails/ca26bd95e3ba66c50b2e309d7c5dd900-5fa58d99b582b9f44e3807c216bde0b5:getPixels\n",
      "Please wait ...\n",
      "Data downloaded to D:\\Descarga\\Sentinel2\\20240328T152651_Parcela_4.tif\n",
      "Archivo exportado 20240328T152651_Parcela_4.tif\n"
     ]
    }
   ],
   "source": [
    "for i in range(len(lista_parcela)):\n",
    "    Parcela = ee_zona_gdp.filterMetadata('Nombre', 'equals', lista_parcela[i])\n",
    "    geometria = Parcela.geometry()\n",
    "    #Bounds = geometria.bounds()\n",
    "    #Buffer = Bounds.buffer(300)\n",
    "    name_parcela = lista_parcela[i]\n",
    "    # Coleccion de Sentinel-2 SR\n",
    "    S2_RS = ee.ImageCollection(\"COPERNICUS/S2_SR_HARMONIZED\")\\\n",
    "                    .filterDate('2023-06-01','2024-04-14')\\\n",
    "                    .filterMetadata('CLOUDY_PIXEL_PERCENTAGE','less_than',30)\\\n",
    "                    .filterBounds(Parcela)\n",
    "    # Imprimir la lista de ID Imagenes\n",
    "    ID_S2 = S2_RS.reduceColumns(ee.Reducer.toList(),[\"system:index\"]).get(\"list\").getInfo()\n",
    "    # Gardar la lista ID\n",
    "    for r in range(len(ID_S2)):\n",
    "        lista_ID_S2.append(ID_S2[r])\n",
    "    # Proceso de busqueda y descarga\n",
    "    for k in range(len(ID_S2)):\n",
    "        # Importar imagen Sentinel-2 RS \n",
    "        image = ee.Image(\"COPERNICUS/S2_SR_HARMONIZED\" + \"/\" + ID_S2[k])\n",
    "        # Seleccionar iamgenes por bandas\n",
    "        S2_img_RS = image.select([\"B1\",\"B2\",\"B3\",\"B4\",\"B5\",\"B6\",\"B7\",\"B8\",\"B9\",\"B11\",\"B12\"])\n",
    "        # Recortar segun zona estudio\n",
    "        S2_img_RS_clip = S2_img_RS.clip(Parcela)      \n",
    "        # Descarga \n",
    "        geemap.ee_export_image(S2_img_RS_clip, \n",
    "                               filename=out_dir_sentinel2+\"/\"+ID_S2[k][0:16]+name_parcela+\".tif\", \n",
    "                               region=geometria, \n",
    "                               scale=10, \n",
    "                               file_per_band=False)\n",
    "        print('Archivo exportado ' + ID_S2[k][0:16]+name_parcela+\".tif\")\n"
   ]
  },
  {
   "cell_type": "code",
   "execution_count": 37,
   "id": "0f768a38-e0fc-4d15-9d74-3c0ed999f434",
   "metadata": {},
   "outputs": [
    {
     "data": {
      "text/html": [
       "\n",
       "            <style>\n",
       "                .geemap-dark {\n",
       "                    --jp-widgets-color: white;\n",
       "                    --jp-widgets-label-color: white;\n",
       "                    --jp-ui-font-color1: white;\n",
       "                    --jp-layout-color2: #454545;\n",
       "                    background-color: #383838;\n",
       "                }\n",
       "\n",
       "                .geemap-dark .jupyter-button {\n",
       "                    --jp-layout-color3: #383838;\n",
       "                }\n",
       "\n",
       "                .geemap-colab {\n",
       "                    background-color: var(--colab-primary-surface-color, white);\n",
       "                }\n",
       "\n",
       "                .geemap-colab .jupyter-button {\n",
       "                    --jp-layout-color3: var(--colab-primary-surface-color, white);\n",
       "                }\n",
       "            </style>\n",
       "            "
      ],
      "text/plain": [
       "<IPython.core.display.HTML object>"
      ]
     },
     "metadata": {},
     "output_type": "display_data"
    }
   ],
   "source": [
    "lista_ID = []"
   ]
  },
  {
   "cell_type": "code",
   "execution_count": 38,
   "id": "d212a214-7ea4-4d88-b3a5-d5083ebf932e",
   "metadata": {},
   "outputs": [
    {
     "data": {
      "text/html": [
       "\n",
       "            <style>\n",
       "                .geemap-dark {\n",
       "                    --jp-widgets-color: white;\n",
       "                    --jp-widgets-label-color: white;\n",
       "                    --jp-ui-font-color1: white;\n",
       "                    --jp-layout-color2: #454545;\n",
       "                    background-color: #383838;\n",
       "                }\n",
       "\n",
       "                .geemap-dark .jupyter-button {\n",
       "                    --jp-layout-color3: #383838;\n",
       "                }\n",
       "\n",
       "                .geemap-colab {\n",
       "                    background-color: var(--colab-primary-surface-color, white);\n",
       "                }\n",
       "\n",
       "                .geemap-colab .jupyter-button {\n",
       "                    --jp-layout-color3: var(--colab-primary-surface-color, white);\n",
       "                }\n",
       "            </style>\n",
       "            "
      ],
      "text/plain": [
       "<IPython.core.display.HTML object>"
      ]
     },
     "metadata": {},
     "output_type": "display_data"
    }
   ],
   "source": [
    "for f in range(len(lista_ID_S2)):\n",
    "    dato = lista_ID_S2[f][0:15]\n",
    "    lista_ID.append(dato)"
   ]
  },
  {
   "cell_type": "code",
   "execution_count": 39,
   "id": "ddf45026-3e62-46cd-a6a2-744916045e55",
   "metadata": {},
   "outputs": [
    {
     "data": {
      "text/html": [
       "\n",
       "            <style>\n",
       "                .geemap-dark {\n",
       "                    --jp-widgets-color: white;\n",
       "                    --jp-widgets-label-color: white;\n",
       "                    --jp-ui-font-color1: white;\n",
       "                    --jp-layout-color2: #454545;\n",
       "                    background-color: #383838;\n",
       "                }\n",
       "\n",
       "                .geemap-dark .jupyter-button {\n",
       "                    --jp-layout-color3: #383838;\n",
       "                }\n",
       "\n",
       "                .geemap-colab {\n",
       "                    background-color: var(--colab-primary-surface-color, white);\n",
       "                }\n",
       "\n",
       "                .geemap-colab .jupyter-button {\n",
       "                    --jp-layout-color3: var(--colab-primary-surface-color, white);\n",
       "                }\n",
       "            </style>\n",
       "            "
      ],
      "text/plain": [
       "<IPython.core.display.HTML object>"
      ]
     },
     "metadata": {},
     "output_type": "display_data"
    },
    {
     "data": {
      "text/plain": [
       "128"
      ]
     },
     "execution_count": 39,
     "metadata": {},
     "output_type": "execute_result"
    }
   ],
   "source": [
    "len(lista_ID)"
   ]
  },
  {
   "cell_type": "code",
   "execution_count": 40,
   "id": "03a56a1e-982b-45c0-970f-21d6fd028dcc",
   "metadata": {},
   "outputs": [
    {
     "data": {
      "text/html": [
       "\n",
       "            <style>\n",
       "                .geemap-dark {\n",
       "                    --jp-widgets-color: white;\n",
       "                    --jp-widgets-label-color: white;\n",
       "                    --jp-ui-font-color1: white;\n",
       "                    --jp-layout-color2: #454545;\n",
       "                    background-color: #383838;\n",
       "                }\n",
       "\n",
       "                .geemap-dark .jupyter-button {\n",
       "                    --jp-layout-color3: #383838;\n",
       "                }\n",
       "\n",
       "                .geemap-colab {\n",
       "                    background-color: var(--colab-primary-surface-color, white);\n",
       "                }\n",
       "\n",
       "                .geemap-colab .jupyter-button {\n",
       "                    --jp-layout-color3: var(--colab-primary-surface-color, white);\n",
       "                }\n",
       "            </style>\n",
       "            "
      ],
      "text/plain": [
       "<IPython.core.display.HTML object>"
      ]
     },
     "metadata": {},
     "output_type": "display_data"
    }
   ],
   "source": [
    "# Extraer valores únicos como un conjunto\n",
    "valores_unicos = set(lista_ID)"
   ]
  },
  {
   "cell_type": "code",
   "execution_count": 41,
   "id": "bf84d977-8977-4a5c-bc45-e8cde1e206c2",
   "metadata": {},
   "outputs": [
    {
     "data": {
      "text/html": [
       "\n",
       "            <style>\n",
       "                .geemap-dark {\n",
       "                    --jp-widgets-color: white;\n",
       "                    --jp-widgets-label-color: white;\n",
       "                    --jp-ui-font-color1: white;\n",
       "                    --jp-layout-color2: #454545;\n",
       "                    background-color: #383838;\n",
       "                }\n",
       "\n",
       "                .geemap-dark .jupyter-button {\n",
       "                    --jp-layout-color3: #383838;\n",
       "                }\n",
       "\n",
       "                .geemap-colab {\n",
       "                    background-color: var(--colab-primary-surface-color, white);\n",
       "                }\n",
       "\n",
       "                .geemap-colab .jupyter-button {\n",
       "                    --jp-layout-color3: var(--colab-primary-surface-color, white);\n",
       "                }\n",
       "            </style>\n",
       "            "
      ],
      "text/plain": [
       "<IPython.core.display.HTML object>"
      ]
     },
     "metadata": {},
     "output_type": "display_data"
    },
    {
     "data": {
      "text/plain": [
       "19"
      ]
     },
     "execution_count": 41,
     "metadata": {},
     "output_type": "execute_result"
    }
   ],
   "source": [
    "len(valores_unicos)"
   ]
  },
  {
   "cell_type": "code",
   "execution_count": 42,
   "id": "1b27d4bc-3228-4f93-8c4d-74937f24922d",
   "metadata": {},
   "outputs": [
    {
     "data": {
      "text/html": [
       "\n",
       "            <style>\n",
       "                .geemap-dark {\n",
       "                    --jp-widgets-color: white;\n",
       "                    --jp-widgets-label-color: white;\n",
       "                    --jp-ui-font-color1: white;\n",
       "                    --jp-layout-color2: #454545;\n",
       "                    background-color: #383838;\n",
       "                }\n",
       "\n",
       "                .geemap-dark .jupyter-button {\n",
       "                    --jp-layout-color3: #383838;\n",
       "                }\n",
       "\n",
       "                .geemap-colab {\n",
       "                    background-color: var(--colab-primary-surface-color, white);\n",
       "                }\n",
       "\n",
       "                .geemap-colab .jupyter-button {\n",
       "                    --jp-layout-color3: var(--colab-primary-surface-color, white);\n",
       "                }\n",
       "            </style>\n",
       "            "
      ],
      "text/plain": [
       "<IPython.core.display.HTML object>"
      ]
     },
     "metadata": {},
     "output_type": "display_data"
    }
   ],
   "source": [
    "tabla_sentinel2 = pd.DataFrame(valores_unicos, columns = [\"ID_RS\"])"
   ]
  },
  {
   "cell_type": "code",
   "execution_count": 43,
   "id": "ee8accb6-1585-4741-8228-36915c686c03",
   "metadata": {},
   "outputs": [
    {
     "data": {
      "text/html": [
       "\n",
       "            <style>\n",
       "                .geemap-dark {\n",
       "                    --jp-widgets-color: white;\n",
       "                    --jp-widgets-label-color: white;\n",
       "                    --jp-ui-font-color1: white;\n",
       "                    --jp-layout-color2: #454545;\n",
       "                    background-color: #383838;\n",
       "                }\n",
       "\n",
       "                .geemap-dark .jupyter-button {\n",
       "                    --jp-layout-color3: #383838;\n",
       "                }\n",
       "\n",
       "                .geemap-colab {\n",
       "                    background-color: var(--colab-primary-surface-color, white);\n",
       "                }\n",
       "\n",
       "                .geemap-colab .jupyter-button {\n",
       "                    --jp-layout-color3: var(--colab-primary-surface-color, white);\n",
       "                }\n",
       "            </style>\n",
       "            "
      ],
      "text/plain": [
       "<IPython.core.display.HTML object>"
      ]
     },
     "metadata": {},
     "output_type": "display_data"
    },
    {
     "data": {
      "text/html": [
       "<div>\n",
       "<style scoped>\n",
       "    .dataframe tbody tr th:only-of-type {\n",
       "        vertical-align: middle;\n",
       "    }\n",
       "\n",
       "    .dataframe tbody tr th {\n",
       "        vertical-align: top;\n",
       "    }\n",
       "\n",
       "    .dataframe thead th {\n",
       "        text-align: right;\n",
       "    }\n",
       "</style>\n",
       "<table border=\"1\" class=\"dataframe\">\n",
       "  <thead>\n",
       "    <tr style=\"text-align: right;\">\n",
       "      <th></th>\n",
       "      <th>ID_RS</th>\n",
       "    </tr>\n",
       "  </thead>\n",
       "  <tbody>\n",
       "    <tr>\n",
       "      <th>0</th>\n",
       "      <td>20230707T152649</td>\n",
       "    </tr>\n",
       "    <tr>\n",
       "      <th>1</th>\n",
       "      <td>20230910T152641</td>\n",
       "    </tr>\n",
       "    <tr>\n",
       "      <th>2</th>\n",
       "      <td>20230816T152649</td>\n",
       "    </tr>\n",
       "    <tr>\n",
       "      <th>3</th>\n",
       "      <td>20230925T152639</td>\n",
       "    </tr>\n",
       "  </tbody>\n",
       "</table>\n",
       "</div>"
      ],
      "text/plain": [
       "             ID_RS\n",
       "0  20230707T152649\n",
       "1  20230910T152641\n",
       "2  20230816T152649\n",
       "3  20230925T152639"
      ]
     },
     "execution_count": 43,
     "metadata": {},
     "output_type": "execute_result"
    }
   ],
   "source": [
    "tabla_sentinel2.head(4)"
   ]
  },
  {
   "cell_type": "code",
   "execution_count": 44,
   "id": "a179910b-9761-4762-b550-81e65442611d",
   "metadata": {},
   "outputs": [
    {
     "data": {
      "text/html": [
       "\n",
       "            <style>\n",
       "                .geemap-dark {\n",
       "                    --jp-widgets-color: white;\n",
       "                    --jp-widgets-label-color: white;\n",
       "                    --jp-ui-font-color1: white;\n",
       "                    --jp-layout-color2: #454545;\n",
       "                    background-color: #383838;\n",
       "                }\n",
       "\n",
       "                .geemap-dark .jupyter-button {\n",
       "                    --jp-layout-color3: #383838;\n",
       "                }\n",
       "\n",
       "                .geemap-colab {\n",
       "                    background-color: var(--colab-primary-surface-color, white);\n",
       "                }\n",
       "\n",
       "                .geemap-colab .jupyter-button {\n",
       "                    --jp-layout-color3: var(--colab-primary-surface-color, white);\n",
       "                }\n",
       "            </style>\n",
       "            "
      ],
      "text/plain": [
       "<IPython.core.display.HTML object>"
      ]
     },
     "metadata": {},
     "output_type": "display_data"
    }
   ],
   "source": [
    "tabla_sentinel2.to_csv(out_dir_sentinel2+\"/\"+\"tabla_sentinel2_ID_RS.csv\")"
   ]
  },
  {
   "cell_type": "code",
   "execution_count": null,
   "id": "b10551af-9e16-4b91-8f00-48383ab953e5",
   "metadata": {},
   "outputs": [],
   "source": []
  }
 ],
 "metadata": {
  "kernelspec": {
   "display_name": "Python 3 (ipykernel)",
   "language": "python",
   "name": "python3"
  },
  "language_info": {
   "codemirror_mode": {
    "name": "ipython",
    "version": 3
   },
   "file_extension": ".py",
   "mimetype": "text/x-python",
   "name": "python",
   "nbconvert_exporter": "python",
   "pygments_lexer": "ipython3",
   "version": "3.9.13"
  }
 },
 "nbformat": 4,
 "nbformat_minor": 5
}
