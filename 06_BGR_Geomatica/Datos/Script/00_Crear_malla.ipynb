{
 "cells": [
  {
   "cell_type": "code",
   "execution_count": 4,
   "id": "9ea4128c-57db-46b3-b927-19e9d78295ac",
   "metadata": {},
   "outputs": [],
   "source": [
    "import geopandas as gpd\n",
    "from shapely.geometry import Polygon\n",
    "from shapely.ops import unary_union\n",
    "import os, glob"
   ]
  },
  {
   "cell_type": "code",
   "execution_count": 5,
   "id": "d423a38d-9f2c-4747-a0f5-7d265867a0ef",
   "metadata": {},
   "outputs": [
    {
     "data": {
      "text/plain": [
       "'C:\\\\Users\\\\GEOMATICA\\\\Curso_Geomatica\\\\06_BGR_Geomatica\\\\Datos\\\\Script'"
      ]
     },
     "execution_count": 5,
     "metadata": {},
     "output_type": "execute_result"
    }
   ],
   "source": [
    "os.getcwd()"
   ]
  },
  {
   "cell_type": "code",
   "execution_count": 6,
   "id": "b9136639-5b21-4cb7-94fa-e94e833439df",
   "metadata": {},
   "outputs": [
    {
     "data": {
      "text/plain": [
       "'C:\\\\Users\\\\GEOMATICA\\\\Curso_Geomatica\\\\06_BGR_Geomatica\\\\Datos\\\\Shp'"
      ]
     },
     "execution_count": 6,
     "metadata": {},
     "output_type": "execute_result"
    }
   ],
   "source": [
    "ruta_archivos = r\"C:\\Users\\GEOMATICA\\Curso_Geomatica\\06_BGR_Geomatica\\Datos\\Shp\"\n",
    "os.chdir(ruta_archivos) # Cambiar ruta trabajo\n",
    "os.getcwd() # Consultar ruta trabajo"
   ]
  },
  {
   "cell_type": "code",
   "execution_count": 7,
   "id": "0426d533-7837-4542-856d-061f373eb284",
   "metadata": {},
   "outputs": [
    {
     "data": {
      "text/plain": [
       "['Grilla1.shp',\n",
       " 'Grilla1_label.shp',\n",
       " 'Grilla2.shp',\n",
       " 'Grilla2_label.shp',\n",
       " 'Zona_Parcela.shp']"
      ]
     },
     "execution_count": 7,
     "metadata": {},
     "output_type": "execute_result"
    }
   ],
   "source": [
    "lista = glob.glob(\"*.shp\")\n",
    "lista"
   ]
  },
  {
   "cell_type": "code",
   "execution_count": 8,
   "id": "601f90ae-ee5a-4eab-9bc6-e545c581d40e",
   "metadata": {},
   "outputs": [
    {
     "data": {
      "text/html": [
       "<div>\n",
       "<style scoped>\n",
       "    .dataframe tbody tr th:only-of-type {\n",
       "        vertical-align: middle;\n",
       "    }\n",
       "\n",
       "    .dataframe tbody tr th {\n",
       "        vertical-align: top;\n",
       "    }\n",
       "\n",
       "    .dataframe thead th {\n",
       "        text-align: right;\n",
       "    }\n",
       "</style>\n",
       "<table border=\"1\" class=\"dataframe\">\n",
       "  <thead>\n",
       "    <tr style=\"text-align: right;\">\n",
       "      <th></th>\n",
       "      <th>Id</th>\n",
       "      <th>geometry</th>\n",
       "    </tr>\n",
       "  </thead>\n",
       "  <tbody>\n",
       "    <tr>\n",
       "      <th>0</th>\n",
       "      <td>0</td>\n",
       "      <td>POLYGON ((522298.171 9028900.509, 520737.679 9...</td>\n",
       "    </tr>\n",
       "  </tbody>\n",
       "</table>\n",
       "</div>"
      ],
      "text/plain": [
       "   Id                                           geometry\n",
       "0   0  POLYGON ((522298.171 9028900.509, 520737.679 9..."
      ]
     },
     "execution_count": 8,
     "metadata": {},
     "output_type": "execute_result"
    }
   ],
   "source": [
    "# cargar un shp\n",
    "shp_gdp = gpd.read_file(lista[4])\n",
    "shp_gdp"
   ]
  },
  {
   "cell_type": "code",
   "execution_count": 9,
   "id": "c10ff088-2bb0-4b6f-9a4a-3b05831cb953",
   "metadata": {},
   "outputs": [
    {
     "data": {
      "text/plain": [
       "'WGS 84 / UTM zone 18S'"
      ]
     },
     "execution_count": 9,
     "metadata": {},
     "output_type": "execute_result"
    }
   ],
   "source": [
    "shp_gdp.crs.name"
   ]
  },
  {
   "cell_type": "code",
   "execution_count": 54,
   "id": "12e1897a-7fe3-4c39-8c00-12b5b2f93dd2",
   "metadata": {},
   "outputs": [],
   "source": [
    "shp_gdp_500 = shp_gdp.buffer(500)"
   ]
  },
  {
   "cell_type": "code",
   "execution_count": 55,
   "id": "9a66dd6e-8dac-4a04-acd1-eddc4e120731",
   "metadata": {},
   "outputs": [],
   "source": [
    "# Paso 3: Calcular el ancho y alto en metros\n",
    "bbox = unary_union(shp_gdp_500.geometry).bounds\n",
    "width_metros = 5000  # Ancho de cada polígono en metros\n",
    "height_metros = 5000  # Alto de cada polígono en metros"
   ]
  },
  {
   "cell_type": "code",
   "execution_count": 56,
   "id": "6cd5489d-8f47-4f9c-adf1-8ba6fbc73cd4",
   "metadata": {},
   "outputs": [],
   "source": [
    "from math import ceil"
   ]
  },
  {
   "cell_type": "code",
   "execution_count": 57,
   "id": "add15509-31fd-4897-be02-0ab95933ea46",
   "metadata": {},
   "outputs": [],
   "source": [
    "# Paso 4: Calcular el número de filas y columnas necesarias\n",
    "xmin, ymin, xmax, ymax = bbox\n",
    "num_columnas = ceil((xmax - xmin) / width_metros)\n",
    "num_filas = ceil((ymax - ymin) / height_metros)"
   ]
  },
  {
   "cell_type": "code",
   "execution_count": 58,
   "id": "b060c5f2-4f56-4be9-8515-ce7c93e69b5a",
   "metadata": {},
   "outputs": [],
   "source": [
    "# Paso 5: Crear la malla de polígonos (fishnet)\n",
    "poligonos = []\n",
    "for i in range(num_columnas):\n",
    "    for j in range(num_filas):\n",
    "        x = xmin + i * width_metros\n",
    "        y = ymin + j * height_metros\n",
    "        poligono = Polygon([(x, y), (x + width_metros, y), (x + width_metros, y + height_metros), (x, y + height_metros)])\n",
    "        poligonos.append(poligono)"
   ]
  },
  {
   "cell_type": "code",
   "execution_count": 59,
   "id": "156caf6e-a6e9-4c44-a0a0-0b4736189050",
   "metadata": {},
   "outputs": [],
   "source": [
    "# Paso 6: Crear un GeoDataFrame con los polígonos de la malla\n",
    "malla = gpd.GeoDataFrame({'geometry': poligonos}, crs=shp_gdp.crs)"
   ]
  },
  {
   "cell_type": "code",
   "execution_count": 61,
   "id": "d8aef364-23b2-4c24-b8b2-9d798657f4c1",
   "metadata": {},
   "outputs": [],
   "source": [
    "# Paso 3: Realizar una unión espacial entre la parcela y la malla\n",
    "malla_seleccionada = gpd.sjoin(malla, shp_gdp, how='inner', predicate='intersects')"
   ]
  },
  {
   "cell_type": "code",
   "execution_count": 62,
   "id": "8560065d-c2d4-4b51-b9fa-a3ee4c84b5ad",
   "metadata": {},
   "outputs": [
    {
     "data": {
      "text/plain": [
       "<Axes: >"
      ]
     },
     "execution_count": 62,
     "metadata": {},
     "output_type": "execute_result"
    },
    {
     "data": {
      "image/png": "[encoded data removed]",
      "text/plain": [
       "<Figure size 640x480 with 1 Axes>"
      ]
     },
     "metadata": {},
     "output_type": "display_data"
    }
   ],
   "source": [
    "malla_seleccionada.plot()"
   ]
  },
  {
   "cell_type": "code",
   "execution_count": 63,
   "id": "3a09f465-71dc-45ba-a68f-92eca37ac6a5",
   "metadata": {},
   "outputs": [
    {
     "data": {
      "text/plain": [
       "geopandas.geodataframe.GeoDataFrame"
      ]
     },
     "execution_count": 63,
     "metadata": {},
     "output_type": "execute_result"
    }
   ],
   "source": [
    "type(malla_seleccionada)"
   ]
  },
  {
   "cell_type": "code",
   "execution_count": 64,
   "id": "07f2eeea-bde1-4078-95b4-0c1ca5c83514",
   "metadata": {},
   "outputs": [
    {
     "data": {
      "text/html": [
       "<div>\n",
       "<style scoped>\n",
       "    .dataframe tbody tr th:only-of-type {\n",
       "        vertical-align: middle;\n",
       "    }\n",
       "\n",
       "    .dataframe tbody tr th {\n",
       "        vertical-align: top;\n",
       "    }\n",
       "\n",
       "    .dataframe thead th {\n",
       "        text-align: right;\n",
       "    }\n",
       "</style>\n",
       "<table border=\"1\" class=\"dataframe\">\n",
       "  <thead>\n",
       "    <tr style=\"text-align: right;\">\n",
       "      <th></th>\n",
       "      <th>geometry</th>\n",
       "      <th>index_right</th>\n",
       "      <th>Id</th>\n",
       "    </tr>\n",
       "  </thead>\n",
       "  <tbody>\n",
       "    <tr>\n",
       "      <th>0</th>\n",
       "      <td>POLYGON ((520237.999 9027505.412, 525237.999 9...</td>\n",
       "      <td>0</td>\n",
       "      <td>0</td>\n",
       "    </tr>\n",
       "    <tr>\n",
       "      <th>1</th>\n",
       "      <td>POLYGON ((520237.999 9032505.412, 525237.999 9...</td>\n",
       "      <td>0</td>\n",
       "      <td>0</td>\n",
       "    </tr>\n",
       "    <tr>\n",
       "      <th>2</th>\n",
       "      <td>POLYGON ((525237.999 9027505.412, 530237.999 9...</td>\n",
       "      <td>0</td>\n",
       "      <td>0</td>\n",
       "    </tr>\n",
       "    <tr>\n",
       "      <th>3</th>\n",
       "      <td>POLYGON ((525237.999 9032505.412, 530237.999 9...</td>\n",
       "      <td>0</td>\n",
       "      <td>0</td>\n",
       "    </tr>\n",
       "    <tr>\n",
       "      <th>4</th>\n",
       "      <td>POLYGON ((530237.999 9027505.412, 535237.999 9...</td>\n",
       "      <td>0</td>\n",
       "      <td>0</td>\n",
       "    </tr>\n",
       "  </tbody>\n",
       "</table>\n",
       "</div>"
      ],
      "text/plain": [
       "                                            geometry  index_right  Id\n",
       "0  POLYGON ((520237.999 9027505.412, 525237.999 9...            0   0\n",
       "1  POLYGON ((520237.999 9032505.412, 525237.999 9...            0   0\n",
       "2  POLYGON ((525237.999 9027505.412, 530237.999 9...            0   0\n",
       "3  POLYGON ((525237.999 9032505.412, 530237.999 9...            0   0\n",
       "4  POLYGON ((530237.999 9027505.412, 535237.999 9...            0   0"
      ]
     },
     "execution_count": 64,
     "metadata": {},
     "output_type": "execute_result"
    }
   ],
   "source": [
    "malla_seleccionada.head(5)"
   ]
  },
  {
   "cell_type": "code",
   "execution_count": 65,
   "id": "e6ecfab6-29c7-4fed-a0fe-0eb880e66840",
   "metadata": {},
   "outputs": [
    {
     "data": {
      "text/plain": [
       "Index(['geometry', 'index_right', 'Id'], dtype='object')"
      ]
     },
     "execution_count": 65,
     "metadata": {},
     "output_type": "execute_result"
    }
   ],
   "source": [
    "malla_seleccionada.columns"
   ]
  },
  {
   "cell_type": "code",
   "execution_count": 66,
   "id": "88480d52-4413-47c4-aa89-bedf81e39454",
   "metadata": {},
   "outputs": [],
   "source": [
    "# Paso 2: Eliminar la columna\n",
    "columna_a_eliminar = 'index_right'\n",
    "malla_seleccionada = malla_seleccionada.drop(columns=[columna_a_eliminar])"
   ]
  },
  {
   "cell_type": "code",
   "execution_count": 67,
   "id": "81aa6128-da3d-4321-899c-76c91ff6d45b",
   "metadata": {},
   "outputs": [],
   "source": [
    "# Paso 2: Generar nombres consecutivos para la nueva columna\n",
    "Name = []\n",
    "prefijo = 'Parcela_'\n",
    "for i in range(1, len(malla_seleccionada) + 1):\n",
    "    nombre = prefijo + str(i)\n",
    "    Name.append(nombre)\n",
    "\n",
    "# Paso 3: Agregar la nueva columna al GeoDataFrame\n",
    "malla_seleccionada['Nombre'] = Name"
   ]
  },
  {
   "cell_type": "code",
   "execution_count": 68,
   "id": "d86dc4b9-6128-49b9-a325-ade6e9a36ac1",
   "metadata": {},
   "outputs": [
    {
     "data": {
      "text/html": [
       "<div>\n",
       "<style scoped>\n",
       "    .dataframe tbody tr th:only-of-type {\n",
       "        vertical-align: middle;\n",
       "    }\n",
       "\n",
       "    .dataframe tbody tr th {\n",
       "        vertical-align: top;\n",
       "    }\n",
       "\n",
       "    .dataframe thead th {\n",
       "        text-align: right;\n",
       "    }\n",
       "</style>\n",
       "<table border=\"1\" class=\"dataframe\">\n",
       "  <thead>\n",
       "    <tr style=\"text-align: right;\">\n",
       "      <th></th>\n",
       "      <th>geometry</th>\n",
       "      <th>Id</th>\n",
       "      <th>Nombre</th>\n",
       "    </tr>\n",
       "  </thead>\n",
       "  <tbody>\n",
       "    <tr>\n",
       "      <th>0</th>\n",
       "      <td>POLYGON ((520237.999 9027505.412, 525237.999 9...</td>\n",
       "      <td>0</td>\n",
       "      <td>Parcela_1</td>\n",
       "    </tr>\n",
       "    <tr>\n",
       "      <th>1</th>\n",
       "      <td>POLYGON ((520237.999 9032505.412, 525237.999 9...</td>\n",
       "      <td>0</td>\n",
       "      <td>Parcela_2</td>\n",
       "    </tr>\n",
       "    <tr>\n",
       "      <th>2</th>\n",
       "      <td>POLYGON ((525237.999 9027505.412, 530237.999 9...</td>\n",
       "      <td>0</td>\n",
       "      <td>Parcela_3</td>\n",
       "    </tr>\n",
       "    <tr>\n",
       "      <th>3</th>\n",
       "      <td>POLYGON ((525237.999 9032505.412, 530237.999 9...</td>\n",
       "      <td>0</td>\n",
       "      <td>Parcela_4</td>\n",
       "    </tr>\n",
       "    <tr>\n",
       "      <th>4</th>\n",
       "      <td>POLYGON ((530237.999 9027505.412, 535237.999 9...</td>\n",
       "      <td>0</td>\n",
       "      <td>Parcela_5</td>\n",
       "    </tr>\n",
       "  </tbody>\n",
       "</table>\n",
       "</div>"
      ],
      "text/plain": [
       "                                            geometry  Id     Nombre\n",
       "0  POLYGON ((520237.999 9027505.412, 525237.999 9...   0  Parcela_1\n",
       "1  POLYGON ((520237.999 9032505.412, 525237.999 9...   0  Parcela_2\n",
       "2  POLYGON ((525237.999 9027505.412, 530237.999 9...   0  Parcela_3\n",
       "3  POLYGON ((525237.999 9032505.412, 530237.999 9...   0  Parcela_4\n",
       "4  POLYGON ((530237.999 9027505.412, 535237.999 9...   0  Parcela_5"
      ]
     },
     "execution_count": 68,
     "metadata": {},
     "output_type": "execute_result"
    }
   ],
   "source": [
    "malla_seleccionada.head(5)"
   ]
  },
  {
   "cell_type": "code",
   "execution_count": 69,
   "id": "4149d5ab-b74a-4fa8-8f55-b47b90e69d29",
   "metadata": {},
   "outputs": [],
   "source": [
    "# Paso 4: Guardar la malla seleccionada como un nuevo shapefile\n",
    "malla_seleccionada.to_file('malla_seleccionada.shp')"
   ]
  },
  {
   "cell_type": "code",
   "execution_count": null,
   "id": "1339b83b-e857-4b0f-9e83-7ac5fbce8990",
   "metadata": {},
   "outputs": [],
   "source": []
  }
 ],
 "metadata": {
  "kernelspec": {
   "display_name": "Python 3 (ipykernel)",
   "language": "python",
   "name": "python3"
  },
  "language_info": {
   "codemirror_mode": {
    "name": "ipython",
    "version": 3
   },
   "file_extension": ".py",
   "mimetype": "text/x-python",
   "name": "python",
   "nbconvert_exporter": "python",
   "pygments_lexer": "ipython3",
   "version": "3.9.13"
  }
 },
 "nbformat": 4,
 "nbformat_minor": 5
}
