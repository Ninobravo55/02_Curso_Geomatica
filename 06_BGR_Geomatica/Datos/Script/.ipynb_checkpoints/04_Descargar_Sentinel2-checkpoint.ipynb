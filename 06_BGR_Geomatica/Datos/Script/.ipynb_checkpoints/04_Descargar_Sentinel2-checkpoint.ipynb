{
 "cells": [
  {
   "cell_type": "markdown",
   "id": "244f6eeb-cb8d-4394-80fc-8abb4e45858f",
   "metadata": {},
   "source": [
    "# Descargar datos multiespectrales Sentinel2 y Planet NICFI"
   ]
  },
  {
   "cell_type": "code",
   "execution_count": 1,
   "id": "39010de0-b9b5-45e4-bb60-994515307f75",
   "metadata": {},
   "outputs": [],
   "source": [
    "# Importar GEE y Iniciar sesion\n",
    "import ee\n",
    "import geemap\n",
    "import os\n",
    "import geopandas as gpd\n",
    "import glob"
   ]
  },
  {
   "cell_type": "code",
   "execution_count": 2,
   "id": "9f6cabb2-4166-42c6-acfa-112d1019df4e",
   "metadata": {},
   "outputs": [
    {
     "data": {
      "text/html": [
       "\n",
       "            <style>\n",
       "                .geemap-dark {\n",
       "                    --jp-widgets-color: white;\n",
       "                    --jp-widgets-label-color: white;\n",
       "                    --jp-ui-font-color1: white;\n",
       "                    --jp-layout-color2: #454545;\n",
       "                    background-color: #383838;\n",
       "                }\n",
       "\n",
       "                .geemap-dark .jupyter-button {\n",
       "                    --jp-layout-color3: #383838;\n",
       "                }\n",
       "\n",
       "                .geemap-colab {\n",
       "                    background-color: var(--colab-primary-surface-color, white);\n",
       "                }\n",
       "\n",
       "                .geemap-colab .jupyter-button {\n",
       "                    --jp-layout-color3: var(--colab-primary-surface-color, white);\n",
       "                }\n",
       "            </style>\n",
       "            "
      ],
      "text/plain": [
       "<IPython.core.display.HTML object>"
      ]
     },
     "metadata": {},
     "output_type": "display_data"
    }
   ],
   "source": [
    "ee.Initialize()"
   ]
  },
  {
   "cell_type": "code",
   "execution_count": 3,
   "id": "bfa74f48-1aad-4bee-9152-30d83eab3926",
   "metadata": {},
   "outputs": [
    {
     "data": {
      "text/html": [
       "\n",
       "            <style>\n",
       "                .geemap-dark {\n",
       "                    --jp-widgets-color: white;\n",
       "                    --jp-widgets-label-color: white;\n",
       "                    --jp-ui-font-color1: white;\n",
       "                    --jp-layout-color2: #454545;\n",
       "                    background-color: #383838;\n",
       "                }\n",
       "\n",
       "                .geemap-dark .jupyter-button {\n",
       "                    --jp-layout-color3: #383838;\n",
       "                }\n",
       "\n",
       "                .geemap-colab {\n",
       "                    background-color: var(--colab-primary-surface-color, white);\n",
       "                }\n",
       "\n",
       "                .geemap-colab .jupyter-button {\n",
       "                    --jp-layout-color3: var(--colab-primary-surface-color, white);\n",
       "                }\n",
       "            </style>\n",
       "            "
      ],
      "text/plain": [
       "<IPython.core.display.HTML object>"
      ]
     },
     "metadata": {},
     "output_type": "display_data"
    },
    {
     "data": {
      "application/vnd.jupyter.widget-view+json": {
       "model_id": "d6101d2981ce42e3beccacc87808789e",
       "version_major": 2,
       "version_minor": 0
      },
      "text/plain": [
       "Map(center=[0, 0], controls=(WidgetControl(options=['position', 'transparent_bg'], widget=SearchDataGUI(childr…"
      ]
     },
     "execution_count": 3,
     "metadata": {},
     "output_type": "execute_result"
    }
   ],
   "source": [
    "Map = geemap.Map(basemap='Esri.WorldImagery')\n",
    "Map"
   ]
  },
  {
   "cell_type": "markdown",
   "id": "94abea99-1e3c-4f1c-896e-e9e73b1bcb00",
   "metadata": {},
   "source": [
    "## Importar shapefile"
   ]
  },
  {
   "cell_type": "code",
   "execution_count": 4,
   "id": "4d3c2537-fcc6-451c-93bf-6ea220c82447",
   "metadata": {},
   "outputs": [
    {
     "data": {
      "text/html": [
       "\n",
       "            <style>\n",
       "                .geemap-dark {\n",
       "                    --jp-widgets-color: white;\n",
       "                    --jp-widgets-label-color: white;\n",
       "                    --jp-ui-font-color1: white;\n",
       "                    --jp-layout-color2: #454545;\n",
       "                    background-color: #383838;\n",
       "                }\n",
       "\n",
       "                .geemap-dark .jupyter-button {\n",
       "                    --jp-layout-color3: #383838;\n",
       "                }\n",
       "\n",
       "                .geemap-colab {\n",
       "                    background-color: var(--colab-primary-surface-color, white);\n",
       "                }\n",
       "\n",
       "                .geemap-colab .jupyter-button {\n",
       "                    --jp-layout-color3: var(--colab-primary-surface-color, white);\n",
       "                }\n",
       "            </style>\n",
       "            "
      ],
      "text/plain": [
       "<IPython.core.display.HTML object>"
      ]
     },
     "metadata": {},
     "output_type": "display_data"
    },
    {
     "data": {
      "text/plain": [
       "'C:\\\\Users\\\\GEOMATICA\\\\Curso_Geomatica\\\\06_BGR_Geomatica\\\\Datos\\\\Script'"
      ]
     },
     "execution_count": 4,
     "metadata": {},
     "output_type": "execute_result"
    }
   ],
   "source": [
    "os.getcwd()"
   ]
  },
  {
   "cell_type": "code",
   "execution_count": 9,
   "id": "f98a308f-7295-403e-ae9a-cac21d4b144f",
   "metadata": {},
   "outputs": [
    {
     "data": {
      "text/html": [
       "\n",
       "            <style>\n",
       "                .geemap-dark {\n",
       "                    --jp-widgets-color: white;\n",
       "                    --jp-widgets-label-color: white;\n",
       "                    --jp-ui-font-color1: white;\n",
       "                    --jp-layout-color2: #454545;\n",
       "                    background-color: #383838;\n",
       "                }\n",
       "\n",
       "                .geemap-dark .jupyter-button {\n",
       "                    --jp-layout-color3: #383838;\n",
       "                }\n",
       "\n",
       "                .geemap-colab {\n",
       "                    background-color: var(--colab-primary-surface-color, white);\n",
       "                }\n",
       "\n",
       "                .geemap-colab .jupyter-button {\n",
       "                    --jp-layout-color3: var(--colab-primary-surface-color, white);\n",
       "                }\n",
       "            </style>\n",
       "            "
      ],
      "text/plain": [
       "<IPython.core.display.HTML object>"
      ]
     },
     "metadata": {},
     "output_type": "display_data"
    },
    {
     "data": {
      "text/plain": [
       "'D:\\\\Descarga'"
      ]
     },
     "execution_count": 9,
     "metadata": {},
     "output_type": "execute_result"
    }
   ],
   "source": [
    "ruta_archivos = r\"D:\\Descarga\"\n",
    "os.chdir(ruta_archivos) # Cambiar ruta trabajo\n",
    "os.getcwd() # Consultar ruta trabajo"
   ]
  },
  {
   "cell_type": "code",
   "execution_count": 10,
   "id": "85423a90-abd6-4950-a944-1c19f12b0f3e",
   "metadata": {},
   "outputs": [
    {
     "data": {
      "text/html": [
       "\n",
       "            <style>\n",
       "                .geemap-dark {\n",
       "                    --jp-widgets-color: white;\n",
       "                    --jp-widgets-label-color: white;\n",
       "                    --jp-ui-font-color1: white;\n",
       "                    --jp-layout-color2: #454545;\n",
       "                    background-color: #383838;\n",
       "                }\n",
       "\n",
       "                .geemap-dark .jupyter-button {\n",
       "                    --jp-layout-color3: #383838;\n",
       "                }\n",
       "\n",
       "                .geemap-colab {\n",
       "                    background-color: var(--colab-primary-surface-color, white);\n",
       "                }\n",
       "\n",
       "                .geemap-colab .jupyter-button {\n",
       "                    --jp-layout-color3: var(--colab-primary-surface-color, white);\n",
       "                }\n",
       "            </style>\n",
       "            "
      ],
      "text/plain": [
       "<IPython.core.display.HTML object>"
      ]
     },
     "metadata": {},
     "output_type": "display_data"
    },
    {
     "data": {
      "text/plain": [
       "['curvas_de_nivel.shp', 'malla_seleccionada3.shp']"
      ]
     },
     "execution_count": 10,
     "metadata": {},
     "output_type": "execute_result"
    }
   ],
   "source": [
    "lista = glob.glob(\"*.shp\")\n",
    "lista"
   ]
  },
  {
   "cell_type": "code",
   "execution_count": 11,
   "id": "87198d11-bcbf-4576-b13c-848b803f1c13",
   "metadata": {},
   "outputs": [
    {
     "data": {
      "text/html": [
       "\n",
       "            <style>\n",
       "                .geemap-dark {\n",
       "                    --jp-widgets-color: white;\n",
       "                    --jp-widgets-label-color: white;\n",
       "                    --jp-ui-font-color1: white;\n",
       "                    --jp-layout-color2: #454545;\n",
       "                    background-color: #383838;\n",
       "                }\n",
       "\n",
       "                .geemap-dark .jupyter-button {\n",
       "                    --jp-layout-color3: #383838;\n",
       "                }\n",
       "\n",
       "                .geemap-colab {\n",
       "                    background-color: var(--colab-primary-surface-color, white);\n",
       "                }\n",
       "\n",
       "                .geemap-colab .jupyter-button {\n",
       "                    --jp-layout-color3: var(--colab-primary-surface-color, white);\n",
       "                }\n",
       "            </style>\n",
       "            "
      ],
      "text/plain": [
       "<IPython.core.display.HTML object>"
      ]
     },
     "metadata": {},
     "output_type": "display_data"
    },
    {
     "data": {
      "text/html": [
       "<div>\n",
       "<style scoped>\n",
       "    .dataframe tbody tr th:only-of-type {\n",
       "        vertical-align: middle;\n",
       "    }\n",
       "\n",
       "    .dataframe tbody tr th {\n",
       "        vertical-align: top;\n",
       "    }\n",
       "\n",
       "    .dataframe thead th {\n",
       "        text-align: right;\n",
       "    }\n",
       "</style>\n",
       "<table border=\"1\" class=\"dataframe\">\n",
       "  <thead>\n",
       "    <tr style=\"text-align: right;\">\n",
       "      <th></th>\n",
       "      <th>Id</th>\n",
       "      <th>Nombre</th>\n",
       "      <th>geometry</th>\n",
       "    </tr>\n",
       "  </thead>\n",
       "  <tbody>\n",
       "    <tr>\n",
       "      <th>0</th>\n",
       "      <td>0</td>\n",
       "      <td>Parcela_1</td>\n",
       "      <td>POLYGON ((520737.679 9028005.145, 520737.679 9...</td>\n",
       "    </tr>\n",
       "    <tr>\n",
       "      <th>1</th>\n",
       "      <td>0</td>\n",
       "      <td>Parcela_2</td>\n",
       "      <td>POLYGON ((520737.679 9033005.145, 520737.679 9...</td>\n",
       "    </tr>\n",
       "    <tr>\n",
       "      <th>2</th>\n",
       "      <td>0</td>\n",
       "      <td>Parcela_3</td>\n",
       "      <td>POLYGON ((525737.679 9028005.145, 525737.679 9...</td>\n",
       "    </tr>\n",
       "    <tr>\n",
       "      <th>3</th>\n",
       "      <td>0</td>\n",
       "      <td>Parcela_4</td>\n",
       "      <td>POLYGON ((525737.679 9033005.145, 525737.679 9...</td>\n",
       "    </tr>\n",
       "    <tr>\n",
       "      <th>4</th>\n",
       "      <td>0</td>\n",
       "      <td>Parcela_5</td>\n",
       "      <td>POLYGON ((530737.679 9028005.145, 530737.679 9...</td>\n",
       "    </tr>\n",
       "  </tbody>\n",
       "</table>\n",
       "</div>"
      ],
      "text/plain": [
       "   Id     Nombre                                           geometry\n",
       "0   0  Parcela_1  POLYGON ((520737.679 9028005.145, 520737.679 9...\n",
       "1   0  Parcela_2  POLYGON ((520737.679 9033005.145, 520737.679 9...\n",
       "2   0  Parcela_3  POLYGON ((525737.679 9028005.145, 525737.679 9...\n",
       "3   0  Parcela_4  POLYGON ((525737.679 9033005.145, 525737.679 9...\n",
       "4   0  Parcela_5  POLYGON ((530737.679 9028005.145, 530737.679 9..."
      ]
     },
     "execution_count": 11,
     "metadata": {},
     "output_type": "execute_result"
    }
   ],
   "source": [
    "# cargar un shp\n",
    "zona_gdp = gpd.read_file(lista[1])\n",
    "zona_gdp"
   ]
  },
  {
   "cell_type": "markdown",
   "id": "b78eaa11-1db4-48ca-b5a9-b4fcac1c5077",
   "metadata": {},
   "source": [
    "## Convertir en Geográfico WGS84"
   ]
  },
  {
   "cell_type": "code",
   "execution_count": 12,
   "id": "4937abff-ce76-44a3-b63e-28abc8bffd97",
   "metadata": {},
   "outputs": [
    {
     "data": {
      "text/html": [
       "\n",
       "            <style>\n",
       "                .geemap-dark {\n",
       "                    --jp-widgets-color: white;\n",
       "                    --jp-widgets-label-color: white;\n",
       "                    --jp-ui-font-color1: white;\n",
       "                    --jp-layout-color2: #454545;\n",
       "                    background-color: #383838;\n",
       "                }\n",
       "\n",
       "                .geemap-dark .jupyter-button {\n",
       "                    --jp-layout-color3: #383838;\n",
       "                }\n",
       "\n",
       "                .geemap-colab {\n",
       "                    background-color: var(--colab-primary-surface-color, white);\n",
       "                }\n",
       "\n",
       "                .geemap-colab .jupyter-button {\n",
       "                    --jp-layout-color3: var(--colab-primary-surface-color, white);\n",
       "                }\n",
       "            </style>\n",
       "            "
      ],
      "text/plain": [
       "<IPython.core.display.HTML object>"
      ]
     },
     "metadata": {},
     "output_type": "display_data"
    }
   ],
   "source": [
    "# Hagamos una copia de seguridad de nuestros datos\n",
    "Zona_geo = zona_gdp.copy()\n",
    "# Reproject the data\n",
    "Zona_wg84 = Zona_geo.to_crs(epsg=4326)"
   ]
  },
  {
   "cell_type": "code",
   "execution_count": 13,
   "id": "207844a7-afd7-450c-9c20-12d6db2781a3",
   "metadata": {},
   "outputs": [
    {
     "data": {
      "text/html": [
       "\n",
       "            <style>\n",
       "                .geemap-dark {\n",
       "                    --jp-widgets-color: white;\n",
       "                    --jp-widgets-label-color: white;\n",
       "                    --jp-ui-font-color1: white;\n",
       "                    --jp-layout-color2: #454545;\n",
       "                    background-color: #383838;\n",
       "                }\n",
       "\n",
       "                .geemap-dark .jupyter-button {\n",
       "                    --jp-layout-color3: #383838;\n",
       "                }\n",
       "\n",
       "                .geemap-colab {\n",
       "                    background-color: var(--colab-primary-surface-color, white);\n",
       "                }\n",
       "\n",
       "                .geemap-colab .jupyter-button {\n",
       "                    --jp-layout-color3: var(--colab-primary-surface-color, white);\n",
       "                }\n",
       "            </style>\n",
       "            "
      ],
      "text/plain": [
       "<IPython.core.display.HTML object>"
      ]
     },
     "metadata": {},
     "output_type": "display_data"
    },
    {
     "data": {
      "text/plain": [
       "'WGS 84'"
      ]
     },
     "execution_count": 13,
     "metadata": {},
     "output_type": "execute_result"
    }
   ],
   "source": [
    "Zona_wg84.crs.name"
   ]
  },
  {
   "cell_type": "markdown",
   "id": "92f4e066-ddb8-4037-943a-2e6e7a391483",
   "metadata": {},
   "source": [
    "## Convertir de Geopandas a GEE"
   ]
  },
  {
   "cell_type": "code",
   "execution_count": 14,
   "id": "1b2de9d4-ec8b-4a8c-90ed-8a5733341828",
   "metadata": {},
   "outputs": [
    {
     "data": {
      "text/html": [
       "\n",
       "            <style>\n",
       "                .geemap-dark {\n",
       "                    --jp-widgets-color: white;\n",
       "                    --jp-widgets-label-color: white;\n",
       "                    --jp-ui-font-color1: white;\n",
       "                    --jp-layout-color2: #454545;\n",
       "                    background-color: #383838;\n",
       "                }\n",
       "\n",
       "                .geemap-dark .jupyter-button {\n",
       "                    --jp-layout-color3: #383838;\n",
       "                }\n",
       "\n",
       "                .geemap-colab {\n",
       "                    background-color: var(--colab-primary-surface-color, white);\n",
       "                }\n",
       "\n",
       "                .geemap-colab .jupyter-button {\n",
       "                    --jp-layout-color3: var(--colab-primary-surface-color, white);\n",
       "                }\n",
       "            </style>\n",
       "            "
      ],
      "text/plain": [
       "<IPython.core.display.HTML object>"
      ]
     },
     "metadata": {},
     "output_type": "display_data"
    }
   ],
   "source": [
    "# Crear un featureCollecion mediante GeoJSON\n",
    "ee_zona_gdp = ee.FeatureCollection(Zona_wg84.__geo_interface__)"
   ]
  },
  {
   "cell_type": "code",
   "execution_count": 15,
   "id": "833894ae-d77b-4a6d-ba81-9c31fea403ba",
   "metadata": {},
   "outputs": [
    {
     "data": {
      "text/html": [
       "\n",
       "            <style>\n",
       "                .geemap-dark {\n",
       "                    --jp-widgets-color: white;\n",
       "                    --jp-widgets-label-color: white;\n",
       "                    --jp-ui-font-color1: white;\n",
       "                    --jp-layout-color2: #454545;\n",
       "                    background-color: #383838;\n",
       "                }\n",
       "\n",
       "                .geemap-dark .jupyter-button {\n",
       "                    --jp-layout-color3: #383838;\n",
       "                }\n",
       "\n",
       "                .geemap-colab {\n",
       "                    background-color: var(--colab-primary-surface-color, white);\n",
       "                }\n",
       "\n",
       "                .geemap-colab .jupyter-button {\n",
       "                    --jp-layout-color3: var(--colab-primary-surface-color, white);\n",
       "                }\n",
       "            </style>\n",
       "            "
      ],
      "text/plain": [
       "<IPython.core.display.HTML object>"
      ]
     },
     "metadata": {},
     "output_type": "display_data"
    }
   ],
   "source": [
    "geometria = ee_zona_gdp.geometry()"
   ]
  },
  {
   "cell_type": "code",
   "execution_count": 16,
   "id": "38c8e4ce-f2da-4807-a52c-c81a0b860414",
   "metadata": {},
   "outputs": [
    {
     "data": {
      "text/html": [
       "\n",
       "            <style>\n",
       "                .geemap-dark {\n",
       "                    --jp-widgets-color: white;\n",
       "                    --jp-widgets-label-color: white;\n",
       "                    --jp-ui-font-color1: white;\n",
       "                    --jp-layout-color2: #454545;\n",
       "                    background-color: #383838;\n",
       "                }\n",
       "\n",
       "                .geemap-dark .jupyter-button {\n",
       "                    --jp-layout-color3: #383838;\n",
       "                }\n",
       "\n",
       "                .geemap-colab {\n",
       "                    background-color: var(--colab-primary-surface-color, white);\n",
       "                }\n",
       "\n",
       "                .geemap-colab .jupyter-button {\n",
       "                    --jp-layout-color3: var(--colab-primary-surface-color, white);\n",
       "                }\n",
       "            </style>\n",
       "            "
      ],
      "text/plain": [
       "<IPython.core.display.HTML object>"
      ]
     },
     "metadata": {},
     "output_type": "display_data"
    },
    {
     "data": {
      "application/vnd.jupyter.widget-view+json": {
       "model_id": "d6101d2981ce42e3beccacc87808789e",
       "version_major": 2,
       "version_minor": 0
      },
      "text/plain": [
       "Map(bottom=812.0, center=[-8.752467746986964, -74.75235799183511], controls=(WidgetControl(options=['position'…"
      ]
     },
     "execution_count": 16,
     "metadata": {},
     "output_type": "execute_result"
    }
   ],
   "source": [
    "# Visualizar mapa\n",
    "Map.centerObject(geometria,12)\n",
    "Map.addLayer(ee_zona_gdp, {\"color\" : \"00FF11\"}, \"zona_gdp\")\n",
    "Map"
   ]
  },
  {
   "cell_type": "code",
   "execution_count": 18,
   "id": "a73ba326-289b-421f-a0e3-a1f566f119ff",
   "metadata": {},
   "outputs": [
    {
     "data": {
      "text/html": [
       "\n",
       "            <style>\n",
       "                .geemap-dark {\n",
       "                    --jp-widgets-color: white;\n",
       "                    --jp-widgets-label-color: white;\n",
       "                    --jp-ui-font-color1: white;\n",
       "                    --jp-layout-color2: #454545;\n",
       "                    background-color: #383838;\n",
       "                }\n",
       "\n",
       "                .geemap-dark .jupyter-button {\n",
       "                    --jp-layout-color3: #383838;\n",
       "                }\n",
       "\n",
       "                .geemap-colab {\n",
       "                    background-color: var(--colab-primary-surface-color, white);\n",
       "                }\n",
       "\n",
       "                .geemap-colab .jupyter-button {\n",
       "                    --jp-layout-color3: var(--colab-primary-surface-color, white);\n",
       "                }\n",
       "            </style>\n",
       "            "
      ],
      "text/plain": [
       "<IPython.core.display.HTML object>"
      ]
     },
     "metadata": {},
     "output_type": "display_data"
    },
    {
     "name": "stdout",
     "output_type": "stream",
     "text": [
      "['Parcela_1', 'Parcela_2', 'Parcela_3', 'Parcela_4', 'Parcela_5']\n"
     ]
    }
   ],
   "source": [
    "# Extraer la lista de paises\n",
    "lista_parcela = ee_zona_gdp.reduceColumns(ee.Reducer.toList(),[\"Nombre\"]).get(\"list\").getInfo()\n",
    "print(lista_parcela)"
   ]
  },
  {
   "cell_type": "code",
   "execution_count": 19,
   "id": "3d3cdce5-384a-4cab-93cf-69fe81464c4c",
   "metadata": {},
   "outputs": [
    {
     "data": {
      "text/html": [
       "\n",
       "            <style>\n",
       "                .geemap-dark {\n",
       "                    --jp-widgets-color: white;\n",
       "                    --jp-widgets-label-color: white;\n",
       "                    --jp-ui-font-color1: white;\n",
       "                    --jp-layout-color2: #454545;\n",
       "                    background-color: #383838;\n",
       "                }\n",
       "\n",
       "                .geemap-dark .jupyter-button {\n",
       "                    --jp-layout-color3: #383838;\n",
       "                }\n",
       "\n",
       "                .geemap-colab {\n",
       "                    background-color: var(--colab-primary-surface-color, white);\n",
       "                }\n",
       "\n",
       "                .geemap-colab .jupyter-button {\n",
       "                    --jp-layout-color3: var(--colab-primary-surface-color, white);\n",
       "                }\n",
       "            </style>\n",
       "            "
      ],
      "text/plain": [
       "<IPython.core.display.HTML object>"
      ]
     },
     "metadata": {},
     "output_type": "display_data"
    }
   ],
   "source": [
    "Parcela = ee_zona_gdp.filterMetadata('Nombre', 'equals', lista_parcela[0])"
   ]
  },
  {
   "cell_type": "code",
   "execution_count": 20,
   "id": "e43cd9e4-35de-4203-980a-1b8b2b42fb9e",
   "metadata": {},
   "outputs": [
    {
     "data": {
      "text/html": [
       "\n",
       "            <style>\n",
       "                .geemap-dark {\n",
       "                    --jp-widgets-color: white;\n",
       "                    --jp-widgets-label-color: white;\n",
       "                    --jp-ui-font-color1: white;\n",
       "                    --jp-layout-color2: #454545;\n",
       "                    background-color: #383838;\n",
       "                }\n",
       "\n",
       "                .geemap-dark .jupyter-button {\n",
       "                    --jp-layout-color3: #383838;\n",
       "                }\n",
       "\n",
       "                .geemap-colab {\n",
       "                    background-color: var(--colab-primary-surface-color, white);\n",
       "                }\n",
       "\n",
       "                .geemap-colab .jupyter-button {\n",
       "                    --jp-layout-color3: var(--colab-primary-surface-color, white);\n",
       "                }\n",
       "            </style>\n",
       "            "
      ],
      "text/plain": [
       "<IPython.core.display.HTML object>"
      ]
     },
     "metadata": {},
     "output_type": "display_data"
    }
   ],
   "source": [
    "os.chdir(r\"D:\\Descarga\")"
   ]
  },
  {
   "cell_type": "code",
   "execution_count": 36,
   "id": "3c2f0207-2136-4825-aa30-714e17be2487",
   "metadata": {},
   "outputs": [
    {
     "data": {
      "text/html": [
       "\n",
       "            <style>\n",
       "                .geemap-dark {\n",
       "                    --jp-widgets-color: white;\n",
       "                    --jp-widgets-label-color: white;\n",
       "                    --jp-ui-font-color1: white;\n",
       "                    --jp-layout-color2: #454545;\n",
       "                    background-color: #383838;\n",
       "                }\n",
       "\n",
       "                .geemap-dark .jupyter-button {\n",
       "                    --jp-layout-color3: #383838;\n",
       "                }\n",
       "\n",
       "                .geemap-colab {\n",
       "                    background-color: var(--colab-primary-surface-color, white);\n",
       "                }\n",
       "\n",
       "                .geemap-colab .jupyter-button {\n",
       "                    --jp-layout-color3: var(--colab-primary-surface-color, white);\n",
       "                }\n",
       "            </style>\n",
       "            "
      ],
      "text/plain": [
       "<IPython.core.display.HTML object>"
      ]
     },
     "metadata": {},
     "output_type": "display_data"
    }
   ],
   "source": [
    "lista_ID_S2 = []"
   ]
  },
  {
   "cell_type": "code",
   "execution_count": 37,
   "id": "44af2c84-06bf-4353-bdcc-84d05b50ab26",
   "metadata": {},
   "outputs": [
    {
     "data": {
      "text/html": [
       "\n",
       "            <style>\n",
       "                .geemap-dark {\n",
       "                    --jp-widgets-color: white;\n",
       "                    --jp-widgets-label-color: white;\n",
       "                    --jp-ui-font-color1: white;\n",
       "                    --jp-layout-color2: #454545;\n",
       "                    background-color: #383838;\n",
       "                }\n",
       "\n",
       "                .geemap-dark .jupyter-button {\n",
       "                    --jp-layout-color3: #383838;\n",
       "                }\n",
       "\n",
       "                .geemap-colab {\n",
       "                    background-color: var(--colab-primary-surface-color, white);\n",
       "                }\n",
       "\n",
       "                .geemap-colab .jupyter-button {\n",
       "                    --jp-layout-color3: var(--colab-primary-surface-color, white);\n",
       "                }\n",
       "            </style>\n",
       "            "
      ],
      "text/plain": [
       "<IPython.core.display.HTML object>"
      ]
     },
     "metadata": {},
     "output_type": "display_data"
    },
    {
     "name": "stdout",
     "output_type": "stream",
     "text": [
      "Generating URL ...\n",
      "Downloading data from https://earthengine.googleapis.com/v1/projects/earthengine-legacy/thumbnails/6e0ac819a97915ff99487c92ed3ed884-fd9cffa8da417664a54d5618a3660b4b:getPixels\n",
      "Please wait ...\n",
      "Data downloaded to D:\\Descarga\\20230619T151711_Parcela_1.tif\n",
      "Archivo exportado 20230619T151711_Parcela_1.tif\n",
      "Generating URL ...\n",
      "Downloading data from https://earthengine.googleapis.com/v1/projects/earthengine-legacy/thumbnails/bfc4622b58dd5364129bab420f0e8fdd-8bb25e8b22ba2ac770675e9da579c927:getPixels\n",
      "Please wait ...\n",
      "Data downloaded to D:\\Descarga\\20230624T151709_Parcela_1.tif\n",
      "Archivo exportado 20230624T151709_Parcela_1.tif\n",
      "Generating URL ...\n",
      "Downloading data from https://earthengine.googleapis.com/v1/projects/earthengine-legacy/thumbnails/a82c34cff4b4a8d2619f7ec4a2bcee3d-5d2ba9cdd7873c7109eec27edfe2c8ed:getPixels\n",
      "Please wait ...\n",
      "Data downloaded to D:\\Descarga\\20230629T151711_Parcela_1.tif\n",
      "Archivo exportado 20230629T151711_Parcela_1.tif\n",
      "Generating URL ...\n",
      "Downloading data from https://earthengine.googleapis.com/v1/projects/earthengine-legacy/thumbnails/5bbbe0c8679ea0519c75f22837543ce4-6e2015749bcd680fbb5da1dcdcb877c0:getPixels\n",
      "Please wait ...\n",
      "Data downloaded to D:\\Descarga\\20230704T151709_Parcela_1.tif\n",
      "Archivo exportado 20230704T151709_Parcela_1.tif\n",
      "Generating URL ...\n",
      "Downloading data from https://earthengine.googleapis.com/v1/projects/earthengine-legacy/thumbnails/386c10ae9c8d12ac010c0022e2b7a00f-e30180d9a7e9a61cff1cad5cdb29a4f5:getPixels\n",
      "Please wait ...\n",
      "Data downloaded to D:\\Descarga\\20230704T151709_Parcela_1.tif\n",
      "Archivo exportado 20230704T151709_Parcela_1.tif\n",
      "Generating URL ...\n",
      "Downloading data from https://earthengine.googleapis.com/v1/projects/earthengine-legacy/thumbnails/36cfae11fe5aae44a93c990dc9cefa35-e71d1b002be38cc7d12f3e7f645264b6:getPixels\n",
      "Please wait ...\n",
      "Data downloaded to D:\\Descarga\\20230714T151709_Parcela_1.tif\n",
      "Archivo exportado 20230714T151709_Parcela_1.tif\n",
      "Generating URL ...\n",
      "Downloading data from https://earthengine.googleapis.com/v1/projects/earthengine-legacy/thumbnails/94cb91aeb1753142e4127236db5fad2c-0f93ab3be4c8b7abcdc78d3758df13f3:getPixels\n",
      "Please wait ...\n",
      "Data downloaded to D:\\Descarga\\20230724T151709_Parcela_1.tif\n",
      "Archivo exportado 20230724T151709_Parcela_1.tif\n",
      "Generating URL ...\n",
      "Downloading data from https://earthengine.googleapis.com/v1/projects/earthengine-legacy/thumbnails/dca96a901dc888508c63ea5f21fdd21c-7b19800b15baea7d2edc806bc802641b:getPixels\n",
      "Please wait ...\n",
      "Data downloaded to D:\\Descarga\\20230803T151709_Parcela_1.tif\n",
      "Archivo exportado 20230803T151709_Parcela_1.tif\n",
      "Generating URL ...\n",
      "Downloading data from https://earthengine.googleapis.com/v1/projects/earthengine-legacy/thumbnails/9242bc17396e3b4848074194e6178509-16c6d790ad837ff27848a64fc0be43fb:getPixels\n",
      "Please wait ...\n",
      "Data downloaded to D:\\Descarga\\20230808T151711_Parcela_1.tif\n",
      "Archivo exportado 20230808T151711_Parcela_1.tif\n",
      "Generating URL ...\n",
      "Downloading data from https://earthengine.googleapis.com/v1/projects/earthengine-legacy/thumbnails/d444da506323df55bd3fffb0da8957cb-a4678f073c0d5ba175d3b02b28b801cd:getPixels\n",
      "Please wait ...\n",
      "Data downloaded to D:\\Descarga\\20230818T151711_Parcela_1.tif\n",
      "Archivo exportado 20230818T151711_Parcela_1.tif\n",
      "Generating URL ...\n",
      "Downloading data from https://earthengine.googleapis.com/v1/projects/earthengine-legacy/thumbnails/75781adb1d1d15e85e1390d6ec7fa0e4-b981750f5430b08ad0d0da556650d23b:getPixels\n",
      "Please wait ...\n",
      "Data downloaded to D:\\Descarga\\20230902T151709_Parcela_1.tif\n",
      "Archivo exportado 20230902T151709_Parcela_1.tif\n",
      "Generating URL ...\n",
      "Downloading data from https://earthengine.googleapis.com/v1/projects/earthengine-legacy/thumbnails/d796942056bb0bab44daca1a247bd5a1-4ce21d1f3b72344017dfe570714de124:getPixels\n",
      "Please wait ...\n",
      "Data downloaded to D:\\Descarga\\20230907T151711_Parcela_1.tif\n",
      "Archivo exportado 20230907T151711_Parcela_1.tif\n",
      "Generating URL ...\n",
      "Downloading data from https://earthengine.googleapis.com/v1/projects/earthengine-legacy/thumbnails/cae6a4289fac6ecceee82f8d64cbb0a4-07121450799498575d60e6e3addf3e8a:getPixels\n",
      "Please wait ...\n",
      "Data downloaded to D:\\Descarga\\20230912T151709_Parcela_1.tif\n",
      "Archivo exportado 20230912T151709_Parcela_1.tif\n",
      "Generating URL ...\n",
      "Downloading data from https://earthengine.googleapis.com/v1/projects/earthengine-legacy/thumbnails/e4158379ad76d8c585d1e4e9917c1570-acbdb9118eaed04ad42ab0607a7ab937:getPixels\n",
      "Please wait ...\n",
      "Data downloaded to D:\\Descarga\\20230917T151711_Parcela_1.tif\n",
      "Archivo exportado 20230917T151711_Parcela_1.tif\n",
      "Generating URL ...\n",
      "Downloading data from https://earthengine.googleapis.com/v1/projects/earthengine-legacy/thumbnails/fe6545057fb528745fa58a194370a542-3c1d8b9a1ce884871d1713194b776b1d:getPixels\n",
      "Please wait ...\n",
      "Data downloaded to D:\\Descarga\\20230922T151709_Parcela_1.tif\n",
      "Archivo exportado 20230922T151709_Parcela_1.tif\n",
      "Generating URL ...\n",
      "Downloading data from https://earthengine.googleapis.com/v1/projects/earthengine-legacy/thumbnails/79a1a496cd41dda2e348921c6997f4e6-2ed52dfc259eef101af66468a857537b:getPixels\n",
      "Please wait ...\n",
      "Data downloaded to D:\\Descarga\\20230927T151711_Parcela_1.tif\n",
      "Archivo exportado 20230927T151711_Parcela_1.tif\n",
      "Generating URL ...\n",
      "Downloading data from https://earthengine.googleapis.com/v1/projects/earthengine-legacy/thumbnails/64ab4d225cb285b942f13d00538954b1-aff2cdef800b9b7307812600e84db15c:getPixels\n",
      "Please wait ...\n",
      "Data downloaded to D:\\Descarga\\20231002T151709_Parcela_1.tif\n",
      "Archivo exportado 20231002T151709_Parcela_1.tif\n",
      "Generating URL ...\n",
      "Downloading data from https://earthengine.googleapis.com/v1/projects/earthengine-legacy/thumbnails/82cf836d6b4ebdcdaa40edfc01d40c55-ae529f93bdbd61a4d837c90196bce0f3:getPixels\n",
      "Please wait ...\n",
      "Data downloaded to D:\\Descarga\\20231007T151711_Parcela_1.tif\n",
      "Archivo exportado 20231007T151711_Parcela_1.tif\n",
      "Generating URL ...\n",
      "Downloading data from https://earthengine.googleapis.com/v1/projects/earthengine-legacy/thumbnails/1c7191d2f6acc529444d5e785384a528-1d57cc0d7e15514ea959e325a14961b5:getPixels\n",
      "Please wait ...\n",
      "Data downloaded to D:\\Descarga\\20240110T151719_Parcela_1.tif\n",
      "Archivo exportado 20240110T151719_Parcela_1.tif\n",
      "Generating URL ...\n",
      "Downloading data from https://earthengine.googleapis.com/v1/projects/earthengine-legacy/thumbnails/487b3a14ba91e0e909ee350e6ef7b20e-5d6a15ac8c153605c08e05804c9fc0f8:getPixels\n",
      "Please wait ...\n",
      "Data downloaded to D:\\Descarga\\20240125T151711_Parcela_1.tif\n",
      "Archivo exportado 20240125T151711_Parcela_1.tif\n",
      "Generating URL ...\n",
      "Downloading data from https://earthengine.googleapis.com/v1/projects/earthengine-legacy/thumbnails/f1b0c5d6e3fb42fa604bef056715a268-d240d0b876d04fcb40e074c6b3ef1fd6:getPixels\n",
      "Please wait ...\n",
      "Data downloaded to D:\\Descarga\\20240325T151721_Parcela_1.tif\n",
      "Archivo exportado 20240325T151721_Parcela_1.tif\n",
      "Generating URL ...\n",
      "Downloading data from https://earthengine.googleapis.com/v1/projects/earthengine-legacy/thumbnails/51d9bba23efc777d6d9696c4885ef302-f801b57bb7b463f7e543a94cab981b97:getPixels\n",
      "Please wait ...\n",
      "Data downloaded to D:\\Descarga\\20230619T151711_Parcela_2.tif\n",
      "Archivo exportado 20230619T151711_Parcela_2.tif\n",
      "Generating URL ...\n",
      "Downloading data from https://earthengine.googleapis.com/v1/projects/earthengine-legacy/thumbnails/905e26c6b3085ed1eaa64c241de19aa7-295c917a43ad8d42bb8c6ea448526436:getPixels\n",
      "Please wait ...\n",
      "Data downloaded to D:\\Descarga\\20230624T151709_Parcela_2.tif\n",
      "Archivo exportado 20230624T151709_Parcela_2.tif\n",
      "Generating URL ...\n",
      "Downloading data from https://earthengine.googleapis.com/v1/projects/earthengine-legacy/thumbnails/e02ca40c4499fd163a771f1fac247b4e-2d7ec22eb90a5541692593e71acdd492:getPixels\n",
      "Please wait ...\n",
      "Data downloaded to D:\\Descarga\\20230629T151711_Parcela_2.tif\n",
      "Archivo exportado 20230629T151711_Parcela_2.tif\n",
      "Generating URL ...\n",
      "Downloading data from https://earthengine.googleapis.com/v1/projects/earthengine-legacy/thumbnails/a9a5025d2ee6553b302730b63c3c091b-3ff71babe39af6c6b97aa28001895ae7:getPixels\n",
      "Please wait ...\n",
      "Data downloaded to D:\\Descarga\\20230704T151709_Parcela_2.tif\n",
      "Archivo exportado 20230704T151709_Parcela_2.tif\n",
      "Generating URL ...\n",
      "Downloading data from https://earthengine.googleapis.com/v1/projects/earthengine-legacy/thumbnails/491e0df36a28b8798938b9e921a5dd46-8a6d77aadfe9e1fa5c772a1600486ad7:getPixels\n",
      "Please wait ...\n",
      "Data downloaded to D:\\Descarga\\20230704T151709_Parcela_2.tif\n",
      "Archivo exportado 20230704T151709_Parcela_2.tif\n",
      "Generating URL ...\n",
      "Downloading data from https://earthengine.googleapis.com/v1/projects/earthengine-legacy/thumbnails/86c29e213105db6f5c56b0ea91605446-83bc135c63586620a9a188ee88312244:getPixels\n",
      "Please wait ...\n",
      "Data downloaded to D:\\Descarga\\20230714T151709_Parcela_2.tif\n",
      "Archivo exportado 20230714T151709_Parcela_2.tif\n",
      "Generating URL ...\n",
      "Downloading data from https://earthengine.googleapis.com/v1/projects/earthengine-legacy/thumbnails/e8bd6f7d39c80d97ccd7422e945ca5e2-424c7a2a8eddfbc2969fe7fa036f2f6c:getPixels\n",
      "Please wait ...\n",
      "Data downloaded to D:\\Descarga\\20230724T151709_Parcela_2.tif\n",
      "Archivo exportado 20230724T151709_Parcela_2.tif\n",
      "Generating URL ...\n",
      "Downloading data from https://earthengine.googleapis.com/v1/projects/earthengine-legacy/thumbnails/b071766a800e55e08b8b82774148a851-2f84befd1b89fbdcf56a79f05bd4058d:getPixels\n",
      "Please wait ...\n",
      "Data downloaded to D:\\Descarga\\20230803T151709_Parcela_2.tif\n",
      "Archivo exportado 20230803T151709_Parcela_2.tif\n",
      "Generating URL ...\n",
      "Downloading data from https://earthengine.googleapis.com/v1/projects/earthengine-legacy/thumbnails/754cac40bf37206ecb6339827e28f374-8a35aab3b2e7c8507d6a01ef36790283:getPixels\n",
      "Please wait ...\n",
      "Data downloaded to D:\\Descarga\\20230808T151711_Parcela_2.tif\n",
      "Archivo exportado 20230808T151711_Parcela_2.tif\n",
      "Generating URL ...\n",
      "Downloading data from https://earthengine.googleapis.com/v1/projects/earthengine-legacy/thumbnails/b0619972ca2b6a4478ef8dea8e3548f0-2d3123c88aec97f1bc70ad90e2137cb2:getPixels\n",
      "Please wait ...\n",
      "Data downloaded to D:\\Descarga\\20230818T151711_Parcela_2.tif\n",
      "Archivo exportado 20230818T151711_Parcela_2.tif\n",
      "Generating URL ...\n",
      "Downloading data from https://earthengine.googleapis.com/v1/projects/earthengine-legacy/thumbnails/5e61fd27bb7e3914b91e228cf6739120-520f2e7842383b5fa4bda91eb0281008:getPixels\n",
      "Please wait ...\n",
      "Data downloaded to D:\\Descarga\\20230902T151709_Parcela_2.tif\n",
      "Archivo exportado 20230902T151709_Parcela_2.tif\n",
      "Generating URL ...\n",
      "Downloading data from https://earthengine.googleapis.com/v1/projects/earthengine-legacy/thumbnails/2a6ea1e178064a7f03a7e758ec6bbfdd-b7d501f72e3fc0773beed2b3379786a3:getPixels\n",
      "Please wait ...\n",
      "Data downloaded to D:\\Descarga\\20230907T151711_Parcela_2.tif\n",
      "Archivo exportado 20230907T151711_Parcela_2.tif\n",
      "Generating URL ...\n",
      "Downloading data from https://earthengine.googleapis.com/v1/projects/earthengine-legacy/thumbnails/d5b2863f172b415b55956b8d8f4be22f-874d3eea36a212bd87f21cfc7fd3d553:getPixels\n",
      "Please wait ...\n",
      "Data downloaded to D:\\Descarga\\20230912T151709_Parcela_2.tif\n",
      "Archivo exportado 20230912T151709_Parcela_2.tif\n",
      "Generating URL ...\n",
      "Downloading data from https://earthengine.googleapis.com/v1/projects/earthengine-legacy/thumbnails/e87a6dae85bb42e427af7ef13554061b-bb773ee6d833217f1dbb02a0227b3732:getPixels\n",
      "Please wait ...\n",
      "Data downloaded to D:\\Descarga\\20230917T151711_Parcela_2.tif\n",
      "Archivo exportado 20230917T151711_Parcela_2.tif\n",
      "Generating URL ...\n",
      "Downloading data from https://earthengine.googleapis.com/v1/projects/earthengine-legacy/thumbnails/a8d097c4fcc8ac577e932ae3a4226063-cf8fd351774ac173763268185ea53743:getPixels\n",
      "Please wait ...\n",
      "Data downloaded to D:\\Descarga\\20230922T151709_Parcela_2.tif\n",
      "Archivo exportado 20230922T151709_Parcela_2.tif\n",
      "Generating URL ...\n",
      "Downloading data from https://earthengine.googleapis.com/v1/projects/earthengine-legacy/thumbnails/33e255e50d18c667100117c60beaa6be-da4cf3881a8750edb78ef7ecb40ae3d7:getPixels\n",
      "Please wait ...\n",
      "Data downloaded to D:\\Descarga\\20230927T151711_Parcela_2.tif\n",
      "Archivo exportado 20230927T151711_Parcela_2.tif\n",
      "Generating URL ...\n",
      "Downloading data from https://earthengine.googleapis.com/v1/projects/earthengine-legacy/thumbnails/6ab80f274b7f397f24184404d0c5b73b-e82fcab6081fe159c5eb3f7436f3eb33:getPixels\n",
      "Please wait ...\n",
      "Data downloaded to D:\\Descarga\\20231002T151709_Parcela_2.tif\n",
      "Archivo exportado 20231002T151709_Parcela_2.tif\n",
      "Generating URL ...\n",
      "Downloading data from https://earthengine.googleapis.com/v1/projects/earthengine-legacy/thumbnails/25bdae4f600ce88049a4bea32c5540ee-555dad0b5d1222563e6e38be48b12d9d:getPixels\n",
      "Please wait ...\n",
      "Data downloaded to D:\\Descarga\\20231007T151711_Parcela_2.tif\n",
      "Archivo exportado 20231007T151711_Parcela_2.tif\n",
      "Generating URL ...\n",
      "Downloading data from https://earthengine.googleapis.com/v1/projects/earthengine-legacy/thumbnails/afde9fe8d5368748e6b39d2e4d9ba00e-fcdbd5fcff03d25c27ef2a738cace461:getPixels\n",
      "Please wait ...\n",
      "Data downloaded to D:\\Descarga\\20240110T151719_Parcela_2.tif\n",
      "Archivo exportado 20240110T151719_Parcela_2.tif\n",
      "Generating URL ...\n",
      "Downloading data from https://earthengine.googleapis.com/v1/projects/earthengine-legacy/thumbnails/893672cebb351746998d5cd94f765525-7725c5df936f183af10b0f1e2180ecf4:getPixels\n",
      "Please wait ...\n",
      "Data downloaded to D:\\Descarga\\20240125T151711_Parcela_2.tif\n",
      "Archivo exportado 20240125T151711_Parcela_2.tif\n",
      "Generating URL ...\n",
      "Downloading data from https://earthengine.googleapis.com/v1/projects/earthengine-legacy/thumbnails/931b088babe2892f15dda68a56b507dc-7641b3f873781014edf65a4f38003ff0:getPixels\n",
      "Please wait ...\n",
      "Data downloaded to D:\\Descarga\\20240325T151721_Parcela_2.tif\n",
      "Archivo exportado 20240325T151721_Parcela_2.tif\n",
      "Generating URL ...\n",
      "Downloading data from https://earthengine.googleapis.com/v1/projects/earthengine-legacy/thumbnails/0848e3fc2afb118ec304fa7ad2405851-155e6f584b04725a2d4a54c5207ba86b:getPixels\n",
      "Please wait ...\n",
      "Data downloaded to D:\\Descarga\\20230619T151711_Parcela_3.tif\n",
      "Archivo exportado 20230619T151711_Parcela_3.tif\n",
      "Generating URL ...\n",
      "Downloading data from https://earthengine.googleapis.com/v1/projects/earthengine-legacy/thumbnails/46b6b8d9e97115d0ca5b8a36129ae56e-3c7af24297f250a63589755db8d627fc:getPixels\n",
      "Please wait ...\n",
      "Data downloaded to D:\\Descarga\\20230624T151709_Parcela_3.tif\n",
      "Archivo exportado 20230624T151709_Parcela_3.tif\n",
      "Generating URL ...\n",
      "Downloading data from https://earthengine.googleapis.com/v1/projects/earthengine-legacy/thumbnails/8e2744d4a8b491ca6a0d6c1eb983747c-950ece5a66b1b7bb5fafcf79498d6370:getPixels\n",
      "Please wait ...\n",
      "Data downloaded to D:\\Descarga\\20230629T151711_Parcela_3.tif\n",
      "Archivo exportado 20230629T151711_Parcela_3.tif\n",
      "Generating URL ...\n",
      "Downloading data from https://earthengine.googleapis.com/v1/projects/earthengine-legacy/thumbnails/b9585cd607490269562a7c7a3a6cfa56-0e3cd3a3a69ef8127899cc2c390639c7:getPixels\n",
      "Please wait ...\n",
      "Data downloaded to D:\\Descarga\\20230704T151709_Parcela_3.tif\n",
      "Archivo exportado 20230704T151709_Parcela_3.tif\n",
      "Generating URL ...\n",
      "Downloading data from https://earthengine.googleapis.com/v1/projects/earthengine-legacy/thumbnails/906f5f3be9b1554f50cb2c4301260c1d-2e5d0a4c35c821c0f3330d95a1b92625:getPixels\n",
      "Please wait ...\n",
      "Data downloaded to D:\\Descarga\\20230704T151709_Parcela_3.tif\n",
      "Archivo exportado 20230704T151709_Parcela_3.tif\n",
      "Generating URL ...\n",
      "Downloading data from https://earthengine.googleapis.com/v1/projects/earthengine-legacy/thumbnails/1b54170a450331c2398a73cc8180f1ea-a02612bd5a046d9730e22874a54b614a:getPixels\n",
      "Please wait ...\n",
      "Data downloaded to D:\\Descarga\\20230714T151709_Parcela_3.tif\n",
      "Archivo exportado 20230714T151709_Parcela_3.tif\n",
      "Generating URL ...\n",
      "Downloading data from https://earthengine.googleapis.com/v1/projects/earthengine-legacy/thumbnails/b24e5c7249ddc052c32143a7cd2271ff-00a476c5b4ae45e434599519740e1844:getPixels\n",
      "Please wait ...\n",
      "Data downloaded to D:\\Descarga\\20230724T151709_Parcela_3.tif\n",
      "Archivo exportado 20230724T151709_Parcela_3.tif\n",
      "Generating URL ...\n",
      "Downloading data from https://earthengine.googleapis.com/v1/projects/earthengine-legacy/thumbnails/304457d82e4ed45860462a64cf2a360b-5c058e1119cd478dfa0276da7b832f41:getPixels\n",
      "Please wait ...\n",
      "Data downloaded to D:\\Descarga\\20230803T151709_Parcela_3.tif\n",
      "Archivo exportado 20230803T151709_Parcela_3.tif\n",
      "Generating URL ...\n",
      "Downloading data from https://earthengine.googleapis.com/v1/projects/earthengine-legacy/thumbnails/d8d9a2f886c1cdc75f68717d4f2ae615-9d075799cf9771a0af5c990dd255bebe:getPixels\n",
      "Please wait ...\n",
      "Data downloaded to D:\\Descarga\\20230808T151711_Parcela_3.tif\n",
      "Archivo exportado 20230808T151711_Parcela_3.tif\n",
      "Generating URL ...\n",
      "Downloading data from https://earthengine.googleapis.com/v1/projects/earthengine-legacy/thumbnails/f1e9421cf1e1be553f79766b87a246a4-a2660a531bf886e76d4d0d1b1cfcc781:getPixels\n",
      "Please wait ...\n",
      "Data downloaded to D:\\Descarga\\20230818T151711_Parcela_3.tif\n",
      "Archivo exportado 20230818T151711_Parcela_3.tif\n",
      "Generating URL ...\n",
      "Downloading data from https://earthengine.googleapis.com/v1/projects/earthengine-legacy/thumbnails/bf1e24e10789c3778a2814fef9f428a8-afa124bc07f8aeacc6e5e54c4e1eeb95:getPixels\n",
      "Please wait ...\n",
      "Data downloaded to D:\\Descarga\\20230902T151709_Parcela_3.tif\n",
      "Archivo exportado 20230902T151709_Parcela_3.tif\n",
      "Generating URL ...\n",
      "Downloading data from https://earthengine.googleapis.com/v1/projects/earthengine-legacy/thumbnails/277ed36d0678345f681096f6754ca491-0c38aa6146e049fe4b2de06eae521248:getPixels\n",
      "Please wait ...\n",
      "Data downloaded to D:\\Descarga\\20230907T151711_Parcela_3.tif\n",
      "Archivo exportado 20230907T151711_Parcela_3.tif\n",
      "Generating URL ...\n",
      "Downloading data from https://earthengine.googleapis.com/v1/projects/earthengine-legacy/thumbnails/69dd1dbf305904678b8ea99543924304-ca1c5be95bbee8017359f3973476946f:getPixels\n",
      "Please wait ...\n",
      "Data downloaded to D:\\Descarga\\20230912T151709_Parcela_3.tif\n",
      "Archivo exportado 20230912T151709_Parcela_3.tif\n",
      "Generating URL ...\n",
      "Downloading data from https://earthengine.googleapis.com/v1/projects/earthengine-legacy/thumbnails/1780094891d7c8016a7fff9df769b2f4-dc6c5cdb4cca756491f24fb982d4780f:getPixels\n",
      "Please wait ...\n",
      "Data downloaded to D:\\Descarga\\20230917T151711_Parcela_3.tif\n",
      "Archivo exportado 20230917T151711_Parcela_3.tif\n",
      "Generating URL ...\n",
      "Downloading data from https://earthengine.googleapis.com/v1/projects/earthengine-legacy/thumbnails/3936b286411be892b8aaf9d54f265bed-7dc593d381d4c1a92b57add9c7a49147:getPixels\n",
      "Please wait ...\n",
      "Data downloaded to D:\\Descarga\\20230922T151709_Parcela_3.tif\n",
      "Archivo exportado 20230922T151709_Parcela_3.tif\n",
      "Generating URL ...\n",
      "Downloading data from https://earthengine.googleapis.com/v1/projects/earthengine-legacy/thumbnails/5d3cce04dd8b8ed5234835885841a789-ecbb9f45eef7196691dd08d7d0729b7b:getPixels\n",
      "Please wait ...\n",
      "Data downloaded to D:\\Descarga\\20230927T151711_Parcela_3.tif\n",
      "Archivo exportado 20230927T151711_Parcela_3.tif\n",
      "Generating URL ...\n",
      "Downloading data from https://earthengine.googleapis.com/v1/projects/earthengine-legacy/thumbnails/b2deb9b941a27cd2a0df77a45f0cb524-9ad4c96f6b8e70c32cc4dcd56e513f4c:getPixels\n",
      "Please wait ...\n",
      "Data downloaded to D:\\Descarga\\20231002T151709_Parcela_3.tif\n",
      "Archivo exportado 20231002T151709_Parcela_3.tif\n",
      "Generating URL ...\n",
      "Downloading data from https://earthengine.googleapis.com/v1/projects/earthengine-legacy/thumbnails/613fbf023512cba100a66354a4fb9363-dced9cdb1267c4d8ffb4585c433d8da5:getPixels\n",
      "Please wait ...\n",
      "Data downloaded to D:\\Descarga\\20231007T151711_Parcela_3.tif\n",
      "Archivo exportado 20231007T151711_Parcela_3.tif\n",
      "Generating URL ...\n",
      "Downloading data from https://earthengine.googleapis.com/v1/projects/earthengine-legacy/thumbnails/7b83e24de7303003984ed16d2b997a13-69dcc5c038b9601bce28bbace4a7a073:getPixels\n",
      "Please wait ...\n",
      "Data downloaded to D:\\Descarga\\20240110T151719_Parcela_3.tif\n",
      "Archivo exportado 20240110T151719_Parcela_3.tif\n",
      "Generating URL ...\n",
      "Downloading data from https://earthengine.googleapis.com/v1/projects/earthengine-legacy/thumbnails/7b5d52a0e331c7cf2dfa204a8a03b037-0f04194e3fffd9a275c99985de7b2e59:getPixels\n",
      "Please wait ...\n",
      "Data downloaded to D:\\Descarga\\20240125T151711_Parcela_3.tif\n",
      "Archivo exportado 20240125T151711_Parcela_3.tif\n",
      "Generating URL ...\n",
      "Downloading data from https://earthengine.googleapis.com/v1/projects/earthengine-legacy/thumbnails/c19eafac5a8b69540b422ecee530cb77-27d63060b45b43c4b4ae1fc3503084a6:getPixels\n",
      "Please wait ...\n",
      "Data downloaded to D:\\Descarga\\20240325T151721_Parcela_3.tif\n",
      "Archivo exportado 20240325T151721_Parcela_3.tif\n",
      "Generating URL ...\n",
      "Downloading data from https://earthengine.googleapis.com/v1/projects/earthengine-legacy/thumbnails/d85ca79e0ed79c21f593d99ce3224c64-5c13254673277ca324593b49ba56d98c:getPixels\n",
      "Please wait ...\n",
      "Data downloaded to D:\\Descarga\\20230619T151711_Parcela_4.tif\n",
      "Archivo exportado 20230619T151711_Parcela_4.tif\n",
      "Generating URL ...\n",
      "Downloading data from https://earthengine.googleapis.com/v1/projects/earthengine-legacy/thumbnails/0424892d66ee8a03c5413bcfa4bd0888-111382992e94991c47dfccef258d12b3:getPixels\n",
      "Please wait ...\n",
      "Data downloaded to D:\\Descarga\\20230624T151709_Parcela_4.tif\n",
      "Archivo exportado 20230624T151709_Parcela_4.tif\n",
      "Generating URL ...\n",
      "Downloading data from https://earthengine.googleapis.com/v1/projects/earthengine-legacy/thumbnails/dc2583f70be99427c0e7c45cca38c5b4-a687096cad71d90c0cc8668da428a169:getPixels\n",
      "Please wait ...\n",
      "Data downloaded to D:\\Descarga\\20230629T151711_Parcela_4.tif\n",
      "Archivo exportado 20230629T151711_Parcela_4.tif\n",
      "Generating URL ...\n",
      "Downloading data from https://earthengine.googleapis.com/v1/projects/earthengine-legacy/thumbnails/911af5bfaf80cb706c55b58fda897670-df424d38aae02950d12801225bc06424:getPixels\n",
      "Please wait ...\n",
      "Data downloaded to D:\\Descarga\\20230704T151709_Parcela_4.tif\n",
      "Archivo exportado 20230704T151709_Parcela_4.tif\n",
      "Generating URL ...\n",
      "Downloading data from https://earthengine.googleapis.com/v1/projects/earthengine-legacy/thumbnails/d699d1f17d94ee9505ec7dd05fa139c1-78d06ad553a64f8c7f1d858cfc13c069:getPixels\n",
      "Please wait ...\n",
      "Data downloaded to D:\\Descarga\\20230704T151709_Parcela_4.tif\n",
      "Archivo exportado 20230704T151709_Parcela_4.tif\n",
      "Generating URL ...\n",
      "Downloading data from https://earthengine.googleapis.com/v1/projects/earthengine-legacy/thumbnails/71495c07e0335370e00f2d1c7ac1d111-606b1e7fa9294e739ed236fc17e64cf1:getPixels\n",
      "Please wait ...\n",
      "Data downloaded to D:\\Descarga\\20230714T151709_Parcela_4.tif\n",
      "Archivo exportado 20230714T151709_Parcela_4.tif\n",
      "Generating URL ...\n",
      "Downloading data from https://earthengine.googleapis.com/v1/projects/earthengine-legacy/thumbnails/326e4ce3ca2fbbac2f0c71a438230de1-4ddf5cacc24fd6f783687c282ce8ba4f:getPixels\n",
      "Please wait ...\n",
      "Data downloaded to D:\\Descarga\\20230724T151709_Parcela_4.tif\n",
      "Archivo exportado 20230724T151709_Parcela_4.tif\n",
      "Generating URL ...\n",
      "Downloading data from https://earthengine.googleapis.com/v1/projects/earthengine-legacy/thumbnails/5e860c60c501d98698ff71aef4f05016-ca748b070127e4d30a4ed10d2c262417:getPixels\n",
      "Please wait ...\n",
      "Data downloaded to D:\\Descarga\\20230803T151709_Parcela_4.tif\n",
      "Archivo exportado 20230803T151709_Parcela_4.tif\n",
      "Generating URL ...\n",
      "Downloading data from https://earthengine.googleapis.com/v1/projects/earthengine-legacy/thumbnails/42f5fee2137c1f3e78b2a50bbcb8faae-cc211e9abcbf2aa0a16af74f51153ac3:getPixels\n",
      "Please wait ...\n",
      "Data downloaded to D:\\Descarga\\20230808T151711_Parcela_4.tif\n",
      "Archivo exportado 20230808T151711_Parcela_4.tif\n",
      "Generating URL ...\n",
      "Downloading data from https://earthengine.googleapis.com/v1/projects/earthengine-legacy/thumbnails/4845af1ccb8f22bd028f44cea83febed-e23a923292cdd67edd95e588244da44a:getPixels\n",
      "Please wait ...\n",
      "Data downloaded to D:\\Descarga\\20230818T151711_Parcela_4.tif\n",
      "Archivo exportado 20230818T151711_Parcela_4.tif\n",
      "Generating URL ...\n",
      "Downloading data from https://earthengine.googleapis.com/v1/projects/earthengine-legacy/thumbnails/86a072c10ed37c3c1d2b4da2690ef6eb-42679ae020084e4f09c26e970b06f66a:getPixels\n",
      "Please wait ...\n",
      "Data downloaded to D:\\Descarga\\20230902T151709_Parcela_4.tif\n",
      "Archivo exportado 20230902T151709_Parcela_4.tif\n",
      "Generating URL ...\n",
      "Downloading data from https://earthengine.googleapis.com/v1/projects/earthengine-legacy/thumbnails/513eaaba0638ac1fba8020abd386d4de-eb2950b36b83494505c78b092d9070aa:getPixels\n",
      "Please wait ...\n",
      "Data downloaded to D:\\Descarga\\20230907T151711_Parcela_4.tif\n",
      "Archivo exportado 20230907T151711_Parcela_4.tif\n",
      "Generating URL ...\n",
      "Downloading data from https://earthengine.googleapis.com/v1/projects/earthengine-legacy/thumbnails/1f809b23245378267bd6b651495b9612-721d16910b6c7c36c386b6a5c66d9e54:getPixels\n",
      "Please wait ...\n",
      "Data downloaded to D:\\Descarga\\20230912T151709_Parcela_4.tif\n",
      "Archivo exportado 20230912T151709_Parcela_4.tif\n",
      "Generating URL ...\n",
      "Downloading data from https://earthengine.googleapis.com/v1/projects/earthengine-legacy/thumbnails/e70a4ba4fc4d282f0816b3e9d99805e9-5716cd0c8cec2a514eaa382afc4c91b1:getPixels\n",
      "Please wait ...\n",
      "Data downloaded to D:\\Descarga\\20230917T151711_Parcela_4.tif\n",
      "Archivo exportado 20230917T151711_Parcela_4.tif\n",
      "Generating URL ...\n",
      "Downloading data from https://earthengine.googleapis.com/v1/projects/earthengine-legacy/thumbnails/430155059943cc4b6de917c394596587-8d8c5f353d9d30f9007326cad87a017f:getPixels\n",
      "Please wait ...\n",
      "Data downloaded to D:\\Descarga\\20230922T151709_Parcela_4.tif\n",
      "Archivo exportado 20230922T151709_Parcela_4.tif\n",
      "Generating URL ...\n",
      "Downloading data from https://earthengine.googleapis.com/v1/projects/earthengine-legacy/thumbnails/b9aa0aad7c82f8429ec90dc0705672a4-8a17f6533b6ba73de48f5c086af41731:getPixels\n",
      "Please wait ...\n",
      "Data downloaded to D:\\Descarga\\20230927T151711_Parcela_4.tif\n",
      "Archivo exportado 20230927T151711_Parcela_4.tif\n",
      "Generating URL ...\n",
      "Downloading data from https://earthengine.googleapis.com/v1/projects/earthengine-legacy/thumbnails/adabd54b79f6a11344c0b5ec472e634e-2caca85dc81be0d8a65dbef01026daba:getPixels\n",
      "Please wait ...\n",
      "Data downloaded to D:\\Descarga\\20231002T151709_Parcela_4.tif\n",
      "Archivo exportado 20231002T151709_Parcela_4.tif\n",
      "Generating URL ...\n",
      "Downloading data from https://earthengine.googleapis.com/v1/projects/earthengine-legacy/thumbnails/fe64470d9915b2e18c8e668c6d405575-385e5df0644a27778304204b6f5f0271:getPixels\n",
      "Please wait ...\n",
      "Data downloaded to D:\\Descarga\\20231007T151711_Parcela_4.tif\n",
      "Archivo exportado 20231007T151711_Parcela_4.tif\n",
      "Generating URL ...\n",
      "Downloading data from https://earthengine.googleapis.com/v1/projects/earthengine-legacy/thumbnails/358ac4342a66e91b3bd9970a16564f13-21f12d87abfadd905f87b3155e062d1d:getPixels\n",
      "Please wait ...\n",
      "Data downloaded to D:\\Descarga\\20240110T151719_Parcela_4.tif\n",
      "Archivo exportado 20240110T151719_Parcela_4.tif\n",
      "Generating URL ...\n",
      "Downloading data from https://earthengine.googleapis.com/v1/projects/earthengine-legacy/thumbnails/03ea89a52b96ecf7bbc76ec0cf7a01d9-a4592be30878807c2db6ca4824ca1cbf:getPixels\n",
      "Please wait ...\n",
      "Data downloaded to D:\\Descarga\\20240125T151711_Parcela_4.tif\n",
      "Archivo exportado 20240125T151711_Parcela_4.tif\n",
      "Generating URL ...\n",
      "Downloading data from https://earthengine.googleapis.com/v1/projects/earthengine-legacy/thumbnails/5049e76b6106a8fcd20c43d93fd76439-f51894f9efd539baa07645d7fb47dc37:getPixels\n",
      "Please wait ...\n",
      "Data downloaded to D:\\Descarga\\20240325T151721_Parcela_4.tif\n",
      "Archivo exportado 20240325T151721_Parcela_4.tif\n",
      "Generating URL ...\n",
      "Downloading data from https://earthengine.googleapis.com/v1/projects/earthengine-legacy/thumbnails/c1fdbff4670c629e7fc974f6ce874a5c-83a47ba3bc9933d0319d44623cd966d0:getPixels\n",
      "Please wait ...\n",
      "Data downloaded to D:\\Descarga\\20230619T151711_Parcela_5.tif\n",
      "Archivo exportado 20230619T151711_Parcela_5.tif\n",
      "Generating URL ...\n",
      "Downloading data from https://earthengine.googleapis.com/v1/projects/earthengine-legacy/thumbnails/476bc002551e38428879a2be5b3003b2-b8c3dd4ca7b41fa1ffbb1f58ff144819:getPixels\n",
      "Please wait ...\n",
      "Data downloaded to D:\\Descarga\\20230624T151709_Parcela_5.tif\n",
      "Archivo exportado 20230624T151709_Parcela_5.tif\n",
      "Generating URL ...\n",
      "Downloading data from https://earthengine.googleapis.com/v1/projects/earthengine-legacy/thumbnails/29e633d27b608e02cae57defc27ab311-63294b6241ad6a87a2521baeb0ed8552:getPixels\n",
      "Please wait ...\n",
      "Data downloaded to D:\\Descarga\\20230629T151711_Parcela_5.tif\n",
      "Archivo exportado 20230629T151711_Parcela_5.tif\n",
      "Generating URL ...\n",
      "Downloading data from https://earthengine.googleapis.com/v1/projects/earthengine-legacy/thumbnails/b2ccbd53a296d895fc3465389c20dd04-ed89cd2f532db43be6ad3025b2f1cdf9:getPixels\n",
      "Please wait ...\n",
      "Data downloaded to D:\\Descarga\\20230704T151709_Parcela_5.tif\n",
      "Archivo exportado 20230704T151709_Parcela_5.tif\n",
      "Generating URL ...\n",
      "Downloading data from https://earthengine.googleapis.com/v1/projects/earthengine-legacy/thumbnails/cc8b77626a07cc04c00f56aecb4deb98-f44098f4a6c5b8bff3a0c4af76de1111:getPixels\n",
      "Please wait ...\n",
      "Data downloaded to D:\\Descarga\\20230704T151709_Parcela_5.tif\n",
      "Archivo exportado 20230704T151709_Parcela_5.tif\n",
      "Generating URL ...\n",
      "Downloading data from https://earthengine.googleapis.com/v1/projects/earthengine-legacy/thumbnails/177eeba13511042d82930d780ae9f72d-971a299b984e5c9bcf616f9432a8e6a3:getPixels\n",
      "Please wait ...\n",
      "Data downloaded to D:\\Descarga\\20230714T151709_Parcela_5.tif\n",
      "Archivo exportado 20230714T151709_Parcela_5.tif\n",
      "Generating URL ...\n",
      "Downloading data from https://earthengine.googleapis.com/v1/projects/earthengine-legacy/thumbnails/ff799dbe5ff32e425acfeba24876dcfd-78c7620b5e0c7f3970270631667cc235:getPixels\n",
      "Please wait ...\n",
      "Data downloaded to D:\\Descarga\\20230724T151709_Parcela_5.tif\n",
      "Archivo exportado 20230724T151709_Parcela_5.tif\n",
      "Generating URL ...\n",
      "Downloading data from https://earthengine.googleapis.com/v1/projects/earthengine-legacy/thumbnails/e98334e05efc352d1be58aa6991ce4b8-1c2537181f1a89f3ba71077a3717e866:getPixels\n",
      "Please wait ...\n",
      "Data downloaded to D:\\Descarga\\20230803T151709_Parcela_5.tif\n",
      "Archivo exportado 20230803T151709_Parcela_5.tif\n",
      "Generating URL ...\n",
      "Downloading data from https://earthengine.googleapis.com/v1/projects/earthengine-legacy/thumbnails/c1ce718a04cc84c4945c6c200c40d41e-1fbcaf1cbe6a5c4e4fd797e0915f765f:getPixels\n",
      "Please wait ...\n",
      "Data downloaded to D:\\Descarga\\20230808T151711_Parcela_5.tif\n",
      "Archivo exportado 20230808T151711_Parcela_5.tif\n",
      "Generating URL ...\n",
      "Downloading data from https://earthengine.googleapis.com/v1/projects/earthengine-legacy/thumbnails/3ee5bb31ed748ef321b3577b6f69fafb-e8a82b8823b1b6947c1e4df18f625147:getPixels\n",
      "Please wait ...\n",
      "Data downloaded to D:\\Descarga\\20230818T151711_Parcela_5.tif\n",
      "Archivo exportado 20230818T151711_Parcela_5.tif\n",
      "Generating URL ...\n",
      "Downloading data from https://earthengine.googleapis.com/v1/projects/earthengine-legacy/thumbnails/d657b0379b9a26b2200793be5d2dca1f-eb919e03f542ed7dc6a0e93442b382b9:getPixels\n",
      "Please wait ...\n",
      "Data downloaded to D:\\Descarga\\20230902T151709_Parcela_5.tif\n",
      "Archivo exportado 20230902T151709_Parcela_5.tif\n",
      "Generating URL ...\n",
      "Downloading data from https://earthengine.googleapis.com/v1/projects/earthengine-legacy/thumbnails/80ead78fdc2475bc9492ebec8a16a605-cfa9e3e764e5568492c25085bf22dd23:getPixels\n",
      "Please wait ...\n",
      "Data downloaded to D:\\Descarga\\20230907T151711_Parcela_5.tif\n",
      "Archivo exportado 20230907T151711_Parcela_5.tif\n",
      "Generating URL ...\n",
      "Downloading data from https://earthengine.googleapis.com/v1/projects/earthengine-legacy/thumbnails/f10baccb4682bc118f0f180f4a2d4108-ce69ec18887160b42bfe6b36a17ef830:getPixels\n",
      "Please wait ...\n",
      "Data downloaded to D:\\Descarga\\20230912T151709_Parcela_5.tif\n",
      "Archivo exportado 20230912T151709_Parcela_5.tif\n",
      "Generating URL ...\n",
      "Downloading data from https://earthengine.googleapis.com/v1/projects/earthengine-legacy/thumbnails/ac5b15cfed78678cdd3c87cefbd38f88-632b312b3a4f656c40c63bf744c736a3:getPixels\n",
      "Please wait ...\n",
      "Data downloaded to D:\\Descarga\\20230917T151711_Parcela_5.tif\n",
      "Archivo exportado 20230917T151711_Parcela_5.tif\n",
      "Generating URL ...\n",
      "Downloading data from https://earthengine.googleapis.com/v1/projects/earthengine-legacy/thumbnails/3f20d1b320aff00667e22003c7e161d9-e3f33f8346891953f2ae014a3bb168d7:getPixels\n",
      "Please wait ...\n",
      "Data downloaded to D:\\Descarga\\20230922T151709_Parcela_5.tif\n",
      "Archivo exportado 20230922T151709_Parcela_5.tif\n",
      "Generating URL ...\n",
      "Downloading data from https://earthengine.googleapis.com/v1/projects/earthengine-legacy/thumbnails/a790a414c4a838389e8954c111d4eb3a-5389c81d55ef52cdaa5daa26dc6dbbc1:getPixels\n",
      "Please wait ...\n",
      "Data downloaded to D:\\Descarga\\20230927T151711_Parcela_5.tif\n",
      "Archivo exportado 20230927T151711_Parcela_5.tif\n",
      "Generating URL ...\n",
      "Downloading data from https://earthengine.googleapis.com/v1/projects/earthengine-legacy/thumbnails/ea98cdc057d5f8ec159678d447656567-649603013266797cf2e04f2c24b7110f:getPixels\n",
      "Please wait ...\n",
      "Data downloaded to D:\\Descarga\\20231002T151709_Parcela_5.tif\n",
      "Archivo exportado 20231002T151709_Parcela_5.tif\n",
      "Generating URL ...\n",
      "Downloading data from https://earthengine.googleapis.com/v1/projects/earthengine-legacy/thumbnails/6626b18c9d1278da6c03169252f5cc42-0d998afd478c0094bbd61ea3b16154ba:getPixels\n",
      "Please wait ...\n",
      "Data downloaded to D:\\Descarga\\20231007T151711_Parcela_5.tif\n",
      "Archivo exportado 20231007T151711_Parcela_5.tif\n",
      "Generating URL ...\n",
      "Downloading data from https://earthengine.googleapis.com/v1/projects/earthengine-legacy/thumbnails/54f90a053f9205c89b5876ee30e57a97-9177974ae5e641eab80fce8c9499f91d:getPixels\n",
      "Please wait ...\n",
      "Data downloaded to D:\\Descarga\\20240110T151719_Parcela_5.tif\n",
      "Archivo exportado 20240110T151719_Parcela_5.tif\n",
      "Generating URL ...\n",
      "Downloading data from https://earthengine.googleapis.com/v1/projects/earthengine-legacy/thumbnails/8324b9b93ededfedb40967731079641b-30032cc59b504aab4bbf1a62386dc704:getPixels\n",
      "Please wait ...\n",
      "Data downloaded to D:\\Descarga\\20240125T151711_Parcela_5.tif\n",
      "Archivo exportado 20240125T151711_Parcela_5.tif\n",
      "Generating URL ...\n",
      "Downloading data from https://earthengine.googleapis.com/v1/projects/earthengine-legacy/thumbnails/9335dfe0e2294b43fef0e2cf3fd2df7b-0e3c612d942182f3f2a3101fc34f8f59:getPixels\n",
      "Please wait ...\n",
      "Data downloaded to D:\\Descarga\\20240325T151721_Parcela_5.tif\n",
      "Archivo exportado 20240325T151721_Parcela_5.tif\n"
     ]
    }
   ],
   "source": [
    "for i in range(len(lista_parcela)):\n",
    "    Parcela = ee_zona_gdp.filterMetadata('Nombre', 'equals', lista_parcela[i])\n",
    "    geometria = Parcela.geometry()\n",
    "    Bounds = geometria.bounds()\n",
    "    Buffer = Bounds.buffer(300)\n",
    "    name_parcela = lista_parcela[i]\n",
    "    # Coleccion de Sentinel-2 SR\n",
    "    S2_RS = ee.ImageCollection(\"COPERNICUS/S2_SR_HARMONIZED\")\\\n",
    "                    .filterDate('2023-06-01','2024-04-14')\\\n",
    "                    .filterMetadata('CLOUDY_PIXEL_PERCENTAGE','less_than',30)\\\n",
    "                    .filterBounds(Buffer)\n",
    "    # Imprimir la lista de ID Imagenes\n",
    "    ID_S2 = S2_RS.reduceColumns(ee.Reducer.toList(),[\"system:index\"]).get(\"list\").getInfo()\n",
    "    # Gardar la lista ID\n",
    "    for r in range(len(ID_S2)):\n",
    "        lista_ID_S2.append(ID_S2[r])\n",
    "    # Proceso de busqueda y descarga\n",
    "    for k in range(len(ID_S2)):\n",
    "        # Importar imagen Sentinel-2 RS \n",
    "        image = ee.Image(\"COPERNICUS/S2_SR_HARMONIZED\" + \"/\" + ID_S2[k])\n",
    "        # Seleccionar iamgenes por bandas\n",
    "        S2_img_RS = image.select([\"B1\",\"B2\",\"B3\",\"B4\",\"B5\",\"B6\",\"B7\",\"B8\",\"B9\",\"B11\",\"B12\"])\n",
    "        # Escalar la imagen Sentinel-2 RS 0 - 1\n",
    "        S2_img_RS_es = S2_img_RS.multiply(0.0001)\n",
    "        # Recortar segun zona estudio\n",
    "        S2_img_RS_es_clip = S2_img_RS_es.clip(Buffer)\n",
    "        # Descarga Metodo 1 link descarga    \n",
    "        #link_URL = S2_img_RS_es_clip.getDownloadURL({\n",
    "        #    'name': ID_S2[k][0:16]+name_parcela,\n",
    "        #    'bands': [\"B1\",\"B2\",\"B3\",\"B4\",\"B5\",\"B6\",\"B7\",\"B8\",\"B9\",\"B11\",\"B12\"],\n",
    "        #    'region': Buffer.geometry(),\n",
    "        #    'scale': 10,\n",
    "        #    'filePerBand': False # True = bandas separadas\n",
    "        #})\n",
    "        #print('Archivo zip ' + ID_S2[k][0:16]+name_parcela, link_URL)\n",
    "        \n",
    "        # Descarga metodo 2\n",
    "        geemap.ee_export_image(S2_img_RS_es_clip, \n",
    "                               filename=ID_S2[k][0:16]+name_parcela+\".tif\", \n",
    "                               region=Buffer, \n",
    "                               scale=10, \n",
    "                               file_per_band=False)\n",
    "        print('Archivo exportado ' + ID_S2[k][0:16]+name_parcela+\".tif\")\n"
   ]
  },
  {
   "cell_type": "code",
   "execution_count": 44,
   "id": "0f768a38-e0fc-4d15-9d74-3c0ed999f434",
   "metadata": {},
   "outputs": [
    {
     "data": {
      "text/html": [
       "\n",
       "            <style>\n",
       "                .geemap-dark {\n",
       "                    --jp-widgets-color: white;\n",
       "                    --jp-widgets-label-color: white;\n",
       "                    --jp-ui-font-color1: white;\n",
       "                    --jp-layout-color2: #454545;\n",
       "                    background-color: #383838;\n",
       "                }\n",
       "\n",
       "                .geemap-dark .jupyter-button {\n",
       "                    --jp-layout-color3: #383838;\n",
       "                }\n",
       "\n",
       "                .geemap-colab {\n",
       "                    background-color: var(--colab-primary-surface-color, white);\n",
       "                }\n",
       "\n",
       "                .geemap-colab .jupyter-button {\n",
       "                    --jp-layout-color3: var(--colab-primary-surface-color, white);\n",
       "                }\n",
       "            </style>\n",
       "            "
      ],
      "text/plain": [
       "<IPython.core.display.HTML object>"
      ]
     },
     "metadata": {},
     "output_type": "display_data"
    }
   ],
   "source": [
    "lista_ID = []"
   ]
  },
  {
   "cell_type": "code",
   "execution_count": 45,
   "id": "d212a214-7ea4-4d88-b3a5-d5083ebf932e",
   "metadata": {},
   "outputs": [
    {
     "data": {
      "text/html": [
       "\n",
       "            <style>\n",
       "                .geemap-dark {\n",
       "                    --jp-widgets-color: white;\n",
       "                    --jp-widgets-label-color: white;\n",
       "                    --jp-ui-font-color1: white;\n",
       "                    --jp-layout-color2: #454545;\n",
       "                    background-color: #383838;\n",
       "                }\n",
       "\n",
       "                .geemap-dark .jupyter-button {\n",
       "                    --jp-layout-color3: #383838;\n",
       "                }\n",
       "\n",
       "                .geemap-colab {\n",
       "                    background-color: var(--colab-primary-surface-color, white);\n",
       "                }\n",
       "\n",
       "                .geemap-colab .jupyter-button {\n",
       "                    --jp-layout-color3: var(--colab-primary-surface-color, white);\n",
       "                }\n",
       "            </style>\n",
       "            "
      ],
      "text/plain": [
       "<IPython.core.display.HTML object>"
      ]
     },
     "metadata": {},
     "output_type": "display_data"
    }
   ],
   "source": [
    "for f in range(len(lista_ID_S2)):\n",
    "    dato = lista_ID_S2[f][0:15]\n",
    "    lista_ID.append(dato)"
   ]
  },
  {
   "cell_type": "code",
   "execution_count": 47,
   "id": "ddf45026-3e62-46cd-a6a2-744916045e55",
   "metadata": {},
   "outputs": [
    {
     "data": {
      "text/html": [
       "\n",
       "            <style>\n",
       "                .geemap-dark {\n",
       "                    --jp-widgets-color: white;\n",
       "                    --jp-widgets-label-color: white;\n",
       "                    --jp-ui-font-color1: white;\n",
       "                    --jp-layout-color2: #454545;\n",
       "                    background-color: #383838;\n",
       "                }\n",
       "\n",
       "                .geemap-dark .jupyter-button {\n",
       "                    --jp-layout-color3: #383838;\n",
       "                }\n",
       "\n",
       "                .geemap-colab {\n",
       "                    background-color: var(--colab-primary-surface-color, white);\n",
       "                }\n",
       "\n",
       "                .geemap-colab .jupyter-button {\n",
       "                    --jp-layout-color3: var(--colab-primary-surface-color, white);\n",
       "                }\n",
       "            </style>\n",
       "            "
      ],
      "text/plain": [
       "<IPython.core.display.HTML object>"
      ]
     },
     "metadata": {},
     "output_type": "display_data"
    },
    {
     "data": {
      "text/plain": [
       "105"
      ]
     },
     "execution_count": 47,
     "metadata": {},
     "output_type": "execute_result"
    }
   ],
   "source": [
    "len(lista_ID)"
   ]
  },
  {
   "cell_type": "code",
   "execution_count": 48,
   "id": "03a56a1e-982b-45c0-970f-21d6fd028dcc",
   "metadata": {},
   "outputs": [
    {
     "data": {
      "text/html": [
       "\n",
       "            <style>\n",
       "                .geemap-dark {\n",
       "                    --jp-widgets-color: white;\n",
       "                    --jp-widgets-label-color: white;\n",
       "                    --jp-ui-font-color1: white;\n",
       "                    --jp-layout-color2: #454545;\n",
       "                    background-color: #383838;\n",
       "                }\n",
       "\n",
       "                .geemap-dark .jupyter-button {\n",
       "                    --jp-layout-color3: #383838;\n",
       "                }\n",
       "\n",
       "                .geemap-colab {\n",
       "                    background-color: var(--colab-primary-surface-color, white);\n",
       "                }\n",
       "\n",
       "                .geemap-colab .jupyter-button {\n",
       "                    --jp-layout-color3: var(--colab-primary-surface-color, white);\n",
       "                }\n",
       "            </style>\n",
       "            "
      ],
      "text/plain": [
       "<IPython.core.display.HTML object>"
      ]
     },
     "metadata": {},
     "output_type": "display_data"
    }
   ],
   "source": [
    "# Extraer valores únicos como un conjunto\n",
    "valores_unicos = set(lista_ID)"
   ]
  },
  {
   "cell_type": "code",
   "execution_count": 49,
   "id": "bf84d977-8977-4a5c-bc45-e8cde1e206c2",
   "metadata": {},
   "outputs": [
    {
     "data": {
      "text/html": [
       "\n",
       "            <style>\n",
       "                .geemap-dark {\n",
       "                    --jp-widgets-color: white;\n",
       "                    --jp-widgets-label-color: white;\n",
       "                    --jp-ui-font-color1: white;\n",
       "                    --jp-layout-color2: #454545;\n",
       "                    background-color: #383838;\n",
       "                }\n",
       "\n",
       "                .geemap-dark .jupyter-button {\n",
       "                    --jp-layout-color3: #383838;\n",
       "                }\n",
       "\n",
       "                .geemap-colab {\n",
       "                    background-color: var(--colab-primary-surface-color, white);\n",
       "                }\n",
       "\n",
       "                .geemap-colab .jupyter-button {\n",
       "                    --jp-layout-color3: var(--colab-primary-surface-color, white);\n",
       "                }\n",
       "            </style>\n",
       "            "
      ],
      "text/plain": [
       "<IPython.core.display.HTML object>"
      ]
     },
     "metadata": {},
     "output_type": "display_data"
    },
    {
     "data": {
      "text/plain": [
       "20"
      ]
     },
     "execution_count": 49,
     "metadata": {},
     "output_type": "execute_result"
    }
   ],
   "source": [
    "len(valores_unicos)"
   ]
  },
  {
   "cell_type": "code",
   "execution_count": 51,
   "id": "894fe446-2173-4a66-adf3-f323bc39063a",
   "metadata": {},
   "outputs": [
    {
     "data": {
      "text/html": [
       "\n",
       "            <style>\n",
       "                .geemap-dark {\n",
       "                    --jp-widgets-color: white;\n",
       "                    --jp-widgets-label-color: white;\n",
       "                    --jp-ui-font-color1: white;\n",
       "                    --jp-layout-color2: #454545;\n",
       "                    background-color: #383838;\n",
       "                }\n",
       "\n",
       "                .geemap-dark .jupyter-button {\n",
       "                    --jp-layout-color3: #383838;\n",
       "                }\n",
       "\n",
       "                .geemap-colab {\n",
       "                    background-color: var(--colab-primary-surface-color, white);\n",
       "                }\n",
       "\n",
       "                .geemap-colab .jupyter-button {\n",
       "                    --jp-layout-color3: var(--colab-primary-surface-color, white);\n",
       "                }\n",
       "            </style>\n",
       "            "
      ],
      "text/plain": [
       "<IPython.core.display.HTML object>"
      ]
     },
     "metadata": {},
     "output_type": "display_data"
    }
   ],
   "source": [
    "import pandas as pd"
   ]
  },
  {
   "cell_type": "code",
   "execution_count": 52,
   "id": "1b27d4bc-3228-4f93-8c4d-74937f24922d",
   "metadata": {},
   "outputs": [
    {
     "data": {
      "text/html": [
       "\n",
       "            <style>\n",
       "                .geemap-dark {\n",
       "                    --jp-widgets-color: white;\n",
       "                    --jp-widgets-label-color: white;\n",
       "                    --jp-ui-font-color1: white;\n",
       "                    --jp-layout-color2: #454545;\n",
       "                    background-color: #383838;\n",
       "                }\n",
       "\n",
       "                .geemap-dark .jupyter-button {\n",
       "                    --jp-layout-color3: #383838;\n",
       "                }\n",
       "\n",
       "                .geemap-colab {\n",
       "                    background-color: var(--colab-primary-surface-color, white);\n",
       "                }\n",
       "\n",
       "                .geemap-colab .jupyter-button {\n",
       "                    --jp-layout-color3: var(--colab-primary-surface-color, white);\n",
       "                }\n",
       "            </style>\n",
       "            "
      ],
      "text/plain": [
       "<IPython.core.display.HTML object>"
      ]
     },
     "metadata": {},
     "output_type": "display_data"
    }
   ],
   "source": [
    "tabla = pd.DataFrame(valores_unicos)"
   ]
  },
  {
   "cell_type": "code",
   "execution_count": 55,
   "id": "90375abe-fcd6-4f03-916e-8d775a7b9865",
   "metadata": {},
   "outputs": [
    {
     "data": {
      "text/html": [
       "\n",
       "            <style>\n",
       "                .geemap-dark {\n",
       "                    --jp-widgets-color: white;\n",
       "                    --jp-widgets-label-color: white;\n",
       "                    --jp-ui-font-color1: white;\n",
       "                    --jp-layout-color2: #454545;\n",
       "                    background-color: #383838;\n",
       "                }\n",
       "\n",
       "                .geemap-dark .jupyter-button {\n",
       "                    --jp-layout-color3: #383838;\n",
       "                }\n",
       "\n",
       "                .geemap-colab {\n",
       "                    background-color: var(--colab-primary-surface-color, white);\n",
       "                }\n",
       "\n",
       "                .geemap-colab .jupyter-button {\n",
       "                    --jp-layout-color3: var(--colab-primary-surface-color, white);\n",
       "                }\n",
       "            </style>\n",
       "            "
      ],
      "text/plain": [
       "<IPython.core.display.HTML object>"
      ]
     },
     "metadata": {},
     "output_type": "display_data"
    }
   ],
   "source": [
    "tabla.columns = [\"ID_RS\"]"
   ]
  },
  {
   "cell_type": "code",
   "execution_count": 56,
   "id": "ee8accb6-1585-4741-8228-36915c686c03",
   "metadata": {},
   "outputs": [
    {
     "data": {
      "text/html": [
       "\n",
       "            <style>\n",
       "                .geemap-dark {\n",
       "                    --jp-widgets-color: white;\n",
       "                    --jp-widgets-label-color: white;\n",
       "                    --jp-ui-font-color1: white;\n",
       "                    --jp-layout-color2: #454545;\n",
       "                    background-color: #383838;\n",
       "                }\n",
       "\n",
       "                .geemap-dark .jupyter-button {\n",
       "                    --jp-layout-color3: #383838;\n",
       "                }\n",
       "\n",
       "                .geemap-colab {\n",
       "                    background-color: var(--colab-primary-surface-color, white);\n",
       "                }\n",
       "\n",
       "                .geemap-colab .jupyter-button {\n",
       "                    --jp-layout-color3: var(--colab-primary-surface-color, white);\n",
       "                }\n",
       "            </style>\n",
       "            "
      ],
      "text/plain": [
       "<IPython.core.display.HTML object>"
      ]
     },
     "metadata": {},
     "output_type": "display_data"
    },
    {
     "data": {
      "text/html": [
       "<div>\n",
       "<style scoped>\n",
       "    .dataframe tbody tr th:only-of-type {\n",
       "        vertical-align: middle;\n",
       "    }\n",
       "\n",
       "    .dataframe tbody tr th {\n",
       "        vertical-align: top;\n",
       "    }\n",
       "\n",
       "    .dataframe thead th {\n",
       "        text-align: right;\n",
       "    }\n",
       "</style>\n",
       "<table border=\"1\" class=\"dataframe\">\n",
       "  <thead>\n",
       "    <tr style=\"text-align: right;\">\n",
       "      <th></th>\n",
       "      <th>ID_RS</th>\n",
       "    </tr>\n",
       "  </thead>\n",
       "  <tbody>\n",
       "    <tr>\n",
       "      <th>0</th>\n",
       "      <td>20230808T151711</td>\n",
       "    </tr>\n",
       "    <tr>\n",
       "      <th>1</th>\n",
       "      <td>20231007T151711</td>\n",
       "    </tr>\n",
       "    <tr>\n",
       "      <th>2</th>\n",
       "      <td>20230907T151711</td>\n",
       "    </tr>\n",
       "    <tr>\n",
       "      <th>3</th>\n",
       "      <td>20230917T151711</td>\n",
       "    </tr>\n",
       "  </tbody>\n",
       "</table>\n",
       "</div>"
      ],
      "text/plain": [
       "             ID_RS\n",
       "0  20230808T151711\n",
       "1  20231007T151711\n",
       "2  20230907T151711\n",
       "3  20230917T151711"
      ]
     },
     "execution_count": 56,
     "metadata": {},
     "output_type": "execute_result"
    }
   ],
   "source": [
    "tabla.head(4)"
   ]
  },
  {
   "cell_type": "code",
   "execution_count": 57,
   "id": "a179910b-9761-4762-b550-81e65442611d",
   "metadata": {},
   "outputs": [
    {
     "data": {
      "text/html": [
       "\n",
       "            <style>\n",
       "                .geemap-dark {\n",
       "                    --jp-widgets-color: white;\n",
       "                    --jp-widgets-label-color: white;\n",
       "                    --jp-ui-font-color1: white;\n",
       "                    --jp-layout-color2: #454545;\n",
       "                    background-color: #383838;\n",
       "                }\n",
       "\n",
       "                .geemap-dark .jupyter-button {\n",
       "                    --jp-layout-color3: #383838;\n",
       "                }\n",
       "\n",
       "                .geemap-colab {\n",
       "                    background-color: var(--colab-primary-surface-color, white);\n",
       "                }\n",
       "\n",
       "                .geemap-colab .jupyter-button {\n",
       "                    --jp-layout-color3: var(--colab-primary-surface-color, white);\n",
       "                }\n",
       "            </style>\n",
       "            "
      ],
      "text/plain": [
       "<IPython.core.display.HTML object>"
      ]
     },
     "metadata": {},
     "output_type": "display_data"
    }
   ],
   "source": [
    "tabla.to_csv(\"tabla_ID_RS.csv\")"
   ]
  }
 ],
 "metadata": {
  "kernelspec": {
   "display_name": "Python 3 (ipykernel)",
   "language": "python",
   "name": "python3"
  },
  "language_info": {
   "codemirror_mode": {
    "name": "ipython",
    "version": 3
   },
   "file_extension": ".py",
   "mimetype": "text/x-python",
   "name": "python",
   "nbconvert_exporter": "python",
   "pygments_lexer": "ipython3",
   "version": "3.9.13"
  }
 },
 "nbformat": 4,
 "nbformat_minor": 5
}
