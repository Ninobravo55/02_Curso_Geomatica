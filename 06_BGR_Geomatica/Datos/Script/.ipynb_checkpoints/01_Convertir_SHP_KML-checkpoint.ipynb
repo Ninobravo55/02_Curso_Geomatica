{
 "cells": [
  {
   "cell_type": "markdown",
   "id": "feef148e-a29f-47e0-adbf-654ded5896f9",
   "metadata": {},
   "source": [
    "# Convertir los archivos de SHP a Kml"
   ]
  },
  {
   "cell_type": "code",
   "execution_count": 1,
   "id": "adfeced4-bb3d-4818-b53b-e45ac075254b",
   "metadata": {
    "tags": []
   },
   "outputs": [],
   "source": [
    "import os\n",
    "import glob\n",
    "import geopandas as gpd\n",
    "import pandas as pd"
   ]
  },
  {
   "cell_type": "code",
   "execution_count": 2,
   "id": "33f4b56c-cd14-4a8b-aaf6-c4bb11917c64",
   "metadata": {
    "tags": []
   },
   "outputs": [],
   "source": [
    "os.chdir(r\"F:\\Curso_MINEM\\Diapositiva\\Dia_3\\Datos\\SHP\")"
   ]
  },
  {
   "cell_type": "code",
   "execution_count": 3,
   "id": "c8f2aa3d-84c9-4117-adb2-e35cd017c056",
   "metadata": {
    "tags": []
   },
   "outputs": [
    {
     "data": {
      "text/plain": [
       "'F:\\\\Curso_MINEM\\\\Diapositiva\\\\Dia_3\\\\Datos\\\\SHP'"
      ]
     },
     "execution_count": 3,
     "metadata": {},
     "output_type": "execute_result"
    }
   ],
   "source": [
    "os.getcwd()"
   ]
  },
  {
   "cell_type": "code",
   "execution_count": 4,
   "id": "7840bc48-7b15-4c40-b055-5cae3d507694",
   "metadata": {
    "tags": []
   },
   "outputs": [
    {
     "data": {
      "text/plain": [
       "['Predio.shp']"
      ]
     },
     "execution_count": 4,
     "metadata": {},
     "output_type": "execute_result"
    }
   ],
   "source": [
    "## Lista zip\n",
    "lista_shp = glob.glob(\"*.shp\")\n",
    "lista_shp"
   ]
  },
  {
   "cell_type": "code",
   "execution_count": 6,
   "id": "8a729cb7-4a78-47ae-9fa2-1941b55a8532",
   "metadata": {
    "tags": []
   },
   "outputs": [
    {
     "data": {
      "text/plain": [
       "'F:\\\\Curso_MINEM\\\\Diapositiva\\\\Dia_3\\\\Datos\\\\SHP\\\\Predio.shp'"
      ]
     },
     "execution_count": 6,
     "metadata": {},
     "output_type": "execute_result"
    }
   ],
   "source": [
    "shp = os.getcwd() + \"\\\\\" + lista_shp[0]\n",
    "shp"
   ]
  },
  {
   "cell_type": "code",
   "execution_count": 7,
   "id": "8f1641ad-7587-4801-8a5b-899498185b72",
   "metadata": {
    "tags": []
   },
   "outputs": [],
   "source": [
    "Vuelo_shp = gpd.read_file(shp)"
   ]
  },
  {
   "cell_type": "code",
   "execution_count": 8,
   "id": "f26b4a60-0007-4990-936f-46fdfad9a113",
   "metadata": {
    "tags": []
   },
   "outputs": [
    {
     "data": {
      "text/html": [
       "<div>\n",
       "<style scoped>\n",
       "    .dataframe tbody tr th:only-of-type {\n",
       "        vertical-align: middle;\n",
       "    }\n",
       "\n",
       "    .dataframe tbody tr th {\n",
       "        vertical-align: top;\n",
       "    }\n",
       "\n",
       "    .dataframe thead th {\n",
       "        text-align: right;\n",
       "    }\n",
       "</style>\n",
       "<table border=\"1\" class=\"dataframe\">\n",
       "  <thead>\n",
       "    <tr style=\"text-align: right;\">\n",
       "      <th></th>\n",
       "      <th>Id</th>\n",
       "      <th>Propiet</th>\n",
       "      <th>geometry</th>\n",
       "    </tr>\n",
       "  </thead>\n",
       "  <tbody>\n",
       "    <tr>\n",
       "      <th>0</th>\n",
       "      <td>3</td>\n",
       "      <td>Concesion_1</td>\n",
       "      <td>POLYGON ((522776.299 9064228.724, 523132.294 9...</td>\n",
       "    </tr>\n",
       "    <tr>\n",
       "      <th>1</th>\n",
       "      <td>4</td>\n",
       "      <td>Concesion_2</td>\n",
       "      <td>POLYGON ((523686.382 9065982.858, 523439.482 9...</td>\n",
       "    </tr>\n",
       "    <tr>\n",
       "      <th>2</th>\n",
       "      <td>5</td>\n",
       "      <td>Concesion_3</td>\n",
       "      <td>POLYGON ((525532.384 9066135.016, 525027.102 9...</td>\n",
       "    </tr>\n",
       "  </tbody>\n",
       "</table>\n",
       "</div>"
      ],
      "text/plain": [
       "   Id      Propiet                                           geometry\n",
       "0   3  Concesion_1  POLYGON ((522776.299 9064228.724, 523132.294 9...\n",
       "1   4  Concesion_2  POLYGON ((523686.382 9065982.858, 523439.482 9...\n",
       "2   5  Concesion_3  POLYGON ((525532.384 9066135.016, 525027.102 9..."
      ]
     },
     "execution_count": 8,
     "metadata": {},
     "output_type": "execute_result"
    }
   ],
   "source": [
    "Vuelo_shp.head(3)"
   ]
  },
  {
   "cell_type": "code",
   "execution_count": 9,
   "id": "f2ae83a6-7f49-4ec3-a556-f2b51bbc907d",
   "metadata": {
    "tags": []
   },
   "outputs": [],
   "source": [
    "Campo_vuelo = list(Vuelo_shp[\"Propiet\"])"
   ]
  },
  {
   "cell_type": "code",
   "execution_count": 10,
   "id": "d7fba2e6-5de7-4492-a3f3-e3f9d925d177",
   "metadata": {
    "tags": []
   },
   "outputs": [
    {
     "data": {
      "text/plain": [
       "8"
      ]
     },
     "execution_count": 10,
     "metadata": {},
     "output_type": "execute_result"
    }
   ],
   "source": [
    "len(Campo_vuelo)"
   ]
  },
  {
   "cell_type": "code",
   "execution_count": 11,
   "id": "074e3beb-2752-47af-83d7-77cf63e21b48",
   "metadata": {
    "tags": []
   },
   "outputs": [
    {
     "name": "stdout",
     "output_type": "stream",
     "text": [
      "Nombre es: Concesion_1\n",
      "Nombre es: Concesion_2\n",
      "Nombre es: Concesion_3\n",
      "Nombre es: Concesion_4\n",
      "Nombre es: Concesion_5\n",
      "Nombre es: Concesion_6\n",
      "Nombre es: Concesion_7\n",
      "Nombre es: Concesion_8\n"
     ]
    }
   ],
   "source": [
    "for name in Campo_vuelo:\n",
    "    print(\"Nombre es:\",name)"
   ]
  },
  {
   "cell_type": "code",
   "execution_count": 12,
   "id": "56ea02bf-f1e9-4926-be6d-5eb12d4913db",
   "metadata": {
    "tags": []
   },
   "outputs": [],
   "source": [
    "# Seleccion por campo de atributo\n",
    "Vuelo_x = Vuelo_shp[Vuelo_shp[\"Propiet\"] == Campo_vuelo[4]]"
   ]
  },
  {
   "cell_type": "code",
   "execution_count": 13,
   "id": "7be15611-3ad9-42f1-ac89-b9bb1de51cfb",
   "metadata": {
    "tags": []
   },
   "outputs": [
    {
     "data": {
      "text/plain": [
       "<Axes: >"
      ]
     },
     "execution_count": 13,
     "metadata": {},
     "output_type": "execute_result"
    },
    {
     "data": {
      "image/png": "[encoded data removed]",
      "text/plain": [
       "<Figure size 640x480 with 1 Axes>"
      ]
     },
     "metadata": {},
     "output_type": "display_data"
    }
   ],
   "source": [
    "Vuelo_x.plot()"
   ]
  },
  {
   "cell_type": "code",
   "execution_count": 14,
   "id": "733d18a4-1102-49e8-a3a2-c5fccac14ff0",
   "metadata": {
    "tags": []
   },
   "outputs": [
    {
     "data": {
      "text/plain": [
       "'F:\\\\Curso_MINEM\\\\Diapositiva\\\\Dia_3\\\\Datos\\\\SHP\\\\Plan_vuelo'"
      ]
     },
     "execution_count": 14,
     "metadata": {},
     "output_type": "execute_result"
    }
   ],
   "source": [
    "# Concatenar string o texto \n",
    "out_dir = os.path.normpath((os.getcwd() + '/Plan_vuelo' ))\n",
    "out_dir"
   ]
  },
  {
   "cell_type": "code",
   "execution_count": 15,
   "id": "96e83268-d94b-4ec5-afa8-ecc31bcde9cb",
   "metadata": {
    "tags": []
   },
   "outputs": [],
   "source": [
    "# Crear la carpeta en el directorio\n",
    "os.makedirs(out_dir)"
   ]
  },
  {
   "cell_type": "code",
   "execution_count": 16,
   "id": "2d022bd3-0dec-4d13-9192-c40cc6f84b0e",
   "metadata": {
    "tags": []
   },
   "outputs": [
    {
     "data": {
      "text/plain": [
       "'F:\\\\Curso_MINEM\\\\Diapositiva\\\\Dia_3\\\\Datos\\\\SHP\\\\Plan_vuelo\\\\Concesion_2_Plan.kml'"
      ]
     },
     "execution_count": 16,
     "metadata": {},
     "output_type": "execute_result"
    }
   ],
   "source": [
    "name_kml = out_dir +\"\\\\\"+ Campo_vuelo[1] + \"_Plan.kml\"\n",
    "name_kml"
   ]
  },
  {
   "cell_type": "code",
   "execution_count": 17,
   "id": "b812e001-e422-495e-9ed8-150709c6165a",
   "metadata": {
    "tags": []
   },
   "outputs": [],
   "source": [
    "gpd.io.file.fiona.drvsupport.supported_drivers['KML'] = 'rw'\n",
    "Vuelo_x.to_file(name_kml, driver=\"KML\")"
   ]
  },
  {
   "cell_type": "code",
   "execution_count": 18,
   "id": "d3140835-583f-4792-af2f-df097aa8a475",
   "metadata": {
    "tags": []
   },
   "outputs": [
    {
     "name": "stdout",
     "output_type": "stream",
     "text": [
      "Proceso finalizado Concesion_1\n",
      "Proceso finalizado Concesion_2\n",
      "Proceso finalizado Concesion_3\n",
      "Proceso finalizado Concesion_4\n",
      "Proceso finalizado Concesion_5\n",
      "Proceso finalizado Concesion_6\n",
      "Proceso finalizado Concesion_7\n",
      "Proceso finalizado Concesion_8\n"
     ]
    }
   ],
   "source": [
    "for i in Campo_vuelo:\n",
    "    Vuelo_x = Vuelo_shp[Vuelo_shp[\"Propiet\"] == i]\n",
    "    name_kml = out_dir +\"\\\\\"+ i + \"_Plan.kml\"\n",
    "    gpd.io.file.fiona.drvsupport.supported_drivers['KML'] = 'rw'\n",
    "    Vuelo_x.to_file(name_kml, driver=\"KML\")\n",
    "    print(\"Proceso finalizado \"+ i)"
   ]
  },
  {
   "cell_type": "code",
   "execution_count": null,
   "id": "60b5fdd1-2eec-4ac9-90bf-6b8c38e04135",
   "metadata": {},
   "outputs": [],
   "source": []
  }
 ],
 "metadata": {
  "kernelspec": {
   "display_name": "Python 3 (ipykernel)",
   "language": "python",
   "name": "python3"
  },
  "language_info": {
   "codemirror_mode": {
    "name": "ipython",
    "version": 3
   },
   "file_extension": ".py",
   "mimetype": "text/x-python",
   "name": "python",
   "nbconvert_exporter": "python",
   "pygments_lexer": "ipython3",
   "version": "3.9.13"
  }
 },
 "nbformat": 4,
 "nbformat_minor": 5
}
