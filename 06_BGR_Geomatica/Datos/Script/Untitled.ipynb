{
 "cells": [
  {
   "cell_type": "markdown",
   "id": "27e58cbe-899d-4526-9ff6-e7f45b378a88",
   "metadata": {},
   "source": [
    "## Libraries for Data Science \n",
    "### Data Analysis:\n",
    "Pandas ---data wrangling, manipulation, and visualization; https://github.com/pandas-dev/pandas\n",
    "\n",
    "Numpy ---scientific computing and performing basic and advanced array operations; https://github.com/numpy/numpy\n",
    "\n",
    "Scipy ---linear algebra, integration, optimization, and statistics; https://github.com/scipy/scipy\n",
    "\n",
    "### Data Visualization:\n",
    "Matplotlib ---the foundation of Python data visualization, standard data visualization like Matlab; https://github.com/matplotlib/matplotlib\n",
    "\n",
    "Seaborn --- A wrapper of Matplotlib with modern colors and styles and support complex visualizations; https://github.com/mwaskom/seaborn\n",
    "\n",
    "Bokeh ---  interactive and scalable visualizations inside browsers using JavaScript widgets; https://github.com/bokeh/bokeh\n",
    "\n",
    "### Machine learning:\n",
    "Scikit-learn --- Includes the most common machine learning algorithms; https://github.com/scikit-learn/scikit-learn\n",
    "\n",
    "Keras --- neural networks and modeling; https://github.com/keras-team/keras\n",
    "\n",
    "PyTorch --- A popular Python framework for neural network and deep learning with GPU acceleration; https://github.com/pytorch/pytorch\n",
    "\n",
    "Tensorflow --- Another popular Python framework for neural network and deep learning with GPU and TPU; https://github.com/tensorflow/tensorflow\n",
    "\n",
    " \n",
    "\n",
    "### Libraries for Geospatial Analysis\n",
    "ArcGIS Pro:\n",
    "Arcpy --- geographic data analysis, data conversion, data management, and map automation; https://pro.arcgis.com/en/pro-app/latest/arcpy/get-started/what-is-arcpy-.htm\n",
    "\n",
    "ArcGIS Python API --- Support web-based geospatial analysis, deep learning and big data analysis: https://github.com/Esri/arcgis-python-api\n",
    "\n",
    "### Independent Geospatial Libraries:\n",
    "Geopandas --- add support for geographic data to pandas objects;  https://github.com/geopandas/geopandas\n",
    "\n",
    "GDAL --- translator library for raster and vector geospatial data formats; https://github.com/Esri/gdal\n",
    "\n",
    "Rasterio --- access and visualize geospatial raster data;  https://github.com/mapbox/rasterio/blob/master/docs/index.rst\n",
    "\n",
    "Folium --- leverage leaflet (https://github.com/Leaflet/Leaflet) to build interactive web maps; https://github.com/python-visualization/folium"
   ]
  },
  {
   "cell_type": "code",
   "execution_count": null,
   "id": "b0ab1d4c-e1f5-4218-81a9-b8c5a6d554d8",
   "metadata": {},
   "outputs": [],
   "source": []
  }
 ],
 "metadata": {
  "kernelspec": {
   "display_name": "Python 3",
   "language": "python",
   "name": "python3"
  },
  "language_info": {
   "codemirror_mode": {
    "name": "ipython",
    "version": 3
   },
   "file_extension": ".py",
   "mimetype": "text/x-python",
   "name": "python",
   "nbconvert_exporter": "python",
   "pygments_lexer": "ipython3",
   "version": "3.9.18"
  }
 },
 "nbformat": 4,
 "nbformat_minor": 5
}
