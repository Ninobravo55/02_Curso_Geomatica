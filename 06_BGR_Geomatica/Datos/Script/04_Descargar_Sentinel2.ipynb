{
 "cells": [
  {
   "cell_type": "markdown",
   "id": "244f6eeb-cb8d-4394-80fc-8abb4e45858f",
   "metadata": {},
   "source": [
    "# Descargar datos multiespectrales Sentinel2 y Planet NICFI"
   ]
  },
  {
   "cell_type": "code",
   "execution_count": 1,
   "id": "39010de0-b9b5-45e4-bb60-994515307f75",
   "metadata": {},
   "outputs": [],
   "source": [
    "# Importar GEE y Iniciar sesion\n",
    "import ee\n",
    "import geemap\n",
    "import os\n",
    "import geopandas as gpd\n",
    "import glob"
   ]
  },
  {
   "cell_type": "code",
   "execution_count": 2,
   "id": "9f6cabb2-4166-42c6-acfa-112d1019df4e",
   "metadata": {},
   "outputs": [
    {
     "data": {
      "text/html": [
       "\n",
       "            <style>\n",
       "                .geemap-dark {\n",
       "                    --jp-widgets-color: white;\n",
       "                    --jp-widgets-label-color: white;\n",
       "                    --jp-ui-font-color1: white;\n",
       "                    --jp-layout-color2: #454545;\n",
       "                    background-color: #383838;\n",
       "                }\n",
       "\n",
       "                .geemap-dark .jupyter-button {\n",
       "                    --jp-layout-color3: #383838;\n",
       "                }\n",
       "\n",
       "                .geemap-colab {\n",
       "                    background-color: var(--colab-primary-surface-color, white);\n",
       "                }\n",
       "\n",
       "                .geemap-colab .jupyter-button {\n",
       "                    --jp-layout-color3: var(--colab-primary-surface-color, white);\n",
       "                }\n",
       "            </style>\n",
       "            "
      ],
      "text/plain": [
       "<IPython.core.display.HTML object>"
      ]
     },
     "metadata": {},
     "output_type": "display_data"
    }
   ],
   "source": [
    "ee.Initialize()"
   ]
  },
  {
   "cell_type": "code",
   "execution_count": 3,
   "id": "bfa74f48-1aad-4bee-9152-30d83eab3926",
   "metadata": {},
   "outputs": [
    {
     "data": {
      "text/html": [
       "\n",
       "            <style>\n",
       "                .geemap-dark {\n",
       "                    --jp-widgets-color: white;\n",
       "                    --jp-widgets-label-color: white;\n",
       "                    --jp-ui-font-color1: white;\n",
       "                    --jp-layout-color2: #454545;\n",
       "                    background-color: #383838;\n",
       "                }\n",
       "\n",
       "                .geemap-dark .jupyter-button {\n",
       "                    --jp-layout-color3: #383838;\n",
       "                }\n",
       "\n",
       "                .geemap-colab {\n",
       "                    background-color: var(--colab-primary-surface-color, white);\n",
       "                }\n",
       "\n",
       "                .geemap-colab .jupyter-button {\n",
       "                    --jp-layout-color3: var(--colab-primary-surface-color, white);\n",
       "                }\n",
       "            </style>\n",
       "            "
      ],
      "text/plain": [
       "<IPython.core.display.HTML object>"
      ]
     },
     "metadata": {},
     "output_type": "display_data"
    },
    {
     "data": {
      "application/vnd.jupyter.widget-view+json": {
       "model_id": "a47462e43a06435f9633288a48a0fdf2",
       "version_major": 2,
       "version_minor": 0
      },
      "text/plain": [
       "Map(center=[0, 0], controls=(WidgetControl(options=['position', 'transparent_bg'], widget=SearchDataGUI(childr…"
      ]
     },
     "execution_count": 3,
     "metadata": {},
     "output_type": "execute_result"
    }
   ],
   "source": [
    "Map = geemap.Map(basemap='Esri.WorldImagery')\n",
    "Map"
   ]
  },
  {
   "cell_type": "markdown",
   "id": "94abea99-1e3c-4f1c-896e-e9e73b1bcb00",
   "metadata": {},
   "source": [
    "## Importar shapefile"
   ]
  },
  {
   "cell_type": "code",
   "execution_count": 4,
   "id": "4d3c2537-fcc6-451c-93bf-6ea220c82447",
   "metadata": {},
   "outputs": [
    {
     "data": {
      "text/html": [
       "\n",
       "            <style>\n",
       "                .geemap-dark {\n",
       "                    --jp-widgets-color: white;\n",
       "                    --jp-widgets-label-color: white;\n",
       "                    --jp-ui-font-color1: white;\n",
       "                    --jp-layout-color2: #454545;\n",
       "                    background-color: #383838;\n",
       "                }\n",
       "\n",
       "                .geemap-dark .jupyter-button {\n",
       "                    --jp-layout-color3: #383838;\n",
       "                }\n",
       "\n",
       "                .geemap-colab {\n",
       "                    background-color: var(--colab-primary-surface-color, white);\n",
       "                }\n",
       "\n",
       "                .geemap-colab .jupyter-button {\n",
       "                    --jp-layout-color3: var(--colab-primary-surface-color, white);\n",
       "                }\n",
       "            </style>\n",
       "            "
      ],
      "text/plain": [
       "<IPython.core.display.HTML object>"
      ]
     },
     "metadata": {},
     "output_type": "display_data"
    },
    {
     "data": {
      "text/plain": [
       "'C:\\\\Users\\\\GEOMATICA\\\\Curso_Geomatica\\\\06_BGR_Geomatica\\\\Datos\\\\Script'"
      ]
     },
     "execution_count": 4,
     "metadata": {},
     "output_type": "execute_result"
    }
   ],
   "source": [
    "os.getcwd()"
   ]
  },
  {
   "cell_type": "code",
   "execution_count": 5,
   "id": "f98a308f-7295-403e-ae9a-cac21d4b144f",
   "metadata": {},
   "outputs": [
    {
     "data": {
      "text/html": [
       "\n",
       "            <style>\n",
       "                .geemap-dark {\n",
       "                    --jp-widgets-color: white;\n",
       "                    --jp-widgets-label-color: white;\n",
       "                    --jp-ui-font-color1: white;\n",
       "                    --jp-layout-color2: #454545;\n",
       "                    background-color: #383838;\n",
       "                }\n",
       "\n",
       "                .geemap-dark .jupyter-button {\n",
       "                    --jp-layout-color3: #383838;\n",
       "                }\n",
       "\n",
       "                .geemap-colab {\n",
       "                    background-color: var(--colab-primary-surface-color, white);\n",
       "                }\n",
       "\n",
       "                .geemap-colab .jupyter-button {\n",
       "                    --jp-layout-color3: var(--colab-primary-surface-color, white);\n",
       "                }\n",
       "            </style>\n",
       "            "
      ],
      "text/plain": [
       "<IPython.core.display.HTML object>"
      ]
     },
     "metadata": {},
     "output_type": "display_data"
    },
    {
     "data": {
      "text/plain": [
       "'D:\\\\Descarga'"
      ]
     },
     "execution_count": 5,
     "metadata": {},
     "output_type": "execute_result"
    }
   ],
   "source": [
    "ruta_archivos = r\"D:\\Descarga\"\n",
    "os.chdir(ruta_archivos) # Cambiar ruta trabajo\n",
    "os.getcwd() # Consultar ruta trabajo"
   ]
  },
  {
   "cell_type": "code",
   "execution_count": 6,
   "id": "85423a90-abd6-4950-a944-1c19f12b0f3e",
   "metadata": {},
   "outputs": [
    {
     "data": {
      "text/html": [
       "\n",
       "            <style>\n",
       "                .geemap-dark {\n",
       "                    --jp-widgets-color: white;\n",
       "                    --jp-widgets-label-color: white;\n",
       "                    --jp-ui-font-color1: white;\n",
       "                    --jp-layout-color2: #454545;\n",
       "                    background-color: #383838;\n",
       "                }\n",
       "\n",
       "                .geemap-dark .jupyter-button {\n",
       "                    --jp-layout-color3: #383838;\n",
       "                }\n",
       "\n",
       "                .geemap-colab {\n",
       "                    background-color: var(--colab-primary-surface-color, white);\n",
       "                }\n",
       "\n",
       "                .geemap-colab .jupyter-button {\n",
       "                    --jp-layout-color3: var(--colab-primary-surface-color, white);\n",
       "                }\n",
       "            </style>\n",
       "            "
      ],
      "text/plain": [
       "<IPython.core.display.HTML object>"
      ]
     },
     "metadata": {},
     "output_type": "display_data"
    },
    {
     "data": {
      "text/plain": [
       "['curvas_de_nivel.shp', 'malla_seleccionada.shp', 'malla_seleccionada3.shp']"
      ]
     },
     "execution_count": 6,
     "metadata": {},
     "output_type": "execute_result"
    }
   ],
   "source": [
    "lista = glob.glob(\"*.shp\")\n",
    "lista"
   ]
  },
  {
   "cell_type": "code",
   "execution_count": 7,
   "id": "87198d11-bcbf-4576-b13c-848b803f1c13",
   "metadata": {},
   "outputs": [
    {
     "data": {
      "text/html": [
       "\n",
       "            <style>\n",
       "                .geemap-dark {\n",
       "                    --jp-widgets-color: white;\n",
       "                    --jp-widgets-label-color: white;\n",
       "                    --jp-ui-font-color1: white;\n",
       "                    --jp-layout-color2: #454545;\n",
       "                    background-color: #383838;\n",
       "                }\n",
       "\n",
       "                .geemap-dark .jupyter-button {\n",
       "                    --jp-layout-color3: #383838;\n",
       "                }\n",
       "\n",
       "                .geemap-colab {\n",
       "                    background-color: var(--colab-primary-surface-color, white);\n",
       "                }\n",
       "\n",
       "                .geemap-colab .jupyter-button {\n",
       "                    --jp-layout-color3: var(--colab-primary-surface-color, white);\n",
       "                }\n",
       "            </style>\n",
       "            "
      ],
      "text/plain": [
       "<IPython.core.display.HTML object>"
      ]
     },
     "metadata": {},
     "output_type": "display_data"
    },
    {
     "data": {
      "text/html": [
       "<div>\n",
       "<style scoped>\n",
       "    .dataframe tbody tr th:only-of-type {\n",
       "        vertical-align: middle;\n",
       "    }\n",
       "\n",
       "    .dataframe tbody tr th {\n",
       "        vertical-align: top;\n",
       "    }\n",
       "\n",
       "    .dataframe thead th {\n",
       "        text-align: right;\n",
       "    }\n",
       "</style>\n",
       "<table border=\"1\" class=\"dataframe\">\n",
       "  <thead>\n",
       "    <tr style=\"text-align: right;\">\n",
       "      <th></th>\n",
       "      <th>Id</th>\n",
       "      <th>Nombre</th>\n",
       "      <th>geometry</th>\n",
       "    </tr>\n",
       "  </thead>\n",
       "  <tbody>\n",
       "    <tr>\n",
       "      <th>0</th>\n",
       "      <td>0</td>\n",
       "      <td>Parcela_1</td>\n",
       "      <td>POLYGON ((520237.999 9027505.412, 520237.999 9...</td>\n",
       "    </tr>\n",
       "    <tr>\n",
       "      <th>1</th>\n",
       "      <td>0</td>\n",
       "      <td>Parcela_2</td>\n",
       "      <td>POLYGON ((520237.999 9032505.412, 520237.999 9...</td>\n",
       "    </tr>\n",
       "    <tr>\n",
       "      <th>2</th>\n",
       "      <td>0</td>\n",
       "      <td>Parcela_3</td>\n",
       "      <td>POLYGON ((525237.999 9027505.412, 525237.999 9...</td>\n",
       "    </tr>\n",
       "    <tr>\n",
       "      <th>3</th>\n",
       "      <td>0</td>\n",
       "      <td>Parcela_4</td>\n",
       "      <td>POLYGON ((525237.999 9032505.412, 525237.999 9...</td>\n",
       "    </tr>\n",
       "    <tr>\n",
       "      <th>4</th>\n",
       "      <td>0</td>\n",
       "      <td>Parcela_5</td>\n",
       "      <td>POLYGON ((530237.999 9027505.412, 530237.999 9...</td>\n",
       "    </tr>\n",
       "  </tbody>\n",
       "</table>\n",
       "</div>"
      ],
      "text/plain": [
       "   Id     Nombre                                           geometry\n",
       "0   0  Parcela_1  POLYGON ((520237.999 9027505.412, 520237.999 9...\n",
       "1   0  Parcela_2  POLYGON ((520237.999 9032505.412, 520237.999 9...\n",
       "2   0  Parcela_3  POLYGON ((525237.999 9027505.412, 525237.999 9...\n",
       "3   0  Parcela_4  POLYGON ((525237.999 9032505.412, 525237.999 9...\n",
       "4   0  Parcela_5  POLYGON ((530237.999 9027505.412, 530237.999 9..."
      ]
     },
     "execution_count": 7,
     "metadata": {},
     "output_type": "execute_result"
    }
   ],
   "source": [
    "# cargar un shp\n",
    "zona_gdp = gpd.read_file(lista[1])\n",
    "zona_gdp"
   ]
  },
  {
   "cell_type": "markdown",
   "id": "b78eaa11-1db4-48ca-b5a9-b4fcac1c5077",
   "metadata": {},
   "source": [
    "## Convertir en Geográfico WGS84"
   ]
  },
  {
   "cell_type": "code",
   "execution_count": 8,
   "id": "4937abff-ce76-44a3-b63e-28abc8bffd97",
   "metadata": {},
   "outputs": [
    {
     "data": {
      "text/html": [
       "\n",
       "            <style>\n",
       "                .geemap-dark {\n",
       "                    --jp-widgets-color: white;\n",
       "                    --jp-widgets-label-color: white;\n",
       "                    --jp-ui-font-color1: white;\n",
       "                    --jp-layout-color2: #454545;\n",
       "                    background-color: #383838;\n",
       "                }\n",
       "\n",
       "                .geemap-dark .jupyter-button {\n",
       "                    --jp-layout-color3: #383838;\n",
       "                }\n",
       "\n",
       "                .geemap-colab {\n",
       "                    background-color: var(--colab-primary-surface-color, white);\n",
       "                }\n",
       "\n",
       "                .geemap-colab .jupyter-button {\n",
       "                    --jp-layout-color3: var(--colab-primary-surface-color, white);\n",
       "                }\n",
       "            </style>\n",
       "            "
      ],
      "text/plain": [
       "<IPython.core.display.HTML object>"
      ]
     },
     "metadata": {},
     "output_type": "display_data"
    }
   ],
   "source": [
    "# Hagamos una copia de seguridad de nuestros datos\n",
    "Zona_geo = zona_gdp.copy()\n",
    "# Reproject the data\n",
    "Zona_wg84 = Zona_geo.to_crs(epsg=4326)"
   ]
  },
  {
   "cell_type": "code",
   "execution_count": 9,
   "id": "207844a7-afd7-450c-9c20-12d6db2781a3",
   "metadata": {},
   "outputs": [
    {
     "data": {
      "text/html": [
       "\n",
       "            <style>\n",
       "                .geemap-dark {\n",
       "                    --jp-widgets-color: white;\n",
       "                    --jp-widgets-label-color: white;\n",
       "                    --jp-ui-font-color1: white;\n",
       "                    --jp-layout-color2: #454545;\n",
       "                    background-color: #383838;\n",
       "                }\n",
       "\n",
       "                .geemap-dark .jupyter-button {\n",
       "                    --jp-layout-color3: #383838;\n",
       "                }\n",
       "\n",
       "                .geemap-colab {\n",
       "                    background-color: var(--colab-primary-surface-color, white);\n",
       "                }\n",
       "\n",
       "                .geemap-colab .jupyter-button {\n",
       "                    --jp-layout-color3: var(--colab-primary-surface-color, white);\n",
       "                }\n",
       "            </style>\n",
       "            "
      ],
      "text/plain": [
       "<IPython.core.display.HTML object>"
      ]
     },
     "metadata": {},
     "output_type": "display_data"
    },
    {
     "data": {
      "text/plain": [
       "'WGS 84'"
      ]
     },
     "execution_count": 9,
     "metadata": {},
     "output_type": "execute_result"
    }
   ],
   "source": [
    "Zona_wg84.crs.name"
   ]
  },
  {
   "cell_type": "markdown",
   "id": "92f4e066-ddb8-4037-943a-2e6e7a391483",
   "metadata": {},
   "source": [
    "## Convertir de Geopandas a GEE"
   ]
  },
  {
   "cell_type": "code",
   "execution_count": 10,
   "id": "1b2de9d4-ec8b-4a8c-90ed-8a5733341828",
   "metadata": {},
   "outputs": [
    {
     "data": {
      "text/html": [
       "\n",
       "            <style>\n",
       "                .geemap-dark {\n",
       "                    --jp-widgets-color: white;\n",
       "                    --jp-widgets-label-color: white;\n",
       "                    --jp-ui-font-color1: white;\n",
       "                    --jp-layout-color2: #454545;\n",
       "                    background-color: #383838;\n",
       "                }\n",
       "\n",
       "                .geemap-dark .jupyter-button {\n",
       "                    --jp-layout-color3: #383838;\n",
       "                }\n",
       "\n",
       "                .geemap-colab {\n",
       "                    background-color: var(--colab-primary-surface-color, white);\n",
       "                }\n",
       "\n",
       "                .geemap-colab .jupyter-button {\n",
       "                    --jp-layout-color3: var(--colab-primary-surface-color, white);\n",
       "                }\n",
       "            </style>\n",
       "            "
      ],
      "text/plain": [
       "<IPython.core.display.HTML object>"
      ]
     },
     "metadata": {},
     "output_type": "display_data"
    }
   ],
   "source": [
    "# Crear un featureCollecion mediante GeoJSON\n",
    "ee_zona_gdp = ee.FeatureCollection(Zona_wg84.__geo_interface__)"
   ]
  },
  {
   "cell_type": "code",
   "execution_count": 11,
   "id": "833894ae-d77b-4a6d-ba81-9c31fea403ba",
   "metadata": {},
   "outputs": [
    {
     "data": {
      "text/html": [
       "\n",
       "            <style>\n",
       "                .geemap-dark {\n",
       "                    --jp-widgets-color: white;\n",
       "                    --jp-widgets-label-color: white;\n",
       "                    --jp-ui-font-color1: white;\n",
       "                    --jp-layout-color2: #454545;\n",
       "                    background-color: #383838;\n",
       "                }\n",
       "\n",
       "                .geemap-dark .jupyter-button {\n",
       "                    --jp-layout-color3: #383838;\n",
       "                }\n",
       "\n",
       "                .geemap-colab {\n",
       "                    background-color: var(--colab-primary-surface-color, white);\n",
       "                }\n",
       "\n",
       "                .geemap-colab .jupyter-button {\n",
       "                    --jp-layout-color3: var(--colab-primary-surface-color, white);\n",
       "                }\n",
       "            </style>\n",
       "            "
      ],
      "text/plain": [
       "<IPython.core.display.HTML object>"
      ]
     },
     "metadata": {},
     "output_type": "display_data"
    }
   ],
   "source": [
    "geometria = ee_zona_gdp.geometry()"
   ]
  },
  {
   "cell_type": "code",
   "execution_count": 12,
   "id": "38c8e4ce-f2da-4807-a52c-c81a0b860414",
   "metadata": {},
   "outputs": [
    {
     "data": {
      "text/html": [
       "\n",
       "            <style>\n",
       "                .geemap-dark {\n",
       "                    --jp-widgets-color: white;\n",
       "                    --jp-widgets-label-color: white;\n",
       "                    --jp-ui-font-color1: white;\n",
       "                    --jp-layout-color2: #454545;\n",
       "                    background-color: #383838;\n",
       "                }\n",
       "\n",
       "                .geemap-dark .jupyter-button {\n",
       "                    --jp-layout-color3: #383838;\n",
       "                }\n",
       "\n",
       "                .geemap-colab {\n",
       "                    background-color: var(--colab-primary-surface-color, white);\n",
       "                }\n",
       "\n",
       "                .geemap-colab .jupyter-button {\n",
       "                    --jp-layout-color3: var(--colab-primary-surface-color, white);\n",
       "                }\n",
       "            </style>\n",
       "            "
      ],
      "text/plain": [
       "<IPython.core.display.HTML object>"
      ]
     },
     "metadata": {},
     "output_type": "display_data"
    },
    {
     "data": {
      "application/vnd.jupyter.widget-view+json": {
       "model_id": "a47462e43a06435f9633288a48a0fdf2",
       "version_major": 2,
       "version_minor": 0
      },
      "text/plain": [
       "Map(bottom=812.0, center=[-8.756990838186095, -74.75689806094516], controls=(WidgetControl(options=['position'…"
      ]
     },
     "execution_count": 12,
     "metadata": {},
     "output_type": "execute_result"
    }
   ],
   "source": [
    "# Visualizar mapa\n",
    "Map.centerObject(geometria,12)\n",
    "Map.addLayer(ee_zona_gdp, {\"color\" : \"00FF11\"}, \"zona_gdp\")\n",
    "Map"
   ]
  },
  {
   "cell_type": "code",
   "execution_count": 13,
   "id": "a73ba326-289b-421f-a0e3-a1f566f119ff",
   "metadata": {},
   "outputs": [
    {
     "data": {
      "text/html": [
       "\n",
       "            <style>\n",
       "                .geemap-dark {\n",
       "                    --jp-widgets-color: white;\n",
       "                    --jp-widgets-label-color: white;\n",
       "                    --jp-ui-font-color1: white;\n",
       "                    --jp-layout-color2: #454545;\n",
       "                    background-color: #383838;\n",
       "                }\n",
       "\n",
       "                .geemap-dark .jupyter-button {\n",
       "                    --jp-layout-color3: #383838;\n",
       "                }\n",
       "\n",
       "                .geemap-colab {\n",
       "                    background-color: var(--colab-primary-surface-color, white);\n",
       "                }\n",
       "\n",
       "                .geemap-colab .jupyter-button {\n",
       "                    --jp-layout-color3: var(--colab-primary-surface-color, white);\n",
       "                }\n",
       "            </style>\n",
       "            "
      ],
      "text/plain": [
       "<IPython.core.display.HTML object>"
      ]
     },
     "metadata": {},
     "output_type": "display_data"
    },
    {
     "name": "stdout",
     "output_type": "stream",
     "text": [
      "['Parcela_1', 'Parcela_2', 'Parcela_3', 'Parcela_4', 'Parcela_5']\n"
     ]
    }
   ],
   "source": [
    "# Extraer la lista de paises\n",
    "lista_parcela = ee_zona_gdp.reduceColumns(ee.Reducer.toList(),[\"Nombre\"]).get(\"list\").getInfo()\n",
    "print(lista_parcela)"
   ]
  },
  {
   "cell_type": "code",
   "execution_count": 14,
   "id": "3d3cdce5-384a-4cab-93cf-69fe81464c4c",
   "metadata": {},
   "outputs": [
    {
     "data": {
      "text/html": [
       "\n",
       "            <style>\n",
       "                .geemap-dark {\n",
       "                    --jp-widgets-color: white;\n",
       "                    --jp-widgets-label-color: white;\n",
       "                    --jp-ui-font-color1: white;\n",
       "                    --jp-layout-color2: #454545;\n",
       "                    background-color: #383838;\n",
       "                }\n",
       "\n",
       "                .geemap-dark .jupyter-button {\n",
       "                    --jp-layout-color3: #383838;\n",
       "                }\n",
       "\n",
       "                .geemap-colab {\n",
       "                    background-color: var(--colab-primary-surface-color, white);\n",
       "                }\n",
       "\n",
       "                .geemap-colab .jupyter-button {\n",
       "                    --jp-layout-color3: var(--colab-primary-surface-color, white);\n",
       "                }\n",
       "            </style>\n",
       "            "
      ],
      "text/plain": [
       "<IPython.core.display.HTML object>"
      ]
     },
     "metadata": {},
     "output_type": "display_data"
    }
   ],
   "source": [
    "Parcela = ee_zona_gdp.filterMetadata('Nombre', 'equals', lista_parcela[0])"
   ]
  },
  {
   "cell_type": "code",
   "execution_count": 15,
   "id": "e43cd9e4-35de-4203-980a-1b8b2b42fb9e",
   "metadata": {},
   "outputs": [
    {
     "data": {
      "text/html": [
       "\n",
       "            <style>\n",
       "                .geemap-dark {\n",
       "                    --jp-widgets-color: white;\n",
       "                    --jp-widgets-label-color: white;\n",
       "                    --jp-ui-font-color1: white;\n",
       "                    --jp-layout-color2: #454545;\n",
       "                    background-color: #383838;\n",
       "                }\n",
       "\n",
       "                .geemap-dark .jupyter-button {\n",
       "                    --jp-layout-color3: #383838;\n",
       "                }\n",
       "\n",
       "                .geemap-colab {\n",
       "                    background-color: var(--colab-primary-surface-color, white);\n",
       "                }\n",
       "\n",
       "                .geemap-colab .jupyter-button {\n",
       "                    --jp-layout-color3: var(--colab-primary-surface-color, white);\n",
       "                }\n",
       "            </style>\n",
       "            "
      ],
      "text/plain": [
       "<IPython.core.display.HTML object>"
      ]
     },
     "metadata": {},
     "output_type": "display_data"
    }
   ],
   "source": [
    "os.chdir(r\"D:\\Descarga\")"
   ]
  },
  {
   "cell_type": "markdown",
   "id": "e0cbdb8c-8c1f-4148-af8b-0d054de3d719",
   "metadata": {},
   "source": [
    "## Descargar Planet NICFI"
   ]
  },
  {
   "cell_type": "code",
   "execution_count": 20,
   "id": "b57175ea-dd36-454c-95ae-c638fffe6662",
   "metadata": {},
   "outputs": [
    {
     "data": {
      "text/html": [
       "\n",
       "            <style>\n",
       "                .geemap-dark {\n",
       "                    --jp-widgets-color: white;\n",
       "                    --jp-widgets-label-color: white;\n",
       "                    --jp-ui-font-color1: white;\n",
       "                    --jp-layout-color2: #454545;\n",
       "                    background-color: #383838;\n",
       "                }\n",
       "\n",
       "                .geemap-dark .jupyter-button {\n",
       "                    --jp-layout-color3: #383838;\n",
       "                }\n",
       "\n",
       "                .geemap-colab {\n",
       "                    background-color: var(--colab-primary-surface-color, white);\n",
       "                }\n",
       "\n",
       "                .geemap-colab .jupyter-button {\n",
       "                    --jp-layout-color3: var(--colab-primary-surface-color, white);\n",
       "                }\n",
       "            </style>\n",
       "            "
      ],
      "text/plain": [
       "<IPython.core.display.HTML object>"
      ]
     },
     "metadata": {},
     "output_type": "display_data"
    }
   ],
   "source": [
    "# Cargar imagen Planet - NICFI\n",
    "nicfi = ee.ImageCollection('projects/planet-nicfi/assets/basemaps/americas')\\\n",
    "            .filter(ee.Filter.date('2023-06-01','2024-04-15'))"
   ]
  },
  {
   "cell_type": "code",
   "execution_count": 21,
   "id": "e3dd0ba5-246a-4264-83ca-78d4df5b5924",
   "metadata": {},
   "outputs": [
    {
     "data": {
      "text/html": [
       "\n",
       "            <style>\n",
       "                .geemap-dark {\n",
       "                    --jp-widgets-color: white;\n",
       "                    --jp-widgets-label-color: white;\n",
       "                    --jp-ui-font-color1: white;\n",
       "                    --jp-layout-color2: #454545;\n",
       "                    background-color: #383838;\n",
       "                }\n",
       "\n",
       "                .geemap-dark .jupyter-button {\n",
       "                    --jp-layout-color3: #383838;\n",
       "                }\n",
       "\n",
       "                .geemap-colab {\n",
       "                    background-color: var(--colab-primary-surface-color, white);\n",
       "                }\n",
       "\n",
       "                .geemap-colab .jupyter-button {\n",
       "                    --jp-layout-color3: var(--colab-primary-surface-color, white);\n",
       "                }\n",
       "            </style>\n",
       "            "
      ],
      "text/plain": [
       "<IPython.core.display.HTML object>"
      ]
     },
     "metadata": {},
     "output_type": "display_data"
    },
    {
     "name": "stdout",
     "output_type": "stream",
     "text": [
      "['planet_medres_normalized_analytic_2023-06_mosaic', 'planet_medres_normalized_analytic_2023-07_mosaic', 'planet_medres_normalized_analytic_2023-08_mosaic', 'planet_medres_normalized_analytic_2023-09_mosaic', 'planet_medres_normalized_analytic_2023-10_mosaic', 'planet_medres_normalized_analytic_2023-11_mosaic', 'planet_medres_normalized_analytic_2023-12_mosaic', 'planet_medres_normalized_analytic_2024-01_mosaic', 'planet_medres_normalized_analytic_2024-02_mosaic', 'planet_medres_normalized_analytic_2024-03_mosaic']\n"
     ]
    }
   ],
   "source": [
    "# Imprimir la lista de ID Imagenes\n",
    "ID_planet = nicfi.reduceColumns(ee.Reducer.toList(),[\"system:index\"]).get(\"list\").getInfo()\n",
    "print(ID_planet)"
   ]
  },
  {
   "cell_type": "code",
   "execution_count": 22,
   "id": "e340c1c7-ea96-431e-b988-9dbb4bb24ac1",
   "metadata": {},
   "outputs": [
    {
     "data": {
      "text/html": [
       "\n",
       "            <style>\n",
       "                .geemap-dark {\n",
       "                    --jp-widgets-color: white;\n",
       "                    --jp-widgets-label-color: white;\n",
       "                    --jp-ui-font-color1: white;\n",
       "                    --jp-layout-color2: #454545;\n",
       "                    background-color: #383838;\n",
       "                }\n",
       "\n",
       "                .geemap-dark .jupyter-button {\n",
       "                    --jp-layout-color3: #383838;\n",
       "                }\n",
       "\n",
       "                .geemap-colab {\n",
       "                    background-color: var(--colab-primary-surface-color, white);\n",
       "                }\n",
       "\n",
       "                .geemap-colab .jupyter-button {\n",
       "                    --jp-layout-color3: var(--colab-primary-surface-color, white);\n",
       "                }\n",
       "            </style>\n",
       "            "
      ],
      "text/plain": [
       "<IPython.core.display.HTML object>"
      ]
     },
     "metadata": {},
     "output_type": "display_data"
    },
    {
     "data": {
      "text/plain": [
       "'planet_medres_normalized_analytic_2024-03_mosaic'"
      ]
     },
     "execution_count": 22,
     "metadata": {},
     "output_type": "execute_result"
    }
   ],
   "source": [
    "ID_planet[-1]"
   ]
  },
  {
   "cell_type": "code",
   "execution_count": 23,
   "id": "ce657077-25b2-4aea-ad88-a448d9dc3d96",
   "metadata": {},
   "outputs": [
    {
     "data": {
      "text/html": [
       "\n",
       "            <style>\n",
       "                .geemap-dark {\n",
       "                    --jp-widgets-color: white;\n",
       "                    --jp-widgets-label-color: white;\n",
       "                    --jp-ui-font-color1: white;\n",
       "                    --jp-layout-color2: #454545;\n",
       "                    background-color: #383838;\n",
       "                }\n",
       "\n",
       "                .geemap-dark .jupyter-button {\n",
       "                    --jp-layout-color3: #383838;\n",
       "                }\n",
       "\n",
       "                .geemap-colab {\n",
       "                    background-color: var(--colab-primary-surface-color, white);\n",
       "                }\n",
       "\n",
       "                .geemap-colab .jupyter-button {\n",
       "                    --jp-layout-color3: var(--colab-primary-surface-color, white);\n",
       "                }\n",
       "            </style>\n",
       "            "
      ],
      "text/plain": [
       "<IPython.core.display.HTML object>"
      ]
     },
     "metadata": {},
     "output_type": "display_data"
    },
    {
     "data": {
      "text/plain": [
       "'2024-03_mosaic_Planet'"
      ]
     },
     "execution_count": 23,
     "metadata": {},
     "output_type": "execute_result"
    }
   ],
   "source": [
    "ID_planet[-1][-14:]+\"_Planet\""
   ]
  },
  {
   "cell_type": "code",
   "execution_count": 29,
   "id": "fd5bcc3b-a29b-4fbd-a5ee-a37f2fc61247",
   "metadata": {},
   "outputs": [
    {
     "data": {
      "text/html": [
       "\n",
       "            <style>\n",
       "                .geemap-dark {\n",
       "                    --jp-widgets-color: white;\n",
       "                    --jp-widgets-label-color: white;\n",
       "                    --jp-ui-font-color1: white;\n",
       "                    --jp-layout-color2: #454545;\n",
       "                    background-color: #383838;\n",
       "                }\n",
       "\n",
       "                .geemap-dark .jupyter-button {\n",
       "                    --jp-layout-color3: #383838;\n",
       "                }\n",
       "\n",
       "                .geemap-colab {\n",
       "                    background-color: var(--colab-primary-surface-color, white);\n",
       "                }\n",
       "\n",
       "                .geemap-colab .jupyter-button {\n",
       "                    --jp-layout-color3: var(--colab-primary-surface-color, white);\n",
       "                }\n",
       "            </style>\n",
       "            "
      ],
      "text/plain": [
       "<IPython.core.display.HTML object>"
      ]
     },
     "metadata": {},
     "output_type": "display_data"
    }
   ],
   "source": [
    "lista_ID_planet = []"
   ]
  },
  {
   "cell_type": "code",
   "execution_count": 30,
   "id": "feba9b8a-9187-4a92-a59b-872ee43f10d3",
   "metadata": {},
   "outputs": [
    {
     "data": {
      "text/html": [
       "\n",
       "            <style>\n",
       "                .geemap-dark {\n",
       "                    --jp-widgets-color: white;\n",
       "                    --jp-widgets-label-color: white;\n",
       "                    --jp-ui-font-color1: white;\n",
       "                    --jp-layout-color2: #454545;\n",
       "                    background-color: #383838;\n",
       "                }\n",
       "\n",
       "                .geemap-dark .jupyter-button {\n",
       "                    --jp-layout-color3: #383838;\n",
       "                }\n",
       "\n",
       "                .geemap-colab {\n",
       "                    background-color: var(--colab-primary-surface-color, white);\n",
       "                }\n",
       "\n",
       "                .geemap-colab .jupyter-button {\n",
       "                    --jp-layout-color3: var(--colab-primary-surface-color, white);\n",
       "                }\n",
       "            </style>\n",
       "            "
      ],
      "text/plain": [
       "<IPython.core.display.HTML object>"
      ]
     },
     "metadata": {},
     "output_type": "display_data"
    }
   ],
   "source": [
    "for r in range(len(ID_planet)):\n",
    "    lista_ID_planet.append(ID_planet[r][-14:])"
   ]
  },
  {
   "cell_type": "code",
   "execution_count": 31,
   "id": "ec65267a-f50e-4e40-966f-b47ef3dc49a6",
   "metadata": {},
   "outputs": [
    {
     "data": {
      "text/html": [
       "\n",
       "            <style>\n",
       "                .geemap-dark {\n",
       "                    --jp-widgets-color: white;\n",
       "                    --jp-widgets-label-color: white;\n",
       "                    --jp-ui-font-color1: white;\n",
       "                    --jp-layout-color2: #454545;\n",
       "                    background-color: #383838;\n",
       "                }\n",
       "\n",
       "                .geemap-dark .jupyter-button {\n",
       "                    --jp-layout-color3: #383838;\n",
       "                }\n",
       "\n",
       "                .geemap-colab {\n",
       "                    background-color: var(--colab-primary-surface-color, white);\n",
       "                }\n",
       "\n",
       "                .geemap-colab .jupyter-button {\n",
       "                    --jp-layout-color3: var(--colab-primary-surface-color, white);\n",
       "                }\n",
       "            </style>\n",
       "            "
      ],
      "text/plain": [
       "<IPython.core.display.HTML object>"
      ]
     },
     "metadata": {},
     "output_type": "display_data"
    },
    {
     "data": {
      "text/plain": [
       "['2023-06_mosaic',\n",
       " '2023-07_mosaic',\n",
       " '2023-08_mosaic',\n",
       " '2023-09_mosaic',\n",
       " '2023-10_mosaic',\n",
       " '2023-11_mosaic',\n",
       " '2023-12_mosaic',\n",
       " '2024-01_mosaic',\n",
       " '2024-02_mosaic',\n",
       " '2024-03_mosaic']"
      ]
     },
     "execution_count": 31,
     "metadata": {},
     "output_type": "execute_result"
    }
   ],
   "source": [
    "lista_ID_planet"
   ]
  },
  {
   "cell_type": "code",
   "execution_count": 32,
   "id": "2d969fd4-cfe8-48e5-a91b-92a296eb181c",
   "metadata": {},
   "outputs": [
    {
     "data": {
      "text/html": [
       "\n",
       "            <style>\n",
       "                .geemap-dark {\n",
       "                    --jp-widgets-color: white;\n",
       "                    --jp-widgets-label-color: white;\n",
       "                    --jp-ui-font-color1: white;\n",
       "                    --jp-layout-color2: #454545;\n",
       "                    background-color: #383838;\n",
       "                }\n",
       "\n",
       "                .geemap-dark .jupyter-button {\n",
       "                    --jp-layout-color3: #383838;\n",
       "                }\n",
       "\n",
       "                .geemap-colab {\n",
       "                    background-color: var(--colab-primary-surface-color, white);\n",
       "                }\n",
       "\n",
       "                .geemap-colab .jupyter-button {\n",
       "                    --jp-layout-color3: var(--colab-primary-surface-color, white);\n",
       "                }\n",
       "            </style>\n",
       "            "
      ],
      "text/plain": [
       "<IPython.core.display.HTML object>"
      ]
     },
     "metadata": {},
     "output_type": "display_data"
    }
   ],
   "source": [
    "import pandas as pd"
   ]
  },
  {
   "cell_type": "code",
   "execution_count": 33,
   "id": "9b822321-cad0-4534-88b4-db1560175d4f",
   "metadata": {},
   "outputs": [
    {
     "data": {
      "text/html": [
       "\n",
       "            <style>\n",
       "                .geemap-dark {\n",
       "                    --jp-widgets-color: white;\n",
       "                    --jp-widgets-label-color: white;\n",
       "                    --jp-ui-font-color1: white;\n",
       "                    --jp-layout-color2: #454545;\n",
       "                    background-color: #383838;\n",
       "                }\n",
       "\n",
       "                .geemap-dark .jupyter-button {\n",
       "                    --jp-layout-color3: #383838;\n",
       "                }\n",
       "\n",
       "                .geemap-colab {\n",
       "                    background-color: var(--colab-primary-surface-color, white);\n",
       "                }\n",
       "\n",
       "                .geemap-colab .jupyter-button {\n",
       "                    --jp-layout-color3: var(--colab-primary-surface-color, white);\n",
       "                }\n",
       "            </style>\n",
       "            "
      ],
      "text/plain": [
       "<IPython.core.display.HTML object>"
      ]
     },
     "metadata": {},
     "output_type": "display_data"
    }
   ],
   "source": [
    "tabla_Planet = pd.DataFrame(lista_ID_planet)"
   ]
  },
  {
   "cell_type": "code",
   "execution_count": 35,
   "id": "256f5a80-6a6b-41a1-9d31-77e30d61c006",
   "metadata": {},
   "outputs": [
    {
     "data": {
      "text/html": [
       "\n",
       "            <style>\n",
       "                .geemap-dark {\n",
       "                    --jp-widgets-color: white;\n",
       "                    --jp-widgets-label-color: white;\n",
       "                    --jp-ui-font-color1: white;\n",
       "                    --jp-layout-color2: #454545;\n",
       "                    background-color: #383838;\n",
       "                }\n",
       "\n",
       "                .geemap-dark .jupyter-button {\n",
       "                    --jp-layout-color3: #383838;\n",
       "                }\n",
       "\n",
       "                .geemap-colab {\n",
       "                    background-color: var(--colab-primary-surface-color, white);\n",
       "                }\n",
       "\n",
       "                .geemap-colab .jupyter-button {\n",
       "                    --jp-layout-color3: var(--colab-primary-surface-color, white);\n",
       "                }\n",
       "            </style>\n",
       "            "
      ],
      "text/plain": [
       "<IPython.core.display.HTML object>"
      ]
     },
     "metadata": {},
     "output_type": "display_data"
    }
   ],
   "source": [
    "tabla_Planet.columns = [\"ID_planet\"]"
   ]
  },
  {
   "cell_type": "code",
   "execution_count": 36,
   "id": "514d3797-fe97-4555-b4df-3cb283a06ee0",
   "metadata": {},
   "outputs": [
    {
     "data": {
      "text/html": [
       "\n",
       "            <style>\n",
       "                .geemap-dark {\n",
       "                    --jp-widgets-color: white;\n",
       "                    --jp-widgets-label-color: white;\n",
       "                    --jp-ui-font-color1: white;\n",
       "                    --jp-layout-color2: #454545;\n",
       "                    background-color: #383838;\n",
       "                }\n",
       "\n",
       "                .geemap-dark .jupyter-button {\n",
       "                    --jp-layout-color3: #383838;\n",
       "                }\n",
       "\n",
       "                .geemap-colab {\n",
       "                    background-color: var(--colab-primary-surface-color, white);\n",
       "                }\n",
       "\n",
       "                .geemap-colab .jupyter-button {\n",
       "                    --jp-layout-color3: var(--colab-primary-surface-color, white);\n",
       "                }\n",
       "            </style>\n",
       "            "
      ],
      "text/plain": [
       "<IPython.core.display.HTML object>"
      ]
     },
     "metadata": {},
     "output_type": "display_data"
    },
    {
     "data": {
      "text/html": [
       "<div>\n",
       "<style scoped>\n",
       "    .dataframe tbody tr th:only-of-type {\n",
       "        vertical-align: middle;\n",
       "    }\n",
       "\n",
       "    .dataframe tbody tr th {\n",
       "        vertical-align: top;\n",
       "    }\n",
       "\n",
       "    .dataframe thead th {\n",
       "        text-align: right;\n",
       "    }\n",
       "</style>\n",
       "<table border=\"1\" class=\"dataframe\">\n",
       "  <thead>\n",
       "    <tr style=\"text-align: right;\">\n",
       "      <th></th>\n",
       "      <th>ID_planet</th>\n",
       "    </tr>\n",
       "  </thead>\n",
       "  <tbody>\n",
       "    <tr>\n",
       "      <th>0</th>\n",
       "      <td>2023-06_mosaic</td>\n",
       "    </tr>\n",
       "    <tr>\n",
       "      <th>1</th>\n",
       "      <td>2023-07_mosaic</td>\n",
       "    </tr>\n",
       "    <tr>\n",
       "      <th>2</th>\n",
       "      <td>2023-08_mosaic</td>\n",
       "    </tr>\n",
       "    <tr>\n",
       "      <th>3</th>\n",
       "      <td>2023-09_mosaic</td>\n",
       "    </tr>\n",
       "  </tbody>\n",
       "</table>\n",
       "</div>"
      ],
      "text/plain": [
       "        ID_planet\n",
       "0  2023-06_mosaic\n",
       "1  2023-07_mosaic\n",
       "2  2023-08_mosaic\n",
       "3  2023-09_mosaic"
      ]
     },
     "execution_count": 36,
     "metadata": {},
     "output_type": "execute_result"
    }
   ],
   "source": [
    "tabla_Planet.head(4)"
   ]
  },
  {
   "cell_type": "code",
   "execution_count": 41,
   "id": "7de3dbed-1740-4886-bd28-e2059720563c",
   "metadata": {},
   "outputs": [
    {
     "data": {
      "text/html": [
       "\n",
       "            <style>\n",
       "                .geemap-dark {\n",
       "                    --jp-widgets-color: white;\n",
       "                    --jp-widgets-label-color: white;\n",
       "                    --jp-ui-font-color1: white;\n",
       "                    --jp-layout-color2: #454545;\n",
       "                    background-color: #383838;\n",
       "                }\n",
       "\n",
       "                .geemap-dark .jupyter-button {\n",
       "                    --jp-layout-color3: #383838;\n",
       "                }\n",
       "\n",
       "                .geemap-colab {\n",
       "                    background-color: var(--colab-primary-surface-color, white);\n",
       "                }\n",
       "\n",
       "                .geemap-colab .jupyter-button {\n",
       "                    --jp-layout-color3: var(--colab-primary-surface-color, white);\n",
       "                }\n",
       "            </style>\n",
       "            "
      ],
      "text/plain": [
       "<IPython.core.display.HTML object>"
      ]
     },
     "metadata": {},
     "output_type": "display_data"
    },
    {
     "data": {
      "text/plain": [
       "'D:\\\\Descarga\\\\Planet'"
      ]
     },
     "execution_count": 41,
     "metadata": {},
     "output_type": "execute_result"
    }
   ],
   "source": [
    "# Concatenar string o texto \n",
    "out_dir_planet = os.path.normpath((os.getcwd() + '/Planet' ))\n",
    "out_dir_planet"
   ]
  },
  {
   "cell_type": "code",
   "execution_count": 42,
   "id": "3ec98853-0697-4d6f-a78f-448fa39d7c07",
   "metadata": {},
   "outputs": [
    {
     "data": {
      "text/html": [
       "\n",
       "            <style>\n",
       "                .geemap-dark {\n",
       "                    --jp-widgets-color: white;\n",
       "                    --jp-widgets-label-color: white;\n",
       "                    --jp-ui-font-color1: white;\n",
       "                    --jp-layout-color2: #454545;\n",
       "                    background-color: #383838;\n",
       "                }\n",
       "\n",
       "                .geemap-dark .jupyter-button {\n",
       "                    --jp-layout-color3: #383838;\n",
       "                }\n",
       "\n",
       "                .geemap-colab {\n",
       "                    background-color: var(--colab-primary-surface-color, white);\n",
       "                }\n",
       "\n",
       "                .geemap-colab .jupyter-button {\n",
       "                    --jp-layout-color3: var(--colab-primary-surface-color, white);\n",
       "                }\n",
       "            </style>\n",
       "            "
      ],
      "text/plain": [
       "<IPython.core.display.HTML object>"
      ]
     },
     "metadata": {},
     "output_type": "display_data"
    },
    {
     "data": {
      "text/plain": [
       "'D:\\\\Descarga\\\\Sentinel2'"
      ]
     },
     "execution_count": 42,
     "metadata": {},
     "output_type": "execute_result"
    }
   ],
   "source": [
    "# Concatenar string o texto \n",
    "out_dir_sentinel2 = os.path.normpath((os.getcwd() + '/Sentinel2' ))\n",
    "out_dir_sentinel2"
   ]
  },
  {
   "cell_type": "code",
   "execution_count": 45,
   "id": "0e096551-c79b-4e7a-aa82-9e1d4cb72dc0",
   "metadata": {},
   "outputs": [
    {
     "data": {
      "text/html": [
       "\n",
       "            <style>\n",
       "                .geemap-dark {\n",
       "                    --jp-widgets-color: white;\n",
       "                    --jp-widgets-label-color: white;\n",
       "                    --jp-ui-font-color1: white;\n",
       "                    --jp-layout-color2: #454545;\n",
       "                    background-color: #383838;\n",
       "                }\n",
       "\n",
       "                .geemap-dark .jupyter-button {\n",
       "                    --jp-layout-color3: #383838;\n",
       "                }\n",
       "\n",
       "                .geemap-colab {\n",
       "                    background-color: var(--colab-primary-surface-color, white);\n",
       "                }\n",
       "\n",
       "                .geemap-colab .jupyter-button {\n",
       "                    --jp-layout-color3: var(--colab-primary-surface-color, white);\n",
       "                }\n",
       "            </style>\n",
       "            "
      ],
      "text/plain": [
       "<IPython.core.display.HTML object>"
      ]
     },
     "metadata": {},
     "output_type": "display_data"
    }
   ],
   "source": [
    "# Crear la carpeta en el directorio\n",
    "os.makedirs(out_dir_planet)\n",
    "os.makedirs(out_dir_sentinel2)"
   ]
  },
  {
   "cell_type": "code",
   "execution_count": 46,
   "id": "0a0b5fee-786e-4c8d-87a5-d1df6d8a6b6f",
   "metadata": {},
   "outputs": [
    {
     "data": {
      "text/html": [
       "\n",
       "            <style>\n",
       "                .geemap-dark {\n",
       "                    --jp-widgets-color: white;\n",
       "                    --jp-widgets-label-color: white;\n",
       "                    --jp-ui-font-color1: white;\n",
       "                    --jp-layout-color2: #454545;\n",
       "                    background-color: #383838;\n",
       "                }\n",
       "\n",
       "                .geemap-dark .jupyter-button {\n",
       "                    --jp-layout-color3: #383838;\n",
       "                }\n",
       "\n",
       "                .geemap-colab {\n",
       "                    background-color: var(--colab-primary-surface-color, white);\n",
       "                }\n",
       "\n",
       "                .geemap-colab .jupyter-button {\n",
       "                    --jp-layout-color3: var(--colab-primary-surface-color, white);\n",
       "                }\n",
       "            </style>\n",
       "            "
      ],
      "text/plain": [
       "<IPython.core.display.HTML object>"
      ]
     },
     "metadata": {},
     "output_type": "display_data"
    }
   ],
   "source": [
    "os.chdir(out_dir_planet)"
   ]
  },
  {
   "cell_type": "code",
   "execution_count": 48,
   "id": "3f856d83-af7b-40a5-aba8-e3a0962b0192",
   "metadata": {},
   "outputs": [
    {
     "data": {
      "text/html": [
       "\n",
       "            <style>\n",
       "                .geemap-dark {\n",
       "                    --jp-widgets-color: white;\n",
       "                    --jp-widgets-label-color: white;\n",
       "                    --jp-ui-font-color1: white;\n",
       "                    --jp-layout-color2: #454545;\n",
       "                    background-color: #383838;\n",
       "                }\n",
       "\n",
       "                .geemap-dark .jupyter-button {\n",
       "                    --jp-layout-color3: #383838;\n",
       "                }\n",
       "\n",
       "                .geemap-colab {\n",
       "                    background-color: var(--colab-primary-surface-color, white);\n",
       "                }\n",
       "\n",
       "                .geemap-colab .jupyter-button {\n",
       "                    --jp-layout-color3: var(--colab-primary-surface-color, white);\n",
       "                }\n",
       "            </style>\n",
       "            "
      ],
      "text/plain": [
       "<IPython.core.display.HTML object>"
      ]
     },
     "metadata": {},
     "output_type": "display_data"
    }
   ],
   "source": [
    "tabla_Planet.to_csv(out_dir_planet+\"/tabla_ID_Planet.csv\")"
   ]
  },
  {
   "cell_type": "code",
   "execution_count": 47,
   "id": "e45e133b-69cd-4eff-bd47-c828493f73b7",
   "metadata": {},
   "outputs": [
    {
     "data": {
      "text/html": [
       "\n",
       "            <style>\n",
       "                .geemap-dark {\n",
       "                    --jp-widgets-color: white;\n",
       "                    --jp-widgets-label-color: white;\n",
       "                    --jp-ui-font-color1: white;\n",
       "                    --jp-layout-color2: #454545;\n",
       "                    background-color: #383838;\n",
       "                }\n",
       "\n",
       "                .geemap-dark .jupyter-button {\n",
       "                    --jp-layout-color3: #383838;\n",
       "                }\n",
       "\n",
       "                .geemap-colab {\n",
       "                    background-color: var(--colab-primary-surface-color, white);\n",
       "                }\n",
       "\n",
       "                .geemap-colab .jupyter-button {\n",
       "                    --jp-layout-color3: var(--colab-primary-surface-color, white);\n",
       "                }\n",
       "            </style>\n",
       "            "
      ],
      "text/plain": [
       "<IPython.core.display.HTML object>"
      ]
     },
     "metadata": {},
     "output_type": "display_data"
    },
    {
     "name": "stdout",
     "output_type": "stream",
     "text": [
      "Generating URL ...\n",
      "Downloading data from https://earthengine.googleapis.com/v1/projects/earthengine-legacy/thumbnails/da1bcfc1ba095846c6ad96562af2ee8e-c7d3bc01e71576726a261e7431ceb83f:getPixels\n",
      "Please wait ...\n",
      "Data downloaded to D:\\Descarga\\Planet\\2023-06_mosaic_Planet_Parcela_1.tif\n",
      "Archivo exportado 2023-06_mosaic_Planet_Parcela_1.tif\n",
      "Generating URL ...\n",
      "Downloading data from https://earthengine.googleapis.com/v1/projects/earthengine-legacy/thumbnails/f4eeb124eefbf8fb750d12d544e0f9c1-e8179dce74da169e72929b45c9fb2c37:getPixels\n",
      "Please wait ...\n",
      "Data downloaded to D:\\Descarga\\Planet\\2023-07_mosaic_Planet_Parcela_1.tif\n",
      "Archivo exportado 2023-07_mosaic_Planet_Parcela_1.tif\n",
      "Generating URL ...\n",
      "Downloading data from https://earthengine.googleapis.com/v1/projects/earthengine-legacy/thumbnails/6149527aef892a8a96dedea0ad5a3729-4fc13ed95a6e8d0da16126089b7d8284:getPixels\n",
      "Please wait ...\n",
      "Data downloaded to D:\\Descarga\\Planet\\2023-08_mosaic_Planet_Parcela_1.tif\n",
      "Archivo exportado 2023-08_mosaic_Planet_Parcela_1.tif\n",
      "Generating URL ...\n",
      "Downloading data from https://earthengine.googleapis.com/v1/projects/earthengine-legacy/thumbnails/934f28d0b15896a70a6adc64e3eb188e-da8b938eeff47e7e8fee92a7767d04e9:getPixels\n",
      "Please wait ...\n",
      "Data downloaded to D:\\Descarga\\Planet\\2023-09_mosaic_Planet_Parcela_1.tif\n",
      "Archivo exportado 2023-09_mosaic_Planet_Parcela_1.tif\n",
      "Generating URL ...\n",
      "Downloading data from https://earthengine.googleapis.com/v1/projects/earthengine-legacy/thumbnails/d899039cdbde851a4266ead4a8b2bc57-e871c9509319eee5ee17728464cfc076:getPixels\n",
      "Please wait ...\n",
      "Data downloaded to D:\\Descarga\\Planet\\2023-10_mosaic_Planet_Parcela_1.tif\n",
      "Archivo exportado 2023-10_mosaic_Planet_Parcela_1.tif\n",
      "Generating URL ...\n",
      "Downloading data from https://earthengine.googleapis.com/v1/projects/earthengine-legacy/thumbnails/e3e583a7b3428ed22721ae396e83c2f8-81203924e6ca959903f904932114dd34:getPixels\n",
      "Please wait ...\n",
      "Data downloaded to D:\\Descarga\\Planet\\2023-11_mosaic_Planet_Parcela_1.tif\n",
      "Archivo exportado 2023-11_mosaic_Planet_Parcela_1.tif\n",
      "Generating URL ...\n",
      "Downloading data from https://earthengine.googleapis.com/v1/projects/earthengine-legacy/thumbnails/ad3cf9b6dc8cc9b54083a79f19914f8c-5068c82b6454097382f5923a33da1855:getPixels\n",
      "Please wait ...\n",
      "Data downloaded to D:\\Descarga\\Planet\\2023-12_mosaic_Planet_Parcela_1.tif\n",
      "Archivo exportado 2023-12_mosaic_Planet_Parcela_1.tif\n",
      "Generating URL ...\n",
      "Downloading data from https://earthengine.googleapis.com/v1/projects/earthengine-legacy/thumbnails/fd3fcfd4b41bbc14f77442c40ed30cde-e5f210edeb9a004efdcf02e40bd53048:getPixels\n",
      "Please wait ...\n",
      "Data downloaded to D:\\Descarga\\Planet\\2024-01_mosaic_Planet_Parcela_1.tif\n",
      "Archivo exportado 2024-01_mosaic_Planet_Parcela_1.tif\n",
      "Generating URL ...\n",
      "Downloading data from https://earthengine.googleapis.com/v1/projects/earthengine-legacy/thumbnails/dc8591d08ac1a5f0c98a028de0d07b81-f2e10a98aec47465e43058b748cd69d5:getPixels\n",
      "Please wait ...\n",
      "Data downloaded to D:\\Descarga\\Planet\\2024-02_mosaic_Planet_Parcela_1.tif\n",
      "Archivo exportado 2024-02_mosaic_Planet_Parcela_1.tif\n",
      "Generating URL ...\n",
      "Downloading data from https://earthengine.googleapis.com/v1/projects/earthengine-legacy/thumbnails/c896681a78166e40fcdc0cb1da518009-18e813680117cefbb6b21d00b165c76c:getPixels\n",
      "Please wait ...\n",
      "Data downloaded to D:\\Descarga\\Planet\\2024-03_mosaic_Planet_Parcela_1.tif\n",
      "Archivo exportado 2024-03_mosaic_Planet_Parcela_1.tif\n",
      "Generating URL ...\n",
      "Downloading data from https://earthengine.googleapis.com/v1/projects/earthengine-legacy/thumbnails/912de5fc1796cbcb75fb5ac6b9212f05-711031667a49974111b5bc5b691008ad:getPixels\n",
      "Please wait ...\n",
      "Data downloaded to D:\\Descarga\\Planet\\2023-06_mosaic_Planet_Parcela_2.tif\n",
      "Archivo exportado 2023-06_mosaic_Planet_Parcela_2.tif\n",
      "Generating URL ...\n",
      "Downloading data from https://earthengine.googleapis.com/v1/projects/earthengine-legacy/thumbnails/8171d0db6fcd4fae1eaa1b61198860a2-6c763cf49cb116524252109c6a903f4e:getPixels\n",
      "Please wait ...\n",
      "Data downloaded to D:\\Descarga\\Planet\\2023-07_mosaic_Planet_Parcela_2.tif\n",
      "Archivo exportado 2023-07_mosaic_Planet_Parcela_2.tif\n",
      "Generating URL ...\n",
      "Downloading data from https://earthengine.googleapis.com/v1/projects/earthengine-legacy/thumbnails/30a105534d475d11cc0c44f3c45589d9-4cbf0bba0dd60c6cde5890680a8872bb:getPixels\n",
      "Please wait ...\n",
      "Data downloaded to D:\\Descarga\\Planet\\2023-08_mosaic_Planet_Parcela_2.tif\n",
      "Archivo exportado 2023-08_mosaic_Planet_Parcela_2.tif\n",
      "Generating URL ...\n",
      "Downloading data from https://earthengine.googleapis.com/v1/projects/earthengine-legacy/thumbnails/2ecc2d8d4074a25122b2d11e53d6853a-3f55090100ce2796214a94ac82ab56a3:getPixels\n",
      "Please wait ...\n",
      "Data downloaded to D:\\Descarga\\Planet\\2023-09_mosaic_Planet_Parcela_2.tif\n",
      "Archivo exportado 2023-09_mosaic_Planet_Parcela_2.tif\n",
      "Generating URL ...\n",
      "Downloading data from https://earthengine.googleapis.com/v1/projects/earthengine-legacy/thumbnails/d1e6f11da8cb53bcdd31b3440dc0ca6b-52e7af3d94aad8cc20c986e2c0bb227c:getPixels\n",
      "Please wait ...\n",
      "Data downloaded to D:\\Descarga\\Planet\\2023-10_mosaic_Planet_Parcela_2.tif\n",
      "Archivo exportado 2023-10_mosaic_Planet_Parcela_2.tif\n",
      "Generating URL ...\n",
      "Downloading data from https://earthengine.googleapis.com/v1/projects/earthengine-legacy/thumbnails/16b08b5757742d6c739124079533a0e8-819f72098c105d65b823a5b62e0d7ba6:getPixels\n",
      "Please wait ...\n",
      "Data downloaded to D:\\Descarga\\Planet\\2023-11_mosaic_Planet_Parcela_2.tif\n",
      "Archivo exportado 2023-11_mosaic_Planet_Parcela_2.tif\n",
      "Generating URL ...\n",
      "Downloading data from https://earthengine.googleapis.com/v1/projects/earthengine-legacy/thumbnails/a13b5147510882474cd23436c7ec6835-add1e1a87b52a647abd362566a6c1dbf:getPixels\n",
      "Please wait ...\n",
      "Data downloaded to D:\\Descarga\\Planet\\2023-12_mosaic_Planet_Parcela_2.tif\n",
      "Archivo exportado 2023-12_mosaic_Planet_Parcela_2.tif\n",
      "Generating URL ...\n",
      "Downloading data from https://earthengine.googleapis.com/v1/projects/earthengine-legacy/thumbnails/8ff55f932845aab46f4d324e32f6025c-735582802d2f7ddf89ed362fde591987:getPixels\n",
      "Please wait ...\n",
      "Data downloaded to D:\\Descarga\\Planet\\2024-01_mosaic_Planet_Parcela_2.tif\n",
      "Archivo exportado 2024-01_mosaic_Planet_Parcela_2.tif\n",
      "Generating URL ...\n",
      "Downloading data from https://earthengine.googleapis.com/v1/projects/earthengine-legacy/thumbnails/74a724d80b200edd8b2b4e760c2b8738-23d3e9215cae7f2fc0a66d35fee841ca:getPixels\n",
      "Please wait ...\n",
      "Data downloaded to D:\\Descarga\\Planet\\2024-02_mosaic_Planet_Parcela_2.tif\n",
      "Archivo exportado 2024-02_mosaic_Planet_Parcela_2.tif\n",
      "Generating URL ...\n",
      "Downloading data from https://earthengine.googleapis.com/v1/projects/earthengine-legacy/thumbnails/7c3d4d63073cf5f8e16e1d3644360563-1a007cd19cb2f497e41609884d34630e:getPixels\n",
      "Please wait ...\n",
      "Data downloaded to D:\\Descarga\\Planet\\2024-03_mosaic_Planet_Parcela_2.tif\n",
      "Archivo exportado 2024-03_mosaic_Planet_Parcela_2.tif\n",
      "Generating URL ...\n",
      "Downloading data from https://earthengine.googleapis.com/v1/projects/earthengine-legacy/thumbnails/345c4285bd3252a4f3dafa7ff6f8626e-25201844c747ca09ae69cc46cb84745a:getPixels\n",
      "Please wait ...\n",
      "Data downloaded to D:\\Descarga\\Planet\\2023-06_mosaic_Planet_Parcela_3.tif\n",
      "Archivo exportado 2023-06_mosaic_Planet_Parcela_3.tif\n",
      "Generating URL ...\n",
      "Downloading data from https://earthengine.googleapis.com/v1/projects/earthengine-legacy/thumbnails/b4dd0821885183ef6cbcd0d6ee8bff71-87fd7b5007849254f0413247baa29113:getPixels\n",
      "Please wait ...\n",
      "Data downloaded to D:\\Descarga\\Planet\\2023-07_mosaic_Planet_Parcela_3.tif\n",
      "Archivo exportado 2023-07_mosaic_Planet_Parcela_3.tif\n",
      "Generating URL ...\n",
      "Downloading data from https://earthengine.googleapis.com/v1/projects/earthengine-legacy/thumbnails/ee767a85463a4579884854cf87649643-a7fc3cb149924cda0634341cd12da163:getPixels\n",
      "Please wait ...\n",
      "Data downloaded to D:\\Descarga\\Planet\\2023-08_mosaic_Planet_Parcela_3.tif\n",
      "Archivo exportado 2023-08_mosaic_Planet_Parcela_3.tif\n",
      "Generating URL ...\n",
      "Downloading data from https://earthengine.googleapis.com/v1/projects/earthengine-legacy/thumbnails/8078f23feb75bd83fd62ebea6390f6a1-2ed9e699bd998376f968e644fa2944dc:getPixels\n",
      "Please wait ...\n",
      "Data downloaded to D:\\Descarga\\Planet\\2023-09_mosaic_Planet_Parcela_3.tif\n",
      "Archivo exportado 2023-09_mosaic_Planet_Parcela_3.tif\n",
      "Generating URL ...\n",
      "Downloading data from https://earthengine.googleapis.com/v1/projects/earthengine-legacy/thumbnails/59dd922d0fbc9231fbaf215b6ca37599-31c48aa949d2947ab25892dcc4ace577:getPixels\n",
      "Please wait ...\n",
      "Data downloaded to D:\\Descarga\\Planet\\2023-10_mosaic_Planet_Parcela_3.tif\n",
      "Archivo exportado 2023-10_mosaic_Planet_Parcela_3.tif\n",
      "Generating URL ...\n",
      "Downloading data from https://earthengine.googleapis.com/v1/projects/earthengine-legacy/thumbnails/740dd4e56fec8a02adf0266b99e8fdb0-01c830307349bed706ed9cde1caf4f82:getPixels\n",
      "Please wait ...\n",
      "Data downloaded to D:\\Descarga\\Planet\\2023-11_mosaic_Planet_Parcela_3.tif\n",
      "Archivo exportado 2023-11_mosaic_Planet_Parcela_3.tif\n",
      "Generating URL ...\n",
      "Downloading data from https://earthengine.googleapis.com/v1/projects/earthengine-legacy/thumbnails/8097b21fdb7a3d5d10305861ee1dd525-075d2d06f3e3119e84f63be0ae9f675f:getPixels\n",
      "Please wait ...\n",
      "Data downloaded to D:\\Descarga\\Planet\\2023-12_mosaic_Planet_Parcela_3.tif\n",
      "Archivo exportado 2023-12_mosaic_Planet_Parcela_3.tif\n",
      "Generating URL ...\n",
      "Downloading data from https://earthengine.googleapis.com/v1/projects/earthengine-legacy/thumbnails/fbf725ce4c6cf52c4e8a52a5407afcee-dbd0c4f261015a0c6757ff62f2c4bad3:getPixels\n",
      "Please wait ...\n",
      "Data downloaded to D:\\Descarga\\Planet\\2024-01_mosaic_Planet_Parcela_3.tif\n",
      "Archivo exportado 2024-01_mosaic_Planet_Parcela_3.tif\n",
      "Generating URL ...\n",
      "Downloading data from https://earthengine.googleapis.com/v1/projects/earthengine-legacy/thumbnails/75d96c2decab293bfb949b7134a8e8d1-c130b905a94c37457ebe1d27a197b6ed:getPixels\n",
      "Please wait ...\n",
      "Data downloaded to D:\\Descarga\\Planet\\2024-02_mosaic_Planet_Parcela_3.tif\n",
      "Archivo exportado 2024-02_mosaic_Planet_Parcela_3.tif\n",
      "Generating URL ...\n",
      "Downloading data from https://earthengine.googleapis.com/v1/projects/earthengine-legacy/thumbnails/4639ff6947bbf3c1bc9638faa070cb3d-397c0271a1d1af097d6800eaea33084d:getPixels\n",
      "Please wait ...\n",
      "Data downloaded to D:\\Descarga\\Planet\\2024-03_mosaic_Planet_Parcela_3.tif\n",
      "Archivo exportado 2024-03_mosaic_Planet_Parcela_3.tif\n",
      "Generating URL ...\n",
      "Downloading data from https://earthengine.googleapis.com/v1/projects/earthengine-legacy/thumbnails/3d612200d2229ddb3e2188317cc632d4-0b8d019e7c790ef09f57e3cc2e31773a:getPixels\n",
      "Please wait ...\n",
      "Data downloaded to D:\\Descarga\\Planet\\2023-06_mosaic_Planet_Parcela_4.tif\n",
      "Archivo exportado 2023-06_mosaic_Planet_Parcela_4.tif\n",
      "Generating URL ...\n",
      "Downloading data from https://earthengine.googleapis.com/v1/projects/earthengine-legacy/thumbnails/d4921e5823ab9472319d87733cbdeded-f347cee46154fc3f78bf99236c5faf37:getPixels\n",
      "Please wait ...\n",
      "Data downloaded to D:\\Descarga\\Planet\\2023-07_mosaic_Planet_Parcela_4.tif\n",
      "Archivo exportado 2023-07_mosaic_Planet_Parcela_4.tif\n",
      "Generating URL ...\n",
      "Downloading data from https://earthengine.googleapis.com/v1/projects/earthengine-legacy/thumbnails/2a7a48bd1731686b742f48c105bdb2ec-f4fb87eedf86220a5aefc4a57187e1cb:getPixels\n",
      "Please wait ...\n",
      "Data downloaded to D:\\Descarga\\Planet\\2023-08_mosaic_Planet_Parcela_4.tif\n",
      "Archivo exportado 2023-08_mosaic_Planet_Parcela_4.tif\n",
      "Generating URL ...\n",
      "Downloading data from https://earthengine.googleapis.com/v1/projects/earthengine-legacy/thumbnails/2837ef5082a2fb19a3fb0d3a7fcd9556-0d01bc671f18959feb5f2a6d5337c9de:getPixels\n",
      "Please wait ...\n",
      "Data downloaded to D:\\Descarga\\Planet\\2023-09_mosaic_Planet_Parcela_4.tif\n",
      "Archivo exportado 2023-09_mosaic_Planet_Parcela_4.tif\n",
      "Generating URL ...\n",
      "Downloading data from https://earthengine.googleapis.com/v1/projects/earthengine-legacy/thumbnails/a7831ca324665f5404ba58395a0b6382-0f195dd503a738f79b5975f586df3b37:getPixels\n",
      "Please wait ...\n",
      "Data downloaded to D:\\Descarga\\Planet\\2023-10_mosaic_Planet_Parcela_4.tif\n",
      "Archivo exportado 2023-10_mosaic_Planet_Parcela_4.tif\n",
      "Generating URL ...\n",
      "Downloading data from https://earthengine.googleapis.com/v1/projects/earthengine-legacy/thumbnails/24f30d0ed5989b7da0fdc5ee4960649f-10c0eab9d24276d87208570bd613c616:getPixels\n",
      "Please wait ...\n",
      "Data downloaded to D:\\Descarga\\Planet\\2023-11_mosaic_Planet_Parcela_4.tif\n",
      "Archivo exportado 2023-11_mosaic_Planet_Parcela_4.tif\n",
      "Generating URL ...\n",
      "Downloading data from https://earthengine.googleapis.com/v1/projects/earthengine-legacy/thumbnails/8d54582d2bde485557d508a8759dc8be-41f860223eda56c95500979102e7fa1d:getPixels\n",
      "Please wait ...\n",
      "Data downloaded to D:\\Descarga\\Planet\\2023-12_mosaic_Planet_Parcela_4.tif\n",
      "Archivo exportado 2023-12_mosaic_Planet_Parcela_4.tif\n",
      "Generating URL ...\n",
      "Downloading data from https://earthengine.googleapis.com/v1/projects/earthengine-legacy/thumbnails/63ceeff9b2e3543182440002c0885400-7f359111f49d0830bac8ddb0340edade:getPixels\n",
      "Please wait ...\n",
      "Data downloaded to D:\\Descarga\\Planet\\2024-01_mosaic_Planet_Parcela_4.tif\n",
      "Archivo exportado 2024-01_mosaic_Planet_Parcela_4.tif\n",
      "Generating URL ...\n",
      "Downloading data from https://earthengine.googleapis.com/v1/projects/earthengine-legacy/thumbnails/28e52a6b36fad3645af8e355ee4afb54-153e5d88e1d32c1796f4807b28f52879:getPixels\n",
      "Please wait ...\n",
      "Data downloaded to D:\\Descarga\\Planet\\2024-02_mosaic_Planet_Parcela_4.tif\n",
      "Archivo exportado 2024-02_mosaic_Planet_Parcela_4.tif\n",
      "Generating URL ...\n",
      "Downloading data from https://earthengine.googleapis.com/v1/projects/earthengine-legacy/thumbnails/f0d4bf535e7bf5f6dc63a125f5cf669f-1edf95f2eca0a0877d5a8f9a73726b74:getPixels\n",
      "Please wait ...\n",
      "Data downloaded to D:\\Descarga\\Planet\\2024-03_mosaic_Planet_Parcela_4.tif\n",
      "Archivo exportado 2024-03_mosaic_Planet_Parcela_4.tif\n",
      "Generating URL ...\n",
      "Downloading data from https://earthengine.googleapis.com/v1/projects/earthengine-legacy/thumbnails/2ff68fd5195a796f3b41be4f903ff59a-57edb60f31511104824412bf66141111:getPixels\n",
      "Please wait ...\n",
      "Data downloaded to D:\\Descarga\\Planet\\2023-06_mosaic_Planet_Parcela_5.tif\n",
      "Archivo exportado 2023-06_mosaic_Planet_Parcela_5.tif\n",
      "Generating URL ...\n",
      "Downloading data from https://earthengine.googleapis.com/v1/projects/earthengine-legacy/thumbnails/411cf067706296531cdd6ea659914137-3075383c2b950c51a5c1990ec15beb44:getPixels\n",
      "Please wait ...\n",
      "Data downloaded to D:\\Descarga\\Planet\\2023-07_mosaic_Planet_Parcela_5.tif\n",
      "Archivo exportado 2023-07_mosaic_Planet_Parcela_5.tif\n",
      "Generating URL ...\n",
      "Downloading data from https://earthengine.googleapis.com/v1/projects/earthengine-legacy/thumbnails/2b909f474405191b3f2dfbc12b739c7b-9699fb375a8591d3720edea908b735f7:getPixels\n",
      "Please wait ...\n",
      "Data downloaded to D:\\Descarga\\Planet\\2023-08_mosaic_Planet_Parcela_5.tif\n",
      "Archivo exportado 2023-08_mosaic_Planet_Parcela_5.tif\n",
      "Generating URL ...\n",
      "Downloading data from https://earthengine.googleapis.com/v1/projects/earthengine-legacy/thumbnails/d7ef5e70744b885f6b1bdefaddfcb6c4-522a3ca84fb842357971b270cda3e137:getPixels\n",
      "Please wait ...\n",
      "Data downloaded to D:\\Descarga\\Planet\\2023-09_mosaic_Planet_Parcela_5.tif\n",
      "Archivo exportado 2023-09_mosaic_Planet_Parcela_5.tif\n",
      "Generating URL ...\n",
      "Downloading data from https://earthengine.googleapis.com/v1/projects/earthengine-legacy/thumbnails/f44a4bce18853140c6eabd8c6f0633b1-642feb9654042151c72cc942ed4efa67:getPixels\n",
      "Please wait ...\n",
      "Data downloaded to D:\\Descarga\\Planet\\2023-10_mosaic_Planet_Parcela_5.tif\n",
      "Archivo exportado 2023-10_mosaic_Planet_Parcela_5.tif\n",
      "Generating URL ...\n",
      "Downloading data from https://earthengine.googleapis.com/v1/projects/earthengine-legacy/thumbnails/e63c50be1c5f8ab56d3ab630c144c066-432e7b4f1e033e3a6e4b8f33d5989c8a:getPixels\n",
      "Please wait ...\n",
      "Data downloaded to D:\\Descarga\\Planet\\2023-11_mosaic_Planet_Parcela_5.tif\n",
      "Archivo exportado 2023-11_mosaic_Planet_Parcela_5.tif\n",
      "Generating URL ...\n",
      "Downloading data from https://earthengine.googleapis.com/v1/projects/earthengine-legacy/thumbnails/d0dd68e6292bea63552971a2fb7e3891-8a508ace882b69c3a98e2f2bba4896e6:getPixels\n",
      "Please wait ...\n",
      "Data downloaded to D:\\Descarga\\Planet\\2023-12_mosaic_Planet_Parcela_5.tif\n",
      "Archivo exportado 2023-12_mosaic_Planet_Parcela_5.tif\n",
      "Generating URL ...\n",
      "Downloading data from https://earthengine.googleapis.com/v1/projects/earthengine-legacy/thumbnails/e7819ea8b461ac8db7c472bdb94f1308-db49b86fb44051043310a5fb809aea90:getPixels\n",
      "Please wait ...\n",
      "Data downloaded to D:\\Descarga\\Planet\\2024-01_mosaic_Planet_Parcela_5.tif\n",
      "Archivo exportado 2024-01_mosaic_Planet_Parcela_5.tif\n",
      "Generating URL ...\n",
      "Downloading data from https://earthengine.googleapis.com/v1/projects/earthengine-legacy/thumbnails/d4c77b41fc05c5be41dac199d3505b39-7345a51ac65f5ed5bc5af9c0021a9955:getPixels\n",
      "Please wait ...\n",
      "Data downloaded to D:\\Descarga\\Planet\\2024-02_mosaic_Planet_Parcela_5.tif\n",
      "Archivo exportado 2024-02_mosaic_Planet_Parcela_5.tif\n",
      "Generating URL ...\n",
      "Downloading data from https://earthengine.googleapis.com/v1/projects/earthengine-legacy/thumbnails/c0666b33d4af90b660985b9f0f353f1a-8db99b09c8c65b4a7bd2c54cb2b5bf5e:getPixels\n",
      "Please wait ...\n",
      "Data downloaded to D:\\Descarga\\Planet\\2024-03_mosaic_Planet_Parcela_5.tif\n",
      "Archivo exportado 2024-03_mosaic_Planet_Parcela_5.tif\n"
     ]
    }
   ],
   "source": [
    "for i in range(len(lista_parcela)):\n",
    "    Parcela = ee_zona_gdp.filterMetadata('Nombre', 'equals', lista_parcela[i])\n",
    "    geometria = Parcela.geometry()\n",
    "    name_parcela = lista_parcela[i]\n",
    "    for k in range(len(ID_planet)):\n",
    "        # Mantiene la convención de nombre de archivo original\n",
    "        image = ee.Image(\"projects/planet-nicfi/assets/basemaps/americas\" + \"/\" + ID_planet[k])\n",
    "        # Reproyectar segun zona de estudio\n",
    "        img_RS_es = image.reproject(crs=\"EPSG:32718\", scale=4.7)\n",
    "        # Recortar RS\n",
    "        img_RS_es_clip = img_RS_es.clip(Parcela)\n",
    "        # Descarga metodo 2\n",
    "        geemap.ee_export_image(img_RS_es_clip, \n",
    "                               filename=out_dir_planet+\"/\"+ID_planet[k][-14:]+\"_Planet_\"+name_parcela+\".tif\", \n",
    "                               region=geometria, \n",
    "                               scale=4.77, \n",
    "                               file_per_band=False)\n",
    "        print('Archivo exportado ' + ID_planet[k][-14:]+\"_Planet_\"+name_parcela+\".tif\")"
   ]
  },
  {
   "cell_type": "markdown",
   "id": "0fd052c6-06c9-480d-b76b-590b8c96dc7b",
   "metadata": {},
   "source": [
    "## Descargar Sentinel2"
   ]
  },
  {
   "cell_type": "code",
   "execution_count": 49,
   "id": "3c2f0207-2136-4825-aa30-714e17be2487",
   "metadata": {},
   "outputs": [
    {
     "data": {
      "text/html": [
       "\n",
       "            <style>\n",
       "                .geemap-dark {\n",
       "                    --jp-widgets-color: white;\n",
       "                    --jp-widgets-label-color: white;\n",
       "                    --jp-ui-font-color1: white;\n",
       "                    --jp-layout-color2: #454545;\n",
       "                    background-color: #383838;\n",
       "                }\n",
       "\n",
       "                .geemap-dark .jupyter-button {\n",
       "                    --jp-layout-color3: #383838;\n",
       "                }\n",
       "\n",
       "                .geemap-colab {\n",
       "                    background-color: var(--colab-primary-surface-color, white);\n",
       "                }\n",
       "\n",
       "                .geemap-colab .jupyter-button {\n",
       "                    --jp-layout-color3: var(--colab-primary-surface-color, white);\n",
       "                }\n",
       "            </style>\n",
       "            "
      ],
      "text/plain": [
       "<IPython.core.display.HTML object>"
      ]
     },
     "metadata": {},
     "output_type": "display_data"
    }
   ],
   "source": [
    "lista_ID_S2 = []"
   ]
  },
  {
   "cell_type": "code",
   "execution_count": 50,
   "id": "483d8c44-d507-4d74-a51f-565b930f55e6",
   "metadata": {},
   "outputs": [
    {
     "data": {
      "text/html": [
       "\n",
       "            <style>\n",
       "                .geemap-dark {\n",
       "                    --jp-widgets-color: white;\n",
       "                    --jp-widgets-label-color: white;\n",
       "                    --jp-ui-font-color1: white;\n",
       "                    --jp-layout-color2: #454545;\n",
       "                    background-color: #383838;\n",
       "                }\n",
       "\n",
       "                .geemap-dark .jupyter-button {\n",
       "                    --jp-layout-color3: #383838;\n",
       "                }\n",
       "\n",
       "                .geemap-colab {\n",
       "                    background-color: var(--colab-primary-surface-color, white);\n",
       "                }\n",
       "\n",
       "                .geemap-colab .jupyter-button {\n",
       "                    --jp-layout-color3: var(--colab-primary-surface-color, white);\n",
       "                }\n",
       "            </style>\n",
       "            "
      ],
      "text/plain": [
       "<IPython.core.display.HTML object>"
      ]
     },
     "metadata": {},
     "output_type": "display_data"
    }
   ],
   "source": [
    "os.chdir(out_dir_sentinel2)"
   ]
  },
  {
   "cell_type": "code",
   "execution_count": 52,
   "id": "44af2c84-06bf-4353-bdcc-84d05b50ab26",
   "metadata": {},
   "outputs": [
    {
     "data": {
      "text/html": [
       "\n",
       "            <style>\n",
       "                .geemap-dark {\n",
       "                    --jp-widgets-color: white;\n",
       "                    --jp-widgets-label-color: white;\n",
       "                    --jp-ui-font-color1: white;\n",
       "                    --jp-layout-color2: #454545;\n",
       "                    background-color: #383838;\n",
       "                }\n",
       "\n",
       "                .geemap-dark .jupyter-button {\n",
       "                    --jp-layout-color3: #383838;\n",
       "                }\n",
       "\n",
       "                .geemap-colab {\n",
       "                    background-color: var(--colab-primary-surface-color, white);\n",
       "                }\n",
       "\n",
       "                .geemap-colab .jupyter-button {\n",
       "                    --jp-layout-color3: var(--colab-primary-surface-color, white);\n",
       "                }\n",
       "            </style>\n",
       "            "
      ],
      "text/plain": [
       "<IPython.core.display.HTML object>"
      ]
     },
     "metadata": {},
     "output_type": "display_data"
    },
    {
     "name": "stdout",
     "output_type": "stream",
     "text": [
      "Generating URL ...\n",
      "Downloading data from https://earthengine.googleapis.com/v1/projects/earthengine-legacy/thumbnails/8a0dfc03926ea9e166fa08723d741e28-bb4dd287e6994b04543d7fbed900f0b2:getPixels\n",
      "Please wait ...\n",
      "Data downloaded to D:\\Descarga\\Sentinel2\\20230619T151711_Parcela_1.tif\n",
      "Archivo exportado 20230619T151711_Parcela_1.tif\n",
      "Generating URL ...\n",
      "Downloading data from https://earthengine.googleapis.com/v1/projects/earthengine-legacy/thumbnails/fcbfd5c36e9b19411e99c1227ec6fa42-30c73b80268ef6711dec1864798e9b9a:getPixels\n",
      "Please wait ...\n",
      "Data downloaded to D:\\Descarga\\Sentinel2\\20230624T151709_Parcela_1.tif\n",
      "Archivo exportado 20230624T151709_Parcela_1.tif\n",
      "Generating URL ...\n",
      "Downloading data from https://earthengine.googleapis.com/v1/projects/earthengine-legacy/thumbnails/5a8bc3fcbaf8f7a1002ef264e99c7c53-88b599128d8a9e8a59a34685b7d72a30:getPixels\n",
      "Please wait ...\n",
      "Data downloaded to D:\\Descarga\\Sentinel2\\20230629T151711_Parcela_1.tif\n",
      "Archivo exportado 20230629T151711_Parcela_1.tif\n",
      "Generating URL ...\n",
      "Downloading data from https://earthengine.googleapis.com/v1/projects/earthengine-legacy/thumbnails/46d30483825e51af2bf33d1e1868b0f8-a55f64ee6a230899d7f190bb3864e553:getPixels\n",
      "Please wait ...\n",
      "Data downloaded to D:\\Descarga\\Sentinel2\\20230704T151709_Parcela_1.tif\n",
      "Archivo exportado 20230704T151709_Parcela_1.tif\n",
      "Generating URL ...\n",
      "Downloading data from https://earthengine.googleapis.com/v1/projects/earthengine-legacy/thumbnails/d5d6a753ae6f7a277dd8219825b910a0-3704764f837bdf03ff4d3baeb698c077:getPixels\n",
      "Please wait ...\n",
      "Data downloaded to D:\\Descarga\\Sentinel2\\20230704T151709_Parcela_1.tif\n",
      "Archivo exportado 20230704T151709_Parcela_1.tif\n",
      "Generating URL ...\n",
      "Downloading data from https://earthengine.googleapis.com/v1/projects/earthengine-legacy/thumbnails/a92393b275776689c54b8b72f4f73e1a-b9cec8cc515ae75e133f055e4adc0e05:getPixels\n",
      "Please wait ...\n",
      "Data downloaded to D:\\Descarga\\Sentinel2\\20230714T151709_Parcela_1.tif\n",
      "Archivo exportado 20230714T151709_Parcela_1.tif\n",
      "Generating URL ...\n",
      "Downloading data from https://earthengine.googleapis.com/v1/projects/earthengine-legacy/thumbnails/f0aa41fbfc82dc76511fb53f34d4cc3d-91f5d099f133dcb748cc084026cef57e:getPixels\n",
      "Please wait ...\n",
      "Data downloaded to D:\\Descarga\\Sentinel2\\20230724T151709_Parcela_1.tif\n",
      "Archivo exportado 20230724T151709_Parcela_1.tif\n",
      "Generating URL ...\n",
      "Downloading data from https://earthengine.googleapis.com/v1/projects/earthengine-legacy/thumbnails/3498000db9c05df37d0d0e2342ea76e6-b7e290164f86b257291f36862cae376d:getPixels\n",
      "Please wait ...\n",
      "Data downloaded to D:\\Descarga\\Sentinel2\\20230803T151709_Parcela_1.tif\n",
      "Archivo exportado 20230803T151709_Parcela_1.tif\n",
      "Generating URL ...\n",
      "Downloading data from https://earthengine.googleapis.com/v1/projects/earthengine-legacy/thumbnails/9c01fc56a0756e7519f6625e1cb32cdb-743355725b6f7f5db5d3edcfd9f2c6f7:getPixels\n",
      "Please wait ...\n",
      "Data downloaded to D:\\Descarga\\Sentinel2\\20230808T151711_Parcela_1.tif\n",
      "Archivo exportado 20230808T151711_Parcela_1.tif\n",
      "Generating URL ...\n",
      "Downloading data from https://earthengine.googleapis.com/v1/projects/earthengine-legacy/thumbnails/cbe6b370a48c57d9d4ea533458a5eacd-6d4232bd98ed83c8eb6f6c622b68f2ee:getPixels\n",
      "Please wait ...\n",
      "Data downloaded to D:\\Descarga\\Sentinel2\\20230818T151711_Parcela_1.tif\n",
      "Archivo exportado 20230818T151711_Parcela_1.tif\n",
      "Generating URL ...\n",
      "Downloading data from https://earthengine.googleapis.com/v1/projects/earthengine-legacy/thumbnails/d0f7a2268bce9816994bf4a9c995a436-81ac158d8fc169eb9fb4c9170713eb59:getPixels\n",
      "Please wait ...\n",
      "Data downloaded to D:\\Descarga\\Sentinel2\\20230902T151709_Parcela_1.tif\n",
      "Archivo exportado 20230902T151709_Parcela_1.tif\n",
      "Generating URL ...\n",
      "Downloading data from https://earthengine.googleapis.com/v1/projects/earthengine-legacy/thumbnails/f8e7d37367ef2a1a758881269f44b614-002db13735dcb208e98db2d6fbd8893f:getPixels\n",
      "Please wait ...\n",
      "Data downloaded to D:\\Descarga\\Sentinel2\\20230907T151711_Parcela_1.tif\n",
      "Archivo exportado 20230907T151711_Parcela_1.tif\n",
      "Generating URL ...\n",
      "Downloading data from https://earthengine.googleapis.com/v1/projects/earthengine-legacy/thumbnails/1f97e58163197247a29e11ce5d6a2ad0-8dbf9309d7b1af417fc85c38892df8b0:getPixels\n",
      "Please wait ...\n",
      "Data downloaded to D:\\Descarga\\Sentinel2\\20230912T151709_Parcela_1.tif\n",
      "Archivo exportado 20230912T151709_Parcela_1.tif\n",
      "Generating URL ...\n",
      "Downloading data from https://earthengine.googleapis.com/v1/projects/earthengine-legacy/thumbnails/3c2480cbe3f358b5425a34a356e96dab-066f72d9ff1f1ad412895117fd700195:getPixels\n",
      "Please wait ...\n",
      "Data downloaded to D:\\Descarga\\Sentinel2\\20230917T151711_Parcela_1.tif\n",
      "Archivo exportado 20230917T151711_Parcela_1.tif\n",
      "Generating URL ...\n",
      "Downloading data from https://earthengine.googleapis.com/v1/projects/earthengine-legacy/thumbnails/acd5a47ee2c51694dc2adb73a97c49b2-02a93dcd81c9fcb87b42b4b837870ec7:getPixels\n",
      "Please wait ...\n",
      "Data downloaded to D:\\Descarga\\Sentinel2\\20230922T151709_Parcela_1.tif\n",
      "Archivo exportado 20230922T151709_Parcela_1.tif\n",
      "Generating URL ...\n",
      "Downloading data from https://earthengine.googleapis.com/v1/projects/earthengine-legacy/thumbnails/858d1d74598e366bb5071656e7f9f703-2f7839fc8cc1e622e06ba5be8e305cd0:getPixels\n",
      "Please wait ...\n",
      "Data downloaded to D:\\Descarga\\Sentinel2\\20230927T151711_Parcela_1.tif\n",
      "Archivo exportado 20230927T151711_Parcela_1.tif\n",
      "Generating URL ...\n",
      "Downloading data from https://earthengine.googleapis.com/v1/projects/earthengine-legacy/thumbnails/e541c190964d1dfd3a4ae6e1b7112566-0b5e61851ec7b407bfe4841c8952f30a:getPixels\n",
      "Please wait ...\n",
      "Data downloaded to D:\\Descarga\\Sentinel2\\20231002T151709_Parcela_1.tif\n",
      "Archivo exportado 20231002T151709_Parcela_1.tif\n",
      "Generating URL ...\n",
      "Downloading data from https://earthengine.googleapis.com/v1/projects/earthengine-legacy/thumbnails/db0149f8f7b10edfe22030950876ea95-f78fe95d5de20fc39a0fee0cad2d8750:getPixels\n",
      "Please wait ...\n",
      "Data downloaded to D:\\Descarga\\Sentinel2\\20231007T151711_Parcela_1.tif\n",
      "Archivo exportado 20231007T151711_Parcela_1.tif\n",
      "Generating URL ...\n",
      "Downloading data from https://earthengine.googleapis.com/v1/projects/earthengine-legacy/thumbnails/b4eb8838ecba9bd8387cc729b8bb65cf-2068c8c454ce9b42407936c7792fe152:getPixels\n",
      "Please wait ...\n",
      "Data downloaded to D:\\Descarga\\Sentinel2\\20240110T151719_Parcela_1.tif\n",
      "Archivo exportado 20240110T151719_Parcela_1.tif\n",
      "Generating URL ...\n",
      "Downloading data from https://earthengine.googleapis.com/v1/projects/earthengine-legacy/thumbnails/f732089713e252c7d523d1565c641313-9f15228de7259d4552fa129909610ff0:getPixels\n",
      "Please wait ...\n",
      "Data downloaded to D:\\Descarga\\Sentinel2\\20240125T151711_Parcela_1.tif\n",
      "Archivo exportado 20240125T151711_Parcela_1.tif\n",
      "Generating URL ...\n",
      "Downloading data from https://earthengine.googleapis.com/v1/projects/earthengine-legacy/thumbnails/7d7371f6160f7a8d9f23a41c48254a7c-b76cfda47e71427a4fee5f7e091db1b2:getPixels\n",
      "Please wait ...\n",
      "Data downloaded to D:\\Descarga\\Sentinel2\\20240325T151721_Parcela_1.tif\n",
      "Archivo exportado 20240325T151721_Parcela_1.tif\n",
      "Generating URL ...\n",
      "Downloading data from https://earthengine.googleapis.com/v1/projects/earthengine-legacy/thumbnails/4dee1b99a4b1044e0a765c572011b865-cf4cb25a9fc68e8f9291169a6436997f:getPixels\n",
      "Please wait ...\n",
      "Data downloaded to D:\\Descarga\\Sentinel2\\20230619T151711_Parcela_2.tif\n",
      "Archivo exportado 20230619T151711_Parcela_2.tif\n",
      "Generating URL ...\n",
      "Downloading data from https://earthengine.googleapis.com/v1/projects/earthengine-legacy/thumbnails/bbde8bc35ead72f84fdbdd306e8ccf05-1765e9a65caadfc99358958c6cbbb776:getPixels\n",
      "Please wait ...\n",
      "Data downloaded to D:\\Descarga\\Sentinel2\\20230624T151709_Parcela_2.tif\n",
      "Archivo exportado 20230624T151709_Parcela_2.tif\n",
      "Generating URL ...\n",
      "Downloading data from https://earthengine.googleapis.com/v1/projects/earthengine-legacy/thumbnails/635c4dfaa491a9b0ec95cce035b510c1-4c0bf9ae4e477eeafa3670f009f666db:getPixels\n",
      "Please wait ...\n",
      "Data downloaded to D:\\Descarga\\Sentinel2\\20230629T151711_Parcela_2.tif\n",
      "Archivo exportado 20230629T151711_Parcela_2.tif\n",
      "Generating URL ...\n",
      "Downloading data from https://earthengine.googleapis.com/v1/projects/earthengine-legacy/thumbnails/4f41586255b83ef5d0cdd749773b6ab7-e02be56e6e783199c3a13c3e7154d82e:getPixels\n",
      "Please wait ...\n",
      "Data downloaded to D:\\Descarga\\Sentinel2\\20230704T151709_Parcela_2.tif\n",
      "Archivo exportado 20230704T151709_Parcela_2.tif\n",
      "Generating URL ...\n",
      "Downloading data from https://earthengine.googleapis.com/v1/projects/earthengine-legacy/thumbnails/553e2a0737376259165b7277c492bdf9-c44a64956cefcf6855adcb9c1b4d7574:getPixels\n",
      "Please wait ...\n",
      "Data downloaded to D:\\Descarga\\Sentinel2\\20230704T151709_Parcela_2.tif\n",
      "Archivo exportado 20230704T151709_Parcela_2.tif\n",
      "Generating URL ...\n",
      "Downloading data from https://earthengine.googleapis.com/v1/projects/earthengine-legacy/thumbnails/5b8acf130bb5a2bcdfcaba4bac8d126d-7517b76a6557b9eb348ec98833f2e202:getPixels\n",
      "Please wait ...\n",
      "Data downloaded to D:\\Descarga\\Sentinel2\\20230714T151709_Parcela_2.tif\n",
      "Archivo exportado 20230714T151709_Parcela_2.tif\n",
      "Generating URL ...\n",
      "Downloading data from https://earthengine.googleapis.com/v1/projects/earthengine-legacy/thumbnails/1cfc0425012606388fd469a220225db5-6edaa9cbe386d74c3e3db4d5427be7d5:getPixels\n",
      "Please wait ...\n",
      "Data downloaded to D:\\Descarga\\Sentinel2\\20230724T151709_Parcela_2.tif\n",
      "Archivo exportado 20230724T151709_Parcela_2.tif\n",
      "Generating URL ...\n",
      "Downloading data from https://earthengine.googleapis.com/v1/projects/earthengine-legacy/thumbnails/4854fdaac2234d4d6f4cd3be7515f6c9-45ad273afef15f26e8f7685643a8f34e:getPixels\n",
      "Please wait ...\n",
      "Data downloaded to D:\\Descarga\\Sentinel2\\20230803T151709_Parcela_2.tif\n",
      "Archivo exportado 20230803T151709_Parcela_2.tif\n",
      "Generating URL ...\n",
      "Downloading data from https://earthengine.googleapis.com/v1/projects/earthengine-legacy/thumbnails/bc98b125d1260e3f050615302313b42b-9402907fc76a1b329db6a44fb13b863d:getPixels\n",
      "Please wait ...\n",
      "Data downloaded to D:\\Descarga\\Sentinel2\\20230808T151711_Parcela_2.tif\n",
      "Archivo exportado 20230808T151711_Parcela_2.tif\n",
      "Generating URL ...\n",
      "Downloading data from https://earthengine.googleapis.com/v1/projects/earthengine-legacy/thumbnails/ee86520fa5945677c50a418406276276-542f328f5e7447c4db3d6f1117daa124:getPixels\n",
      "Please wait ...\n",
      "Data downloaded to D:\\Descarga\\Sentinel2\\20230818T151711_Parcela_2.tif\n",
      "Archivo exportado 20230818T151711_Parcela_2.tif\n",
      "Generating URL ...\n",
      "Downloading data from https://earthengine.googleapis.com/v1/projects/earthengine-legacy/thumbnails/4c843faf7a44143579917d3e343df36a-f19cf79624f45cd7dd8013b8b27e9cd1:getPixels\n",
      "Please wait ...\n",
      "Data downloaded to D:\\Descarga\\Sentinel2\\20230902T151709_Parcela_2.tif\n",
      "Archivo exportado 20230902T151709_Parcela_2.tif\n",
      "Generating URL ...\n",
      "Downloading data from https://earthengine.googleapis.com/v1/projects/earthengine-legacy/thumbnails/28ef0dd904875b0afdf0071db4c729ba-a206da0eedf03bfe04edff4bfca4683e:getPixels\n",
      "Please wait ...\n",
      "Data downloaded to D:\\Descarga\\Sentinel2\\20230907T151711_Parcela_2.tif\n",
      "Archivo exportado 20230907T151711_Parcela_2.tif\n",
      "Generating URL ...\n",
      "Downloading data from https://earthengine.googleapis.com/v1/projects/earthengine-legacy/thumbnails/8163755638d89f8644902e2ec2bd2e04-b7218ae32e453b096945a43f9e9c75b7:getPixels\n",
      "Please wait ...\n",
      "Data downloaded to D:\\Descarga\\Sentinel2\\20230912T151709_Parcela_2.tif\n",
      "Archivo exportado 20230912T151709_Parcela_2.tif\n",
      "Generating URL ...\n",
      "Downloading data from https://earthengine.googleapis.com/v1/projects/earthengine-legacy/thumbnails/011ba4781d6a0738b87f293ae39aa7ae-d19df6071784aba67ddeda625b52d958:getPixels\n",
      "Please wait ...\n",
      "Data downloaded to D:\\Descarga\\Sentinel2\\20230917T151711_Parcela_2.tif\n",
      "Archivo exportado 20230917T151711_Parcela_2.tif\n",
      "Generating URL ...\n",
      "Downloading data from https://earthengine.googleapis.com/v1/projects/earthengine-legacy/thumbnails/785e3e5fdfff4c0f7580b9e0c6921aa4-4f17964bddaef86e4794d4b75ef20e41:getPixels\n",
      "Please wait ...\n",
      "Data downloaded to D:\\Descarga\\Sentinel2\\20230922T151709_Parcela_2.tif\n",
      "Archivo exportado 20230922T151709_Parcela_2.tif\n",
      "Generating URL ...\n",
      "Downloading data from https://earthengine.googleapis.com/v1/projects/earthengine-legacy/thumbnails/4eed7d58f9ff1c20587b1edaf09087b7-bbc3ba7e6109634e62f7d25cb3b38ba4:getPixels\n",
      "Please wait ...\n",
      "Data downloaded to D:\\Descarga\\Sentinel2\\20230927T151711_Parcela_2.tif\n",
      "Archivo exportado 20230927T151711_Parcela_2.tif\n",
      "Generating URL ...\n",
      "Downloading data from https://earthengine.googleapis.com/v1/projects/earthengine-legacy/thumbnails/2fe54501583d800d05cfbcbbc521def4-caada3ab2f05684afc096498262a7c90:getPixels\n",
      "Please wait ...\n",
      "Data downloaded to D:\\Descarga\\Sentinel2\\20231002T151709_Parcela_2.tif\n",
      "Archivo exportado 20231002T151709_Parcela_2.tif\n",
      "Generating URL ...\n",
      "Downloading data from https://earthengine.googleapis.com/v1/projects/earthengine-legacy/thumbnails/035504eb499935d0e9c7542abc7c3e23-8d177581ed5583c367c841e7ea48fd10:getPixels\n",
      "Please wait ...\n",
      "Data downloaded to D:\\Descarga\\Sentinel2\\20231007T151711_Parcela_2.tif\n",
      "Archivo exportado 20231007T151711_Parcela_2.tif\n",
      "Generating URL ...\n",
      "Downloading data from https://earthengine.googleapis.com/v1/projects/earthengine-legacy/thumbnails/4acab3b9fb1de05fc0a00c093dbd3421-592ee2e07f236e2db373844f8161e171:getPixels\n",
      "Please wait ...\n",
      "Data downloaded to D:\\Descarga\\Sentinel2\\20240110T151719_Parcela_2.tif\n",
      "Archivo exportado 20240110T151719_Parcela_2.tif\n",
      "Generating URL ...\n",
      "Downloading data from https://earthengine.googleapis.com/v1/projects/earthengine-legacy/thumbnails/a48da28dcfb95ee5c76045db32dd02ec-6f257d691aeb3f6c733e1d11ec0a676f:getPixels\n",
      "Please wait ...\n",
      "Data downloaded to D:\\Descarga\\Sentinel2\\20240125T151711_Parcela_2.tif\n",
      "Archivo exportado 20240125T151711_Parcela_2.tif\n",
      "Generating URL ...\n",
      "Downloading data from https://earthengine.googleapis.com/v1/projects/earthengine-legacy/thumbnails/1060e60ba5e939cd4055171ff2ca4be1-ab2bda247ee02c21c730cb50b4260ef1:getPixels\n",
      "Please wait ...\n",
      "Data downloaded to D:\\Descarga\\Sentinel2\\20240325T151721_Parcela_2.tif\n",
      "Archivo exportado 20240325T151721_Parcela_2.tif\n",
      "Generating URL ...\n",
      "Downloading data from https://earthengine.googleapis.com/v1/projects/earthengine-legacy/thumbnails/f08af019bef08661a90b08f2f1217ffb-256263a6f3ee863981e9a65c0a7f22d8:getPixels\n",
      "Please wait ...\n",
      "Data downloaded to D:\\Descarga\\Sentinel2\\20230619T151711_Parcela_3.tif\n",
      "Archivo exportado 20230619T151711_Parcela_3.tif\n",
      "Generating URL ...\n",
      "Downloading data from https://earthengine.googleapis.com/v1/projects/earthengine-legacy/thumbnails/5c6b9f68446727b74048753f333257c3-2bdf4c4fc51ef697dd9360eae622a7ea:getPixels\n",
      "Please wait ...\n",
      "Data downloaded to D:\\Descarga\\Sentinel2\\20230624T151709_Parcela_3.tif\n",
      "Archivo exportado 20230624T151709_Parcela_3.tif\n",
      "Generating URL ...\n",
      "Downloading data from https://earthengine.googleapis.com/v1/projects/earthengine-legacy/thumbnails/4fdfe20d805b983b2eab94a6b2f7cdd9-f036f6308554f384af164eab65874e1d:getPixels\n",
      "Please wait ...\n",
      "Data downloaded to D:\\Descarga\\Sentinel2\\20230629T151711_Parcela_3.tif\n",
      "Archivo exportado 20230629T151711_Parcela_3.tif\n",
      "Generating URL ...\n",
      "Downloading data from https://earthengine.googleapis.com/v1/projects/earthengine-legacy/thumbnails/d22c13f16b8f23d3c2f82e88de38e4a3-1527797d7d6e7a153a62f6ab2b612324:getPixels\n",
      "Please wait ...\n",
      "Data downloaded to D:\\Descarga\\Sentinel2\\20230704T151709_Parcela_3.tif\n",
      "Archivo exportado 20230704T151709_Parcela_3.tif\n",
      "Generating URL ...\n",
      "Downloading data from https://earthengine.googleapis.com/v1/projects/earthengine-legacy/thumbnails/3bad2f5f315fbf6a869c1cc16042a394-e75d5e151ab9277eb66d25eb43c05cb0:getPixels\n",
      "Please wait ...\n",
      "Data downloaded to D:\\Descarga\\Sentinel2\\20230704T151709_Parcela_3.tif\n",
      "Archivo exportado 20230704T151709_Parcela_3.tif\n",
      "Generating URL ...\n",
      "Downloading data from https://earthengine.googleapis.com/v1/projects/earthengine-legacy/thumbnails/19c1dc44a2fb72ad2e0d86a7f08e2cde-f26d164fc526e7ed82fca36e7f83b2bd:getPixels\n",
      "Please wait ...\n",
      "Data downloaded to D:\\Descarga\\Sentinel2\\20230714T151709_Parcela_3.tif\n",
      "Archivo exportado 20230714T151709_Parcela_3.tif\n",
      "Generating URL ...\n",
      "Downloading data from https://earthengine.googleapis.com/v1/projects/earthengine-legacy/thumbnails/e0150c4044878b542e0ed622431c909f-560d35d74f5dc3cd87666974cb47087f:getPixels\n",
      "Please wait ...\n",
      "Data downloaded to D:\\Descarga\\Sentinel2\\20230724T151709_Parcela_3.tif\n",
      "Archivo exportado 20230724T151709_Parcela_3.tif\n",
      "Generating URL ...\n",
      "Downloading data from https://earthengine.googleapis.com/v1/projects/earthengine-legacy/thumbnails/1985d96c872966dde3e27a87fb3830d6-56748f40dcbf82f3ffd3028ee0dc24b8:getPixels\n",
      "Please wait ...\n",
      "Data downloaded to D:\\Descarga\\Sentinel2\\20230803T151709_Parcela_3.tif\n",
      "Archivo exportado 20230803T151709_Parcela_3.tif\n",
      "Generating URL ...\n",
      "Downloading data from https://earthengine.googleapis.com/v1/projects/earthengine-legacy/thumbnails/f018ae44d2a37e388dd10e09f5b432e7-d8110bc5dc5ac4794fbb6b95aa4041cb:getPixels\n",
      "Please wait ...\n",
      "Data downloaded to D:\\Descarga\\Sentinel2\\20230808T151711_Parcela_3.tif\n",
      "Archivo exportado 20230808T151711_Parcela_3.tif\n",
      "Generating URL ...\n",
      "Downloading data from https://earthengine.googleapis.com/v1/projects/earthengine-legacy/thumbnails/32110e592eafd33d32531f38275a7afa-25ddc060642f41f8b147de2423be11ea:getPixels\n",
      "Please wait ...\n",
      "Data downloaded to D:\\Descarga\\Sentinel2\\20230818T151711_Parcela_3.tif\n",
      "Archivo exportado 20230818T151711_Parcela_3.tif\n",
      "Generating URL ...\n",
      "Downloading data from https://earthengine.googleapis.com/v1/projects/earthengine-legacy/thumbnails/0763cf8a0f9b9dcea7ab5b1d2a3510a3-f0fef52f95bf8aea12746ab7fda02faa:getPixels\n",
      "Please wait ...\n",
      "Data downloaded to D:\\Descarga\\Sentinel2\\20230902T151709_Parcela_3.tif\n",
      "Archivo exportado 20230902T151709_Parcela_3.tif\n",
      "Generating URL ...\n",
      "Downloading data from https://earthengine.googleapis.com/v1/projects/earthengine-legacy/thumbnails/1e74511b99f055a12029df8c8fd74ee5-e22af41e6818f29896474a1bea946da0:getPixels\n",
      "Please wait ...\n",
      "Data downloaded to D:\\Descarga\\Sentinel2\\20230907T151711_Parcela_3.tif\n",
      "Archivo exportado 20230907T151711_Parcela_3.tif\n",
      "Generating URL ...\n",
      "Downloading data from https://earthengine.googleapis.com/v1/projects/earthengine-legacy/thumbnails/3210a3406e85933ae9940357a6bad4fd-508d827c36620112055230078248bf87:getPixels\n",
      "Please wait ...\n",
      "Data downloaded to D:\\Descarga\\Sentinel2\\20230912T151709_Parcela_3.tif\n",
      "Archivo exportado 20230912T151709_Parcela_3.tif\n",
      "Generating URL ...\n",
      "Downloading data from https://earthengine.googleapis.com/v1/projects/earthengine-legacy/thumbnails/807a6eecd3c64746add90c715feed766-2c8513e9c1763c9a777d88957cfa1ac9:getPixels\n",
      "Please wait ...\n",
      "Data downloaded to D:\\Descarga\\Sentinel2\\20230917T151711_Parcela_3.tif\n",
      "Archivo exportado 20230917T151711_Parcela_3.tif\n",
      "Generating URL ...\n",
      "Downloading data from https://earthengine.googleapis.com/v1/projects/earthengine-legacy/thumbnails/110d222b5965db4f435ef93e786afd57-5d4ce94bd220b75b2daabe2ef8271b3b:getPixels\n",
      "Please wait ...\n",
      "Data downloaded to D:\\Descarga\\Sentinel2\\20230922T151709_Parcela_3.tif\n",
      "Archivo exportado 20230922T151709_Parcela_3.tif\n",
      "Generating URL ...\n",
      "Downloading data from https://earthengine.googleapis.com/v1/projects/earthengine-legacy/thumbnails/c6644c90ad76ecf0c10da638335feeb9-9f73827206f010bca1d6d4afb53d3755:getPixels\n",
      "Please wait ...\n",
      "Data downloaded to D:\\Descarga\\Sentinel2\\20230927T151711_Parcela_3.tif\n",
      "Archivo exportado 20230927T151711_Parcela_3.tif\n",
      "Generating URL ...\n",
      "Downloading data from https://earthengine.googleapis.com/v1/projects/earthengine-legacy/thumbnails/b9b3db8178dbe78ef9f55212b2bb449c-b792881b36a420af6c50e7faa2f14ffd:getPixels\n",
      "Please wait ...\n",
      "Data downloaded to D:\\Descarga\\Sentinel2\\20231002T151709_Parcela_3.tif\n",
      "Archivo exportado 20231002T151709_Parcela_3.tif\n",
      "Generating URL ...\n",
      "Downloading data from https://earthengine.googleapis.com/v1/projects/earthengine-legacy/thumbnails/c1c1e44ad7b58f02f3bea54d86b9e20b-ef36df33c5880abb44018d1d6b81c6d6:getPixels\n",
      "Please wait ...\n",
      "Data downloaded to D:\\Descarga\\Sentinel2\\20231007T151711_Parcela_3.tif\n",
      "Archivo exportado 20231007T151711_Parcela_3.tif\n",
      "Generating URL ...\n",
      "Downloading data from https://earthengine.googleapis.com/v1/projects/earthengine-legacy/thumbnails/d0d6ae329e65f541863dd464e73ab48e-f2c1b44c153f5588a8705af1d0b4dc5a:getPixels\n",
      "Please wait ...\n",
      "Data downloaded to D:\\Descarga\\Sentinel2\\20240110T151719_Parcela_3.tif\n",
      "Archivo exportado 20240110T151719_Parcela_3.tif\n",
      "Generating URL ...\n",
      "Downloading data from https://earthengine.googleapis.com/v1/projects/earthengine-legacy/thumbnails/7f33842533cb90f9f5b3cd3a29210d8f-fc875bfd69992bbeab5483203eecc439:getPixels\n",
      "Please wait ...\n",
      "Data downloaded to D:\\Descarga\\Sentinel2\\20240125T151711_Parcela_3.tif\n",
      "Archivo exportado 20240125T151711_Parcela_3.tif\n",
      "Generating URL ...\n",
      "Downloading data from https://earthengine.googleapis.com/v1/projects/earthengine-legacy/thumbnails/a3a47e26054e09fc7856c24712c3eb2e-27967d8d09ebdb9eabfd0d5e8f533d75:getPixels\n",
      "Please wait ...\n",
      "Data downloaded to D:\\Descarga\\Sentinel2\\20240325T151721_Parcela_3.tif\n",
      "Archivo exportado 20240325T151721_Parcela_3.tif\n",
      "Generating URL ...\n",
      "Downloading data from https://earthengine.googleapis.com/v1/projects/earthengine-legacy/thumbnails/c2e3273ee98a18041025cc2ed4a3d4fc-d01c54d5a091b51c2771574218b40aa6:getPixels\n",
      "Please wait ...\n",
      "Data downloaded to D:\\Descarga\\Sentinel2\\20230619T151711_Parcela_4.tif\n",
      "Archivo exportado 20230619T151711_Parcela_4.tif\n",
      "Generating URL ...\n",
      "Downloading data from https://earthengine.googleapis.com/v1/projects/earthengine-legacy/thumbnails/3348939ae86b0d153ca27df67a6e511e-3ec78b1cb26050e30f596d63e44518c9:getPixels\n",
      "Please wait ...\n",
      "Data downloaded to D:\\Descarga\\Sentinel2\\20230624T151709_Parcela_4.tif\n",
      "Archivo exportado 20230624T151709_Parcela_4.tif\n",
      "Generating URL ...\n",
      "Downloading data from https://earthengine.googleapis.com/v1/projects/earthengine-legacy/thumbnails/70afc73d99b60ffeb9f4d7c1ebcbe06a-a54c038f28a93890579c81a55dbe8406:getPixels\n",
      "Please wait ...\n",
      "Data downloaded to D:\\Descarga\\Sentinel2\\20230629T151711_Parcela_4.tif\n",
      "Archivo exportado 20230629T151711_Parcela_4.tif\n",
      "Generating URL ...\n",
      "Downloading data from https://earthengine.googleapis.com/v1/projects/earthengine-legacy/thumbnails/30dd018420a9cc453822a275f4c42db7-b8fbe89afff40a15c925283cec775926:getPixels\n",
      "Please wait ...\n",
      "Data downloaded to D:\\Descarga\\Sentinel2\\20230704T151709_Parcela_4.tif\n",
      "Archivo exportado 20230704T151709_Parcela_4.tif\n",
      "Generating URL ...\n",
      "Downloading data from https://earthengine.googleapis.com/v1/projects/earthengine-legacy/thumbnails/de73e7646fd75e111fbbe9d97b571a56-5235e1bbfcd19aa278de5a432a2c557c:getPixels\n",
      "Please wait ...\n",
      "Data downloaded to D:\\Descarga\\Sentinel2\\20230704T151709_Parcela_4.tif\n",
      "Archivo exportado 20230704T151709_Parcela_4.tif\n",
      "Generating URL ...\n",
      "Downloading data from https://earthengine.googleapis.com/v1/projects/earthengine-legacy/thumbnails/4f76a35cca16b4107958fc9a6c99ab13-5a082adfad722c27499f9f92afa727f4:getPixels\n",
      "Please wait ...\n",
      "Data downloaded to D:\\Descarga\\Sentinel2\\20230714T151709_Parcela_4.tif\n",
      "Archivo exportado 20230714T151709_Parcela_4.tif\n",
      "Generating URL ...\n",
      "Downloading data from https://earthengine.googleapis.com/v1/projects/earthengine-legacy/thumbnails/9c10cdfbcf1dd61e2a1e51eb9baf9801-7c8e9a2790eca1eda15bea0422cceeb2:getPixels\n",
      "Please wait ...\n",
      "Data downloaded to D:\\Descarga\\Sentinel2\\20230724T151709_Parcela_4.tif\n",
      "Archivo exportado 20230724T151709_Parcela_4.tif\n",
      "Generating URL ...\n",
      "Downloading data from https://earthengine.googleapis.com/v1/projects/earthengine-legacy/thumbnails/5038550f96e312f828f52fc8bc728dec-6574d931e03f90e7a96a615edd7295e2:getPixels\n",
      "Please wait ...\n",
      "Data downloaded to D:\\Descarga\\Sentinel2\\20230803T151709_Parcela_4.tif\n",
      "Archivo exportado 20230803T151709_Parcela_4.tif\n",
      "Generating URL ...\n",
      "Downloading data from https://earthengine.googleapis.com/v1/projects/earthengine-legacy/thumbnails/352eddeab5944babace02c6e452d3be6-8afe44241bb36b532fa8db3129757f57:getPixels\n",
      "Please wait ...\n",
      "Data downloaded to D:\\Descarga\\Sentinel2\\20230808T151711_Parcela_4.tif\n",
      "Archivo exportado 20230808T151711_Parcela_4.tif\n",
      "Generating URL ...\n",
      "Downloading data from https://earthengine.googleapis.com/v1/projects/earthengine-legacy/thumbnails/21b600e95b13cd55fde4980c7ad8686a-f14c3774c4a70ded3e5848b9683ffe29:getPixels\n",
      "Please wait ...\n",
      "Data downloaded to D:\\Descarga\\Sentinel2\\20230818T151711_Parcela_4.tif\n",
      "Archivo exportado 20230818T151711_Parcela_4.tif\n",
      "Generating URL ...\n",
      "Downloading data from https://earthengine.googleapis.com/v1/projects/earthengine-legacy/thumbnails/b5b0f802da81909b477079d02ae55e75-c32124c6c84b228a86f761be9b5e44ca:getPixels\n",
      "Please wait ...\n",
      "Data downloaded to D:\\Descarga\\Sentinel2\\20230902T151709_Parcela_4.tif\n",
      "Archivo exportado 20230902T151709_Parcela_4.tif\n",
      "Generating URL ...\n",
      "Downloading data from https://earthengine.googleapis.com/v1/projects/earthengine-legacy/thumbnails/ac5b2ee479b20a6ddd1f67aa44e8f5da-3ff9f29532748cedf8dbfef3d176cbb6:getPixels\n",
      "Please wait ...\n",
      "Data downloaded to D:\\Descarga\\Sentinel2\\20230907T151711_Parcela_4.tif\n",
      "Archivo exportado 20230907T151711_Parcela_4.tif\n",
      "Generating URL ...\n",
      "Downloading data from https://earthengine.googleapis.com/v1/projects/earthengine-legacy/thumbnails/ef09e32b12b8afa5dfa19c333dbfe0c1-905da6f65846ddc07e21347f32fc3f29:getPixels\n",
      "Please wait ...\n",
      "Data downloaded to D:\\Descarga\\Sentinel2\\20230912T151709_Parcela_4.tif\n",
      "Archivo exportado 20230912T151709_Parcela_4.tif\n",
      "Generating URL ...\n",
      "Downloading data from https://earthengine.googleapis.com/v1/projects/earthengine-legacy/thumbnails/9343076a822db62f9166d7eb97d3bb1c-635572cd8fbe304060a29620f35ce81a:getPixels\n",
      "Please wait ...\n",
      "Data downloaded to D:\\Descarga\\Sentinel2\\20230917T151711_Parcela_4.tif\n",
      "Archivo exportado 20230917T151711_Parcela_4.tif\n",
      "Generating URL ...\n",
      "Downloading data from https://earthengine.googleapis.com/v1/projects/earthengine-legacy/thumbnails/79fa551a3bf221b18d13da5092cd53fa-88a07b17a84139f580792b7361e9e8a9:getPixels\n",
      "Please wait ...\n",
      "Data downloaded to D:\\Descarga\\Sentinel2\\20230922T151709_Parcela_4.tif\n",
      "Archivo exportado 20230922T151709_Parcela_4.tif\n",
      "Generating URL ...\n",
      "Downloading data from https://earthengine.googleapis.com/v1/projects/earthengine-legacy/thumbnails/7158689ea605d52947b264ac6233e14f-8d070bf741eab046d958d1886fd3613d:getPixels\n",
      "Please wait ...\n",
      "Data downloaded to D:\\Descarga\\Sentinel2\\20230927T151711_Parcela_4.tif\n",
      "Archivo exportado 20230927T151711_Parcela_4.tif\n",
      "Generating URL ...\n",
      "Downloading data from https://earthengine.googleapis.com/v1/projects/earthengine-legacy/thumbnails/0f772e5bbd875db349985c395727093f-93f57553370fac5ef65672cc150a39b6:getPixels\n",
      "Please wait ...\n",
      "Data downloaded to D:\\Descarga\\Sentinel2\\20231002T151709_Parcela_4.tif\n",
      "Archivo exportado 20231002T151709_Parcela_4.tif\n",
      "Generating URL ...\n",
      "Downloading data from https://earthengine.googleapis.com/v1/projects/earthengine-legacy/thumbnails/1af7b820f1282feade61288a74d2da1a-6545b5bc20b1a666ac90f499db38c169:getPixels\n",
      "Please wait ...\n",
      "Data downloaded to D:\\Descarga\\Sentinel2\\20231007T151711_Parcela_4.tif\n",
      "Archivo exportado 20231007T151711_Parcela_4.tif\n",
      "Generating URL ...\n",
      "Downloading data from https://earthengine.googleapis.com/v1/projects/earthengine-legacy/thumbnails/782020313b9f76f65401a97c855e83f1-e42324cfcfd7d2fa6cab477cd51a99ad:getPixels\n",
      "Please wait ...\n",
      "Data downloaded to D:\\Descarga\\Sentinel2\\20240110T151719_Parcela_4.tif\n",
      "Archivo exportado 20240110T151719_Parcela_4.tif\n",
      "Generating URL ...\n",
      "Downloading data from https://earthengine.googleapis.com/v1/projects/earthengine-legacy/thumbnails/74629fc4c9e0c27e4ad858607489736f-a3c86bdcb877013435e0870c7616bc02:getPixels\n",
      "Please wait ...\n",
      "Data downloaded to D:\\Descarga\\Sentinel2\\20240125T151711_Parcela_4.tif\n",
      "Archivo exportado 20240125T151711_Parcela_4.tif\n",
      "Generating URL ...\n",
      "Downloading data from https://earthengine.googleapis.com/v1/projects/earthengine-legacy/thumbnails/6bc0ea1910c110af8b9eea5f6459aa21-f70d1d78a35f8d713b5721fe86a3e621:getPixels\n",
      "Please wait ...\n",
      "Data downloaded to D:\\Descarga\\Sentinel2\\20240325T151721_Parcela_4.tif\n",
      "Archivo exportado 20240325T151721_Parcela_4.tif\n",
      "Generating URL ...\n",
      "Downloading data from https://earthengine.googleapis.com/v1/projects/earthengine-legacy/thumbnails/d66b4b49162d55e5f05137501b55f199-0bd6c138ff965cea2a6cf425f06cf539:getPixels\n",
      "Please wait ...\n",
      "Data downloaded to D:\\Descarga\\Sentinel2\\20230619T151711_Parcela_5.tif\n",
      "Archivo exportado 20230619T151711_Parcela_5.tif\n",
      "Generating URL ...\n",
      "Downloading data from https://earthengine.googleapis.com/v1/projects/earthengine-legacy/thumbnails/cb8d174c777d4bf641ba9a38afd80111-5c351b9bf0506e76f756ff9fffff0f7b:getPixels\n",
      "Please wait ...\n",
      "Data downloaded to D:\\Descarga\\Sentinel2\\20230624T151709_Parcela_5.tif\n",
      "Archivo exportado 20230624T151709_Parcela_5.tif\n",
      "Generating URL ...\n",
      "Downloading data from https://earthengine.googleapis.com/v1/projects/earthengine-legacy/thumbnails/5024d65bfc6a5497e4b5337bee432c4c-e5587443e626f31f3366d523d613c982:getPixels\n",
      "Please wait ...\n",
      "Data downloaded to D:\\Descarga\\Sentinel2\\20230629T151711_Parcela_5.tif\n",
      "Archivo exportado 20230629T151711_Parcela_5.tif\n",
      "Generating URL ...\n",
      "Downloading data from https://earthengine.googleapis.com/v1/projects/earthengine-legacy/thumbnails/dc91a6b1fa1e43409fa8fc7b9c383a32-fdfbfa19ed6188bb4f8fd7e594267e47:getPixels\n",
      "Please wait ...\n",
      "Data downloaded to D:\\Descarga\\Sentinel2\\20230704T151709_Parcela_5.tif\n",
      "Archivo exportado 20230704T151709_Parcela_5.tif\n",
      "Generating URL ...\n",
      "Downloading data from https://earthengine.googleapis.com/v1/projects/earthengine-legacy/thumbnails/de369f65f2ee2e4cfe28c653403c1e80-57ce49968f791c452c18d692e1e0d490:getPixels\n",
      "Please wait ...\n",
      "Data downloaded to D:\\Descarga\\Sentinel2\\20230704T151709_Parcela_5.tif\n",
      "Archivo exportado 20230704T151709_Parcela_5.tif\n",
      "Generating URL ...\n",
      "Downloading data from https://earthengine.googleapis.com/v1/projects/earthengine-legacy/thumbnails/b515775735517c84da17f5d10058b295-cdda9b31f7c690368c99172403bf4e76:getPixels\n",
      "Please wait ...\n",
      "Data downloaded to D:\\Descarga\\Sentinel2\\20230714T151709_Parcela_5.tif\n",
      "Archivo exportado 20230714T151709_Parcela_5.tif\n",
      "Generating URL ...\n",
      "Downloading data from https://earthengine.googleapis.com/v1/projects/earthengine-legacy/thumbnails/e0522a68e9e7964df4a3ee15222be7d9-f145dc0085bc96974ec14ce09b6fba6d:getPixels\n",
      "Please wait ...\n",
      "Data downloaded to D:\\Descarga\\Sentinel2\\20230724T151709_Parcela_5.tif\n",
      "Archivo exportado 20230724T151709_Parcela_5.tif\n",
      "Generating URL ...\n",
      "Downloading data from https://earthengine.googleapis.com/v1/projects/earthengine-legacy/thumbnails/a68a7a48ad4ed35e66bee09575bb46f5-2580ba35649b3dfbc490e4c85251c627:getPixels\n",
      "Please wait ...\n",
      "Data downloaded to D:\\Descarga\\Sentinel2\\20230803T151709_Parcela_5.tif\n",
      "Archivo exportado 20230803T151709_Parcela_5.tif\n",
      "Generating URL ...\n",
      "Downloading data from https://earthengine.googleapis.com/v1/projects/earthengine-legacy/thumbnails/b3c6663c7d0149889b60668322e144e5-d65ea6f0ef46b49f3ffa0c1c4493456a:getPixels\n",
      "Please wait ...\n",
      "Data downloaded to D:\\Descarga\\Sentinel2\\20230808T151711_Parcela_5.tif\n",
      "Archivo exportado 20230808T151711_Parcela_5.tif\n",
      "Generating URL ...\n",
      "Downloading data from https://earthengine.googleapis.com/v1/projects/earthengine-legacy/thumbnails/292f340f294ccc3a80ccb218c979951c-18b0db4628a08a48c06ff9a8810dd0fd:getPixels\n",
      "Please wait ...\n",
      "Data downloaded to D:\\Descarga\\Sentinel2\\20230818T151711_Parcela_5.tif\n",
      "Archivo exportado 20230818T151711_Parcela_5.tif\n",
      "Generating URL ...\n",
      "Downloading data from https://earthengine.googleapis.com/v1/projects/earthengine-legacy/thumbnails/f2a9bd35812abb99b54fc03f46b5d6cb-438775143714f68d490cb3f6107eb8d2:getPixels\n",
      "Please wait ...\n",
      "Data downloaded to D:\\Descarga\\Sentinel2\\20230902T151709_Parcela_5.tif\n",
      "Archivo exportado 20230902T151709_Parcela_5.tif\n",
      "Generating URL ...\n",
      "Downloading data from https://earthengine.googleapis.com/v1/projects/earthengine-legacy/thumbnails/e1c67432c1f7c1b3f2ab7fbc8771b1da-044517eead53dd0ba8ee555c779638ca:getPixels\n",
      "Please wait ...\n",
      "Data downloaded to D:\\Descarga\\Sentinel2\\20230907T151711_Parcela_5.tif\n",
      "Archivo exportado 20230907T151711_Parcela_5.tif\n",
      "Generating URL ...\n",
      "Downloading data from https://earthengine.googleapis.com/v1/projects/earthengine-legacy/thumbnails/618da365943773be5b9c6a58fa9ef24a-5f9eadc793ecb55f272b34b4dd12c7fa:getPixels\n",
      "Please wait ...\n",
      "Data downloaded to D:\\Descarga\\Sentinel2\\20230912T151709_Parcela_5.tif\n",
      "Archivo exportado 20230912T151709_Parcela_5.tif\n",
      "Generating URL ...\n",
      "Downloading data from https://earthengine.googleapis.com/v1/projects/earthengine-legacy/thumbnails/25933e9ca2ec75df003feefc4b5036a2-8f2b10680d0955a43ebdf03380ea7540:getPixels\n",
      "Please wait ...\n",
      "Data downloaded to D:\\Descarga\\Sentinel2\\20230917T151711_Parcela_5.tif\n",
      "Archivo exportado 20230917T151711_Parcela_5.tif\n",
      "Generating URL ...\n",
      "Downloading data from https://earthengine.googleapis.com/v1/projects/earthengine-legacy/thumbnails/e56ce7b30c69017ffbab089da8796cb1-4602e0b04cd47a72d2f4ca15e82ba7ac:getPixels\n",
      "Please wait ...\n",
      "Data downloaded to D:\\Descarga\\Sentinel2\\20230922T151709_Parcela_5.tif\n",
      "Archivo exportado 20230922T151709_Parcela_5.tif\n",
      "Generating URL ...\n",
      "Downloading data from https://earthengine.googleapis.com/v1/projects/earthengine-legacy/thumbnails/2db7febef1619f7f5c7140bb674f988b-81e5ca2ef055995837954c29d12e9f48:getPixels\n",
      "Please wait ...\n",
      "Data downloaded to D:\\Descarga\\Sentinel2\\20230927T151711_Parcela_5.tif\n",
      "Archivo exportado 20230927T151711_Parcela_5.tif\n",
      "Generating URL ...\n",
      "Downloading data from https://earthengine.googleapis.com/v1/projects/earthengine-legacy/thumbnails/867af34ef01d1893b80d1910017709fc-61ce46f3315510be5de63b604ecd7617:getPixels\n",
      "Please wait ...\n",
      "Data downloaded to D:\\Descarga\\Sentinel2\\20231002T151709_Parcela_5.tif\n",
      "Archivo exportado 20231002T151709_Parcela_5.tif\n",
      "Generating URL ...\n",
      "Downloading data from https://earthengine.googleapis.com/v1/projects/earthengine-legacy/thumbnails/2517ff7e2d48bcc9f8d6c6ea05baf41a-e9c8a1108e7a977beb0d58e624b32dc9:getPixels\n",
      "Please wait ...\n",
      "Data downloaded to D:\\Descarga\\Sentinel2\\20231007T151711_Parcela_5.tif\n",
      "Archivo exportado 20231007T151711_Parcela_5.tif\n",
      "Generating URL ...\n",
      "Downloading data from https://earthengine.googleapis.com/v1/projects/earthengine-legacy/thumbnails/22cbf455c39e3ec1a7e6a4b891157d06-3f5cd265ac493cb092f6337a91f49d90:getPixels\n",
      "Please wait ...\n",
      "Data downloaded to D:\\Descarga\\Sentinel2\\20240110T151719_Parcela_5.tif\n",
      "Archivo exportado 20240110T151719_Parcela_5.tif\n",
      "Generating URL ...\n",
      "Downloading data from https://earthengine.googleapis.com/v1/projects/earthengine-legacy/thumbnails/9827ce458a6cd0fc84098645f9f433ae-8fc5a23b9c12fbf704409bb2d66ac55a:getPixels\n",
      "Please wait ...\n",
      "Data downloaded to D:\\Descarga\\Sentinel2\\20240125T151711_Parcela_5.tif\n",
      "Archivo exportado 20240125T151711_Parcela_5.tif\n",
      "Generating URL ...\n",
      "Downloading data from https://earthengine.googleapis.com/v1/projects/earthengine-legacy/thumbnails/4029dab9e147444903537c6e077b9c54-1956683486a4537224e8d348f2af1245:getPixels\n",
      "Please wait ...\n",
      "Data downloaded to D:\\Descarga\\Sentinel2\\20240325T151721_Parcela_5.tif\n",
      "Archivo exportado 20240325T151721_Parcela_5.tif\n"
     ]
    }
   ],
   "source": [
    "for i in range(len(lista_parcela)):\n",
    "    Parcela = ee_zona_gdp.filterMetadata('Nombre', 'equals', lista_parcela[i])\n",
    "    geometria = Parcela.geometry()\n",
    "    #Bounds = geometria.bounds()\n",
    "    #Buffer = Bounds.buffer(300)\n",
    "    name_parcela = lista_parcela[i]\n",
    "    # Coleccion de Sentinel-2 SR\n",
    "    S2_RS = ee.ImageCollection(\"COPERNICUS/S2_SR_HARMONIZED\")\\\n",
    "                    .filterDate('2023-06-01','2024-04-14')\\\n",
    "                    .filterMetadata('CLOUDY_PIXEL_PERCENTAGE','less_than',30)\\\n",
    "                    .filterBounds(Parcela)\n",
    "    # Imprimir la lista de ID Imagenes\n",
    "    ID_S2 = S2_RS.reduceColumns(ee.Reducer.toList(),[\"system:index\"]).get(\"list\").getInfo()\n",
    "    # Gardar la lista ID\n",
    "    for r in range(len(ID_S2)):\n",
    "        lista_ID_S2.append(ID_S2[r])\n",
    "    # Proceso de busqueda y descarga\n",
    "    for k in range(len(ID_S2)):\n",
    "        # Importar imagen Sentinel-2 RS \n",
    "        image = ee.Image(\"COPERNICUS/S2_SR_HARMONIZED\" + \"/\" + ID_S2[k])\n",
    "        # Seleccionar iamgenes por bandas\n",
    "        S2_img_RS = image.select([\"B1\",\"B2\",\"B3\",\"B4\",\"B5\",\"B6\",\"B7\",\"B8\",\"B9\",\"B11\",\"B12\"])\n",
    "        # Recortar segun zona estudio\n",
    "        S2_img_RS_clip = S2_img_RS.clip(Parcela)\n",
    "        # Descarga Metodo 1 link descarga    \n",
    "        #link_URL = S2_img_RS_es_clip.getDownloadURL({\n",
    "        #    'name': ID_S2[k][0:16]+name_parcela,\n",
    "        #    'bands': [\"B1\",\"B2\",\"B3\",\"B4\",\"B5\",\"B6\",\"B7\",\"B8\",\"B9\",\"B11\",\"B12\"],\n",
    "        #    'region': geometria,\n",
    "        #    'scale': 10,\n",
    "        #    'filePerBand': False # True = bandas separadas\n",
    "        #})\n",
    "        #print('Archivo zip ' + ID_S2[k][0:16]+name_parcela, link_URL)\n",
    "        \n",
    "        # Descarga metodo 2\n",
    "        geemap.ee_export_image(S2_img_RS_clip, \n",
    "                               filename=out_dir_sentinel2+\"/\"+ID_S2[k][0:16]+name_parcela+\".tif\", \n",
    "                               region=geometria, \n",
    "                               scale=10, \n",
    "                               file_per_band=False)\n",
    "        print('Archivo exportado ' + ID_S2[k][0:16]+name_parcela+\".tif\")\n"
   ]
  },
  {
   "cell_type": "code",
   "execution_count": 53,
   "id": "0f768a38-e0fc-4d15-9d74-3c0ed999f434",
   "metadata": {},
   "outputs": [
    {
     "data": {
      "text/html": [
       "\n",
       "            <style>\n",
       "                .geemap-dark {\n",
       "                    --jp-widgets-color: white;\n",
       "                    --jp-widgets-label-color: white;\n",
       "                    --jp-ui-font-color1: white;\n",
       "                    --jp-layout-color2: #454545;\n",
       "                    background-color: #383838;\n",
       "                }\n",
       "\n",
       "                .geemap-dark .jupyter-button {\n",
       "                    --jp-layout-color3: #383838;\n",
       "                }\n",
       "\n",
       "                .geemap-colab {\n",
       "                    background-color: var(--colab-primary-surface-color, white);\n",
       "                }\n",
       "\n",
       "                .geemap-colab .jupyter-button {\n",
       "                    --jp-layout-color3: var(--colab-primary-surface-color, white);\n",
       "                }\n",
       "            </style>\n",
       "            "
      ],
      "text/plain": [
       "<IPython.core.display.HTML object>"
      ]
     },
     "metadata": {},
     "output_type": "display_data"
    }
   ],
   "source": [
    "lista_ID = []"
   ]
  },
  {
   "cell_type": "code",
   "execution_count": 54,
   "id": "d212a214-7ea4-4d88-b3a5-d5083ebf932e",
   "metadata": {},
   "outputs": [
    {
     "data": {
      "text/html": [
       "\n",
       "            <style>\n",
       "                .geemap-dark {\n",
       "                    --jp-widgets-color: white;\n",
       "                    --jp-widgets-label-color: white;\n",
       "                    --jp-ui-font-color1: white;\n",
       "                    --jp-layout-color2: #454545;\n",
       "                    background-color: #383838;\n",
       "                }\n",
       "\n",
       "                .geemap-dark .jupyter-button {\n",
       "                    --jp-layout-color3: #383838;\n",
       "                }\n",
       "\n",
       "                .geemap-colab {\n",
       "                    background-color: var(--colab-primary-surface-color, white);\n",
       "                }\n",
       "\n",
       "                .geemap-colab .jupyter-button {\n",
       "                    --jp-layout-color3: var(--colab-primary-surface-color, white);\n",
       "                }\n",
       "            </style>\n",
       "            "
      ],
      "text/plain": [
       "<IPython.core.display.HTML object>"
      ]
     },
     "metadata": {},
     "output_type": "display_data"
    }
   ],
   "source": [
    "for f in range(len(lista_ID_S2)):\n",
    "    dato = lista_ID_S2[f][0:15]\n",
    "    lista_ID.append(dato)"
   ]
  },
  {
   "cell_type": "code",
   "execution_count": 55,
   "id": "ddf45026-3e62-46cd-a6a2-744916045e55",
   "metadata": {},
   "outputs": [
    {
     "data": {
      "text/html": [
       "\n",
       "            <style>\n",
       "                .geemap-dark {\n",
       "                    --jp-widgets-color: white;\n",
       "                    --jp-widgets-label-color: white;\n",
       "                    --jp-ui-font-color1: white;\n",
       "                    --jp-layout-color2: #454545;\n",
       "                    background-color: #383838;\n",
       "                }\n",
       "\n",
       "                .geemap-dark .jupyter-button {\n",
       "                    --jp-layout-color3: #383838;\n",
       "                }\n",
       "\n",
       "                .geemap-colab {\n",
       "                    background-color: var(--colab-primary-surface-color, white);\n",
       "                }\n",
       "\n",
       "                .geemap-colab .jupyter-button {\n",
       "                    --jp-layout-color3: var(--colab-primary-surface-color, white);\n",
       "                }\n",
       "            </style>\n",
       "            "
      ],
      "text/plain": [
       "<IPython.core.display.HTML object>"
      ]
     },
     "metadata": {},
     "output_type": "display_data"
    },
    {
     "data": {
      "text/plain": [
       "210"
      ]
     },
     "execution_count": 55,
     "metadata": {},
     "output_type": "execute_result"
    }
   ],
   "source": [
    "len(lista_ID)"
   ]
  },
  {
   "cell_type": "code",
   "execution_count": 56,
   "id": "03a56a1e-982b-45c0-970f-21d6fd028dcc",
   "metadata": {},
   "outputs": [
    {
     "data": {
      "text/html": [
       "\n",
       "            <style>\n",
       "                .geemap-dark {\n",
       "                    --jp-widgets-color: white;\n",
       "                    --jp-widgets-label-color: white;\n",
       "                    --jp-ui-font-color1: white;\n",
       "                    --jp-layout-color2: #454545;\n",
       "                    background-color: #383838;\n",
       "                }\n",
       "\n",
       "                .geemap-dark .jupyter-button {\n",
       "                    --jp-layout-color3: #383838;\n",
       "                }\n",
       "\n",
       "                .geemap-colab {\n",
       "                    background-color: var(--colab-primary-surface-color, white);\n",
       "                }\n",
       "\n",
       "                .geemap-colab .jupyter-button {\n",
       "                    --jp-layout-color3: var(--colab-primary-surface-color, white);\n",
       "                }\n",
       "            </style>\n",
       "            "
      ],
      "text/plain": [
       "<IPython.core.display.HTML object>"
      ]
     },
     "metadata": {},
     "output_type": "display_data"
    }
   ],
   "source": [
    "# Extraer valores únicos como un conjunto\n",
    "valores_unicos = set(lista_ID)"
   ]
  },
  {
   "cell_type": "code",
   "execution_count": 57,
   "id": "bf84d977-8977-4a5c-bc45-e8cde1e206c2",
   "metadata": {},
   "outputs": [
    {
     "data": {
      "text/html": [
       "\n",
       "            <style>\n",
       "                .geemap-dark {\n",
       "                    --jp-widgets-color: white;\n",
       "                    --jp-widgets-label-color: white;\n",
       "                    --jp-ui-font-color1: white;\n",
       "                    --jp-layout-color2: #454545;\n",
       "                    background-color: #383838;\n",
       "                }\n",
       "\n",
       "                .geemap-dark .jupyter-button {\n",
       "                    --jp-layout-color3: #383838;\n",
       "                }\n",
       "\n",
       "                .geemap-colab {\n",
       "                    background-color: var(--colab-primary-surface-color, white);\n",
       "                }\n",
       "\n",
       "                .geemap-colab .jupyter-button {\n",
       "                    --jp-layout-color3: var(--colab-primary-surface-color, white);\n",
       "                }\n",
       "            </style>\n",
       "            "
      ],
      "text/plain": [
       "<IPython.core.display.HTML object>"
      ]
     },
     "metadata": {},
     "output_type": "display_data"
    },
    {
     "data": {
      "text/plain": [
       "20"
      ]
     },
     "execution_count": 57,
     "metadata": {},
     "output_type": "execute_result"
    }
   ],
   "source": [
    "len(valores_unicos)"
   ]
  },
  {
   "cell_type": "code",
   "execution_count": 58,
   "id": "894fe446-2173-4a66-adf3-f323bc39063a",
   "metadata": {},
   "outputs": [
    {
     "data": {
      "text/html": [
       "\n",
       "            <style>\n",
       "                .geemap-dark {\n",
       "                    --jp-widgets-color: white;\n",
       "                    --jp-widgets-label-color: white;\n",
       "                    --jp-ui-font-color1: white;\n",
       "                    --jp-layout-color2: #454545;\n",
       "                    background-color: #383838;\n",
       "                }\n",
       "\n",
       "                .geemap-dark .jupyter-button {\n",
       "                    --jp-layout-color3: #383838;\n",
       "                }\n",
       "\n",
       "                .geemap-colab {\n",
       "                    background-color: var(--colab-primary-surface-color, white);\n",
       "                }\n",
       "\n",
       "                .geemap-colab .jupyter-button {\n",
       "                    --jp-layout-color3: var(--colab-primary-surface-color, white);\n",
       "                }\n",
       "            </style>\n",
       "            "
      ],
      "text/plain": [
       "<IPython.core.display.HTML object>"
      ]
     },
     "metadata": {},
     "output_type": "display_data"
    }
   ],
   "source": [
    "import pandas as pd"
   ]
  },
  {
   "cell_type": "code",
   "execution_count": 59,
   "id": "1b27d4bc-3228-4f93-8c4d-74937f24922d",
   "metadata": {},
   "outputs": [
    {
     "data": {
      "text/html": [
       "\n",
       "            <style>\n",
       "                .geemap-dark {\n",
       "                    --jp-widgets-color: white;\n",
       "                    --jp-widgets-label-color: white;\n",
       "                    --jp-ui-font-color1: white;\n",
       "                    --jp-layout-color2: #454545;\n",
       "                    background-color: #383838;\n",
       "                }\n",
       "\n",
       "                .geemap-dark .jupyter-button {\n",
       "                    --jp-layout-color3: #383838;\n",
       "                }\n",
       "\n",
       "                .geemap-colab {\n",
       "                    background-color: var(--colab-primary-surface-color, white);\n",
       "                }\n",
       "\n",
       "                .geemap-colab .jupyter-button {\n",
       "                    --jp-layout-color3: var(--colab-primary-surface-color, white);\n",
       "                }\n",
       "            </style>\n",
       "            "
      ],
      "text/plain": [
       "<IPython.core.display.HTML object>"
      ]
     },
     "metadata": {},
     "output_type": "display_data"
    }
   ],
   "source": [
    "tabla_sentinel2 = pd.DataFrame(valores_unicos)"
   ]
  },
  {
   "cell_type": "code",
   "execution_count": 60,
   "id": "90375abe-fcd6-4f03-916e-8d775a7b9865",
   "metadata": {},
   "outputs": [
    {
     "data": {
      "text/html": [
       "\n",
       "            <style>\n",
       "                .geemap-dark {\n",
       "                    --jp-widgets-color: white;\n",
       "                    --jp-widgets-label-color: white;\n",
       "                    --jp-ui-font-color1: white;\n",
       "                    --jp-layout-color2: #454545;\n",
       "                    background-color: #383838;\n",
       "                }\n",
       "\n",
       "                .geemap-dark .jupyter-button {\n",
       "                    --jp-layout-color3: #383838;\n",
       "                }\n",
       "\n",
       "                .geemap-colab {\n",
       "                    background-color: var(--colab-primary-surface-color, white);\n",
       "                }\n",
       "\n",
       "                .geemap-colab .jupyter-button {\n",
       "                    --jp-layout-color3: var(--colab-primary-surface-color, white);\n",
       "                }\n",
       "            </style>\n",
       "            "
      ],
      "text/plain": [
       "<IPython.core.display.HTML object>"
      ]
     },
     "metadata": {},
     "output_type": "display_data"
    }
   ],
   "source": [
    "tabla_sentinel2.columns = [\"ID_RS\"]"
   ]
  },
  {
   "cell_type": "code",
   "execution_count": 61,
   "id": "ee8accb6-1585-4741-8228-36915c686c03",
   "metadata": {},
   "outputs": [
    {
     "data": {
      "text/html": [
       "\n",
       "            <style>\n",
       "                .geemap-dark {\n",
       "                    --jp-widgets-color: white;\n",
       "                    --jp-widgets-label-color: white;\n",
       "                    --jp-ui-font-color1: white;\n",
       "                    --jp-layout-color2: #454545;\n",
       "                    background-color: #383838;\n",
       "                }\n",
       "\n",
       "                .geemap-dark .jupyter-button {\n",
       "                    --jp-layout-color3: #383838;\n",
       "                }\n",
       "\n",
       "                .geemap-colab {\n",
       "                    background-color: var(--colab-primary-surface-color, white);\n",
       "                }\n",
       "\n",
       "                .geemap-colab .jupyter-button {\n",
       "                    --jp-layout-color3: var(--colab-primary-surface-color, white);\n",
       "                }\n",
       "            </style>\n",
       "            "
      ],
      "text/plain": [
       "<IPython.core.display.HTML object>"
      ]
     },
     "metadata": {},
     "output_type": "display_data"
    },
    {
     "data": {
      "text/html": [
       "<div>\n",
       "<style scoped>\n",
       "    .dataframe tbody tr th:only-of-type {\n",
       "        vertical-align: middle;\n",
       "    }\n",
       "\n",
       "    .dataframe tbody tr th {\n",
       "        vertical-align: top;\n",
       "    }\n",
       "\n",
       "    .dataframe thead th {\n",
       "        text-align: right;\n",
       "    }\n",
       "</style>\n",
       "<table border=\"1\" class=\"dataframe\">\n",
       "  <thead>\n",
       "    <tr style=\"text-align: right;\">\n",
       "      <th></th>\n",
       "      <th>ID_RS</th>\n",
       "    </tr>\n",
       "  </thead>\n",
       "  <tbody>\n",
       "    <tr>\n",
       "      <th>0</th>\n",
       "      <td>20230922T151709</td>\n",
       "    </tr>\n",
       "    <tr>\n",
       "      <th>1</th>\n",
       "      <td>20230917T151711</td>\n",
       "    </tr>\n",
       "    <tr>\n",
       "      <th>2</th>\n",
       "      <td>20240325T151721</td>\n",
       "    </tr>\n",
       "    <tr>\n",
       "      <th>3</th>\n",
       "      <td>20230808T151711</td>\n",
       "    </tr>\n",
       "  </tbody>\n",
       "</table>\n",
       "</div>"
      ],
      "text/plain": [
       "             ID_RS\n",
       "0  20230922T151709\n",
       "1  20230917T151711\n",
       "2  20240325T151721\n",
       "3  20230808T151711"
      ]
     },
     "execution_count": 61,
     "metadata": {},
     "output_type": "execute_result"
    }
   ],
   "source": [
    "tabla_sentinel2.head(4)"
   ]
  },
  {
   "cell_type": "code",
   "execution_count": 62,
   "id": "a179910b-9761-4762-b550-81e65442611d",
   "metadata": {},
   "outputs": [
    {
     "data": {
      "text/html": [
       "\n",
       "            <style>\n",
       "                .geemap-dark {\n",
       "                    --jp-widgets-color: white;\n",
       "                    --jp-widgets-label-color: white;\n",
       "                    --jp-ui-font-color1: white;\n",
       "                    --jp-layout-color2: #454545;\n",
       "                    background-color: #383838;\n",
       "                }\n",
       "\n",
       "                .geemap-dark .jupyter-button {\n",
       "                    --jp-layout-color3: #383838;\n",
       "                }\n",
       "\n",
       "                .geemap-colab {\n",
       "                    background-color: var(--colab-primary-surface-color, white);\n",
       "                }\n",
       "\n",
       "                .geemap-colab .jupyter-button {\n",
       "                    --jp-layout-color3: var(--colab-primary-surface-color, white);\n",
       "                }\n",
       "            </style>\n",
       "            "
      ],
      "text/plain": [
       "<IPython.core.display.HTML object>"
      ]
     },
     "metadata": {},
     "output_type": "display_data"
    }
   ],
   "source": [
    "tabla_sentinel2.to_csv(out_dir_sentinel2+\"/\"+\"tabla_sentinel2_ID_RS.csv\")"
   ]
  },
  {
   "cell_type": "code",
   "execution_count": null,
   "id": "b10551af-9e16-4b91-8f00-48383ab953e5",
   "metadata": {},
   "outputs": [],
   "source": []
  }
 ],
 "metadata": {
  "kernelspec": {
   "display_name": "Python 3 (ipykernel)",
   "language": "python",
   "name": "python3"
  },
  "language_info": {
   "codemirror_mode": {
    "name": "ipython",
    "version": 3
   },
   "file_extension": ".py",
   "mimetype": "text/x-python",
   "name": "python",
   "nbconvert_exporter": "python",
   "pygments_lexer": "ipython3",
   "version": "3.9.13"
  }
 },
 "nbformat": 4,
 "nbformat_minor": 5
}
