{
 "cells": [
  {
   "cell_type": "markdown",
   "id": "be94f4fd-0568-4178-a0ec-333725a905b6",
   "metadata": {},
   "source": [
    "# Generar mosaico Planet NICFI"
   ]
  },
  {
   "cell_type": "code",
   "execution_count": 2,
   "id": "b51bb1be-e62e-46ad-9eb1-7bf493da358a",
   "metadata": {},
   "outputs": [],
   "source": [
    "import rasterio\n",
    "from rasterio.merge import merge\n",
    "from rasterio.plot import show"
   ]
  },
  {
   "cell_type": "code",
   "execution_count": 3,
   "id": "92eec5a2-555a-47d4-a5cd-1ba8bfe705c5",
   "metadata": {},
   "outputs": [],
   "source": [
    "import os\n",
    "import geopandas as gpd\n",
    "import pandas as pd\n",
    "import glob"
   ]
  },
  {
   "cell_type": "markdown",
   "id": "fa0e3150-cac7-46d6-8f53-5722e9ddcbea",
   "metadata": {},
   "source": [
    "## Importar CSV"
   ]
  },
  {
   "cell_type": "code",
   "execution_count": 4,
   "id": "1f697521-0888-44e8-8a9c-cb1d50ef4743",
   "metadata": {},
   "outputs": [
    {
     "data": {
      "text/plain": [
       "'C:\\\\Users\\\\GEOMATICA\\\\Curso_Geomatica\\\\06_BGR_Geomatica\\\\Datos\\\\Script'"
      ]
     },
     "execution_count": 4,
     "metadata": {},
     "output_type": "execute_result"
    }
   ],
   "source": [
    "os.getcwd()"
   ]
  },
  {
   "cell_type": "code",
   "execution_count": 5,
   "id": "dbaaeddc-e587-44cc-bfbf-9fa710e58e60",
   "metadata": {},
   "outputs": [
    {
     "data": {
      "text/plain": [
       "'D:\\\\Descarga\\\\Planet'"
      ]
     },
     "execution_count": 5,
     "metadata": {},
     "output_type": "execute_result"
    }
   ],
   "source": [
    "ruta_archivos = r\"D:\\Descarga\\Planet\"\n",
    "os.chdir(ruta_archivos) # Cambiar ruta trabajo\n",
    "os.getcwd() # Consultar ruta trabajo"
   ]
  },
  {
   "cell_type": "code",
   "execution_count": 6,
   "id": "ac279090-201d-4fec-8a64-68d7e3a8024f",
   "metadata": {},
   "outputs": [
    {
     "data": {
      "text/plain": [
       "['tabla_ID_Planet.csv']"
      ]
     },
     "execution_count": 6,
     "metadata": {},
     "output_type": "execute_result"
    }
   ],
   "source": [
    "lista = glob.glob(\"*.csv\")\n",
    "lista"
   ]
  },
  {
   "cell_type": "code",
   "execution_count": 7,
   "id": "88cb8416-fb6c-4330-b0aa-dd6a31659f16",
   "metadata": {},
   "outputs": [],
   "source": [
    "# Cargar el archivo CSV\n",
    "df = pd.read_csv(lista[0])"
   ]
  },
  {
   "cell_type": "code",
   "execution_count": 8,
   "id": "868f2833-3aa5-463c-ad79-6d2e7963f71d",
   "metadata": {},
   "outputs": [
    {
     "data": {
      "text/html": [
       "<div>\n",
       "<style scoped>\n",
       "    .dataframe tbody tr th:only-of-type {\n",
       "        vertical-align: middle;\n",
       "    }\n",
       "\n",
       "    .dataframe tbody tr th {\n",
       "        vertical-align: top;\n",
       "    }\n",
       "\n",
       "    .dataframe thead th {\n",
       "        text-align: right;\n",
       "    }\n",
       "</style>\n",
       "<table border=\"1\" class=\"dataframe\">\n",
       "  <thead>\n",
       "    <tr style=\"text-align: right;\">\n",
       "      <th></th>\n",
       "      <th>Unnamed: 0</th>\n",
       "      <th>ID_planet</th>\n",
       "    </tr>\n",
       "  </thead>\n",
       "  <tbody>\n",
       "    <tr>\n",
       "      <th>0</th>\n",
       "      <td>0</td>\n",
       "      <td>2023-06_mosaic</td>\n",
       "    </tr>\n",
       "    <tr>\n",
       "      <th>1</th>\n",
       "      <td>1</td>\n",
       "      <td>2023-07_mosaic</td>\n",
       "    </tr>\n",
       "    <tr>\n",
       "      <th>2</th>\n",
       "      <td>2</td>\n",
       "      <td>2023-08_mosaic</td>\n",
       "    </tr>\n",
       "  </tbody>\n",
       "</table>\n",
       "</div>"
      ],
      "text/plain": [
       "   Unnamed: 0       ID_planet\n",
       "0           0  2023-06_mosaic\n",
       "1           1  2023-07_mosaic\n",
       "2           2  2023-08_mosaic"
      ]
     },
     "execution_count": 8,
     "metadata": {},
     "output_type": "execute_result"
    }
   ],
   "source": [
    "df.head(3)"
   ]
  },
  {
   "cell_type": "code",
   "execution_count": 9,
   "id": "9c18e318-5a79-4a41-87c8-156d39e8b089",
   "metadata": {},
   "outputs": [],
   "source": [
    "lista_ID = df['ID_planet'].tolist()"
   ]
  },
  {
   "cell_type": "code",
   "execution_count": 10,
   "id": "4020b171-a894-405e-af8d-a28450848fbe",
   "metadata": {},
   "outputs": [
    {
     "data": {
      "text/plain": [
       "'2023-06_mosaic*.tif'"
      ]
     },
     "execution_count": 10,
     "metadata": {},
     "output_type": "execute_result"
    }
   ],
   "source": [
    "lista_ID[0]+\"*.tif\""
   ]
  },
  {
   "cell_type": "code",
   "execution_count": 15,
   "id": "d17d6c54-28a1-4f43-8a1a-2feeae4b0592",
   "metadata": {},
   "outputs": [],
   "source": [
    "for i in range(len(lista_ID)):\n",
    "    busca_tif = lista_ID[i]+\"*.tif\"\n",
    "    archivos_imagenes = glob.glob(busca_tif)\n",
    "    # Abrir todas las imágenes y obtener sus propiedades\n",
    "    imagenes_abiertas = [rasterio.open(nombre_archivo) for nombre_archivo in archivos_imagenes]\n",
    "    # Realizar el mosaico\n",
    "    mosaico, transformacion = merge(imagenes_abiertas)\n",
    "    name_mosaico = \"Mosaico_Planet_\"+lista_ID[i]+\".tif\"\n",
    "    # Guardar el mosaico como un nuevo archivo\n",
    "    with rasterio.open(name_mosaico, 'w', driver='GTiff', width=mosaico.shape[2], height=mosaico.shape[1],\n",
    "                       count=4, dtype=mosaico.dtype, crs=imagenes_abiertas[0].crs, transform=transformacion) as dest:\n",
    "            dest.write(mosaico)\n",
    "    # Cerrar las imágenes abiertas\n",
    "    for imagen in imagenes_abiertas:\n",
    "        imagen.close()"
   ]
  },
  {
   "cell_type": "code",
   "execution_count": null,
   "id": "870e1e7c-34c5-47b2-950a-ca15783a9e31",
   "metadata": {},
   "outputs": [],
   "source": []
  }
 ],
 "metadata": {
  "kernelspec": {
   "display_name": "Python 3 (ipykernel)",
   "language": "python",
   "name": "python3"
  },
  "language_info": {
   "codemirror_mode": {
    "name": "ipython",
    "version": 3
   },
   "file_extension": ".py",
   "mimetype": "text/x-python",
   "name": "python",
   "nbconvert_exporter": "python",
   "pygments_lexer": "ipython3",
   "version": "3.9.13"
  }
 },
 "nbformat": 4,
 "nbformat_minor": 5
}
