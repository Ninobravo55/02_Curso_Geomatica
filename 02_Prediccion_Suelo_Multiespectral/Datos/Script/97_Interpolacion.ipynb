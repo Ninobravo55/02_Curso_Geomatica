{
 "cells": [
  {
   "cell_type": "markdown",
   "id": "893efcf1-002d-49b1-bdf9-3ccbafa79a08",
   "metadata": {},
   "source": [
    "# Interpolacion con R"
   ]
  },
  {
   "cell_type": "code",
   "execution_count": 1,
   "id": "d3572140-df49-477b-9475-022e32a3820e",
   "metadata": {
    "tags": []
   },
   "outputs": [
    {
     "data": {
      "text/html": [
       "'C:/Users/GEOMATICA/INIA_Pucallpa/Contrato_3/Investigacion/03_Suelo_Teledeteccion/Script'"
      ],
      "text/latex": [
       "'C:/Users/GEOMATICA/INIA\\_Pucallpa/Contrato\\_3/Investigacion/03\\_Suelo\\_Teledeteccion/Script'"
      ],
      "text/markdown": [
       "'C:/Users/GEOMATICA/INIA_Pucallpa/Contrato_3/Investigacion/03_Suelo_Teledeteccion/Script'"
      ],
      "text/plain": [
       "[1] \"C:/Users/GEOMATICA/INIA_Pucallpa/Contrato_3/Investigacion/03_Suelo_Teledeteccion/Script\""
      ]
     },
     "metadata": {},
     "output_type": "display_data"
    }
   ],
   "source": [
    "getwd()"
   ]
  },
  {
   "cell_type": "code",
   "execution_count": 2,
   "id": "8f7e21ab-d170-4158-b505-3d8f1a2522f2",
   "metadata": {
    "tags": []
   },
   "outputs": [],
   "source": [
    "setwd(r\"(C:\\Users\\GEOMATICA\\INIA_Pucallpa\\Contrato_3\\Investigacion\\03_Suelo_Teledeteccion\\Satelite\\PUCALLPA)\")"
   ]
  },
  {
   "cell_type": "code",
   "execution_count": 3,
   "id": "ac687e62-f1c0-4540-a9b1-3eb5bda3d07a",
   "metadata": {
    "tags": []
   },
   "outputs": [
    {
     "data": {
      "text/html": [
       "'Extraccion_Bandas_Indices.xlsx'"
      ],
      "text/latex": [
       "'Extraccion\\_Bandas\\_Indices.xlsx'"
      ],
      "text/markdown": [
       "'Extraccion_Bandas_Indices.xlsx'"
      ],
      "text/plain": [
       "[1] \"Extraccion_Bandas_Indices.xlsx\""
      ]
     },
     "metadata": {},
     "output_type": "display_data"
    }
   ],
   "source": [
    "# Crear lista del directorio\n",
    "lista_datos <- list.files(path = getwd(), pattern = '.*xlsx$')\n",
    "lista_datos"
   ]
  },
  {
   "cell_type": "code",
   "execution_count": 4,
   "id": "933b02f0-5910-4bca-93b8-d67626932122",
   "metadata": {
    "tags": []
   },
   "outputs": [],
   "source": [
    "#install.packages(\"openxlsx\",lib = r\"(C:\\Program Files\\R\\R-4.2.2\\library)\")"
   ]
  },
  {
   "cell_type": "code",
   "execution_count": 5,
   "id": "567c97c0-2d20-46b9-b9df-c3e73b9f3531",
   "metadata": {
    "tags": []
   },
   "outputs": [],
   "source": [
    "library(openxlsx)"
   ]
  },
  {
   "cell_type": "code",
   "execution_count": 6,
   "id": "ecdd4508-8b21-430d-99f7-1d92eb1c7f7f",
   "metadata": {
    "tags": []
   },
   "outputs": [],
   "source": [
    "dav <- read.xlsx(lista_datos)"
   ]
  },
  {
   "cell_type": "code",
   "execution_count": 7,
   "id": "164c3c40-4bd4-4b1f-be2a-786bb09cfb8f",
   "metadata": {
    "tags": []
   },
   "outputs": [
    {
     "data": {
      "text/html": [
       "<table class=\"dataframe\">\n",
       "<caption>A data.frame: 3 × 41</caption>\n",
       "<thead>\n",
       "\t<tr><th></th><th scope=col>ID</th><th scope=col>ESTE</th><th scope=col>NORTE</th><th scope=col>ALTITUD</th><th scope=col>pH</th><th scope=col>CE</th><th scope=col>MO</th><th scope=col>N</th><th scope=col>P</th><th scope=col>K</th><th scope=col>⋯</th><th scope=col>SAVI</th><th scope=col>NDWI</th><th scope=col>GNDVI</th><th scope=col>GCI</th><th scope=col>RVI</th><th scope=col>CIRE</th><th scope=col>CVI</th><th scope=col>MCARI</th><th scope=col>CCCI</th><th scope=col>RECI</th></tr>\n",
       "\t<tr><th></th><th scope=col>&lt;dbl&gt;</th><th scope=col>&lt;dbl&gt;</th><th scope=col>&lt;dbl&gt;</th><th scope=col>&lt;dbl&gt;</th><th scope=col>&lt;dbl&gt;</th><th scope=col>&lt;dbl&gt;</th><th scope=col>&lt;dbl&gt;</th><th scope=col>&lt;dbl&gt;</th><th scope=col>&lt;dbl&gt;</th><th scope=col>&lt;dbl&gt;</th><th scope=col>⋯</th><th scope=col>&lt;dbl&gt;</th><th scope=col>&lt;dbl&gt;</th><th scope=col>&lt;dbl&gt;</th><th scope=col>&lt;dbl&gt;</th><th scope=col>&lt;dbl&gt;</th><th scope=col>&lt;dbl&gt;</th><th scope=col>&lt;dbl&gt;</th><th scope=col>&lt;dbl&gt;</th><th scope=col>&lt;dbl&gt;</th><th scope=col>&lt;dbl&gt;</th></tr>\n",
       "</thead>\n",
       "<tbody>\n",
       "\t<tr><th scope=row>1</th><td>1</td><td>512537.9</td><td>9056311</td><td>208.22</td><td>4.32</td><td>1.20</td><td>1.48</td><td>0.07</td><td>27.91</td><td>0.21</td><td>⋯</td><td>1.315546</td><td>-0.8122281</td><td>0.8122281</td><td>8.651220</td><td>15.277992</td><td>4.701729</td><td>6.096746</td><td>1914.255</td><td>1.103154</td><td>14.277992</td></tr>\n",
       "\t<tr><th scope=row>2</th><td>2</td><td>512126.2</td><td>9057087</td><td>201.99</td><td>5.00</td><td>0.13</td><td>2.29</td><td>0.11</td><td> 2.28</td><td>0.18</td><td>⋯</td><td>1.175835</td><td>-0.7285068</td><td>0.7285068</td><td>5.366667</td><td> 8.259459</td><td>2.824781</td><td>4.907639</td><td>1852.825</td><td>1.125182</td><td> 7.259459</td></tr>\n",
       "\t<tr><th scope=row>3</th><td>3</td><td>512766.1</td><td>9056489</td><td>204.70</td><td>4.58</td><td>0.16</td><td>1.61</td><td>0.08</td><td> 3.68</td><td>0.16</td><td>⋯</td><td>1.190559</td><td>-0.7354053</td><td>0.7354053</td><td>5.558730</td><td> 8.698947</td><td>2.549828</td><td>4.945074</td><td>2926.009</td><td>1.149523</td><td> 7.698947</td></tr>\n",
       "</tbody>\n",
       "</table>\n"
      ],
      "text/latex": [
       "A data.frame: 3 × 41\n",
       "\\begin{tabular}{r|lllllllllllllllllllll}\n",
       "  & ID & ESTE & NORTE & ALTITUD & pH & CE & MO & N & P & K & ⋯ & SAVI & NDWI & GNDVI & GCI & RVI & CIRE & CVI & MCARI & CCCI & RECI\\\\\n",
       "  & <dbl> & <dbl> & <dbl> & <dbl> & <dbl> & <dbl> & <dbl> & <dbl> & <dbl> & <dbl> & ⋯ & <dbl> & <dbl> & <dbl> & <dbl> & <dbl> & <dbl> & <dbl> & <dbl> & <dbl> & <dbl>\\\\\n",
       "\\hline\n",
       "\t1 & 1 & 512537.9 & 9056311 & 208.22 & 4.32 & 1.20 & 1.48 & 0.07 & 27.91 & 0.21 & ⋯ & 1.315546 & -0.8122281 & 0.8122281 & 8.651220 & 15.277992 & 4.701729 & 6.096746 & 1914.255 & 1.103154 & 14.277992\\\\\n",
       "\t2 & 2 & 512126.2 & 9057087 & 201.99 & 5.00 & 0.13 & 2.29 & 0.11 &  2.28 & 0.18 & ⋯ & 1.175835 & -0.7285068 & 0.7285068 & 5.366667 &  8.259459 & 2.824781 & 4.907639 & 1852.825 & 1.125182 &  7.259459\\\\\n",
       "\t3 & 3 & 512766.1 & 9056489 & 204.70 & 4.58 & 0.16 & 1.61 & 0.08 &  3.68 & 0.16 & ⋯ & 1.190559 & -0.7354053 & 0.7354053 & 5.558730 &  8.698947 & 2.549828 & 4.945074 & 2926.009 & 1.149523 &  7.698947\\\\\n",
       "\\end{tabular}\n"
      ],
      "text/markdown": [
       "\n",
       "A data.frame: 3 × 41\n",
       "\n",
       "| <!--/--> | ID &lt;dbl&gt; | ESTE &lt;dbl&gt; | NORTE &lt;dbl&gt; | ALTITUD &lt;dbl&gt; | pH &lt;dbl&gt; | CE &lt;dbl&gt; | MO &lt;dbl&gt; | N &lt;dbl&gt; | P &lt;dbl&gt; | K &lt;dbl&gt; | ⋯ ⋯ | SAVI &lt;dbl&gt; | NDWI &lt;dbl&gt; | GNDVI &lt;dbl&gt; | GCI &lt;dbl&gt; | RVI &lt;dbl&gt; | CIRE &lt;dbl&gt; | CVI &lt;dbl&gt; | MCARI &lt;dbl&gt; | CCCI &lt;dbl&gt; | RECI &lt;dbl&gt; |\n",
       "|---|---|---|---|---|---|---|---|---|---|---|---|---|---|---|---|---|---|---|---|---|---|\n",
       "| 1 | 1 | 512537.9 | 9056311 | 208.22 | 4.32 | 1.20 | 1.48 | 0.07 | 27.91 | 0.21 | ⋯ | 1.315546 | -0.8122281 | 0.8122281 | 8.651220 | 15.277992 | 4.701729 | 6.096746 | 1914.255 | 1.103154 | 14.277992 |\n",
       "| 2 | 2 | 512126.2 | 9057087 | 201.99 | 5.00 | 0.13 | 2.29 | 0.11 |  2.28 | 0.18 | ⋯ | 1.175835 | -0.7285068 | 0.7285068 | 5.366667 |  8.259459 | 2.824781 | 4.907639 | 1852.825 | 1.125182 |  7.259459 |\n",
       "| 3 | 3 | 512766.1 | 9056489 | 204.70 | 4.58 | 0.16 | 1.61 | 0.08 |  3.68 | 0.16 | ⋯ | 1.190559 | -0.7354053 | 0.7354053 | 5.558730 |  8.698947 | 2.549828 | 4.945074 | 2926.009 | 1.149523 |  7.698947 |\n",
       "\n"
      ],
      "text/plain": [
       "  ID ESTE     NORTE   ALTITUD pH   CE   MO   N    P     K    ⋯ SAVI    \n",
       "1 1  512537.9 9056311 208.22  4.32 1.20 1.48 0.07 27.91 0.21 ⋯ 1.315546\n",
       "2 2  512126.2 9057087 201.99  5.00 0.13 2.29 0.11  2.28 0.18 ⋯ 1.175835\n",
       "3 3  512766.1 9056489 204.70  4.58 0.16 1.61 0.08  3.68 0.16 ⋯ 1.190559\n",
       "  NDWI       GNDVI     GCI      RVI       CIRE     CVI      MCARI    CCCI    \n",
       "1 -0.8122281 0.8122281 8.651220 15.277992 4.701729 6.096746 1914.255 1.103154\n",
       "2 -0.7285068 0.7285068 5.366667  8.259459 2.824781 4.907639 1852.825 1.125182\n",
       "3 -0.7354053 0.7354053 5.558730  8.698947 2.549828 4.945074 2926.009 1.149523\n",
       "  RECI     \n",
       "1 14.277992\n",
       "2  7.259459\n",
       "3  7.698947"
      ]
     },
     "metadata": {},
     "output_type": "display_data"
    }
   ],
   "source": [
    "head(dav,3)"
   ]
  },
  {
   "cell_type": "code",
   "execution_count": 10,
   "id": "8a530cfc-d32e-42e6-bd8a-7f6866eabbaa",
   "metadata": {
    "tags": []
   },
   "outputs": [],
   "source": [
    "library(sp)\n",
    "library(raster)\n",
    "library(sf)\n",
    "library(rgdal)"
   ]
  },
  {
   "cell_type": "markdown",
   "id": "909d7510-2e97-4576-98a2-fcc83cc231b5",
   "metadata": {},
   "source": [
    "## Extraer solo Ph"
   ]
  },
  {
   "cell_type": "code",
   "execution_count": 13,
   "id": "ce41f307-d304-4e03-bba7-9c01e5ce2402",
   "metadata": {
    "tags": []
   },
   "outputs": [],
   "source": [
    "library(tidyverse)\n",
    "library(dplyr)\n",
    "library(sf)\n",
    "library(sp)\n",
    "library(raster)\n",
    "library(gstat)\n",
    "library(fields)\n",
    "library(interp)\n",
    "library(mgcv)\n",
    "library(automap)\n",
    "library(patchwork)"
   ]
  },
  {
   "cell_type": "code",
   "execution_count": 14,
   "id": "cfdf23b3-5c26-46fe-a04f-5d398deffe07",
   "metadata": {
    "tags": []
   },
   "outputs": [],
   "source": [
    "soil_eea = select(dav, ESTE, NORTE, pH)"
   ]
  },
  {
   "cell_type": "code",
   "execution_count": 15,
   "id": "13341d63-b0f1-4405-9607-7f5aa03592c5",
   "metadata": {
    "tags": []
   },
   "outputs": [],
   "source": [
    "sp_suelo = soil_eea"
   ]
  },
  {
   "cell_type": "code",
   "execution_count": 16,
   "id": "586a9ee9-b4de-49dc-9a12-a7642cbb7363",
   "metadata": {
    "tags": []
   },
   "outputs": [],
   "source": [
    "coordinates(sp_suelo) <- ~ESTE + NORTE"
   ]
  },
  {
   "cell_type": "code",
   "execution_count": 17,
   "id": "ebf2a048-3b32-4993-8efe-afe5a82a77f6",
   "metadata": {
    "tags": []
   },
   "outputs": [
    {
     "data": {
      "text/plain": [
       "Coordinate Reference System: NA"
      ]
     },
     "metadata": {},
     "output_type": "display_data"
    }
   ],
   "source": [
    "st_crs(sp_suelo)"
   ]
  },
  {
   "cell_type": "code",
   "execution_count": 18,
   "id": "c7003dcc-e128-41a0-a4e3-e84993c94518",
   "metadata": {
    "tags": []
   },
   "outputs": [],
   "source": [
    "proj4string(sp_suelo) = CRS(\"+init=epsg:32718\")"
   ]
  },
  {
   "cell_type": "code",
   "execution_count": 19,
   "id": "ae9382e1-959a-41db-8ef0-7493556c0232",
   "metadata": {
    "tags": []
   },
   "outputs": [
    {
     "data": {
      "image/png": "[encoded data removed]",
      "text/plain": [
       "Plot with title \"Puntos Analisis Suelo\""
      ]
     },
     "metadata": {
      "image/png": {
       "height": 420,
       "width": 420
      }
     },
     "output_type": "display_data"
    }
   ],
   "source": [
    "plot(sp_suelo, main = \"Puntos Analisis Suelo\", xlab = \"Este\", ylab = \"Norte\", \n",
    "     col= \"red\", pch = 20, cex = 2, axes = TRUE)"
   ]
  },
  {
   "cell_type": "code",
   "execution_count": 20,
   "id": "ba066bd8-d397-4b3e-bc02-a1b2a69f50d7",
   "metadata": {
    "tags": []
   },
   "outputs": [],
   "source": [
    "extension_sp = st_bbox(sp_suelo)"
   ]
  },
  {
   "cell_type": "code",
   "execution_count": 21,
   "id": "1dd510af-4423-451c-8307-66bbb203754b",
   "metadata": {
    "tags": []
   },
   "outputs": [
    {
     "data": {
      "text/html": [
       "<strong>ymax:</strong> 9057086.832"
      ],
      "text/latex": [
       "\\textbf{ymax:} 9057086.832"
      ],
      "text/markdown": [
       "**ymax:** 9057086.832"
      ],
      "text/plain": [
       "   ymax \n",
       "9057087 "
      ]
     },
     "metadata": {},
     "output_type": "display_data"
    }
   ],
   "source": [
    "extension_sp[4]"
   ]
  },
  {
   "cell_type": "code",
   "execution_count": 22,
   "id": "ba256c7f-e7d5-4cba-b19a-99e424cfe75f",
   "metadata": {
    "tags": []
   },
   "outputs": [],
   "source": [
    "# Genera una grilla de 10 m resolution\n",
    "grd_template <- expand.grid(\n",
    "  X = seq(from = extension_sp[1], to = extension_sp[3], by = 3),\n",
    "  Y = seq(from = extension_sp[2], to = extension_sp[4], by = 3) \n",
    ")"
   ]
  },
  {
   "cell_type": "code",
   "execution_count": 23,
   "id": "1f9fad22-249e-43bc-8e19-d80c2ae2adaa",
   "metadata": {
    "tags": []
   },
   "outputs": [],
   "source": [
    "# Rasterizar nuestro grid\n",
    "crs_raster_format <- \"+proj=utm +zone=18 +south +datum=WGS84 +units=m +no_defs +type=crs\""
   ]
  },
  {
   "cell_type": "code",
   "execution_count": 24,
   "id": "e9d178bc-a98b-4335-8b1a-335215ac1397",
   "metadata": {
    "tags": []
   },
   "outputs": [],
   "source": [
    "grd_template_raster <- grd_template %>% \n",
    "    dplyr::mutate(Z = 0) %>% \n",
    "    raster::rasterFromXYZ( \n",
    "    crs = crs_raster_format)"
   ]
  },
  {
   "cell_type": "code",
   "execution_count": 25,
   "id": "13540584-d2b9-4bf1-bddc-ea9849c816de",
   "metadata": {
    "tags": []
   },
   "outputs": [
    {
     "data": {
      "image/png": "[encoded data removed]",
      "text/plain": [
       "Plot with title \"\""
      ]
     },
     "metadata": {
      "image/png": {
       "height": 420,
       "width": 420
      }
     },
     "output_type": "display_data"
    }
   ],
   "source": [
    "plot(grd_template_raster)"
   ]
  },
  {
   "cell_type": "markdown",
   "id": "8450c0a9-a89b-41ef-b0a1-b5159726e08e",
   "metadata": {},
   "source": [
    "## Vecino Cercano (Nearset Neighbor)"
   ]
  },
  {
   "cell_type": "code",
   "execution_count": 43,
   "id": "868074bf-4ef1-41d9-a79a-b5498031ccc8",
   "metadata": {
    "tags": []
   },
   "outputs": [],
   "source": [
    "fit_NN <- gstat::gstat( # uso del paquete gstat\n",
    "    formula = pH ~ 1,    # la columna 'PH' es lo que nos interesa\n",
    "    data = sp_suelo, # usando {sf} y convirtiendo a {sp}, lo que se espera\n",
    "    nmax = 10, nmin = 3 # Número de observaciones vecinas utilizadas para el ajuste\n",
    "    )"
   ]
  },
  {
   "cell_type": "markdown",
   "id": "021d655f-96d9-453e-b104-dadd60fc9bc9",
   "metadata": {},
   "source": [
    "## Distancia Inversa Ponderada (IDW)"
   ]
  },
  {
   "cell_type": "code",
   "execution_count": 46,
   "id": "91519c5c-a5c3-435c-8e6d-27c501546e44",
   "metadata": {
    "tags": []
   },
   "outputs": [],
   "source": [
    "fit_IDW <- gstat::gstat( \n",
    "    formula = pH ~ 1,\n",
    "    data = sp_suelo,\n",
    "    nmax = 10, nmin = 3,\n",
    "    set = list(idp = 0.5) # poder de distancia inversa\n",
    "    )"
   ]
  },
  {
   "cell_type": "code",
   "execution_count": 53,
   "id": "bfd405a4-9c21-4a9e-8b83-a14b34dbc6ae",
   "metadata": {
    "tags": []
   },
   "outputs": [],
   "source": [
    "#install.packages(\"fields\",lib = r\"(C:\\Program Files\\R\\R-4.2.2\\library)\")"
   ]
  },
  {
   "cell_type": "markdown",
   "id": "f8a7f028-ac63-4ac6-b8a8-b76bbcc4fb82",
   "metadata": {},
   "source": [
    "## Regresión spline de placa delgada (TPS)"
   ]
  },
  {
   "cell_type": "code",
   "execution_count": 28,
   "id": "920d1f45-2925-474c-aa9b-590057b6517d",
   "metadata": {
    "tags": []
   },
   "outputs": [],
   "source": [
    "fit_TPS <- fields::Tps( # usando {fields}\n",
    "    x = as.matrix(dav[, c(\"ESTE\", \"NORTE\")]), # acepta puntos pero los espeta como matriz\n",
    "    Y = sp_suelo$pH,  # la variable dependiente\n",
    "    miles = FALSE     # EPSG 25833 esta basado en metros\n",
    "    )"
   ]
  },
  {
   "cell_type": "markdown",
   "id": "a20d85f5-f526-4081-b410-eb1ae38cf649",
   "metadata": {},
   "source": [
    "## Modelo aditivo generalizado (GAM)"
   ]
  },
  {
   "cell_type": "code",
   "execution_count": 63,
   "id": "7e0f6c20-b06f-4e16-a7ff-0812336db4d2",
   "metadata": {
    "tags": []
   },
   "outputs": [
    {
     "data": {
      "text/html": [
       "'data.frame'"
      ],
      "text/latex": [
       "'data.frame'"
      ],
      "text/markdown": [
       "'data.frame'"
      ],
      "text/plain": [
       "[1] \"data.frame\""
      ]
     },
     "metadata": {},
     "output_type": "display_data"
    }
   ],
   "source": [
    "class(soil_eea)"
   ]
  },
  {
   "cell_type": "code",
   "execution_count": 74,
   "id": "3539dabf-3065-48e3-96ce-a9bc19d6b608",
   "metadata": {
    "tags": []
   },
   "outputs": [
    {
     "data": {
      "text/html": [
       "<table class=\"dataframe\">\n",
       "<caption>A data.frame: 28 × 3</caption>\n",
       "<thead>\n",
       "\t<tr><th></th><th scope=col>ESTE</th><th scope=col>NORTE</th><th scope=col>pH</th></tr>\n",
       "\t<tr><th></th><th scope=col>&lt;dbl&gt;</th><th scope=col>&lt;dbl&gt;</th><th scope=col>&lt;dbl&gt;</th></tr>\n",
       "</thead>\n",
       "<tbody>\n",
       "\t<tr><th scope=row>1</th><td>512537.9</td><td>9056311</td><td>4.32</td></tr>\n",
       "\t<tr><th scope=row>2</th><td>512126.2</td><td>9057087</td><td>5.00</td></tr>\n",
       "\t<tr><th scope=row>3</th><td>512766.1</td><td>9056489</td><td>4.58</td></tr>\n",
       "\t<tr><th scope=row>4</th><td>513263.5</td><td>9055598</td><td>4.55</td></tr>\n",
       "\t<tr><th scope=row>5</th><td>512480.0</td><td>9056451</td><td>4.71</td></tr>\n",
       "\t<tr><th scope=row>6</th><td>513006.0</td><td>9056074</td><td>5.21</td></tr>\n",
       "\t<tr><th scope=row>7</th><td>513216.0</td><td>9055683</td><td>4.66</td></tr>\n",
       "\t<tr><th scope=row>8</th><td>512792.0</td><td>9056269</td><td>5.36</td></tr>\n",
       "\t<tr><th scope=row>9</th><td>512919.0</td><td>9056237</td><td>4.89</td></tr>\n",
       "\t<tr><th scope=row>10</th><td>512194.5</td><td>9056805</td><td>4.57</td></tr>\n",
       "\t<tr><th scope=row>11</th><td>513194.0</td><td>9055999</td><td>5.18</td></tr>\n",
       "\t<tr><th scope=row>12</th><td>511953.5</td><td>9056986</td><td>4.61</td></tr>\n",
       "\t<tr><th scope=row>13</th><td>512581.4</td><td>9056579</td><td>4.24</td></tr>\n",
       "\t<tr><th scope=row>14</th><td>513150.0</td><td>9055818</td><td>4.81</td></tr>\n",
       "\t<tr><th scope=row>15</th><td>512264.5</td><td>9056605</td><td>4.50</td></tr>\n",
       "\t<tr><th scope=row>16</th><td>512324.8</td><td>9056816</td><td>4.93</td></tr>\n",
       "\t<tr><th scope=row>17</th><td>512396.1</td><td>9056711</td><td>4.37</td></tr>\n",
       "\t<tr><th scope=row>18</th><td>512134.9</td><td>9056902</td><td>4.70</td></tr>\n",
       "\t<tr><th scope=row>19</th><td>512088.9</td><td>9056991</td><td>4.80</td></tr>\n",
       "\t<tr><th scope=row>20</th><td>512998.0</td><td>9055943</td><td>5.29</td></tr>\n",
       "\t<tr><th scope=row>21</th><td>512571.7</td><td>9056671</td><td>4.72</td></tr>\n",
       "\t<tr><th scope=row>22</th><td>512821.1</td><td>9056154</td><td>5.22</td></tr>\n",
       "\t<tr><th scope=row>23</th><td>512438.9</td><td>9056834</td><td>4.60</td></tr>\n",
       "\t<tr><th scope=row>24</th><td>512308.7</td><td>9056967</td><td>4.84</td></tr>\n",
       "\t<tr><th scope=row>25</th><td>512639.7</td><td>9056425</td><td>5.21</td></tr>\n",
       "\t<tr><th scope=row>26</th><td>512427.2</td><td>9056601</td><td>4.79</td></tr>\n",
       "\t<tr><th scope=row>27</th><td>512918.8</td><td>9056040</td><td>5.20</td></tr>\n",
       "\t<tr><th scope=row>28</th><td>513236.1</td><td>9055922</td><td>4.50</td></tr>\n",
       "</tbody>\n",
       "</table>\n"
      ],
      "text/latex": [
       "A data.frame: 28 × 3\n",
       "\\begin{tabular}{r|lll}\n",
       "  & ESTE & NORTE & pH\\\\\n",
       "  & <dbl> & <dbl> & <dbl>\\\\\n",
       "\\hline\n",
       "\t1 & 512537.9 & 9056311 & 4.32\\\\\n",
       "\t2 & 512126.2 & 9057087 & 5.00\\\\\n",
       "\t3 & 512766.1 & 9056489 & 4.58\\\\\n",
       "\t4 & 513263.5 & 9055598 & 4.55\\\\\n",
       "\t5 & 512480.0 & 9056451 & 4.71\\\\\n",
       "\t6 & 513006.0 & 9056074 & 5.21\\\\\n",
       "\t7 & 513216.0 & 9055683 & 4.66\\\\\n",
       "\t8 & 512792.0 & 9056269 & 5.36\\\\\n",
       "\t9 & 512919.0 & 9056237 & 4.89\\\\\n",
       "\t10 & 512194.5 & 9056805 & 4.57\\\\\n",
       "\t11 & 513194.0 & 9055999 & 5.18\\\\\n",
       "\t12 & 511953.5 & 9056986 & 4.61\\\\\n",
       "\t13 & 512581.4 & 9056579 & 4.24\\\\\n",
       "\t14 & 513150.0 & 9055818 & 4.81\\\\\n",
       "\t15 & 512264.5 & 9056605 & 4.50\\\\\n",
       "\t16 & 512324.8 & 9056816 & 4.93\\\\\n",
       "\t17 & 512396.1 & 9056711 & 4.37\\\\\n",
       "\t18 & 512134.9 & 9056902 & 4.70\\\\\n",
       "\t19 & 512088.9 & 9056991 & 4.80\\\\\n",
       "\t20 & 512998.0 & 9055943 & 5.29\\\\\n",
       "\t21 & 512571.7 & 9056671 & 4.72\\\\\n",
       "\t22 & 512821.1 & 9056154 & 5.22\\\\\n",
       "\t23 & 512438.9 & 9056834 & 4.60\\\\\n",
       "\t24 & 512308.7 & 9056967 & 4.84\\\\\n",
       "\t25 & 512639.7 & 9056425 & 5.21\\\\\n",
       "\t26 & 512427.2 & 9056601 & 4.79\\\\\n",
       "\t27 & 512918.8 & 9056040 & 5.20\\\\\n",
       "\t28 & 513236.1 & 9055922 & 4.50\\\\\n",
       "\\end{tabular}\n"
      ],
      "text/markdown": [
       "\n",
       "A data.frame: 28 × 3\n",
       "\n",
       "| <!--/--> | ESTE &lt;dbl&gt; | NORTE &lt;dbl&gt; | pH &lt;dbl&gt; |\n",
       "|---|---|---|---|\n",
       "| 1 | 512537.9 | 9056311 | 4.32 |\n",
       "| 2 | 512126.2 | 9057087 | 5.00 |\n",
       "| 3 | 512766.1 | 9056489 | 4.58 |\n",
       "| 4 | 513263.5 | 9055598 | 4.55 |\n",
       "| 5 | 512480.0 | 9056451 | 4.71 |\n",
       "| 6 | 513006.0 | 9056074 | 5.21 |\n",
       "| 7 | 513216.0 | 9055683 | 4.66 |\n",
       "| 8 | 512792.0 | 9056269 | 5.36 |\n",
       "| 9 | 512919.0 | 9056237 | 4.89 |\n",
       "| 10 | 512194.5 | 9056805 | 4.57 |\n",
       "| 11 | 513194.0 | 9055999 | 5.18 |\n",
       "| 12 | 511953.5 | 9056986 | 4.61 |\n",
       "| 13 | 512581.4 | 9056579 | 4.24 |\n",
       "| 14 | 513150.0 | 9055818 | 4.81 |\n",
       "| 15 | 512264.5 | 9056605 | 4.50 |\n",
       "| 16 | 512324.8 | 9056816 | 4.93 |\n",
       "| 17 | 512396.1 | 9056711 | 4.37 |\n",
       "| 18 | 512134.9 | 9056902 | 4.70 |\n",
       "| 19 | 512088.9 | 9056991 | 4.80 |\n",
       "| 20 | 512998.0 | 9055943 | 5.29 |\n",
       "| 21 | 512571.7 | 9056671 | 4.72 |\n",
       "| 22 | 512821.1 | 9056154 | 5.22 |\n",
       "| 23 | 512438.9 | 9056834 | 4.60 |\n",
       "| 24 | 512308.7 | 9056967 | 4.84 |\n",
       "| 25 | 512639.7 | 9056425 | 5.21 |\n",
       "| 26 | 512427.2 | 9056601 | 4.79 |\n",
       "| 27 | 512918.8 | 9056040 | 5.20 |\n",
       "| 28 | 513236.1 | 9055922 | 4.50 |\n",
       "\n"
      ],
      "text/plain": [
       "   ESTE     NORTE   pH  \n",
       "1  512537.9 9056311 4.32\n",
       "2  512126.2 9057087 5.00\n",
       "3  512766.1 9056489 4.58\n",
       "4  513263.5 9055598 4.55\n",
       "5  512480.0 9056451 4.71\n",
       "6  513006.0 9056074 5.21\n",
       "7  513216.0 9055683 4.66\n",
       "8  512792.0 9056269 5.36\n",
       "9  512919.0 9056237 4.89\n",
       "10 512194.5 9056805 4.57\n",
       "11 513194.0 9055999 5.18\n",
       "12 511953.5 9056986 4.61\n",
       "13 512581.4 9056579 4.24\n",
       "14 513150.0 9055818 4.81\n",
       "15 512264.5 9056605 4.50\n",
       "16 512324.8 9056816 4.93\n",
       "17 512396.1 9056711 4.37\n",
       "18 512134.9 9056902 4.70\n",
       "19 512088.9 9056991 4.80\n",
       "20 512998.0 9055943 5.29\n",
       "21 512571.7 9056671 4.72\n",
       "22 512821.1 9056154 5.22\n",
       "23 512438.9 9056834 4.60\n",
       "24 512308.7 9056967 4.84\n",
       "25 512639.7 9056425 5.21\n",
       "26 512427.2 9056601 4.79\n",
       "27 512918.8 9056040 5.20\n",
       "28 513236.1 9055922 4.50"
      ]
     },
     "metadata": {},
     "output_type": "display_data"
    }
   ],
   "source": [
    "soil_eea"
   ]
  },
  {
   "cell_type": "code",
   "execution_count": 69,
   "id": "fb3db6ca-4c78-4429-b050-a981ac1c050e",
   "metadata": {
    "tags": []
   },
   "outputs": [],
   "source": [
    "set.seed(2) ## simulate some data... "
   ]
  },
  {
   "cell_type": "code",
   "execution_count": 92,
   "id": "fc3f1f6e-8e49-4ae1-9a5f-dce65571e6c5",
   "metadata": {
    "tags": []
   },
   "outputs": [
    {
     "ename": "ERROR",
     "evalue": "Error in smooth.construct.tp.smooth.spec(object, dk$data, dk$knots): A term has fewer unique covariate combinations than specified maximum degrees of freedom\n",
     "output_type": "error",
     "traceback": [
      "Error in smooth.construct.tp.smooth.spec(object, dk$data, dk$knots): A term has fewer unique covariate combinations than specified maximum degrees of freedom\nTraceback:\n",
      "1. mgcv::gam(pH ~ s(ESTE, NORTE), data = soil_eea)",
      "2. do.call(gsname, list(formula = gp, pterms = pterms, data = mf, \n .     knots = knots, sp = sp, min.sp = min.sp, H = H, absorb.cons = TRUE, \n .     sparse.cons = 0, select = select, idLinksBases = control$idLinksBases, \n .     scale.penalty = control$scalePenalty, paraPen = paraPen, \n .     drop.intercept = drop.intercept))",
      "3. gam.setup(formula = structure(list(pf = pH ~ 1, pfok = 1, smooth.spec = list(\n .     structure(list(term = c(\"ESTE\", \"NORTE\"), bs.dim = -1, fixed = FALSE, \n .         dim = 2L, p.order = NA, by = \"NA\", label = \"s(ESTE,NORTE)\", \n .         xt = NULL, id = NULL, sp = NULL), class = \"tp.smooth.spec\")), \n .     fake.formula = pH ~ 1 + ESTE + NORTE, response = \"pH\", fake.names = c(\"ESTE\", \n .     \"NORTE\"), pred.names = c(\"ESTE\", \"NORTE\"), pred.formula = ~ESTE + \n .         NORTE), class = \"split.gam.formula\"), pterms = pH ~ 1, \n .     data = structure(list(pH = c(4.32, 5, 4.58, 4.55, 4.71, 5.21, \n .     4.66, 5.36, 4.89, 4.57, 5.18, 4.61, 4.24, 4.81, 4.5, 4.93, \n .     4.37, 4.7, 4.8, 5.29, 4.72, 5.22, 4.6, 4.84, 5.21, 4.79, \n .     5.2, 4.5), ESTE = c(512537.9213, 512126.2329, 512766.1295, \n .     513263.4672, 512479.9514, 513005.9896, 513215.9528, 512791.99, \n .     512919.0206, 512194.5349, 513194.0413, 511953.4652, 512581.4279, \n .     513149.9654, 512264.4798, 512324.8209, 512396.0897, 512134.9306, \n .     512088.9356, 512998.0259, 512571.7325, 512821.1227, 512438.9049, \n .     512308.6605, 512639.7173, 512427.1698, 512918.8199, 513236.0562\n .     ), NORTE = c(9056310.882, 9057086.832, 9056489.226, 9055597.589, \n .     9056450.568, 9056074.049, 9055682.952, 9056269.134, 9056236.539, \n .     9056805.195, 9055999.035, 9056986.28, 9056579.138, 9055818.071, \n .     9056604.625, 9056815.576, 9056711.373, 9056902.232, 9056991.451, \n .     9055943.044, 9056670.951, 9056153.874, 9056833.775, 9056967.296, \n .     9056424.801, 9056601.322, 9056040.136, 9055921.966)), terms = pH ~ \n .         1 + ESTE + NORTE, row.names = c(NA, 28L), class = \"data.frame\"), \n .     knots = NULL, sp = NULL, min.sp = NULL, H = NULL, absorb.cons = TRUE, \n .     sparse.cons = 0, select = FALSE, idLinksBases = TRUE, scale.penalty = TRUE, \n .     paraPen = NULL, drop.intercept = FALSE)",
      "4. smoothCon(split$smooth.spec[[i]], data, knots, absorb.cons, scale.penalty = scale.penalty, \n .     null.space.penalty = select, sparse.cons = sparse.cons, diagonal.penalty = diagonal.penalty, \n .     apply.by = apply.by, modCon = modCon)",
      "5. smooth.construct3(object, data, knots)",
      "6. smooth.construct(object, dk$data, dk$knots)",
      "7. smooth.construct.tp.smooth.spec(object, dk$data, dk$knots)"
     ]
    }
   ],
   "source": [
    "fit_GAM <- mgcv::gam( # usando {mgcv}\n",
    "    pH ~ s(ESTE,NORTE),      # aquí vienen nuestros datos X/Y/Z - bastante sencillos\n",
    "    data = soil_eea   # especificar en qué objeto se almacenan los datos\n",
    "    )"
   ]
  },
  {
   "cell_type": "markdown",
   "id": "9df7281c-6889-4d56-bf87-c7f506eb2f7d",
   "metadata": {},
   "source": [
    "## Superficie irregular triangular (TIN)"
   ]
  },
  {
   "cell_type": "code",
   "execution_count": 82,
   "id": "a4ae5482-fb39-49c1-932c-3eee5a11ebb5",
   "metadata": {
    "tags": []
   },
   "outputs": [],
   "source": [
    "fit_TIN <- interp::interp( # usando {interp}\n",
    "    x = soil_eea$ESTE,          # la función en realidad acepta vectores de coordenadas\n",
    "    y = soil_eea$NORTE,\n",
    "    z = soil_eea$pH,\n",
    "    xo = grd_template$X,     # aquí definimos la grilla objetivo\n",
    "    yo = grd_template$Y,\n",
    "    output = \"points\"\n",
    "    ) %>% bind_cols()\n"
   ]
  },
  {
   "cell_type": "markdown",
   "id": "41e19cc1-7c82-4146-9ea4-b6bf495e69e1",
   "metadata": {},
   "source": [
    "## Kriging Automático"
   ]
  },
  {
   "cell_type": "code",
   "execution_count": 83,
   "id": "b0981623-b0cb-4305-9e2d-7c4a7a5690ba",
   "metadata": {
    "tags": []
   },
   "outputs": [
    {
     "name": "stdout",
     "output_type": "stream",
     "text": [
      "[using ordinary kriging]\n"
     ]
    }
   ],
   "source": [
    "fit_KRIG <- automap::autoKrige(      # usando {automap}\n",
    "    formula = pH ~ 1,                # la interfaz es similar al {gstat} pero\n",
    "    input_data = sp_suelo # {automap} hace muchas suposiciones por ti\n",
    ") %>% \n",
    "    .$krige_output %>% # la función devuelve un objeto complejo con mucha metainformación\n",
    "    as.data.frame() %>% # conservamos solo los datos que nos interesa\n",
    "    dplyr::select(X = x1, Y = x2, Z = var1.pred)"
   ]
  },
  {
   "cell_type": "markdown",
   "id": "89f1da3b-7442-41c9-ace8-2d811d5205c2",
   "metadata": {},
   "source": [
    "# Interpolar"
   ]
  },
  {
   "cell_type": "markdown",
   "id": "0e42e1b6-6954-4081-bcfa-b1071c6e9f40",
   "metadata": {},
   "source": [
    "## Triangular Irregular Surface"
   ]
  },
  {
   "cell_type": "code",
   "execution_count": 84,
   "id": "61d10603-3978-40c9-a5d2-7383e57dd85d",
   "metadata": {},
   "outputs": [],
   "source": [
    "interp_TIN <- raster::rasterFromXYZ(fit_TIN, crs = crs_raster_format)"
   ]
  },
  {
   "cell_type": "code",
   "execution_count": 85,
   "id": "e05840bc-5efd-4769-9a00-912776f52db3",
   "metadata": {},
   "outputs": [],
   "source": [
    "interp_KRIG <- raster::rasterFromXYZ(fit_KRIG, crs = crs_raster_format)"
   ]
  },
  {
   "cell_type": "code",
   "execution_count": 86,
   "id": "3f3c15a9-4e2d-4b37-8c2c-7239dafd14b4",
   "metadata": {
    "tags": []
   },
   "outputs": [
    {
     "name": "stdout",
     "output_type": "stream",
     "text": [
      "[inverse distance weighted interpolation]\n"
     ]
    }
   ],
   "source": [
    "# Nearest Neighbor\n",
    "interp_NN <- interpolate(grd_template_raster, fit_NN)"
   ]
  },
  {
   "cell_type": "code",
   "execution_count": 87,
   "id": "4bd1dce3-1038-40ec-a117-111e4754b740",
   "metadata": {
    "tags": []
   },
   "outputs": [
    {
     "name": "stdout",
     "output_type": "stream",
     "text": [
      "[inverse distance weighted interpolation]\n"
     ]
    }
   ],
   "source": [
    "# Inverse Distance Weighting\n",
    "interp_IDW <- interpolate(grd_template_raster, fit_IDW)"
   ]
  },
  {
   "cell_type": "code",
   "execution_count": 88,
   "id": "1b58e9df-6731-44c0-9d2a-3043b9349ebb",
   "metadata": {
    "tags": []
   },
   "outputs": [],
   "source": [
    "# Thin Plate Spline Regression\n",
    "interp_TPS <- interpolate(grd_template_raster, fit_TPS)"
   ]
  },
  {
   "cell_type": "code",
   "execution_count": 91,
   "id": "f052889a-fb48-4cf8-9019-5a1c1bc87818",
   "metadata": {
    "tags": []
   },
   "outputs": [
    {
     "ename": "ERROR",
     "evalue": "\u001b[1m\u001b[33mError\u001b[39m in `mutate()`:\u001b[22m\n\u001b[1m\u001b[22m\u001b[36mℹ\u001b[39m In argument: `Z = predict(fit_GAM, .)`.\n\u001b[1mCaused by error:\u001b[22m\n\u001b[33m!\u001b[39m objeto 'ESTE' no encontrado\n",
     "output_type": "error",
     "traceback": [
      "\u001b[1m\u001b[33mError\u001b[39m in `mutate()`:\u001b[22m\n\u001b[1m\u001b[22m\u001b[36mℹ\u001b[39m In argument: `Z = predict(fit_GAM, .)`.\n\u001b[1mCaused by error:\u001b[22m\n\u001b[33m!\u001b[39m objeto 'ESTE' no encontrado\nTraceback:\n",
      "1. grd_template %>% mutate(Z = predict(fit_GAM, .)) %>% rasterFromXYZ(crs = crs_raster_format)",
      "2. rasterFromXYZ(., crs = crs_raster_format)",
      "3. mutate(., Z = predict(fit_GAM, .))",
      "4. mutate.data.frame(., Z = predict(fit_GAM, .))",
      "5. mutate_cols(.data, dplyr_quosures(...), by)",
      "6. withCallingHandlers(for (i in seq_along(dots)) {\n .     poke_error_context(dots, i, mask = mask)\n .     context_poke(\"column\", old_current_column)\n .     new_columns <- mutate_col(dots[[i]], data, mask, new_columns)\n . }, error = dplyr_error_handler(dots = dots, mask = mask, bullets = mutate_bullets, \n .     error_call = error_call, error_class = \"dplyr:::mutate_error\"), \n .     warning = dplyr_warning_handler(state = warnings_state, mask = mask, \n .         error_call = error_call))",
      "7. mutate_col(dots[[i]], data, mask, new_columns)",
      "8. mask$eval_all_mutate(quo)",
      "9. eval()",
      "10. predict(fit_GAM, .)",
      "11. predict(fit_GAM, .)",
      "12. predict.gam(fit_GAM, .)",
      "13. eval(model.frame(ff, data = newdata, na.action = na.act), parent.frame())",
      "14. model.frame(ff, data = newdata, na.action = na.act)",
      "15. model.frame.default(ff, data = newdata, na.action = na.act)",
      "16. eval(predvars, data, env)",
      "17. eval(predvars, data, env)",
      "18. .handleSimpleError(function (cnd) \n  . {\n  .     local_error_context(dots, i = frame[[i_sym]], mask = mask)\n  .     if (inherits(cnd, \"dplyr:::internal_error\")) {\n  .         parent <- error_cnd(message = bullets(cnd))\n  .     }\n  .     else {\n  .         parent <- cnd\n  .     }\n  .     message <- c(cnd_bullet_header(action), i = if (has_active_group_context(mask)) cnd_bullet_cur_group_label())\n  .     abort(message, class = error_class, parent = parent, call = error_call)\n  . }, \"objeto 'ESTE' no encontrado\", base::quote(eval(predvars, \n  .     data, env)))",
      "19. h(simpleError(msg, call))",
      "20. abort(message, class = error_class, parent = parent, call = error_call)",
      "21. signal_abort(cnd, .file)"
     ]
    }
   ],
   "source": [
    "# Modelo Aditivo Generalizado\n",
    "interp_GAM <- grd_template %>% \n",
    "  mutate(Z = predict(fit_GAM, .)) %>% \n",
    "  rasterFromXYZ(crs = crs_raster_format)"
   ]
  },
  {
   "cell_type": "code",
   "execution_count": 49,
   "id": "5f8f3e5b-23ca-4b98-a73d-7bae37cd8199",
   "metadata": {
    "tags": []
   },
   "outputs": [],
   "source": [
    "## Visualización de Resultados de la Interpolación\n",
    "\n",
    "plot_my_rasters <- function(raster_object, raster_name){\n",
    "  \n",
    "  df <- rasterToPoints(raster_object) %>% as_tibble()\n",
    "  colnames(df) <- c(\"X\", \"Y\", \"Z\")\n",
    "  \n",
    "  ggplot(df, aes(x = X, y = Y, fill = Z)) +\n",
    "    geom_raster() +\n",
    "    ggtitle(label = raster_name) +\n",
    "    scale_fill_viridis(option = \"C\") +\n",
    "    theme_bw() +\n",
    "    theme(\n",
    "      axis.text = element_blank(),\n",
    "      axis.title = element_blank(),\n",
    "      axis.ticks = element_blank()\n",
    "    )\n",
    "}"
   ]
  },
  {
   "cell_type": "code",
   "execution_count": 50,
   "id": "6aa76b9e-228d-4eb5-982c-ca5e9715da0a",
   "metadata": {
    "tags": []
   },
   "outputs": [
    {
     "ename": "ERROR",
     "evalue": "Error in eval(expr, envir, enclos): objeto 'interp_GAM' no encontrado\n",
     "output_type": "error",
     "traceback": [
      "Error in eval(expr, envir, enclos): objeto 'interp_GAM' no encontrado\nTraceback:\n"
     ]
    }
   ],
   "source": [
    "rasterlist <- list(\n",
    "    \"Nearest Neighbor\" = interp_NN, \n",
    "    \"Inverse Distance Weighted\" = interp_IDW, \n",
    "    \"Kriging\" = interp_KRIG, \n",
    "    \"Thin Plate Spline Regression\" = interp_TPS,\n",
    "    \"Triangular Irregular Surface\" = interp_TIN, \n",
    "    \"Generalized Additive Model\" = interp_GAM\n",
    "  )"
   ]
  },
  {
   "cell_type": "code",
   "execution_count": 51,
   "id": "116c0a03-4d42-4fad-892d-e7f32615251c",
   "metadata": {
    "tags": []
   },
   "outputs": [
    {
     "ename": "ERROR",
     "evalue": "Error in vctrs_vec_compat(.x, .purrr_user_env): objeto 'rasterlist' no encontrado\n",
     "output_type": "error",
     "traceback": [
      "Error in vctrs_vec_compat(.x, .purrr_user_env): objeto 'rasterlist' no encontrado\nTraceback:\n",
      "1. map2(rasterlist, names(rasterlist), plot_my_rasters)",
      "2. map2_(\"list\", .x, .y, .f, ..., .progress = .progress)",
      "3. vctrs_vec_compat(.x, .purrr_user_env)"
     ]
    }
   ],
   "source": [
    "plotlist <- map2(\n",
    "  rasterlist,\n",
    "  names(rasterlist),\n",
    "  plot_my_rasters\n",
    ")"
   ]
  },
  {
   "cell_type": "code",
   "execution_count": 52,
   "id": "19ea2a39-e6bc-4109-9b88-ed7906302e91",
   "metadata": {
    "tags": []
   },
   "outputs": [
    {
     "ename": "ERROR",
     "evalue": "Error in eval(expr, envir, enclos): objeto 'plotlist' no encontrado\n",
     "output_type": "error",
     "traceback": [
      "Error in eval(expr, envir, enclos): objeto 'plotlist' no encontrado\nTraceback:\n"
     ]
    }
   ],
   "source": [
    "(plotlist[[1]] + plotlist[[2]]) /\n",
    "  (plotlist[[3]] + plotlist[[4]]) /\n",
    "  (plotlist[[5]] + plotlist[[6]])"
   ]
  },
  {
   "cell_type": "code",
   "execution_count": null,
   "id": "3af28855-a594-4a83-938b-f88193741a29",
   "metadata": {},
   "outputs": [],
   "source": []
  }
 ],
 "metadata": {
  "kernelspec": {
   "display_name": "R",
   "language": "R",
   "name": "ir"
  },
  "language_info": {
   "codemirror_mode": "r",
   "file_extension": ".r",
   "mimetype": "text/x-r-source",
   "name": "R",
   "pygments_lexer": "r",
   "version": "4.3.1"
  },
  "widgets": {
   "application/vnd.jupyter.widget-state+json": {
    "state": {},
    "version_major": 2,
    "version_minor": 0
   }
  }
 },
 "nbformat": 4,
 "nbformat_minor": 5
}
