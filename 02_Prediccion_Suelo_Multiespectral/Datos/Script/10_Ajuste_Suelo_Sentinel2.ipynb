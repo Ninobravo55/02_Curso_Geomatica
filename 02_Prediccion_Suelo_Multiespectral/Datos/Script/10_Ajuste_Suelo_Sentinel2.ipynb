{
 "cells": [
  {
   "cell_type": "markdown",
   "id": "52875324-b7d4-406a-b998-971ec9e26f5c",
   "metadata": {},
   "source": [
    "# Realizar el ajuste con los residuos regresion lineal"
   ]
  },
  {
   "cell_type": "code",
   "execution_count": 10,
   "id": "1ad393d2-aeb1-4a6f-b23f-2e5804481e87",
   "metadata": {
    "tags": []
   },
   "outputs": [],
   "source": [
    "library(sp)\n",
    "library(raster)"
   ]
  },
  {
   "cell_type": "code",
   "execution_count": 1,
   "id": "b3695540-cecd-4eef-a391-112ca0dceb90",
   "metadata": {
    "tags": []
   },
   "outputs": [
    {
     "data": {
      "text/html": [
       "'C:/Users/AGPRES/Jupyter_Python/AGPRES/Datos_suelo/Script'"
      ],
      "text/latex": [
       "'C:/Users/AGPRES/Jupyter\\_Python/AGPRES/Datos\\_suelo/Script'"
      ],
      "text/markdown": [
       "'C:/Users/AGPRES/Jupyter_Python/AGPRES/Datos_suelo/Script'"
      ],
      "text/plain": [
       "[1] \"C:/Users/AGPRES/Jupyter_Python/AGPRES/Datos_suelo/Script\""
      ]
     },
     "metadata": {},
     "output_type": "display_data"
    }
   ],
   "source": [
    "getwd()"
   ]
  },
  {
   "cell_type": "code",
   "execution_count": 2,
   "id": "6fecda5f-6a8d-489e-b957-e6b39a4b97d9",
   "metadata": {
    "tags": []
   },
   "outputs": [],
   "source": [
    "setwd(r\"(C:\\Users\\AGPRES\\Jupyter_Python\\AGPRES\\Datos_suelo\\Satelite\\Sentinel2\\Bandas)\")"
   ]
  },
  {
   "cell_type": "code",
   "execution_count": 3,
   "id": "9a112fc3-4b1f-48eb-a481-fcbff7b4edf7",
   "metadata": {
    "tags": []
   },
   "outputs": [
    {
     "data": {
      "text/html": [
       "'C:/Users/AGPRES/Jupyter_Python/AGPRES/Datos_suelo/Satelite/Sentinel2/Bandas/Banda_select/RASTER_PREDICCION/'"
      ],
      "text/latex": [
       "'C:/Users/AGPRES/Jupyter\\_Python/AGPRES/Datos\\_suelo/Satelite/Sentinel2/Bandas/Banda\\_select/RASTER\\_PREDICCION/'"
      ],
      "text/markdown": [
       "'C:/Users/AGPRES/Jupyter_Python/AGPRES/Datos_suelo/Satelite/Sentinel2/Bandas/Banda_select/RASTER_PREDICCION/'"
      ],
      "text/plain": [
       "[1] \"C:/Users/AGPRES/Jupyter_Python/AGPRES/Datos_suelo/Satelite/Sentinel2/Bandas/Banda_select/RASTER_PREDICCION/\""
      ]
     },
     "metadata": {},
     "output_type": "display_data"
    }
   ],
   "source": [
    "dir_prediccion <- paste(getwd(),\"/Banda_select/RASTER_PREDICCION/\",sep = \"\")\n",
    "dir_prediccion"
   ]
  },
  {
   "cell_type": "code",
   "execution_count": 4,
   "id": "6b1fec7a-2e82-480d-949b-43db2df874c0",
   "metadata": {
    "tags": []
   },
   "outputs": [
    {
     "data": {
      "text/html": [
       "'C:/Users/AGPRES/Jupyter_Python/AGPRES/Datos_suelo/Satelite/Sentinel2/Bandas/SHP/Raster_residuo/'"
      ],
      "text/latex": [
       "'C:/Users/AGPRES/Jupyter\\_Python/AGPRES/Datos\\_suelo/Satelite/Sentinel2/Bandas/SHP/Raster\\_residuo/'"
      ],
      "text/markdown": [
       "'C:/Users/AGPRES/Jupyter_Python/AGPRES/Datos_suelo/Satelite/Sentinel2/Bandas/SHP/Raster_residuo/'"
      ],
      "text/plain": [
       "[1] \"C:/Users/AGPRES/Jupyter_Python/AGPRES/Datos_suelo/Satelite/Sentinel2/Bandas/SHP/Raster_residuo/\""
      ]
     },
     "metadata": {},
     "output_type": "display_data"
    }
   ],
   "source": [
    "dir_residuo <- paste(getwd(),\"/SHP/Raster_residuo/\",sep = \"\")\n",
    "dir_residuo"
   ]
  },
  {
   "cell_type": "code",
   "execution_count": 5,
   "id": "b63fbc30-38d6-472b-96b4-2cb4c54d0048",
   "metadata": {
    "tags": []
   },
   "outputs": [
    {
     "data": {
      "text/html": [
       "<style>\n",
       ".list-inline {list-style: none; margin:0; padding: 0}\n",
       ".list-inline>li {display: inline-block}\n",
       ".list-inline>li:not(:last-child)::after {content: \"\\00b7\"; padding: 0 .5ex}\n",
       "</style>\n",
       "<ol class=list-inline><li>'C:/Users/AGPRES/Jupyter_Python/AGPRES/Datos_suelo/Satelite/Sentinel2/Bandas/Banda_select/RASTER_PREDICCION/Prediccion_Al.tif'</li><li>'C:/Users/AGPRES/Jupyter_Python/AGPRES/Datos_suelo/Satelite/Sentinel2/Bandas/Banda_select/RASTER_PREDICCION/Prediccion_Arcilla.tif'</li><li>'C:/Users/AGPRES/Jupyter_Python/AGPRES/Datos_suelo/Satelite/Sentinel2/Bandas/Banda_select/RASTER_PREDICCION/Prediccion_Arena.tif'</li><li>'C:/Users/AGPRES/Jupyter_Python/AGPRES/Datos_suelo/Satelite/Sentinel2/Bandas/Banda_select/RASTER_PREDICCION/Prediccion_BT.tif'</li><li>'C:/Users/AGPRES/Jupyter_Python/AGPRES/Datos_suelo/Satelite/Sentinel2/Bandas/Banda_select/RASTER_PREDICCION/Prediccion_Ca.tif'</li><li>'C:/Users/AGPRES/Jupyter_Python/AGPRES/Datos_suelo/Satelite/Sentinel2/Bandas/Banda_select/RASTER_PREDICCION/Prediccion_CE.tif'</li><li>'C:/Users/AGPRES/Jupyter_Python/AGPRES/Datos_suelo/Satelite/Sentinel2/Bandas/Banda_select/RASTER_PREDICCION/Prediccion_CICe.tif'</li><li>'C:/Users/AGPRES/Jupyter_Python/AGPRES/Datos_suelo/Satelite/Sentinel2/Bandas/Banda_select/RASTER_PREDICCION/Prediccion_K.tif'</li><li>'C:/Users/AGPRES/Jupyter_Python/AGPRES/Datos_suelo/Satelite/Sentinel2/Bandas/Banda_select/RASTER_PREDICCION/Prediccion_Limo.tif'</li><li>'C:/Users/AGPRES/Jupyter_Python/AGPRES/Datos_suelo/Satelite/Sentinel2/Bandas/Banda_select/RASTER_PREDICCION/Prediccion_Mg.tif'</li><li>'C:/Users/AGPRES/Jupyter_Python/AGPRES/Datos_suelo/Satelite/Sentinel2/Bandas/Banda_select/RASTER_PREDICCION/Prediccion_MO.tif'</li><li>'C:/Users/AGPRES/Jupyter_Python/AGPRES/Datos_suelo/Satelite/Sentinel2/Bandas/Banda_select/RASTER_PREDICCION/Prediccion_N.tif'</li><li>'C:/Users/AGPRES/Jupyter_Python/AGPRES/Datos_suelo/Satelite/Sentinel2/Bandas/Banda_select/RASTER_PREDICCION/Prediccion_P.tif'</li><li>'C:/Users/AGPRES/Jupyter_Python/AGPRES/Datos_suelo/Satelite/Sentinel2/Bandas/Banda_select/RASTER_PREDICCION/Prediccion_pH.tif'</li><li>'C:/Users/AGPRES/Jupyter_Python/AGPRES/Datos_suelo/Satelite/Sentinel2/Bandas/Banda_select/RASTER_PREDICCION/Prediccion_SAl.tif'</li></ol>\n"
      ],
      "text/latex": [
       "\\begin{enumerate*}\n",
       "\\item 'C:/Users/AGPRES/Jupyter\\_Python/AGPRES/Datos\\_suelo/Satelite/Sentinel2/Bandas/Banda\\_select/RASTER\\_PREDICCION/Prediccion\\_Al.tif'\n",
       "\\item 'C:/Users/AGPRES/Jupyter\\_Python/AGPRES/Datos\\_suelo/Satelite/Sentinel2/Bandas/Banda\\_select/RASTER\\_PREDICCION/Prediccion\\_Arcilla.tif'\n",
       "\\item 'C:/Users/AGPRES/Jupyter\\_Python/AGPRES/Datos\\_suelo/Satelite/Sentinel2/Bandas/Banda\\_select/RASTER\\_PREDICCION/Prediccion\\_Arena.tif'\n",
       "\\item 'C:/Users/AGPRES/Jupyter\\_Python/AGPRES/Datos\\_suelo/Satelite/Sentinel2/Bandas/Banda\\_select/RASTER\\_PREDICCION/Prediccion\\_BT.tif'\n",
       "\\item 'C:/Users/AGPRES/Jupyter\\_Python/AGPRES/Datos\\_suelo/Satelite/Sentinel2/Bandas/Banda\\_select/RASTER\\_PREDICCION/Prediccion\\_Ca.tif'\n",
       "\\item 'C:/Users/AGPRES/Jupyter\\_Python/AGPRES/Datos\\_suelo/Satelite/Sentinel2/Bandas/Banda\\_select/RASTER\\_PREDICCION/Prediccion\\_CE.tif'\n",
       "\\item 'C:/Users/AGPRES/Jupyter\\_Python/AGPRES/Datos\\_suelo/Satelite/Sentinel2/Bandas/Banda\\_select/RASTER\\_PREDICCION/Prediccion\\_CICe.tif'\n",
       "\\item 'C:/Users/AGPRES/Jupyter\\_Python/AGPRES/Datos\\_suelo/Satelite/Sentinel2/Bandas/Banda\\_select/RASTER\\_PREDICCION/Prediccion\\_K.tif'\n",
       "\\item 'C:/Users/AGPRES/Jupyter\\_Python/AGPRES/Datos\\_suelo/Satelite/Sentinel2/Bandas/Banda\\_select/RASTER\\_PREDICCION/Prediccion\\_Limo.tif'\n",
       "\\item 'C:/Users/AGPRES/Jupyter\\_Python/AGPRES/Datos\\_suelo/Satelite/Sentinel2/Bandas/Banda\\_select/RASTER\\_PREDICCION/Prediccion\\_Mg.tif'\n",
       "\\item 'C:/Users/AGPRES/Jupyter\\_Python/AGPRES/Datos\\_suelo/Satelite/Sentinel2/Bandas/Banda\\_select/RASTER\\_PREDICCION/Prediccion\\_MO.tif'\n",
       "\\item 'C:/Users/AGPRES/Jupyter\\_Python/AGPRES/Datos\\_suelo/Satelite/Sentinel2/Bandas/Banda\\_select/RASTER\\_PREDICCION/Prediccion\\_N.tif'\n",
       "\\item 'C:/Users/AGPRES/Jupyter\\_Python/AGPRES/Datos\\_suelo/Satelite/Sentinel2/Bandas/Banda\\_select/RASTER\\_PREDICCION/Prediccion\\_P.tif'\n",
       "\\item 'C:/Users/AGPRES/Jupyter\\_Python/AGPRES/Datos\\_suelo/Satelite/Sentinel2/Bandas/Banda\\_select/RASTER\\_PREDICCION/Prediccion\\_pH.tif'\n",
       "\\item 'C:/Users/AGPRES/Jupyter\\_Python/AGPRES/Datos\\_suelo/Satelite/Sentinel2/Bandas/Banda\\_select/RASTER\\_PREDICCION/Prediccion\\_SAl.tif'\n",
       "\\end{enumerate*}\n"
      ],
      "text/markdown": [
       "1. 'C:/Users/AGPRES/Jupyter_Python/AGPRES/Datos_suelo/Satelite/Sentinel2/Bandas/Banda_select/RASTER_PREDICCION/Prediccion_Al.tif'\n",
       "2. 'C:/Users/AGPRES/Jupyter_Python/AGPRES/Datos_suelo/Satelite/Sentinel2/Bandas/Banda_select/RASTER_PREDICCION/Prediccion_Arcilla.tif'\n",
       "3. 'C:/Users/AGPRES/Jupyter_Python/AGPRES/Datos_suelo/Satelite/Sentinel2/Bandas/Banda_select/RASTER_PREDICCION/Prediccion_Arena.tif'\n",
       "4. 'C:/Users/AGPRES/Jupyter_Python/AGPRES/Datos_suelo/Satelite/Sentinel2/Bandas/Banda_select/RASTER_PREDICCION/Prediccion_BT.tif'\n",
       "5. 'C:/Users/AGPRES/Jupyter_Python/AGPRES/Datos_suelo/Satelite/Sentinel2/Bandas/Banda_select/RASTER_PREDICCION/Prediccion_Ca.tif'\n",
       "6. 'C:/Users/AGPRES/Jupyter_Python/AGPRES/Datos_suelo/Satelite/Sentinel2/Bandas/Banda_select/RASTER_PREDICCION/Prediccion_CE.tif'\n",
       "7. 'C:/Users/AGPRES/Jupyter_Python/AGPRES/Datos_suelo/Satelite/Sentinel2/Bandas/Banda_select/RASTER_PREDICCION/Prediccion_CICe.tif'\n",
       "8. 'C:/Users/AGPRES/Jupyter_Python/AGPRES/Datos_suelo/Satelite/Sentinel2/Bandas/Banda_select/RASTER_PREDICCION/Prediccion_K.tif'\n",
       "9. 'C:/Users/AGPRES/Jupyter_Python/AGPRES/Datos_suelo/Satelite/Sentinel2/Bandas/Banda_select/RASTER_PREDICCION/Prediccion_Limo.tif'\n",
       "10. 'C:/Users/AGPRES/Jupyter_Python/AGPRES/Datos_suelo/Satelite/Sentinel2/Bandas/Banda_select/RASTER_PREDICCION/Prediccion_Mg.tif'\n",
       "11. 'C:/Users/AGPRES/Jupyter_Python/AGPRES/Datos_suelo/Satelite/Sentinel2/Bandas/Banda_select/RASTER_PREDICCION/Prediccion_MO.tif'\n",
       "12. 'C:/Users/AGPRES/Jupyter_Python/AGPRES/Datos_suelo/Satelite/Sentinel2/Bandas/Banda_select/RASTER_PREDICCION/Prediccion_N.tif'\n",
       "13. 'C:/Users/AGPRES/Jupyter_Python/AGPRES/Datos_suelo/Satelite/Sentinel2/Bandas/Banda_select/RASTER_PREDICCION/Prediccion_P.tif'\n",
       "14. 'C:/Users/AGPRES/Jupyter_Python/AGPRES/Datos_suelo/Satelite/Sentinel2/Bandas/Banda_select/RASTER_PREDICCION/Prediccion_pH.tif'\n",
       "15. 'C:/Users/AGPRES/Jupyter_Python/AGPRES/Datos_suelo/Satelite/Sentinel2/Bandas/Banda_select/RASTER_PREDICCION/Prediccion_SAl.tif'\n",
       "\n",
       "\n"
      ],
      "text/plain": [
       " [1] \"C:/Users/AGPRES/Jupyter_Python/AGPRES/Datos_suelo/Satelite/Sentinel2/Bandas/Banda_select/RASTER_PREDICCION/Prediccion_Al.tif\"     \n",
       " [2] \"C:/Users/AGPRES/Jupyter_Python/AGPRES/Datos_suelo/Satelite/Sentinel2/Bandas/Banda_select/RASTER_PREDICCION/Prediccion_Arcilla.tif\"\n",
       " [3] \"C:/Users/AGPRES/Jupyter_Python/AGPRES/Datos_suelo/Satelite/Sentinel2/Bandas/Banda_select/RASTER_PREDICCION/Prediccion_Arena.tif\"  \n",
       " [4] \"C:/Users/AGPRES/Jupyter_Python/AGPRES/Datos_suelo/Satelite/Sentinel2/Bandas/Banda_select/RASTER_PREDICCION/Prediccion_BT.tif\"     \n",
       " [5] \"C:/Users/AGPRES/Jupyter_Python/AGPRES/Datos_suelo/Satelite/Sentinel2/Bandas/Banda_select/RASTER_PREDICCION/Prediccion_Ca.tif\"     \n",
       " [6] \"C:/Users/AGPRES/Jupyter_Python/AGPRES/Datos_suelo/Satelite/Sentinel2/Bandas/Banda_select/RASTER_PREDICCION/Prediccion_CE.tif\"     \n",
       " [7] \"C:/Users/AGPRES/Jupyter_Python/AGPRES/Datos_suelo/Satelite/Sentinel2/Bandas/Banda_select/RASTER_PREDICCION/Prediccion_CICe.tif\"   \n",
       " [8] \"C:/Users/AGPRES/Jupyter_Python/AGPRES/Datos_suelo/Satelite/Sentinel2/Bandas/Banda_select/RASTER_PREDICCION/Prediccion_K.tif\"      \n",
       " [9] \"C:/Users/AGPRES/Jupyter_Python/AGPRES/Datos_suelo/Satelite/Sentinel2/Bandas/Banda_select/RASTER_PREDICCION/Prediccion_Limo.tif\"   \n",
       "[10] \"C:/Users/AGPRES/Jupyter_Python/AGPRES/Datos_suelo/Satelite/Sentinel2/Bandas/Banda_select/RASTER_PREDICCION/Prediccion_Mg.tif\"     \n",
       "[11] \"C:/Users/AGPRES/Jupyter_Python/AGPRES/Datos_suelo/Satelite/Sentinel2/Bandas/Banda_select/RASTER_PREDICCION/Prediccion_MO.tif\"     \n",
       "[12] \"C:/Users/AGPRES/Jupyter_Python/AGPRES/Datos_suelo/Satelite/Sentinel2/Bandas/Banda_select/RASTER_PREDICCION/Prediccion_N.tif\"      \n",
       "[13] \"C:/Users/AGPRES/Jupyter_Python/AGPRES/Datos_suelo/Satelite/Sentinel2/Bandas/Banda_select/RASTER_PREDICCION/Prediccion_P.tif\"      \n",
       "[14] \"C:/Users/AGPRES/Jupyter_Python/AGPRES/Datos_suelo/Satelite/Sentinel2/Bandas/Banda_select/RASTER_PREDICCION/Prediccion_pH.tif\"     \n",
       "[15] \"C:/Users/AGPRES/Jupyter_Python/AGPRES/Datos_suelo/Satelite/Sentinel2/Bandas/Banda_select/RASTER_PREDICCION/Prediccion_SAl.tif\"    "
      ]
     },
     "metadata": {},
     "output_type": "display_data"
    }
   ],
   "source": [
    "# Crear lista del directorio\n",
    "Lista_prediccion <- list.files(path = dir_prediccion, pattern = '.*.tif$',full.names = T)\n",
    "Lista_prediccion"
   ]
  },
  {
   "cell_type": "code",
   "execution_count": 6,
   "id": "a4a54fa0-62ce-429e-a1d3-6feb97c0d1de",
   "metadata": {
    "tags": []
   },
   "outputs": [
    {
     "data": {
      "text/html": [
       "15"
      ],
      "text/latex": [
       "15"
      ],
      "text/markdown": [
       "15"
      ],
      "text/plain": [
       "[1] 15"
      ]
     },
     "metadata": {},
     "output_type": "display_data"
    }
   ],
   "source": [
    "length(Lista_prediccion)"
   ]
  },
  {
   "cell_type": "code",
   "execution_count": 7,
   "id": "5b542392-71d6-4c2d-a483-cb5f6794ff1e",
   "metadata": {
    "tags": []
   },
   "outputs": [
    {
     "data": {
      "text/html": [
       "<style>\n",
       ".list-inline {list-style: none; margin:0; padding: 0}\n",
       ".list-inline>li {display: inline-block}\n",
       ".list-inline>li:not(:last-child)::after {content: \"\\00b7\"; padding: 0 .5ex}\n",
       "</style>\n",
       "<ol class=list-inline><li>'C:/Users/AGPRES/Jupyter_Python/AGPRES/Datos_suelo/Satelite/Sentinel2/Bandas/SHP/Raster_residuo/Residuo_Residuales_Al.shp.tif'</li><li>'C:/Users/AGPRES/Jupyter_Python/AGPRES/Datos_suelo/Satelite/Sentinel2/Bandas/SHP/Raster_residuo/Residuo_Residuales_Arcilla.tif'</li><li>'C:/Users/AGPRES/Jupyter_Python/AGPRES/Datos_suelo/Satelite/Sentinel2/Bandas/SHP/Raster_residuo/Residuo_Residuales_Arena.s.tif'</li><li>'C:/Users/AGPRES/Jupyter_Python/AGPRES/Datos_suelo/Satelite/Sentinel2/Bandas/SHP/Raster_residuo/Residuo_Residuales_BT.shp.tif'</li><li>'C:/Users/AGPRES/Jupyter_Python/AGPRES/Datos_suelo/Satelite/Sentinel2/Bandas/SHP/Raster_residuo/Residuo_Residuales_Ca.shp.tif'</li><li>'C:/Users/AGPRES/Jupyter_Python/AGPRES/Datos_suelo/Satelite/Sentinel2/Bandas/SHP/Raster_residuo/Residuo_Residuales_CE.shp.tif'</li><li>'C:/Users/AGPRES/Jupyter_Python/AGPRES/Datos_suelo/Satelite/Sentinel2/Bandas/SHP/Raster_residuo/Residuo_Residuales_CICe.sh.tif'</li><li>'C:/Users/AGPRES/Jupyter_Python/AGPRES/Datos_suelo/Satelite/Sentinel2/Bandas/SHP/Raster_residuo/Residuo_Residuales_K.shp.tif'</li><li>'C:/Users/AGPRES/Jupyter_Python/AGPRES/Datos_suelo/Satelite/Sentinel2/Bandas/SHP/Raster_residuo/Residuo_Residuales_Limo.sh.tif'</li><li>'C:/Users/AGPRES/Jupyter_Python/AGPRES/Datos_suelo/Satelite/Sentinel2/Bandas/SHP/Raster_residuo/Residuo_Residuales_Mg.shp.tif'</li><li>'C:/Users/AGPRES/Jupyter_Python/AGPRES/Datos_suelo/Satelite/Sentinel2/Bandas/SHP/Raster_residuo/Residuo_Residuales_MO.shp.tif'</li><li>'C:/Users/AGPRES/Jupyter_Python/AGPRES/Datos_suelo/Satelite/Sentinel2/Bandas/SHP/Raster_residuo/Residuo_Residuales_N.shp.tif'</li><li>'C:/Users/AGPRES/Jupyter_Python/AGPRES/Datos_suelo/Satelite/Sentinel2/Bandas/SHP/Raster_residuo/Residuo_Residuales_P.shp.tif'</li><li>'C:/Users/AGPRES/Jupyter_Python/AGPRES/Datos_suelo/Satelite/Sentinel2/Bandas/SHP/Raster_residuo/Residuo_Residuales_pH.shp.tif'</li><li>'C:/Users/AGPRES/Jupyter_Python/AGPRES/Datos_suelo/Satelite/Sentinel2/Bandas/SHP/Raster_residuo/Residuo_Residuales_SAl.shp.tif'</li></ol>\n"
      ],
      "text/latex": [
       "\\begin{enumerate*}\n",
       "\\item 'C:/Users/AGPRES/Jupyter\\_Python/AGPRES/Datos\\_suelo/Satelite/Sentinel2/Bandas/SHP/Raster\\_residuo/Residuo\\_Residuales\\_Al.shp.tif'\n",
       "\\item 'C:/Users/AGPRES/Jupyter\\_Python/AGPRES/Datos\\_suelo/Satelite/Sentinel2/Bandas/SHP/Raster\\_residuo/Residuo\\_Residuales\\_Arcilla.tif'\n",
       "\\item 'C:/Users/AGPRES/Jupyter\\_Python/AGPRES/Datos\\_suelo/Satelite/Sentinel2/Bandas/SHP/Raster\\_residuo/Residuo\\_Residuales\\_Arena.s.tif'\n",
       "\\item 'C:/Users/AGPRES/Jupyter\\_Python/AGPRES/Datos\\_suelo/Satelite/Sentinel2/Bandas/SHP/Raster\\_residuo/Residuo\\_Residuales\\_BT.shp.tif'\n",
       "\\item 'C:/Users/AGPRES/Jupyter\\_Python/AGPRES/Datos\\_suelo/Satelite/Sentinel2/Bandas/SHP/Raster\\_residuo/Residuo\\_Residuales\\_Ca.shp.tif'\n",
       "\\item 'C:/Users/AGPRES/Jupyter\\_Python/AGPRES/Datos\\_suelo/Satelite/Sentinel2/Bandas/SHP/Raster\\_residuo/Residuo\\_Residuales\\_CE.shp.tif'\n",
       "\\item 'C:/Users/AGPRES/Jupyter\\_Python/AGPRES/Datos\\_suelo/Satelite/Sentinel2/Bandas/SHP/Raster\\_residuo/Residuo\\_Residuales\\_CICe.sh.tif'\n",
       "\\item 'C:/Users/AGPRES/Jupyter\\_Python/AGPRES/Datos\\_suelo/Satelite/Sentinel2/Bandas/SHP/Raster\\_residuo/Residuo\\_Residuales\\_K.shp.tif'\n",
       "\\item 'C:/Users/AGPRES/Jupyter\\_Python/AGPRES/Datos\\_suelo/Satelite/Sentinel2/Bandas/SHP/Raster\\_residuo/Residuo\\_Residuales\\_Limo.sh.tif'\n",
       "\\item 'C:/Users/AGPRES/Jupyter\\_Python/AGPRES/Datos\\_suelo/Satelite/Sentinel2/Bandas/SHP/Raster\\_residuo/Residuo\\_Residuales\\_Mg.shp.tif'\n",
       "\\item 'C:/Users/AGPRES/Jupyter\\_Python/AGPRES/Datos\\_suelo/Satelite/Sentinel2/Bandas/SHP/Raster\\_residuo/Residuo\\_Residuales\\_MO.shp.tif'\n",
       "\\item 'C:/Users/AGPRES/Jupyter\\_Python/AGPRES/Datos\\_suelo/Satelite/Sentinel2/Bandas/SHP/Raster\\_residuo/Residuo\\_Residuales\\_N.shp.tif'\n",
       "\\item 'C:/Users/AGPRES/Jupyter\\_Python/AGPRES/Datos\\_suelo/Satelite/Sentinel2/Bandas/SHP/Raster\\_residuo/Residuo\\_Residuales\\_P.shp.tif'\n",
       "\\item 'C:/Users/AGPRES/Jupyter\\_Python/AGPRES/Datos\\_suelo/Satelite/Sentinel2/Bandas/SHP/Raster\\_residuo/Residuo\\_Residuales\\_pH.shp.tif'\n",
       "\\item 'C:/Users/AGPRES/Jupyter\\_Python/AGPRES/Datos\\_suelo/Satelite/Sentinel2/Bandas/SHP/Raster\\_residuo/Residuo\\_Residuales\\_SAl.shp.tif'\n",
       "\\end{enumerate*}\n"
      ],
      "text/markdown": [
       "1. 'C:/Users/AGPRES/Jupyter_Python/AGPRES/Datos_suelo/Satelite/Sentinel2/Bandas/SHP/Raster_residuo/Residuo_Residuales_Al.shp.tif'\n",
       "2. 'C:/Users/AGPRES/Jupyter_Python/AGPRES/Datos_suelo/Satelite/Sentinel2/Bandas/SHP/Raster_residuo/Residuo_Residuales_Arcilla.tif'\n",
       "3. 'C:/Users/AGPRES/Jupyter_Python/AGPRES/Datos_suelo/Satelite/Sentinel2/Bandas/SHP/Raster_residuo/Residuo_Residuales_Arena.s.tif'\n",
       "4. 'C:/Users/AGPRES/Jupyter_Python/AGPRES/Datos_suelo/Satelite/Sentinel2/Bandas/SHP/Raster_residuo/Residuo_Residuales_BT.shp.tif'\n",
       "5. 'C:/Users/AGPRES/Jupyter_Python/AGPRES/Datos_suelo/Satelite/Sentinel2/Bandas/SHP/Raster_residuo/Residuo_Residuales_Ca.shp.tif'\n",
       "6. 'C:/Users/AGPRES/Jupyter_Python/AGPRES/Datos_suelo/Satelite/Sentinel2/Bandas/SHP/Raster_residuo/Residuo_Residuales_CE.shp.tif'\n",
       "7. 'C:/Users/AGPRES/Jupyter_Python/AGPRES/Datos_suelo/Satelite/Sentinel2/Bandas/SHP/Raster_residuo/Residuo_Residuales_CICe.sh.tif'\n",
       "8. 'C:/Users/AGPRES/Jupyter_Python/AGPRES/Datos_suelo/Satelite/Sentinel2/Bandas/SHP/Raster_residuo/Residuo_Residuales_K.shp.tif'\n",
       "9. 'C:/Users/AGPRES/Jupyter_Python/AGPRES/Datos_suelo/Satelite/Sentinel2/Bandas/SHP/Raster_residuo/Residuo_Residuales_Limo.sh.tif'\n",
       "10. 'C:/Users/AGPRES/Jupyter_Python/AGPRES/Datos_suelo/Satelite/Sentinel2/Bandas/SHP/Raster_residuo/Residuo_Residuales_Mg.shp.tif'\n",
       "11. 'C:/Users/AGPRES/Jupyter_Python/AGPRES/Datos_suelo/Satelite/Sentinel2/Bandas/SHP/Raster_residuo/Residuo_Residuales_MO.shp.tif'\n",
       "12. 'C:/Users/AGPRES/Jupyter_Python/AGPRES/Datos_suelo/Satelite/Sentinel2/Bandas/SHP/Raster_residuo/Residuo_Residuales_N.shp.tif'\n",
       "13. 'C:/Users/AGPRES/Jupyter_Python/AGPRES/Datos_suelo/Satelite/Sentinel2/Bandas/SHP/Raster_residuo/Residuo_Residuales_P.shp.tif'\n",
       "14. 'C:/Users/AGPRES/Jupyter_Python/AGPRES/Datos_suelo/Satelite/Sentinel2/Bandas/SHP/Raster_residuo/Residuo_Residuales_pH.shp.tif'\n",
       "15. 'C:/Users/AGPRES/Jupyter_Python/AGPRES/Datos_suelo/Satelite/Sentinel2/Bandas/SHP/Raster_residuo/Residuo_Residuales_SAl.shp.tif'\n",
       "\n",
       "\n"
      ],
      "text/plain": [
       " [1] \"C:/Users/AGPRES/Jupyter_Python/AGPRES/Datos_suelo/Satelite/Sentinel2/Bandas/SHP/Raster_residuo/Residuo_Residuales_Al.shp.tif\" \n",
       " [2] \"C:/Users/AGPRES/Jupyter_Python/AGPRES/Datos_suelo/Satelite/Sentinel2/Bandas/SHP/Raster_residuo/Residuo_Residuales_Arcilla.tif\"\n",
       " [3] \"C:/Users/AGPRES/Jupyter_Python/AGPRES/Datos_suelo/Satelite/Sentinel2/Bandas/SHP/Raster_residuo/Residuo_Residuales_Arena.s.tif\"\n",
       " [4] \"C:/Users/AGPRES/Jupyter_Python/AGPRES/Datos_suelo/Satelite/Sentinel2/Bandas/SHP/Raster_residuo/Residuo_Residuales_BT.shp.tif\" \n",
       " [5] \"C:/Users/AGPRES/Jupyter_Python/AGPRES/Datos_suelo/Satelite/Sentinel2/Bandas/SHP/Raster_residuo/Residuo_Residuales_Ca.shp.tif\" \n",
       " [6] \"C:/Users/AGPRES/Jupyter_Python/AGPRES/Datos_suelo/Satelite/Sentinel2/Bandas/SHP/Raster_residuo/Residuo_Residuales_CE.shp.tif\" \n",
       " [7] \"C:/Users/AGPRES/Jupyter_Python/AGPRES/Datos_suelo/Satelite/Sentinel2/Bandas/SHP/Raster_residuo/Residuo_Residuales_CICe.sh.tif\"\n",
       " [8] \"C:/Users/AGPRES/Jupyter_Python/AGPRES/Datos_suelo/Satelite/Sentinel2/Bandas/SHP/Raster_residuo/Residuo_Residuales_K.shp.tif\"  \n",
       " [9] \"C:/Users/AGPRES/Jupyter_Python/AGPRES/Datos_suelo/Satelite/Sentinel2/Bandas/SHP/Raster_residuo/Residuo_Residuales_Limo.sh.tif\"\n",
       "[10] \"C:/Users/AGPRES/Jupyter_Python/AGPRES/Datos_suelo/Satelite/Sentinel2/Bandas/SHP/Raster_residuo/Residuo_Residuales_Mg.shp.tif\" \n",
       "[11] \"C:/Users/AGPRES/Jupyter_Python/AGPRES/Datos_suelo/Satelite/Sentinel2/Bandas/SHP/Raster_residuo/Residuo_Residuales_MO.shp.tif\" \n",
       "[12] \"C:/Users/AGPRES/Jupyter_Python/AGPRES/Datos_suelo/Satelite/Sentinel2/Bandas/SHP/Raster_residuo/Residuo_Residuales_N.shp.tif\"  \n",
       "[13] \"C:/Users/AGPRES/Jupyter_Python/AGPRES/Datos_suelo/Satelite/Sentinel2/Bandas/SHP/Raster_residuo/Residuo_Residuales_P.shp.tif\"  \n",
       "[14] \"C:/Users/AGPRES/Jupyter_Python/AGPRES/Datos_suelo/Satelite/Sentinel2/Bandas/SHP/Raster_residuo/Residuo_Residuales_pH.shp.tif\" \n",
       "[15] \"C:/Users/AGPRES/Jupyter_Python/AGPRES/Datos_suelo/Satelite/Sentinel2/Bandas/SHP/Raster_residuo/Residuo_Residuales_SAl.shp.tif\""
      ]
     },
     "metadata": {},
     "output_type": "display_data"
    }
   ],
   "source": [
    "# Crear lista de SHP del directorio\n",
    "Lista_residuo <- list.files(path = dir_residuo, pattern = '.*.tif$',full.names = T)\n",
    "Lista_residuo"
   ]
  },
  {
   "cell_type": "code",
   "execution_count": 8,
   "id": "8ff9ae45-e977-428a-ab87-17ef287d2ec4",
   "metadata": {
    "tags": []
   },
   "outputs": [
    {
     "data": {
      "text/html": [
       "15"
      ],
      "text/latex": [
       "15"
      ],
      "text/markdown": [
       "15"
      ],
      "text/plain": [
       "[1] 15"
      ]
     },
     "metadata": {},
     "output_type": "display_data"
    }
   ],
   "source": [
    "length(Lista_residuo)"
   ]
  },
  {
   "cell_type": "code",
   "execution_count": 11,
   "id": "8ad09a34-00df-4dd6-8838-25dd3520af83",
   "metadata": {
    "tags": []
   },
   "outputs": [],
   "source": [
    "raster_residuo <- stack(Lista_residuo)\n",
    "raster_prediccion <- stack(Lista_prediccion)"
   ]
  },
  {
   "cell_type": "code",
   "execution_count": 12,
   "id": "e14205bd-71c6-44d5-bb66-25aa7a3e79b8",
   "metadata": {
    "tags": []
   },
   "outputs": [
    {
     "data": {
      "text/html": [
       "<style>\n",
       ".list-inline {list-style: none; margin:0; padding: 0}\n",
       ".list-inline>li {display: inline-block}\n",
       ".list-inline>li:not(:last-child)::after {content: \"\\00b7\"; padding: 0 .5ex}\n",
       "</style>\n",
       "<ol class=list-inline><li>'Residuo_Residuales_Al.shp'</li><li>'Residuo_Residuales_Arcilla'</li><li>'Residuo_Residuales_Arena.s'</li><li>'Residuo_Residuales_BT.shp'</li><li>'Residuo_Residuales_Ca.shp'</li><li>'Residuo_Residuales_CE.shp'</li><li>'Residuo_Residuales_CICe.sh'</li><li>'Residuo_Residuales_K.shp'</li><li>'Residuo_Residuales_Limo.sh'</li><li>'Residuo_Residuales_Mg.shp'</li><li>'Residuo_Residuales_MO.shp'</li><li>'Residuo_Residuales_N.shp'</li><li>'Residuo_Residuales_P.shp'</li><li>'Residuo_Residuales_pH.shp'</li><li>'Residuo_Residuales_SAl.shp'</li></ol>\n"
      ],
      "text/latex": [
       "\\begin{enumerate*}\n",
       "\\item 'Residuo\\_Residuales\\_Al.shp'\n",
       "\\item 'Residuo\\_Residuales\\_Arcilla'\n",
       "\\item 'Residuo\\_Residuales\\_Arena.s'\n",
       "\\item 'Residuo\\_Residuales\\_BT.shp'\n",
       "\\item 'Residuo\\_Residuales\\_Ca.shp'\n",
       "\\item 'Residuo\\_Residuales\\_CE.shp'\n",
       "\\item 'Residuo\\_Residuales\\_CICe.sh'\n",
       "\\item 'Residuo\\_Residuales\\_K.shp'\n",
       "\\item 'Residuo\\_Residuales\\_Limo.sh'\n",
       "\\item 'Residuo\\_Residuales\\_Mg.shp'\n",
       "\\item 'Residuo\\_Residuales\\_MO.shp'\n",
       "\\item 'Residuo\\_Residuales\\_N.shp'\n",
       "\\item 'Residuo\\_Residuales\\_P.shp'\n",
       "\\item 'Residuo\\_Residuales\\_pH.shp'\n",
       "\\item 'Residuo\\_Residuales\\_SAl.shp'\n",
       "\\end{enumerate*}\n"
      ],
      "text/markdown": [
       "1. 'Residuo_Residuales_Al.shp'\n",
       "2. 'Residuo_Residuales_Arcilla'\n",
       "3. 'Residuo_Residuales_Arena.s'\n",
       "4. 'Residuo_Residuales_BT.shp'\n",
       "5. 'Residuo_Residuales_Ca.shp'\n",
       "6. 'Residuo_Residuales_CE.shp'\n",
       "7. 'Residuo_Residuales_CICe.sh'\n",
       "8. 'Residuo_Residuales_K.shp'\n",
       "9. 'Residuo_Residuales_Limo.sh'\n",
       "10. 'Residuo_Residuales_Mg.shp'\n",
       "11. 'Residuo_Residuales_MO.shp'\n",
       "12. 'Residuo_Residuales_N.shp'\n",
       "13. 'Residuo_Residuales_P.shp'\n",
       "14. 'Residuo_Residuales_pH.shp'\n",
       "15. 'Residuo_Residuales_SAl.shp'\n",
       "\n",
       "\n"
      ],
      "text/plain": [
       " [1] \"Residuo_Residuales_Al.shp\"  \"Residuo_Residuales_Arcilla\"\n",
       " [3] \"Residuo_Residuales_Arena.s\" \"Residuo_Residuales_BT.shp\" \n",
       " [5] \"Residuo_Residuales_Ca.shp\"  \"Residuo_Residuales_CE.shp\" \n",
       " [7] \"Residuo_Residuales_CICe.sh\" \"Residuo_Residuales_K.shp\"  \n",
       " [9] \"Residuo_Residuales_Limo.sh\" \"Residuo_Residuales_Mg.shp\" \n",
       "[11] \"Residuo_Residuales_MO.shp\"  \"Residuo_Residuales_N.shp\"  \n",
       "[13] \"Residuo_Residuales_P.shp\"   \"Residuo_Residuales_pH.shp\" \n",
       "[15] \"Residuo_Residuales_SAl.shp\""
      ]
     },
     "metadata": {},
     "output_type": "display_data"
    }
   ],
   "source": [
    "names(raster_residuo)"
   ]
  },
  {
   "cell_type": "code",
   "execution_count": 13,
   "id": "f2a7cf98-a953-4b65-851c-b8f1f6b24917",
   "metadata": {
    "tags": []
   },
   "outputs": [
    {
     "data": {
      "text/html": [
       "<style>\n",
       ".list-inline {list-style: none; margin:0; padding: 0}\n",
       ".list-inline>li {display: inline-block}\n",
       ".list-inline>li:not(:last-child)::after {content: \"\\00b7\"; padding: 0 .5ex}\n",
       "</style>\n",
       "<ol class=list-inline><li>'Prediccion_Al'</li><li>'Prediccion_Arcilla'</li><li>'Prediccion_Arena'</li><li>'Prediccion_BT'</li><li>'Prediccion_Ca'</li><li>'Prediccion_CE'</li><li>'Prediccion_CICe'</li><li>'Prediccion_K'</li><li>'Prediccion_Limo'</li><li>'Prediccion_Mg'</li><li>'Prediccion_MO'</li><li>'Prediccion_N'</li><li>'Prediccion_P'</li><li>'Prediccion_pH'</li><li>'Prediccion_SAl'</li></ol>\n"
      ],
      "text/latex": [
       "\\begin{enumerate*}\n",
       "\\item 'Prediccion\\_Al'\n",
       "\\item 'Prediccion\\_Arcilla'\n",
       "\\item 'Prediccion\\_Arena'\n",
       "\\item 'Prediccion\\_BT'\n",
       "\\item 'Prediccion\\_Ca'\n",
       "\\item 'Prediccion\\_CE'\n",
       "\\item 'Prediccion\\_CICe'\n",
       "\\item 'Prediccion\\_K'\n",
       "\\item 'Prediccion\\_Limo'\n",
       "\\item 'Prediccion\\_Mg'\n",
       "\\item 'Prediccion\\_MO'\n",
       "\\item 'Prediccion\\_N'\n",
       "\\item 'Prediccion\\_P'\n",
       "\\item 'Prediccion\\_pH'\n",
       "\\item 'Prediccion\\_SAl'\n",
       "\\end{enumerate*}\n"
      ],
      "text/markdown": [
       "1. 'Prediccion_Al'\n",
       "2. 'Prediccion_Arcilla'\n",
       "3. 'Prediccion_Arena'\n",
       "4. 'Prediccion_BT'\n",
       "5. 'Prediccion_Ca'\n",
       "6. 'Prediccion_CE'\n",
       "7. 'Prediccion_CICe'\n",
       "8. 'Prediccion_K'\n",
       "9. 'Prediccion_Limo'\n",
       "10. 'Prediccion_Mg'\n",
       "11. 'Prediccion_MO'\n",
       "12. 'Prediccion_N'\n",
       "13. 'Prediccion_P'\n",
       "14. 'Prediccion_pH'\n",
       "15. 'Prediccion_SAl'\n",
       "\n",
       "\n"
      ],
      "text/plain": [
       " [1] \"Prediccion_Al\"      \"Prediccion_Arcilla\" \"Prediccion_Arena\"  \n",
       " [4] \"Prediccion_BT\"      \"Prediccion_Ca\"      \"Prediccion_CE\"     \n",
       " [7] \"Prediccion_CICe\"    \"Prediccion_K\"       \"Prediccion_Limo\"   \n",
       "[10] \"Prediccion_Mg\"      \"Prediccion_MO\"      \"Prediccion_N\"      \n",
       "[13] \"Prediccion_P\"       \"Prediccion_pH\"      \"Prediccion_SAl\"    "
      ]
     },
     "metadata": {},
     "output_type": "display_data"
    }
   ],
   "source": [
    "names(raster_prediccion)"
   ]
  },
  {
   "cell_type": "code",
   "execution_count": 14,
   "id": "177a420c-e018-4113-8562-6816d5ad2bcd",
   "metadata": {
    "tags": []
   },
   "outputs": [],
   "source": [
    "name_prediccion <- c(\"Predic_AL\",\"Predic_Arcilla\",\"Predic_Arena\",\n",
    "                     \"Predic_BT\",\"Predic_CA\",\"Predic_CE\",\n",
    "                     \"Predic_CICe\",\"Predic_K\",\"Predic_Limo\",\n",
    "                     \"Predic_MG\",\"Predic_MO\",\"Predic_N\",\n",
    "                     \"Predic_P\",\"Predic_PH\",\"Predic_SAl\")"
   ]
  },
  {
   "cell_type": "code",
   "execution_count": 15,
   "id": "9e0d56bb-7490-4cef-8a6a-5d042da1de22",
   "metadata": {
    "tags": []
   },
   "outputs": [],
   "source": [
    "names(raster_prediccion) <- name_prediccion"
   ]
  },
  {
   "cell_type": "code",
   "execution_count": 16,
   "id": "f412cc5a-a70e-4811-9622-d5b04b486854",
   "metadata": {
    "tags": []
   },
   "outputs": [
    {
     "data": {
      "image/png": "[encoded data removed]",
      "text/plain": [
       "Plot with title \"Residuo_Residuales_Al.shp\""
      ]
     },
     "metadata": {
      "image/png": {
       "height": 420,
       "width": 420
      }
     },
     "output_type": "display_data"
    }
   ],
   "source": [
    "plot(raster_residuo[[1]], col = terrain.colors(11), main = names(raster_residuo[[1]]))"
   ]
  },
  {
   "cell_type": "code",
   "execution_count": 17,
   "id": "b870e65e-c079-48b8-86ad-d854f4ee16bc",
   "metadata": {
    "tags": []
   },
   "outputs": [
    {
     "data": {
      "image/png": "[encoded data removed]",
      "text/plain": [
       "Plot with title \"Predic_AL\""
      ]
     },
     "metadata": {
      "image/png": {
       "height": 420,
       "width": 420
      }
     },
     "output_type": "display_data"
    }
   ],
   "source": [
    "plot(raster_prediccion[[1]], col = terrain.colors(11), main = names(raster_prediccion[[1]]))"
   ]
  },
  {
   "cell_type": "code",
   "execution_count": 18,
   "id": "fce32e3d-1e22-4016-8b8b-650b134775e5",
   "metadata": {
    "tags": []
   },
   "outputs": [],
   "source": [
    "for (i in 1:length(Lista_residuo)){\n",
    "    R_Prediccion <- raster_prediccion[[i]]\n",
    "    R_Residuo <- raster_residuo[[i]]\n",
    "    # Resamplear pixcel\n",
    "    R_Prediccion1 <- resample(R_Prediccion, R_Residuo)\n",
    "    # Recortar con el raster para obtener la misma dimension\n",
    "    R_Prediccion1_clip <- crop(R_Prediccion1, R_Residuo)\n",
    "    R_Ajuste <- R_Prediccion1_clip + R_Residuo\n",
    "    name_suelo <- name_prediccion[i]\n",
    "    # Crear una carpeta con el nombre ID imagen y agregar texto\n",
    "    out_dir <- paste(getwd(), '//Prediccion_ajuste', sep='')\n",
    "    suppressWarnings(dir.create(out_dir))\n",
    "    # Exportando el raster\n",
    "    writeRaster(R_Ajuste, paste(out_dir,\"/Ajuste_\", name_suelo,\".tif\",sep = \"\"), drivername=\"Gtiff\",overwrite=TRUE)\n",
    "    }"
   ]
  },
  {
   "cell_type": "code",
   "execution_count": null,
   "id": "72594aa8-fd90-4fb1-b90e-aed67f0bb4f0",
   "metadata": {},
   "outputs": [],
   "source": []
  }
 ],
 "metadata": {
  "kernelspec": {
   "display_name": "R",
   "language": "R",
   "name": "ir"
  },
  "language_info": {
   "codemirror_mode": "r",
   "file_extension": ".r",
   "mimetype": "text/x-r-source",
   "name": "R",
   "pygments_lexer": "r",
   "version": "4.3.2"
  },
  "widgets": {
   "application/vnd.jupyter.widget-state+json": {
    "state": {},
    "version_major": 2,
    "version_minor": 0
   }
  }
 },
 "nbformat": 4,
 "nbformat_minor": 5
}
