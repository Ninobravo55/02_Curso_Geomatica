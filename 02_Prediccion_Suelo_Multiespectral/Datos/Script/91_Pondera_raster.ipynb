{
 "cells": [
  {
   "cell_type": "markdown",
   "id": "cae9703e-17d8-4fea-8b19-c82601e06f1a",
   "metadata": {},
   "source": [
    "# Analizar los resultados futuros"
   ]
  },
  {
   "cell_type": "code",
   "execution_count": 1,
   "id": "51310dbb-3566-4b07-978e-d51cfb25efa3",
   "metadata": {
    "tags": []
   },
   "outputs": [],
   "source": [
    "setwd(r\"(C:\\Users\\AGPRES\\INIA_Pucallpa\\Contrato_3\\Investigacion\\03_Suelo_Teledeteccion\\Satelite\\PUCALLPA\\Sentinel2\\Bandas\\Prediccion_ajuste)\")"
   ]
  },
  {
   "cell_type": "code",
   "execution_count": 2,
   "id": "abce7e88-1c58-4b43-abc4-aa93c6709569",
   "metadata": {
    "tags": []
   },
   "outputs": [
    {
     "data": {
      "text/html": [
       "<style>\n",
       ".list-inline {list-style: none; margin:0; padding: 0}\n",
       ".list-inline>li {display: inline-block}\n",
       ".list-inline>li:not(:last-child)::after {content: \"\\00b7\"; padding: 0 .5ex}\n",
       "</style>\n",
       "<ol class=list-inline><li>'Clasificacion_CE.tif'</li><li>'Clasificacion_K.tif'</li><li>'Clasificacion_MO.tif'</li><li>'Clasificacion_P.tif'</li><li>'Clasificacion_Ph.tif'</li></ol>\n"
      ],
      "text/latex": [
       "\\begin{enumerate*}\n",
       "\\item 'Clasificacion\\_CE.tif'\n",
       "\\item 'Clasificacion\\_K.tif'\n",
       "\\item 'Clasificacion\\_MO.tif'\n",
       "\\item 'Clasificacion\\_P.tif'\n",
       "\\item 'Clasificacion\\_Ph.tif'\n",
       "\\end{enumerate*}\n"
      ],
      "text/markdown": [
       "1. 'Clasificacion_CE.tif'\n",
       "2. 'Clasificacion_K.tif'\n",
       "3. 'Clasificacion_MO.tif'\n",
       "4. 'Clasificacion_P.tif'\n",
       "5. 'Clasificacion_Ph.tif'\n",
       "\n",
       "\n"
      ],
      "text/plain": [
       "[1] \"Clasificacion_CE.tif\" \"Clasificacion_K.tif\"  \"Clasificacion_MO.tif\"\n",
       "[4] \"Clasificacion_P.tif\"  \"Clasificacion_Ph.tif\""
      ]
     },
     "metadata": {},
     "output_type": "display_data"
    }
   ],
   "source": [
    "lista_tif <- list.files(pattern = \"*Clasificacion\")\n",
    "lista_tif"
   ]
  },
  {
   "cell_type": "code",
   "execution_count": 4,
   "id": "c8ceb4d1-d735-41ee-81da-86f3c491cd98",
   "metadata": {
    "tags": []
   },
   "outputs": [],
   "source": [
    "library(sp)\n",
    "library(raster)\n",
    "library(sf)\n",
    "library(rgdal)"
   ]
  },
  {
   "cell_type": "code",
   "execution_count": 5,
   "id": "969190d9-8173-404e-a31c-2993239b8ed2",
   "metadata": {
    "tags": []
   },
   "outputs": [],
   "source": [
    "#install.packages(\"sf\", lib=r\"(C:\\Program Files\\R\\R-4.2.2\\library)\")"
   ]
  },
  {
   "cell_type": "code",
   "execution_count": 6,
   "id": "f5514c2b-f305-4796-b1fd-5ba0f87092ba",
   "metadata": {
    "tags": []
   },
   "outputs": [],
   "source": [
    "Banda_CE <- raster(lista_tif[1])\n",
    "Banda_K <- raster(lista_tif[2])\n",
    "Banda_MO <- raster(lista_tif[3])\n",
    "Banda_P <- raster(lista_tif[4])\n",
    "Banda_PH <- raster(lista_tif[5])"
   ]
  },
  {
   "cell_type": "code",
   "execution_count": 7,
   "id": "af065ac7-2852-4609-aa04-a2e9c50948f9",
   "metadata": {
    "tags": []
   },
   "outputs": [],
   "source": [
    "Banda_Ponderada = (Banda_CE*Banda_K*Banda_MO*Banda_P*Banda_PH)^(1/5)"
   ]
  },
  {
   "cell_type": "code",
   "execution_count": 8,
   "id": "bc8e77c3-df75-4648-b744-3070350f1070",
   "metadata": {
    "tags": []
   },
   "outputs": [
    {
     "data": {
      "image/png": "[encoded data removed]",
      "text/plain": [
       "Plot with title \"\""
      ]
     },
     "metadata": {
      "image/png": {
       "height": 420,
       "width": 420
      }
     },
     "output_type": "display_data"
    }
   ],
   "source": [
    "plot(Banda_Ponderada)"
   ]
  },
  {
   "cell_type": "code",
   "execution_count": 9,
   "id": "4987cd73-7f7c-477c-a005-3c2c265c99fa",
   "metadata": {
    "tags": []
   },
   "outputs": [],
   "source": [
    "# Exportar raster\n",
    "writeRaster(Banda_Ponderada, \"Banda_Ponderada.tif\",\n",
    "            format=\"GTiff\", overwrite=TRUE)"
   ]
  },
  {
   "cell_type": "markdown",
   "id": "6b2326aa-3e45-4c0b-988f-b9868e0a1b42",
   "metadata": {},
   "source": [
    "## Clasificación de calidad del suelo"
   ]
  },
  {
   "cell_type": "markdown",
   "id": "cab028d8-69b2-4668-9150-e2df841549ad",
   "metadata": {},
   "source": [
    "|  Rangos   | Valor |Descripcion |\n",
    "|:-------------------------:|:-----------:|:-----------:|\n",
    "|       < 0.4 |         1     |  Inadecuado  |\n",
    "|       0.4 - 0.6 |         2     |  Marginal  |\n",
    "|       0.6 - 0.8 |         3     |  Moderado  |\n",
    "| > 0.8   |          4     |  Alto  |"
   ]
  },
  {
   "cell_type": "code",
   "execution_count": 10,
   "id": "cb7f731d-ec38-446d-a852-d2c35cd152c3",
   "metadata": {
    "tags": []
   },
   "outputs": [
    {
     "data": {
      "text/html": [
       "<table class=\"dataframe\">\n",
       "<caption>A matrix: 4 × 3 of type dbl</caption>\n",
       "<tbody>\n",
       "\t<tr><td>-Inf</td><td>0.4</td><td>1</td></tr>\n",
       "\t<tr><td> 0.4</td><td>0.6</td><td>2</td></tr>\n",
       "\t<tr><td> 0.6</td><td>0.8</td><td>3</td></tr>\n",
       "\t<tr><td> 0.8</td><td>Inf</td><td>4</td></tr>\n",
       "</tbody>\n",
       "</table>\n"
      ],
      "text/latex": [
       "A matrix: 4 × 3 of type dbl\n",
       "\\begin{tabular}{lll}\n",
       "\t -Inf & 0.4 & 1\\\\\n",
       "\t  0.4 & 0.6 & 2\\\\\n",
       "\t  0.6 & 0.8 & 3\\\\\n",
       "\t  0.8 & Inf & 4\\\\\n",
       "\\end{tabular}\n"
      ],
      "text/markdown": [
       "\n",
       "A matrix: 4 × 3 of type dbl\n",
       "\n",
       "| -Inf | 0.4 | 1 |\n",
       "|  0.4 | 0.6 | 2 |\n",
       "|  0.6 | 0.8 | 3 |\n",
       "|  0.8 | Inf | 4 |\n",
       "\n"
      ],
      "text/plain": [
       "     [,1] [,2] [,3]\n",
       "[1,] -Inf 0.4  1   \n",
       "[2,]  0.4 0.6  2   \n",
       "[3,]  0.6 0.8  3   \n",
       "[4,]  0.8 Inf  4   "
      ]
     },
     "metadata": {},
     "output_type": "display_data"
    }
   ],
   "source": [
    "# Clasificacion en 4 clases\n",
    "Clase_K <- c(-Inf,0.4, 1,\n",
    "           0.4, 0.6, 2,\n",
    "           0.6, 0.8, 3,\n",
    "           0.8, Inf, 4)\n",
    "mat_K <- matrix(Clase_K, ncol = 3, byrow = TRUE)\n",
    "mat_K"
   ]
  },
  {
   "cell_type": "code",
   "execution_count": 11,
   "id": "ba1b281c-8a01-4e02-8239-05ce0f8d7de0",
   "metadata": {
    "tags": []
   },
   "outputs": [],
   "source": [
    "# Reclasificacion raster\n",
    "Clasificacion_calidad_suelo <- reclassify(Banda_Ponderada, mat_K)"
   ]
  },
  {
   "cell_type": "code",
   "execution_count": 12,
   "id": "e771bfe3-10f0-46d9-931c-66ae4414b9ef",
   "metadata": {
    "tags": []
   },
   "outputs": [],
   "source": [
    "# Exportar raster\n",
    "writeRaster(Clasificacion_calidad_suelo, \"Clasificacion_calidad_suelo.tif\",\n",
    "            format=\"GTiff\", overwrite=TRUE)"
   ]
  },
  {
   "cell_type": "code",
   "execution_count": 13,
   "id": "806152a0-0016-4d7f-b8d6-703f72cec640",
   "metadata": {
    "tags": []
   },
   "outputs": [],
   "source": [
    "# Definimos la paleta de colores segun las 4 clases\n",
    "mycolor <- c(\"#b6b2ab\",\"#33b63e\",\"#e0ee1a\",\"#ee0004\")"
   ]
  },
  {
   "cell_type": "code",
   "execution_count": 15,
   "id": "571cf2ed-0fe4-4566-992d-5e4ba9cef1ac",
   "metadata": {
    "tags": []
   },
   "outputs": [
    {
     "data": {
      "image/png": "[encoded data removed]",
      "text/plain": [
       "Plot with title \"Clasificacion calidad del suelo\""
      ]
     },
     "metadata": {
      "image/png": {
       "height": 420,
       "width": 420
      }
     },
     "output_type": "display_data"
    }
   ],
   "source": [
    "# Visualizar de la clasificacion\n",
    "plot(Clasificacion_calidad_suelo, main = \"Clasificacion calidad del suelo\",\n",
    "     axes = TRUE, xlab = \"ESTE\", ylab = \"NORTE\", col= mycolor)"
   ]
  },
  {
   "cell_type": "code",
   "execution_count": null,
   "id": "209567b9-3dfa-4226-92a4-68253a5f2baf",
   "metadata": {},
   "outputs": [],
   "source": []
  }
 ],
 "metadata": {
  "kernelspec": {
   "display_name": "R",
   "language": "R",
   "name": "ir"
  },
  "language_info": {
   "codemirror_mode": "r",
   "file_extension": ".r",
   "mimetype": "text/x-r-source",
   "name": "R",
   "pygments_lexer": "r",
   "version": "4.3.3"
  },
  "widgets": {
   "application/vnd.jupyter.widget-state+json": {
    "state": {},
    "version_major": 2,
    "version_minor": 0
   }
  }
 },
 "nbformat": 4,
 "nbformat_minor": 5
}
