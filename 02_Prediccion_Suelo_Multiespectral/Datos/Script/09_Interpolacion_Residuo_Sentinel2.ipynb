{
 "cells": [
  {
   "cell_type": "markdown",
   "metadata": {},
   "source": [
    "## Interpolación Espacial\n",
    "\n",
    "### Objetivos\n",
    "\n",
    "-   Calcular un variograma empírico\n",
    "\n",
    "-   Ajustar un modelo de variograma\n",
    "\n",
    "-   Interpolar utilizando tres métodos:\n",
    "\n",
    "    -   Interpolación ponderada de distancia inversa (IDW)\n",
    "\n",
    "    -   Kriging ordinario (OK)\n",
    "\n",
    "    -   Kriging universal (UK)\n",
    "\n",
    "-   Evaluar la precisión de la interpolación mediante la validación cruzada Leave-One-Out"
   ]
  },
  {
   "cell_type": "code",
   "execution_count": 2,
   "metadata": {
    "tags": [],
    "vscode": {
     "languageId": "r"
    }
   },
   "outputs": [],
   "source": [
    "library(sf)\n",
    "library(stars)\n",
    "library(gstat)\n",
    "library(automap)"
   ]
  },
  {
   "cell_type": "markdown",
   "metadata": {},
   "source": [
    "### Métodos de interpolación\n",
    "\n",
    "Hay dos métodos de kriging de uso frecuente: Kriging ordinario (OK) y Kriging universal (UK). Sumando la interpolación ponderada de distancia inversa (IDW)."
   ]
  },
  {
   "cell_type": "code",
   "execution_count": 3,
   "metadata": {
    "tags": []
   },
   "outputs": [
    {
     "data": {
      "text/html": [
       "'C:/Users/AGPRES/Jupyter_Python/AGPRES/Datos_suelo/Script'"
      ],
      "text/latex": [
       "'C:/Users/AGPRES/Jupyter\\_Python/AGPRES/Datos\\_suelo/Script'"
      ],
      "text/markdown": [
       "'C:/Users/AGPRES/Jupyter_Python/AGPRES/Datos_suelo/Script'"
      ],
      "text/plain": [
       "[1] \"C:/Users/AGPRES/Jupyter_Python/AGPRES/Datos_suelo/Script\""
      ]
     },
     "metadata": {},
     "output_type": "display_data"
    }
   ],
   "source": [
    "getwd()"
   ]
  },
  {
   "cell_type": "code",
   "execution_count": 4,
   "metadata": {
    "tags": []
   },
   "outputs": [],
   "source": [
    "setwd(r\"(C:\\Users\\AGPRES\\Jupyter_Python\\AGPRES\\Datos_suelo\\Satelite\\Sentinel2\\Bandas\\SHP)\")"
   ]
  },
  {
   "cell_type": "code",
   "execution_count": 5,
   "metadata": {
    "tags": []
   },
   "outputs": [
    {
     "data": {
      "text/html": [
       "<style>\n",
       ".list-inline {list-style: none; margin:0; padding: 0}\n",
       ".list-inline>li {display: inline-block}\n",
       ".list-inline>li:not(:last-child)::after {content: \"\\00b7\"; padding: 0 .5ex}\n",
       "</style>\n",
       "<ol class=list-inline><li>'SHP_Residuales_Al.shp'</li><li>'SHP_Residuales_Arcilla.shp'</li><li>'SHP_Residuales_Arena.shp'</li><li>'SHP_Residuales_BT.shp'</li><li>'SHP_Residuales_Ca.shp'</li><li>'SHP_Residuales_CE.shp'</li><li>'SHP_Residuales_CICe.shp'</li><li>'SHP_Residuales_K.shp'</li><li>'SHP_Residuales_Limo.shp'</li><li>'SHP_Residuales_Mg.shp'</li><li>'SHP_Residuales_MO.shp'</li><li>'SHP_Residuales_N.shp'</li><li>'SHP_Residuales_P.shp'</li><li>'SHP_Residuales_pH.shp'</li><li>'SHP_Residuales_SAl.shp'</li></ol>\n"
      ],
      "text/latex": [
       "\\begin{enumerate*}\n",
       "\\item 'SHP\\_Residuales\\_Al.shp'\n",
       "\\item 'SHP\\_Residuales\\_Arcilla.shp'\n",
       "\\item 'SHP\\_Residuales\\_Arena.shp'\n",
       "\\item 'SHP\\_Residuales\\_BT.shp'\n",
       "\\item 'SHP\\_Residuales\\_Ca.shp'\n",
       "\\item 'SHP\\_Residuales\\_CE.shp'\n",
       "\\item 'SHP\\_Residuales\\_CICe.shp'\n",
       "\\item 'SHP\\_Residuales\\_K.shp'\n",
       "\\item 'SHP\\_Residuales\\_Limo.shp'\n",
       "\\item 'SHP\\_Residuales\\_Mg.shp'\n",
       "\\item 'SHP\\_Residuales\\_MO.shp'\n",
       "\\item 'SHP\\_Residuales\\_N.shp'\n",
       "\\item 'SHP\\_Residuales\\_P.shp'\n",
       "\\item 'SHP\\_Residuales\\_pH.shp'\n",
       "\\item 'SHP\\_Residuales\\_SAl.shp'\n",
       "\\end{enumerate*}\n"
      ],
      "text/markdown": [
       "1. 'SHP_Residuales_Al.shp'\n",
       "2. 'SHP_Residuales_Arcilla.shp'\n",
       "3. 'SHP_Residuales_Arena.shp'\n",
       "4. 'SHP_Residuales_BT.shp'\n",
       "5. 'SHP_Residuales_Ca.shp'\n",
       "6. 'SHP_Residuales_CE.shp'\n",
       "7. 'SHP_Residuales_CICe.shp'\n",
       "8. 'SHP_Residuales_K.shp'\n",
       "9. 'SHP_Residuales_Limo.shp'\n",
       "10. 'SHP_Residuales_Mg.shp'\n",
       "11. 'SHP_Residuales_MO.shp'\n",
       "12. 'SHP_Residuales_N.shp'\n",
       "13. 'SHP_Residuales_P.shp'\n",
       "14. 'SHP_Residuales_pH.shp'\n",
       "15. 'SHP_Residuales_SAl.shp'\n",
       "\n",
       "\n"
      ],
      "text/plain": [
       " [1] \"SHP_Residuales_Al.shp\"      \"SHP_Residuales_Arcilla.shp\"\n",
       " [3] \"SHP_Residuales_Arena.shp\"   \"SHP_Residuales_BT.shp\"     \n",
       " [5] \"SHP_Residuales_Ca.shp\"      \"SHP_Residuales_CE.shp\"     \n",
       " [7] \"SHP_Residuales_CICe.shp\"    \"SHP_Residuales_K.shp\"      \n",
       " [9] \"SHP_Residuales_Limo.shp\"    \"SHP_Residuales_Mg.shp\"     \n",
       "[11] \"SHP_Residuales_MO.shp\"      \"SHP_Residuales_N.shp\"      \n",
       "[13] \"SHP_Residuales_P.shp\"       \"SHP_Residuales_pH.shp\"     \n",
       "[15] \"SHP_Residuales_SAl.shp\"    "
      ]
     },
     "metadata": {},
     "output_type": "display_data"
    }
   ],
   "source": [
    "# Crear lista de SHP del directorio\n",
    "lista_shp <- list.files(path = getwd(), pattern = '.*shp$')\n",
    "lista_shp"
   ]
  },
  {
   "cell_type": "code",
   "execution_count": 6,
   "metadata": {
    "tags": []
   },
   "outputs": [
    {
     "data": {
      "text/html": [
       "'SHP_Residuales_Arcilla.shp'"
      ],
      "text/latex": [
       "'SHP\\_Residuales\\_Arcilla.shp'"
      ],
      "text/markdown": [
       "'SHP_Residuales_Arcilla.shp'"
      ],
      "text/plain": [
       "[1] \"SHP_Residuales_Arcilla.shp\""
      ]
     },
     "metadata": {},
     "output_type": "display_data"
    }
   ],
   "source": [
    "suelo = lista_shp[2]\n",
    "suelo"
   ]
  },
  {
   "cell_type": "code",
   "execution_count": 7,
   "metadata": {
    "tags": []
   },
   "outputs": [
    {
     "data": {
      "text/html": [
       "22"
      ],
      "text/latex": [
       "22"
      ],
      "text/markdown": [
       "22"
      ],
      "text/plain": [
       "[1] 22"
      ]
     },
     "metadata": {},
     "output_type": "display_data"
    }
   ],
   "source": [
    "nchar(suelo)-4"
   ]
  },
  {
   "cell_type": "code",
   "execution_count": 8,
   "metadata": {
    "tags": []
   },
   "outputs": [
    {
     "data": {
      "text/html": [
       "'Residuales_Arcilla'"
      ],
      "text/latex": [
       "'Residuales\\_Arcilla'"
      ],
      "text/markdown": [
       "'Residuales_Arcilla'"
      ],
      "text/plain": [
       "[1] \"Residuales_Arcilla\""
      ]
     },
     "metadata": {},
     "output_type": "display_data"
    }
   ],
   "source": [
    "name_suelo = substr(suelo, start = 5, stop = nchar(suelo) -4)\n",
    "name_suelo"
   ]
  },
  {
   "cell_type": "code",
   "execution_count": 9,
   "metadata": {
    "tags": []
   },
   "outputs": [
    {
     "name": "stdout",
     "output_type": "stream",
     "text": [
      "Reading layer `SHP_Residuales_Arcilla' from data source \n",
      "  `C:\\Users\\AGPRES\\Jupyter_Python\\AGPRES\\Datos_suelo\\Satelite\\Sentinel2\\Bandas\\SHP\\SHP_Residuales_Arcilla.shp' \n",
      "  using driver `ESRI Shapefile'\n",
      "Simple feature collection with 60 features and 1 field\n",
      "Geometry type: POINT\n",
      "Dimension:     XY\n",
      "Bounding box:  xmin: 511953 ymin: 9055598 xmax: 513309 ymax: 9057120\n",
      "Projected CRS: WGS 84 / UTM zone 18S\n"
     ]
    }
   ],
   "source": [
    "soil_eea <- st_read(suelo)"
   ]
  },
  {
   "cell_type": "code",
   "execution_count": 10,
   "metadata": {
    "tags": []
   },
   "outputs": [],
   "source": [
    "library(geojsonsf)"
   ]
  },
  {
   "cell_type": "code",
   "execution_count": 11,
   "metadata": {
    "tags": []
   },
   "outputs": [
    {
     "data": {
      "text/html": [
       "<style>\n",
       ".list-inline {list-style: none; margin:0; padding: 0}\n",
       ".list-inline>li {display: inline-block}\n",
       ".list-inline>li:not(:last-child)::after {content: \"\\00b7\"; padding: 0 .5ex}\n",
       "</style>\n",
       "<ol class=list-inline><li>-0.694184523014273</li><li>2.43849185407455</li><li>0.454164194458358</li><li>6.7555998426442</li><li>8.66713400181568</li><li>-4.21882429324591</li><li>1.91089131888991</li><li>-3.36454496363894</li><li>-1.26996921959398</li><li>5.168823777466</li><li>-1.91630165586046</li><li>12.2636293293315</li><li>13.8698390117783</li><li>1.83778597397572</li><li>-0.691998773651707</li><li>7.6186997996647</li><li>6.03703903777611</li><li>4.23934516769209</li><li>7.83636689526902</li><li>2.11687621439865</li><li>16.1720647957307</li><li>4.23621042979789</li><li>0.632754443081848</li><li>7.78963113013978</li><li>4.64003909133793</li><li>3.94396409779983</li><li>0.697711123207289</li><li>7.43991636391878</li><li>-6.64649019234542</li><li>-4.73314776290723</li><li>-7.18069044898194</li><li>-1.63819637132752</li><li>-3.35105276594379</li><li>-8.33445951119121</li><li>-10.2125745234917</li><li>-4.98399421597921</li><li>-0.830089321450296</li><li>-12.4076373440004</li><li>-2.72583065227219</li><li>-1.58465781777941</li><li>-9.61252256664078</li><li>-4.92300961099394</li><li>-13.8043116183471</li><li>6.1202622772799</li><li>5.52643195767178</li><li>-0.06682639625833</li><li>-10.9181698754536</li><li>-1.36488826583205</li><li>-10.4250816316995</li><li>4.70215424771121</li><li>-1.85277177485489</li><li>19.4969033278438</li><li>6.55399291899107</li><li>-2.12937732211994</li><li>-3.6461588885429</li><li>-5.25336261386914</li><li>-6.96899161894354</li><li>-2.4428745115262</li><li>-1.27197521169038</li><li>-15.7664598935033</li></ol>\n"
      ],
      "text/latex": [
       "\\begin{enumerate*}\n",
       "\\item -0.694184523014273\n",
       "\\item 2.43849185407455\n",
       "\\item 0.454164194458358\n",
       "\\item 6.7555998426442\n",
       "\\item 8.66713400181568\n",
       "\\item -4.21882429324591\n",
       "\\item 1.91089131888991\n",
       "\\item -3.36454496363894\n",
       "\\item -1.26996921959398\n",
       "\\item 5.168823777466\n",
       "\\item -1.91630165586046\n",
       "\\item 12.2636293293315\n",
       "\\item 13.8698390117783\n",
       "\\item 1.83778597397572\n",
       "\\item -0.691998773651707\n",
       "\\item 7.6186997996647\n",
       "\\item 6.03703903777611\n",
       "\\item 4.23934516769209\n",
       "\\item 7.83636689526902\n",
       "\\item 2.11687621439865\n",
       "\\item 16.1720647957307\n",
       "\\item 4.23621042979789\n",
       "\\item 0.632754443081848\n",
       "\\item 7.78963113013978\n",
       "\\item 4.64003909133793\n",
       "\\item 3.94396409779983\n",
       "\\item 0.697711123207289\n",
       "\\item 7.43991636391878\n",
       "\\item -6.64649019234542\n",
       "\\item -4.73314776290723\n",
       "\\item -7.18069044898194\n",
       "\\item -1.63819637132752\n",
       "\\item -3.35105276594379\n",
       "\\item -8.33445951119121\n",
       "\\item -10.2125745234917\n",
       "\\item -4.98399421597921\n",
       "\\item -0.830089321450296\n",
       "\\item -12.4076373440004\n",
       "\\item -2.72583065227219\n",
       "\\item -1.58465781777941\n",
       "\\item -9.61252256664078\n",
       "\\item -4.92300961099394\n",
       "\\item -13.8043116183471\n",
       "\\item 6.1202622772799\n",
       "\\item 5.52643195767178\n",
       "\\item -0.06682639625833\n",
       "\\item -10.9181698754536\n",
       "\\item -1.36488826583205\n",
       "\\item -10.4250816316995\n",
       "\\item 4.70215424771121\n",
       "\\item -1.85277177485489\n",
       "\\item 19.4969033278438\n",
       "\\item 6.55399291899107\n",
       "\\item -2.12937732211994\n",
       "\\item -3.6461588885429\n",
       "\\item -5.25336261386914\n",
       "\\item -6.96899161894354\n",
       "\\item -2.4428745115262\n",
       "\\item -1.27197521169038\n",
       "\\item -15.7664598935033\n",
       "\\end{enumerate*}\n"
      ],
      "text/markdown": [
       "1. -0.694184523014273\n",
       "2. 2.43849185407455\n",
       "3. 0.454164194458358\n",
       "4. 6.7555998426442\n",
       "5. 8.66713400181568\n",
       "6. -4.21882429324591\n",
       "7. 1.91089131888991\n",
       "8. -3.36454496363894\n",
       "9. -1.26996921959398\n",
       "10. 5.168823777466\n",
       "11. -1.91630165586046\n",
       "12. 12.2636293293315\n",
       "13. 13.8698390117783\n",
       "14. 1.83778597397572\n",
       "15. -0.691998773651707\n",
       "16. 7.6186997996647\n",
       "17. 6.03703903777611\n",
       "18. 4.23934516769209\n",
       "19. 7.83636689526902\n",
       "20. 2.11687621439865\n",
       "21. 16.1720647957307\n",
       "22. 4.23621042979789\n",
       "23. 0.632754443081848\n",
       "24. 7.78963113013978\n",
       "25. 4.64003909133793\n",
       "26. 3.94396409779983\n",
       "27. 0.697711123207289\n",
       "28. 7.43991636391878\n",
       "29. -6.64649019234542\n",
       "30. -4.73314776290723\n",
       "31. -7.18069044898194\n",
       "32. -1.63819637132752\n",
       "33. -3.35105276594379\n",
       "34. -8.33445951119121\n",
       "35. -10.2125745234917\n",
       "36. -4.98399421597921\n",
       "37. -0.830089321450296\n",
       "38. -12.4076373440004\n",
       "39. -2.72583065227219\n",
       "40. -1.58465781777941\n",
       "41. -9.61252256664078\n",
       "42. -4.92300961099394\n",
       "43. -13.8043116183471\n",
       "44. 6.1202622772799\n",
       "45. 5.52643195767178\n",
       "46. -0.06682639625833\n",
       "47. -10.9181698754536\n",
       "48. -1.36488826583205\n",
       "49. -10.4250816316995\n",
       "50. 4.70215424771121\n",
       "51. -1.85277177485489\n",
       "52. 19.4969033278438\n",
       "53. 6.55399291899107\n",
       "54. -2.12937732211994\n",
       "55. -3.6461588885429\n",
       "56. -5.25336261386914\n",
       "57. -6.96899161894354\n",
       "58. -2.4428745115262\n",
       "59. -1.27197521169038\n",
       "60. -15.7664598935033\n",
       "\n",
       "\n"
      ],
      "text/plain": [
       " [1]  -0.6941845   2.4384919   0.4541642   6.7555998   8.6671340  -4.2188243\n",
       " [7]   1.9108913  -3.3645450  -1.2699692   5.1688238  -1.9163017  12.2636293\n",
       "[13]  13.8698390   1.8377860  -0.6919988   7.6186998   6.0370390   4.2393452\n",
       "[19]   7.8363669   2.1168762  16.1720648   4.2362104   0.6327544   7.7896311\n",
       "[25]   4.6400391   3.9439641   0.6977111   7.4399164  -6.6464902  -4.7331478\n",
       "[31]  -7.1806904  -1.6381964  -3.3510528  -8.3344595 -10.2125745  -4.9839942\n",
       "[37]  -0.8300893 -12.4076373  -2.7258307  -1.5846578  -9.6125226  -4.9230096\n",
       "[43] -13.8043116   6.1202623   5.5264320  -0.0668264 -10.9181699  -1.3648883\n",
       "[49] -10.4250816   4.7021542  -1.8527718  19.4969033   6.5539929  -2.1293773\n",
       "[55]  -3.6461589  -5.2533626  -6.9689916  -2.4428745  -1.2719752 -15.7664599"
      ]
     },
     "metadata": {},
     "output_type": "display_data"
    }
   ],
   "source": [
    "soil_eea$lst_rsd"
   ]
  },
  {
   "cell_type": "markdown",
   "metadata": {},
   "source": [
    "Para contar con una grilla usaremos un DEM de nuestro área de interés."
   ]
  },
  {
   "cell_type": "code",
   "execution_count": 12,
   "metadata": {
    "tags": []
   },
   "outputs": [],
   "source": [
    "min_valor <- min(soil_eea$lst_rsd)\n",
    "max_valor <- max(soil_eea$lst_rsd)"
   ]
  },
  {
   "cell_type": "code",
   "execution_count": 13,
   "metadata": {
    "tags": []
   },
   "outputs": [],
   "source": [
    "dem <- read_stars(r\"(C:\\Users\\AGPRES\\Jupyter_Python\\AGPRES\\Datos_suelo\\Satelite\\Mde\\ALOS_MDE_10m.tif)\")"
   ]
  },
  {
   "cell_type": "code",
   "execution_count": 14,
   "metadata": {
    "tags": []
   },
   "outputs": [
    {
     "data": {
      "text/plain": [
       "stars object with 2 dimensions and 1 attribute\n",
       "attribute(s):\n",
       "                  Min. 1st Qu. Median     Mean 3rd Qu. Max.\n",
       "ALOS_MDE_10m.tif   201     218    224 223.8333     229  251\n",
       "dimension(s):\n",
       "  from  to  offset delta                refsys point x/y\n",
       "x    1 461  510245    10 WGS 84 / UTM zone 18S FALSE [x]\n",
       "y    1 386 9058366   -10 WGS 84 / UTM zone 18S FALSE [y]"
      ]
     },
     "metadata": {},
     "output_type": "display_data"
    }
   ],
   "source": [
    "dem"
   ]
  },
  {
   "cell_type": "code",
   "execution_count": 15,
   "metadata": {
    "tags": []
   },
   "outputs": [
    {
     "name": "stdout",
     "output_type": "stream",
     "text": [
      "Reading layer `CE_Campo_Verde' from data source \n",
      "  `C:\\Users\\AGPRES\\Jupyter_Python\\AGPRES\\Datos_suelo\\Shp\\CE_Campo_Verde.shp' \n",
      "  using driver `ESRI Shapefile'\n",
      "Simple feature collection with 1 feature and 8 fields\n",
      "Geometry type: POLYGON\n",
      "Dimension:     XY\n",
      "Bounding box:  xmin: 511873.1 ymin: 9055542 xmax: 513451.8 ymax: 9057244\n",
      "Projected CRS: WGS 84 / UTM zone 18S\n"
     ]
    }
   ],
   "source": [
    "borders <- st_read(r\"(C:\\Users\\AGPRES\\Jupyter_Python\\AGPRES\\Datos_suelo\\Shp\\CE_Campo_Verde.shp)\")"
   ]
  },
  {
   "cell_type": "code",
   "execution_count": 16,
   "metadata": {
    "tags": []
   },
   "outputs": [],
   "source": [
    "borders_buffer <- st_buffer(st_geometry(st_as_sf(borders)), dist = 30)"
   ]
  },
  {
   "cell_type": "code",
   "execution_count": 17,
   "metadata": {
    "tags": []
   },
   "outputs": [
    {
     "name": "stderr",
     "output_type": "stream",
     "text": [
      "Warning message in st_warp(src = dem, grid, method = \"average\", use_gdal = TRUE):\n",
      "\"no_data_value not set: missing values will appear as zero values\"\n"
     ]
    }
   ],
   "source": [
    "grid <-  st_as_sfc(st_bbox(borders_buffer))\n",
    "grid <-  st_as_stars(grid, dx = 10, dy = 10)\n",
    "dem <-  st_warp(src = dem, grid, method = \"average\", use_gdal = TRUE)\n",
    "dem <-  dem[borders_buffer]\n",
    "names(dem) = \"elev_10m\""
   ]
  },
  {
   "cell_type": "markdown",
   "metadata": {},
   "source": [
    "A continuación, extraemos los valores de elevación y creamos un subconjunto de aquellas estaciones que coincidan con el ráster:"
   ]
  },
  {
   "cell_type": "code",
   "execution_count": 18,
   "metadata": {
    "tags": [],
    "vscode": {
     "languageId": "r"
    }
   },
   "outputs": [],
   "source": [
    "soil_eea = st_join(soil_eea, st_as_sf(dem))\n",
    "\n",
    "soil_eea = soil_eea[!is.na(soil_eea$lst_rsd), ]"
   ]
  },
  {
   "cell_type": "markdown",
   "metadata": {},
   "source": [
    "Ahora me puedes mostrar el ráster de elevación dem y la capa de puntos sobre suelos:"
   ]
  },
  {
   "cell_type": "code",
   "execution_count": 19,
   "metadata": {
    "tags": [],
    "vscode": {
     "languageId": "r"
    }
   },
   "outputs": [
    {
     "data": {
      "image/png": "[encoded data removed]",
      "text/plain": [
       "Plot with title \"elev_10m\""
      ]
     },
     "metadata": {
      "image/png": {
       "height": 420,
       "width": 420
      }
     },
     "output_type": "display_data"
    }
   ],
   "source": [
    "plot(dem, breaks = \"equal\", col = terrain.colors(11), reset = FALSE)\n",
    "plot(st_geometry(soil_eea), add = TRUE)"
   ]
  },
  {
   "cell_type": "markdown",
   "metadata": {},
   "source": [
    "### Kriging Ordinario\n",
    "\n",
    "Los métodos kriging requieren un modelo de variograma. El modelo de variograma es una forma objetiva de cuantificar el patrón de autocorrelación en los datos y asignar pesos en consecuencia al hacer predicciones.\n",
    "\n",
    "Como primer paso, podemos calcular y examinar el variograma empírico utilizando la función de variograma. La función requiere dos argumentos:\n",
    "\n",
    "-   `formula`---Specifies the **dependent variable** and the **covariates**, just like in `gstat`\n",
    "\n",
    "-   `data`---The **point** layer with the dependent variable and covariates as point attributes\n",
    "\n",
    "Por ejemplo, la siguiente expresión calcula el variograma empírico de **pH**, sin covariables."
   ]
  },
  {
   "cell_type": "code",
   "execution_count": 20,
   "metadata": {
    "tags": [],
    "vscode": {
     "languageId": "r"
    }
   },
   "outputs": [
    {
     "data": {
      "image/png": "[encoded data removed]",
      "text/plain": [
       "plot without title"
      ]
     },
     "metadata": {
      "image/png": {
       "height": 420,
       "width": 420
      }
     },
     "output_type": "display_data"
    }
   ],
   "source": [
    "v_emp_ok = variogram(soil_eea$lst_rsd ~ 1, soil_eea)\n",
    "\n",
    "plot(v_emp_ok)"
   ]
  },
  {
   "cell_type": "markdown",
   "metadata": {},
   "source": [
    "Hay varias formas de ajustar un modelo de variograma a un variograma empírico. Usaremos el más simple: ajuste automático usando la función autofitVariogram del paquete `automap`:"
   ]
  },
  {
   "cell_type": "code",
   "execution_count": 21,
   "metadata": {
    "tags": [],
    "vscode": {
     "languageId": "r"
    }
   },
   "outputs": [],
   "source": [
    "library(automap)\n",
    "v_mod_ok = autofitVariogram(soil_eea$lst_rsd ~ 1, as(soil_eea, \"Spatial\"))"
   ]
  },
  {
   "cell_type": "markdown",
   "metadata": {},
   "source": [
    "La función elige el tipo de modelo que mejor se ajusta y también ajusta sus parámetros. Tenga en cuenta que la función `autofitVariogram` no funciona en objetos *sf*, razón por la cual convertimos el objeto en un `SpatialPointsDataFrame` (paquete sp).\\\n",
    "\\\n",
    "El modelo ajustado se puede trazar con plot:"
   ]
  },
  {
   "cell_type": "code",
   "execution_count": 22,
   "metadata": {
    "tags": [],
    "vscode": {
     "languageId": "r"
    }
   },
   "outputs": [
    {
     "data": {
      "image/png": "[encoded data removed]",
      "text/plain": [
       "plot without title"
      ]
     },
     "metadata": {
      "image/png": {
       "height": 420,
       "width": 420
      }
     },
     "output_type": "display_data"
    }
   ],
   "source": [
    "plot(v_mod_ok)"
   ]
  },
  {
   "cell_type": "markdown",
   "metadata": {},
   "source": [
    "El objeto resultante es en realidad una lista con varios componentes, incluido el variograma empírico y el modelo de variograma ajustado. El componente `$var_model` del objeto resultante contiene el modelo real:"
   ]
  },
  {
   "cell_type": "code",
   "execution_count": 23,
   "metadata": {
    "tags": [],
    "vscode": {
     "languageId": "r"
    }
   },
   "outputs": [
    {
     "data": {
      "text/html": [
       "<table class=\"dataframe\">\n",
       "<caption>A variogramModel: 2 × 9</caption>\n",
       "<thead>\n",
       "\t<tr><th></th><th scope=col>model</th><th scope=col>psill</th><th scope=col>range</th><th scope=col>kappa</th><th scope=col>ang1</th><th scope=col>ang2</th><th scope=col>ang3</th><th scope=col>anis1</th><th scope=col>anis2</th></tr>\n",
       "\t<tr><th></th><th scope=col>&lt;fct&gt;</th><th scope=col>&lt;dbl&gt;</th><th scope=col>&lt;dbl&gt;</th><th scope=col>&lt;dbl&gt;</th><th scope=col>&lt;dbl&gt;</th><th scope=col>&lt;dbl&gt;</th><th scope=col>&lt;dbl&gt;</th><th scope=col>&lt;dbl&gt;</th><th scope=col>&lt;dbl&gt;</th></tr>\n",
       "</thead>\n",
       "<tbody>\n",
       "\t<tr><th scope=row>1</th><td>Nug</td><td>65.389198</td><td>  0.0000</td><td>0</td><td>0</td><td>0</td><td>0</td><td>1</td><td>1</td></tr>\n",
       "\t<tr><th scope=row>2</th><td>Sph</td><td> 1.801031</td><td>936.8049</td><td>0</td><td>0</td><td>0</td><td>0</td><td>1</td><td>1</td></tr>\n",
       "</tbody>\n",
       "</table>\n"
      ],
      "text/latex": [
       "A variogramModel: 2 × 9\n",
       "\\begin{tabular}{r|lllllllll}\n",
       "  & model & psill & range & kappa & ang1 & ang2 & ang3 & anis1 & anis2\\\\\n",
       "  & <fct> & <dbl> & <dbl> & <dbl> & <dbl> & <dbl> & <dbl> & <dbl> & <dbl>\\\\\n",
       "\\hline\n",
       "\t1 & Nug & 65.389198 &   0.0000 & 0 & 0 & 0 & 0 & 1 & 1\\\\\n",
       "\t2 & Sph &  1.801031 & 936.8049 & 0 & 0 & 0 & 0 & 1 & 1\\\\\n",
       "\\end{tabular}\n"
      ],
      "text/markdown": [
       "\n",
       "A variogramModel: 2 × 9\n",
       "\n",
       "| <!--/--> | model &lt;fct&gt; | psill &lt;dbl&gt; | range &lt;dbl&gt; | kappa &lt;dbl&gt; | ang1 &lt;dbl&gt; | ang2 &lt;dbl&gt; | ang3 &lt;dbl&gt; | anis1 &lt;dbl&gt; | anis2 &lt;dbl&gt; |\n",
       "|---|---|---|---|---|---|---|---|---|---|\n",
       "| 1 | Nug | 65.389198 |   0.0000 | 0 | 0 | 0 | 0 | 1 | 1 |\n",
       "| 2 | Sph |  1.801031 | 936.8049 | 0 | 0 | 0 | 0 | 1 | 1 |\n",
       "\n"
      ],
      "text/plain": [
       "  model psill     range    kappa ang1 ang2 ang3 anis1 anis2\n",
       "1 Nug   65.389198   0.0000 0     0    0    0    1     1    \n",
       "2 Sph    1.801031 936.8049 0     0    0    0    1     1    "
      ]
     },
     "metadata": {},
     "output_type": "display_data"
    }
   ],
   "source": [
    "v_mod_ok$var_model"
   ]
  },
  {
   "cell_type": "markdown",
   "metadata": {},
   "source": [
    "Luego, el modelo de variograma se puede pasar a la función **gstat** y podemos continuar con la interpolación de Kriging ordinario:"
   ]
  },
  {
   "cell_type": "code",
   "execution_count": 24,
   "metadata": {
    "tags": [],
    "vscode": {
     "languageId": "r"
    }
   },
   "outputs": [
    {
     "name": "stdout",
     "output_type": "stream",
     "text": [
      "[using ordinary kriging]\n"
     ]
    }
   ],
   "source": [
    "g2 = gstat(formula = soil_eea$lst_rsd ~ 1, model = v_mod_ok$var_model, data = soil_eea)\n",
    "z = predict(g2, dem)"
   ]
  },
  {
   "cell_type": "code",
   "execution_count": 25,
   "metadata": {
    "tags": []
   },
   "outputs": [
    {
     "data": {
      "text/html": [
       "'Residuales_Arcilla'"
      ],
      "text/latex": [
       "'Residuales\\_Arcilla'"
      ],
      "text/markdown": [
       "'Residuales_Arcilla'"
      ],
      "text/plain": [
       "[1] \"Residuales_Arcilla\""
      ]
     },
     "metadata": {},
     "output_type": "display_data"
    }
   ],
   "source": [
    "name_suelo"
   ]
  },
  {
   "cell_type": "code",
   "execution_count": 26,
   "metadata": {
    "tags": [],
    "vscode": {
     "languageId": "r"
    }
   },
   "outputs": [],
   "source": [
    "#subdividiremos el atributo de valores predecidos y lo renombraremos\n",
    "z = z[\"var1.pred\",,]\n",
    "names(z) = name_suelo"
   ]
  },
  {
   "cell_type": "code",
   "execution_count": 27,
   "metadata": {
    "tags": []
   },
   "outputs": [],
   "source": [
    "# Crear una carpeta con el nombre ID imagen y agregar texto\n",
    "out_dir <- paste(getwd(), '//Raster_residuo', sep='')\n",
    "suppressWarnings(dir.create(out_dir))"
   ]
  },
  {
   "cell_type": "code",
   "execution_count": 28,
   "metadata": {
    "tags": [],
    "vscode": {
     "languageId": "r"
    }
   },
   "outputs": [],
   "source": [
    "# Exportando el raster\n",
    "write_stars(z, paste(out_dir,\"/Residuo_\",name_suelo,\".tif\",sep = \"\"))"
   ]
  },
  {
   "cell_type": "markdown",
   "metadata": {},
   "source": [
    "Las predicciones de Kriging Ordinario se muestran en la siguiente figura:"
   ]
  },
  {
   "cell_type": "code",
   "execution_count": 29,
   "metadata": {
    "tags": [],
    "vscode": {
     "languageId": "r"
    }
   },
   "outputs": [
    {
     "data": {
      "image/png": "[encoded data removed]",
      "text/plain": [
       "Plot with title \"Residuales_Arcilla\""
      ]
     },
     "metadata": {
      "image/png": {
       "height": 420,
       "width": 420
      }
     },
     "output_type": "display_data"
    }
   ],
   "source": [
    "b = seq(min_valor, max_valor, 0.001)\n",
    "plot(z, breaks = b, col = hcl.colors(length(b)-1, \"Spectral\"), reset = FALSE)\n",
    "plot(st_geometry(soil_eea), pch = 8, add = TRUE)\n",
    "contour(z, breaks = b, add = TRUE)"
   ]
  },
  {
   "cell_type": "code",
   "execution_count": 30,
   "metadata": {
    "tags": []
   },
   "outputs": [
    {
     "name": "stdout",
     "output_type": "stream",
     "text": [
      "Reading layer `SHP_Residuales_Al' from data source \n",
      "  `C:\\Users\\AGPRES\\Jupyter_Python\\AGPRES\\Datos_suelo\\Satelite\\Sentinel2\\Bandas\\SHP\\SHP_Residuales_Al.shp' \n",
      "  using driver `ESRI Shapefile'\n",
      "Simple feature collection with 60 features and 1 field\n",
      "Geometry type: POINT\n",
      "Dimension:     XY\n",
      "Bounding box:  xmin: 511953 ymin: 9055598 xmax: 513309 ymax: 9057120\n",
      "Projected CRS: WGS 84 / UTM zone 18S\n"
     ]
    },
    {
     "name": "stderr",
     "output_type": "stream",
     "text": [
      "Warning message in st_warp(src = dem, grid, method = \"average\", use_gdal = TRUE):\n",
      "\"no_data_value not set: missing values will appear as zero values\"\n"
     ]
    },
    {
     "name": "stdout",
     "output_type": "stream",
     "text": [
      "[using ordinary kriging]\n",
      "Reading layer `SHP_Residuales_Arcilla' from data source \n",
      "  `C:\\Users\\AGPRES\\Jupyter_Python\\AGPRES\\Datos_suelo\\Satelite\\Sentinel2\\Bandas\\SHP\\SHP_Residuales_Arcilla.shp' \n",
      "  using driver `ESRI Shapefile'\n",
      "Simple feature collection with 60 features and 1 field\n",
      "Geometry type: POINT\n",
      "Dimension:     XY\n",
      "Bounding box:  xmin: 511953 ymin: 9055598 xmax: 513309 ymax: 9057120\n",
      "Projected CRS: WGS 84 / UTM zone 18S\n"
     ]
    },
    {
     "name": "stderr",
     "output_type": "stream",
     "text": [
      "Warning message in st_warp(src = dem, grid, method = \"average\", use_gdal = TRUE):\n",
      "\"no_data_value not set: missing values will appear as zero values\"\n"
     ]
    },
    {
     "name": "stdout",
     "output_type": "stream",
     "text": [
      "[using ordinary kriging]\n",
      "Reading layer `SHP_Residuales_Arena' from data source \n",
      "  `C:\\Users\\AGPRES\\Jupyter_Python\\AGPRES\\Datos_suelo\\Satelite\\Sentinel2\\Bandas\\SHP\\SHP_Residuales_Arena.shp' \n",
      "  using driver `ESRI Shapefile'\n",
      "Simple feature collection with 60 features and 1 field\n",
      "Geometry type: POINT\n",
      "Dimension:     XY\n",
      "Bounding box:  xmin: 511953 ymin: 9055598 xmax: 513309 ymax: 9057120\n",
      "Projected CRS: WGS 84 / UTM zone 18S\n"
     ]
    },
    {
     "name": "stderr",
     "output_type": "stream",
     "text": [
      "Warning message in st_warp(src = dem, grid, method = \"average\", use_gdal = TRUE):\n",
      "\"no_data_value not set: missing values will appear as zero values\"\n"
     ]
    },
    {
     "name": "stdout",
     "output_type": "stream",
     "text": [
      "[using ordinary kriging]\n",
      "Reading layer `SHP_Residuales_BT' from data source \n",
      "  `C:\\Users\\AGPRES\\Jupyter_Python\\AGPRES\\Datos_suelo\\Satelite\\Sentinel2\\Bandas\\SHP\\SHP_Residuales_BT.shp' \n",
      "  using driver `ESRI Shapefile'\n",
      "Simple feature collection with 60 features and 1 field\n",
      "Geometry type: POINT\n",
      "Dimension:     XY\n",
      "Bounding box:  xmin: 511953 ymin: 9055598 xmax: 513309 ymax: 9057120\n",
      "Projected CRS: WGS 84 / UTM zone 18S\n"
     ]
    },
    {
     "name": "stderr",
     "output_type": "stream",
     "text": [
      "Warning message in st_warp(src = dem, grid, method = \"average\", use_gdal = TRUE):\n",
      "\"no_data_value not set: missing values will appear as zero values\"\n"
     ]
    },
    {
     "name": "stdout",
     "output_type": "stream",
     "text": [
      "[using ordinary kriging]\n",
      "Reading layer `SHP_Residuales_Ca' from data source \n",
      "  `C:\\Users\\AGPRES\\Jupyter_Python\\AGPRES\\Datos_suelo\\Satelite\\Sentinel2\\Bandas\\SHP\\SHP_Residuales_Ca.shp' \n",
      "  using driver `ESRI Shapefile'\n",
      "Simple feature collection with 60 features and 1 field\n",
      "Geometry type: POINT\n",
      "Dimension:     XY\n",
      "Bounding box:  xmin: 511953 ymin: 9055598 xmax: 513309 ymax: 9057120\n",
      "Projected CRS: WGS 84 / UTM zone 18S\n"
     ]
    },
    {
     "name": "stderr",
     "output_type": "stream",
     "text": [
      "Warning message in st_warp(src = dem, grid, method = \"average\", use_gdal = TRUE):\n",
      "\"no_data_value not set: missing values will appear as zero values\"\n"
     ]
    },
    {
     "name": "stdout",
     "output_type": "stream",
     "text": [
      "[using ordinary kriging]\n",
      "Reading layer `SHP_Residuales_CE' from data source \n",
      "  `C:\\Users\\AGPRES\\Jupyter_Python\\AGPRES\\Datos_suelo\\Satelite\\Sentinel2\\Bandas\\SHP\\SHP_Residuales_CE.shp' \n",
      "  using driver `ESRI Shapefile'\n",
      "Simple feature collection with 60 features and 1 field\n",
      "Geometry type: POINT\n",
      "Dimension:     XY\n",
      "Bounding box:  xmin: 511953 ymin: 9055598 xmax: 513309 ymax: 9057120\n",
      "Projected CRS: WGS 84 / UTM zone 18S\n"
     ]
    },
    {
     "name": "stderr",
     "output_type": "stream",
     "text": [
      "Warning message in st_warp(src = dem, grid, method = \"average\", use_gdal = TRUE):\n",
      "\"no_data_value not set: missing values will appear as zero values\"\n"
     ]
    },
    {
     "name": "stdout",
     "output_type": "stream",
     "text": [
      "[using ordinary kriging]\n",
      "Reading layer `SHP_Residuales_CICe' from data source \n",
      "  `C:\\Users\\AGPRES\\Jupyter_Python\\AGPRES\\Datos_suelo\\Satelite\\Sentinel2\\Bandas\\SHP\\SHP_Residuales_CICe.shp' \n",
      "  using driver `ESRI Shapefile'\n",
      "Simple feature collection with 60 features and 1 field\n",
      "Geometry type: POINT\n",
      "Dimension:     XY\n",
      "Bounding box:  xmin: 511953 ymin: 9055598 xmax: 513309 ymax: 9057120\n",
      "Projected CRS: WGS 84 / UTM zone 18S\n"
     ]
    },
    {
     "name": "stderr",
     "output_type": "stream",
     "text": [
      "Warning message in st_warp(src = dem, grid, method = \"average\", use_gdal = TRUE):\n",
      "\"no_data_value not set: missing values will appear as zero values\"\n"
     ]
    },
    {
     "name": "stdout",
     "output_type": "stream",
     "text": [
      "[using ordinary kriging]\n",
      "Reading layer `SHP_Residuales_K' from data source \n",
      "  `C:\\Users\\AGPRES\\Jupyter_Python\\AGPRES\\Datos_suelo\\Satelite\\Sentinel2\\Bandas\\SHP\\SHP_Residuales_K.shp' \n",
      "  using driver `ESRI Shapefile'\n",
      "Simple feature collection with 60 features and 1 field\n",
      "Geometry type: POINT\n",
      "Dimension:     XY\n",
      "Bounding box:  xmin: 511953 ymin: 9055598 xmax: 513309 ymax: 9057120\n",
      "Projected CRS: WGS 84 / UTM zone 18S\n"
     ]
    },
    {
     "name": "stderr",
     "output_type": "stream",
     "text": [
      "Warning message in st_warp(src = dem, grid, method = \"average\", use_gdal = TRUE):\n",
      "\"no_data_value not set: missing values will appear as zero values\"\n"
     ]
    },
    {
     "name": "stdout",
     "output_type": "stream",
     "text": [
      "[using ordinary kriging]\n",
      "Reading layer `SHP_Residuales_Limo' from data source \n",
      "  `C:\\Users\\AGPRES\\Jupyter_Python\\AGPRES\\Datos_suelo\\Satelite\\Sentinel2\\Bandas\\SHP\\SHP_Residuales_Limo.shp' \n",
      "  using driver `ESRI Shapefile'\n",
      "Simple feature collection with 60 features and 1 field\n",
      "Geometry type: POINT\n",
      "Dimension:     XY\n",
      "Bounding box:  xmin: 511953 ymin: 9055598 xmax: 513309 ymax: 9057120\n",
      "Projected CRS: WGS 84 / UTM zone 18S\n"
     ]
    },
    {
     "name": "stderr",
     "output_type": "stream",
     "text": [
      "Warning message in st_warp(src = dem, grid, method = \"average\", use_gdal = TRUE):\n",
      "\"no_data_value not set: missing values will appear as zero values\"\n"
     ]
    },
    {
     "name": "stdout",
     "output_type": "stream",
     "text": [
      "[using ordinary kriging]\n",
      "Reading layer `SHP_Residuales_Mg' from data source \n",
      "  `C:\\Users\\AGPRES\\Jupyter_Python\\AGPRES\\Datos_suelo\\Satelite\\Sentinel2\\Bandas\\SHP\\SHP_Residuales_Mg.shp' \n",
      "  using driver `ESRI Shapefile'\n",
      "Simple feature collection with 60 features and 1 field\n",
      "Geometry type: POINT\n",
      "Dimension:     XY\n",
      "Bounding box:  xmin: 511953 ymin: 9055598 xmax: 513309 ymax: 9057120\n",
      "Projected CRS: WGS 84 / UTM zone 18S\n"
     ]
    },
    {
     "name": "stderr",
     "output_type": "stream",
     "text": [
      "Warning message in st_warp(src = dem, grid, method = \"average\", use_gdal = TRUE):\n",
      "\"no_data_value not set: missing values will appear as zero values\"\n"
     ]
    },
    {
     "name": "stdout",
     "output_type": "stream",
     "text": [
      "[using ordinary kriging]\n",
      "Reading layer `SHP_Residuales_MO' from data source \n",
      "  `C:\\Users\\AGPRES\\Jupyter_Python\\AGPRES\\Datos_suelo\\Satelite\\Sentinel2\\Bandas\\SHP\\SHP_Residuales_MO.shp' \n",
      "  using driver `ESRI Shapefile'\n",
      "Simple feature collection with 60 features and 1 field\n",
      "Geometry type: POINT\n",
      "Dimension:     XY\n",
      "Bounding box:  xmin: 511953 ymin: 9055598 xmax: 513309 ymax: 9057120\n",
      "Projected CRS: WGS 84 / UTM zone 18S\n"
     ]
    },
    {
     "name": "stderr",
     "output_type": "stream",
     "text": [
      "Warning message in st_warp(src = dem, grid, method = \"average\", use_gdal = TRUE):\n",
      "\"no_data_value not set: missing values will appear as zero values\"\n"
     ]
    },
    {
     "name": "stdout",
     "output_type": "stream",
     "text": [
      "[using ordinary kriging]\n",
      "Reading layer `SHP_Residuales_N' from data source \n",
      "  `C:\\Users\\AGPRES\\Jupyter_Python\\AGPRES\\Datos_suelo\\Satelite\\Sentinel2\\Bandas\\SHP\\SHP_Residuales_N.shp' \n",
      "  using driver `ESRI Shapefile'\n",
      "Simple feature collection with 60 features and 1 field\n",
      "Geometry type: POINT\n",
      "Dimension:     XY\n",
      "Bounding box:  xmin: 511953 ymin: 9055598 xmax: 513309 ymax: 9057120\n",
      "Projected CRS: WGS 84 / UTM zone 18S\n"
     ]
    },
    {
     "name": "stderr",
     "output_type": "stream",
     "text": [
      "Warning message in st_warp(src = dem, grid, method = \"average\", use_gdal = TRUE):\n",
      "\"no_data_value not set: missing values will appear as zero values\"\n"
     ]
    },
    {
     "name": "stdout",
     "output_type": "stream",
     "text": [
      "[using ordinary kriging]\n",
      "Reading layer `SHP_Residuales_P' from data source \n",
      "  `C:\\Users\\AGPRES\\Jupyter_Python\\AGPRES\\Datos_suelo\\Satelite\\Sentinel2\\Bandas\\SHP\\SHP_Residuales_P.shp' \n",
      "  using driver `ESRI Shapefile'\n",
      "Simple feature collection with 60 features and 1 field\n",
      "Geometry type: POINT\n",
      "Dimension:     XY\n",
      "Bounding box:  xmin: 511953 ymin: 9055598 xmax: 513309 ymax: 9057120\n",
      "Projected CRS: WGS 84 / UTM zone 18S\n"
     ]
    },
    {
     "name": "stderr",
     "output_type": "stream",
     "text": [
      "Warning message in st_warp(src = dem, grid, method = \"average\", use_gdal = TRUE):\n",
      "\"no_data_value not set: missing values will appear as zero values\"\n"
     ]
    },
    {
     "name": "stdout",
     "output_type": "stream",
     "text": [
      "[using ordinary kriging]\n",
      "Reading layer `SHP_Residuales_pH' from data source \n",
      "  `C:\\Users\\AGPRES\\Jupyter_Python\\AGPRES\\Datos_suelo\\Satelite\\Sentinel2\\Bandas\\SHP\\SHP_Residuales_pH.shp' \n",
      "  using driver `ESRI Shapefile'\n",
      "Simple feature collection with 60 features and 1 field\n",
      "Geometry type: POINT\n",
      "Dimension:     XY\n",
      "Bounding box:  xmin: 511953 ymin: 9055598 xmax: 513309 ymax: 9057120\n",
      "Projected CRS: WGS 84 / UTM zone 18S\n"
     ]
    },
    {
     "name": "stderr",
     "output_type": "stream",
     "text": [
      "Warning message in st_warp(src = dem, grid, method = \"average\", use_gdal = TRUE):\n",
      "\"no_data_value not set: missing values will appear as zero values\"\n"
     ]
    },
    {
     "name": "stdout",
     "output_type": "stream",
     "text": [
      "[using ordinary kriging]\n",
      "Reading layer `SHP_Residuales_SAl' from data source \n",
      "  `C:\\Users\\AGPRES\\Jupyter_Python\\AGPRES\\Datos_suelo\\Satelite\\Sentinel2\\Bandas\\SHP\\SHP_Residuales_SAl.shp' \n",
      "  using driver `ESRI Shapefile'\n",
      "Simple feature collection with 60 features and 1 field\n",
      "Geometry type: POINT\n",
      "Dimension:     XY\n",
      "Bounding box:  xmin: 511953 ymin: 9055598 xmax: 513309 ymax: 9057120\n",
      "Projected CRS: WGS 84 / UTM zone 18S\n"
     ]
    },
    {
     "name": "stderr",
     "output_type": "stream",
     "text": [
      "Warning message in st_warp(src = dem, grid, method = \"average\", use_gdal = TRUE):\n",
      "\"no_data_value not set: missing values will appear as zero values\"\n"
     ]
    },
    {
     "name": "stdout",
     "output_type": "stream",
     "text": [
      "[using ordinary kriging]\n"
     ]
    }
   ],
   "source": [
    "for (i in 1:length(lista_shp)){\n",
    "    name_suelo = substr(lista_shp[i], start = 5, stop = nchar(suelo) -4)\n",
    "    soil_eea <- st_read(lista_shp[i])\n",
    "    min_valor <- min(soil_eea$lst_rsd)\n",
    "    max_valor <- max(soil_eea$lst_rsd)\n",
    "    borders_buffer <- st_buffer(st_geometry(st_as_sf(borders)), dist = 30)\n",
    "    grid <-  st_as_sfc(st_bbox(borders_buffer))\n",
    "    grid <-  st_as_stars(grid, dx = 10, dy = 10)\n",
    "    dem <-  st_warp(src = dem, grid, method = \"average\", use_gdal = TRUE)\n",
    "    dem <-  dem[borders_buffer]\n",
    "    names(dem) = \"elev_10m\"\n",
    "    soil_eea = st_join(soil_eea, st_as_sf(dem))\n",
    "    soil_eea = soil_eea[!is.na(soil_eea$lst_rsd), ]\n",
    "    v_emp_ok = variogram(soil_eea$lst_rsd ~ 1, soil_eea)\n",
    "    g2 = gstat(formula = soil_eea$lst_rsd ~ 1, model = v_mod_ok$var_model, data = soil_eea)\n",
    "    z = predict(g2, dem)\n",
    "    z = z[\"var1.pred\",,]\n",
    "    names(z) = name_suelo\n",
    "    # Crear una carpeta con el nombre ID imagen y agregar texto\n",
    "    out_dir <- paste(getwd(), '//Raster_residuo', sep='')\n",
    "    suppressWarnings(dir.create(out_dir))\n",
    "    # Exportando el raster\n",
    "    write_stars(z, paste(out_dir,\"/Residuo_\",name_suelo,\".tif\",sep = \"\"))\n",
    "    }"
   ]
  },
  {
   "cell_type": "code",
   "execution_count": null,
   "metadata": {},
   "outputs": [],
   "source": []
  }
 ],
 "metadata": {
  "kernelspec": {
   "display_name": "R",
   "language": "R",
   "name": "ir"
  },
  "language_info": {
   "codemirror_mode": "r",
   "file_extension": ".r",
   "mimetype": "text/x-r-source",
   "name": "R",
   "pygments_lexer": "r",
   "version": "4.3.2"
  },
  "widgets": {
   "application/vnd.jupyter.widget-state+json": {
    "state": {},
    "version_major": 2,
    "version_minor": 0
   }
  }
 },
 "nbformat": 4,
 "nbformat_minor": 4
}
