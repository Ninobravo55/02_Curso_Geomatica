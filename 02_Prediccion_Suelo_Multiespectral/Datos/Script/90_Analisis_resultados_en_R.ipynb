{
 "cells": [
  {
   "cell_type": "markdown",
   "id": "cae9703e-17d8-4fea-8b19-c82601e06f1a",
   "metadata": {},
   "source": [
    "# Analizar los resultados futuros"
   ]
  },
  {
   "cell_type": "code",
   "execution_count": 1,
   "id": "51310dbb-3566-4b07-978e-d51cfb25efa3",
   "metadata": {
    "tags": []
   },
   "outputs": [],
   "source": [
    "setwd(r\"(C:\\Users\\AGPRES\\INIA_Pucallpa\\Contrato_3\\Investigacion\\03_Suelo_Teledeteccion\\Satelite\\PUCALLPA\\Sentinel2\\Bandas\\Prediccion_ajuste)\")"
   ]
  },
  {
   "cell_type": "code",
   "execution_count": 2,
   "id": "abce7e88-1c58-4b43-abc4-aa93c6709569",
   "metadata": {
    "tags": []
   },
   "outputs": [
    {
     "data": {
      "text/html": [
       "<style>\n",
       ".list-inline {list-style: none; margin:0; padding: 0}\n",
       ".list-inline>li {display: inline-block}\n",
       ".list-inline>li:not(:last-child)::after {content: \"\\00b7\"; padding: 0 .5ex}\n",
       "</style>\n",
       "<ol class=list-inline><li>'Ajuste_Predic_AL.tif'</li><li>'Ajuste_Predic_Arcilla.tif'</li><li>'Ajuste_Predic_Arena.tif'</li><li>'Ajuste_Predic_BT.tif'</li><li>'Ajuste_Predic_CA.tif'</li><li>'Ajuste_Predic_CE.tif'</li><li>'Ajuste_Predic_CICe.tif'</li><li>'Ajuste_Predic_K.tif'</li><li>'Ajuste_Predic_Limo.tif'</li><li>'Ajuste_Predic_MG.tif'</li><li>'Ajuste_Predic_MO.tif'</li><li>'Ajuste_Predic_N.tif'</li><li>'Ajuste_Predic_P.tif'</li><li>'Ajuste_Predic_PH.tif'</li><li>'Ajuste_Predic_SAl.tif'</li></ol>\n"
      ],
      "text/latex": [
       "\\begin{enumerate*}\n",
       "\\item 'Ajuste\\_Predic\\_AL.tif'\n",
       "\\item 'Ajuste\\_Predic\\_Arcilla.tif'\n",
       "\\item 'Ajuste\\_Predic\\_Arena.tif'\n",
       "\\item 'Ajuste\\_Predic\\_BT.tif'\n",
       "\\item 'Ajuste\\_Predic\\_CA.tif'\n",
       "\\item 'Ajuste\\_Predic\\_CE.tif'\n",
       "\\item 'Ajuste\\_Predic\\_CICe.tif'\n",
       "\\item 'Ajuste\\_Predic\\_K.tif'\n",
       "\\item 'Ajuste\\_Predic\\_Limo.tif'\n",
       "\\item 'Ajuste\\_Predic\\_MG.tif'\n",
       "\\item 'Ajuste\\_Predic\\_MO.tif'\n",
       "\\item 'Ajuste\\_Predic\\_N.tif'\n",
       "\\item 'Ajuste\\_Predic\\_P.tif'\n",
       "\\item 'Ajuste\\_Predic\\_PH.tif'\n",
       "\\item 'Ajuste\\_Predic\\_SAl.tif'\n",
       "\\end{enumerate*}\n"
      ],
      "text/markdown": [
       "1. 'Ajuste_Predic_AL.tif'\n",
       "2. 'Ajuste_Predic_Arcilla.tif'\n",
       "3. 'Ajuste_Predic_Arena.tif'\n",
       "4. 'Ajuste_Predic_BT.tif'\n",
       "5. 'Ajuste_Predic_CA.tif'\n",
       "6. 'Ajuste_Predic_CE.tif'\n",
       "7. 'Ajuste_Predic_CICe.tif'\n",
       "8. 'Ajuste_Predic_K.tif'\n",
       "9. 'Ajuste_Predic_Limo.tif'\n",
       "10. 'Ajuste_Predic_MG.tif'\n",
       "11. 'Ajuste_Predic_MO.tif'\n",
       "12. 'Ajuste_Predic_N.tif'\n",
       "13. 'Ajuste_Predic_P.tif'\n",
       "14. 'Ajuste_Predic_PH.tif'\n",
       "15. 'Ajuste_Predic_SAl.tif'\n",
       "\n",
       "\n"
      ],
      "text/plain": [
       " [1] \"Ajuste_Predic_AL.tif\"      \"Ajuste_Predic_Arcilla.tif\"\n",
       " [3] \"Ajuste_Predic_Arena.tif\"   \"Ajuste_Predic_BT.tif\"     \n",
       " [5] \"Ajuste_Predic_CA.tif\"      \"Ajuste_Predic_CE.tif\"     \n",
       " [7] \"Ajuste_Predic_CICe.tif\"    \"Ajuste_Predic_K.tif\"      \n",
       " [9] \"Ajuste_Predic_Limo.tif\"    \"Ajuste_Predic_MG.tif\"     \n",
       "[11] \"Ajuste_Predic_MO.tif\"      \"Ajuste_Predic_N.tif\"      \n",
       "[13] \"Ajuste_Predic_P.tif\"       \"Ajuste_Predic_PH.tif\"     \n",
       "[15] \"Ajuste_Predic_SAl.tif\"    "
      ]
     },
     "metadata": {},
     "output_type": "display_data"
    }
   ],
   "source": [
    "lista_tif <- list.files(pattern = \".tif\")\n",
    "lista_tif"
   ]
  },
  {
   "cell_type": "code",
   "execution_count": 3,
   "id": "5fa6d472-3996-4697-87ce-74e43503595c",
   "metadata": {
    "tags": []
   },
   "outputs": [
    {
     "data": {
      "text/html": [
       "'Ajuste_Predic_CE.tif'"
      ],
      "text/latex": [
       "'Ajuste\\_Predic\\_CE.tif'"
      ],
      "text/markdown": [
       "'Ajuste_Predic_CE.tif'"
      ],
      "text/plain": [
       "[1] \"Ajuste_Predic_CE.tif\""
      ]
     },
     "metadata": {},
     "output_type": "display_data"
    }
   ],
   "source": [
    "list.files(pattern = \"CE.tif\")"
   ]
  },
  {
   "cell_type": "code",
   "execution_count": 4,
   "id": "5049b501-53bf-4059-8f93-e8c522e1f3ff",
   "metadata": {
    "tags": []
   },
   "outputs": [],
   "source": [
    "lista_CE <- list.files(pattern = \"CE.tif\")\n",
    "lista_K <- list.files(pattern = \"K.tif\")\n",
    "lista_MO <- list.files(pattern = \"MO.tif\")\n",
    "lista_P <- list.files(pattern = \"P.tif\")\n",
    "lista_PH <- list.files(pattern = \"PH.tif\")"
   ]
  },
  {
   "cell_type": "code",
   "execution_count": 5,
   "id": "969190d9-8173-404e-a31c-2993239b8ed2",
   "metadata": {
    "tags": []
   },
   "outputs": [],
   "source": [
    "#install.packages(\"sf\", lib=r\"(C:\\Program Files\\R\\R-4.2.2\\library)\")"
   ]
  },
  {
   "cell_type": "code",
   "execution_count": 7,
   "id": "c8ceb4d1-d735-41ee-81da-86f3c491cd98",
   "metadata": {
    "tags": []
   },
   "outputs": [],
   "source": [
    "library(sp)\n",
    "library(raster)\n",
    "library(sf)\n",
    "library(rgdal)"
   ]
  },
  {
   "cell_type": "code",
   "execution_count": 8,
   "id": "f5514c2b-f305-4796-b1fd-5ba0f87092ba",
   "metadata": {
    "tags": []
   },
   "outputs": [],
   "source": [
    "Banda_CE <- raster(lista_CE[1])\n",
    "Banda_K <- raster(lista_K[1])\n",
    "Banda_MO <- raster(lista_MO[1])\n",
    "Banda_P <- raster(lista_P[1])\n",
    "Banda_PH <- raster(lista_PH[1])"
   ]
  },
  {
   "cell_type": "code",
   "execution_count": 9,
   "id": "bc8e77c3-df75-4648-b744-3070350f1070",
   "metadata": {
    "tags": []
   },
   "outputs": [
    {
     "data": {
      "image/png": "[encoded data removed]",
      "text/plain": [
       "Plot with title \"\""
      ]
     },
     "metadata": {
      "image/png": {
       "height": 420,
       "width": 420
      }
     },
     "output_type": "display_data"
    }
   ],
   "source": [
    "plot(Banda_CE)"
   ]
  },
  {
   "cell_type": "markdown",
   "id": "e00982c1-e939-40f6-a8cf-6ac1bf970fb8",
   "metadata": {},
   "source": [
    "## Clasificación pH"
   ]
  },
  {
   "cell_type": "markdown",
   "id": "e1c2623b-c674-4a2c-ab82-4061b187f2b4",
   "metadata": {},
   "source": [
    "|  Rangos   | Valor |\n",
    "|:-------------------------:|:-----------:|\n",
    "|       < 5.5 |         0.2     |\n",
    "|       5.5 - 6.0 |         0.5     |\n",
    "|       6.0 - 6.5 |         0.8     |\n",
    "|       6.5 - 7.0 |         1.0     |\n",
    "|       7.0 - 7.5 |         0.8     |\n",
    "|  7.5 - 8.0  |     0.5      |\n",
    "| > 8.0   |           0.2     |\n"
   ]
  },
  {
   "cell_type": "markdown",
   "id": "d3889a52-c0b5-4f21-b8bb-ea9116b919be",
   "metadata": {},
   "source": [
    "## Clasificación CE"
   ]
  },
  {
   "cell_type": "markdown",
   "id": "c28094db-5728-4099-b34b-31dcf3005d46",
   "metadata": {},
   "source": [
    "|  Rangos   | Valor |\n",
    "|:-------------------------:|:-----------:|\n",
    "|       < 2.0 |         1     |\n",
    "|       2.0 - 4.0 |         0.8     |\n",
    "|       4.0 - 8.0 |         0.5     |\n",
    "| > 8.0   |           0.2     |"
   ]
  },
  {
   "cell_type": "markdown",
   "id": "2b407d7f-5a8e-40c2-b612-d08c9f916e66",
   "metadata": {},
   "source": [
    "## Clasificación MO"
   ]
  },
  {
   "cell_type": "markdown",
   "id": "0eb4b484-d289-4c01-b9b3-8b323bedf412",
   "metadata": {},
   "source": [
    "|  Rangos   | Valor |\n",
    "|:-------------------------:|:-----------:|\n",
    "|       < 0.5 |         0.2     |\n",
    "|       0.5 - 1.0 |         0.5     |\n",
    "|       1.0 - 2.0 |         0.8     |\n",
    "| > 2.0   |          1     |"
   ]
  },
  {
   "cell_type": "markdown",
   "id": "da466f2b-9fe5-4110-bbe2-a4aa5e7f6117",
   "metadata": {},
   "source": [
    "## Clasificación P"
   ]
  },
  {
   "cell_type": "markdown",
   "id": "cddd05f8-dd4a-4d1e-9bc3-7a4a65322bc0",
   "metadata": {},
   "source": [
    "|  Rangos   | Valor |\n",
    "|:-------------------------:|:-----------:|\n",
    "|       < 5 |         0.2     |\n",
    "|       5 - 10.0 |         0.5     |\n",
    "|       10.0 - 15.0 |         0.8     |\n",
    "| > 15.0   |          1     |"
   ]
  },
  {
   "cell_type": "markdown",
   "id": "bc9837dd-4345-4438-af38-f2b1b32161df",
   "metadata": {},
   "source": [
    "## Clasificación K"
   ]
  },
  {
   "cell_type": "markdown",
   "id": "193b9637-6791-48a5-bade-9a108e890b06",
   "metadata": {},
   "source": [
    "|  Rangos   | Valor |\n",
    "|:-------------------------:|:-----------:|\n",
    "|       < 100 |         0.2     |\n",
    "|       100 - 200.0 |         0.5     |\n",
    "|       200.0 - 400.0 |         0.8     |\n",
    "| > 400.0   |          1     |"
   ]
  },
  {
   "cell_type": "code",
   "execution_count": 10,
   "id": "ea0ede79-202c-45e7-9075-cc2ffddfd88c",
   "metadata": {
    "tags": []
   },
   "outputs": [
    {
     "data": {
      "text/html": [
       "<table class=\"dataframe\">\n",
       "<caption>A matrix: 4 × 3 of type dbl</caption>\n",
       "<tbody>\n",
       "\t<tr><td>-Inf</td><td>100</td><td>0.2</td></tr>\n",
       "\t<tr><td> 100</td><td>200</td><td>0.5</td></tr>\n",
       "\t<tr><td> 200</td><td>400</td><td>0.8</td></tr>\n",
       "\t<tr><td> 400</td><td>Inf</td><td>1.0</td></tr>\n",
       "</tbody>\n",
       "</table>\n"
      ],
      "text/latex": [
       "A matrix: 4 × 3 of type dbl\n",
       "\\begin{tabular}{lll}\n",
       "\t -Inf & 100 & 0.2\\\\\n",
       "\t  100 & 200 & 0.5\\\\\n",
       "\t  200 & 400 & 0.8\\\\\n",
       "\t  400 & Inf & 1.0\\\\\n",
       "\\end{tabular}\n"
      ],
      "text/markdown": [
       "\n",
       "A matrix: 4 × 3 of type dbl\n",
       "\n",
       "| -Inf | 100 | 0.2 |\n",
       "|  100 | 200 | 0.5 |\n",
       "|  200 | 400 | 0.8 |\n",
       "|  400 | Inf | 1.0 |\n",
       "\n"
      ],
      "text/plain": [
       "     [,1] [,2] [,3]\n",
       "[1,] -Inf 100  0.2 \n",
       "[2,]  100 200  0.5 \n",
       "[3,]  200 400  0.8 \n",
       "[4,]  400 Inf  1.0 "
      ]
     },
     "metadata": {},
     "output_type": "display_data"
    }
   ],
   "source": [
    "# Clasificacion en 4 clases\n",
    "Clase_K <- c(-Inf,100, 0.2,\n",
    "           100.0, 200.0, 0.5,\n",
    "           200.0, 400.0, 0.8,\n",
    "           400.0, Inf, 1)\n",
    "mat_K <- matrix(Clase_K, ncol = 3, byrow = TRUE)\n",
    "mat_K"
   ]
  },
  {
   "cell_type": "code",
   "execution_count": 11,
   "id": "25fcc049-1cff-4f5d-8a99-ce30d68a1fdc",
   "metadata": {
    "tags": []
   },
   "outputs": [
    {
     "data": {
      "text/html": [
       "<table class=\"dataframe\">\n",
       "<caption>A matrix: 4 × 3 of type dbl</caption>\n",
       "<tbody>\n",
       "\t<tr><td>-Inf</td><td>  5</td><td>0.2</td></tr>\n",
       "\t<tr><td>   5</td><td> 10</td><td>0.5</td></tr>\n",
       "\t<tr><td>  10</td><td> 15</td><td>0.8</td></tr>\n",
       "\t<tr><td>  15</td><td>Inf</td><td>1.0</td></tr>\n",
       "</tbody>\n",
       "</table>\n"
      ],
      "text/latex": [
       "A matrix: 4 × 3 of type dbl\n",
       "\\begin{tabular}{lll}\n",
       "\t -Inf &   5 & 0.2\\\\\n",
       "\t    5 &  10 & 0.5\\\\\n",
       "\t   10 &  15 & 0.8\\\\\n",
       "\t   15 & Inf & 1.0\\\\\n",
       "\\end{tabular}\n"
      ],
      "text/markdown": [
       "\n",
       "A matrix: 4 × 3 of type dbl\n",
       "\n",
       "| -Inf |   5 | 0.2 |\n",
       "|    5 |  10 | 0.5 |\n",
       "|   10 |  15 | 0.8 |\n",
       "|   15 | Inf | 1.0 |\n",
       "\n"
      ],
      "text/plain": [
       "     [,1] [,2] [,3]\n",
       "[1,] -Inf   5  0.2 \n",
       "[2,]    5  10  0.5 \n",
       "[3,]   10  15  0.8 \n",
       "[4,]   15 Inf  1.0 "
      ]
     },
     "metadata": {},
     "output_type": "display_data"
    }
   ],
   "source": [
    "# Clasificacion en 4 clases\n",
    "Clase_P <- c(-Inf,5, 0.2,\n",
    "           5.0, 10.0, 0.5,\n",
    "           10.0, 15.0, 0.8,\n",
    "           15.0, Inf, 1)\n",
    "mat_P <- matrix(Clase_P, ncol = 3, byrow = TRUE)\n",
    "mat_P"
   ]
  },
  {
   "cell_type": "code",
   "execution_count": 12,
   "id": "9071d8ca-ce56-4a4b-bcf0-1587e1b067cb",
   "metadata": {
    "tags": []
   },
   "outputs": [
    {
     "data": {
      "text/html": [
       "<table class=\"dataframe\">\n",
       "<caption>A matrix: 4 × 3 of type dbl</caption>\n",
       "<tbody>\n",
       "\t<tr><td>-Inf</td><td>0.5</td><td>0.2</td></tr>\n",
       "\t<tr><td> 0.5</td><td>1.0</td><td>0.5</td></tr>\n",
       "\t<tr><td> 1.0</td><td>2.0</td><td>0.8</td></tr>\n",
       "\t<tr><td> 2.0</td><td>Inf</td><td>1.0</td></tr>\n",
       "</tbody>\n",
       "</table>\n"
      ],
      "text/latex": [
       "A matrix: 4 × 3 of type dbl\n",
       "\\begin{tabular}{lll}\n",
       "\t -Inf & 0.5 & 0.2\\\\\n",
       "\t  0.5 & 1.0 & 0.5\\\\\n",
       "\t  1.0 & 2.0 & 0.8\\\\\n",
       "\t  2.0 & Inf & 1.0\\\\\n",
       "\\end{tabular}\n"
      ],
      "text/markdown": [
       "\n",
       "A matrix: 4 × 3 of type dbl\n",
       "\n",
       "| -Inf | 0.5 | 0.2 |\n",
       "|  0.5 | 1.0 | 0.5 |\n",
       "|  1.0 | 2.0 | 0.8 |\n",
       "|  2.0 | Inf | 1.0 |\n",
       "\n"
      ],
      "text/plain": [
       "     [,1] [,2] [,3]\n",
       "[1,] -Inf 0.5  0.2 \n",
       "[2,]  0.5 1.0  0.5 \n",
       "[3,]  1.0 2.0  0.8 \n",
       "[4,]  2.0 Inf  1.0 "
      ]
     },
     "metadata": {},
     "output_type": "display_data"
    }
   ],
   "source": [
    "# Clasificacion en 4 clases\n",
    "Clase_MO <- c(-Inf,0.5, 0.2,\n",
    "           0.5, 1.0, 0.5,\n",
    "           1.0, 2.0, 0.8,\n",
    "           2.0, Inf, 1)\n",
    "mat_MO <- matrix(Clase_MO, ncol = 3, byrow = TRUE)\n",
    "mat_MO"
   ]
  },
  {
   "cell_type": "code",
   "execution_count": 13,
   "id": "9b155ccf-a7f4-4096-9aac-19a421f4a1a5",
   "metadata": {
    "tags": []
   },
   "outputs": [
    {
     "data": {
      "text/html": [
       "<table class=\"dataframe\">\n",
       "<caption>A matrix: 7 × 3 of type dbl</caption>\n",
       "<tbody>\n",
       "\t<tr><td>-Inf</td><td>5.5</td><td>0.2</td></tr>\n",
       "\t<tr><td> 5.5</td><td>6.0</td><td>0.5</td></tr>\n",
       "\t<tr><td> 6.0</td><td>6.5</td><td>0.8</td></tr>\n",
       "\t<tr><td> 6.5</td><td>7.0</td><td>1.0</td></tr>\n",
       "\t<tr><td> 7.0</td><td>7.5</td><td>0.8</td></tr>\n",
       "\t<tr><td> 7.5</td><td>8.0</td><td>0.5</td></tr>\n",
       "\t<tr><td> 8.0</td><td>Inf</td><td>0.2</td></tr>\n",
       "</tbody>\n",
       "</table>\n"
      ],
      "text/latex": [
       "A matrix: 7 × 3 of type dbl\n",
       "\\begin{tabular}{lll}\n",
       "\t -Inf & 5.5 & 0.2\\\\\n",
       "\t  5.5 & 6.0 & 0.5\\\\\n",
       "\t  6.0 & 6.5 & 0.8\\\\\n",
       "\t  6.5 & 7.0 & 1.0\\\\\n",
       "\t  7.0 & 7.5 & 0.8\\\\\n",
       "\t  7.5 & 8.0 & 0.5\\\\\n",
       "\t  8.0 & Inf & 0.2\\\\\n",
       "\\end{tabular}\n"
      ],
      "text/markdown": [
       "\n",
       "A matrix: 7 × 3 of type dbl\n",
       "\n",
       "| -Inf | 5.5 | 0.2 |\n",
       "|  5.5 | 6.0 | 0.5 |\n",
       "|  6.0 | 6.5 | 0.8 |\n",
       "|  6.5 | 7.0 | 1.0 |\n",
       "|  7.0 | 7.5 | 0.8 |\n",
       "|  7.5 | 8.0 | 0.5 |\n",
       "|  8.0 | Inf | 0.2 |\n",
       "\n"
      ],
      "text/plain": [
       "     [,1] [,2] [,3]\n",
       "[1,] -Inf 5.5  0.2 \n",
       "[2,]  5.5 6.0  0.5 \n",
       "[3,]  6.0 6.5  0.8 \n",
       "[4,]  6.5 7.0  1.0 \n",
       "[5,]  7.0 7.5  0.8 \n",
       "[6,]  7.5 8.0  0.5 \n",
       "[7,]  8.0 Inf  0.2 "
      ]
     },
     "metadata": {},
     "output_type": "display_data"
    }
   ],
   "source": [
    "# Clasificacion en 4 clases\n",
    "Clase_PH <- c(-Inf,5.5, 0.2,\n",
    "           5.5, 6.0, 0.5,\n",
    "           6.0, 6.5, 0.8,\n",
    "           6.5, 7.0, 1.0,\n",
    "           7.0, 7.5, 0.8,\n",
    "           7.5, 8.0, 0.5,\n",
    "           8.0, Inf, 0.2)\n",
    "mat_Ph <- matrix(Clase_PH, ncol = 3, byrow = TRUE)\n",
    "mat_Ph"
   ]
  },
  {
   "cell_type": "code",
   "execution_count": 14,
   "id": "f23a848d-dcb0-4b09-bb22-e080c711b3da",
   "metadata": {
    "tags": []
   },
   "outputs": [
    {
     "data": {
      "text/html": [
       "<table class=\"dataframe\">\n",
       "<caption>A matrix: 4 × 3 of type dbl</caption>\n",
       "<tbody>\n",
       "\t<tr><td>-Inf</td><td>  2</td><td>1.0</td></tr>\n",
       "\t<tr><td>   2</td><td>  4</td><td>0.8</td></tr>\n",
       "\t<tr><td>   4</td><td>  8</td><td>0.5</td></tr>\n",
       "\t<tr><td>   8</td><td>Inf</td><td>0.2</td></tr>\n",
       "</tbody>\n",
       "</table>\n"
      ],
      "text/latex": [
       "A matrix: 4 × 3 of type dbl\n",
       "\\begin{tabular}{lll}\n",
       "\t -Inf &   2 & 1.0\\\\\n",
       "\t    2 &   4 & 0.8\\\\\n",
       "\t    4 &   8 & 0.5\\\\\n",
       "\t    8 & Inf & 0.2\\\\\n",
       "\\end{tabular}\n"
      ],
      "text/markdown": [
       "\n",
       "A matrix: 4 × 3 of type dbl\n",
       "\n",
       "| -Inf |   2 | 1.0 |\n",
       "|    2 |   4 | 0.8 |\n",
       "|    4 |   8 | 0.5 |\n",
       "|    8 | Inf | 0.2 |\n",
       "\n"
      ],
      "text/plain": [
       "     [,1] [,2] [,3]\n",
       "[1,] -Inf   2  1.0 \n",
       "[2,]    2   4  0.8 \n",
       "[3,]    4   8  0.5 \n",
       "[4,]    8 Inf  0.2 "
      ]
     },
     "metadata": {},
     "output_type": "display_data"
    }
   ],
   "source": [
    "# Clasificacion en 4 clases\n",
    "Clase_ce <- c(-Inf,2.0, 1,\n",
    "           2.0, 4.0, 0.8,\n",
    "           4.0, 8.0, 0.5,\n",
    "           8.0, Inf, 0.2)\n",
    "mat_ce <- matrix(Clase_ce, ncol = 3, byrow = TRUE)\n",
    "mat_ce"
   ]
  },
  {
   "cell_type": "code",
   "execution_count": 15,
   "id": "9674c8e8-a421-43a9-b9a9-11362abbbc46",
   "metadata": {
    "tags": []
   },
   "outputs": [
    {
     "data": {
      "text/html": [
       "<table class=\"dataframe\">\n",
       "<caption>A matrix: 6 × 1 of type dbl</caption>\n",
       "<thead>\n",
       "\t<tr><th></th><th scope=col>Ajuste_Predic_PH</th></tr>\n",
       "</thead>\n",
       "<tbody>\n",
       "\t<tr><th scope=row>Min.</th><td>    4.075900</td></tr>\n",
       "\t<tr><th scope=row>1st Qu.</th><td>    4.687191</td></tr>\n",
       "\t<tr><th scope=row>Median</th><td>    4.877999</td></tr>\n",
       "\t<tr><th scope=row>3rd Qu.</th><td>    5.097399</td></tr>\n",
       "\t<tr><th scope=row>Max.</th><td>    6.038994</td></tr>\n",
       "\t<tr><th scope=row>NA's</th><td>21191.000000</td></tr>\n",
       "</tbody>\n",
       "</table>\n"
      ],
      "text/latex": [
       "A matrix: 6 × 1 of type dbl\n",
       "\\begin{tabular}{r|l}\n",
       "  & Ajuste\\_Predic\\_PH\\\\\n",
       "\\hline\n",
       "\tMin. &     4.075900\\\\\n",
       "\t1st Qu. &     4.687191\\\\\n",
       "\tMedian &     4.877999\\\\\n",
       "\t3rd Qu. &     5.097399\\\\\n",
       "\tMax. &     6.038994\\\\\n",
       "\tNA's & 21191.000000\\\\\n",
       "\\end{tabular}\n"
      ],
      "text/markdown": [
       "\n",
       "A matrix: 6 × 1 of type dbl\n",
       "\n",
       "| <!--/--> | Ajuste_Predic_PH |\n",
       "|---|---|\n",
       "| Min. |     4.075900 |\n",
       "| 1st Qu. |     4.687191 |\n",
       "| Median |     4.877999 |\n",
       "| 3rd Qu. |     5.097399 |\n",
       "| Max. |     6.038994 |\n",
       "| NA's | 21191.000000 |\n",
       "\n"
      ],
      "text/plain": [
       "        Ajuste_Predic_PH\n",
       "Min.        4.075900    \n",
       "1st Qu.     4.687191    \n",
       "Median      4.877999    \n",
       "3rd Qu.     5.097399    \n",
       "Max.        6.038994    \n",
       "NA's    21191.000000    "
      ]
     },
     "metadata": {},
     "output_type": "display_data"
    }
   ],
   "source": [
    "summary(Banda_PH)"
   ]
  },
  {
   "cell_type": "code",
   "execution_count": 16,
   "id": "2fe0d60a-ff56-464d-a2af-eaae81bb1937",
   "metadata": {
    "tags": []
   },
   "outputs": [],
   "source": [
    "# Reclasificacion raster\n",
    "Clasificacion_Banda_Ph <- reclassify(Banda_PH, mat_Ph)\n",
    "Clasificacion_Banda_CE <- reclassify(Banda_CE, mat_ce)\n",
    "Clasificacion_Banda_MO <- reclassify(Banda_MO, mat_MO)\n",
    "Clasificacion_Banda_P <- reclassify(Banda_P, mat_P)\n",
    "Clasificacion_Banda_K <- reclassify(Banda_K, mat_K)"
   ]
  },
  {
   "cell_type": "code",
   "execution_count": 17,
   "id": "4987cd73-7f7c-477c-a005-3c2c265c99fa",
   "metadata": {
    "tags": []
   },
   "outputs": [],
   "source": [
    "# Exportar raster\n",
    "writeRaster(Clasificacion_Banda_K, \"Clasificacion_K.tif\",\n",
    "            format=\"GTiff\", overwrite=TRUE)"
   ]
  },
  {
   "cell_type": "code",
   "execution_count": 18,
   "id": "c6bdb110-29a0-486f-b301-6550f47375ae",
   "metadata": {
    "tags": []
   },
   "outputs": [],
   "source": [
    "# Exportar raster\n",
    "writeRaster(Clasificacion_Banda_P, \"Clasificacion_P.tif\",\n",
    "            format=\"GTiff\", overwrite=TRUE)"
   ]
  },
  {
   "cell_type": "code",
   "execution_count": 19,
   "id": "379d571b-ad83-4af0-89b3-e39841960775",
   "metadata": {
    "tags": []
   },
   "outputs": [],
   "source": [
    "# Exportar raster\n",
    "writeRaster(Clasificacion_Banda_Ph, \"Clasificacion_Ph.tif\",\n",
    "            format=\"GTiff\", overwrite=TRUE)"
   ]
  },
  {
   "cell_type": "code",
   "execution_count": 20,
   "id": "19cc9d39-319b-49b2-898a-82c566eb6267",
   "metadata": {
    "tags": []
   },
   "outputs": [],
   "source": [
    "writeRaster(Clasificacion_Banda_CE, \"Clasificacion_CE.tif\",\n",
    "            format=\"GTiff\", overwrite=TRUE)"
   ]
  },
  {
   "cell_type": "code",
   "execution_count": 21,
   "id": "9613db82-1a2d-4375-b103-2f9af5231868",
   "metadata": {
    "tags": []
   },
   "outputs": [],
   "source": [
    "writeRaster(Clasificacion_Banda_MO, \"Clasificacion_MO.tif\",\n",
    "            format=\"GTiff\", overwrite=TRUE)"
   ]
  },
  {
   "cell_type": "code",
   "execution_count": 22,
   "id": "dbb2b532-d865-4ed5-a96e-90406824a794",
   "metadata": {
    "tags": []
   },
   "outputs": [],
   "source": [
    "# Definimos la paleta de colores segun las 5 clases\n",
    "mycolor <- c(\"#b6b2ab\",\"#33b63e\",\"#e0ee1a\",\"#ee0004\")"
   ]
  },
  {
   "cell_type": "code",
   "execution_count": 23,
   "id": "8b5cdefb-d0ac-43d8-a660-dbdd5bfd9542",
   "metadata": {
    "tags": []
   },
   "outputs": [
    {
     "data": {
      "image/png": "[encoded data removed]",
      "text/plain": [
       "Plot with title \"Clasificacion de PH\""
      ]
     },
     "metadata": {
      "image/png": {
       "height": 420,
       "width": 420
      }
     },
     "output_type": "display_data"
    }
   ],
   "source": [
    "# Visualizar de la clasificacion\n",
    "plot(Clasificacion_Banda_Ph, main = \"Clasificacion de PH\",\n",
    "     axes = TRUE, xlab = \"ESTE\", ylab = \"NORTE\", col= mycolor)"
   ]
  },
  {
   "cell_type": "code",
   "execution_count": 24,
   "id": "0ce92ca5-3d56-4778-b228-40203bd518e0",
   "metadata": {
    "tags": []
   },
   "outputs": [
    {
     "data": {
      "image/png": "[encoded data removed]",
      "text/plain": [
       "Plot with title \"Clasificacion de K\""
      ]
     },
     "metadata": {
      "image/png": {
       "height": 420,
       "width": 420
      }
     },
     "output_type": "display_data"
    }
   ],
   "source": [
    "# Visualizar de la clasificacion\n",
    "plot(Clasificacion_Banda_K, main = \"Clasificacion de K\",\n",
    "     axes = TRUE, xlab = \"ESTE\", ylab = \"NORTE\", col= mycolor)"
   ]
  },
  {
   "cell_type": "code",
   "execution_count": 25,
   "id": "de7a412d-4404-41d0-8d4c-3723a8cebf88",
   "metadata": {
    "tags": []
   },
   "outputs": [
    {
     "data": {
      "image/png": "[encoded data removed]",
      "text/plain": [
       "Plot with title \"Clasificacion de P\""
      ]
     },
     "metadata": {
      "image/png": {
       "height": 420,
       "width": 420
      }
     },
     "output_type": "display_data"
    }
   ],
   "source": [
    "# Visualizar de la clasificacion\n",
    "plot(Clasificacion_Banda_P, main = \"Clasificacion de P\",\n",
    "     axes = TRUE, xlab = \"ESTE\", ylab = \"NORTE\", col= mycolor)"
   ]
  },
  {
   "cell_type": "code",
   "execution_count": 26,
   "id": "c6009a35-0a52-41f9-8062-52c97ead1241",
   "metadata": {
    "tags": []
   },
   "outputs": [
    {
     "data": {
      "image/png": "[encoded data removed]",
      "text/plain": [
       "Plot with title \"Clasificacion de CE\""
      ]
     },
     "metadata": {
      "image/png": {
       "height": 420,
       "width": 420
      }
     },
     "output_type": "display_data"
    }
   ],
   "source": [
    "# Visualizar de la clasificacion\n",
    "plot(Clasificacion_Banda_CE, main = \"Clasificacion de CE\",\n",
    "     axes = TRUE, xlab = \"ESTE\", ylab = \"NORTE\", col= mycolor)"
   ]
  },
  {
   "cell_type": "code",
   "execution_count": 27,
   "id": "29e3917d-4c97-48e8-a425-24a1b689252a",
   "metadata": {
    "tags": []
   },
   "outputs": [
    {
     "data": {
      "image/png": "[encoded data removed]",
      "text/plain": [
       "Plot with title \"Clasificacion de MO\""
      ]
     },
     "metadata": {
      "image/png": {
       "height": 420,
       "width": 420
      }
     },
     "output_type": "display_data"
    }
   ],
   "source": [
    "# Visualizar de la clasificacion\n",
    "plot(Clasificacion_Banda_MO, main = \"Clasificacion de MO\",\n",
    "     axes = TRUE, xlab = \"ESTE\", ylab = \"NORTE\", col= mycolor)"
   ]
  },
  {
   "cell_type": "code",
   "execution_count": 28,
   "id": "e020febf-7566-41d3-a988-dff26a53bdc9",
   "metadata": {
    "tags": []
   },
   "outputs": [],
   "source": [
    "# Conversion de raster a tabla\n",
    "tbl_PH <- rasterToPoints(Clasificacion_Banda_Ph, spatial = F)\n",
    "tabla_PH <- as.data.frame(tbl_PH)"
   ]
  },
  {
   "cell_type": "code",
   "execution_count": 29,
   "id": "859805f6-b430-4bd4-91e0-a53a536a2a49",
   "metadata": {
    "tags": []
   },
   "outputs": [],
   "source": [
    "tbl_MO <- rasterToPoints(Clasificacion_Banda_MO, spatial = F)\n",
    "tabla_MO <- as.data.frame(tbl_MO)"
   ]
  },
  {
   "cell_type": "code",
   "execution_count": 30,
   "id": "60662672-363e-4af1-b95c-f5083a3f72be",
   "metadata": {
    "tags": []
   },
   "outputs": [],
   "source": [
    "tbl_CE <- rasterToPoints(Clasificacion_Banda_CE, spatial = F)\n",
    "tabla_CE <- as.data.frame(tbl_CE)"
   ]
  },
  {
   "cell_type": "code",
   "execution_count": 31,
   "id": "03b6c227-31c3-49b6-a2c0-1818d5d21f19",
   "metadata": {
    "tags": []
   },
   "outputs": [],
   "source": [
    "tbl_P <- rasterToPoints(Clasificacion_Banda_P, spatial = F)\n",
    "tabla_P <- as.data.frame(tbl_P)"
   ]
  },
  {
   "cell_type": "code",
   "execution_count": 32,
   "id": "9c26655b-5964-4ee4-b105-2d0182a3ce9d",
   "metadata": {
    "tags": []
   },
   "outputs": [],
   "source": [
    "tbl_K <- rasterToPoints(Clasificacion_Banda_K, spatial = F)\n",
    "tabla_K <- as.data.frame(tbl_K)"
   ]
  },
  {
   "cell_type": "code",
   "execution_count": 34,
   "id": "9adbad35-da6b-45bb-bac9-d8042d7616f7",
   "metadata": {
    "tags": []
   },
   "outputs": [
    {
     "data": {
      "text/html": [
       "<style>\n",
       ".list-inline {list-style: none; margin:0; padding: 0}\n",
       ".list-inline>li {display: inline-block}\n",
       ".list-inline>li:not(:last-child)::after {content: \"\\00b7\"; padding: 0 .5ex}\n",
       "</style>\n",
       "<ol class=list-inline><li>'x'</li><li>'y'</li><li>'Ajuste_Predic_K'</li></ol>\n"
      ],
      "text/latex": [
       "\\begin{enumerate*}\n",
       "\\item 'x'\n",
       "\\item 'y'\n",
       "\\item 'Ajuste\\_Predic\\_K'\n",
       "\\end{enumerate*}\n"
      ],
      "text/markdown": [
       "1. 'x'\n",
       "2. 'y'\n",
       "3. 'Ajuste_Predic_K'\n",
       "\n",
       "\n"
      ],
      "text/plain": [
       "[1] \"x\"               \"y\"               \"Ajuste_Predic_K\""
      ]
     },
     "metadata": {},
     "output_type": "display_data"
    }
   ],
   "source": [
    "names(tabla_K)"
   ]
  },
  {
   "cell_type": "code",
   "execution_count": 35,
   "id": "5a78acbf-c166-46a4-b274-1ce91583ea2a",
   "metadata": {
    "tags": []
   },
   "outputs": [],
   "source": [
    "names(tabla_PH) <- c(\"Este\", \"Norte\", \"Clase\")\n",
    "names(tabla_MO) <- c(\"Este\", \"Norte\", \"Clase\")\n",
    "names(tabla_CE) <- c(\"Este\", \"Norte\", \"Clase\")\n",
    "names(tabla_P) <- c(\"Este\", \"Norte\", \"Clase\")\n",
    "names(tabla_K) <- c(\"Este\", \"Norte\", \"Clase\")"
   ]
  },
  {
   "cell_type": "code",
   "execution_count": 36,
   "id": "7e81b1b6-5ead-4d69-88f8-b6815fddd7f2",
   "metadata": {
    "tags": []
   },
   "outputs": [
    {
     "data": {
      "text/html": [
       "<table class=\"dataframe\">\n",
       "<caption>A data.frame: 6 × 3</caption>\n",
       "<thead>\n",
       "\t<tr><th></th><th scope=col>Este</th><th scope=col>Norte</th><th scope=col>Clase</th></tr>\n",
       "\t<tr><th></th><th scope=col>&lt;dbl&gt;</th><th scope=col>&lt;dbl&gt;</th><th scope=col>&lt;dbl&gt;</th></tr>\n",
       "</thead>\n",
       "<tbody>\n",
       "\t<tr><th scope=row>1</th><td>512098.3</td><td>9057269</td><td>0.2</td></tr>\n",
       "\t<tr><th scope=row>2</th><td>512108.3</td><td>9057269</td><td>0.2</td></tr>\n",
       "\t<tr><th scope=row>3</th><td>512118.3</td><td>9057269</td><td>0.2</td></tr>\n",
       "\t<tr><th scope=row>4</th><td>512088.3</td><td>9057259</td><td>0.2</td></tr>\n",
       "\t<tr><th scope=row>5</th><td>512098.3</td><td>9057259</td><td>0.2</td></tr>\n",
       "\t<tr><th scope=row>6</th><td>512108.3</td><td>9057259</td><td>0.2</td></tr>\n",
       "</tbody>\n",
       "</table>\n"
      ],
      "text/latex": [
       "A data.frame: 6 × 3\n",
       "\\begin{tabular}{r|lll}\n",
       "  & Este & Norte & Clase\\\\\n",
       "  & <dbl> & <dbl> & <dbl>\\\\\n",
       "\\hline\n",
       "\t1 & 512098.3 & 9057269 & 0.2\\\\\n",
       "\t2 & 512108.3 & 9057269 & 0.2\\\\\n",
       "\t3 & 512118.3 & 9057269 & 0.2\\\\\n",
       "\t4 & 512088.3 & 9057259 & 0.2\\\\\n",
       "\t5 & 512098.3 & 9057259 & 0.2\\\\\n",
       "\t6 & 512108.3 & 9057259 & 0.2\\\\\n",
       "\\end{tabular}\n"
      ],
      "text/markdown": [
       "\n",
       "A data.frame: 6 × 3\n",
       "\n",
       "| <!--/--> | Este &lt;dbl&gt; | Norte &lt;dbl&gt; | Clase &lt;dbl&gt; |\n",
       "|---|---|---|---|\n",
       "| 1 | 512098.3 | 9057269 | 0.2 |\n",
       "| 2 | 512108.3 | 9057269 | 0.2 |\n",
       "| 3 | 512118.3 | 9057269 | 0.2 |\n",
       "| 4 | 512088.3 | 9057259 | 0.2 |\n",
       "| 5 | 512098.3 | 9057259 | 0.2 |\n",
       "| 6 | 512108.3 | 9057259 | 0.2 |\n",
       "\n"
      ],
      "text/plain": [
       "  Este     Norte   Clase\n",
       "1 512098.3 9057269 0.2  \n",
       "2 512108.3 9057269 0.2  \n",
       "3 512118.3 9057269 0.2  \n",
       "4 512088.3 9057259 0.2  \n",
       "5 512098.3 9057259 0.2  \n",
       "6 512108.3 9057259 0.2  "
      ]
     },
     "metadata": {},
     "output_type": "display_data"
    }
   ],
   "source": [
    "# Visualizacion de la tabla\n",
    "head(tabla_K)"
   ]
  },
  {
   "cell_type": "code",
   "execution_count": 37,
   "id": "0e0482e8-4631-430f-b1e8-89fa5d70044a",
   "metadata": {
    "tags": []
   },
   "outputs": [
    {
     "data": {
      "text/html": [
       "0.2"
      ],
      "text/latex": [
       "0.2"
      ],
      "text/markdown": [
       "0.2"
      ],
      "text/plain": [
       "[1] 0.2"
      ]
     },
     "metadata": {},
     "output_type": "display_data"
    }
   ],
   "source": [
    "unique(tabla_K$Clase)"
   ]
  },
  {
   "cell_type": "code",
   "execution_count": 39,
   "id": "a4f79d2e-de99-4aee-9fa8-182fea873788",
   "metadata": {
    "tags": []
   },
   "outputs": [],
   "source": [
    "library(dplyr)"
   ]
  },
  {
   "cell_type": "code",
   "execution_count": 40,
   "id": "0a8b5b0d-d2b6-4d1d-af39-46a7c2bf0e43",
   "metadata": {
    "tags": []
   },
   "outputs": [],
   "source": [
    "# Sumatoria\n",
    "conteo_tabla_PH <- summarise(group_by(tabla_PH, Clase),count = n())\n",
    "conteo_tabla_MO <- summarise(group_by(tabla_MO, Clase),count = n())\n",
    "conteo_tabla_CE <- summarise(group_by(tabla_CE, Clase),count = n())\n",
    "conteo_tabla_P <- summarise(group_by(tabla_P, Clase),count = n())\n",
    "conteo_tabla_K <- summarise(group_by(tabla_K, Clase),count = n())"
   ]
  },
  {
   "cell_type": "code",
   "execution_count": 41,
   "id": "a247835c-0617-4392-b07e-9e3c8fb421a9",
   "metadata": {
    "tags": []
   },
   "outputs": [],
   "source": [
    "# pixel a hectarea\n",
    "Datos_area_PH <- mutate(conteo_tabla_PH, metros = count*(10)^2, \n",
    "                     has = metros/10000, porcentaje = (has/sum(has))*100)\n",
    "Datos_area_MO <- mutate(conteo_tabla_MO, metros = count*(10)^2, \n",
    "                     has = metros/10000, porcentaje = (has/sum(has))*100)\n",
    "Datos_area_CE <- mutate(conteo_tabla_CE, metros = count*(10)^2, \n",
    "                     has = metros/10000, porcentaje = (has/sum(has))*100)\n",
    "Datos_area_P <- mutate(conteo_tabla_P, metros = count*(10)^2, \n",
    "                     has = metros/10000, porcentaje = (has/sum(has))*100)\n",
    "Datos_area_K <- mutate(conteo_tabla_K, metros = count*(10)^2, \n",
    "                     has = metros/10000, porcentaje = (has/sum(has))*100)"
   ]
  },
  {
   "cell_type": "code",
   "execution_count": 42,
   "id": "768ca4c4-c606-49ee-bc63-9caaebb1a47b",
   "metadata": {
    "tags": []
   },
   "outputs": [
    {
     "data": {
      "text/html": [
       "<table class=\"dataframe\">\n",
       "<caption>A tibble: 2 × 5</caption>\n",
       "<thead>\n",
       "\t<tr><th scope=col>Clase</th><th scope=col>count</th><th scope=col>metros</th><th scope=col>has</th><th scope=col>porcentaje</th></tr>\n",
       "\t<tr><th scope=col>&lt;dbl&gt;</th><th scope=col>&lt;int&gt;</th><th scope=col>&lt;dbl&gt;</th><th scope=col>&lt;dbl&gt;</th><th scope=col>&lt;dbl&gt;</th></tr>\n",
       "</thead>\n",
       "<tbody>\n",
       "\t<tr><td>0.8</td><td>   2</td><td>   200</td><td> 0.02</td><td> 0.02551997</td></tr>\n",
       "\t<tr><td>1.0</td><td>7835</td><td>783500</td><td>78.35</td><td>99.97448003</td></tr>\n",
       "</tbody>\n",
       "</table>\n"
      ],
      "text/latex": [
       "A tibble: 2 × 5\n",
       "\\begin{tabular}{lllll}\n",
       " Clase & count & metros & has & porcentaje\\\\\n",
       " <dbl> & <int> & <dbl> & <dbl> & <dbl>\\\\\n",
       "\\hline\n",
       "\t 0.8 &    2 &    200 &  0.02 &  0.02551997\\\\\n",
       "\t 1.0 & 7835 & 783500 & 78.35 & 99.97448003\\\\\n",
       "\\end{tabular}\n"
      ],
      "text/markdown": [
       "\n",
       "A tibble: 2 × 5\n",
       "\n",
       "| Clase &lt;dbl&gt; | count &lt;int&gt; | metros &lt;dbl&gt; | has &lt;dbl&gt; | porcentaje &lt;dbl&gt; |\n",
       "|---|---|---|---|---|\n",
       "| 0.8 |    2 |    200 |  0.02 |  0.02551997 |\n",
       "| 1.0 | 7835 | 783500 | 78.35 | 99.97448003 |\n",
       "\n"
      ],
      "text/plain": [
       "  Clase count metros has   porcentaje \n",
       "1 0.8      2     200  0.02  0.02551997\n",
       "2 1.0   7835  783500 78.35 99.97448003"
      ]
     },
     "metadata": {},
     "output_type": "display_data"
    }
   ],
   "source": [
    "Datos_area_CE"
   ]
  },
  {
   "cell_type": "code",
   "execution_count": 43,
   "id": "54e79d86-1a5a-46c3-9c38-bff548adf417",
   "metadata": {
    "tags": []
   },
   "outputs": [
    {
     "data": {
      "image/png": "[encoded data removed]",
      "text/plain": [
       "Plot with title \"Clasificación de pH\""
      ]
     },
     "metadata": {
      "image/png": {
       "height": 420,
       "width": 420
      }
     },
     "output_type": "display_data"
    }
   ],
   "source": [
    "# Graficar datos perdida bosque\n",
    "barra <- barplot(Datos_area_PH$porcentaje, \n",
    "                 col = mycolor, \n",
    "                 names.arg = Datos_area_PH$Clase,\n",
    "                 main = \"Clasificación de pH\",\n",
    "                 xlab = \"Clase\", \n",
    "                 ylab = \"Hectareas (%)\",\n",
    "                 ylim = c(0, max(Datos_area_PH$porcentaje) + 10))\n",
    "\n",
    "text(x = barra, y = Datos_area_PH$porcentaje, pos=3, cex=1,\n",
    "     label = round(Datos_area_PH$porcentaje, 3))"
   ]
  },
  {
   "cell_type": "code",
   "execution_count": 44,
   "id": "220276fb-1289-4c52-9ad2-779f4bd2336a",
   "metadata": {
    "tags": []
   },
   "outputs": [
    {
     "data": {
      "image/png": "[encoded data removed]",
      "text/plain": [
       "Plot with title \"Clasificación de P\""
      ]
     },
     "metadata": {
      "image/png": {
       "height": 420,
       "width": 420
      }
     },
     "output_type": "display_data"
    }
   ],
   "source": [
    "# Graficar datos perdida bosque\n",
    "barra <- barplot(Datos_area_P$porcentaje, \n",
    "                 col = mycolor, \n",
    "                 names.arg = Datos_area_P$Clase,\n",
    "                 main = \"Clasificación de P\",\n",
    "                 xlab = \"Clase\", \n",
    "                 ylab = \"Hectareas (%)\",\n",
    "                 ylim = c(0, max(Datos_area_P$porcentaje) + 10))\n",
    "\n",
    "text(x = barra, y = Datos_area_P$porcentaje, pos=3, cex=1,\n",
    "     label = round(Datos_area_P$porcentaje, 3))"
   ]
  },
  {
   "cell_type": "code",
   "execution_count": 45,
   "id": "9abde8e6-3a81-46bf-a6f3-3aecfa835141",
   "metadata": {
    "tags": []
   },
   "outputs": [
    {
     "data": {
      "image/png": "[encoded data removed]",
      "text/plain": [
       "Plot with title \"Clasificación de K\""
      ]
     },
     "metadata": {
      "image/png": {
       "height": 420,
       "width": 420
      }
     },
     "output_type": "display_data"
    }
   ],
   "source": [
    "# Graficar datos perdida bosque\n",
    "barra <- barplot(Datos_area_K$porcentaje, \n",
    "                 col = mycolor, \n",
    "                 names.arg = Datos_area_K$Clase,\n",
    "                 main = \"Clasificación de K\",\n",
    "                 xlab = \"Clase\", \n",
    "                 ylab = \"Hectareas (%)\",\n",
    "                 ylim = c(0, max(Datos_area_K$porcentaje) + 10))\n",
    "\n",
    "text(x = barra, y = Datos_area_K$porcentaje, pos=3, cex=1,\n",
    "     label = round(Datos_area_K$porcentaje, 3))"
   ]
  },
  {
   "cell_type": "code",
   "execution_count": 46,
   "id": "a240042f-5c10-4f0c-b770-abe8a29b8f89",
   "metadata": {
    "tags": []
   },
   "outputs": [
    {
     "data": {
      "image/png": "[encoded data removed]",
      "text/plain": [
       "Plot with title \"Clasificación de MO\""
      ]
     },
     "metadata": {
      "image/png": {
       "height": 420,
       "width": 420
      }
     },
     "output_type": "display_data"
    }
   ],
   "source": [
    "# Graficar datos perdida bosque\n",
    "barra <- barplot(Datos_area_MO$porcentaje, \n",
    "                 col = mycolor, \n",
    "                 names.arg = Datos_area_MO$Clase,\n",
    "                 main = \"Clasificación de MO\",\n",
    "                 xlab = \"Clase\", \n",
    "                 ylab = \"Hectareas (%)\",\n",
    "                 ylim = c(0, max(Datos_area_MO$porcentaje) + 10))\n",
    "\n",
    "text(x = barra, y = Datos_area_MO$porcentaje, pos=3, cex=1,\n",
    "     label = round(Datos_area_MO$porcentaje, 3))"
   ]
  },
  {
   "cell_type": "code",
   "execution_count": 47,
   "id": "f5512231-116a-4fdf-9d69-b0a26fd91ca1",
   "metadata": {
    "tags": []
   },
   "outputs": [
    {
     "data": {
      "image/png": "[encoded data removed]",
      "text/plain": [
       "Plot with title \"Clasificación de CE\""
      ]
     },
     "metadata": {
      "image/png": {
       "height": 420,
       "width": 420
      }
     },
     "output_type": "display_data"
    }
   ],
   "source": [
    "# Graficar datos perdida bosque\n",
    "barra <- barplot(Datos_area_CE$porcentaje, \n",
    "                 col = mycolor, \n",
    "                 names.arg = Datos_area_CE$Clase,\n",
    "                 main = \"Clasificación de CE\",\n",
    "                 xlab = \"Clase\", \n",
    "                 ylab = \"Hectareas (%)\",\n",
    "                 ylim = c(0, max(Datos_area_CE$porcentaje) + 10))\n",
    "\n",
    "text(x = barra, y = Datos_area_CE$porcentaje, pos=3, cex=1,\n",
    "     label = round(Datos_area_CE$porcentaje, 3))"
   ]
  },
  {
   "cell_type": "code",
   "execution_count": 48,
   "id": "58ee0010-2a05-4d4f-80dc-5b5a4b61f4a7",
   "metadata": {
    "tags": []
   },
   "outputs": [],
   "source": [
    "# Exportacion tabla\n",
    "write.csv(Datos_area_PH, file = \"Datos_clasificacion_PH.csv\", row.names = T)\n",
    "write.csv(Datos_area_MO, file = \"Datos_clasificacion_MO.csv\", row.names = T)\n",
    "write.csv(Datos_area_CE, file = \"Datos_clasificacion_CE.csv\", row.names = T)\n",
    "write.csv(Datos_area_P, file = \"Datos_clasificacion_P.csv\", row.names = T)\n",
    "write.csv(Datos_area_K, file = \"Datos_clasificacion_K.csv\", row.names = T)"
   ]
  },
  {
   "cell_type": "code",
   "execution_count": null,
   "id": "a8891e51-84e1-4d57-ba03-22e4bdc9c29c",
   "metadata": {},
   "outputs": [],
   "source": []
  }
 ],
 "metadata": {
  "kernelspec": {
   "display_name": "R",
   "language": "R",
   "name": "ir"
  },
  "language_info": {
   "codemirror_mode": "r",
   "file_extension": ".r",
   "mimetype": "text/x-r-source",
   "name": "R",
   "pygments_lexer": "r",
   "version": "4.3.3"
  },
  "widgets": {
   "application/vnd.jupyter.widget-state+json": {
    "state": {},
    "version_major": 2,
    "version_minor": 0
   }
  }
 },
 "nbformat": 4,
 "nbformat_minor": 5
}
