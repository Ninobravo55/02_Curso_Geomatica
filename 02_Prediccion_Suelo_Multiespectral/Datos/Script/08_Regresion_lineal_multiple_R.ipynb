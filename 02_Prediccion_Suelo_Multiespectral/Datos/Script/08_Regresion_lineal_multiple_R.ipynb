{
 "cells": [
  {
   "cell_type": "markdown",
   "id": "7c1467f2-f597-4f75-b819-cd7c9e7f3b85",
   "metadata": {},
   "source": [
    "# Predicción de las propiedades de suelo con Regresion lineal multiple"
   ]
  },
  {
   "cell_type": "code",
   "execution_count": 2,
   "id": "a37e055c-9a20-489c-9785-cf21fba635ef",
   "metadata": {},
   "outputs": [],
   "source": [
    "library(sp)\n",
    "library(raster)\n",
    "library(MPV)\n",
    "library(mixlm)\n",
    "library(stats)\n",
    "library(sf)"
   ]
  },
  {
   "cell_type": "code",
   "execution_count": 3,
   "id": "52fe8a23-54c3-4245-8bba-868defdcff94",
   "metadata": {
    "tags": []
   },
   "outputs": [],
   "source": [
    "# Cambiar directorio\n",
    "setwd(r\"(C:\\Users\\GEOMATICA\\Curso_suelo\\02_Prediccion_Suelo_Multiespectral\\Datos\\Satelite\\Sentinel2\\Bandas)\")"
   ]
  },
  {
   "cell_type": "code",
   "execution_count": 4,
   "id": "37c8f6ec-0609-49be-8631-95efc0e1f8e6",
   "metadata": {
    "tags": []
   },
   "outputs": [
    {
     "data": {
      "text/html": [
       "'C:/Users/GEOMATICA/Curso_suelo/02_Prediccion_Suelo_Multiespectral/Datos/Satelite/Sentinel2/Bandas'"
      ],
      "text/latex": [
       "'C:/Users/GEOMATICA/Curso\\_suelo/02\\_Prediccion\\_Suelo\\_Multiespectral/Datos/Satelite/Sentinel2/Bandas'"
      ],
      "text/markdown": [
       "'C:/Users/GEOMATICA/Curso_suelo/02_Prediccion_Suelo_Multiespectral/Datos/Satelite/Sentinel2/Bandas'"
      ],
      "text/plain": [
       "[1] \"C:/Users/GEOMATICA/Curso_suelo/02_Prediccion_Suelo_Multiespectral/Datos/Satelite/Sentinel2/Bandas\""
      ]
     },
     "metadata": {},
     "output_type": "display_data"
    }
   ],
   "source": [
    "getwd()"
   ]
  },
  {
   "cell_type": "code",
   "execution_count": 5,
   "id": "d73197b3-bbe6-4d62-bbab-fa3756a89c22",
   "metadata": {
    "tags": []
   },
   "outputs": [
    {
     "data": {
      "text/html": [
       "<style>\n",
       ".list-inline {list-style: none; margin:0; padding: 0}\n",
       ".list-inline>li {display: inline-block}\n",
       ".list-inline>li:not(:last-child)::after {content: \"\\00b7\"; padding: 0 .5ex}\n",
       "</style>\n",
       "<ol class=list-inline><li>'Extraccion_indices.csv'</li><li>'Variables_correlacion.csv'</li></ol>\n"
      ],
      "text/latex": [
       "\\begin{enumerate*}\n",
       "\\item 'Extraccion\\_indices.csv'\n",
       "\\item 'Variables\\_correlacion.csv'\n",
       "\\end{enumerate*}\n"
      ],
      "text/markdown": [
       "1. 'Extraccion_indices.csv'\n",
       "2. 'Variables_correlacion.csv'\n",
       "\n",
       "\n"
      ],
      "text/plain": [
       "[1] \"Extraccion_indices.csv\"    \"Variables_correlacion.csv\""
      ]
     },
     "metadata": {},
     "output_type": "display_data"
    }
   ],
   "source": [
    "# Crear lista del directorio\n",
    "lista_csv <- list.files(path = getwd(), pattern = '.*.csv$')\n",
    "lista_csv"
   ]
  },
  {
   "cell_type": "code",
   "execution_count": 6,
   "id": "a533390d-d23f-4c3a-a887-1bb9b86513ee",
   "metadata": {
    "tags": []
   },
   "outputs": [],
   "source": [
    "dav = read.csv(lista_csv[1], sep = \",\")"
   ]
  },
  {
   "cell_type": "code",
   "execution_count": 7,
   "id": "f95cad49-150a-4431-ba8d-0cc26dbaeb83",
   "metadata": {
    "tags": []
   },
   "outputs": [
    {
     "data": {
      "text/html": [
       "<table class=\"dataframe\">\n",
       "<caption>A data.frame: 6 × 72</caption>\n",
       "<thead>\n",
       "\t<tr><th></th><th scope=col>ID</th><th scope=col>pH</th><th scope=col>CE</th><th scope=col>MO</th><th scope=col>N</th><th scope=col>P</th><th scope=col>K</th><th scope=col>Ca</th><th scope=col>Mg</th><th scope=col>Al</th><th scope=col>⋯</th><th scope=col>S2_47_aspect</th><th scope=col>S2_48_TPI</th><th scope=col>S2_49_TRI</th><th scope=col>S2_50_flowdir</th><th scope=col>S2_51__ACP_1</th><th scope=col>S2_52__ACP_2</th><th scope=col>S2_53__ACP_3</th><th scope=col>coords.x1</th><th scope=col>coords.x2</th><th scope=col>optional</th></tr>\n",
       "\t<tr><th></th><th scope=col>&lt;int&gt;</th><th scope=col>&lt;dbl&gt;</th><th scope=col>&lt;dbl&gt;</th><th scope=col>&lt;dbl&gt;</th><th scope=col>&lt;dbl&gt;</th><th scope=col>&lt;dbl&gt;</th><th scope=col>&lt;dbl&gt;</th><th scope=col>&lt;dbl&gt;</th><th scope=col>&lt;dbl&gt;</th><th scope=col>&lt;dbl&gt;</th><th scope=col>⋯</th><th scope=col>&lt;dbl&gt;</th><th scope=col>&lt;dbl&gt;</th><th scope=col>&lt;dbl&gt;</th><th scope=col>&lt;int&gt;</th><th scope=col>&lt;dbl&gt;</th><th scope=col>&lt;dbl&gt;</th><th scope=col>&lt;dbl&gt;</th><th scope=col>&lt;int&gt;</th><th scope=col>&lt;int&gt;</th><th scope=col>&lt;lgl&gt;</th></tr>\n",
       "</thead>\n",
       "<tbody>\n",
       "\t<tr><th scope=row>1</th><td>1</td><td>4.32</td><td>1.20</td><td>1.48</td><td>0.07</td><td>27.91</td><td>0.21</td><td>0.26</td><td>0.02</td><td>1.9</td><td>⋯</td><td>  0.00000</td><td> 0.21780168</td><td>0.5321983</td><td> 64</td><td>-0.18855515</td><td> 0.004775629</td><td>-0.007336683</td><td>512538</td><td>9056311</td><td>TRUE</td></tr>\n",
       "\t<tr><th scope=row>2</th><td>2</td><td>5.00</td><td>0.13</td><td>2.29</td><td>0.11</td><td> 2.28</td><td>0.18</td><td>1.67</td><td>0.83</td><td>1.1</td><td>⋯</td><td>313.40308</td><td> 0.04040952</td><td>0.3386931</td><td> 16</td><td> 0.19860272</td><td>-0.198087066</td><td> 0.009015589</td><td>512126</td><td>9057087</td><td>TRUE</td></tr>\n",
       "\t<tr><th scope=row>3</th><td>3</td><td>4.58</td><td>0.16</td><td>1.61</td><td>0.08</td><td> 3.68</td><td>0.16</td><td>0.17</td><td>0.04</td><td>2.1</td><td>⋯</td><td> 16.81831</td><td>-0.33638239</td><td>0.6525297</td><td> 64</td><td>-0.06107873</td><td> 0.034771886</td><td>-0.015924960</td><td>512766</td><td>9056489</td><td>TRUE</td></tr>\n",
       "\t<tr><th scope=row>4</th><td>4</td><td>4.55</td><td>0.10</td><td>2.15</td><td>0.11</td><td> 2.92</td><td>0.12</td><td>1.48</td><td>0.39</td><td>3.1</td><td>⋯</td><td>360.00000</td><td> 0.15719832</td><td>0.1571983</td><td> 64</td><td> 0.08259204</td><td> 0.108550020</td><td>-0.035339050</td><td>513263</td><td>9055598</td><td>TRUE</td></tr>\n",
       "\t<tr><th scope=row>5</th><td>5</td><td>4.71</td><td>0.35</td><td>2.42</td><td>0.12</td><td> 2.41</td><td>0.15</td><td>1.67</td><td>0.69</td><td>3.4</td><td>⋯</td><td> 68.29136</td><td> 0.06544724</td><td>0.5926337</td><td>128</td><td>-0.15904658</td><td> 0.050500572</td><td>-0.033408940</td><td>512480</td><td>9056451</td><td>TRUE</td></tr>\n",
       "\t<tr><th scope=row>6</th><td>6</td><td>5.21</td><td>0.17</td><td>1.61</td><td>0.08</td><td> 4.57</td><td>0.14</td><td>1.19</td><td>0.37</td><td>0.4</td><td>⋯</td><td>209.31070</td><td>-0.03093096</td><td>0.7773618</td><td>  8</td><td>-0.18136331</td><td> 0.041864749</td><td> 0.016451184</td><td>513006</td><td>9056074</td><td>TRUE</td></tr>\n",
       "</tbody>\n",
       "</table>\n"
      ],
      "text/latex": [
       "A data.frame: 6 × 72\n",
       "\\begin{tabular}{r|lllllllllllllllllllll}\n",
       "  & ID & pH & CE & MO & N & P & K & Ca & Mg & Al & ⋯ & S2\\_47\\_aspect & S2\\_48\\_TPI & S2\\_49\\_TRI & S2\\_50\\_flowdir & S2\\_51\\_\\_ACP\\_1 & S2\\_52\\_\\_ACP\\_2 & S2\\_53\\_\\_ACP\\_3 & coords.x1 & coords.x2 & optional\\\\\n",
       "  & <int> & <dbl> & <dbl> & <dbl> & <dbl> & <dbl> & <dbl> & <dbl> & <dbl> & <dbl> & ⋯ & <dbl> & <dbl> & <dbl> & <int> & <dbl> & <dbl> & <dbl> & <int> & <int> & <lgl>\\\\\n",
       "\\hline\n",
       "\t1 & 1 & 4.32 & 1.20 & 1.48 & 0.07 & 27.91 & 0.21 & 0.26 & 0.02 & 1.9 & ⋯ &   0.00000 &  0.21780168 & 0.5321983 &  64 & -0.18855515 &  0.004775629 & -0.007336683 & 512538 & 9056311 & TRUE\\\\\n",
       "\t2 & 2 & 5.00 & 0.13 & 2.29 & 0.11 &  2.28 & 0.18 & 1.67 & 0.83 & 1.1 & ⋯ & 313.40308 &  0.04040952 & 0.3386931 &  16 &  0.19860272 & -0.198087066 &  0.009015589 & 512126 & 9057087 & TRUE\\\\\n",
       "\t3 & 3 & 4.58 & 0.16 & 1.61 & 0.08 &  3.68 & 0.16 & 0.17 & 0.04 & 2.1 & ⋯ &  16.81831 & -0.33638239 & 0.6525297 &  64 & -0.06107873 &  0.034771886 & -0.015924960 & 512766 & 9056489 & TRUE\\\\\n",
       "\t4 & 4 & 4.55 & 0.10 & 2.15 & 0.11 &  2.92 & 0.12 & 1.48 & 0.39 & 3.1 & ⋯ & 360.00000 &  0.15719832 & 0.1571983 &  64 &  0.08259204 &  0.108550020 & -0.035339050 & 513263 & 9055598 & TRUE\\\\\n",
       "\t5 & 5 & 4.71 & 0.35 & 2.42 & 0.12 &  2.41 & 0.15 & 1.67 & 0.69 & 3.4 & ⋯ &  68.29136 &  0.06544724 & 0.5926337 & 128 & -0.15904658 &  0.050500572 & -0.033408940 & 512480 & 9056451 & TRUE\\\\\n",
       "\t6 & 6 & 5.21 & 0.17 & 1.61 & 0.08 &  4.57 & 0.14 & 1.19 & 0.37 & 0.4 & ⋯ & 209.31070 & -0.03093096 & 0.7773618 &   8 & -0.18136331 &  0.041864749 &  0.016451184 & 513006 & 9056074 & TRUE\\\\\n",
       "\\end{tabular}\n"
      ],
      "text/markdown": [
       "\n",
       "A data.frame: 6 × 72\n",
       "\n",
       "| <!--/--> | ID &lt;int&gt; | pH &lt;dbl&gt; | CE &lt;dbl&gt; | MO &lt;dbl&gt; | N &lt;dbl&gt; | P &lt;dbl&gt; | K &lt;dbl&gt; | Ca &lt;dbl&gt; | Mg &lt;dbl&gt; | Al &lt;dbl&gt; | ⋯ ⋯ | S2_47_aspect &lt;dbl&gt; | S2_48_TPI &lt;dbl&gt; | S2_49_TRI &lt;dbl&gt; | S2_50_flowdir &lt;int&gt; | S2_51__ACP_1 &lt;dbl&gt; | S2_52__ACP_2 &lt;dbl&gt; | S2_53__ACP_3 &lt;dbl&gt; | coords.x1 &lt;int&gt; | coords.x2 &lt;int&gt; | optional &lt;lgl&gt; |\n",
       "|---|---|---|---|---|---|---|---|---|---|---|---|---|---|---|---|---|---|---|---|---|---|\n",
       "| 1 | 1 | 4.32 | 1.20 | 1.48 | 0.07 | 27.91 | 0.21 | 0.26 | 0.02 | 1.9 | ⋯ |   0.00000 |  0.21780168 | 0.5321983 |  64 | -0.18855515 |  0.004775629 | -0.007336683 | 512538 | 9056311 | TRUE |\n",
       "| 2 | 2 | 5.00 | 0.13 | 2.29 | 0.11 |  2.28 | 0.18 | 1.67 | 0.83 | 1.1 | ⋯ | 313.40308 |  0.04040952 | 0.3386931 |  16 |  0.19860272 | -0.198087066 |  0.009015589 | 512126 | 9057087 | TRUE |\n",
       "| 3 | 3 | 4.58 | 0.16 | 1.61 | 0.08 |  3.68 | 0.16 | 0.17 | 0.04 | 2.1 | ⋯ |  16.81831 | -0.33638239 | 0.6525297 |  64 | -0.06107873 |  0.034771886 | -0.015924960 | 512766 | 9056489 | TRUE |\n",
       "| 4 | 4 | 4.55 | 0.10 | 2.15 | 0.11 |  2.92 | 0.12 | 1.48 | 0.39 | 3.1 | ⋯ | 360.00000 |  0.15719832 | 0.1571983 |  64 |  0.08259204 |  0.108550020 | -0.035339050 | 513263 | 9055598 | TRUE |\n",
       "| 5 | 5 | 4.71 | 0.35 | 2.42 | 0.12 |  2.41 | 0.15 | 1.67 | 0.69 | 3.4 | ⋯ |  68.29136 |  0.06544724 | 0.5926337 | 128 | -0.15904658 |  0.050500572 | -0.033408940 | 512480 | 9056451 | TRUE |\n",
       "| 6 | 6 | 5.21 | 0.17 | 1.61 | 0.08 |  4.57 | 0.14 | 1.19 | 0.37 | 0.4 | ⋯ | 209.31070 | -0.03093096 | 0.7773618 |   8 | -0.18136331 |  0.041864749 |  0.016451184 | 513006 | 9056074 | TRUE |\n",
       "\n"
      ],
      "text/plain": [
       "  ID pH   CE   MO   N    P     K    Ca   Mg   Al  ⋯ S2_47_aspect S2_48_TPI  \n",
       "1 1  4.32 1.20 1.48 0.07 27.91 0.21 0.26 0.02 1.9 ⋯   0.00000     0.21780168\n",
       "2 2  5.00 0.13 2.29 0.11  2.28 0.18 1.67 0.83 1.1 ⋯ 313.40308     0.04040952\n",
       "3 3  4.58 0.16 1.61 0.08  3.68 0.16 0.17 0.04 2.1 ⋯  16.81831    -0.33638239\n",
       "4 4  4.55 0.10 2.15 0.11  2.92 0.12 1.48 0.39 3.1 ⋯ 360.00000     0.15719832\n",
       "5 5  4.71 0.35 2.42 0.12  2.41 0.15 1.67 0.69 3.4 ⋯  68.29136     0.06544724\n",
       "6 6  5.21 0.17 1.61 0.08  4.57 0.14 1.19 0.37 0.4 ⋯ 209.31070    -0.03093096\n",
       "  S2_49_TRI S2_50_flowdir S2_51__ACP_1 S2_52__ACP_2 S2_53__ACP_3 coords.x1\n",
       "1 0.5321983  64           -0.18855515   0.004775629 -0.007336683 512538   \n",
       "2 0.3386931  16            0.19860272  -0.198087066  0.009015589 512126   \n",
       "3 0.6525297  64           -0.06107873   0.034771886 -0.015924960 512766   \n",
       "4 0.1571983  64            0.08259204   0.108550020 -0.035339050 513263   \n",
       "5 0.5926337 128           -0.15904658   0.050500572 -0.033408940 512480   \n",
       "6 0.7773618   8           -0.18136331   0.041864749  0.016451184 513006   \n",
       "  coords.x2 optional\n",
       "1 9056311   TRUE    \n",
       "2 9057087   TRUE    \n",
       "3 9056489   TRUE    \n",
       "4 9055598   TRUE    \n",
       "5 9056451   TRUE    \n",
       "6 9056074   TRUE    "
      ]
     },
     "metadata": {},
     "output_type": "display_data"
    }
   ],
   "source": [
    "head(dav)"
   ]
  },
  {
   "cell_type": "code",
   "execution_count": 8,
   "id": "936ffa78-d216-410d-9699-f64d80590eb8",
   "metadata": {
    "tags": []
   },
   "outputs": [],
   "source": [
    "n_max <- ncol(dav) - 1\n",
    "n_min <- ncol(dav) - 2"
   ]
  },
  {
   "cell_type": "code",
   "execution_count": 9,
   "id": "354cbb4c-361f-4749-9828-d6d5223add74",
   "metadata": {
    "tags": []
   },
   "outputs": [
    {
     "data": {
      "text/html": [
       "<table class=\"dataframe\">\n",
       "<caption>A data.frame: 3 × 2</caption>\n",
       "<thead>\n",
       "\t<tr><th></th><th scope=col>coords.x1</th><th scope=col>coords.x2</th></tr>\n",
       "\t<tr><th></th><th scope=col>&lt;int&gt;</th><th scope=col>&lt;int&gt;</th></tr>\n",
       "</thead>\n",
       "<tbody>\n",
       "\t<tr><th scope=row>1</th><td>512538</td><td>9056311</td></tr>\n",
       "\t<tr><th scope=row>2</th><td>512126</td><td>9057087</td></tr>\n",
       "\t<tr><th scope=row>3</th><td>512766</td><td>9056489</td></tr>\n",
       "</tbody>\n",
       "</table>\n"
      ],
      "text/latex": [
       "A data.frame: 3 × 2\n",
       "\\begin{tabular}{r|ll}\n",
       "  & coords.x1 & coords.x2\\\\\n",
       "  & <int> & <int>\\\\\n",
       "\\hline\n",
       "\t1 & 512538 & 9056311\\\\\n",
       "\t2 & 512126 & 9057087\\\\\n",
       "\t3 & 512766 & 9056489\\\\\n",
       "\\end{tabular}\n"
      ],
      "text/markdown": [
       "\n",
       "A data.frame: 3 × 2\n",
       "\n",
       "| <!--/--> | coords.x1 &lt;int&gt; | coords.x2 &lt;int&gt; |\n",
       "|---|---|---|\n",
       "| 1 | 512538 | 9056311 |\n",
       "| 2 | 512126 | 9057087 |\n",
       "| 3 | 512766 | 9056489 |\n",
       "\n"
      ],
      "text/plain": [
       "  coords.x1 coords.x2\n",
       "1 512538    9056311  \n",
       "2 512126    9057087  \n",
       "3 512766    9056489  "
      ]
     },
     "metadata": {},
     "output_type": "display_data"
    }
   ],
   "source": [
    "xyz = dav[n_min:n_max]\n",
    "head(xyz,3)"
   ]
  },
  {
   "cell_type": "code",
   "execution_count": 10,
   "id": "c197be6b-96f2-44dc-b5cd-1fb50b2d7b52",
   "metadata": {
    "tags": []
   },
   "outputs": [],
   "source": [
    "names(xyz) = c(\"ESTE\", \"NORTE\")"
   ]
  },
  {
   "cell_type": "code",
   "execution_count": 11,
   "id": "53eb09d4-7d38-400a-95cf-59e2068f9a5a",
   "metadata": {
    "tags": []
   },
   "outputs": [
    {
     "data": {
      "text/html": [
       "72"
      ],
      "text/latex": [
       "72"
      ],
      "text/markdown": [
       "72"
      ],
      "text/plain": [
       "[1] 72"
      ]
     },
     "metadata": {},
     "output_type": "display_data"
    }
   ],
   "source": [
    "ncol(dav)"
   ]
  },
  {
   "cell_type": "code",
   "execution_count": 12,
   "id": "4b315282-c1ab-4378-9a6d-68f84136da47",
   "metadata": {
    "tags": []
   },
   "outputs": [
    {
     "data": {
      "text/html": [
       "<table class=\"dataframe\">\n",
       "<caption>A data.frame: 3 × 15</caption>\n",
       "<thead>\n",
       "\t<tr><th></th><th scope=col>pH</th><th scope=col>CE</th><th scope=col>MO</th><th scope=col>N</th><th scope=col>P</th><th scope=col>K</th><th scope=col>Ca</th><th scope=col>Mg</th><th scope=col>Al</th><th scope=col>CICe</th><th scope=col>BT</th><th scope=col>SAl</th><th scope=col>Arena</th><th scope=col>Limo</th><th scope=col>Arcilla</th></tr>\n",
       "\t<tr><th></th><th scope=col>&lt;dbl&gt;</th><th scope=col>&lt;dbl&gt;</th><th scope=col>&lt;dbl&gt;</th><th scope=col>&lt;dbl&gt;</th><th scope=col>&lt;dbl&gt;</th><th scope=col>&lt;dbl&gt;</th><th scope=col>&lt;dbl&gt;</th><th scope=col>&lt;dbl&gt;</th><th scope=col>&lt;dbl&gt;</th><th scope=col>&lt;dbl&gt;</th><th scope=col>&lt;dbl&gt;</th><th scope=col>&lt;dbl&gt;</th><th scope=col>&lt;dbl&gt;</th><th scope=col>&lt;dbl&gt;</th><th scope=col>&lt;dbl&gt;</th></tr>\n",
       "</thead>\n",
       "<tbody>\n",
       "\t<tr><th scope=row>1</th><td>4.32</td><td>1.20</td><td>1.48</td><td>0.07</td><td>27.91</td><td>0.21</td><td>0.26</td><td>0.02</td><td>1.9</td><td>2.38</td><td>0.48</td><td>79.69</td><td>62.9</td><td>16.16</td><td>20.94</td></tr>\n",
       "\t<tr><th scope=row>2</th><td>5.00</td><td>0.13</td><td>2.29</td><td>0.11</td><td> 2.28</td><td>0.18</td><td>1.67</td><td>0.83</td><td>1.1</td><td>3.77</td><td>2.67</td><td>29.14</td><td>54.9</td><td>20.16</td><td>24.94</td></tr>\n",
       "\t<tr><th scope=row>3</th><td>4.58</td><td>0.16</td><td>1.61</td><td>0.08</td><td> 3.68</td><td>0.16</td><td>0.17</td><td>0.04</td><td>2.1</td><td>2.47</td><td>0.37</td><td>85.09</td><td>62.9</td><td>16.16</td><td>20.94</td></tr>\n",
       "</tbody>\n",
       "</table>\n"
      ],
      "text/latex": [
       "A data.frame: 3 × 15\n",
       "\\begin{tabular}{r|lllllllllllllll}\n",
       "  & pH & CE & MO & N & P & K & Ca & Mg & Al & CICe & BT & SAl & Arena & Limo & Arcilla\\\\\n",
       "  & <dbl> & <dbl> & <dbl> & <dbl> & <dbl> & <dbl> & <dbl> & <dbl> & <dbl> & <dbl> & <dbl> & <dbl> & <dbl> & <dbl> & <dbl>\\\\\n",
       "\\hline\n",
       "\t1 & 4.32 & 1.20 & 1.48 & 0.07 & 27.91 & 0.21 & 0.26 & 0.02 & 1.9 & 2.38 & 0.48 & 79.69 & 62.9 & 16.16 & 20.94\\\\\n",
       "\t2 & 5.00 & 0.13 & 2.29 & 0.11 &  2.28 & 0.18 & 1.67 & 0.83 & 1.1 & 3.77 & 2.67 & 29.14 & 54.9 & 20.16 & 24.94\\\\\n",
       "\t3 & 4.58 & 0.16 & 1.61 & 0.08 &  3.68 & 0.16 & 0.17 & 0.04 & 2.1 & 2.47 & 0.37 & 85.09 & 62.9 & 16.16 & 20.94\\\\\n",
       "\\end{tabular}\n"
      ],
      "text/markdown": [
       "\n",
       "A data.frame: 3 × 15\n",
       "\n",
       "| <!--/--> | pH &lt;dbl&gt; | CE &lt;dbl&gt; | MO &lt;dbl&gt; | N &lt;dbl&gt; | P &lt;dbl&gt; | K &lt;dbl&gt; | Ca &lt;dbl&gt; | Mg &lt;dbl&gt; | Al &lt;dbl&gt; | CICe &lt;dbl&gt; | BT &lt;dbl&gt; | SAl &lt;dbl&gt; | Arena &lt;dbl&gt; | Limo &lt;dbl&gt; | Arcilla &lt;dbl&gt; |\n",
       "|---|---|---|---|---|---|---|---|---|---|---|---|---|---|---|---|\n",
       "| 1 | 4.32 | 1.20 | 1.48 | 0.07 | 27.91 | 0.21 | 0.26 | 0.02 | 1.9 | 2.38 | 0.48 | 79.69 | 62.9 | 16.16 | 20.94 |\n",
       "| 2 | 5.00 | 0.13 | 2.29 | 0.11 |  2.28 | 0.18 | 1.67 | 0.83 | 1.1 | 3.77 | 2.67 | 29.14 | 54.9 | 20.16 | 24.94 |\n",
       "| 3 | 4.58 | 0.16 | 1.61 | 0.08 |  3.68 | 0.16 | 0.17 | 0.04 | 2.1 | 2.47 | 0.37 | 85.09 | 62.9 | 16.16 | 20.94 |\n",
       "\n"
      ],
      "text/plain": [
       "  pH   CE   MO   N    P     K    Ca   Mg   Al  CICe BT   SAl   Arena Limo \n",
       "1 4.32 1.20 1.48 0.07 27.91 0.21 0.26 0.02 1.9 2.38 0.48 79.69 62.9  16.16\n",
       "2 5.00 0.13 2.29 0.11  2.28 0.18 1.67 0.83 1.1 3.77 2.67 29.14 54.9  20.16\n",
       "3 4.58 0.16 1.61 0.08  3.68 0.16 0.17 0.04 2.1 2.47 0.37 85.09 62.9  16.16\n",
       "  Arcilla\n",
       "1 20.94  \n",
       "2 24.94  \n",
       "3 20.94  "
      ]
     },
     "metadata": {},
     "output_type": "display_data"
    }
   ],
   "source": [
    "datos_Suelo = dav[,2:16]\n",
    "head(datos_Suelo,3)"
   ]
  },
  {
   "cell_type": "code",
   "execution_count": 13,
   "id": "d847e626-2424-4d06-9caa-4aa21b37fd21",
   "metadata": {
    "tags": []
   },
   "outputs": [],
   "source": [
    "name_suelo = names(datos_Suelo)"
   ]
  },
  {
   "cell_type": "code",
   "execution_count": 14,
   "id": "fba50070-cb9f-4235-ba39-b7053cf3fe4a",
   "metadata": {
    "tags": []
   },
   "outputs": [
    {
     "data": {
      "text/html": [
       "<style>\n",
       ".list-inline {list-style: none; margin:0; padding: 0}\n",
       ".list-inline>li {display: inline-block}\n",
       ".list-inline>li:not(:last-child)::after {content: \"\\00b7\"; padding: 0 .5ex}\n",
       "</style>\n",
       "<ol class=list-inline><li>'pH'</li><li>'CE'</li><li>'MO'</li><li>'N'</li><li>'P'</li><li>'K'</li><li>'Ca'</li><li>'Mg'</li><li>'Al'</li><li>'CICe'</li><li>'BT'</li><li>'SAl'</li><li>'Arena'</li><li>'Limo'</li><li>'Arcilla'</li></ol>\n"
      ],
      "text/latex": [
       "\\begin{enumerate*}\n",
       "\\item 'pH'\n",
       "\\item 'CE'\n",
       "\\item 'MO'\n",
       "\\item 'N'\n",
       "\\item 'P'\n",
       "\\item 'K'\n",
       "\\item 'Ca'\n",
       "\\item 'Mg'\n",
       "\\item 'Al'\n",
       "\\item 'CICe'\n",
       "\\item 'BT'\n",
       "\\item 'SAl'\n",
       "\\item 'Arena'\n",
       "\\item 'Limo'\n",
       "\\item 'Arcilla'\n",
       "\\end{enumerate*}\n"
      ],
      "text/markdown": [
       "1. 'pH'\n",
       "2. 'CE'\n",
       "3. 'MO'\n",
       "4. 'N'\n",
       "5. 'P'\n",
       "6. 'K'\n",
       "7. 'Ca'\n",
       "8. 'Mg'\n",
       "9. 'Al'\n",
       "10. 'CICe'\n",
       "11. 'BT'\n",
       "12. 'SAl'\n",
       "13. 'Arena'\n",
       "14. 'Limo'\n",
       "15. 'Arcilla'\n",
       "\n",
       "\n"
      ],
      "text/plain": [
       " [1] \"pH\"      \"CE\"      \"MO\"      \"N\"       \"P\"       \"K\"       \"Ca\"     \n",
       " [8] \"Mg\"      \"Al\"      \"CICe\"    \"BT\"      \"SAl\"     \"Arena\"   \"Limo\"   \n",
       "[15] \"Arcilla\""
      ]
     },
     "metadata": {},
     "output_type": "display_data"
    }
   ],
   "source": [
    "name_suelo"
   ]
  },
  {
   "cell_type": "code",
   "execution_count": 15,
   "id": "6ee092f1-676b-4886-96f6-e9e50f512761",
   "metadata": {
    "tags": []
   },
   "outputs": [
    {
     "data": {
      "text/html": [
       "15"
      ],
      "text/latex": [
       "15"
      ],
      "text/markdown": [
       "15"
      ],
      "text/plain": [
       "[1] 15"
      ]
     },
     "metadata": {},
     "output_type": "display_data"
    }
   ],
   "source": [
    "length(name_suelo)"
   ]
  },
  {
   "cell_type": "code",
   "execution_count": 16,
   "id": "6202eb87-64af-4b3d-9b99-a6bcb6052a86",
   "metadata": {
    "tags": []
   },
   "outputs": [
    {
     "data": {
      "text/html": [
       "'pH'"
      ],
      "text/latex": [
       "'pH'"
      ],
      "text/markdown": [
       "'pH'"
      ],
      "text/plain": [
       "[1] \"pH\""
      ]
     },
     "metadata": {},
     "output_type": "display_data"
    }
   ],
   "source": [
    "name_suelo[1]"
   ]
  },
  {
   "cell_type": "code",
   "execution_count": 17,
   "id": "360d73c9-38fb-4bae-b173-99efc7b5ee3f",
   "metadata": {
    "tags": []
   },
   "outputs": [
    {
     "data": {
      "text/html": [
       "<style>\n",
       ".list-inline {list-style: none; margin:0; padding: 0}\n",
       ".list-inline>li {display: inline-block}\n",
       ".list-inline>li:not(:last-child)::after {content: \"\\00b7\"; padding: 0 .5ex}\n",
       "</style>\n",
       "<ol class=list-inline><li>4.32</li><li>5</li><li>4.58</li><li>4.55</li><li>4.71</li><li>5.21</li><li>4.66</li><li>5.36</li><li>4.89</li><li>4.57</li><li>5.18</li><li>4.61</li><li>4.24</li><li>4.81</li><li>4.5</li><li>4.93</li><li>4.37</li><li>4.7</li><li>4.8</li><li>5.29</li><li>4.72</li><li>5.22</li><li>4.6</li><li>4.84</li><li>5.21</li><li>4.79</li><li>5.2</li><li>4.5</li><li>5.9</li><li>5.6</li><li>5.2</li><li>5</li><li>4.9</li><li>5</li><li>5.3</li><li>5.1</li><li>5.2</li><li>5.1</li><li>5.4</li><li>4.7</li><li>4.3</li><li>4.5</li><li>4.2</li><li>4.4</li><li>4.2</li><li>4.4</li><li>4.6</li><li>4.9</li><li>5.1</li><li>4.7</li><li>4.8</li><li>4.7</li><li>4.8</li><li>4.8</li><li>4.8</li><li>4.3</li><li>4.6</li><li>4.5</li><li>4.5</li><li>4.4</li></ol>\n"
      ],
      "text/latex": [
       "\\begin{enumerate*}\n",
       "\\item 4.32\n",
       "\\item 5\n",
       "\\item 4.58\n",
       "\\item 4.55\n",
       "\\item 4.71\n",
       "\\item 5.21\n",
       "\\item 4.66\n",
       "\\item 5.36\n",
       "\\item 4.89\n",
       "\\item 4.57\n",
       "\\item 5.18\n",
       "\\item 4.61\n",
       "\\item 4.24\n",
       "\\item 4.81\n",
       "\\item 4.5\n",
       "\\item 4.93\n",
       "\\item 4.37\n",
       "\\item 4.7\n",
       "\\item 4.8\n",
       "\\item 5.29\n",
       "\\item 4.72\n",
       "\\item 5.22\n",
       "\\item 4.6\n",
       "\\item 4.84\n",
       "\\item 5.21\n",
       "\\item 4.79\n",
       "\\item 5.2\n",
       "\\item 4.5\n",
       "\\item 5.9\n",
       "\\item 5.6\n",
       "\\item 5.2\n",
       "\\item 5\n",
       "\\item 4.9\n",
       "\\item 5\n",
       "\\item 5.3\n",
       "\\item 5.1\n",
       "\\item 5.2\n",
       "\\item 5.1\n",
       "\\item 5.4\n",
       "\\item 4.7\n",
       "\\item 4.3\n",
       "\\item 4.5\n",
       "\\item 4.2\n",
       "\\item 4.4\n",
       "\\item 4.2\n",
       "\\item 4.4\n",
       "\\item 4.6\n",
       "\\item 4.9\n",
       "\\item 5.1\n",
       "\\item 4.7\n",
       "\\item 4.8\n",
       "\\item 4.7\n",
       "\\item 4.8\n",
       "\\item 4.8\n",
       "\\item 4.8\n",
       "\\item 4.3\n",
       "\\item 4.6\n",
       "\\item 4.5\n",
       "\\item 4.5\n",
       "\\item 4.4\n",
       "\\end{enumerate*}\n"
      ],
      "text/markdown": [
       "1. 4.32\n",
       "2. 5\n",
       "3. 4.58\n",
       "4. 4.55\n",
       "5. 4.71\n",
       "6. 5.21\n",
       "7. 4.66\n",
       "8. 5.36\n",
       "9. 4.89\n",
       "10. 4.57\n",
       "11. 5.18\n",
       "12. 4.61\n",
       "13. 4.24\n",
       "14. 4.81\n",
       "15. 4.5\n",
       "16. 4.93\n",
       "17. 4.37\n",
       "18. 4.7\n",
       "19. 4.8\n",
       "20. 5.29\n",
       "21. 4.72\n",
       "22. 5.22\n",
       "23. 4.6\n",
       "24. 4.84\n",
       "25. 5.21\n",
       "26. 4.79\n",
       "27. 5.2\n",
       "28. 4.5\n",
       "29. 5.9\n",
       "30. 5.6\n",
       "31. 5.2\n",
       "32. 5\n",
       "33. 4.9\n",
       "34. 5\n",
       "35. 5.3\n",
       "36. 5.1\n",
       "37. 5.2\n",
       "38. 5.1\n",
       "39. 5.4\n",
       "40. 4.7\n",
       "41. 4.3\n",
       "42. 4.5\n",
       "43. 4.2\n",
       "44. 4.4\n",
       "45. 4.2\n",
       "46. 4.4\n",
       "47. 4.6\n",
       "48. 4.9\n",
       "49. 5.1\n",
       "50. 4.7\n",
       "51. 4.8\n",
       "52. 4.7\n",
       "53. 4.8\n",
       "54. 4.8\n",
       "55. 4.8\n",
       "56. 4.3\n",
       "57. 4.6\n",
       "58. 4.5\n",
       "59. 4.5\n",
       "60. 4.4\n",
       "\n",
       "\n"
      ],
      "text/plain": [
       " [1] 4.32 5.00 4.58 4.55 4.71 5.21 4.66 5.36 4.89 4.57 5.18 4.61 4.24 4.81 4.50\n",
       "[16] 4.93 4.37 4.70 4.80 5.29 4.72 5.22 4.60 4.84 5.21 4.79 5.20 4.50 5.90 5.60\n",
       "[31] 5.20 5.00 4.90 5.00 5.30 5.10 5.20 5.10 5.40 4.70 4.30 4.50 4.20 4.40 4.20\n",
       "[46] 4.40 4.60 4.90 5.10 4.70 4.80 4.70 4.80 4.80 4.80 4.30 4.60 4.50 4.50 4.40"
      ]
     },
     "metadata": {},
     "output_type": "display_data"
    }
   ],
   "source": [
    "datos_Suelo[[name_suelo[1]]]"
   ]
  },
  {
   "cell_type": "code",
   "execution_count": 18,
   "id": "8274d0ab-83ff-42f7-b717-9f821c1caa99",
   "metadata": {
    "tags": []
   },
   "outputs": [],
   "source": [
    "lista_R2 = c()"
   ]
  },
  {
   "cell_type": "code",
   "execution_count": 19,
   "id": "268bb01c-33aa-425d-9060-36815a47068a",
   "metadata": {
    "tags": []
   },
   "outputs": [],
   "source": [
    "attach(dav)"
   ]
  },
  {
   "cell_type": "code",
   "execution_count": 58,
   "id": "e5e189d1-c342-4029-98a6-47f5c7112eb1",
   "metadata": {
    "tags": []
   },
   "outputs": [
    {
     "data": {
      "text/html": [
       "<style>\n",
       ".list-inline {list-style: none; margin:0; padding: 0}\n",
       ".list-inline>li {display: inline-block}\n",
       ".list-inline>li:not(:last-child)::after {content: \"\\00b7\"; padding: 0 .5ex}\n",
       "</style>\n",
       "<ol class=list-inline><li>'ID'</li><li>'pH'</li><li>'CE'</li><li>'MO'</li><li>'N'</li><li>'P'</li><li>'K'</li><li>'Ca'</li><li>'Mg'</li><li>'Al'</li><li>'CICe'</li><li>'BT'</li><li>'SAl'</li><li>'Arena'</li><li>'Limo'</li><li>'Arcilla'</li><li>'S2_01_B1'</li><li>'S2_02_B2'</li><li>'S2_03_B3'</li><li>'S2_04_B4'</li><li>'S2_05_B5'</li><li>'S2_06_B6'</li><li>'S2_07_B7'</li><li>'S2_08_B8'</li><li>'S2_09_B9'</li><li>'S2_10_B11'</li><li>'S2_11_B12'</li><li>'S2_12_NGRDI'</li><li>'S2_13_ExG'</li><li>'S2_14_ExR'</li><li>'S2_15_ExB'</li><li>'S2_16_IKAW'</li><li>'S2_17_GRRI'</li><li>'S2_18_ExGR'</li><li>'S2_19_GBDI'</li><li>'S2_20_MGRVI'</li><li>'S2_21_RGBVI'</li><li>'S2_22_VDVI'</li><li>'S2_23_VARI'</li><li>'S2_24_RGRI'</li><li>'S2_25_NGBDI'</li><li>'S2_26_CIVE'</li><li>'S2_27_NDVI'</li><li>'S2_28_EVI'</li><li>'S2_29_SAVI'</li><li>'S2_30_MSAVI'</li><li>'S2_31_NDWI'</li><li>'S2_32_GNDVI'</li><li>'S2_33_OSAVI'</li><li>'S2_34_ARVI'</li><li>'S2_35_SIPI'</li><li>'S2_36_CGI'</li><li>'S2_37_RVI'</li><li>'S2_38_CVI'</li><li>'S2_39_CCCI'</li><li>'S2_40_RECI'</li><li>'S2_41_SVI'</li><li>'S2_42_SSI'</li><li>'S2_43_SCI'</li><li>'S2_44_SMI'</li><li>'S2_45_MDE'</li><li>'S2_46_slope'</li><li>'S2_47_aspect'</li><li>'S2_48_TPI'</li><li>'S2_49_TRI'</li><li>'S2_50_flowdir'</li><li>'S2_51__ACP_1'</li><li>'S2_52__ACP_2'</li><li>'S2_53__ACP_3'</li><li>'coords.x1'</li><li>'coords.x2'</li><li>'optional'</li></ol>\n"
      ],
      "text/latex": [
       "\\begin{enumerate*}\n",
       "\\item 'ID'\n",
       "\\item 'pH'\n",
       "\\item 'CE'\n",
       "\\item 'MO'\n",
       "\\item 'N'\n",
       "\\item 'P'\n",
       "\\item 'K'\n",
       "\\item 'Ca'\n",
       "\\item 'Mg'\n",
       "\\item 'Al'\n",
       "\\item 'CICe'\n",
       "\\item 'BT'\n",
       "\\item 'SAl'\n",
       "\\item 'Arena'\n",
       "\\item 'Limo'\n",
       "\\item 'Arcilla'\n",
       "\\item 'S2\\_01\\_B1'\n",
       "\\item 'S2\\_02\\_B2'\n",
       "\\item 'S2\\_03\\_B3'\n",
       "\\item 'S2\\_04\\_B4'\n",
       "\\item 'S2\\_05\\_B5'\n",
       "\\item 'S2\\_06\\_B6'\n",
       "\\item 'S2\\_07\\_B7'\n",
       "\\item 'S2\\_08\\_B8'\n",
       "\\item 'S2\\_09\\_B9'\n",
       "\\item 'S2\\_10\\_B11'\n",
       "\\item 'S2\\_11\\_B12'\n",
       "\\item 'S2\\_12\\_NGRDI'\n",
       "\\item 'S2\\_13\\_ExG'\n",
       "\\item 'S2\\_14\\_ExR'\n",
       "\\item 'S2\\_15\\_ExB'\n",
       "\\item 'S2\\_16\\_IKAW'\n",
       "\\item 'S2\\_17\\_GRRI'\n",
       "\\item 'S2\\_18\\_ExGR'\n",
       "\\item 'S2\\_19\\_GBDI'\n",
       "\\item 'S2\\_20\\_MGRVI'\n",
       "\\item 'S2\\_21\\_RGBVI'\n",
       "\\item 'S2\\_22\\_VDVI'\n",
       "\\item 'S2\\_23\\_VARI'\n",
       "\\item 'S2\\_24\\_RGRI'\n",
       "\\item 'S2\\_25\\_NGBDI'\n",
       "\\item 'S2\\_26\\_CIVE'\n",
       "\\item 'S2\\_27\\_NDVI'\n",
       "\\item 'S2\\_28\\_EVI'\n",
       "\\item 'S2\\_29\\_SAVI'\n",
       "\\item 'S2\\_30\\_MSAVI'\n",
       "\\item 'S2\\_31\\_NDWI'\n",
       "\\item 'S2\\_32\\_GNDVI'\n",
       "\\item 'S2\\_33\\_OSAVI'\n",
       "\\item 'S2\\_34\\_ARVI'\n",
       "\\item 'S2\\_35\\_SIPI'\n",
       "\\item 'S2\\_36\\_CGI'\n",
       "\\item 'S2\\_37\\_RVI'\n",
       "\\item 'S2\\_38\\_CVI'\n",
       "\\item 'S2\\_39\\_CCCI'\n",
       "\\item 'S2\\_40\\_RECI'\n",
       "\\item 'S2\\_41\\_SVI'\n",
       "\\item 'S2\\_42\\_SSI'\n",
       "\\item 'S2\\_43\\_SCI'\n",
       "\\item 'S2\\_44\\_SMI'\n",
       "\\item 'S2\\_45\\_MDE'\n",
       "\\item 'S2\\_46\\_slope'\n",
       "\\item 'S2\\_47\\_aspect'\n",
       "\\item 'S2\\_48\\_TPI'\n",
       "\\item 'S2\\_49\\_TRI'\n",
       "\\item 'S2\\_50\\_flowdir'\n",
       "\\item 'S2\\_51\\_\\_ACP\\_1'\n",
       "\\item 'S2\\_52\\_\\_ACP\\_2'\n",
       "\\item 'S2\\_53\\_\\_ACP\\_3'\n",
       "\\item 'coords.x1'\n",
       "\\item 'coords.x2'\n",
       "\\item 'optional'\n",
       "\\end{enumerate*}\n"
      ],
      "text/markdown": [
       "1. 'ID'\n",
       "2. 'pH'\n",
       "3. 'CE'\n",
       "4. 'MO'\n",
       "5. 'N'\n",
       "6. 'P'\n",
       "7. 'K'\n",
       "8. 'Ca'\n",
       "9. 'Mg'\n",
       "10. 'Al'\n",
       "11. 'CICe'\n",
       "12. 'BT'\n",
       "13. 'SAl'\n",
       "14. 'Arena'\n",
       "15. 'Limo'\n",
       "16. 'Arcilla'\n",
       "17. 'S2_01_B1'\n",
       "18. 'S2_02_B2'\n",
       "19. 'S2_03_B3'\n",
       "20. 'S2_04_B4'\n",
       "21. 'S2_05_B5'\n",
       "22. 'S2_06_B6'\n",
       "23. 'S2_07_B7'\n",
       "24. 'S2_08_B8'\n",
       "25. 'S2_09_B9'\n",
       "26. 'S2_10_B11'\n",
       "27. 'S2_11_B12'\n",
       "28. 'S2_12_NGRDI'\n",
       "29. 'S2_13_ExG'\n",
       "30. 'S2_14_ExR'\n",
       "31. 'S2_15_ExB'\n",
       "32. 'S2_16_IKAW'\n",
       "33. 'S2_17_GRRI'\n",
       "34. 'S2_18_ExGR'\n",
       "35. 'S2_19_GBDI'\n",
       "36. 'S2_20_MGRVI'\n",
       "37. 'S2_21_RGBVI'\n",
       "38. 'S2_22_VDVI'\n",
       "39. 'S2_23_VARI'\n",
       "40. 'S2_24_RGRI'\n",
       "41. 'S2_25_NGBDI'\n",
       "42. 'S2_26_CIVE'\n",
       "43. 'S2_27_NDVI'\n",
       "44. 'S2_28_EVI'\n",
       "45. 'S2_29_SAVI'\n",
       "46. 'S2_30_MSAVI'\n",
       "47. 'S2_31_NDWI'\n",
       "48. 'S2_32_GNDVI'\n",
       "49. 'S2_33_OSAVI'\n",
       "50. 'S2_34_ARVI'\n",
       "51. 'S2_35_SIPI'\n",
       "52. 'S2_36_CGI'\n",
       "53. 'S2_37_RVI'\n",
       "54. 'S2_38_CVI'\n",
       "55. 'S2_39_CCCI'\n",
       "56. 'S2_40_RECI'\n",
       "57. 'S2_41_SVI'\n",
       "58. 'S2_42_SSI'\n",
       "59. 'S2_43_SCI'\n",
       "60. 'S2_44_SMI'\n",
       "61. 'S2_45_MDE'\n",
       "62. 'S2_46_slope'\n",
       "63. 'S2_47_aspect'\n",
       "64. 'S2_48_TPI'\n",
       "65. 'S2_49_TRI'\n",
       "66. 'S2_50_flowdir'\n",
       "67. 'S2_51__ACP_1'\n",
       "68. 'S2_52__ACP_2'\n",
       "69. 'S2_53__ACP_3'\n",
       "70. 'coords.x1'\n",
       "71. 'coords.x2'\n",
       "72. 'optional'\n",
       "\n",
       "\n"
      ],
      "text/plain": [
       " [1] \"ID\"            \"pH\"            \"CE\"            \"MO\"           \n",
       " [5] \"N\"             \"P\"             \"K\"             \"Ca\"           \n",
       " [9] \"Mg\"            \"Al\"            \"CICe\"          \"BT\"           \n",
       "[13] \"SAl\"           \"Arena\"         \"Limo\"          \"Arcilla\"      \n",
       "[17] \"S2_01_B1\"      \"S2_02_B2\"      \"S2_03_B3\"      \"S2_04_B4\"     \n",
       "[21] \"S2_05_B5\"      \"S2_06_B6\"      \"S2_07_B7\"      \"S2_08_B8\"     \n",
       "[25] \"S2_09_B9\"      \"S2_10_B11\"     \"S2_11_B12\"     \"S2_12_NGRDI\"  \n",
       "[29] \"S2_13_ExG\"     \"S2_14_ExR\"     \"S2_15_ExB\"     \"S2_16_IKAW\"   \n",
       "[33] \"S2_17_GRRI\"    \"S2_18_ExGR\"    \"S2_19_GBDI\"    \"S2_20_MGRVI\"  \n",
       "[37] \"S2_21_RGBVI\"   \"S2_22_VDVI\"    \"S2_23_VARI\"    \"S2_24_RGRI\"   \n",
       "[41] \"S2_25_NGBDI\"   \"S2_26_CIVE\"    \"S2_27_NDVI\"    \"S2_28_EVI\"    \n",
       "[45] \"S2_29_SAVI\"    \"S2_30_MSAVI\"   \"S2_31_NDWI\"    \"S2_32_GNDVI\"  \n",
       "[49] \"S2_33_OSAVI\"   \"S2_34_ARVI\"    \"S2_35_SIPI\"    \"S2_36_CGI\"    \n",
       "[53] \"S2_37_RVI\"     \"S2_38_CVI\"     \"S2_39_CCCI\"    \"S2_40_RECI\"   \n",
       "[57] \"S2_41_SVI\"     \"S2_42_SSI\"     \"S2_43_SCI\"     \"S2_44_SMI\"    \n",
       "[61] \"S2_45_MDE\"     \"S2_46_slope\"   \"S2_47_aspect\"  \"S2_48_TPI\"    \n",
       "[65] \"S2_49_TRI\"     \"S2_50_flowdir\" \"S2_51__ACP_1\"  \"S2_52__ACP_2\" \n",
       "[69] \"S2_53__ACP_3\"  \"coords.x1\"     \"coords.x2\"     \"optional\"     "
      ]
     },
     "metadata": {},
     "output_type": "display_data"
    }
   ],
   "source": [
    "names(dav)"
   ]
  },
  {
   "cell_type": "markdown",
   "id": "551bbd1a-130e-4445-b09d-665d0f3a26dc",
   "metadata": {},
   "source": [
    "## Se va utilizar los datos seleccionados\n",
    "Para ello se va extrar los nombres de las bandas."
   ]
  },
  {
   "cell_type": "code",
   "execution_count": 31,
   "id": "a4c311a5-e23e-49d9-bdea-e54af4fb76af",
   "metadata": {},
   "outputs": [
    {
     "data": {
      "text/html": [
       "'C:/Users/GEOMATICA/Curso_suelo/02_Prediccion_Suelo_Multiespectral/Datos/Satelite/Sentinel2/Bandas/Banda_select/'"
      ],
      "text/latex": [
       "'C:/Users/GEOMATICA/Curso\\_suelo/02\\_Prediccion\\_Suelo\\_Multiespectral/Datos/Satelite/Sentinel2/Bandas/Banda\\_select/'"
      ],
      "text/markdown": [
       "'C:/Users/GEOMATICA/Curso_suelo/02_Prediccion_Suelo_Multiespectral/Datos/Satelite/Sentinel2/Bandas/Banda_select/'"
      ],
      "text/plain": [
       "[1] \"C:/Users/GEOMATICA/Curso_suelo/02_Prediccion_Suelo_Multiespectral/Datos/Satelite/Sentinel2/Bandas/Banda_select/\""
      ]
     },
     "metadata": {},
     "output_type": "display_data"
    }
   ],
   "source": [
    "ubicacion_seleccion = paste(getwd(),\"/\",\"Banda_select/\",sep = \"\")\n",
    "ubicacion_seleccion"
   ]
  },
  {
   "cell_type": "code",
   "execution_count": 51,
   "id": "d2a1eed3-166a-43d2-9661-cec78bff8c76",
   "metadata": {},
   "outputs": [
    {
     "data": {
      "text/html": [
       "<style>\n",
       ".list-inline {list-style: none; margin:0; padding: 0}\n",
       ".list-inline>li {display: inline-block}\n",
       ".list-inline>li:not(:last-child)::after {content: \"\\00b7\"; padding: 0 .5ex}\n",
       "</style>\n",
       "<ol class=list-inline><li>'S2_01_B1.tif'</li><li>'S2_02_B2.tif'</li><li>'S2_04_B4.tif'</li><li>'S2_05_B5.tif'</li><li>'S2_06_B6.tif'</li><li>'S2_09_B9.tif'</li><li>'S2_10_B11.tif'</li><li>'S2_11_B12.tif'</li><li>'S2_14_ExR.tif'</li><li>'S2_15_ExB.tif'</li><li>'S2_16_IKAW.tif'</li><li>'S2_19_GBDI.tif'</li><li>'S2_20_MGRVI.tif'</li><li>'S2_23_VARI.tif'</li><li>'S2_25_NGBDI.tif'</li><li>'S2_26_CIVE.tif'</li><li>'S2_30_MSAVI.tif'</li><li>'S2_35_SIPI.tif'</li><li>'S2_38_CVI.tif'</li><li>'S2_42_SSI.tif'</li><li>'S2_43_SCI.tif'</li><li>'S2_45_MDE.tif'</li><li>'S2_47_aspect.tif'</li><li>'S2_48_TPI.tif'</li><li>'S2_49_TRI.tif'</li><li>'S2_50_flowdir.tif'</li><li>'S2_51__ACP_1.tif'</li><li>'S2_52__ACP_2.tif'</li><li>'S2_53__ACP_3.tif'</li></ol>\n"
      ],
      "text/latex": [
       "\\begin{enumerate*}\n",
       "\\item 'S2\\_01\\_B1.tif'\n",
       "\\item 'S2\\_02\\_B2.tif'\n",
       "\\item 'S2\\_04\\_B4.tif'\n",
       "\\item 'S2\\_05\\_B5.tif'\n",
       "\\item 'S2\\_06\\_B6.tif'\n",
       "\\item 'S2\\_09\\_B9.tif'\n",
       "\\item 'S2\\_10\\_B11.tif'\n",
       "\\item 'S2\\_11\\_B12.tif'\n",
       "\\item 'S2\\_14\\_ExR.tif'\n",
       "\\item 'S2\\_15\\_ExB.tif'\n",
       "\\item 'S2\\_16\\_IKAW.tif'\n",
       "\\item 'S2\\_19\\_GBDI.tif'\n",
       "\\item 'S2\\_20\\_MGRVI.tif'\n",
       "\\item 'S2\\_23\\_VARI.tif'\n",
       "\\item 'S2\\_25\\_NGBDI.tif'\n",
       "\\item 'S2\\_26\\_CIVE.tif'\n",
       "\\item 'S2\\_30\\_MSAVI.tif'\n",
       "\\item 'S2\\_35\\_SIPI.tif'\n",
       "\\item 'S2\\_38\\_CVI.tif'\n",
       "\\item 'S2\\_42\\_SSI.tif'\n",
       "\\item 'S2\\_43\\_SCI.tif'\n",
       "\\item 'S2\\_45\\_MDE.tif'\n",
       "\\item 'S2\\_47\\_aspect.tif'\n",
       "\\item 'S2\\_48\\_TPI.tif'\n",
       "\\item 'S2\\_49\\_TRI.tif'\n",
       "\\item 'S2\\_50\\_flowdir.tif'\n",
       "\\item 'S2\\_51\\_\\_ACP\\_1.tif'\n",
       "\\item 'S2\\_52\\_\\_ACP\\_2.tif'\n",
       "\\item 'S2\\_53\\_\\_ACP\\_3.tif'\n",
       "\\end{enumerate*}\n"
      ],
      "text/markdown": [
       "1. 'S2_01_B1.tif'\n",
       "2. 'S2_02_B2.tif'\n",
       "3. 'S2_04_B4.tif'\n",
       "4. 'S2_05_B5.tif'\n",
       "5. 'S2_06_B6.tif'\n",
       "6. 'S2_09_B9.tif'\n",
       "7. 'S2_10_B11.tif'\n",
       "8. 'S2_11_B12.tif'\n",
       "9. 'S2_14_ExR.tif'\n",
       "10. 'S2_15_ExB.tif'\n",
       "11. 'S2_16_IKAW.tif'\n",
       "12. 'S2_19_GBDI.tif'\n",
       "13. 'S2_20_MGRVI.tif'\n",
       "14. 'S2_23_VARI.tif'\n",
       "15. 'S2_25_NGBDI.tif'\n",
       "16. 'S2_26_CIVE.tif'\n",
       "17. 'S2_30_MSAVI.tif'\n",
       "18. 'S2_35_SIPI.tif'\n",
       "19. 'S2_38_CVI.tif'\n",
       "20. 'S2_42_SSI.tif'\n",
       "21. 'S2_43_SCI.tif'\n",
       "22. 'S2_45_MDE.tif'\n",
       "23. 'S2_47_aspect.tif'\n",
       "24. 'S2_48_TPI.tif'\n",
       "25. 'S2_49_TRI.tif'\n",
       "26. 'S2_50_flowdir.tif'\n",
       "27. 'S2_51__ACP_1.tif'\n",
       "28. 'S2_52__ACP_2.tif'\n",
       "29. 'S2_53__ACP_3.tif'\n",
       "\n",
       "\n"
      ],
      "text/plain": [
       " [1] \"S2_01_B1.tif\"      \"S2_02_B2.tif\"      \"S2_04_B4.tif\"     \n",
       " [4] \"S2_05_B5.tif\"      \"S2_06_B6.tif\"      \"S2_09_B9.tif\"     \n",
       " [7] \"S2_10_B11.tif\"     \"S2_11_B12.tif\"     \"S2_14_ExR.tif\"    \n",
       "[10] \"S2_15_ExB.tif\"     \"S2_16_IKAW.tif\"    \"S2_19_GBDI.tif\"   \n",
       "[13] \"S2_20_MGRVI.tif\"   \"S2_23_VARI.tif\"    \"S2_25_NGBDI.tif\"  \n",
       "[16] \"S2_26_CIVE.tif\"    \"S2_30_MSAVI.tif\"   \"S2_35_SIPI.tif\"   \n",
       "[19] \"S2_38_CVI.tif\"     \"S2_42_SSI.tif\"     \"S2_43_SCI.tif\"    \n",
       "[22] \"S2_45_MDE.tif\"     \"S2_47_aspect.tif\"  \"S2_48_TPI.tif\"    \n",
       "[25] \"S2_49_TRI.tif\"     \"S2_50_flowdir.tif\" \"S2_51__ACP_1.tif\" \n",
       "[28] \"S2_52__ACP_2.tif\"  \"S2_53__ACP_3.tif\" "
      ]
     },
     "metadata": {},
     "output_type": "display_data"
    }
   ],
   "source": [
    "# Crear lista del directorio\n",
    "texto_select <- list.files(path = ubicacion_seleccion, pattern = '*.tif')\n",
    "texto_select"
   ]
  },
  {
   "cell_type": "code",
   "execution_count": 52,
   "id": "1f8cc595-907e-4754-9f0d-024f8db50a23",
   "metadata": {},
   "outputs": [
    {
     "data": {
      "text/html": [
       "'character'"
      ],
      "text/latex": [
       "'character'"
      ],
      "text/markdown": [
       "'character'"
      ],
      "text/plain": [
       "[1] \"character\""
      ]
     },
     "metadata": {},
     "output_type": "display_data"
    }
   ],
   "source": [
    "typeof(texto_select)"
   ]
  },
  {
   "cell_type": "code",
   "execution_count": 54,
   "id": "e6e703d3-6c95-45f1-877e-ddfcbaa7acf1",
   "metadata": {},
   "outputs": [
    {
     "data": {
      "text/html": [
       "<style>\n",
       ".list-inline {list-style: none; margin:0; padding: 0}\n",
       ".list-inline>li {display: inline-block}\n",
       ".list-inline>li:not(:last-child)::after {content: \"\\00b7\"; padding: 0 .5ex}\n",
       "</style>\n",
       "<ol class=list-inline><li>'S2_01_B1.tif'</li><li>'S2_02_B2.tif'</li><li>'S2_04_B4.tif'</li><li>'S2_05_B5.tif'</li><li>'S2_06_B6.tif'</li><li>'S2_09_B9.tif'</li><li>'S2_10_B11.tif'</li><li>'S2_11_B12.tif'</li><li>'S2_14_ExR.tif'</li><li>'S2_15_ExB.tif'</li><li>'S2_16_IKAW.tif'</li><li>'S2_19_GBDI.tif'</li><li>'S2_20_MGRVI.tif'</li><li>'S2_23_VARI.tif'</li><li>'S2_25_NGBDI.tif'</li><li>'S2_26_CIVE.tif'</li><li>'S2_30_MSAVI.tif'</li><li>'S2_35_SIPI.tif'</li><li>'S2_38_CVI.tif'</li><li>'S2_42_SSI.tif'</li><li>'S2_43_SCI.tif'</li><li>'S2_45_MDE.tif'</li><li>'S2_47_aspect.tif'</li><li>'S2_48_TPI.tif'</li><li>'S2_49_TRI.tif'</li><li>'S2_50_flowdir.tif'</li><li>'S2_51__ACP_1.tif'</li><li>'S2_52__ACP_2.tif'</li><li>'S2_53__ACP_3.tif'</li></ol>\n"
      ],
      "text/latex": [
       "\\begin{enumerate*}\n",
       "\\item 'S2\\_01\\_B1.tif'\n",
       "\\item 'S2\\_02\\_B2.tif'\n",
       "\\item 'S2\\_04\\_B4.tif'\n",
       "\\item 'S2\\_05\\_B5.tif'\n",
       "\\item 'S2\\_06\\_B6.tif'\n",
       "\\item 'S2\\_09\\_B9.tif'\n",
       "\\item 'S2\\_10\\_B11.tif'\n",
       "\\item 'S2\\_11\\_B12.tif'\n",
       "\\item 'S2\\_14\\_ExR.tif'\n",
       "\\item 'S2\\_15\\_ExB.tif'\n",
       "\\item 'S2\\_16\\_IKAW.tif'\n",
       "\\item 'S2\\_19\\_GBDI.tif'\n",
       "\\item 'S2\\_20\\_MGRVI.tif'\n",
       "\\item 'S2\\_23\\_VARI.tif'\n",
       "\\item 'S2\\_25\\_NGBDI.tif'\n",
       "\\item 'S2\\_26\\_CIVE.tif'\n",
       "\\item 'S2\\_30\\_MSAVI.tif'\n",
       "\\item 'S2\\_35\\_SIPI.tif'\n",
       "\\item 'S2\\_38\\_CVI.tif'\n",
       "\\item 'S2\\_42\\_SSI.tif'\n",
       "\\item 'S2\\_43\\_SCI.tif'\n",
       "\\item 'S2\\_45\\_MDE.tif'\n",
       "\\item 'S2\\_47\\_aspect.tif'\n",
       "\\item 'S2\\_48\\_TPI.tif'\n",
       "\\item 'S2\\_49\\_TRI.tif'\n",
       "\\item 'S2\\_50\\_flowdir.tif'\n",
       "\\item 'S2\\_51\\_\\_ACP\\_1.tif'\n",
       "\\item 'S2\\_52\\_\\_ACP\\_2.tif'\n",
       "\\item 'S2\\_53\\_\\_ACP\\_3.tif'\n",
       "\\end{enumerate*}\n"
      ],
      "text/markdown": [
       "1. 'S2_01_B1.tif'\n",
       "2. 'S2_02_B2.tif'\n",
       "3. 'S2_04_B4.tif'\n",
       "4. 'S2_05_B5.tif'\n",
       "5. 'S2_06_B6.tif'\n",
       "6. 'S2_09_B9.tif'\n",
       "7. 'S2_10_B11.tif'\n",
       "8. 'S2_11_B12.tif'\n",
       "9. 'S2_14_ExR.tif'\n",
       "10. 'S2_15_ExB.tif'\n",
       "11. 'S2_16_IKAW.tif'\n",
       "12. 'S2_19_GBDI.tif'\n",
       "13. 'S2_20_MGRVI.tif'\n",
       "14. 'S2_23_VARI.tif'\n",
       "15. 'S2_25_NGBDI.tif'\n",
       "16. 'S2_26_CIVE.tif'\n",
       "17. 'S2_30_MSAVI.tif'\n",
       "18. 'S2_35_SIPI.tif'\n",
       "19. 'S2_38_CVI.tif'\n",
       "20. 'S2_42_SSI.tif'\n",
       "21. 'S2_43_SCI.tif'\n",
       "22. 'S2_45_MDE.tif'\n",
       "23. 'S2_47_aspect.tif'\n",
       "24. 'S2_48_TPI.tif'\n",
       "25. 'S2_49_TRI.tif'\n",
       "26. 'S2_50_flowdir.tif'\n",
       "27. 'S2_51__ACP_1.tif'\n",
       "28. 'S2_52__ACP_2.tif'\n",
       "29. 'S2_53__ACP_3.tif'\n",
       "\n",
       "\n"
      ],
      "text/plain": [
       " [1] \"S2_01_B1.tif\"      \"S2_02_B2.tif\"      \"S2_04_B4.tif\"     \n",
       " [4] \"S2_05_B5.tif\"      \"S2_06_B6.tif\"      \"S2_09_B9.tif\"     \n",
       " [7] \"S2_10_B11.tif\"     \"S2_11_B12.tif\"     \"S2_14_ExR.tif\"    \n",
       "[10] \"S2_15_ExB.tif\"     \"S2_16_IKAW.tif\"    \"S2_19_GBDI.tif\"   \n",
       "[13] \"S2_20_MGRVI.tif\"   \"S2_23_VARI.tif\"    \"S2_25_NGBDI.tif\"  \n",
       "[16] \"S2_26_CIVE.tif\"    \"S2_30_MSAVI.tif\"   \"S2_35_SIPI.tif\"   \n",
       "[19] \"S2_38_CVI.tif\"     \"S2_42_SSI.tif\"     \"S2_43_SCI.tif\"    \n",
       "[22] \"S2_45_MDE.tif\"     \"S2_47_aspect.tif\"  \"S2_48_TPI.tif\"    \n",
       "[25] \"S2_49_TRI.tif\"     \"S2_50_flowdir.tif\" \"S2_51__ACP_1.tif\" \n",
       "[28] \"S2_52__ACP_2.tif\"  \"S2_53__ACP_3.tif\" "
      ]
     },
     "metadata": {},
     "output_type": "display_data"
    }
   ],
   "source": [
    "# Separar el texto en partes\n",
    "partes <- unlist(strsplit(texto_select, \"'\"))\n",
    "partes"
   ]
  },
  {
   "cell_type": "code",
   "execution_count": 55,
   "id": "38a234dc-243c-405b-8e48-dfbb8c1ac968",
   "metadata": {},
   "outputs": [
    {
     "data": {
      "text/html": [
       "<style>\n",
       ".list-inline {list-style: none; margin:0; padding: 0}\n",
       ".list-inline>li {display: inline-block}\n",
       ".list-inline>li:not(:last-child)::after {content: \"\\00b7\"; padding: 0 .5ex}\n",
       "</style>\n",
       "<ol class=list-inline><li>'S2_01_B1.tif'</li><li>'S2_02_B2.tif'</li><li>'S2_04_B4.tif'</li><li>'S2_05_B5.tif'</li><li>'S2_06_B6.tif'</li><li>'S2_09_B9.tif'</li><li>'S2_10_B11.tif'</li><li>'S2_11_B12.tif'</li><li>'S2_14_ExR.tif'</li><li>'S2_15_ExB.tif'</li><li>'S2_16_IKAW.tif'</li><li>'S2_19_GBDI.tif'</li><li>'S2_20_MGRVI.tif'</li><li>'S2_23_VARI.tif'</li><li>'S2_25_NGBDI.tif'</li><li>'S2_26_CIVE.tif'</li><li>'S2_30_MSAVI.tif'</li><li>'S2_35_SIPI.tif'</li><li>'S2_38_CVI.tif'</li><li>'S2_42_SSI.tif'</li><li>'S2_43_SCI.tif'</li><li>'S2_45_MDE.tif'</li><li>'S2_47_aspect.tif'</li><li>'S2_48_TPI.tif'</li><li>'S2_49_TRI.tif'</li><li>'S2_50_flowdir.tif'</li><li>'S2_51__ACP_1.tif'</li><li>'S2_52__ACP_2.tif'</li><li>'S2_53__ACP_3.tif'</li></ol>\n"
      ],
      "text/latex": [
       "\\begin{enumerate*}\n",
       "\\item 'S2\\_01\\_B1.tif'\n",
       "\\item 'S2\\_02\\_B2.tif'\n",
       "\\item 'S2\\_04\\_B4.tif'\n",
       "\\item 'S2\\_05\\_B5.tif'\n",
       "\\item 'S2\\_06\\_B6.tif'\n",
       "\\item 'S2\\_09\\_B9.tif'\n",
       "\\item 'S2\\_10\\_B11.tif'\n",
       "\\item 'S2\\_11\\_B12.tif'\n",
       "\\item 'S2\\_14\\_ExR.tif'\n",
       "\\item 'S2\\_15\\_ExB.tif'\n",
       "\\item 'S2\\_16\\_IKAW.tif'\n",
       "\\item 'S2\\_19\\_GBDI.tif'\n",
       "\\item 'S2\\_20\\_MGRVI.tif'\n",
       "\\item 'S2\\_23\\_VARI.tif'\n",
       "\\item 'S2\\_25\\_NGBDI.tif'\n",
       "\\item 'S2\\_26\\_CIVE.tif'\n",
       "\\item 'S2\\_30\\_MSAVI.tif'\n",
       "\\item 'S2\\_35\\_SIPI.tif'\n",
       "\\item 'S2\\_38\\_CVI.tif'\n",
       "\\item 'S2\\_42\\_SSI.tif'\n",
       "\\item 'S2\\_43\\_SCI.tif'\n",
       "\\item 'S2\\_45\\_MDE.tif'\n",
       "\\item 'S2\\_47\\_aspect.tif'\n",
       "\\item 'S2\\_48\\_TPI.tif'\n",
       "\\item 'S2\\_49\\_TRI.tif'\n",
       "\\item 'S2\\_50\\_flowdir.tif'\n",
       "\\item 'S2\\_51\\_\\_ACP\\_1.tif'\n",
       "\\item 'S2\\_52\\_\\_ACP\\_2.tif'\n",
       "\\item 'S2\\_53\\_\\_ACP\\_3.tif'\n",
       "\\end{enumerate*}\n"
      ],
      "text/markdown": [
       "1. 'S2_01_B1.tif'\n",
       "2. 'S2_02_B2.tif'\n",
       "3. 'S2_04_B4.tif'\n",
       "4. 'S2_05_B5.tif'\n",
       "5. 'S2_06_B6.tif'\n",
       "6. 'S2_09_B9.tif'\n",
       "7. 'S2_10_B11.tif'\n",
       "8. 'S2_11_B12.tif'\n",
       "9. 'S2_14_ExR.tif'\n",
       "10. 'S2_15_ExB.tif'\n",
       "11. 'S2_16_IKAW.tif'\n",
       "12. 'S2_19_GBDI.tif'\n",
       "13. 'S2_20_MGRVI.tif'\n",
       "14. 'S2_23_VARI.tif'\n",
       "15. 'S2_25_NGBDI.tif'\n",
       "16. 'S2_26_CIVE.tif'\n",
       "17. 'S2_30_MSAVI.tif'\n",
       "18. 'S2_35_SIPI.tif'\n",
       "19. 'S2_38_CVI.tif'\n",
       "20. 'S2_42_SSI.tif'\n",
       "21. 'S2_43_SCI.tif'\n",
       "22. 'S2_45_MDE.tif'\n",
       "23. 'S2_47_aspect.tif'\n",
       "24. 'S2_48_TPI.tif'\n",
       "25. 'S2_49_TRI.tif'\n",
       "26. 'S2_50_flowdir.tif'\n",
       "27. 'S2_51__ACP_1.tif'\n",
       "28. 'S2_52__ACP_2.tif'\n",
       "29. 'S2_53__ACP_3.tif'\n",
       "\n",
       "\n"
      ],
      "text/plain": [
       " [1] \"S2_01_B1.tif\"      \"S2_02_B2.tif\"      \"S2_04_B4.tif\"     \n",
       " [4] \"S2_05_B5.tif\"      \"S2_06_B6.tif\"      \"S2_09_B9.tif\"     \n",
       " [7] \"S2_10_B11.tif\"     \"S2_11_B12.tif\"     \"S2_14_ExR.tif\"    \n",
       "[10] \"S2_15_ExB.tif\"     \"S2_16_IKAW.tif\"    \"S2_19_GBDI.tif\"   \n",
       "[13] \"S2_20_MGRVI.tif\"   \"S2_23_VARI.tif\"    \"S2_25_NGBDI.tif\"  \n",
       "[16] \"S2_26_CIVE.tif\"    \"S2_30_MSAVI.tif\"   \"S2_35_SIPI.tif\"   \n",
       "[19] \"S2_38_CVI.tif\"     \"S2_42_SSI.tif\"     \"S2_43_SCI.tif\"    \n",
       "[22] \"S2_45_MDE.tif\"     \"S2_47_aspect.tif\"  \"S2_48_TPI.tif\"    \n",
       "[25] \"S2_49_TRI.tif\"     \"S2_50_flowdir.tif\" \"S2_51__ACP_1.tif\" \n",
       "[28] \"S2_52__ACP_2.tif\"  \"S2_53__ACP_3.tif\" "
      ]
     },
     "metadata": {},
     "output_type": "display_data"
    }
   ],
   "source": [
    "# Filtrar las partes no vacías\n",
    "partes <- partes[partes != \"\"]\n",
    "partes"
   ]
  },
  {
   "cell_type": "code",
   "execution_count": 56,
   "id": "cd5d5eca-6612-411a-9f2e-b94462ce1120",
   "metadata": {},
   "outputs": [
    {
     "data": {
      "text/html": [
       "<style>\n",
       ".list-inline {list-style: none; margin:0; padding: 0}\n",
       ".list-inline>li {display: inline-block}\n",
       ".list-inline>li:not(:last-child)::after {content: \"\\00b7\"; padding: 0 .5ex}\n",
       "</style>\n",
       "<ol class=list-inline><li>'S2_01_B1'</li><li>'S2_02_B2'</li><li>'S2_04_B4'</li><li>'S2_05_B5'</li><li>'S2_06_B6'</li><li>'S2_09_B9'</li><li>'S2_10_B11'</li><li>'S2_11_B12'</li><li>'S2_14_ExR'</li><li>'S2_15_ExB'</li><li>'S2_16_IKAW'</li><li>'S2_19_GBDI'</li><li>'S2_20_MGRVI'</li><li>'S2_23_VARI'</li><li>'S2_25_NGBDI'</li><li>'S2_26_CIVE'</li><li>'S2_30_MSAVI'</li><li>'S2_35_SIPI'</li><li>'S2_38_CVI'</li><li>'S2_42_SSI'</li><li>'S2_43_SCI'</li><li>'S2_45_MDE'</li><li>'S2_47_aspect'</li><li>'S2_48_TPI'</li><li>'S2_49_TRI'</li><li>'S2_50_flowdir'</li><li>'S2_51__ACP_1'</li><li>'S2_52__ACP_2'</li><li>'S2_53__ACP_3'</li></ol>\n"
      ],
      "text/latex": [
       "\\begin{enumerate*}\n",
       "\\item 'S2\\_01\\_B1'\n",
       "\\item 'S2\\_02\\_B2'\n",
       "\\item 'S2\\_04\\_B4'\n",
       "\\item 'S2\\_05\\_B5'\n",
       "\\item 'S2\\_06\\_B6'\n",
       "\\item 'S2\\_09\\_B9'\n",
       "\\item 'S2\\_10\\_B11'\n",
       "\\item 'S2\\_11\\_B12'\n",
       "\\item 'S2\\_14\\_ExR'\n",
       "\\item 'S2\\_15\\_ExB'\n",
       "\\item 'S2\\_16\\_IKAW'\n",
       "\\item 'S2\\_19\\_GBDI'\n",
       "\\item 'S2\\_20\\_MGRVI'\n",
       "\\item 'S2\\_23\\_VARI'\n",
       "\\item 'S2\\_25\\_NGBDI'\n",
       "\\item 'S2\\_26\\_CIVE'\n",
       "\\item 'S2\\_30\\_MSAVI'\n",
       "\\item 'S2\\_35\\_SIPI'\n",
       "\\item 'S2\\_38\\_CVI'\n",
       "\\item 'S2\\_42\\_SSI'\n",
       "\\item 'S2\\_43\\_SCI'\n",
       "\\item 'S2\\_45\\_MDE'\n",
       "\\item 'S2\\_47\\_aspect'\n",
       "\\item 'S2\\_48\\_TPI'\n",
       "\\item 'S2\\_49\\_TRI'\n",
       "\\item 'S2\\_50\\_flowdir'\n",
       "\\item 'S2\\_51\\_\\_ACP\\_1'\n",
       "\\item 'S2\\_52\\_\\_ACP\\_2'\n",
       "\\item 'S2\\_53\\_\\_ACP\\_3'\n",
       "\\end{enumerate*}\n"
      ],
      "text/markdown": [
       "1. 'S2_01_B1'\n",
       "2. 'S2_02_B2'\n",
       "3. 'S2_04_B4'\n",
       "4. 'S2_05_B5'\n",
       "5. 'S2_06_B6'\n",
       "6. 'S2_09_B9'\n",
       "7. 'S2_10_B11'\n",
       "8. 'S2_11_B12'\n",
       "9. 'S2_14_ExR'\n",
       "10. 'S2_15_ExB'\n",
       "11. 'S2_16_IKAW'\n",
       "12. 'S2_19_GBDI'\n",
       "13. 'S2_20_MGRVI'\n",
       "14. 'S2_23_VARI'\n",
       "15. 'S2_25_NGBDI'\n",
       "16. 'S2_26_CIVE'\n",
       "17. 'S2_30_MSAVI'\n",
       "18. 'S2_35_SIPI'\n",
       "19. 'S2_38_CVI'\n",
       "20. 'S2_42_SSI'\n",
       "21. 'S2_43_SCI'\n",
       "22. 'S2_45_MDE'\n",
       "23. 'S2_47_aspect'\n",
       "24. 'S2_48_TPI'\n",
       "25. 'S2_49_TRI'\n",
       "26. 'S2_50_flowdir'\n",
       "27. 'S2_51__ACP_1'\n",
       "28. 'S2_52__ACP_2'\n",
       "29. 'S2_53__ACP_3'\n",
       "\n",
       "\n"
      ],
      "text/plain": [
       " [1] \"S2_01_B1\"      \"S2_02_B2\"      \"S2_04_B4\"      \"S2_05_B5\"     \n",
       " [5] \"S2_06_B6\"      \"S2_09_B9\"      \"S2_10_B11\"     \"S2_11_B12\"    \n",
       " [9] \"S2_14_ExR\"     \"S2_15_ExB\"     \"S2_16_IKAW\"    \"S2_19_GBDI\"   \n",
       "[13] \"S2_20_MGRVI\"   \"S2_23_VARI\"    \"S2_25_NGBDI\"   \"S2_26_CIVE\"   \n",
       "[17] \"S2_30_MSAVI\"   \"S2_35_SIPI\"    \"S2_38_CVI\"     \"S2_42_SSI\"    \n",
       "[21] \"S2_43_SCI\"     \"S2_45_MDE\"     \"S2_47_aspect\"  \"S2_48_TPI\"    \n",
       "[25] \"S2_49_TRI\"     \"S2_50_flowdir\" \"S2_51__ACP_1\"  \"S2_52__ACP_2\" \n",
       "[29] \"S2_53__ACP_3\" "
      ]
     },
     "metadata": {},
     "output_type": "display_data"
    }
   ],
   "source": [
    "# Eliminar la extensión .tif de cada parte\n",
    "partes_sin_extension <- sub(\"\\\\.tif\", \"\", partes)\n",
    "partes_sin_extension"
   ]
  },
  {
   "cell_type": "code",
   "execution_count": 57,
   "id": "0219dc86-1ca2-4122-83be-71d119999980",
   "metadata": {},
   "outputs": [
    {
     "data": {
      "text/html": [
       "'S2_01_B1, S2_02_B2, S2_04_B4, S2_05_B5, S2_06_B6, S2_09_B9, S2_10_B11, S2_11_B12, S2_14_ExR, S2_15_ExB, S2_16_IKAW, S2_19_GBDI, S2_20_MGRVI, S2_23_VARI, S2_25_NGBDI, S2_26_CIVE, S2_30_MSAVI, S2_35_SIPI, S2_38_CVI, S2_42_SSI, S2_43_SCI, S2_45_MDE, S2_47_aspect, S2_48_TPI, S2_49_TRI, S2_50_flowdir, S2_51__ACP_1, S2_52__ACP_2, S2_53__ACP_3'"
      ],
      "text/latex": [
       "'S2\\_01\\_B1, S2\\_02\\_B2, S2\\_04\\_B4, S2\\_05\\_B5, S2\\_06\\_B6, S2\\_09\\_B9, S2\\_10\\_B11, S2\\_11\\_B12, S2\\_14\\_ExR, S2\\_15\\_ExB, S2\\_16\\_IKAW, S2\\_19\\_GBDI, S2\\_20\\_MGRVI, S2\\_23\\_VARI, S2\\_25\\_NGBDI, S2\\_26\\_CIVE, S2\\_30\\_MSAVI, S2\\_35\\_SIPI, S2\\_38\\_CVI, S2\\_42\\_SSI, S2\\_43\\_SCI, S2\\_45\\_MDE, S2\\_47\\_aspect, S2\\_48\\_TPI, S2\\_49\\_TRI, S2\\_50\\_flowdir, S2\\_51\\_\\_ACP\\_1, S2\\_52\\_\\_ACP\\_2, S2\\_53\\_\\_ACP\\_3'"
      ],
      "text/markdown": [
       "'S2_01_B1, S2_02_B2, S2_04_B4, S2_05_B5, S2_06_B6, S2_09_B9, S2_10_B11, S2_11_B12, S2_14_ExR, S2_15_ExB, S2_16_IKAW, S2_19_GBDI, S2_20_MGRVI, S2_23_VARI, S2_25_NGBDI, S2_26_CIVE, S2_30_MSAVI, S2_35_SIPI, S2_38_CVI, S2_42_SSI, S2_43_SCI, S2_45_MDE, S2_47_aspect, S2_48_TPI, S2_49_TRI, S2_50_flowdir, S2_51__ACP_1, S2_52__ACP_2, S2_53__ACP_3'"
      ],
      "text/plain": [
       "[1] \"S2_01_B1, S2_02_B2, S2_04_B4, S2_05_B5, S2_06_B6, S2_09_B9, S2_10_B11, S2_11_B12, S2_14_ExR, S2_15_ExB, S2_16_IKAW, S2_19_GBDI, S2_20_MGRVI, S2_23_VARI, S2_25_NGBDI, S2_26_CIVE, S2_30_MSAVI, S2_35_SIPI, S2_38_CVI, S2_42_SSI, S2_43_SCI, S2_45_MDE, S2_47_aspect, S2_48_TPI, S2_49_TRI, S2_50_flowdir, S2_51__ACP_1, S2_52__ACP_2, S2_53__ACP_3\""
      ]
     },
     "metadata": {},
     "output_type": "display_data"
    }
   ],
   "source": [
    "# Agregar comas entre las partes\n",
    "texto_con_comas <- paste(partes_sin_extension, collapse = \", \")\n",
    "texto_con_comas"
   ]
  },
  {
   "cell_type": "code",
   "execution_count": 59,
   "id": "ce6208cd-2cbc-449e-93fe-310c3c8c0707",
   "metadata": {
    "tags": []
   },
   "outputs": [
    {
     "data": {
      "text/html": [
       "<table class=\"dataframe\">\n",
       "<caption>A data.frame: 4 × 30</caption>\n",
       "<thead>\n",
       "\t<tr><th></th><th scope=col>datos_Suelo..name_suelo.2...</th><th scope=col>S2_01_B1</th><th scope=col>S2_02_B2</th><th scope=col>S2_04_B4</th><th scope=col>S2_05_B5</th><th scope=col>S2_06_B6</th><th scope=col>S2_09_B9</th><th scope=col>S2_10_B11</th><th scope=col>S2_11_B12</th><th scope=col>S2_23_VARI</th><th scope=col>⋯</th><th scope=col>S2_38_CVI</th><th scope=col>S2_43_SCI</th><th scope=col>S2_45_MDE</th><th scope=col>S2_49_TRI</th><th scope=col>S2_47_aspect</th><th scope=col>S2_48_TPI</th><th scope=col>S2_50_flowdir</th><th scope=col>S2_51__ACP_1</th><th scope=col>S2_52__ACP_2</th><th scope=col>S2_53__ACP_3</th></tr>\n",
       "\t<tr><th></th><th scope=col>&lt;dbl&gt;</th><th scope=col>&lt;dbl&gt;</th><th scope=col>&lt;dbl&gt;</th><th scope=col>&lt;dbl&gt;</th><th scope=col>&lt;dbl&gt;</th><th scope=col>&lt;dbl&gt;</th><th scope=col>&lt;dbl&gt;</th><th scope=col>&lt;dbl&gt;</th><th scope=col>&lt;dbl&gt;</th><th scope=col>&lt;dbl&gt;</th><th scope=col>⋯</th><th scope=col>&lt;dbl&gt;</th><th scope=col>&lt;dbl&gt;</th><th scope=col>&lt;dbl&gt;</th><th scope=col>&lt;dbl&gt;</th><th scope=col>&lt;dbl&gt;</th><th scope=col>&lt;dbl&gt;</th><th scope=col>&lt;int&gt;</th><th scope=col>&lt;dbl&gt;</th><th scope=col>&lt;dbl&gt;</th><th scope=col>&lt;dbl&gt;</th></tr>\n",
       "</thead>\n",
       "<tbody>\n",
       "\t<tr><th scope=row>1</th><td>1.20</td><td>0.0290</td><td>0.0309</td><td>0.0323</td><td>0.0885</td><td>0.2754</td><td>0.3724</td><td>0.2159</td><td>0.0974</td><td> 0.34435797</td><td>⋯</td><td>4.373420</td><td>33.91396</td><td>217.5808</td><td>0.5321983</td><td>  0.00000</td><td> 0.21780168</td><td>64</td><td>-0.18855515</td><td> 0.004775629</td><td>-0.007336683</td></tr>\n",
       "\t<tr><th scope=row>2</th><td>0.13</td><td>0.0381</td><td>0.0523</td><td>0.0782</td><td>0.0911</td><td>0.1044</td><td>0.1621</td><td>0.2420</td><td>0.2223</td><td>-0.19243987</td><td>⋯</td><td>2.605311</td><td>20.74951</td><td>219.3033</td><td>0.3386931</td><td>313.40308</td><td> 0.04040952</td><td>16</td><td> 0.19860272</td><td>-0.198087066</td><td> 0.009015589</td></tr>\n",
       "\t<tr><th scope=row>3</th><td>0.16</td><td>0.0287</td><td>0.0434</td><td>0.0634</td><td>0.1175</td><td>0.2559</td><td>0.3281</td><td>0.2881</td><td>0.1637</td><td> 0.07333333</td><td>⋯</td><td>3.844110</td><td>19.13874</td><td>215.5808</td><td>0.6525297</td><td> 16.81831</td><td>-0.33638239</td><td>64</td><td>-0.06107873</td><td> 0.034771886</td><td>-0.015924960</td></tr>\n",
       "\t<tr><th scope=row>4</th><td>0.10</td><td>0.0451</td><td>0.0608</td><td>0.1058</td><td>0.1549</td><td>0.2278</td><td>0.3103</td><td>0.3843</td><td>0.2645</td><td>-0.13639788</td><td>⋯</td><td>3.853005</td><td>13.02195</td><td>237.0000</td><td>0.1571983</td><td>360.00000</td><td> 0.15719832</td><td>64</td><td> 0.08259204</td><td> 0.108550020</td><td>-0.035339050</td></tr>\n",
       "</tbody>\n",
       "</table>\n"
      ],
      "text/latex": [
       "A data.frame: 4 × 30\n",
       "\\begin{tabular}{r|lllllllllllllllllllll}\n",
       "  & datos\\_Suelo..name\\_suelo.2... & S2\\_01\\_B1 & S2\\_02\\_B2 & S2\\_04\\_B4 & S2\\_05\\_B5 & S2\\_06\\_B6 & S2\\_09\\_B9 & S2\\_10\\_B11 & S2\\_11\\_B12 & S2\\_23\\_VARI & ⋯ & S2\\_38\\_CVI & S2\\_43\\_SCI & S2\\_45\\_MDE & S2\\_49\\_TRI & S2\\_47\\_aspect & S2\\_48\\_TPI & S2\\_50\\_flowdir & S2\\_51\\_\\_ACP\\_1 & S2\\_52\\_\\_ACP\\_2 & S2\\_53\\_\\_ACP\\_3\\\\\n",
       "  & <dbl> & <dbl> & <dbl> & <dbl> & <dbl> & <dbl> & <dbl> & <dbl> & <dbl> & <dbl> & ⋯ & <dbl> & <dbl> & <dbl> & <dbl> & <dbl> & <dbl> & <int> & <dbl> & <dbl> & <dbl>\\\\\n",
       "\\hline\n",
       "\t1 & 1.20 & 0.0290 & 0.0309 & 0.0323 & 0.0885 & 0.2754 & 0.3724 & 0.2159 & 0.0974 &  0.34435797 & ⋯ & 4.373420 & 33.91396 & 217.5808 & 0.5321983 &   0.00000 &  0.21780168 & 64 & -0.18855515 &  0.004775629 & -0.007336683\\\\\n",
       "\t2 & 0.13 & 0.0381 & 0.0523 & 0.0782 & 0.0911 & 0.1044 & 0.1621 & 0.2420 & 0.2223 & -0.19243987 & ⋯ & 2.605311 & 20.74951 & 219.3033 & 0.3386931 & 313.40308 &  0.04040952 & 16 &  0.19860272 & -0.198087066 &  0.009015589\\\\\n",
       "\t3 & 0.16 & 0.0287 & 0.0434 & 0.0634 & 0.1175 & 0.2559 & 0.3281 & 0.2881 & 0.1637 &  0.07333333 & ⋯ & 3.844110 & 19.13874 & 215.5808 & 0.6525297 &  16.81831 & -0.33638239 & 64 & -0.06107873 &  0.034771886 & -0.015924960\\\\\n",
       "\t4 & 0.10 & 0.0451 & 0.0608 & 0.1058 & 0.1549 & 0.2278 & 0.3103 & 0.3843 & 0.2645 & -0.13639788 & ⋯ & 3.853005 & 13.02195 & 237.0000 & 0.1571983 & 360.00000 &  0.15719832 & 64 &  0.08259204 &  0.108550020 & -0.035339050\\\\\n",
       "\\end{tabular}\n"
      ],
      "text/markdown": [
       "\n",
       "A data.frame: 4 × 30\n",
       "\n",
       "| <!--/--> | datos_Suelo..name_suelo.2... &lt;dbl&gt; | S2_01_B1 &lt;dbl&gt; | S2_02_B2 &lt;dbl&gt; | S2_04_B4 &lt;dbl&gt; | S2_05_B5 &lt;dbl&gt; | S2_06_B6 &lt;dbl&gt; | S2_09_B9 &lt;dbl&gt; | S2_10_B11 &lt;dbl&gt; | S2_11_B12 &lt;dbl&gt; | S2_23_VARI &lt;dbl&gt; | ⋯ ⋯ | S2_38_CVI &lt;dbl&gt; | S2_43_SCI &lt;dbl&gt; | S2_45_MDE &lt;dbl&gt; | S2_49_TRI &lt;dbl&gt; | S2_47_aspect &lt;dbl&gt; | S2_48_TPI &lt;dbl&gt; | S2_50_flowdir &lt;int&gt; | S2_51__ACP_1 &lt;dbl&gt; | S2_52__ACP_2 &lt;dbl&gt; | S2_53__ACP_3 &lt;dbl&gt; |\n",
       "|---|---|---|---|---|---|---|---|---|---|---|---|---|---|---|---|---|---|---|---|---|---|\n",
       "| 1 | 1.20 | 0.0290 | 0.0309 | 0.0323 | 0.0885 | 0.2754 | 0.3724 | 0.2159 | 0.0974 |  0.34435797 | ⋯ | 4.373420 | 33.91396 | 217.5808 | 0.5321983 |   0.00000 |  0.21780168 | 64 | -0.18855515 |  0.004775629 | -0.007336683 |\n",
       "| 2 | 0.13 | 0.0381 | 0.0523 | 0.0782 | 0.0911 | 0.1044 | 0.1621 | 0.2420 | 0.2223 | -0.19243987 | ⋯ | 2.605311 | 20.74951 | 219.3033 | 0.3386931 | 313.40308 |  0.04040952 | 16 |  0.19860272 | -0.198087066 |  0.009015589 |\n",
       "| 3 | 0.16 | 0.0287 | 0.0434 | 0.0634 | 0.1175 | 0.2559 | 0.3281 | 0.2881 | 0.1637 |  0.07333333 | ⋯ | 3.844110 | 19.13874 | 215.5808 | 0.6525297 |  16.81831 | -0.33638239 | 64 | -0.06107873 |  0.034771886 | -0.015924960 |\n",
       "| 4 | 0.10 | 0.0451 | 0.0608 | 0.1058 | 0.1549 | 0.2278 | 0.3103 | 0.3843 | 0.2645 | -0.13639788 | ⋯ | 3.853005 | 13.02195 | 237.0000 | 0.1571983 | 360.00000 |  0.15719832 | 64 |  0.08259204 |  0.108550020 | -0.035339050 |\n",
       "\n"
      ],
      "text/plain": [
       "  datos_Suelo..name_suelo.2... S2_01_B1 S2_02_B2 S2_04_B4 S2_05_B5 S2_06_B6\n",
       "1 1.20                         0.0290   0.0309   0.0323   0.0885   0.2754  \n",
       "2 0.13                         0.0381   0.0523   0.0782   0.0911   0.1044  \n",
       "3 0.16                         0.0287   0.0434   0.0634   0.1175   0.2559  \n",
       "4 0.10                         0.0451   0.0608   0.1058   0.1549   0.2278  \n",
       "  S2_09_B9 S2_10_B11 S2_11_B12 S2_23_VARI  ⋯ S2_38_CVI S2_43_SCI S2_45_MDE\n",
       "1 0.3724   0.2159    0.0974     0.34435797 ⋯ 4.373420  33.91396  217.5808 \n",
       "2 0.1621   0.2420    0.2223    -0.19243987 ⋯ 2.605311  20.74951  219.3033 \n",
       "3 0.3281   0.2881    0.1637     0.07333333 ⋯ 3.844110  19.13874  215.5808 \n",
       "4 0.3103   0.3843    0.2645    -0.13639788 ⋯ 3.853005  13.02195  237.0000 \n",
       "  S2_49_TRI S2_47_aspect S2_48_TPI   S2_50_flowdir S2_51__ACP_1 S2_52__ACP_2\n",
       "1 0.5321983   0.00000     0.21780168 64            -0.18855515   0.004775629\n",
       "2 0.3386931 313.40308     0.04040952 16             0.19860272  -0.198087066\n",
       "3 0.6525297  16.81831    -0.33638239 64            -0.06107873   0.034771886\n",
       "4 0.1571983 360.00000     0.15719832 64             0.08259204   0.108550020\n",
       "  S2_53__ACP_3\n",
       "1 -0.007336683\n",
       "2  0.009015589\n",
       "3 -0.015924960\n",
       "4 -0.035339050"
      ]
     },
     "metadata": {},
     "output_type": "display_data"
    }
   ],
   "source": [
    "df_suelo <- data.frame(datos_Suelo[[name_suelo[2]]], S2_01_B1, S2_02_B2, S2_04_B4, S2_05_B5, S2_06_B6, S2_09_B9, S2_10_B11, \n",
    "                       S2_11_B12, S2_23_VARI, S2_26_CIVE, S2_14_ExR, S2_15_ExB, S2_16_IKAW, S2_19_GBDI, S2_20_MGRVI, \n",
    "                       S2_25_NGBDI, S2_30_MSAVI, S2_35_SIPI, S2_42_SSI, S2_38_CVI, S2_43_SCI, S2_45_MDE, S2_49_TRI, \n",
    "                       S2_47_aspect, S2_48_TPI, S2_50_flowdir,S2_51__ACP_1,S2_52__ACP_2,S2_53__ACP_3)\n",
    "head(df_suelo,4)"
   ]
  },
  {
   "cell_type": "code",
   "execution_count": 61,
   "id": "b2173413-e236-4088-a820-7fc7d48de156",
   "metadata": {
    "tags": []
   },
   "outputs": [
    {
     "name": "stdout",
     "output_type": "stream",
     "text": [
      "[1] \"Se va utilizar el R2 R_O > R:  0.997\"\n",
      "Backward elimination, alpha-to-remove: 0.05\n",
      "\n",
      "Full model: dato_suelo ~ S2_01_B1 + S2_02_B2 + S2_04_B4 + S2_05_B5 + S2_06_B6 + \n",
      "    S2_09_B9 + S2_10_B11 + S2_11_B12 + S2_23_VARI + S2_26_CIVE + \n",
      "    S2_14_ExR + S2_15_ExB + S2_16_IKAW + S2_19_GBDI + S2_20_MGRVI + \n",
      "    S2_25_NGBDI + S2_30_MSAVI + S2_35_SIPI + S2_42_SSI + S2_38_CVI + \n",
      "    S2_43_SCI + S2_45_MDE + S2_49_TRI + S2_47_aspect + S2_48_TPI + \n",
      "    S2_50_flowdir + S2_51__ACP_1 + S2_52__ACP_2 + S2_53__ACP_3 - \n",
      "    1\n",
      "\n",
      "              Step    RSS     AIC    R2pred      Cp F value Pr(>F)\n",
      "S2_30_MSAVI      1 2.2120 -144.03 -0.055795 27.0019  0.0020 0.9648\n",
      "S2_23_VARI       2 2.2149 -145.95  0.040002 25.0414  0.0420 0.8389\n",
      "S2_50_flowdir    3 2.2192 -147.83  0.107137 23.1029  0.0674 0.7968\n",
      "S2_38_CVI        4 2.2271 -149.62  0.166898 21.2124  0.1232 0.7277\n",
      "S2_09_B9         5 2.2324 -151.48  0.226443 19.2877  0.0869 0.7698\n",
      "S2_47_aspect     6 2.2392 -153.29  0.259955 17.3829  0.1125 0.7392\n",
      "S2_43_SCI        7 2.2497 -155.01  0.320556 15.5292  0.1771 0.6762\n",
      "S2_20_MGRVI      8 2.2668 -156.56  0.341368 13.7694  0.2972 0.5888\n",
      "S2_49_TRI        9 2.3098 -157.43  0.349439 12.3715  0.7581 0.3891\n",
      "S2_35_SIPI      10 2.3461 -158.50  0.352240 10.8809  0.6451 0.4265\n",
      "S2_53__ACP_3    11 2.3827 -159.57  0.376989  9.3932  0.6544 0.4231\n",
      "S2_42_SSI       12 2.4614 -159.62  0.389827  8.4964  1.4206 0.2398\n",
      "S2_25_NGBDI     13 2.5159 -160.30  0.409108  7.2606  0.9747 0.3289\n"
     ]
    },
    {
     "name": "stderr",
     "output_type": "stream",
     "text": [
      "Warning message in abbreviate_shapefile_names(obj):\n",
      "\"Field names abbreviated for ESRI Shapefile driver\"\n"
     ]
    },
    {
     "name": "stdout",
     "output_type": "stream",
     "text": [
      "Writing layer `SHP_Residuales_pH' to data source \n",
      "  `C:/Users/GEOMATICA/Curso_suelo/02_Prediccion_Suelo_Multiespectral/Datos/Satelite/Sentinel2/Bandas/SHP/SHP_Residuales_pH.shp' using driver `ESRI Shapefile'\n",
      "Writing 60 features with 1 fields and geometry type Point.\n",
      "[1] \"Se va utilizar el R2 R_O > R:  0.603\"\n",
      "Backward elimination, alpha-to-remove: 0.05\n",
      "\n",
      "Full model: dato_suelo ~ S2_01_B1 + S2_02_B2 + S2_04_B4 + S2_05_B5 + S2_06_B6 + \n",
      "    S2_09_B9 + S2_10_B11 + S2_11_B12 + S2_23_VARI + S2_26_CIVE + \n",
      "    S2_14_ExR + S2_15_ExB + S2_16_IKAW + S2_19_GBDI + S2_20_MGRVI + \n",
      "    S2_25_NGBDI + S2_30_MSAVI + S2_35_SIPI + S2_42_SSI + S2_38_CVI + \n",
      "    S2_43_SCI + S2_45_MDE + S2_49_TRI + S2_47_aspect + S2_48_TPI + \n",
      "    S2_50_flowdir + S2_51__ACP_1 + S2_52__ACP_2 + S2_53__ACP_3 - \n",
      "    1\n",
      "\n",
      "              Step    RSS     AIC     R2pred       Cp F value  Pr(>F)  \n",
      "S2_42_SSI        1 44.694 36.3302 -0.7842636 27.00009  0.0001 0.99231  \n",
      "S2_25_NGBDI      2 44.707 34.3471 -0.5793780 25.00881  0.0093 0.92385  \n",
      "S2_01_B1         3 44.729 32.3771 -0.5033189 23.02433  0.0170 0.89695  \n",
      "S2_53__ACP_3     4 44.730 30.3781 -0.3362543 21.02486  0.0006 0.98081  \n",
      "S2_09_B9         5 44.733 28.3817 -0.2167182 19.02669  0.0021 0.96349  \n",
      "S2_48_TPI        6 44.765 26.4251 -0.1642289 17.04916  0.0268 0.87084  \n",
      "S2_45_MDE        7 44.858 24.5494 -0.1126672 15.11355  0.0788 0.78045  \n",
      "S2_47_aspect     8 44.945 22.6662 -0.0844146 13.17419  0.0760 0.78424  \n",
      "S2_16_IKAW       9 45.065 20.8263 -0.0356831 11.25747  0.1069 0.74545  \n",
      "S2_38_CVI       10 45.567 19.4910 -0.0097583  9.60567  0.4567 0.50295  \n",
      "S2_20_MGRVI     11 45.931 17.9678  0.0934592  7.85784  0.3351 0.56576  \n",
      "S2_30_MSAVI     12 46.553 16.7751  0.1224466  6.28937  0.5825 0.44952  \n",
      "S2_23_VARI      13 47.285 15.7107  0.1673203  4.79680  0.6915 0.41016  \n",
      "S2_50_flowdir   14 48.042 14.6642  0.1718052  3.32219  0.7209 0.40035  \n",
      "S2_06_B6        15 49.243 14.1456  0.1878438  2.15512  1.1498 0.28918  \n",
      "S2_35_SIPI      16 50.982 14.2273  0.1976158  1.36097  1.6593 0.20400  \n",
      "S2_49_TRI       17 52.581 14.0800  0.2228950  0.46991  1.5053 0.22584  \n",
      "S2_11_B12       18 55.541 15.3661  0.2025353  0.52301  2.7585 0.10313  \n",
      "S2_05_B5        19 55.839 13.6881  0.2372893 -1.26975  0.2690 0.60630  \n",
      "S2_26_CIVE      20 57.102 13.0300  0.2526812 -2.39379  1.1535 0.28788  \n",
      "S2_51__ACP_1    21 57.233 11.1675  0.2732415 -4.30287  0.1194 0.73111  \n",
      "S2_52__ACP_2    22 57.299  9.2359  0.2936710 -6.25761  0.0604 0.80678  \n",
      "S2_02_B2        23 60.485 10.4829  0.2702289 -6.04761  3.0028 0.08883 .\n",
      "---\n",
      "Signif. codes:  0 '***' 0.001 '**' 0.01 '*' 0.05 '.' 0.1 ' ' 1\n",
      "[1] \"Directorio existe SHP\"\n"
     ]
    },
    {
     "name": "stderr",
     "output_type": "stream",
     "text": [
      "Warning message in abbreviate_shapefile_names(obj):\n",
      "\"Field names abbreviated for ESRI Shapefile driver\"\n"
     ]
    },
    {
     "name": "stdout",
     "output_type": "stream",
     "text": [
      "Writing layer `SHP_Residuales_CE' to data source \n",
      "  `C:/Users/GEOMATICA/Curso_suelo/02_Prediccion_Suelo_Multiespectral/Datos/Satelite/Sentinel2/Bandas/SHP/SHP_Residuales_CE.shp' using driver `ESRI Shapefile'\n",
      "Writing 60 features with 1 fields and geometry type Point.\n",
      "[1] \"Directorio existe Prediccion\"\n",
      "[1] \"Se va utilizar el R2 R_O > R:  0.864\"\n",
      "Backward elimination, alpha-to-remove: 0.05\n",
      "\n",
      "Full model: dato_suelo ~ S2_01_B1 + S2_02_B2 + S2_04_B4 + S2_05_B5 + S2_06_B6 + \n",
      "    S2_09_B9 + S2_10_B11 + S2_11_B12 + S2_23_VARI + S2_26_CIVE + \n",
      "    S2_14_ExR + S2_15_ExB + S2_16_IKAW + S2_19_GBDI + S2_20_MGRVI + \n",
      "    S2_25_NGBDI + S2_30_MSAVI + S2_35_SIPI + S2_42_SSI + S2_38_CVI + \n",
      "    S2_43_SCI + S2_45_MDE + S2_49_TRI + S2_47_aspect + S2_48_TPI + \n",
      "    S2_50_flowdir + S2_51__ACP_1 + S2_52__ACP_2 + S2_53__ACP_3 - \n",
      "    1\n",
      "\n",
      "              Step    RSS    AIC    R2pred     Cp F value  Pr(>F)  \n",
      "S2_47_aspect     1 34.126 20.143 -0.303005 27.000  0.0003 0.98720  \n",
      "S2_10_B11        2 34.162 18.206 -0.225494 25.032  0.0343 0.85424  \n",
      "S2_20_MGRVI      3 34.235 16.335 -0.019406 23.099  0.0733 0.78821  \n",
      "S2_48_TPI        4 34.382 14.591  0.019280 21.233  0.1499 0.70101  \n",
      "S2_45_MDE        5 34.558 12.898  0.058840 19.393  0.1845 0.67013  \n",
      "S2_02_B2         6 35.051 11.747  0.067616 17.840  0.5276 0.47219  \n",
      "S2_23_VARI       7 35.819 11.049  0.145630 16.538  0.8332 0.36711  \n",
      "S2_49_TRI        8 37.824 12.316  0.170329 16.359  2.1826 0.14761  \n",
      "S2_50_flowdir    9 39.075 12.268  0.179029 15.495  1.3227 0.25693  \n",
      "S2_42_SSI       10 42.808 15.743  0.154941 16.887  3.9172 0.05454 .\n",
      "S2_06_B6        11 44.704 16.343  0.149780 16.609  1.8603 0.17986  \n",
      "S2_01_B1        12 45.129 14.910  0.176508 14.995  0.4084 0.52616  \n",
      "S2_26_CIVE      13 46.277 14.418  0.192671 14.038  1.1193 0.29585  \n",
      "S2_05_B5        14 46.975 13.316  0.220372 12.672  0.6791 0.41426  \n",
      "S2_52__ACP_2    15 48.945 13.782  0.203062 12.462  1.9295 0.17150  \n",
      "S2_11_B12       16 51.579 14.927  0.203585 12.855  2.5292 0.11846  \n",
      "S2_09_B9        17 54.815 16.577  0.174260 13.794  3.0109 0.08913 .\n",
      "S2_51__ACP_1    18 56.491 16.384  0.195586 13.316  1.4983 0.22679  \n",
      "S2_38_CVI       19 59.416 17.414  0.179636 13.974  2.5896 0.11387  \n",
      "S2_35_SIPI      20 60.921 16.914  0.189051 13.340  1.2910 0.26117  \n",
      "S2_16_IKAW      21 61.465 15.448  0.205085 11.835  0.4650 0.49832  \n",
      "S2_25_NGBDI     22 63.875 15.755  0.184456 12.024  2.0777 0.15535  \n",
      "---\n",
      "Signif. codes:  0 '***' 0.001 '**' 0.01 '*' 0.05 '.' 0.1 ' ' 1\n",
      "[1] \"Directorio existe SHP\"\n"
     ]
    },
    {
     "name": "stderr",
     "output_type": "stream",
     "text": [
      "Warning message in abbreviate_shapefile_names(obj):\n",
      "\"Field names abbreviated for ESRI Shapefile driver\"\n"
     ]
    },
    {
     "name": "stdout",
     "output_type": "stream",
     "text": [
      "Writing layer `SHP_Residuales_MO' to data source \n",
      "  `C:/Users/GEOMATICA/Curso_suelo/02_Prediccion_Suelo_Multiespectral/Datos/Satelite/Sentinel2/Bandas/SHP/SHP_Residuales_MO.shp' using driver `ESRI Shapefile'\n",
      "Writing 60 features with 1 fields and geometry type Point.\n",
      "[1] \"Directorio existe Prediccion\"\n",
      "[1] \"Se va utilizar el R2 R_O > R:  0.887\"\n",
      "Backward elimination, alpha-to-remove: 0.05\n",
      "\n",
      "Full model: dato_suelo ~ S2_01_B1 + S2_02_B2 + S2_04_B4 + S2_05_B5 + S2_06_B6 + \n",
      "    S2_09_B9 + S2_10_B11 + S2_11_B12 + S2_23_VARI + S2_26_CIVE + \n",
      "    S2_14_ExR + S2_15_ExB + S2_16_IKAW + S2_19_GBDI + S2_20_MGRVI + \n",
      "    S2_25_NGBDI + S2_30_MSAVI + S2_35_SIPI + S2_42_SSI + S2_38_CVI + \n",
      "    S2_43_SCI + S2_45_MDE + S2_49_TRI + S2_47_aspect + S2_48_TPI + \n",
      "    S2_50_flowdir + S2_51__ACP_1 + S2_52__ACP_2 + S2_53__ACP_3 - \n",
      "    1\n",
      "\n",
      "              Step      RSS     AIC    R2pred     Cp F value Pr(>F)\n",
      "S2_10_B11        1 0.050718 -370.55 -0.345599 27.002  0.0018 0.9664\n",
      "S2_47_aspect     2 0.050721 -372.55 -0.274587 25.004  0.0019 0.9651\n",
      "S2_02_B2         3 0.050838 -374.41 -0.213313 23.075  0.0782 0.7815\n",
      "S2_48_TPI        4 0.051014 -376.20 -0.167596 21.182  0.1211 0.7300\n",
      "S2_45_MDE        5 0.051558 -377.56 -0.136333 19.515  0.3842 0.5392\n",
      "S2_20_MGRVI      6 0.052019 -379.03  0.044143 17.797  0.3304 0.5689\n",
      "S2_23_VARI       7 0.053056 -379.85  0.126196 16.431  0.7578 0.3895\n",
      "S2_50_flowdir    8 0.056484 -378.09  0.121904 16.526  2.5200 0.1205\n",
      "S2_49_TRI        9 0.058703 -377.78  0.132154 15.883  1.5714 0.2173\n",
      "[1] \"Directorio existe SHP\"\n"
     ]
    },
    {
     "name": "stderr",
     "output_type": "stream",
     "text": [
      "Warning message in abbreviate_shapefile_names(obj):\n",
      "\"Field names abbreviated for ESRI Shapefile driver\"\n"
     ]
    },
    {
     "name": "stdout",
     "output_type": "stream",
     "text": [
      "Writing layer `SHP_Residuales_N' to data source \n",
      "  `C:/Users/GEOMATICA/Curso_suelo/02_Prediccion_Suelo_Multiespectral/Datos/Satelite/Sentinel2/Bandas/SHP/SHP_Residuales_N.shp' using driver `ESRI Shapefile'\n",
      "Writing 60 features with 1 fields and geometry type Point.\n",
      "[1] \"Directorio existe Prediccion\"\n",
      "[1] \"Se va utilizar el R2 R_O > R:  0.618\"\n",
      "Backward elimination, alpha-to-remove: 0.05\n",
      "\n",
      "Full model: dato_suelo ~ S2_01_B1 + S2_02_B2 + S2_04_B4 + S2_05_B5 + S2_06_B6 + \n",
      "    S2_09_B9 + S2_10_B11 + S2_11_B12 + S2_23_VARI + S2_26_CIVE + \n",
      "    S2_14_ExR + S2_15_ExB + S2_16_IKAW + S2_19_GBDI + S2_20_MGRVI + \n",
      "    S2_25_NGBDI + S2_30_MSAVI + S2_35_SIPI + S2_42_SSI + S2_38_CVI + \n",
      "    S2_43_SCI + S2_45_MDE + S2_49_TRI + S2_47_aspect + S2_48_TPI + \n",
      "    S2_50_flowdir + S2_51__ACP_1 + S2_52__ACP_2 + S2_53__ACP_3 - \n",
      "    1\n",
      "\n",
      "              Step     RSS    AIC     R2pred     Cp F value  Pr(>F)  \n",
      "S2_23_VARI       1  809.47 210.12 -0.2106600 27.019  0.0193 0.89035  \n",
      "S2_35_SIPI       2  811.58 208.28 -0.1380805 25.100  0.0860 0.77119  \n",
      "S2_04_B4         3  815.28 206.55 -0.1019400 23.241  0.1549 0.69635  \n",
      "S2_45_MDE        4  820.38 204.93 -0.0740818 21.437  0.2191 0.64264  \n",
      "S2_16_IKAW       5  836.28 204.08 -0.0611375 20.046  0.6975 0.40912  \n",
      "S2_42_SSI        6  844.89 202.69  0.0043201 18.376  0.3811 0.54081  \n",
      "S2_47_aspect     7  867.88 202.30  0.0233006 17.257  1.0339 0.31566  \n",
      "S2_48_TPI        8  947.09 205.54 -0.0233525 18.292  3.5596 0.06666 .\n",
      "S2_50_flowdir    9 1002.66 206.96 -0.1017003 18.422  2.3472 0.13338  \n",
      "S2_49_TRI       10 1084.81 209.69 -0.1776046 19.570  3.3590 0.07411 .\n",
      "S2_10_B11       11 1140.30 210.68 -0.0751651 19.696  2.1486 0.15015  \n",
      "S2_06_B6        12 1177.24 210.59 -0.0333605 19.111  1.3926 0.24445  \n",
      "S2_14_ExR       13 1254.42 212.41 -0.0930843 20.069  2.8848 0.09648 .\n",
      "S2_05_B5        14 1259.27 210.64 -0.0556800 18.255  0.1738 0.67874  \n",
      "S2_53__ACP_3    15 1293.92 210.27 -0.0012730 17.583  1.2660 0.26636  \n",
      "S2_09_B9        16 1302.54 208.66  0.0759530 15.913  0.3130 0.57849  \n",
      "S2_01_B1        17 1339.45 208.34  0.0784912 15.327  1.3602 0.24926  \n",
      "S2_51__ACP_1    18 1372.36 207.80  0.0667525 14.588  1.2037 0.27794  \n",
      "S2_11_B12       19 1376.74 205.99  0.0892286 12.756  0.1597 0.69116  \n",
      "S2_52__ACP_2    20 1386.15 204.40  0.1154356 11.117  0.3488 0.55741  \n",
      "S2_25_NGBDI     21 1447.39 204.99  0.0881401 11.464  2.2972 0.13567  \n",
      "S2_30_MSAVI     22 1520.14 205.93  0.1138450 12.251  2.6638 0.10858  \n",
      "---\n",
      "Signif. codes:  0 '***' 0.001 '**' 0.01 '*' 0.05 '.' 0.1 ' ' 1\n",
      "[1] \"Directorio existe SHP\"\n"
     ]
    },
    {
     "name": "stderr",
     "output_type": "stream",
     "text": [
      "Warning message in abbreviate_shapefile_names(obj):\n",
      "\"Field names abbreviated for ESRI Shapefile driver\"\n"
     ]
    },
    {
     "name": "stdout",
     "output_type": "stream",
     "text": [
      "Writing layer `SHP_Residuales_P' to data source \n",
      "  `C:/Users/GEOMATICA/Curso_suelo/02_Prediccion_Suelo_Multiespectral/Datos/Satelite/Sentinel2/Bandas/SHP/SHP_Residuales_P.shp' using driver `ESRI Shapefile'\n",
      "Writing 60 features with 1 fields and geometry type Point.\n",
      "[1] \"Directorio existe Prediccion\"\n",
      "[1] \"Se va utilizar el R2 R_O > R:  0.57\"\n",
      "Backward elimination, alpha-to-remove: 0.05\n",
      "\n",
      "Full model: dato_suelo ~ S2_01_B1 + S2_02_B2 + S2_04_B4 + S2_05_B5 + S2_06_B6 + \n",
      "    S2_09_B9 + S2_10_B11 + S2_11_B12 + S2_23_VARI + S2_26_CIVE + \n",
      "    S2_14_ExR + S2_15_ExB + S2_16_IKAW + S2_19_GBDI + S2_20_MGRVI + \n",
      "    S2_25_NGBDI + S2_30_MSAVI + S2_35_SIPI + S2_42_SSI + S2_38_CVI + \n",
      "    S2_43_SCI + S2_45_MDE + S2_49_TRI + S2_47_aspect + S2_48_TPI + \n",
      "    S2_50_flowdir + S2_51__ACP_1 + S2_52__ACP_2 + S2_53__ACP_3 - \n",
      "    1\n",
      "\n",
      "              Step    RSS      AIC     R2pred       Cp F value  Pr(>F)  \n",
      "S2_38_CVI        1 5.2845  -91.774 -0.4936033 27.00090  0.0009 0.97586  \n",
      "S2_50_flowdir    2 5.2862  -93.754 -0.4263472 25.01108  0.0108 0.91772  \n",
      "S2_45_MDE        3 5.2882  -95.732 -0.3587606 23.02259  0.0126 0.91123  \n",
      "S2_10_B11        4 5.2901  -97.710 -0.2918176 21.03400  0.0129 0.91031  \n",
      "S2_16_IKAW       5 5.2960  -99.643 -0.2414898 19.06842  0.0399 0.84275  \n",
      "S2_43_SCI        6 5.3125 -101.456 -0.1534617 17.16536  0.1154 0.73595  \n",
      "S2_25_NGBDI      7 5.3305 -103.254 -0.0963744 15.27058  0.1283 0.72218  \n",
      "S2_47_aspect     8 5.3581 -104.944 -0.0676746 13.43248  0.2019 0.65567  \n",
      "S2_48_TPI        9 5.4338 -106.102 -0.0041952 11.87686  0.5655 0.45645  \n",
      "S2_23_VARI      10 5.5797 -106.513  0.0074804 10.73252  1.1005 0.30029  \n",
      "S2_49_TRI       11 5.7548 -106.659  0.0516057  9.75955  1.3178 0.25748  \n",
      "S2_20_MGRVI     12 5.8853 -107.313  0.0479145  8.52532  0.9754 0.32887  \n",
      "S2_30_MSAVI     13 6.1001 -107.162  0.0564848  7.78558  1.6061 0.21170  \n",
      "S2_09_B9        14 6.1152 -109.014  0.0874389  5.87403  0.1112 0.74031  \n",
      "S2_42_SSI       15 6.1399 -110.773  0.1002475  4.01875  0.1856 0.66864  \n",
      "S2_53__ACP_3    16 6.1756 -112.424  0.1252739  2.22833  0.2735 0.60347  \n",
      "S2_06_B6        17 6.1968 -114.219  0.1409255  0.35280  0.1649 0.68647  \n",
      "S2_01_B1        18 6.4480 -113.834  0.1243608 -0.17356  1.9863 0.16504  \n",
      "S2_26_CIVE      19 6.6407 -114.068  0.1120099 -1.04336  1.4939 0.22734  \n",
      "S2_05_B5        20 6.7347 -115.224  0.1651062 -2.49170  0.7222 0.39940  \n",
      "S2_02_B2        21 6.9793 -115.084  0.1561050 -3.05696  1.8884 0.17528  \n",
      "S2_35_SIPI      22 7.1681 -115.482  0.1459594 -3.94900  1.4342 0.23640  \n",
      "S2_11_B12       23 7.6740 -113.391  0.1143890 -2.98154  3.8107 0.05612 .\n",
      "---\n",
      "Signif. codes:  0 '***' 0.001 '**' 0.01 '*' 0.05 '.' 0.1 ' ' 1\n",
      "[1] \"Directorio existe SHP\"\n"
     ]
    },
    {
     "name": "stderr",
     "output_type": "stream",
     "text": [
      "Warning message in abbreviate_shapefile_names(obj):\n",
      "\"Field names abbreviated for ESRI Shapefile driver\"\n"
     ]
    },
    {
     "name": "stdout",
     "output_type": "stream",
     "text": [
      "Writing layer `SHP_Residuales_K' to data source \n",
      "  `C:/Users/GEOMATICA/Curso_suelo/02_Prediccion_Suelo_Multiespectral/Datos/Satelite/Sentinel2/Bandas/SHP/SHP_Residuales_K.shp' using driver `ESRI Shapefile'\n",
      "Writing 60 features with 1 fields and geometry type Point.\n",
      "[1] \"Directorio existe Prediccion\"\n",
      "[1] \"Se va utilizar el R2 R_O > R:  0.872\"\n",
      "Backward elimination, alpha-to-remove: 0.05\n",
      "\n",
      "Full model: dato_suelo ~ S2_01_B1 + S2_02_B2 + S2_04_B4 + S2_05_B5 + S2_06_B6 + \n",
      "    S2_09_B9 + S2_10_B11 + S2_11_B12 + S2_23_VARI + S2_26_CIVE + \n",
      "    S2_14_ExR + S2_15_ExB + S2_16_IKAW + S2_19_GBDI + S2_20_MGRVI + \n",
      "    S2_25_NGBDI + S2_30_MSAVI + S2_35_SIPI + S2_42_SSI + S2_38_CVI + \n",
      "    S2_43_SCI + S2_45_MDE + S2_49_TRI + S2_47_aspect + S2_48_TPI + \n",
      "    S2_50_flowdir + S2_51__ACP_1 + S2_52__ACP_2 + S2_53__ACP_3 - \n",
      "    1\n",
      "\n",
      "              Step    RSS     AIC    R2pred      Cp F value Pr(>F)\n",
      "S2_50_flowdir    1 15.147 -28.594 -0.178330 27.0502  0.0518 0.8214\n",
      "S2_38_CVI        2 15.189 -30.426 -0.100321 25.1376  0.0929 0.7625\n",
      "S2_16_IKAW       3 15.227 -32.276 -0.033323 23.2155  0.0851 0.7722\n",
      "S2_25_NGBDI      4 15.386 -33.653  0.047619 21.5410  0.3649 0.5497\n",
      "S2_23_VARI       5 15.589 -34.865  0.085196 19.9581  0.4761 0.4946\n",
      "S2_43_SCI        6 15.757 -36.222  0.138538 18.3026  0.3988 0.5316\n",
      "S2_35_SIPI       7 16.037 -37.167  0.201177 16.8753  0.6738 0.4169\n",
      "S2_10_B11        8 16.504 -37.444  0.210691 15.8331  1.1362 0.2930\n",
      "S2_49_TRI        9 16.760 -38.520  0.236133 14.3586  0.6212 0.4352\n",
      "S2_09_B9        10 17.257 -38.767  0.254849 13.3767  1.2150 0.2768\n",
      "S2_06_B6        11 17.505 -39.912  0.273566 11.8847  0.6031 0.4417\n",
      "S2_53__ACP_3    12 17.959 -40.374  0.285658 10.8166  1.1166 0.2966\n",
      "S2_11_B12       13 18.065 -42.023  0.310121  9.0322  0.2577 0.6143\n",
      "S2_52__ACP_2    14 18.903 -41.300  0.335219  8.7515  2.0893 0.1553\n",
      "S2_14_ExR       15 19.769 -40.615  0.334113  8.5256  2.1060 0.1535\n",
      "S2_04_B4        16 20.403 -40.721  0.330079  7.8251  1.5071 0.2257\n",
      "[1] \"Directorio existe SHP\"\n"
     ]
    },
    {
     "name": "stderr",
     "output_type": "stream",
     "text": [
      "Warning message in abbreviate_shapefile_names(obj):\n",
      "\"Field names abbreviated for ESRI Shapefile driver\"\n"
     ]
    },
    {
     "name": "stdout",
     "output_type": "stream",
     "text": [
      "Writing layer `SHP_Residuales_Ca' to data source \n",
      "  `C:/Users/GEOMATICA/Curso_suelo/02_Prediccion_Suelo_Multiespectral/Datos/Satelite/Sentinel2/Bandas/SHP/SHP_Residuales_Ca.shp' using driver `ESRI Shapefile'\n",
      "Writing 60 features with 1 fields and geometry type Point.\n",
      "[1] \"Directorio existe Prediccion\"\n",
      "[1] \"Se va utilizar el R2 R_O > R:  0.34\"\n",
      "Backward elimination, alpha-to-remove: 0.05\n",
      "\n",
      "Full model: dato_suelo ~ S2_01_B1 + S2_02_B2 + S2_04_B4 + S2_05_B5 + S2_06_B6 + \n",
      "    S2_09_B9 + S2_10_B11 + S2_11_B12 + S2_23_VARI + S2_26_CIVE + \n",
      "    S2_14_ExR + S2_15_ExB + S2_16_IKAW + S2_19_GBDI + S2_20_MGRVI + \n",
      "    S2_25_NGBDI + S2_30_MSAVI + S2_35_SIPI + S2_42_SSI + S2_38_CVI + \n",
      "    S2_43_SCI + S2_45_MDE + S2_49_TRI + S2_47_aspect + S2_48_TPI + \n",
      "    S2_50_flowdir + S2_51__ACP_1 + S2_52__ACP_2 + S2_53__ACP_3 - \n",
      "    1\n",
      "\n"
     ]
    },
    {
     "name": "stderr",
     "output_type": "stream",
     "text": [
      "Warning message in max(F.removed, na.rm = TRUE):\n",
      "\"ningun argumento finito para max; retornando -Inf\"\n"
     ]
    },
    {
     "name": "stdout",
     "output_type": "stream",
     "text": [
      "              Step    RSS     AIC   R2pred       Cp F value Pr(>F)\n",
      "S2_02_B2         1 2.3030 -141.61 -1.95527 27.00005  0.0001 0.9943\n",
      "S2_23_VARI       2 2.3038 -143.59 -1.61250 25.01096  0.0116 0.9148\n",
      "S2_50_flowdir    3 2.3125 -145.36 -1.44183 23.12767  0.1280 0.7228\n",
      "S2_43_SCI        4 2.3547 -146.28 -1.16588 21.69563  0.6386 0.4296\n",
      "S2_49_TRI        5 2.4171 -146.71 -1.01685 20.53649  0.9550 0.3350\n",
      "S2_47_aspect     6 2.4824 -147.11 -1.02518 19.41466  0.9986 0.3241\n",
      "S2_42_SSI        7 2.5505 -147.48 -0.90141 18.33174  1.0429 0.3136\n",
      "S2_20_MGRVI      8 2.5838 -148.70 -0.75110 16.78021  0.5094 0.4796\n",
      "S2_16_IKAW       9 2.6137 -150.01 -0.73322 15.18268  0.4629 0.5002\n",
      "S2_30_MSAVI     10 2.6421 -151.37 -0.50717 13.56522  0.4458 0.5081\n",
      "S2_25_NGBDI     11 2.6741 -152.64 -0.36446 11.99501  0.5075 0.4801\n",
      "S2_10_B11       12 2.7611 -152.72 -0.38061 11.16594  1.3988 0.2434\n",
      "S2_01_B1        13 2.7626 -154.69 -0.34153  9.18649  0.0243 0.8767\n",
      "S2_06_B6        14 2.7633 -156.68 -0.22043  7.19587  0.0113 0.9156\n",
      "S2_11_B12       15 2.8308 -157.23 -0.20113  6.10429  1.1234 0.2947\n",
      "S2_09_B9        16 2.9303 -157.15 -0.20376  5.44429  1.6528 0.2049\n",
      "S2_53__ACP_3    17 2.9917 -157.91 -0.20789  4.27010  1.0049 0.3211\n",
      "S2_51__ACP_1    18 3.1158 -157.47 -0.19159  3.94084  2.0329 0.1603\n",
      "S2_05_B5        19 3.2215 -157.47 -0.17229  3.36339  1.6959 0.1988\n",
      "S2_52__ACP_2    20 3.2835 -158.33 -0.15677  2.19827  0.9819 0.3264\n",
      "S2_45_MDE       21 3.4573 -157.23 -0.19646  2.53828  2.7531 0.1031\n",
      "S2_48_TPI       22 3.6299 -156.31 -0.21965  2.86087  2.6451 0.1098\n",
      "S2_26_CIVE      23 3.7356 -156.59 -0.18361  2.28462  1.5735 0.2151\n",
      "S2_35_SIPI      24 3.7548 -158.28 -0.14812  0.54312  0.2827 0.5970\n",
      "S2_38_CVI       25 3.9262 -157.60 -0.14216  0.84954  2.5554 0.1155\n",
      "[1] \"Directorio existe SHP\"\n"
     ]
    },
    {
     "name": "stderr",
     "output_type": "stream",
     "text": [
      "Warning message in abbreviate_shapefile_names(obj):\n",
      "\"Field names abbreviated for ESRI Shapefile driver\"\n"
     ]
    },
    {
     "name": "stdout",
     "output_type": "stream",
     "text": [
      "Writing layer `SHP_Residuales_Mg' to data source \n",
      "  `C:/Users/GEOMATICA/Curso_suelo/02_Prediccion_Suelo_Multiespectral/Datos/Satelite/Sentinel2/Bandas/SHP/SHP_Residuales_Mg.shp' using driver `ESRI Shapefile'\n",
      "Writing 60 features with 1 fields and geometry type Point.\n",
      "[1] \"Directorio existe Prediccion\"\n",
      "[1] \"Se va utilizar el R2 R_O > R:  0.721\"\n",
      "Backward elimination, alpha-to-remove: 0.05\n",
      "\n",
      "Full model: dato_suelo ~ S2_01_B1 + S2_02_B2 + S2_04_B4 + S2_05_B5 + S2_06_B6 + \n",
      "    S2_09_B9 + S2_10_B11 + S2_11_B12 + S2_23_VARI + S2_26_CIVE + \n",
      "    S2_14_ExR + S2_15_ExB + S2_16_IKAW + S2_19_GBDI + S2_20_MGRVI + \n",
      "    S2_25_NGBDI + S2_30_MSAVI + S2_35_SIPI + S2_42_SSI + S2_38_CVI + \n",
      "    S2_43_SCI + S2_45_MDE + S2_49_TRI + S2_47_aspect + S2_48_TPI + \n",
      "    S2_50_flowdir + S2_51__ACP_1 + S2_52__ACP_2 + S2_53__ACP_3 - \n",
      "    1\n",
      "\n",
      "              Step    RSS    AIC    R2pred       Cp F value Pr(>F)  \n",
      "S2_49_TRI        1 45.572 37.497 -0.728003 27.01356  0.0140 0.9066  \n",
      "S2_38_CVI        2 45.593 35.524 -0.577907 25.02783  0.0152 0.9027  \n",
      "S2_47_aspect     3 45.620 33.561 -0.494895 23.04671  0.0207 0.8865  \n",
      "S2_16_IKAW       4 45.737 31.714 -0.367797 21.12628  0.0897 0.7663  \n",
      "S2_23_VARI       5 45.867 29.884 -0.299559 19.21434  0.1019 0.7515  \n",
      "S2_50_flowdir    6 46.168 28.276 -0.240974 17.41922  0.2428 0.6251  \n",
      "S2_43_SCI        7 46.454 26.647 -0.200703 15.61391  0.2355 0.6303  \n",
      "S2_02_B2         8 46.758 25.039 -0.100735 13.82113  0.2556 0.6160  \n",
      "S2_09_B9         9 47.848 24.421 -0.074665 12.56279  0.9323 0.3401  \n",
      "S2_10_B11       10 48.691 23.469 -0.016077 11.13630  0.7221 0.4004  \n",
      "S2_01_B1        11 49.747 22.756  0.005624  9.85468  0.9105 0.3454  \n",
      "S2_42_SSI       12 50.940 22.179  0.034685  8.66715  1.0319 0.3154  \n",
      "S2_20_MGRVI     13 50.971 20.215  0.066845  6.68810  0.0266 0.8712  \n",
      "S2_30_MSAVI     14 51.161 18.438  0.093243  4.81709  0.1673 0.6844  \n",
      "S2_06_B6        15 51.840 17.229  0.107591  3.27923  0.6106 0.4386  \n",
      "S2_35_SIPI      16 52.379 15.849  0.125390  1.64596  0.4886 0.4880  \n",
      "S2_26_CIVE      17 55.165 16.959  0.103276  1.54216  2.5534 0.1166  \n",
      "S2_11_B12       18 56.069 15.934  0.127905  0.15735  0.8029 0.3746  \n",
      "S2_05_B5        19 56.955 14.875  0.148572 -1.23936  0.7905 0.3782  \n",
      "S2_25_NGBDI     20 60.392 16.391  0.130034 -0.90053  3.0774 0.0854 .\n",
      "---\n",
      "Signif. codes:  0 '***' 0.001 '**' 0.01 '*' 0.05 '.' 0.1 ' ' 1\n",
      "[1] \"Directorio existe SHP\"\n"
     ]
    },
    {
     "name": "stderr",
     "output_type": "stream",
     "text": [
      "Warning message in abbreviate_shapefile_names(obj):\n",
      "\"Field names abbreviated for ESRI Shapefile driver\"\n"
     ]
    },
    {
     "name": "stdout",
     "output_type": "stream",
     "text": [
      "Writing layer `SHP_Residuales_Al' to data source \n",
      "  `C:/Users/GEOMATICA/Curso_suelo/02_Prediccion_Suelo_Multiespectral/Datos/Satelite/Sentinel2/Bandas/SHP/SHP_Residuales_Al.shp' using driver `ESRI Shapefile'\n",
      "Writing 60 features with 1 fields and geometry type Point.\n",
      "[1] \"Directorio existe Prediccion\"\n",
      "[1] \"Se va utilizar el R2 R_O > R:  0.906\"\n",
      "Backward elimination, alpha-to-remove: 0.05\n",
      "\n",
      "Full model: dato_suelo ~ S2_01_B1 + S2_02_B2 + S2_04_B4 + S2_05_B5 + S2_06_B6 + \n",
      "    S2_09_B9 + S2_10_B11 + S2_11_B12 + S2_23_VARI + S2_26_CIVE + \n",
      "    S2_14_ExR + S2_15_ExB + S2_16_IKAW + S2_19_GBDI + S2_20_MGRVI + \n",
      "    S2_25_NGBDI + S2_30_MSAVI + S2_35_SIPI + S2_42_SSI + S2_38_CVI + \n",
      "    S2_43_SCI + S2_45_MDE + S2_49_TRI + S2_47_aspect + S2_48_TPI + \n",
      "    S2_50_flowdir + S2_51__ACP_1 + S2_52__ACP_2 + S2_53__ACP_3 - \n",
      "    1\n",
      "\n",
      "              Step    RSS    AIC     R2pred      Cp F value  Pr(>F)  \n",
      "S2_38_CVI        1 68.799 62.211 -0.6846815 27.0021  0.0021 0.96341  \n",
      "S2_16_IKAW       2 68.841 60.247 -0.5384581 25.0206  0.0197 0.88926  \n",
      "S2_35_SIPI       3 68.959 58.350 -0.4313217 23.0740  0.0586 0.81019  \n",
      "S2_43_SCI        4 69.062 56.440 -0.3563606 21.1205  0.0524 0.82030  \n",
      "S2_25_NGBDI      5 69.177 54.539 -0.2893593 19.1721  0.0597 0.80842  \n",
      "S2_23_VARI       6 69.401 52.733 -0.2461088 17.2732  0.1199 0.73106  \n",
      "S2_48_TPI        7 69.811 51.086 -0.1853861 15.4577  0.2242 0.63858  \n",
      "S2_45_MDE        8 70.179 49.402 -0.0928979 13.6238  0.2060 0.65245  \n",
      "S2_49_TRI        9 70.642 47.797 -0.0489227 11.8323  0.2638 0.61037  \n",
      "S2_04_B4        10 71.121 46.202 -0.0022787 10.0481  0.2779 0.60093  \n",
      "S2_50_flowdir   11 72.872 45.662  0.0127143  8.8372  1.0342 0.31500  \n",
      "S2_30_MSAVI     12 75.919 46.120  0.0298569  8.2104  1.7981 0.18698  \n",
      "S2_20_MGRVI     13 77.838 45.617  0.0435240  7.0749  1.1119 0.29742  \n",
      "S2_42_SSI       14 78.231 43.919  0.0831890  5.2521  0.2274 0.63579  \n",
      "S2_10_B11       15 80.346 43.520  0.1078730  4.2053  1.2438 0.27054  \n",
      "S2_09_B9        16 84.471 44.524  0.0886890  4.0639  2.4127 0.12706  \n",
      "S2_06_B6        17 89.583 46.049  0.0525986  4.3674  2.9048 0.09478 .\n",
      "S2_47_aspect    18 93.611 46.688  0.0422410  4.1826  2.2034 0.14411  \n",
      "---\n",
      "Signif. codes:  0 '***' 0.001 '**' 0.01 '*' 0.05 '.' 0.1 ' ' 1\n",
      "[1] \"Directorio existe SHP\"\n"
     ]
    },
    {
     "name": "stderr",
     "output_type": "stream",
     "text": [
      "Warning message in abbreviate_shapefile_names(obj):\n",
      "\"Field names abbreviated for ESRI Shapefile driver\"\n"
     ]
    },
    {
     "name": "stdout",
     "output_type": "stream",
     "text": [
      "Writing layer `SHP_Residuales_CICe' to data source \n",
      "  `C:/Users/GEOMATICA/Curso_suelo/02_Prediccion_Suelo_Multiespectral/Datos/Satelite/Sentinel2/Bandas/SHP/SHP_Residuales_CICe.shp' using driver `ESRI Shapefile'\n",
      "Writing 60 features with 1 fields and geometry type Point.\n",
      "[1] \"Directorio existe Prediccion\"\n",
      "[1] \"Se va utilizar el R2 R_O > R:  0.863\"\n",
      "Backward elimination, alpha-to-remove: 0.05\n",
      "\n",
      "Full model: dato_suelo ~ S2_01_B1 + S2_02_B2 + S2_04_B4 + S2_05_B5 + S2_06_B6 + \n",
      "    S2_09_B9 + S2_10_B11 + S2_11_B12 + S2_23_VARI + S2_26_CIVE + \n",
      "    S2_14_ExR + S2_15_ExB + S2_16_IKAW + S2_19_GBDI + S2_20_MGRVI + \n",
      "    S2_25_NGBDI + S2_30_MSAVI + S2_35_SIPI + S2_42_SSI + S2_38_CVI + \n",
      "    S2_43_SCI + S2_45_MDE + S2_49_TRI + S2_47_aspect + S2_48_TPI + \n",
      "    S2_50_flowdir + S2_51__ACP_1 + S2_52__ACP_2 + S2_53__ACP_3 - \n",
      "    1\n",
      "\n",
      "              Step    RSS     AIC    R2pred     Cp F value  Pr(>F)  \n",
      "S2_43_SCI        1 31.265 14.8895 -0.202375 27.005  0.0047 0.94603  \n",
      "S2_23_VARI       2 31.290 12.9380 -0.106487 25.030  0.0267 0.87131  \n",
      "S2_50_flowdir    3 31.381 11.1108 -0.055268 23.119  0.0981 0.75604  \n",
      "S2_35_SIPI       4 31.964 10.2151  0.045700 21.697  0.6501 0.42551  \n",
      "S2_16_IKAW       5 32.689  9.5614  0.075288 20.416  0.8169 0.37209  \n",
      "S2_25_NGBDI      6 32.834  7.8279  0.142186 18.561  0.1647 0.68721  \n",
      "S2_38_CVI        7 33.322  6.7127  0.158162 17.044  0.5645 0.45707  \n",
      "S2_10_B11        8 35.030  7.7113  0.141668 16.738  1.9986 0.16538  \n",
      "S2_49_TRI        9 36.008  7.3640  0.167580 15.708  1.1172 0.29687  \n",
      "S2_09_B9        10 37.505  7.8071  0.177168 15.192  1.7039 0.19906  \n",
      "S2_30_MSAVI     11 37.853  6.3620  0.204614 13.538  0.3903 0.53553  \n",
      "S2_06_B6        12 39.193  6.4496  0.184996 12.867  1.5224 0.22396  \n",
      "S2_47_aspect    13 40.200  5.9708  0.211855 11.865  1.1298 0.29361  \n",
      "S2_53__ACP_3    14 41.762  6.2590  0.192137 11.414  1.7493 0.19265  \n",
      "S2_11_B12       15 42.773  5.6940  0.200152 10.417  1.1134 0.29686  \n",
      "S2_20_MGRVI     16 45.979  8.0309  0.215290 11.596  3.5230 0.06674 .\n",
      "S2_42_SSI       17 48.789  9.5893  0.182928 12.382  2.9328 0.09325 .\n",
      "S2_02_B2        18 52.200 11.6446  0.150773 13.765  3.4264 0.07020 .\n",
      "S2_01_B1        19 55.732 13.5727  0.103660 15.268  3.3829 0.07182 .\n",
      "S2_48_TPI       20 58.792 14.7797  0.126621 16.302  2.8001 0.10038  \n",
      "---\n",
      "Signif. codes:  0 '***' 0.001 '**' 0.01 '*' 0.05 '.' 0.1 ' ' 1\n",
      "[1] \"Directorio existe SHP\"\n"
     ]
    },
    {
     "name": "stderr",
     "output_type": "stream",
     "text": [
      "Warning message in abbreviate_shapefile_names(obj):\n",
      "\"Field names abbreviated for ESRI Shapefile driver\"\n"
     ]
    },
    {
     "name": "stdout",
     "output_type": "stream",
     "text": [
      "Writing layer `SHP_Residuales_BT' to data source \n",
      "  `C:/Users/GEOMATICA/Curso_suelo/02_Prediccion_Suelo_Multiespectral/Datos/Satelite/Sentinel2/Bandas/SHP/SHP_Residuales_BT.shp' using driver `ESRI Shapefile'\n",
      "Writing 60 features with 1 fields and geometry type Point.\n",
      "[1] \"Directorio existe Prediccion\"\n",
      "[1] \"Se va utilizar el R2 R_O > R:  0.828\"\n",
      "Backward elimination, alpha-to-remove: 0.05\n",
      "\n",
      "Full model: dato_suelo ~ S2_01_B1 + S2_02_B2 + S2_04_B4 + S2_05_B5 + S2_06_B6 + \n",
      "    S2_09_B9 + S2_10_B11 + S2_11_B12 + S2_23_VARI + S2_26_CIVE + \n",
      "    S2_14_ExR + S2_15_ExB + S2_16_IKAW + S2_19_GBDI + S2_20_MGRVI + \n",
      "    S2_25_NGBDI + S2_30_MSAVI + S2_35_SIPI + S2_42_SSI + S2_38_CVI + \n",
      "    S2_43_SCI + S2_45_MDE + S2_49_TRI + S2_47_aspect + S2_48_TPI + \n",
      "    S2_50_flowdir + S2_51__ACP_1 + S2_52__ACP_2 + S2_53__ACP_3 - \n",
      "    1\n",
      "\n",
      "              Step   RSS    AIC     R2pred      Cp F value  Pr(>F)  \n",
      "S2_38_CVI        1 11838 371.08 -0.5311810 27.0057  0.0059 0.93932  \n",
      "S2_50_flowdir    2 11858 369.19 -0.4693945 25.0594  0.0572 0.81254  \n",
      "S2_23_VARI       3 11890 367.34 -0.3216170 23.1419  0.0903 0.76557  \n",
      "S2_16_IKAW       4 11902 365.41 -0.2131155 21.1741  0.0362 0.85023  \n",
      "S2_49_TRI        5 11946 363.63 -0.1588792 19.2886  0.1321 0.71835  \n",
      "S2_10_B11        6 12017 361.98 -0.0835635 17.4744  0.2197 0.64201  \n",
      "S2_47_aspect     7 12243 361.10 -0.0689582 16.0668  0.7153 0.40300  \n",
      "S2_42_SSI        8 12444 360.08  0.0024481 14.5934  0.6404 0.42840  \n",
      "S2_04_B4         9 13011 360.75  0.0288709 14.0792  1.8235 0.18449  \n",
      "S2_06_B6        10 13657 361.66  0.0393327 13.7703  2.0346 0.16133  \n",
      "S2_53__ACP_3    11 13731 359.98  0.0946224 11.9648  0.2283 0.63527  \n",
      "S2_30_MSAVI     12 13760 358.11  0.1427271 10.0396  0.0895 0.76625  \n",
      "S2_20_MGRVI     13 13966 357.00  0.1539617  8.5816  0.6618 0.42032  \n",
      "S2_35_SIPI      14 14213 356.05  0.1620241  7.2267  0.7935 0.37777  \n",
      "S2_25_NGBDI     15 14392 354.80  0.1803586  5.6956  0.5793 0.45045  \n",
      "S2_11_B12       16 14763 354.33  0.2022242  4.6677  1.2121 0.27652  \n",
      "S2_01_B1        17 15468 355.13  0.1963370  4.5151  2.2932 0.13650  \n",
      "S2_14_ExR       18 16626 357.46  0.1860595  5.5478  3.6678 0.06132 .\n",
      "S2_51__ACP_1    19 17648 359.04  0.1584092  6.2256  3.0746 0.08566 .\n",
      "S2_09_B9        20 18073 358.47  0.1582436  5.3382  1.2275 0.27309  \n",
      "---\n",
      "Signif. codes:  0 '***' 0.001 '**' 0.01 '*' 0.05 '.' 0.1 ' ' 1\n",
      "[1] \"Directorio existe SHP\"\n"
     ]
    },
    {
     "name": "stderr",
     "output_type": "stream",
     "text": [
      "Warning message in abbreviate_shapefile_names(obj):\n",
      "\"Field names abbreviated for ESRI Shapefile driver\"\n"
     ]
    },
    {
     "name": "stdout",
     "output_type": "stream",
     "text": [
      "Writing layer `SHP_Residuales_SAl' to data source \n",
      "  `C:/Users/GEOMATICA/Curso_suelo/02_Prediccion_Suelo_Multiespectral/Datos/Satelite/Sentinel2/Bandas/SHP/SHP_Residuales_SAl.shp' using driver `ESRI Shapefile'\n",
      "Writing 60 features with 1 fields and geometry type Point.\n",
      "[1] \"Directorio existe Prediccion\"\n",
      "[1] \"Se va utilizar el R2 R_O > R:  0.96\"\n",
      "Backward elimination, alpha-to-remove: 0.05\n",
      "\n",
      "Full model: dato_suelo ~ S2_01_B1 + S2_02_B2 + S2_04_B4 + S2_05_B5 + S2_06_B6 + \n",
      "    S2_09_B9 + S2_10_B11 + S2_11_B12 + S2_23_VARI + S2_26_CIVE + \n",
      "    S2_14_ExR + S2_15_ExB + S2_16_IKAW + S2_19_GBDI + S2_20_MGRVI + \n",
      "    S2_25_NGBDI + S2_30_MSAVI + S2_35_SIPI + S2_42_SSI + S2_38_CVI + \n",
      "    S2_43_SCI + S2_45_MDE + S2_49_TRI + S2_47_aspect + S2_48_TPI + \n",
      "    S2_50_flowdir + S2_51__ACP_1 + S2_52__ACP_2 + S2_53__ACP_3 - \n",
      "    1\n",
      "\n",
      "              Step    RSS    AIC      R2pred      Cp F value  Pr(>F)  \n",
      "S2_35_SIPI       1 4484.5 312.84 -0.83053328 27.0001  0.0001 0.99214  \n",
      "S2_23_VARI       2 4484.5 310.84 -0.57152785 25.0003  0.0002 0.98938  \n",
      "S2_20_MGRVI      3 4517.0 309.28 -0.40841500 23.2249  0.2464 0.62283  \n",
      "S2_49_TRI        4 4573.1 308.02 -0.37631198 21.6129  0.4349 0.51390  \n",
      "S2_45_MDE        5 4618.4 306.61 -0.27759759 19.9264  0.3569 0.55396  \n",
      "S2_25_NGBDI      6 4696.3 305.61 -0.23768668 18.4643  0.6235 0.43480  \n",
      "S2_47_aspect     7 4821.9 305.19 -0.23208190 17.3326  1.0164 0.31976  \n",
      "S2_16_IKAW       8 5009.5 305.49 -0.16865179 16.6299  1.5179 0.22532  \n",
      "S2_43_SCI        9 5075.9 304.28 -0.10679240 15.0888  0.5300 0.47083  \n",
      "S2_38_CVI       10 5170.4 303.38 -0.03472599 13.7418  0.7630 0.38748  \n",
      "S2_09_B9        11 5288.9 302.74  0.00019659 12.5608  0.9624 0.33221  \n",
      "S2_10_B11       12 5428.6 302.31  0.02650804 11.5269  1.1362 0.29240  \n",
      "S2_01_B1        13 5590.7 302.07  0.03976370 10.6473  1.3137 0.25793  \n",
      "S2_06_B6        14 5732.9 301.58  0.07322764  9.6301  1.1444 0.29043  \n",
      "S2_11_B12       15 5885.2 301.15  0.10533996  8.6832  1.2224 0.27464  \n",
      "S2_48_TPI       16 6190.0 302.18  0.08508828  8.7904  2.4344 0.12541  \n",
      "S2_02_B2        17 6638.4 304.38  0.06208091  9.8901  3.4771 0.06834 .\n",
      "S2_50_flowdir   18 7084.5 306.28  0.01967873 10.9733  3.2921 0.07574 .\n",
      "S2_42_SSI       19 7578.0 308.32 -0.00227146 12.3855  3.4837 0.06785 .\n",
      "---\n",
      "Signif. codes:  0 '***' 0.001 '**' 0.01 '*' 0.05 '.' 0.1 ' ' 1\n",
      "[1] \"Directorio existe SHP\"\n"
     ]
    },
    {
     "name": "stderr",
     "output_type": "stream",
     "text": [
      "Warning message in abbreviate_shapefile_names(obj):\n",
      "\"Field names abbreviated for ESRI Shapefile driver\"\n"
     ]
    },
    {
     "name": "stdout",
     "output_type": "stream",
     "text": [
      "Writing layer `SHP_Residuales_Arena' to data source \n",
      "  `C:/Users/GEOMATICA/Curso_suelo/02_Prediccion_Suelo_Multiespectral/Datos/Satelite/Sentinel2/Bandas/SHP/SHP_Residuales_Arena.shp' using driver `ESRI Shapefile'\n",
      "Writing 60 features with 1 fields and geometry type Point.\n",
      "[1] \"Directorio existe Prediccion\"\n",
      "[1] \"Se va utilizar el R2 R_O > R:  0.896\"\n",
      "Backward elimination, alpha-to-remove: 0.05\n",
      "\n",
      "Full model: dato_suelo ~ S2_01_B1 + S2_02_B2 + S2_04_B4 + S2_05_B5 + S2_06_B6 + \n",
      "    S2_09_B9 + S2_10_B11 + S2_11_B12 + S2_23_VARI + S2_26_CIVE + \n",
      "    S2_14_ExR + S2_15_ExB + S2_16_IKAW + S2_19_GBDI + S2_20_MGRVI + \n",
      "    S2_25_NGBDI + S2_30_MSAVI + S2_35_SIPI + S2_42_SSI + S2_38_CVI + \n",
      "    S2_43_SCI + S2_45_MDE + S2_49_TRI + S2_47_aspect + S2_48_TPI + \n",
      "    S2_50_flowdir + S2_51__ACP_1 + S2_52__ACP_2 + S2_53__ACP_3 - \n",
      "    1\n",
      "\n",
      "             Step    RSS    AIC    R2pred     Cp F value Pr(>F)\n",
      "S2_23_VARI      1 1528.0 248.24 -0.761718 27.002  0.0020 0.9646\n",
      "S2_45_MDE       2 1528.5 246.26 -0.685662 25.012  0.0105 0.9189\n",
      "S2_20_MGRVI     3 1539.7 244.70 -0.536144 23.238  0.2484 0.6214\n",
      "S2_09_B9        4 1558.3 243.42 -0.432568 21.616  0.4233 0.5196\n",
      "S2_47_aspect    5 1581.9 242.32 -0.401622 20.094  0.5442 0.4655\n",
      "S2_02_B2        6 1608.1 241.31 -0.334670 18.627  0.6139 0.4383\n",
      "S2_25_NGBDI     7 1678.1 241.86 -0.292147 18.046  1.6532 0.2063\n",
      "S2_10_B11       8 1687.4 240.20 -0.200543 16.235  0.2167 0.6441\n",
      "S2_01_B1        9 1688.3 238.23 -0.142878 14.253  0.0212 0.8849\n",
      "S2_35_SIPI     10 1761.9 238.79 -0.133619 13.747  1.7877 0.1886\n",
      "S2_38_CVI      11 1829.5 239.05 -0.118387 13.119  1.6116 0.2113\n",
      "S2_16_IKAW     12 1895.5 239.17 -0.070597 12.457  1.5504 0.2198\n",
      "S2_49_TRI      13 1963.1 239.28 -0.051995 11.829  1.5700 0.2168\n",
      "S2_06_B6       14 2001.6 238.44 -0.034578 10.610  0.8824 0.3525\n",
      "S2_48_TPI      15 2108.4 239.56 -0.046000 10.777  2.4547 0.1240\n",
      "S2_11_B12      16 2201.9 240.16 -0.030362 10.674  2.0841 0.1555\n",
      "S2_43_SCI      17 2301.3 240.81  0.028430 10.690  2.1661 0.1476\n",
      "S2_42_SSI      18 2382.0 240.88  0.035765 10.327  1.7181 0.1960\n",
      "[1] \"Directorio existe SHP\"\n"
     ]
    },
    {
     "name": "stderr",
     "output_type": "stream",
     "text": [
      "Warning message in abbreviate_shapefile_names(obj):\n",
      "\"Field names abbreviated for ESRI Shapefile driver\"\n"
     ]
    },
    {
     "name": "stdout",
     "output_type": "stream",
     "text": [
      "Writing layer `SHP_Residuales_Limo' to data source \n",
      "  `C:/Users/GEOMATICA/Curso_suelo/02_Prediccion_Suelo_Multiespectral/Datos/Satelite/Sentinel2/Bandas/SHP/SHP_Residuales_Limo.shp' using driver `ESRI Shapefile'\n",
      "Writing 60 features with 1 fields and geometry type Point.\n",
      "[1] \"Directorio existe Prediccion\"\n",
      "[1] \"Se va utilizar el R2 R_O > R:  0.899\"\n",
      "Backward elimination, alpha-to-remove: 0.05\n",
      "\n",
      "Full model: dato_suelo ~ S2_01_B1 + S2_02_B2 + S2_04_B4 + S2_05_B5 + S2_06_B6 + \n",
      "    S2_09_B9 + S2_10_B11 + S2_11_B12 + S2_23_VARI + S2_26_CIVE + \n",
      "    S2_14_ExR + S2_15_ExB + S2_16_IKAW + S2_19_GBDI + S2_20_MGRVI + \n",
      "    S2_25_NGBDI + S2_30_MSAVI + S2_35_SIPI + S2_42_SSI + S2_38_CVI + \n",
      "    S2_43_SCI + S2_45_MDE + S2_49_TRI + S2_47_aspect + S2_48_TPI + \n",
      "    S2_50_flowdir + S2_51__ACP_1 + S2_52__ACP_2 + S2_53__ACP_3 - \n",
      "    1\n",
      "\n",
      "              Step    RSS    AIC    R2pred      Cp F value  Pr(>F)  \n",
      "S2_23_VARI       1 1861.6 260.09 -0.694295 27.0004  0.0004 0.98449  \n",
      "S2_43_SCI        2 1861.8 258.10 -0.582062 25.0033  0.0031 0.95571  \n",
      "S2_49_TRI        3 1863.4 256.15 -0.493420 23.0295  0.0287 0.86639  \n",
      "S2_20_MGRVI      4 1867.2 254.27 -0.373525 21.0934  0.0721 0.78986  \n",
      "S2_25_NGBDI      5 1879.9 252.68 -0.286974 19.3053  0.2453 0.62342  \n",
      "S2_38_CVI        6 1882.9 250.77 -0.215836 17.3544  0.0580 0.81100  \n",
      "S2_16_IKAW       7 1885.4 248.85 -0.169281 15.3965  0.0511 0.82239  \n",
      "S2_48_TPI        8 1901.5 247.36 -0.125775 13.6643  0.3326 0.56743  \n",
      "S2_47_aspect     9 1940.6 246.58 -0.108286 12.3158  0.8229 0.36976  \n",
      "S2_45_MDE       10 1975.3 245.65 -0.057095 10.8938  0.7333 0.39678  \n",
      "S2_09_B9        11 2062.9 246.25 -0.059010 10.3519  1.8618 0.17968  \n",
      "S2_10_B11       12 2128.1 246.12 -0.030697  9.4374  1.3587 0.25019  \n",
      "S2_01_B1        13 2204.6 246.24 -0.026913  8.7117  1.5823 0.21507  \n",
      "S2_11_B12       14 2226.0 244.82  0.026632  7.0682  0.4370 0.51195  \n",
      "S2_06_B6        15 2230.3 242.93  0.052117  5.1398  0.0889 0.76698  \n",
      "S2_35_SIPI      16 2353.6 244.16  0.034571  5.1928  2.5980 0.11369  \n",
      "S2_50_flowdir   17 2487.5 245.48  0.011653  5.4220  2.7302 0.10500  \n",
      "S2_42_SSI       18 2649.4 247.27 -0.016533  6.1189  3.1903 0.08026 .\n",
      "S2_30_MSAVI     19 2800.6 248.60 -0.033576  6.6371  2.8539 0.09738 .\n",
      "S2_05_B5        20 2933.0 249.37 -0.033114  6.8410  2.4100 0.12674  \n",
      "S2_02_B2        21 3090.3 250.50 -0.037361  7.4605  2.7889 0.10093  \n",
      "---\n",
      "Signif. codes:  0 '***' 0.001 '**' 0.01 '*' 0.05 '.' 0.1 ' ' 1\n",
      "[1] \"Directorio existe SHP\"\n"
     ]
    },
    {
     "name": "stderr",
     "output_type": "stream",
     "text": [
      "Warning message in abbreviate_shapefile_names(obj):\n",
      "\"Field names abbreviated for ESRI Shapefile driver\"\n"
     ]
    },
    {
     "name": "stdout",
     "output_type": "stream",
     "text": [
      "Writing layer `SHP_Residuales_Arcilla' to data source \n",
      "  `C:/Users/GEOMATICA/Curso_suelo/02_Prediccion_Suelo_Multiespectral/Datos/Satelite/Sentinel2/Bandas/SHP/SHP_Residuales_Arcilla.shp' using driver `ESRI Shapefile'\n",
      "Writing 60 features with 1 fields and geometry type Point.\n",
      "[1] \"Directorio existe Prediccion\"\n"
     ]
    }
   ],
   "source": [
    "for (i in 1:length(name_suelo)) {\n",
    "    suelo = name_suelo[i]\n",
    "    dato_suelo = datos_Suelo[[suelo]]\n",
    "    # Ingreso df Bandas seleccionadas en esta parte actualizar\n",
    "    df_suelo <- data.frame(dato_suelo, S2_01_B1, S2_02_B2, S2_04_B4, S2_05_B5, S2_06_B6, S2_09_B9, S2_10_B11, \n",
    "                           S2_11_B12, S2_23_VARI, S2_26_CIVE, S2_14_ExR, S2_15_ExB, S2_16_IKAW, S2_19_GBDI, S2_20_MGRVI, \n",
    "                           S2_25_NGBDI, S2_30_MSAVI, S2_35_SIPI, S2_42_SSI, S2_38_CVI, S2_43_SCI, S2_45_MDE, S2_49_TRI, \n",
    "                           S2_47_aspect, S2_48_TPI, S2_50_flowdir,S2_51__ACP_1,S2_52__ACP_2,S2_53__ACP_3)\n",
    "    # Modelo de regresion lineal, el cero es sin intersecto\n",
    "    full.model_pH_0 <- lm(dato_suelo ~  0 +., data=df_suelo)\n",
    "    full.model_pH <- lm(dato_suelo ~  ., data=df_suelo)\n",
    "    # Sumary\n",
    "    sum_modelo_0 = summary(full.model_pH_0)\n",
    "    sum_modelo = summary(full.model_pH)\n",
    "    # R2\n",
    "    R_O = sum_modelo_0$adj.r.squared\n",
    "    R = sum_modelo$adj.r.squared\n",
    "    # Función utilizando condiciones\n",
    "    if (R_O > R) {\n",
    "        full.modelo = full.model_pH_0\n",
    "        lista_R2[i] = R_O\n",
    "        print(paste(\"Se va utilizar el R2 R_O > R: \", round(R_O, 3)))\n",
    "    } else if (R_O == R){\n",
    "        full.modelo = full.model_pH_0 \n",
    "        lista_R2[i] = R_O\n",
    "        print(paste(\"Se va utilizar el R2 R_O == R: \", round(R_O, 3)))\n",
    "    } else {\n",
    "        full.modelo = full.model_pH\n",
    "        lista_R2[i] = R\n",
    "        print(paste(\"Se va utilizar el R2 R_O < R: \", round(R, 3)))\n",
    "    }\n",
    "    # Realizar el modelo\n",
    "    modelo_x = summary(backward(full.modelo, alpha=0.05))\n",
    "    # Seleccion de residual\n",
    "    lista_residuales = modelo_x$residuals\n",
    "    xy_residuales = data.frame(xyz, lista_residuales)\n",
    "    # conversion a shapefile\n",
    "    coordinates(xy_residuales) <- ~ESTE + NORTE\n",
    "    proj4string(xy_residuales) = CRS(\"+init=epsg:32718\")\n",
    "    xy_residuales_sf = st_as_sf(xy_residuales)\n",
    "    carpeta_shp = paste(getwd(),\"/\",\"SHP\",sep = \"\")\n",
    "    if (!dir.exists(carpeta_shp)){\n",
    "        dir.create(carpeta_shp)\n",
    "    }else{\n",
    "        print(\"Directorio existe SHP\")\n",
    "    }\n",
    "    st_write(xy_residuales_sf, paste(carpeta_shp,\"/SHP_Residuales_\",suelo,\".shp\",sep = \"\"))\n",
    "    # Convertir dataframe\n",
    "    DT_modelo = data.frame(modelo_x$coefficients)\n",
    "    carpeta_Prediccion = paste(getwd(),\"/\",\"Prediccion\",sep = \"\")\n",
    "    if (!dir.exists(carpeta_Prediccion)){\n",
    "        dir.create(carpeta_Prediccion)\n",
    "    }else{\n",
    "        print(\"Directorio existe Prediccion\")\n",
    "    }\n",
    "    write.csv(DT_modelo, file=paste(carpeta_Prediccion,\"/Modelo_prediccion_\",suelo,\".csv\",sep = \"\"))    \n",
    "}"
   ]
  },
  {
   "cell_type": "code",
   "execution_count": 62,
   "id": "4ea0d920-bc9f-497f-a17f-b651e25d0a6e",
   "metadata": {
    "tags": []
   },
   "outputs": [
    {
     "data": {
      "text/html": [
       "<style>\n",
       ".list-inline {list-style: none; margin:0; padding: 0}\n",
       ".list-inline>li {display: inline-block}\n",
       ".list-inline>li:not(:last-child)::after {content: \"\\00b7\"; padding: 0 .5ex}\n",
       "</style>\n",
       "<ol class=list-inline><li>0.997022225657654</li><li>0.603074623729271</li><li>0.864266551437305</li><li>0.886944000631757</li><li>0.617531896703225</li><li>0.569505980194194</li><li>0.871919883491381</li><li>0.339607865210771</li><li>0.720508134487922</li><li>0.90649803530859</li><li>0.862727845218999</li><li>0.828476663782793</li><li>0.959510837801688</li><li>0.896421761466159</li><li>0.898898313817413</li></ol>\n"
      ],
      "text/latex": [
       "\\begin{enumerate*}\n",
       "\\item 0.997022225657654\n",
       "\\item 0.603074623729271\n",
       "\\item 0.864266551437305\n",
       "\\item 0.886944000631757\n",
       "\\item 0.617531896703225\n",
       "\\item 0.569505980194194\n",
       "\\item 0.871919883491381\n",
       "\\item 0.339607865210771\n",
       "\\item 0.720508134487922\n",
       "\\item 0.90649803530859\n",
       "\\item 0.862727845218999\n",
       "\\item 0.828476663782793\n",
       "\\item 0.959510837801688\n",
       "\\item 0.896421761466159\n",
       "\\item 0.898898313817413\n",
       "\\end{enumerate*}\n"
      ],
      "text/markdown": [
       "1. 0.997022225657654\n",
       "2. 0.603074623729271\n",
       "3. 0.864266551437305\n",
       "4. 0.886944000631757\n",
       "5. 0.617531896703225\n",
       "6. 0.569505980194194\n",
       "7. 0.871919883491381\n",
       "8. 0.339607865210771\n",
       "9. 0.720508134487922\n",
       "10. 0.90649803530859\n",
       "11. 0.862727845218999\n",
       "12. 0.828476663782793\n",
       "13. 0.959510837801688\n",
       "14. 0.896421761466159\n",
       "15. 0.898898313817413\n",
       "\n",
       "\n"
      ],
      "text/plain": [
       " [1] 0.9970222 0.6030746 0.8642666 0.8869440 0.6175319 0.5695060 0.8719199\n",
       " [8] 0.3396079 0.7205081 0.9064980 0.8627278 0.8284767 0.9595108 0.8964218\n",
       "[15] 0.8988983"
      ]
     },
     "metadata": {},
     "output_type": "display_data"
    }
   ],
   "source": [
    "lista_R2"
   ]
  },
  {
   "cell_type": "code",
   "execution_count": 63,
   "id": "80d0f069-3e4b-4aad-8c65-9f5b9758f72c",
   "metadata": {
    "tags": []
   },
   "outputs": [],
   "source": [
    "# Generar dataframe de R2\n",
    "DF_R2 = data.frame(name_suelo, lista_R2)"
   ]
  },
  {
   "cell_type": "code",
   "execution_count": 64,
   "id": "354bc01b-9f61-4193-8a78-ddf2186da0d3",
   "metadata": {
    "tags": []
   },
   "outputs": [],
   "source": [
    "names(DF_R2) = c(\"Variable suelo\", \"R2 Ajustado\")"
   ]
  },
  {
   "cell_type": "markdown",
   "id": "b1298deb-c2f7-4fd4-9da0-22f271cd5e96",
   "metadata": {},
   "source": [
    "## Crear carpeta prediccion y shapefile"
   ]
  },
  {
   "cell_type": "code",
   "execution_count": 65,
   "id": "5a64c7ea-c52b-42b3-89ca-46edbf3d7388",
   "metadata": {
    "tags": []
   },
   "outputs": [
    {
     "name": "stdout",
     "output_type": "stream",
     "text": [
      "[1] \"Directorio existe PREDICCION\"\n"
     ]
    }
   ],
   "source": [
    "carpeta_Prediccion = paste(getwd(),\"/\",\"Prediccion\",sep = \"\")\n",
    "    if (!dir.exists(carpeta_Prediccion)){\n",
    "        dir.create(carpeta_Prediccion)\n",
    "    }else{\n",
    "        print(\"Directorio existe PREDICCION\")\n",
    "    }"
   ]
  },
  {
   "cell_type": "code",
   "execution_count": 66,
   "id": "6b29bb78-c63f-40e0-a3b8-283de51ea422",
   "metadata": {
    "tags": []
   },
   "outputs": [
    {
     "name": "stdout",
     "output_type": "stream",
     "text": [
      "[1] \"Directorio existe SHP\"\n"
     ]
    }
   ],
   "source": [
    "carpeta_SHP = paste(getwd(),\"/\",\"SHP\",sep = \"\")\n",
    "    if (!dir.exists(carpeta_SHP)){\n",
    "        dir.create(carpeta_SHP)\n",
    "    }else{\n",
    "        print(\"Directorio existe SHP\")\n",
    "    }"
   ]
  },
  {
   "cell_type": "code",
   "execution_count": 67,
   "id": "8d18c906-f21f-419e-970a-1319222d4bce",
   "metadata": {
    "tags": []
   },
   "outputs": [],
   "source": [
    "write.csv(DF_R2, paste(carpeta_Prediccion,\"/Tabla_R2_Ajustado.csv\",sep = \"\"))"
   ]
  },
  {
   "cell_type": "code",
   "execution_count": 68,
   "id": "081dd60b-a548-4e3b-8f0a-4219bc5934de",
   "metadata": {
    "tags": []
   },
   "outputs": [
    {
     "data": {
      "text/html": [
       "<style>\n",
       ".list-inline {list-style: none; margin:0; padding: 0}\n",
       ".list-inline>li {display: inline-block}\n",
       ".list-inline>li:not(:last-child)::after {content: \"\\00b7\"; padding: 0 .5ex}\n",
       "</style>\n",
       "<ol class=list-inline><li>'S2_04_B4()'</li><li>'S2_26_CIVE'</li><li>'S2_14_ExR'</li><li>'S2_15_ExB'</li><li>'S2_51__ACP_1'</li><li>'S2_52__ACP_2'</li><li>'S2_53__ACP_3'</li></ol>\n"
      ],
      "text/latex": [
       "\\begin{enumerate*}\n",
       "\\item 'S2\\_04\\_B4()'\n",
       "\\item 'S2\\_26\\_CIVE'\n",
       "\\item 'S2\\_14\\_ExR'\n",
       "\\item 'S2\\_15\\_ExB'\n",
       "\\item 'S2\\_51\\_\\_ACP\\_1'\n",
       "\\item 'S2\\_52\\_\\_ACP\\_2'\n",
       "\\item 'S2\\_53\\_\\_ACP\\_3'\n",
       "\\end{enumerate*}\n"
      ],
      "text/markdown": [
       "1. 'S2_04_B4()'\n",
       "2. 'S2_26_CIVE'\n",
       "3. 'S2_14_ExR'\n",
       "4. 'S2_15_ExB'\n",
       "5. 'S2_51__ACP_1'\n",
       "6. 'S2_52__ACP_2'\n",
       "7. 'S2_53__ACP_3'\n",
       "\n",
       "\n"
      ],
      "text/plain": [
       "[1] \"S2_04_B4()\"   \"S2_26_CIVE\"   \"S2_14_ExR\"    \"S2_15_ExB\"    \"S2_51__ACP_1\"\n",
       "[6] \"S2_52__ACP_2\" \"S2_53__ACP_3\""
      ]
     },
     "metadata": {},
     "output_type": "display_data"
    }
   ],
   "source": [
    "lista_variables = row.names(DT_modelo)\n",
    "lista_variables"
   ]
  },
  {
   "cell_type": "code",
   "execution_count": 69,
   "id": "e6070a32-1304-4dc6-8110-97e40ee1233c",
   "metadata": {
    "tags": []
   },
   "outputs": [],
   "source": [
    "library(MPV)\n",
    "library(mixlm)"
   ]
  },
  {
   "cell_type": "code",
   "execution_count": 72,
   "id": "ac6ce505-211a-4d4c-9dbc-2e7e4a59d608",
   "metadata": {
    "tags": []
   },
   "outputs": [
    {
     "data": {
      "text/html": [
       "<style>\n",
       ".list-inline {list-style: none; margin:0; padding: 0}\n",
       ".list-inline>li {display: inline-block}\n",
       ".list-inline>li:not(:last-child)::after {content: \"\\00b7\"; padding: 0 .5ex}\n",
       "</style>\n",
       "<ol class=list-inline><li>'pH'</li><li>'CE'</li><li>'MO'</li><li>'N'</li><li>'P'</li><li>'K'</li><li>'Ca'</li><li>'Mg'</li><li>'Al'</li><li>'CICe'</li><li>'BT'</li><li>'SAl'</li><li>'Arena'</li><li>'Limo'</li><li>'Arcilla'</li></ol>\n"
      ],
      "text/latex": [
       "\\begin{enumerate*}\n",
       "\\item 'pH'\n",
       "\\item 'CE'\n",
       "\\item 'MO'\n",
       "\\item 'N'\n",
       "\\item 'P'\n",
       "\\item 'K'\n",
       "\\item 'Ca'\n",
       "\\item 'Mg'\n",
       "\\item 'Al'\n",
       "\\item 'CICe'\n",
       "\\item 'BT'\n",
       "\\item 'SAl'\n",
       "\\item 'Arena'\n",
       "\\item 'Limo'\n",
       "\\item 'Arcilla'\n",
       "\\end{enumerate*}\n"
      ],
      "text/markdown": [
       "1. 'pH'\n",
       "2. 'CE'\n",
       "3. 'MO'\n",
       "4. 'N'\n",
       "5. 'P'\n",
       "6. 'K'\n",
       "7. 'Ca'\n",
       "8. 'Mg'\n",
       "9. 'Al'\n",
       "10. 'CICe'\n",
       "11. 'BT'\n",
       "12. 'SAl'\n",
       "13. 'Arena'\n",
       "14. 'Limo'\n",
       "15. 'Arcilla'\n",
       "\n",
       "\n"
      ],
      "text/plain": [
       " [1] \"pH\"      \"CE\"      \"MO\"      \"N\"       \"P\"       \"K\"       \"Ca\"     \n",
       " [8] \"Mg\"      \"Al\"      \"CICe\"    \"BT\"      \"SAl\"     \"Arena\"   \"Limo\"   \n",
       "[15] \"Arcilla\""
      ]
     },
     "metadata": {},
     "output_type": "display_data"
    }
   ],
   "source": [
    "name_suelo"
   ]
  },
  {
   "cell_type": "markdown",
   "id": "bf157574-7279-4776-9233-5fbb7c71920c",
   "metadata": {},
   "source": [
    "## Cambiar dato"
   ]
  },
  {
   "cell_type": "code",
   "execution_count": 73,
   "id": "3103ead0-5586-4722-8a2f-cce1115600e4",
   "metadata": {
    "tags": []
   },
   "outputs": [
    {
     "data": {
      "text/html": [
       "'pH'"
      ],
      "text/latex": [
       "'pH'"
      ],
      "text/markdown": [
       "'pH'"
      ],
      "text/plain": [
       "[1] \"pH\""
      ]
     },
     "metadata": {},
     "output_type": "display_data"
    }
   ],
   "source": [
    "x_suelo = name_suelo[1]\n",
    "x_suelo"
   ]
  },
  {
   "cell_type": "code",
   "execution_count": 74,
   "id": "ce147bb3-305e-454a-81e9-9a9f55c1ffc9",
   "metadata": {
    "tags": []
   },
   "outputs": [
    {
     "data": {
      "text/html": [
       "'Modelo_prediccion_pH.csv'"
      ],
      "text/latex": [
       "'Modelo\\_prediccion\\_pH.csv'"
      ],
      "text/markdown": [
       "'Modelo_prediccion_pH.csv'"
      ],
      "text/plain": [
       "[1] \"Modelo_prediccion_pH.csv\""
      ]
     },
     "metadata": {},
     "output_type": "display_data"
    }
   ],
   "source": [
    "lista_datos <- list.files(path = carpeta_Prediccion, pattern = paste(\"*Modelo_prediccion_*\",x_suelo,\"*.csv$\",sep = \"\"))\n",
    "lista_datos"
   ]
  },
  {
   "cell_type": "code",
   "execution_count": 75,
   "id": "40218a12-db7a-4841-a095-c60f91bc8b16",
   "metadata": {
    "tags": []
   },
   "outputs": [
    {
     "data": {
      "text/html": [
       "'C:/Users/GEOMATICA/Curso_suelo/02_Prediccion_Suelo_Multiespectral/Datos/Satelite/Sentinel2/Bandas/Prediccion/Modelo_prediccion_pH.csv'"
      ],
      "text/latex": [
       "'C:/Users/GEOMATICA/Curso\\_suelo/02\\_Prediccion\\_Suelo\\_Multiespectral/Datos/Satelite/Sentinel2/Bandas/Prediccion/Modelo\\_prediccion\\_pH.csv'"
      ],
      "text/markdown": [
       "'C:/Users/GEOMATICA/Curso_suelo/02_Prediccion_Suelo_Multiespectral/Datos/Satelite/Sentinel2/Bandas/Prediccion/Modelo_prediccion_pH.csv'"
      ],
      "text/plain": [
       "[1] \"C:/Users/GEOMATICA/Curso_suelo/02_Prediccion_Suelo_Multiespectral/Datos/Satelite/Sentinel2/Bandas/Prediccion/Modelo_prediccion_pH.csv\""
      ]
     },
     "metadata": {},
     "output_type": "display_data"
    }
   ],
   "source": [
    "paste(carpeta_Prediccion,\"/\", lista_datos[1],sep = \"\")"
   ]
  },
  {
   "cell_type": "code",
   "execution_count": 76,
   "id": "6af08581-a56e-44ab-a35b-e74892e95318",
   "metadata": {
    "tags": []
   },
   "outputs": [
    {
     "data": {
      "text/html": [
       "<table class=\"dataframe\">\n",
       "<caption>A data.frame: 15 × 5</caption>\n",
       "<thead>\n",
       "\t<tr><th scope=col>X</th><th scope=col>Estimate</th><th scope=col>Std..Error</th><th scope=col>t.value</th><th scope=col>Pr...t..</th></tr>\n",
       "\t<tr><th scope=col>&lt;chr&gt;</th><th scope=col>&lt;dbl&gt;</th><th scope=col>&lt;dbl&gt;</th><th scope=col>&lt;dbl&gt;</th><th scope=col>&lt;dbl&gt;</th></tr>\n",
       "</thead>\n",
       "<tbody>\n",
       "\t<tr><td>S2_01_B1()  </td><td> 8.061165e+01</td><td>2.400649e+01</td><td> 3.357911</td><td>1.606035e-03</td></tr>\n",
       "\t<tr><td>S2_02_B2    </td><td> 6.395323e+07</td><td>1.741351e+07</td><td> 3.672623</td><td>6.352295e-04</td></tr>\n",
       "\t<tr><td>S2_04_B4    </td><td>-6.395268e+07</td><td>1.741350e+07</td><td>-3.672592</td><td>6.352873e-04</td></tr>\n",
       "\t<tr><td>S2_05_B5    </td><td> 2.350913e+02</td><td>6.138901e+01</td><td> 3.829534</td><td>3.947144e-04</td></tr>\n",
       "\t<tr><td>S2_06_B6    </td><td> 3.756518e+01</td><td>8.985874e+00</td><td> 4.180471</td><td>1.324233e-04</td></tr>\n",
       "\t<tr><td>S2_10_B11   </td><td> 4.445986e+02</td><td>1.239641e+02</td><td> 3.586510</td><td>8.217844e-04</td></tr>\n",
       "\t<tr><td>S2_11_B12   </td><td> 4.663607e+02</td><td>1.259937e+02</td><td> 3.701460</td><td>5.824058e-04</td></tr>\n",
       "\t<tr><td>S2_26_CIVE  </td><td>-1.538252e+01</td><td>4.141078e+00</td><td>-3.714618</td><td>5.597331e-04</td></tr>\n",
       "\t<tr><td>S2_14_ExR   </td><td> 4.568066e+07</td><td>1.243822e+07</td><td> 3.672606</td><td>6.352617e-04</td></tr>\n",
       "\t<tr><td>S2_15_ExB   </td><td>-4.568079e+07</td><td>1.243822e+07</td><td>-3.672615</td><td>6.352438e-04</td></tr>\n",
       "\t<tr><td>S2_16_IKAW  </td><td> 3.401823e+00</td><td>9.930171e-01</td><td> 3.425744</td><td>1.319256e-03</td></tr>\n",
       "\t<tr><td>S2_45_MDE   </td><td> 3.377727e-02</td><td>6.340333e-03</td><td> 5.327366</td><td>3.070782e-06</td></tr>\n",
       "\t<tr><td>S2_48_TPI   </td><td>-5.872366e-01</td><td>2.015027e-01</td><td>-2.914286</td><td>5.536442e-03</td></tr>\n",
       "\t<tr><td>S2_51__ACP_1</td><td>-5.057964e+02</td><td>1.386100e+02</td><td>-3.649061</td><td>6.817775e-04</td></tr>\n",
       "\t<tr><td>S2_52__ACP_2</td><td>-5.676132e+02</td><td>1.540427e+02</td><td>-3.684778</td><td>6.124254e-04</td></tr>\n",
       "</tbody>\n",
       "</table>\n"
      ],
      "text/latex": [
       "A data.frame: 15 × 5\n",
       "\\begin{tabular}{lllll}\n",
       " X & Estimate & Std..Error & t.value & Pr...t..\\\\\n",
       " <chr> & <dbl> & <dbl> & <dbl> & <dbl>\\\\\n",
       "\\hline\n",
       "\t S2\\_01\\_B1()   &  8.061165e+01 & 2.400649e+01 &  3.357911 & 1.606035e-03\\\\\n",
       "\t S2\\_02\\_B2     &  6.395323e+07 & 1.741351e+07 &  3.672623 & 6.352295e-04\\\\\n",
       "\t S2\\_04\\_B4     & -6.395268e+07 & 1.741350e+07 & -3.672592 & 6.352873e-04\\\\\n",
       "\t S2\\_05\\_B5     &  2.350913e+02 & 6.138901e+01 &  3.829534 & 3.947144e-04\\\\\n",
       "\t S2\\_06\\_B6     &  3.756518e+01 & 8.985874e+00 &  4.180471 & 1.324233e-04\\\\\n",
       "\t S2\\_10\\_B11    &  4.445986e+02 & 1.239641e+02 &  3.586510 & 8.217844e-04\\\\\n",
       "\t S2\\_11\\_B12    &  4.663607e+02 & 1.259937e+02 &  3.701460 & 5.824058e-04\\\\\n",
       "\t S2\\_26\\_CIVE   & -1.538252e+01 & 4.141078e+00 & -3.714618 & 5.597331e-04\\\\\n",
       "\t S2\\_14\\_ExR    &  4.568066e+07 & 1.243822e+07 &  3.672606 & 6.352617e-04\\\\\n",
       "\t S2\\_15\\_ExB    & -4.568079e+07 & 1.243822e+07 & -3.672615 & 6.352438e-04\\\\\n",
       "\t S2\\_16\\_IKAW   &  3.401823e+00 & 9.930171e-01 &  3.425744 & 1.319256e-03\\\\\n",
       "\t S2\\_45\\_MDE    &  3.377727e-02 & 6.340333e-03 &  5.327366 & 3.070782e-06\\\\\n",
       "\t S2\\_48\\_TPI    & -5.872366e-01 & 2.015027e-01 & -2.914286 & 5.536442e-03\\\\\n",
       "\t S2\\_51\\_\\_ACP\\_1 & -5.057964e+02 & 1.386100e+02 & -3.649061 & 6.817775e-04\\\\\n",
       "\t S2\\_52\\_\\_ACP\\_2 & -5.676132e+02 & 1.540427e+02 & -3.684778 & 6.124254e-04\\\\\n",
       "\\end{tabular}\n"
      ],
      "text/markdown": [
       "\n",
       "A data.frame: 15 × 5\n",
       "\n",
       "| X &lt;chr&gt; | Estimate &lt;dbl&gt; | Std..Error &lt;dbl&gt; | t.value &lt;dbl&gt; | Pr...t.. &lt;dbl&gt; |\n",
       "|---|---|---|---|---|\n",
       "| S2_01_B1()   |  8.061165e+01 | 2.400649e+01 |  3.357911 | 1.606035e-03 |\n",
       "| S2_02_B2     |  6.395323e+07 | 1.741351e+07 |  3.672623 | 6.352295e-04 |\n",
       "| S2_04_B4     | -6.395268e+07 | 1.741350e+07 | -3.672592 | 6.352873e-04 |\n",
       "| S2_05_B5     |  2.350913e+02 | 6.138901e+01 |  3.829534 | 3.947144e-04 |\n",
       "| S2_06_B6     |  3.756518e+01 | 8.985874e+00 |  4.180471 | 1.324233e-04 |\n",
       "| S2_10_B11    |  4.445986e+02 | 1.239641e+02 |  3.586510 | 8.217844e-04 |\n",
       "| S2_11_B12    |  4.663607e+02 | 1.259937e+02 |  3.701460 | 5.824058e-04 |\n",
       "| S2_26_CIVE   | -1.538252e+01 | 4.141078e+00 | -3.714618 | 5.597331e-04 |\n",
       "| S2_14_ExR    |  4.568066e+07 | 1.243822e+07 |  3.672606 | 6.352617e-04 |\n",
       "| S2_15_ExB    | -4.568079e+07 | 1.243822e+07 | -3.672615 | 6.352438e-04 |\n",
       "| S2_16_IKAW   |  3.401823e+00 | 9.930171e-01 |  3.425744 | 1.319256e-03 |\n",
       "| S2_45_MDE    |  3.377727e-02 | 6.340333e-03 |  5.327366 | 3.070782e-06 |\n",
       "| S2_48_TPI    | -5.872366e-01 | 2.015027e-01 | -2.914286 | 5.536442e-03 |\n",
       "| S2_51__ACP_1 | -5.057964e+02 | 1.386100e+02 | -3.649061 | 6.817775e-04 |\n",
       "| S2_52__ACP_2 | -5.676132e+02 | 1.540427e+02 | -3.684778 | 6.124254e-04 |\n",
       "\n"
      ],
      "text/plain": [
       "   X            Estimate      Std..Error   t.value   Pr...t..    \n",
       "1  S2_01_B1()    8.061165e+01 2.400649e+01  3.357911 1.606035e-03\n",
       "2  S2_02_B2      6.395323e+07 1.741351e+07  3.672623 6.352295e-04\n",
       "3  S2_04_B4     -6.395268e+07 1.741350e+07 -3.672592 6.352873e-04\n",
       "4  S2_05_B5      2.350913e+02 6.138901e+01  3.829534 3.947144e-04\n",
       "5  S2_06_B6      3.756518e+01 8.985874e+00  4.180471 1.324233e-04\n",
       "6  S2_10_B11     4.445986e+02 1.239641e+02  3.586510 8.217844e-04\n",
       "7  S2_11_B12     4.663607e+02 1.259937e+02  3.701460 5.824058e-04\n",
       "8  S2_26_CIVE   -1.538252e+01 4.141078e+00 -3.714618 5.597331e-04\n",
       "9  S2_14_ExR     4.568066e+07 1.243822e+07  3.672606 6.352617e-04\n",
       "10 S2_15_ExB    -4.568079e+07 1.243822e+07 -3.672615 6.352438e-04\n",
       "11 S2_16_IKAW    3.401823e+00 9.930171e-01  3.425744 1.319256e-03\n",
       "12 S2_45_MDE     3.377727e-02 6.340333e-03  5.327366 3.070782e-06\n",
       "13 S2_48_TPI    -5.872366e-01 2.015027e-01 -2.914286 5.536442e-03\n",
       "14 S2_51__ACP_1 -5.057964e+02 1.386100e+02 -3.649061 6.817775e-04\n",
       "15 S2_52__ACP_2 -5.676132e+02 1.540427e+02 -3.684778 6.124254e-04"
      ]
     },
     "metadata": {},
     "output_type": "display_data"
    }
   ],
   "source": [
    "datos_csv <- read.delim(paste(carpeta_Prediccion,\"/\", lista_datos[1],sep = \"\"),sep = \",\")\n",
    "datos_csv"
   ]
  },
  {
   "cell_type": "code",
   "execution_count": 77,
   "id": "719990a5-75ef-4d1b-814a-b5330199574a",
   "metadata": {
    "tags": []
   },
   "outputs": [
    {
     "data": {
      "text/html": [
       "<style>\n",
       ".list-inline {list-style: none; margin:0; padding: 0}\n",
       ".list-inline>li {display: inline-block}\n",
       ".list-inline>li:not(:last-child)::after {content: \"\\00b7\"; padding: 0 .5ex}\n",
       "</style>\n",
       "<ol class=list-inline><li>'S2_01_B1()'</li><li>'S2_02_B2'</li><li>'S2_04_B4'</li><li>'S2_05_B5'</li><li>'S2_06_B6'</li><li>'S2_10_B11'</li><li>'S2_11_B12'</li><li>'S2_26_CIVE'</li><li>'S2_14_ExR'</li><li>'S2_15_ExB'</li><li>'S2_16_IKAW'</li><li>'S2_45_MDE'</li><li>'S2_48_TPI'</li><li>'S2_51__ACP_1'</li><li>'S2_52__ACP_2'</li></ol>\n"
      ],
      "text/latex": [
       "\\begin{enumerate*}\n",
       "\\item 'S2\\_01\\_B1()'\n",
       "\\item 'S2\\_02\\_B2'\n",
       "\\item 'S2\\_04\\_B4'\n",
       "\\item 'S2\\_05\\_B5'\n",
       "\\item 'S2\\_06\\_B6'\n",
       "\\item 'S2\\_10\\_B11'\n",
       "\\item 'S2\\_11\\_B12'\n",
       "\\item 'S2\\_26\\_CIVE'\n",
       "\\item 'S2\\_14\\_ExR'\n",
       "\\item 'S2\\_15\\_ExB'\n",
       "\\item 'S2\\_16\\_IKAW'\n",
       "\\item 'S2\\_45\\_MDE'\n",
       "\\item 'S2\\_48\\_TPI'\n",
       "\\item 'S2\\_51\\_\\_ACP\\_1'\n",
       "\\item 'S2\\_52\\_\\_ACP\\_2'\n",
       "\\end{enumerate*}\n"
      ],
      "text/markdown": [
       "1. 'S2_01_B1()'\n",
       "2. 'S2_02_B2'\n",
       "3. 'S2_04_B4'\n",
       "4. 'S2_05_B5'\n",
       "5. 'S2_06_B6'\n",
       "6. 'S2_10_B11'\n",
       "7. 'S2_11_B12'\n",
       "8. 'S2_26_CIVE'\n",
       "9. 'S2_14_ExR'\n",
       "10. 'S2_15_ExB'\n",
       "11. 'S2_16_IKAW'\n",
       "12. 'S2_45_MDE'\n",
       "13. 'S2_48_TPI'\n",
       "14. 'S2_51__ACP_1'\n",
       "15. 'S2_52__ACP_2'\n",
       "\n",
       "\n"
      ],
      "text/plain": [
       " [1] \"S2_01_B1()\"   \"S2_02_B2\"     \"S2_04_B4\"     \"S2_05_B5\"     \"S2_06_B6\"    \n",
       " [6] \"S2_10_B11\"    \"S2_11_B12\"    \"S2_26_CIVE\"   \"S2_14_ExR\"    \"S2_15_ExB\"   \n",
       "[11] \"S2_16_IKAW\"   \"S2_45_MDE\"    \"S2_48_TPI\"    \"S2_51__ACP_1\" \"S2_52__ACP_2\""
      ]
     },
     "metadata": {},
     "output_type": "display_data"
    }
   ],
   "source": [
    "datos_csv[,1]"
   ]
  },
  {
   "cell_type": "code",
   "execution_count": 78,
   "id": "ca3bf548-c5fb-4c2f-bd1e-afc8b4092f8e",
   "metadata": {
    "tags": []
   },
   "outputs": [
    {
     "data": {
      "text/html": [
       "'S2_01_B1'"
      ],
      "text/latex": [
       "'S2\\_01\\_B1'"
      ],
      "text/markdown": [
       "'S2_01_B1'"
      ],
      "text/plain": [
       "[1] \"S2_01_B1\""
      ]
     },
     "metadata": {},
     "output_type": "display_data"
    }
   ],
   "source": [
    "substring(datos_csv[,1][1], first = 1, last = nchar(datos_csv[,1][1])-2)"
   ]
  },
  {
   "cell_type": "code",
   "execution_count": 79,
   "id": "43a14424-343a-4d1a-b9e2-85c5cbb38ec5",
   "metadata": {
    "tags": []
   },
   "outputs": [],
   "source": [
    "# Cambiar el nombre primer elemento\n",
    "datos_csv[,1][1] = substring(datos_csv[,1][1], first = 1, last =nchar(datos_csv[,1][1])-2)"
   ]
  },
  {
   "cell_type": "code",
   "execution_count": 80,
   "id": "2abd5a23-6a4a-4e44-9413-fc7496498baa",
   "metadata": {
    "tags": []
   },
   "outputs": [],
   "source": [
    "Variables = datos_csv[,1]"
   ]
  },
  {
   "cell_type": "code",
   "execution_count": 81,
   "id": "081ffebc-bfe6-4d71-af6c-972b705b70d1",
   "metadata": {
    "tags": []
   },
   "outputs": [
    {
     "data": {
      "text/html": [
       "15"
      ],
      "text/latex": [
       "15"
      ],
      "text/markdown": [
       "15"
      ],
      "text/plain": [
       "[1] 15"
      ]
     },
     "metadata": {},
     "output_type": "display_data"
    }
   ],
   "source": [
    "length(Variables)"
   ]
  },
  {
   "cell_type": "code",
   "execution_count": 82,
   "id": "4f9b5706-2555-4258-9f35-73ec5ee96486",
   "metadata": {
    "tags": []
   },
   "outputs": [
    {
     "data": {
      "text/html": [
       "<style>\n",
       ".list-inline {list-style: none; margin:0; padding: 0}\n",
       ".list-inline>li {display: inline-block}\n",
       ".list-inline>li:not(:last-child)::after {content: \"\\00b7\"; padding: 0 .5ex}\n",
       "</style>\n",
       "<ol class=list-inline><li>'S2_01_B1'</li><li>'S2_02_B2'</li><li>'S2_04_B4'</li><li>'S2_05_B5'</li><li>'S2_06_B6'</li><li>'S2_10_B11'</li><li>'S2_11_B12'</li><li>'S2_26_CIVE'</li><li>'S2_14_ExR'</li><li>'S2_15_ExB'</li><li>'S2_16_IKAW'</li><li>'S2_45_MDE'</li><li>'S2_48_TPI'</li><li>'S2_51__ACP_1'</li><li>'S2_52__ACP_2'</li></ol>\n"
      ],
      "text/latex": [
       "\\begin{enumerate*}\n",
       "\\item 'S2\\_01\\_B1'\n",
       "\\item 'S2\\_02\\_B2'\n",
       "\\item 'S2\\_04\\_B4'\n",
       "\\item 'S2\\_05\\_B5'\n",
       "\\item 'S2\\_06\\_B6'\n",
       "\\item 'S2\\_10\\_B11'\n",
       "\\item 'S2\\_11\\_B12'\n",
       "\\item 'S2\\_26\\_CIVE'\n",
       "\\item 'S2\\_14\\_ExR'\n",
       "\\item 'S2\\_15\\_ExB'\n",
       "\\item 'S2\\_16\\_IKAW'\n",
       "\\item 'S2\\_45\\_MDE'\n",
       "\\item 'S2\\_48\\_TPI'\n",
       "\\item 'S2\\_51\\_\\_ACP\\_1'\n",
       "\\item 'S2\\_52\\_\\_ACP\\_2'\n",
       "\\end{enumerate*}\n"
      ],
      "text/markdown": [
       "1. 'S2_01_B1'\n",
       "2. 'S2_02_B2'\n",
       "3. 'S2_04_B4'\n",
       "4. 'S2_05_B5'\n",
       "5. 'S2_06_B6'\n",
       "6. 'S2_10_B11'\n",
       "7. 'S2_11_B12'\n",
       "8. 'S2_26_CIVE'\n",
       "9. 'S2_14_ExR'\n",
       "10. 'S2_15_ExB'\n",
       "11. 'S2_16_IKAW'\n",
       "12. 'S2_45_MDE'\n",
       "13. 'S2_48_TPI'\n",
       "14. 'S2_51__ACP_1'\n",
       "15. 'S2_52__ACP_2'\n",
       "\n",
       "\n"
      ],
      "text/plain": [
       " [1] \"S2_01_B1\"     \"S2_02_B2\"     \"S2_04_B4\"     \"S2_05_B5\"     \"S2_06_B6\"    \n",
       " [6] \"S2_10_B11\"    \"S2_11_B12\"    \"S2_26_CIVE\"   \"S2_14_ExR\"    \"S2_15_ExB\"   \n",
       "[11] \"S2_16_IKAW\"   \"S2_45_MDE\"    \"S2_48_TPI\"    \"S2_51__ACP_1\" \"S2_52__ACP_2\""
      ]
     },
     "metadata": {},
     "output_type": "display_data"
    }
   ],
   "source": [
    "Variables"
   ]
  },
  {
   "cell_type": "code",
   "execution_count": 83,
   "id": "19b4b70c-bae7-4c4f-beb3-8efaa2405ae5",
   "metadata": {
    "tags": []
   },
   "outputs": [
    {
     "data": {
      "text/html": [
       "'S2_01_B1'"
      ],
      "text/latex": [
       "'S2\\_01\\_B1'"
      ],
      "text/markdown": [
       "'S2_01_B1'"
      ],
      "text/plain": [
       "[1] \"S2_01_B1\""
      ]
     },
     "metadata": {},
     "output_type": "display_data"
    }
   ],
   "source": [
    "Variables[1]"
   ]
  },
  {
   "cell_type": "code",
   "execution_count": 84,
   "id": "519fcaab-bf64-47ec-8c45-9fe7e765dd8a",
   "metadata": {
    "tags": []
   },
   "outputs": [],
   "source": [
    "lista_bandas = c()"
   ]
  },
  {
   "cell_type": "code",
   "execution_count": 85,
   "id": "5f6f629d-24f8-4748-a1ec-0462c1482016",
   "metadata": {
    "tags": []
   },
   "outputs": [
    {
     "data": {
      "text/html": [
       "'C:/Users/GEOMATICA/Curso_suelo/02_Prediccion_Suelo_Multiespectral/Datos/Satelite/Sentinel2/Bandas'"
      ],
      "text/latex": [
       "'C:/Users/GEOMATICA/Curso\\_suelo/02\\_Prediccion\\_Suelo\\_Multiespectral/Datos/Satelite/Sentinel2/Bandas'"
      ],
      "text/markdown": [
       "'C:/Users/GEOMATICA/Curso_suelo/02_Prediccion_Suelo_Multiespectral/Datos/Satelite/Sentinel2/Bandas'"
      ],
      "text/plain": [
       "[1] \"C:/Users/GEOMATICA/Curso_suelo/02_Prediccion_Suelo_Multiespectral/Datos/Satelite/Sentinel2/Bandas\""
      ]
     },
     "metadata": {},
     "output_type": "display_data"
    }
   ],
   "source": [
    "getwd()"
   ]
  },
  {
   "cell_type": "code",
   "execution_count": 86,
   "id": "f7fa3de7-42e1-41cf-b589-c26cfbf35495",
   "metadata": {
    "tags": []
   },
   "outputs": [
    {
     "data": {
      "text/html": [
       "'C:/Users/GEOMATICA/Curso_suelo/02_Prediccion_Suelo_Multiespectral/Datos/Satelite/Sentinel2/Bandas /Banda_select/'"
      ],
      "text/latex": [
       "'C:/Users/GEOMATICA/Curso\\_suelo/02\\_Prediccion\\_Suelo\\_Multiespectral/Datos/Satelite/Sentinel2/Bandas /Banda\\_select/'"
      ],
      "text/markdown": [
       "'C:/Users/GEOMATICA/Curso_suelo/02_Prediccion_Suelo_Multiespectral/Datos/Satelite/Sentinel2/Bandas /Banda_select/'"
      ],
      "text/plain": [
       "[1] \"C:/Users/GEOMATICA/Curso_suelo/02_Prediccion_Suelo_Multiespectral/Datos/Satelite/Sentinel2/Bandas /Banda_select/\""
      ]
     },
     "metadata": {},
     "output_type": "display_data"
    }
   ],
   "source": [
    "Carpeta_select <- paste(path = getwd(), \"/Banda_select/\")\n",
    "Carpeta_select"
   ]
  },
  {
   "cell_type": "code",
   "execution_count": 56,
   "id": "c5baa6c0-b0fe-4aa3-a465-ccb744979ab1",
   "metadata": {
    "tags": []
   },
   "outputs": [
    {
     "data": {
      "text/html": [
       "'S2_01_B1'"
      ],
      "text/latex": [
       "'S2\\_01\\_B1'"
      ],
      "text/markdown": [
       "'S2_01_B1'"
      ],
      "text/plain": [
       "[1] \"S2_01_B1\""
      ]
     },
     "metadata": {},
     "output_type": "display_data"
    }
   ],
   "source": [
    "Variables[1]"
   ]
  },
  {
   "cell_type": "code",
   "execution_count": 57,
   "id": "fb8944d3-20b6-416b-bfe9-3fd2e5ba8dcb",
   "metadata": {
    "tags": []
   },
   "outputs": [
    {
     "data": {
      "text/html": [
       "'S2_S2_01_B1.tif'"
      ],
      "text/latex": [
       "'S2\\_S2\\_01\\_B1.tif'"
      ],
      "text/markdown": [
       "'S2_S2_01_B1.tif'"
      ],
      "text/plain": [
       "[1] \"S2_S2_01_B1.tif\""
      ]
     },
     "metadata": {},
     "output_type": "display_data"
    }
   ],
   "source": [
    "pattern = paste(\"S2_\",Variables[1],\".tif\",sep = \"\")\n",
    "pattern"
   ]
  },
  {
   "cell_type": "code",
   "execution_count": 59,
   "id": "80d04528-cbb9-40f3-9f7b-2773189888ea",
   "metadata": {
    "tags": []
   },
   "outputs": [
    {
     "data": {
      "text/html": [
       "<style>\n",
       ".list-inline {list-style: none; margin:0; padding: 0}\n",
       ".list-inline>li {display: inline-block}\n",
       ".list-inline>li:not(:last-child)::after {content: \"\\00b7\"; padding: 0 .5ex}\n",
       "</style>\n",
       "<ol class=list-inline><li>'S2_01_B1'</li><li>'S2_02_B2'</li><li>'S2_04_B4'</li><li>'S2_05_B5'</li><li>'S2_06_B6'</li><li>'S2_10_B11'</li><li>'S2_11_B12'</li><li>'S2_26_CIVE'</li><li>'S2_14_ExR'</li><li>'S2_15_ExB'</li><li>'S2_16_IKAW'</li><li>'S2_45_MDE'</li><li>'S2_48_TPI'</li><li>'S2_51__ACP_1'</li><li>'S2_52__ACP_2'</li></ol>\n"
      ],
      "text/latex": [
       "\\begin{enumerate*}\n",
       "\\item 'S2\\_01\\_B1'\n",
       "\\item 'S2\\_02\\_B2'\n",
       "\\item 'S2\\_04\\_B4'\n",
       "\\item 'S2\\_05\\_B5'\n",
       "\\item 'S2\\_06\\_B6'\n",
       "\\item 'S2\\_10\\_B11'\n",
       "\\item 'S2\\_11\\_B12'\n",
       "\\item 'S2\\_26\\_CIVE'\n",
       "\\item 'S2\\_14\\_ExR'\n",
       "\\item 'S2\\_15\\_ExB'\n",
       "\\item 'S2\\_16\\_IKAW'\n",
       "\\item 'S2\\_45\\_MDE'\n",
       "\\item 'S2\\_48\\_TPI'\n",
       "\\item 'S2\\_51\\_\\_ACP\\_1'\n",
       "\\item 'S2\\_52\\_\\_ACP\\_2'\n",
       "\\end{enumerate*}\n"
      ],
      "text/markdown": [
       "1. 'S2_01_B1'\n",
       "2. 'S2_02_B2'\n",
       "3. 'S2_04_B4'\n",
       "4. 'S2_05_B5'\n",
       "5. 'S2_06_B6'\n",
       "6. 'S2_10_B11'\n",
       "7. 'S2_11_B12'\n",
       "8. 'S2_26_CIVE'\n",
       "9. 'S2_14_ExR'\n",
       "10. 'S2_15_ExB'\n",
       "11. 'S2_16_IKAW'\n",
       "12. 'S2_45_MDE'\n",
       "13. 'S2_48_TPI'\n",
       "14. 'S2_51__ACP_1'\n",
       "15. 'S2_52__ACP_2'\n",
       "\n",
       "\n"
      ],
      "text/plain": [
       " [1] \"S2_01_B1\"     \"S2_02_B2\"     \"S2_04_B4\"     \"S2_05_B5\"     \"S2_06_B6\"    \n",
       " [6] \"S2_10_B11\"    \"S2_11_B12\"    \"S2_26_CIVE\"   \"S2_14_ExR\"    \"S2_15_ExB\"   \n",
       "[11] \"S2_16_IKAW\"   \"S2_45_MDE\"    \"S2_48_TPI\"    \"S2_51__ACP_1\" \"S2_52__ACP_2\""
      ]
     },
     "metadata": {},
     "output_type": "display_data"
    }
   ],
   "source": [
    "Variables"
   ]
  },
  {
   "cell_type": "code",
   "execution_count": 60,
   "id": "aec0a7fc-1898-4fec-8838-861f01aeea72",
   "metadata": {
    "tags": []
   },
   "outputs": [],
   "source": [
    "for (i in 1:length(Variables)) {\n",
    "    name_variable = Variables[i]\n",
    "    ubica_variable <- paste(Variables[i],\".tif\",sep = \"\")\n",
    "    selec_b <- raster(ubica_variable[1])\n",
    "    lista_bandas[[i]] <- selec_b\n",
    "}"
   ]
  },
  {
   "cell_type": "code",
   "execution_count": 61,
   "id": "4ade76a7-0bf8-4a81-b51c-6be0e607cc81",
   "metadata": {
    "tags": []
   },
   "outputs": [],
   "source": [
    "RGB = stack(lista_bandas)"
   ]
  },
  {
   "cell_type": "code",
   "execution_count": 62,
   "id": "6140393b-7dd6-490d-b882-3659719923d7",
   "metadata": {
    "tags": []
   },
   "outputs": [
    {
     "data": {
      "text/html": [
       "<style>\n",
       ".list-inline {list-style: none; margin:0; padding: 0}\n",
       ".list-inline>li {display: inline-block}\n",
       ".list-inline>li:not(:last-child)::after {content: \"\\00b7\"; padding: 0 .5ex}\n",
       "</style>\n",
       "<ol class=list-inline><li>'S2_01_B1'</li><li>'S2_02_B2'</li><li>'S2_04_B4'</li><li>'S2_05_B5'</li><li>'S2_06_B6'</li><li>'S2_10_B11'</li><li>'S2_11_B12'</li><li>'S2_26_CIVE'</li><li>'S2_14_ExR'</li><li>'S2_15_ExB'</li><li>'S2_16_IKAW'</li><li>'S2_45_MDE'</li><li>'S2_48_TPI'</li><li>'S2_51__ACP_1'</li><li>'S2_52__ACP_2'</li></ol>\n"
      ],
      "text/latex": [
       "\\begin{enumerate*}\n",
       "\\item 'S2\\_01\\_B1'\n",
       "\\item 'S2\\_02\\_B2'\n",
       "\\item 'S2\\_04\\_B4'\n",
       "\\item 'S2\\_05\\_B5'\n",
       "\\item 'S2\\_06\\_B6'\n",
       "\\item 'S2\\_10\\_B11'\n",
       "\\item 'S2\\_11\\_B12'\n",
       "\\item 'S2\\_26\\_CIVE'\n",
       "\\item 'S2\\_14\\_ExR'\n",
       "\\item 'S2\\_15\\_ExB'\n",
       "\\item 'S2\\_16\\_IKAW'\n",
       "\\item 'S2\\_45\\_MDE'\n",
       "\\item 'S2\\_48\\_TPI'\n",
       "\\item 'S2\\_51\\_\\_ACP\\_1'\n",
       "\\item 'S2\\_52\\_\\_ACP\\_2'\n",
       "\\end{enumerate*}\n"
      ],
      "text/markdown": [
       "1. 'S2_01_B1'\n",
       "2. 'S2_02_B2'\n",
       "3. 'S2_04_B4'\n",
       "4. 'S2_05_B5'\n",
       "5. 'S2_06_B6'\n",
       "6. 'S2_10_B11'\n",
       "7. 'S2_11_B12'\n",
       "8. 'S2_26_CIVE'\n",
       "9. 'S2_14_ExR'\n",
       "10. 'S2_15_ExB'\n",
       "11. 'S2_16_IKAW'\n",
       "12. 'S2_45_MDE'\n",
       "13. 'S2_48_TPI'\n",
       "14. 'S2_51__ACP_1'\n",
       "15. 'S2_52__ACP_2'\n",
       "\n",
       "\n"
      ],
      "text/plain": [
       " [1] \"S2_01_B1\"     \"S2_02_B2\"     \"S2_04_B4\"     \"S2_05_B5\"     \"S2_06_B6\"    \n",
       " [6] \"S2_10_B11\"    \"S2_11_B12\"    \"S2_26_CIVE\"   \"S2_14_ExR\"    \"S2_15_ExB\"   \n",
       "[11] \"S2_16_IKAW\"   \"S2_45_MDE\"    \"S2_48_TPI\"    \"S2_51__ACP_1\" \"S2_52__ACP_2\""
      ]
     },
     "metadata": {},
     "output_type": "display_data"
    }
   ],
   "source": [
    "Variables"
   ]
  },
  {
   "cell_type": "code",
   "execution_count": 63,
   "id": "c77ead5a-7028-41b8-b86f-e323b6b3d528",
   "metadata": {
    "tags": []
   },
   "outputs": [],
   "source": [
    "names(RGB) = Variables"
   ]
  },
  {
   "cell_type": "code",
   "execution_count": 64,
   "id": "a28942cf-efb6-4575-a4a7-43a230d833fb",
   "metadata": {
    "tags": []
   },
   "outputs": [
    {
     "data": {
      "image/png": "[encoded data removed]",
      "text/plain": [
       "Plot with title \"\""
      ]
     },
     "metadata": {
      "image/png": {
       "height": 420,
       "width": 420
      }
     },
     "output_type": "display_data"
    }
   ],
   "source": [
    "plot(RGB[[1]])"
   ]
  },
  {
   "cell_type": "code",
   "execution_count": 65,
   "id": "89a88c8e-095a-46dc-8de8-486f45baba7c",
   "metadata": {
    "tags": []
   },
   "outputs": [],
   "source": [
    "estimadores = datos_csv[,2]"
   ]
  },
  {
   "cell_type": "code",
   "execution_count": 66,
   "id": "4549afed-347a-43f9-9760-bd09d6d8dd1e",
   "metadata": {
    "tags": []
   },
   "outputs": [
    {
     "data": {
      "text/html": [
       "<style>\n",
       ".list-inline {list-style: none; margin:0; padding: 0}\n",
       ".list-inline>li {display: inline-block}\n",
       ".list-inline>li:not(:last-child)::after {content: \"\\00b7\"; padding: 0 .5ex}\n",
       "</style>\n",
       "<ol class=list-inline><li>80.6116495864994</li><li>63953234.8240042</li><li>-63952677.3115564</li><li>235.091314630123</li><li>37.5651808746431</li><li>444.598595361563</li><li>466.360706518962</li><li>-15.3825240369954</li><li>45680664.6912351</li><li>-45680786.7824324</li><li>3.40182260124898</li><li>0.0337772720555678</li><li>-0.587236565052967</li><li>-505.796409452606</li><li>-567.613196892985</li></ol>\n"
      ],
      "text/latex": [
       "\\begin{enumerate*}\n",
       "\\item 80.6116495864994\n",
       "\\item 63953234.8240042\n",
       "\\item -63952677.3115564\n",
       "\\item 235.091314630123\n",
       "\\item 37.5651808746431\n",
       "\\item 444.598595361563\n",
       "\\item 466.360706518962\n",
       "\\item -15.3825240369954\n",
       "\\item 45680664.6912351\n",
       "\\item -45680786.7824324\n",
       "\\item 3.40182260124898\n",
       "\\item 0.0337772720555678\n",
       "\\item -0.587236565052967\n",
       "\\item -505.796409452606\n",
       "\\item -567.613196892985\n",
       "\\end{enumerate*}\n"
      ],
      "text/markdown": [
       "1. 80.6116495864994\n",
       "2. 63953234.8240042\n",
       "3. -63952677.3115564\n",
       "4. 235.091314630123\n",
       "5. 37.5651808746431\n",
       "6. 444.598595361563\n",
       "7. 466.360706518962\n",
       "8. -15.3825240369954\n",
       "9. 45680664.6912351\n",
       "10. -45680786.7824324\n",
       "11. 3.40182260124898\n",
       "12. 0.0337772720555678\n",
       "13. -0.587236565052967\n",
       "14. -505.796409452606\n",
       "15. -567.613196892985\n",
       "\n",
       "\n"
      ],
      "text/plain": [
       " [1]  8.061165e+01  6.395323e+07 -6.395268e+07  2.350913e+02  3.756518e+01\n",
       " [6]  4.445986e+02  4.663607e+02 -1.538252e+01  4.568066e+07 -4.568079e+07\n",
       "[11]  3.401823e+00  3.377727e-02 -5.872366e-01 -5.057964e+02 -5.676132e+02"
      ]
     },
     "metadata": {},
     "output_type": "display_data"
    }
   ],
   "source": [
    "estimadores"
   ]
  },
  {
   "cell_type": "code",
   "execution_count": 67,
   "id": "aca14b7c-e0c5-4dc9-a378-d86d82c7f806",
   "metadata": {
    "tags": []
   },
   "outputs": [
    {
     "data": {
      "text/html": [
       "15"
      ],
      "text/latex": [
       "15"
      ],
      "text/markdown": [
       "15"
      ],
      "text/plain": [
       "[1] 15"
      ]
     },
     "metadata": {},
     "output_type": "display_data"
    }
   ],
   "source": [
    "length(estimadores)"
   ]
  },
  {
   "cell_type": "code",
   "execution_count": 68,
   "id": "d5fea824-f042-4713-b2be-fd0ce2613db7",
   "metadata": {
    "tags": []
   },
   "outputs": [],
   "source": [
    "Prediccion_variable = estimadores[1]*RGB[[1]]+estimadores[2]*RGB[[2]]+estimadores[3]*RGB[[3]]+  estimadores[4]*RGB[[4]]+estimadores[5]*RGB[[5]]+estimadores[6]*RGB[[6]]+ estimadores[7]*RGB[[7]]+estimadores[8]*RGB[[8]]+estimadores[9]*RGB[[9]]+estimadores[10]*RGB[[10]]+estimadores[11]*RGB[[11]]+estimadores[12]*RGB[[12]]+estimadores[13]*RGB[[13]]+estimadores[14]*RGB[[14]]+estimadores[15]*RGB[[15]]"
   ]
  },
  {
   "cell_type": "code",
   "execution_count": 596,
   "id": "5fa2d7b2-930e-4659-aa6c-18b9e9672d84",
   "metadata": {
    "tags": []
   },
   "outputs": [],
   "source": [
    "#+estimadores[2]*RGB[[2]]+estimadores[3]*RGB[[3]]+  estimadores[4]*RGB[[4]]+estimadores[5]*RGB[[5]]+estimadores[6]*RGB[[6]]+ estimadores[7]*RGB[[7]]+estimadores[8]*RGB[[8]]+estimadores[9]*RGB[[9]]+estimadores[10]*RGB[[10]]+estimadores[11]*RGB[[11]]+estimadores[12]*RGB[[12]]"
   ]
  },
  {
   "cell_type": "code",
   "execution_count": 597,
   "id": "5fbd724b-7723-48bf-ae42-ff4cbe3b5994",
   "metadata": {
    "tags": []
   },
   "outputs": [
    {
     "data": {
      "image/png": "[encoded data removed]",
      "text/plain": [
       "Plot with title \"\""
      ]
     },
     "metadata": {
      "image/png": {
       "height": 420,
       "width": 420
      }
     },
     "output_type": "display_data"
    }
   ],
   "source": [
    "plot(Prediccion_variable)"
   ]
  },
  {
   "cell_type": "code",
   "execution_count": 598,
   "id": "c07e69b3-4384-4d46-ba55-235647513da6",
   "metadata": {
    "tags": []
   },
   "outputs": [],
   "source": [
    "EEA_Campo = shapefile(r\"(C:\\Users\\AGPRES\\Jupyter_Python\\AGPRES\\Datos_suelo\\Shp\\CE_Campo_Verde.shp)\")"
   ]
  },
  {
   "cell_type": "code",
   "execution_count": 599,
   "id": "705e60ca-b1c6-4452-85ac-3be7b6967b1a",
   "metadata": {
    "tags": []
   },
   "outputs": [],
   "source": [
    "EEA_Campo_buffer <- st_buffer(st_geometry(st_as_sf(EEA_Campo)), dist = 30)"
   ]
  },
  {
   "cell_type": "code",
   "execution_count": 600,
   "id": "adeb1cfc-150c-444c-8aca-4fb3cf3ab3b8",
   "metadata": {
    "tags": []
   },
   "outputs": [],
   "source": [
    "EEA_Campo_buffer_sp = as(EEA_Campo_buffer, Class = \"Spatial\")"
   ]
  },
  {
   "cell_type": "code",
   "execution_count": 601,
   "id": "3272e251-a202-44c7-aee6-80ad06e90435",
   "metadata": {
    "tags": []
   },
   "outputs": [],
   "source": [
    "Prediccion_variable_clip = mask(Prediccion_variable, EEA_Campo_buffer_sp)"
   ]
  },
  {
   "cell_type": "code",
   "execution_count": 602,
   "id": "79c1b0ba-011b-40b3-af3e-29859562e92e",
   "metadata": {
    "tags": []
   },
   "outputs": [
    {
     "name": "stdout",
     "output_type": "stream",
     "text": [
      "[1] \"Directorio existe RASTER_PREDICCION\"\n"
     ]
    }
   ],
   "source": [
    "carpeta_Raster_prediccion = paste(getwd(),\"/\",\"RASTER_PREDICCION\",sep = \"\")\n",
    "    if (!dir.exists(carpeta_Raster_prediccion)){\n",
    "        dir.create(carpeta_Raster_prediccion)\n",
    "    }else{\n",
    "        print(\"Directorio existe RASTER_PREDICCION\")\n",
    "    }"
   ]
  },
  {
   "cell_type": "code",
   "execution_count": 603,
   "id": "ce072e31-7fc1-4a46-a11a-2b9e5145827a",
   "metadata": {
    "tags": []
   },
   "outputs": [
    {
     "data": {
      "text/html": [
       "'C:/Users/AGPRES/Jupyter_Python/AGPRES/Datos_suelo/Satelite/Sentinel2/Bandas/Banda_select/RASTER_PREDICCION/Prediccion_Arcilla.tif'"
      ],
      "text/latex": [
       "'C:/Users/AGPRES/Jupyter\\_Python/AGPRES/Datos\\_suelo/Satelite/Sentinel2/Bandas/Banda\\_select/RASTER\\_PREDICCION/Prediccion\\_Arcilla.tif'"
      ],
      "text/markdown": [
       "'C:/Users/AGPRES/Jupyter_Python/AGPRES/Datos_suelo/Satelite/Sentinel2/Bandas/Banda_select/RASTER_PREDICCION/Prediccion_Arcilla.tif'"
      ],
      "text/plain": [
       "[1] \"C:/Users/AGPRES/Jupyter_Python/AGPRES/Datos_suelo/Satelite/Sentinel2/Bandas/Banda_select/RASTER_PREDICCION/Prediccion_Arcilla.tif\""
      ]
     },
     "metadata": {},
     "output_type": "display_data"
    }
   ],
   "source": [
    "name_prediccion_tif = paste(carpeta_Raster_prediccion,\"/Prediccion_\",x_suelo,\".tif\",sep = \"\")\n",
    "name_prediccion_tif"
   ]
  },
  {
   "cell_type": "code",
   "execution_count": 604,
   "id": "a1039f9b-b1cc-43cc-90b1-6ce5b9ec6a4d",
   "metadata": {
    "tags": []
   },
   "outputs": [],
   "source": [
    "writeRaster(Prediccion_variable_clip, name_prediccion_tif, drivername=\"Gtiff\",overwrite=TRUE)"
   ]
  },
  {
   "cell_type": "code",
   "execution_count": 605,
   "id": "822e8444-fc6b-4f4d-a546-f2cb86831517",
   "metadata": {
    "tags": []
   },
   "outputs": [
    {
     "data": {
      "image/png": "[encoded data removed]",
      "text/plain": [
       "Plot with title \"\""
      ]
     },
     "metadata": {
      "image/png": {
       "height": 420,
       "width": 420
      }
     },
     "output_type": "display_data"
    }
   ],
   "source": [
    "plot(Prediccion_variable_clip)"
   ]
  },
  {
   "cell_type": "code",
   "execution_count": null,
   "id": "cd9ad73b-0c3f-42ff-973c-80238ae73c33",
   "metadata": {},
   "outputs": [],
   "source": []
  }
 ],
 "metadata": {
  "kernelspec": {
   "display_name": "R",
   "language": "R",
   "name": "ir"
  },
  "language_info": {
   "codemirror_mode": "r",
   "file_extension": ".r",
   "mimetype": "text/x-r-source",
   "name": "R",
   "pygments_lexer": "r",
   "version": "4.3.3"
  },
  "widgets": {
   "application/vnd.jupyter.widget-state+json": {
    "state": {},
    "version_major": 2,
    "version_minor": 0
   }
  }
 },
 "nbformat": 4,
 "nbformat_minor": 5
}
