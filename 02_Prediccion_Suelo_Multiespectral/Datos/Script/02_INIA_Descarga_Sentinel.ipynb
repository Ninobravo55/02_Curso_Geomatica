{
 "cells": [
  {
   "cell_type": "markdown",
   "id": "31d9a3f2-b80a-4de6-9fe8-3860920198ce",
   "metadata": {},
   "source": [
    "# Descarga de imagenes de Satelite Sentinel2"
   ]
  },
  {
   "cell_type": "code",
   "execution_count": 1,
   "id": "c743de6a-d036-410e-9e59-2f5736f65145",
   "metadata": {
    "tags": []
   },
   "outputs": [],
   "source": [
    "import ee\n",
    "import geemap\n",
    "import pandas as pd\n",
    "ee.Initialize()"
   ]
  },
  {
   "cell_type": "code",
   "execution_count": 6,
   "id": "56f6c9df-45b0-428c-ab66-dcfde00d80f4",
   "metadata": {
    "tags": []
   },
   "outputs": [],
   "source": [
    "!pip install jupyter notebook"
   ]
  },
  {
   "cell_type": "code",
   "execution_count": 3,
   "id": "1345e3ef-a245-4010-9e73-39da26531f74",
   "metadata": {
    "tags": []
   },
   "outputs": [
    {
     "data": {
      "application/vnd.jupyter.widget-view+json": {
       "model_id": "3465f46ee6314084ae8071c4b91946c5",
       "version_major": 2,
       "version_minor": 0
      },
      "text/plain": [
       "Map(center=[20, 0], controls=(WidgetControl(options=['position', 'transparent_bg'], widget=HBox(children=(Togg…"
      ]
     },
     "metadata": {},
     "output_type": "display_data"
    }
   ],
   "source": [
    "Map = geemap.Map(basemap='Esri.WorldImagery')\n",
    "Map"
   ]
  },
  {
   "cell_type": "code",
   "execution_count": 5,
   "id": "1ddbfd51-8a30-4ec1-87b2-d324fb727d67",
   "metadata": {
    "tags": []
   },
   "outputs": [],
   "source": [
    "zona = ee.FeatureCollection(\"projects/ee-geomatica/assets/EEA_INIA/Zona_EEA_Geo\")"
   ]
  },
  {
   "cell_type": "code",
   "execution_count": 6,
   "id": "eec6c1df-b549-4491-ba49-bf551223c2f7",
   "metadata": {
    "tags": []
   },
   "outputs": [
    {
     "name": "stdout",
     "output_type": "stream",
     "text": [
      "['DONOSO', 'EL PORVENIR', 'PUCALLPA', 'SANTA ANA']\n"
     ]
    }
   ],
   "source": [
    "# Extraer la lista de paises\n",
    "lista_EEA = zona.reduceColumns(ee.Reducer.toList(),[\"EEA\"]).get(\"list\").getInfo()\n",
    "print(lista_EEA)"
   ]
  },
  {
   "cell_type": "code",
   "execution_count": 9,
   "id": "bd132490-4440-42c1-9969-ef54b1464f22",
   "metadata": {
    "tags": []
   },
   "outputs": [
    {
     "data": {
      "text/plain": [
       "'SANTA ANA'"
      ]
     },
     "execution_count": 9,
     "metadata": {},
     "output_type": "execute_result"
    }
   ],
   "source": [
    "Selec_EEA = lista_EEA[3]\n",
    "Selec_EEA"
   ]
  },
  {
   "cell_type": "code",
   "execution_count": 10,
   "id": "2b14b0d2-d54a-4729-adfd-6666dccbeb15",
   "metadata": {
    "tags": []
   },
   "outputs": [],
   "source": [
    "EEA = zona.filterMetadata('EEA', 'equals', Selec_EEA)"
   ]
  },
  {
   "cell_type": "code",
   "execution_count": 11,
   "id": "18d7d2e7-62b5-49b2-ba33-7feb5433dcb7",
   "metadata": {
    "tags": []
   },
   "outputs": [],
   "source": [
    "geometria = EEA.geometry()"
   ]
  },
  {
   "cell_type": "code",
   "execution_count": 12,
   "id": "8389bf25-43d1-4945-a464-5be7f092c71e",
   "metadata": {
    "tags": []
   },
   "outputs": [
    {
     "data": {
      "application/vnd.jupyter.widget-view+json": {
       "model_id": "3465f46ee6314084ae8071c4b91946c5",
       "version_major": 2,
       "version_minor": 0
      },
      "text/plain": [
       "Map(bottom=654.0, center=[-12.012035762649006, -75.2214429775274], controls=(WidgetControl(options=['position'…"
      ]
     },
     "metadata": {},
     "output_type": "display_data"
    }
   ],
   "source": [
    "# Visualizar en mapa\n",
    "Map.center_object(EEA,13)\n",
    "Map.addLayer(EEA, {\"color\" : \"green\"}, \"EEA_\" + Selec_EEA)\n",
    "Map"
   ]
  },
  {
   "cell_type": "code",
   "execution_count": 24,
   "id": "57a4c012-0241-471c-9fff-6f5d05182913",
   "metadata": {
    "tags": []
   },
   "outputs": [],
   "source": [
    "# Coleccion de Sentinel-2 SR\n",
    "S2_RS = ee.ImageCollection(\"COPERNICUS/S2_SR_HARMONIZED\")\\\n",
    "          .filterDate('2022-04-01','2022-12-31')\\\n",
    "          .filterMetadata('CLOUDY_PIXEL_PERCENTAGE','less_than',10)\\\n",
    "          .filterBounds(EEA)\\\n",
    "         .sort('CLOUDY_PIXEL_PERCENTAGE', True)"
   ]
  },
  {
   "cell_type": "code",
   "execution_count": 25,
   "id": "4dc560a5-45ab-47dc-b855-40b108506af3",
   "metadata": {
    "tags": []
   },
   "outputs": [],
   "source": [
    "# Imprimir la lista de ID Imagenes\n",
    "ID_S2 = S2_RS.reduceColumns(ee.Reducer.toList(),[\"system:index\"]).get(\"list\").getInfo()"
   ]
  },
  {
   "cell_type": "code",
   "execution_count": 26,
   "id": "c8b40a4a-9e24-476b-a082-efe2b5791d3c",
   "metadata": {
    "tags": []
   },
   "outputs": [
    {
     "name": "stdout",
     "output_type": "stream",
     "text": [
      "20220729T151709_20220729T152454_T18LVM\n",
      "20220614T151711_20220614T152004_T18LVM\n",
      "20220629T151709_20220629T151709_T18LVM\n",
      "20220818T151709_20220818T152433_T18LVM\n",
      "20220813T151721_20220813T152335_T18LVM\n",
      "20220609T151709_20220609T151713_T18LVM\n",
      "20220823T151721_20220823T152332_T18LVM\n",
      "20220828T151709_20220828T152330_T18LVM\n",
      "20220902T151721_20220902T152331_T18LVM\n",
      "20220724T151711_20220724T152452_T18LVM\n",
      "20220714T151721_20220714T151723_T18LVM\n",
      "20220530T151709_20220530T151704_T18LVM\n",
      "20221201T151701_20221201T152033_T18LVM\n",
      "20220803T151721_20220803T151715_T18LVM\n",
      "20221022T151711_20221022T152231_T18LVM\n",
      "20220912T151711_20220912T152434_T18LVM\n",
      "20221012T151711_20221012T151922_T18LVM\n",
      "20220907T151709_20220907T151918_T18LVM\n",
      "20220520T151709_20220520T151704_T18LVM\n",
      "20221111T151711_20221111T151707_T18LVM\n",
      "20220619T151709_20220619T151708_T18LVM\n"
     ]
    }
   ],
   "source": [
    "for i in ID_S2:\n",
    "    print(i)"
   ]
  },
  {
   "cell_type": "code",
   "execution_count": 27,
   "id": "4d30c39d-aa54-4e80-aada-c2dc2e4cec71",
   "metadata": {
    "tags": []
   },
   "outputs": [
    {
     "data": {
      "text/plain": [
       "21"
      ]
     },
     "execution_count": 27,
     "metadata": {},
     "output_type": "execute_result"
    }
   ],
   "source": [
    "len(ID_S2)"
   ]
  },
  {
   "cell_type": "code",
   "execution_count": 28,
   "id": "b7c8767d-ecd7-42e0-b79e-bb76487f8e54",
   "metadata": {
    "tags": []
   },
   "outputs": [],
   "source": [
    "Fecha_inicio = '2022-04-01'\n",
    "Fecha_final = '2022-12-31'\n",
    "Por_Nubosidad = 10"
   ]
  },
  {
   "cell_type": "code",
   "execution_count": 29,
   "id": "de77787e-facb-4111-96c8-516b8e30f353",
   "metadata": {
    "tags": []
   },
   "outputs": [
    {
     "name": "stdout",
     "output_type": "stream",
     "text": [
      "Archivo zip DONOSO_S2_20220503T152639_RS https://earthengine.googleapis.com/v1alpha/projects/earthengine-legacy/thumbnails/28a8245b1bd3f555cb7c54b4c4926994-0465f2c519ee246447dda2a540e5c247:getPixels\n",
      "Archivo zip DONOSO_S2_20220503T152639_RS https://earthengine.googleapis.com/v1alpha/projects/earthengine-legacy/thumbnails/ef3b6bed60c8183136d22909f5ab4e64-62dc6da314bcfc9b809de7aa4113df45:getPixels\n",
      "Archivo zip DONOSO_S2_20220528T152651_RS https://earthengine.googleapis.com/v1alpha/projects/earthengine-legacy/thumbnails/fe43fecdf224844b908b69a7c133c27c-62c8b7f3e2adec5f6958055d411639ce:getPixels\n",
      "Archivo zip DONOSO_S2_20221214T152641_RS https://earthengine.googleapis.com/v1alpha/projects/earthengine-legacy/thumbnails/6d7425df80e0e191d88b924a5eeed861-26240550a10cf4f1a904492038de6831:getPixels\n",
      "Archivo zip EL PORVENIR_S2_20220826T152651_RS https://earthengine.googleapis.com/v1alpha/projects/earthengine-legacy/thumbnails/33afb73b6222275d4ccd0610d307688e-f19d6cde7e12d8ca81cb796c289c7fff:getPixels\n",
      "Archivo zip EL PORVENIR_S2_20220821T152639_RS https://earthengine.googleapis.com/v1alpha/projects/earthengine-legacy/thumbnails/2d8a32bf9af9e9e6159f0075d1768eef-02bdc13d3ce6fc56aceaf371e891b778:getPixels\n",
      "Archivo zip EL PORVENIR_S2_20220816T152651_RS https://earthengine.googleapis.com/v1alpha/projects/earthengine-legacy/thumbnails/4a629b22811e1ec143d6709713415ced-d5508c9e135ce98debba8371d86ea68c:getPixels\n",
      "Archivo zip EL PORVENIR_S2_20221104T152641_RS https://earthengine.googleapis.com/v1alpha/projects/earthengine-legacy/thumbnails/4f58054465705ee5e6632d9ada580d54-8df75a5c6f5ef0c34969cbc2fd04d4e0:getPixels\n",
      "Archivo zip EL PORVENIR_S2_20220627T152651_RS https://earthengine.googleapis.com/v1alpha/projects/earthengine-legacy/thumbnails/01056e578ef9dc7537260d77fe694524-172f390b72f7c15cfc46da628da15cf2:getPixels\n",
      "Archivo zip PUCALLPA_S2_20220823T151721_RS https://earthengine.googleapis.com/v1alpha/projects/earthengine-legacy/thumbnails/6866645e1149536adb4cbe7277cc6bd4-6d9d65055bee2c9c33420afbb2d748b1:getPixels\n",
      "Archivo zip PUCALLPA_S2_20220922T151711_RS https://earthengine.googleapis.com/v1alpha/projects/earthengine-legacy/thumbnails/2c5fb66852cd4fe72ecd204cc444b654-9b83ee2ef227525b243a365388912412:getPixels\n",
      "Archivo zip PUCALLPA_S2_20221106T151659_RS https://earthengine.googleapis.com/v1alpha/projects/earthengine-legacy/thumbnails/aef363ae68f90ba97008ac838ec890ce-f2d025e85b4f00387fd96bdfe7c81bed:getPixels\n",
      "Archivo zip PUCALLPA_S2_20220614T151711_RS https://earthengine.googleapis.com/v1alpha/projects/earthengine-legacy/thumbnails/324a1b09a462417cb27c69ec52a62284-82c786ac67e68b36937575c2ca5b4a8f:getPixels\n",
      "Archivo zip PUCALLPA_S2_20220520T151709_RS https://earthengine.googleapis.com/v1alpha/projects/earthengine-legacy/thumbnails/16148a91a9c649bccecc28825eb32af3-0318a658b3a998d51c1104017451ad2a:getPixels\n",
      "Archivo zip PUCALLPA_S2_20220907T151709_RS https://earthengine.googleapis.com/v1alpha/projects/earthengine-legacy/thumbnails/e55bb7516bde035c4a7a2ffbce81cfed-11192bd482fd1463eb2ef33e2e86b0bb:getPixels\n",
      "Archivo zip PUCALLPA_S2_20220917T151709_RS https://earthengine.googleapis.com/v1alpha/projects/earthengine-legacy/thumbnails/4fcc2ab86517f2927cf55a3a29ea99f2-675d8f23714ae32c03879262b67b58e8:getPixels\n",
      "Archivo zip PUCALLPA_S2_20220629T151709_RS https://earthengine.googleapis.com/v1alpha/projects/earthengine-legacy/thumbnails/ba3937cb82110fcb7c6b940f4cc30a39-3e316106ec6a9c0d737872ea62f2965e:getPixels\n",
      "Archivo zip PUCALLPA_S2_20220729T151709_RS https://earthengine.googleapis.com/v1alpha/projects/earthengine-legacy/thumbnails/bc8cb2df54fe8eea03cf2cb85b8fcc8b-53b0cdb9fba947032ffd3697189109b2:getPixels\n",
      "Archivo zip PUCALLPA_S2_20220912T151711_RS https://earthengine.googleapis.com/v1alpha/projects/earthengine-legacy/thumbnails/e98817943052a5bc43a1aec0ca685ba2-54859d1b33402ce3be4338ade393d05a:getPixels\n",
      "Archivo zip PUCALLPA_S2_20220902T151721_RS https://earthengine.googleapis.com/v1alpha/projects/earthengine-legacy/thumbnails/9f5e4e6e576d87862d647aca6a9aa01f-e43a2eed3a658c1e71d0711448fc5c5f:getPixels\n",
      "Archivo zip SANTA ANA_S2_20220729T151709_RS https://earthengine.googleapis.com/v1alpha/projects/earthengine-legacy/thumbnails/58c3fee0da4241d05d592193f140984a-cd9ac6c8431bf7fe3484ac0da71d5036:getPixels\n",
      "Archivo zip SANTA ANA_S2_20220614T151711_RS https://earthengine.googleapis.com/v1alpha/projects/earthengine-legacy/thumbnails/f84ac02613d92c98c78290e4b9125cd3-b8f00bd93f2abe20ca3155864dad8373:getPixels\n",
      "Archivo zip SANTA ANA_S2_20220629T151709_RS https://earthengine.googleapis.com/v1alpha/projects/earthengine-legacy/thumbnails/056e2c2ceb9407db36fe5477b3fe4983-24817e970b2f31d981c6de2a7338f60a:getPixels\n",
      "Archivo zip SANTA ANA_S2_20220818T151709_RS https://earthengine.googleapis.com/v1alpha/projects/earthengine-legacy/thumbnails/b5930605a4860636b155213a003c851a-44184295e09c6b4e694f594355f60348:getPixels\n",
      "Archivo zip SANTA ANA_S2_20220813T151721_RS https://earthengine.googleapis.com/v1alpha/projects/earthengine-legacy/thumbnails/b9b4508c9f52839de87d70507d7b5adc-eb611944c23acec4ee82e07126345ef3:getPixels\n",
      "Archivo zip SANTA ANA_S2_20220609T151709_RS https://earthengine.googleapis.com/v1alpha/projects/earthengine-legacy/thumbnails/b611169c2d63e063d4d04c94c2da68e2-16a72a85d278d18d7c9c4d014d32c724:getPixels\n",
      "Archivo zip SANTA ANA_S2_20220823T151721_RS https://earthengine.googleapis.com/v1alpha/projects/earthengine-legacy/thumbnails/bbb72bab2e67c07ce37d6f6083f87717-3277385f9d8dab572a87da8c53d71480:getPixels\n",
      "Archivo zip SANTA ANA_S2_20220828T151709_RS https://earthengine.googleapis.com/v1alpha/projects/earthengine-legacy/thumbnails/0b52733e504229c20163669955284e6a-eeb3423c580ffcf0c69321b1ee504077:getPixels\n",
      "Archivo zip SANTA ANA_S2_20220902T151721_RS https://earthengine.googleapis.com/v1alpha/projects/earthengine-legacy/thumbnails/a06fed6528dcd01f76d99024c45bab43-1c53b161b01e62db920971276309c13f:getPixels\n",
      "Archivo zip SANTA ANA_S2_20220724T151711_RS https://earthengine.googleapis.com/v1alpha/projects/earthengine-legacy/thumbnails/2b9c894df54cd9a8b847d14f1f005130-e708d95e93e8110fb53d787a0352d13e:getPixels\n",
      "Archivo zip SANTA ANA_S2_20220714T151721_RS https://earthengine.googleapis.com/v1alpha/projects/earthengine-legacy/thumbnails/295a103775894a04ac3fd3f3fe213e63-ee580e0c3a9ca7096ed7db17692bb210:getPixels\n",
      "Archivo zip SANTA ANA_S2_20220530T151709_RS https://earthengine.googleapis.com/v1alpha/projects/earthengine-legacy/thumbnails/90bb34dfdc44556fc1382c34dd71b017-4de3c508177d02be0c56051a7fabae8a:getPixels\n",
      "Archivo zip SANTA ANA_S2_20221201T151701_RS https://earthengine.googleapis.com/v1alpha/projects/earthengine-legacy/thumbnails/c9f9076719cccc113cf41cf793c8d8b2-fe5a6d31927293daaee5a255ffead87b:getPixels\n",
      "Archivo zip SANTA ANA_S2_20220803T151721_RS https://earthengine.googleapis.com/v1alpha/projects/earthengine-legacy/thumbnails/16e602b1b4ab7431238f150acbba6e9d-0c3f84cf96c397b61f1515bdf9d7b6a0:getPixels\n",
      "Archivo zip SANTA ANA_S2_20221022T151711_RS https://earthengine.googleapis.com/v1alpha/projects/earthengine-legacy/thumbnails/6ad29f8921aa4baf6276875d3e6a846e-2ac00bfc2b4e0cd72f77d3d3823afc50:getPixels\n",
      "Archivo zip SANTA ANA_S2_20220912T151711_RS https://earthengine.googleapis.com/v1alpha/projects/earthengine-legacy/thumbnails/4f5b00ecaeb31e1e152e781b66fc6861-03a76d7f96d2ca1a8c99af84b4d55a89:getPixels\n",
      "Archivo zip SANTA ANA_S2_20221012T151711_RS https://earthengine.googleapis.com/v1alpha/projects/earthengine-legacy/thumbnails/e4def5a2777f246acafcb300e8b27938-73b2caace0851e0d31f85315111708a4:getPixels\n",
      "Archivo zip SANTA ANA_S2_20220907T151709_RS https://earthengine.googleapis.com/v1alpha/projects/earthengine-legacy/thumbnails/18ed7b1bba2f8209dd3d7bd2cf2aa8a3-e490c5f6b067f35c87402054e2e719f7:getPixels\n",
      "Archivo zip SANTA ANA_S2_20220520T151709_RS https://earthengine.googleapis.com/v1alpha/projects/earthengine-legacy/thumbnails/91a28b9af74cb060071b4231520182f2-74ad53617ffeca9466ddbf08edfbe7ef:getPixels\n",
      "Archivo zip SANTA ANA_S2_20221111T151711_RS https://earthengine.googleapis.com/v1alpha/projects/earthengine-legacy/thumbnails/92fb6acbc397291c9993abd34bfd62c7-0a556b23aee1bec1344d532d6330eeba:getPixels\n",
      "Archivo zip SANTA ANA_S2_20220619T151709_RS https://earthengine.googleapis.com/v1alpha/projects/earthengine-legacy/thumbnails/812f28761ef7a4576de14b95b220df55-98c40f00bf95b80d4803277f6394777d:getPixels\n"
     ]
    }
   ],
   "source": [
    "for a in range(len(lista_EEA)):\n",
    "    EEA = zona.filterMetadata('EEA', 'equals', lista_EEA[a])\n",
    "    geometria = EEA.geometry()\n",
    "    # Coleccion de Sentinel-2 SR\n",
    "    S2_RS = ee.ImageCollection(\"COPERNICUS/S2_SR_HARMONIZED\")\\\n",
    "                .filterDate(Fecha_inicio,Fecha_final)\\\n",
    "                .filterMetadata('CLOUDY_PIXEL_PERCENTAGE','less_than',Por_Nubosidad)\\\n",
    "                .filterBounds(EEA)\\\n",
    "                .sort('CLOUDY_PIXEL_PERCENTAGE', True)\n",
    "    # Imprimir la lista de ID Imagenes\n",
    "    ID_S2 = S2_RS.reduceColumns(ee.Reducer.toList(),[\"system:index\"]).get(\"list\").getInfo()\n",
    "    # Proceso de image\n",
    "    for i in range(len(ID_S2)):\n",
    "        # Mantiene la convención de nombre de archivo original    \n",
    "        image = ee.Image(\"COPERNICUS/S2_SR_HARMONIZED\" + \"/\" + ID_S2[i])\n",
    "        bandas_RS = [\"B1\",\"B2\",\"B3\",\"B4\",\"B5\",\"B6\",\"B7\",\"B8\",\"B9\",\"B11\",\"B12\"]\n",
    "        # Seleccionar imagenes por bandas\n",
    "        img_S2_RS = image.select(bandas_RS)\n",
    "        # Escalar la imagen Sentinel2 RS 0 - 1\n",
    "        img_S2_RS_es = img_S2_RS.multiply(0.0001)\n",
    "        # Reproyectar segun zona de estudio\n",
    "        img_S2_RS_es = img_S2_RS_es.reproject(crs=\"EPSG:32718\", scale=10)\n",
    "        # Recortar RS\n",
    "        img_S2_RS_es_clip = img_S2_RS_es.clip(EEA)\n",
    "        # Exportar en google drive\n",
    "        #geemap.ee_export_image_to_drive(img_S2_RS_es_clip, \n",
    "        #                                description=\"S2_\" + ID_S2[i][0:15]+\"_RS\",\n",
    "        #                                folder='GEE_Sentinel2', \n",
    "        #                                region=geometria, \n",
    "        #                                scale=10)\n",
    "        # Descarga link descarga\n",
    "        link_URL = img_S2_RS_es_clip.getDownloadURL({\n",
    "            'name': lista_EEA[a] + \"_S2_\" + ID_S2[i][0:15]+\"_RS\",\n",
    "            'bands': bandas_RS,\n",
    "            'region': geometria,\n",
    "            'scale': 10,\n",
    "            'filePerBand': False #  True = bandas separadas\n",
    "        })\n",
    "        print('Archivo zip ' + lista_EEA[a] + \"_S2_\" + ID_S2[i][0:15]+\"_RS\", link_URL)\n",
    "    "
   ]
  },
  {
   "cell_type": "code",
   "execution_count": null,
   "id": "cb09fc72-da2f-49f0-b8ca-bd0cf8b58342",
   "metadata": {},
   "outputs": [],
   "source": []
  }
 ],
 "metadata": {
  "kernelspec": {
   "display_name": "Python 3 (ipykernel)",
   "language": "python",
   "name": "python3"
  },
  "language_info": {
   "codemirror_mode": {
    "name": "ipython",
    "version": 3
   },
   "file_extension": ".py",
   "mimetype": "text/x-python",
   "name": "python",
   "nbconvert_exporter": "python",
   "pygments_lexer": "ipython3",
   "version": "3.9.13"
  }
 },
 "nbformat": 4,
 "nbformat_minor": 5
}
