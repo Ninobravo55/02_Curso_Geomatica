{
 "cells": [
  {
   "cell_type": "markdown",
   "id": "7c1467f2-f597-4f75-b819-cd7c9e7f3b85",
   "metadata": {},
   "source": [
    "# Predicción de las propiedades de suelo con Regresion lineal multiple"
   ]
  },
  {
   "cell_type": "code",
   "execution_count": null,
   "id": "a37e055c-9a20-489c-9785-cf21fba635ef",
   "metadata": {},
   "outputs": [],
   "source": [
    "library(raster)\n",
    "library(MPV)\n",
    "library(mixlm)\n",
    "library(stats)"
   ]
  },
  {
   "cell_type": "code",
   "execution_count": 2,
   "id": "52fe8a23-54c3-4245-8bba-868defdcff94",
   "metadata": {
    "tags": []
   },
   "outputs": [],
   "source": [
    "# Cambiar directorio\n",
    "setwd(r\"(C:\\Users\\AGPRES\\Jupyter_Python\\AGPRES\\Datos_suelo\\Satelite\\Sentinel2\\Bandas)\")"
   ]
  },
  {
   "cell_type": "code",
   "execution_count": 3,
   "id": "37c8f6ec-0609-49be-8631-95efc0e1f8e6",
   "metadata": {
    "tags": []
   },
   "outputs": [
    {
     "data": {
      "text/html": [
       "'C:/Users/AGPRES/Jupyter_Python/AGPRES/Datos_suelo/Satelite/Sentinel2/Bandas'"
      ],
      "text/latex": [
       "'C:/Users/AGPRES/Jupyter\\_Python/AGPRES/Datos\\_suelo/Satelite/Sentinel2/Bandas'"
      ],
      "text/markdown": [
       "'C:/Users/AGPRES/Jupyter_Python/AGPRES/Datos_suelo/Satelite/Sentinel2/Bandas'"
      ],
      "text/plain": [
       "[1] \"C:/Users/AGPRES/Jupyter_Python/AGPRES/Datos_suelo/Satelite/Sentinel2/Bandas\""
      ]
     },
     "metadata": {},
     "output_type": "display_data"
    }
   ],
   "source": [
    "getwd()"
   ]
  },
  {
   "cell_type": "code",
   "execution_count": 4,
   "id": "d73197b3-bbe6-4d62-bbab-fa3756a89c22",
   "metadata": {
    "tags": []
   },
   "outputs": [
    {
     "data": {
      "text/html": [
       "<style>\n",
       ".list-inline {list-style: none; margin:0; padding: 0}\n",
       ".list-inline>li {display: inline-block}\n",
       ".list-inline>li:not(:last-child)::after {content: \"\\00b7\"; padding: 0 .5ex}\n",
       "</style>\n",
       "<ol class=list-inline><li>'Extraccion_indices.csv'</li><li>'Variables_correlacion.csv'</li></ol>\n"
      ],
      "text/latex": [
       "\\begin{enumerate*}\n",
       "\\item 'Extraccion\\_indices.csv'\n",
       "\\item 'Variables\\_correlacion.csv'\n",
       "\\end{enumerate*}\n"
      ],
      "text/markdown": [
       "1. 'Extraccion_indices.csv'\n",
       "2. 'Variables_correlacion.csv'\n",
       "\n",
       "\n"
      ],
      "text/plain": [
       "[1] \"Extraccion_indices.csv\"    \"Variables_correlacion.csv\""
      ]
     },
     "metadata": {},
     "output_type": "display_data"
    }
   ],
   "source": [
    "# Crear lista del directorio\n",
    "lista_csv <- list.files(path = getwd(), pattern = '.*.csv$')\n",
    "lista_csv"
   ]
  },
  {
   "cell_type": "code",
   "execution_count": 5,
   "id": "a533390d-d23f-4c3a-a887-1bb9b86513ee",
   "metadata": {
    "tags": []
   },
   "outputs": [],
   "source": [
    "dav = read.csv(lista_csv[1], sep = \",\")"
   ]
  },
  {
   "cell_type": "code",
   "execution_count": 6,
   "id": "f95cad49-150a-4431-ba8d-0cc26dbaeb83",
   "metadata": {
    "tags": []
   },
   "outputs": [
    {
     "data": {
      "text/html": [
       "<table class=\"dataframe\">\n",
       "<caption>A data.frame: 6 × 73</caption>\n",
       "<thead>\n",
       "\t<tr><th></th><th scope=col>ID</th><th scope=col>pH</th><th scope=col>CE</th><th scope=col>MO</th><th scope=col>N</th><th scope=col>P</th><th scope=col>K</th><th scope=col>Ca</th><th scope=col>Mg</th><th scope=col>Al</th><th scope=col>⋯</th><th scope=col>S2_47_aspect</th><th scope=col>S2_48_TPI</th><th scope=col>S2_49_TRI</th><th scope=col>S2_50_flowdir</th><th scope=col>S2_51__ACP_1</th><th scope=col>S2_52__ACP_2</th><th scope=col>S2_53__ACP_3</th><th scope=col>coords.x1</th><th scope=col>coords.x2</th><th scope=col>optional</th></tr>\n",
       "\t<tr><th></th><th scope=col>&lt;int&gt;</th><th scope=col>&lt;dbl&gt;</th><th scope=col>&lt;dbl&gt;</th><th scope=col>&lt;dbl&gt;</th><th scope=col>&lt;dbl&gt;</th><th scope=col>&lt;dbl&gt;</th><th scope=col>&lt;dbl&gt;</th><th scope=col>&lt;dbl&gt;</th><th scope=col>&lt;dbl&gt;</th><th scope=col>&lt;dbl&gt;</th><th scope=col>⋯</th><th scope=col>&lt;dbl&gt;</th><th scope=col>&lt;dbl&gt;</th><th scope=col>&lt;dbl&gt;</th><th scope=col>&lt;int&gt;</th><th scope=col>&lt;dbl&gt;</th><th scope=col>&lt;dbl&gt;</th><th scope=col>&lt;dbl&gt;</th><th scope=col>&lt;int&gt;</th><th scope=col>&lt;int&gt;</th><th scope=col>&lt;lgl&gt;</th></tr>\n",
       "</thead>\n",
       "<tbody>\n",
       "\t<tr><th scope=row>1</th><td>1</td><td>4.32</td><td>1.20</td><td>1.48</td><td>0.07</td><td>27.91</td><td>0.21</td><td>0.26</td><td>0.02</td><td>1.9</td><td>⋯</td><td>  0.00000</td><td> 0.21780168</td><td>0.5321983</td><td> 64</td><td>-0.18855515</td><td> 0.004775629</td><td>-0.007336683</td><td>512538</td><td>9056311</td><td>TRUE</td></tr>\n",
       "\t<tr><th scope=row>2</th><td>2</td><td>5.00</td><td>0.13</td><td>2.29</td><td>0.11</td><td> 2.28</td><td>0.18</td><td>1.67</td><td>0.83</td><td>1.1</td><td>⋯</td><td>313.40308</td><td> 0.04040952</td><td>0.3386931</td><td> 64</td><td> 0.19860272</td><td>-0.198087066</td><td> 0.009015589</td><td>512126</td><td>9057087</td><td>TRUE</td></tr>\n",
       "\t<tr><th scope=row>3</th><td>3</td><td>4.58</td><td>0.16</td><td>1.61</td><td>0.08</td><td> 3.68</td><td>0.16</td><td>0.17</td><td>0.04</td><td>2.1</td><td>⋯</td><td> 16.81831</td><td>-0.33638239</td><td>0.6525297</td><td> 64</td><td>-0.06107873</td><td> 0.034771886</td><td>-0.015924960</td><td>512766</td><td>9056489</td><td>TRUE</td></tr>\n",
       "\t<tr><th scope=row>4</th><td>4</td><td>4.55</td><td>0.10</td><td>2.15</td><td>0.11</td><td> 2.92</td><td>0.12</td><td>1.48</td><td>0.39</td><td>3.1</td><td>⋯</td><td>360.00000</td><td> 0.15719832</td><td>0.1571983</td><td> 64</td><td> 0.08259204</td><td> 0.108550020</td><td>-0.035339050</td><td>513263</td><td>9055598</td><td>TRUE</td></tr>\n",
       "\t<tr><th scope=row>5</th><td>5</td><td>4.71</td><td>0.35</td><td>2.42</td><td>0.12</td><td> 2.41</td><td>0.15</td><td>1.67</td><td>0.69</td><td>3.4</td><td>⋯</td><td> 68.29136</td><td> 0.06544724</td><td>0.5926337</td><td>128</td><td>-0.15904658</td><td> 0.050500572</td><td>-0.033408940</td><td>512480</td><td>9056451</td><td>TRUE</td></tr>\n",
       "\t<tr><th scope=row>6</th><td>6</td><td>5.21</td><td>0.17</td><td>1.61</td><td>0.08</td><td> 4.57</td><td>0.14</td><td>1.19</td><td>0.37</td><td>0.4</td><td>⋯</td><td>209.31070</td><td>-0.03093096</td><td>0.7773618</td><td>  8</td><td>-0.18136331</td><td> 0.041864749</td><td> 0.016451184</td><td>513006</td><td>9056074</td><td>TRUE</td></tr>\n",
       "</tbody>\n",
       "</table>\n"
      ],
      "text/latex": [
       "A data.frame: 6 × 73\n",
       "\\begin{tabular}{r|lllllllllllllllllllll}\n",
       "  & ID & pH & CE & MO & N & P & K & Ca & Mg & Al & ⋯ & S2\\_47\\_aspect & S2\\_48\\_TPI & S2\\_49\\_TRI & S2\\_50\\_flowdir & S2\\_51\\_\\_ACP\\_1 & S2\\_52\\_\\_ACP\\_2 & S2\\_53\\_\\_ACP\\_3 & coords.x1 & coords.x2 & optional\\\\\n",
       "  & <int> & <dbl> & <dbl> & <dbl> & <dbl> & <dbl> & <dbl> & <dbl> & <dbl> & <dbl> & ⋯ & <dbl> & <dbl> & <dbl> & <int> & <dbl> & <dbl> & <dbl> & <int> & <int> & <lgl>\\\\\n",
       "\\hline\n",
       "\t1 & 1 & 4.32 & 1.20 & 1.48 & 0.07 & 27.91 & 0.21 & 0.26 & 0.02 & 1.9 & ⋯ &   0.00000 &  0.21780168 & 0.5321983 &  64 & -0.18855515 &  0.004775629 & -0.007336683 & 512538 & 9056311 & TRUE\\\\\n",
       "\t2 & 2 & 5.00 & 0.13 & 2.29 & 0.11 &  2.28 & 0.18 & 1.67 & 0.83 & 1.1 & ⋯ & 313.40308 &  0.04040952 & 0.3386931 &  64 &  0.19860272 & -0.198087066 &  0.009015589 & 512126 & 9057087 & TRUE\\\\\n",
       "\t3 & 3 & 4.58 & 0.16 & 1.61 & 0.08 &  3.68 & 0.16 & 0.17 & 0.04 & 2.1 & ⋯ &  16.81831 & -0.33638239 & 0.6525297 &  64 & -0.06107873 &  0.034771886 & -0.015924960 & 512766 & 9056489 & TRUE\\\\\n",
       "\t4 & 4 & 4.55 & 0.10 & 2.15 & 0.11 &  2.92 & 0.12 & 1.48 & 0.39 & 3.1 & ⋯ & 360.00000 &  0.15719832 & 0.1571983 &  64 &  0.08259204 &  0.108550020 & -0.035339050 & 513263 & 9055598 & TRUE\\\\\n",
       "\t5 & 5 & 4.71 & 0.35 & 2.42 & 0.12 &  2.41 & 0.15 & 1.67 & 0.69 & 3.4 & ⋯ &  68.29136 &  0.06544724 & 0.5926337 & 128 & -0.15904658 &  0.050500572 & -0.033408940 & 512480 & 9056451 & TRUE\\\\\n",
       "\t6 & 6 & 5.21 & 0.17 & 1.61 & 0.08 &  4.57 & 0.14 & 1.19 & 0.37 & 0.4 & ⋯ & 209.31070 & -0.03093096 & 0.7773618 &   8 & -0.18136331 &  0.041864749 &  0.016451184 & 513006 & 9056074 & TRUE\\\\\n",
       "\\end{tabular}\n"
      ],
      "text/markdown": [
       "\n",
       "A data.frame: 6 × 73\n",
       "\n",
       "| <!--/--> | ID &lt;int&gt; | pH &lt;dbl&gt; | CE &lt;dbl&gt; | MO &lt;dbl&gt; | N &lt;dbl&gt; | P &lt;dbl&gt; | K &lt;dbl&gt; | Ca &lt;dbl&gt; | Mg &lt;dbl&gt; | Al &lt;dbl&gt; | ⋯ ⋯ | S2_47_aspect &lt;dbl&gt; | S2_48_TPI &lt;dbl&gt; | S2_49_TRI &lt;dbl&gt; | S2_50_flowdir &lt;int&gt; | S2_51__ACP_1 &lt;dbl&gt; | S2_52__ACP_2 &lt;dbl&gt; | S2_53__ACP_3 &lt;dbl&gt; | coords.x1 &lt;int&gt; | coords.x2 &lt;int&gt; | optional &lt;lgl&gt; |\n",
       "|---|---|---|---|---|---|---|---|---|---|---|---|---|---|---|---|---|---|---|---|---|---|\n",
       "| 1 | 1 | 4.32 | 1.20 | 1.48 | 0.07 | 27.91 | 0.21 | 0.26 | 0.02 | 1.9 | ⋯ |   0.00000 |  0.21780168 | 0.5321983 |  64 | -0.18855515 |  0.004775629 | -0.007336683 | 512538 | 9056311 | TRUE |\n",
       "| 2 | 2 | 5.00 | 0.13 | 2.29 | 0.11 |  2.28 | 0.18 | 1.67 | 0.83 | 1.1 | ⋯ | 313.40308 |  0.04040952 | 0.3386931 |  64 |  0.19860272 | -0.198087066 |  0.009015589 | 512126 | 9057087 | TRUE |\n",
       "| 3 | 3 | 4.58 | 0.16 | 1.61 | 0.08 |  3.68 | 0.16 | 0.17 | 0.04 | 2.1 | ⋯ |  16.81831 | -0.33638239 | 0.6525297 |  64 | -0.06107873 |  0.034771886 | -0.015924960 | 512766 | 9056489 | TRUE |\n",
       "| 4 | 4 | 4.55 | 0.10 | 2.15 | 0.11 |  2.92 | 0.12 | 1.48 | 0.39 | 3.1 | ⋯ | 360.00000 |  0.15719832 | 0.1571983 |  64 |  0.08259204 |  0.108550020 | -0.035339050 | 513263 | 9055598 | TRUE |\n",
       "| 5 | 5 | 4.71 | 0.35 | 2.42 | 0.12 |  2.41 | 0.15 | 1.67 | 0.69 | 3.4 | ⋯ |  68.29136 |  0.06544724 | 0.5926337 | 128 | -0.15904658 |  0.050500572 | -0.033408940 | 512480 | 9056451 | TRUE |\n",
       "| 6 | 6 | 5.21 | 0.17 | 1.61 | 0.08 |  4.57 | 0.14 | 1.19 | 0.37 | 0.4 | ⋯ | 209.31070 | -0.03093096 | 0.7773618 |   8 | -0.18136331 |  0.041864749 |  0.016451184 | 513006 | 9056074 | TRUE |\n",
       "\n"
      ],
      "text/plain": [
       "  ID pH   CE   MO   N    P     K    Ca   Mg   Al  ⋯ S2_47_aspect S2_48_TPI  \n",
       "1 1  4.32 1.20 1.48 0.07 27.91 0.21 0.26 0.02 1.9 ⋯   0.00000     0.21780168\n",
       "2 2  5.00 0.13 2.29 0.11  2.28 0.18 1.67 0.83 1.1 ⋯ 313.40308     0.04040952\n",
       "3 3  4.58 0.16 1.61 0.08  3.68 0.16 0.17 0.04 2.1 ⋯  16.81831    -0.33638239\n",
       "4 4  4.55 0.10 2.15 0.11  2.92 0.12 1.48 0.39 3.1 ⋯ 360.00000     0.15719832\n",
       "5 5  4.71 0.35 2.42 0.12  2.41 0.15 1.67 0.69 3.4 ⋯  68.29136     0.06544724\n",
       "6 6  5.21 0.17 1.61 0.08  4.57 0.14 1.19 0.37 0.4 ⋯ 209.31070    -0.03093096\n",
       "  S2_49_TRI S2_50_flowdir S2_51__ACP_1 S2_52__ACP_2 S2_53__ACP_3 coords.x1\n",
       "1 0.5321983  64           -0.18855515   0.004775629 -0.007336683 512538   \n",
       "2 0.3386931  64            0.19860272  -0.198087066  0.009015589 512126   \n",
       "3 0.6525297  64           -0.06107873   0.034771886 -0.015924960 512766   \n",
       "4 0.1571983  64            0.08259204   0.108550020 -0.035339050 513263   \n",
       "5 0.5926337 128           -0.15904658   0.050500572 -0.033408940 512480   \n",
       "6 0.7773618   8           -0.18136331   0.041864749  0.016451184 513006   \n",
       "  coords.x2 optional\n",
       "1 9056311   TRUE    \n",
       "2 9057087   TRUE    \n",
       "3 9056489   TRUE    \n",
       "4 9055598   TRUE    \n",
       "5 9056451   TRUE    \n",
       "6 9056074   TRUE    "
      ]
     },
     "metadata": {},
     "output_type": "display_data"
    }
   ],
   "source": [
    "head(dav)"
   ]
  },
  {
   "cell_type": "code",
   "execution_count": 7,
   "id": "936ffa78-d216-410d-9699-f64d80590eb8",
   "metadata": {
    "tags": []
   },
   "outputs": [],
   "source": [
    "n_max <- ncol(dav) - 1\n",
    "n_min <- ncol(dav) - 2"
   ]
  },
  {
   "cell_type": "code",
   "execution_count": 8,
   "id": "354cbb4c-361f-4749-9828-d6d5223add74",
   "metadata": {
    "tags": []
   },
   "outputs": [
    {
     "data": {
      "text/html": [
       "<table class=\"dataframe\">\n",
       "<caption>A data.frame: 60 × 2</caption>\n",
       "<thead>\n",
       "\t<tr><th scope=col>coords.x1</th><th scope=col>coords.x2</th></tr>\n",
       "\t<tr><th scope=col>&lt;int&gt;</th><th scope=col>&lt;int&gt;</th></tr>\n",
       "</thead>\n",
       "<tbody>\n",
       "\t<tr><td>512538</td><td>9056311</td></tr>\n",
       "\t<tr><td>512126</td><td>9057087</td></tr>\n",
       "\t<tr><td>512766</td><td>9056489</td></tr>\n",
       "\t<tr><td>513263</td><td>9055598</td></tr>\n",
       "\t<tr><td>512480</td><td>9056451</td></tr>\n",
       "\t<tr><td>513006</td><td>9056074</td></tr>\n",
       "\t<tr><td>513216</td><td>9055683</td></tr>\n",
       "\t<tr><td>512792</td><td>9056269</td></tr>\n",
       "\t<tr><td>512919</td><td>9056237</td></tr>\n",
       "\t<tr><td>512195</td><td>9056805</td></tr>\n",
       "\t<tr><td>513194</td><td>9055999</td></tr>\n",
       "\t<tr><td>511953</td><td>9056986</td></tr>\n",
       "\t<tr><td>512581</td><td>9056579</td></tr>\n",
       "\t<tr><td>513150</td><td>9055818</td></tr>\n",
       "\t<tr><td>512264</td><td>9056605</td></tr>\n",
       "\t<tr><td>512325</td><td>9056816</td></tr>\n",
       "\t<tr><td>512396</td><td>9056711</td></tr>\n",
       "\t<tr><td>512135</td><td>9056902</td></tr>\n",
       "\t<tr><td>512089</td><td>9056991</td></tr>\n",
       "\t<tr><td>512998</td><td>9055943</td></tr>\n",
       "\t<tr><td>512572</td><td>9056671</td></tr>\n",
       "\t<tr><td>512821</td><td>9056154</td></tr>\n",
       "\t<tr><td>512439</td><td>9056834</td></tr>\n",
       "\t<tr><td>512309</td><td>9056967</td></tr>\n",
       "\t<tr><td>512640</td><td>9056425</td></tr>\n",
       "\t<tr><td>512427</td><td>9056601</td></tr>\n",
       "\t<tr><td>512919</td><td>9056040</td></tr>\n",
       "\t<tr><td>513236</td><td>9055922</td></tr>\n",
       "\t<tr><td>513000</td><td>9056191</td></tr>\n",
       "\t<tr><td>513053</td><td>9056127</td></tr>\n",
       "\t<tr><td>513224</td><td>9055848</td></tr>\n",
       "\t<tr><td>513309</td><td>9055873</td></tr>\n",
       "\t<tr><td>512837</td><td>9056369</td></tr>\n",
       "\t<tr><td>512744</td><td>9056358</td></tr>\n",
       "\t<tr><td>512727</td><td>9056299</td></tr>\n",
       "\t<tr><td>512683</td><td>9056301</td></tr>\n",
       "\t<tr><td>512638</td><td>9056523</td></tr>\n",
       "\t<tr><td>512560</td><td>9056441</td></tr>\n",
       "\t<tr><td>512600</td><td>9056483</td></tr>\n",
       "\t<tr><td>512632</td><td>9056625</td></tr>\n",
       "\t<tr><td>512549</td><td>9056612</td></tr>\n",
       "\t<tr><td>512479</td><td>9056705</td></tr>\n",
       "\t<tr><td>512477</td><td>9056631</td></tr>\n",
       "\t<tr><td>512469</td><td>9056525</td></tr>\n",
       "\t<tr><td>512382</td><td>9056468</td></tr>\n",
       "\t<tr><td>512318</td><td>9056669</td></tr>\n",
       "\t<tr><td>512270</td><td>9056843</td></tr>\n",
       "\t<tr><td>512236</td><td>9057010</td></tr>\n",
       "\t<tr><td>512189</td><td>9056964</td></tr>\n",
       "\t<tr><td>512052</td><td>9056811</td></tr>\n",
       "\t<tr><td>512005</td><td>9056868</td></tr>\n",
       "\t<tr><td>512071</td><td>9057046</td></tr>\n",
       "\t<tr><td>512090</td><td>9057116</td></tr>\n",
       "\t<tr><td>512166</td><td>9057120</td></tr>\n",
       "\t<tr><td>512005</td><td>9056970</td></tr>\n",
       "\t<tr><td>512466</td><td>9056373</td></tr>\n",
       "\t<tr><td>512218</td><td>9056873</td></tr>\n",
       "\t<tr><td>512098</td><td>9056849</td></tr>\n",
       "\t<tr><td>512205</td><td>9056700</td></tr>\n",
       "\t<tr><td>512708</td><td>9056443</td></tr>\n",
       "</tbody>\n",
       "</table>\n"
      ],
      "text/latex": [
       "A data.frame: 60 × 2\n",
       "\\begin{tabular}{ll}\n",
       " coords.x1 & coords.x2\\\\\n",
       " <int> & <int>\\\\\n",
       "\\hline\n",
       "\t 512538 & 9056311\\\\\n",
       "\t 512126 & 9057087\\\\\n",
       "\t 512766 & 9056489\\\\\n",
       "\t 513263 & 9055598\\\\\n",
       "\t 512480 & 9056451\\\\\n",
       "\t 513006 & 9056074\\\\\n",
       "\t 513216 & 9055683\\\\\n",
       "\t 512792 & 9056269\\\\\n",
       "\t 512919 & 9056237\\\\\n",
       "\t 512195 & 9056805\\\\\n",
       "\t 513194 & 9055999\\\\\n",
       "\t 511953 & 9056986\\\\\n",
       "\t 512581 & 9056579\\\\\n",
       "\t 513150 & 9055818\\\\\n",
       "\t 512264 & 9056605\\\\\n",
       "\t 512325 & 9056816\\\\\n",
       "\t 512396 & 9056711\\\\\n",
       "\t 512135 & 9056902\\\\\n",
       "\t 512089 & 9056991\\\\\n",
       "\t 512998 & 9055943\\\\\n",
       "\t 512572 & 9056671\\\\\n",
       "\t 512821 & 9056154\\\\\n",
       "\t 512439 & 9056834\\\\\n",
       "\t 512309 & 9056967\\\\\n",
       "\t 512640 & 9056425\\\\\n",
       "\t 512427 & 9056601\\\\\n",
       "\t 512919 & 9056040\\\\\n",
       "\t 513236 & 9055922\\\\\n",
       "\t 513000 & 9056191\\\\\n",
       "\t 513053 & 9056127\\\\\n",
       "\t 513224 & 9055848\\\\\n",
       "\t 513309 & 9055873\\\\\n",
       "\t 512837 & 9056369\\\\\n",
       "\t 512744 & 9056358\\\\\n",
       "\t 512727 & 9056299\\\\\n",
       "\t 512683 & 9056301\\\\\n",
       "\t 512638 & 9056523\\\\\n",
       "\t 512560 & 9056441\\\\\n",
       "\t 512600 & 9056483\\\\\n",
       "\t 512632 & 9056625\\\\\n",
       "\t 512549 & 9056612\\\\\n",
       "\t 512479 & 9056705\\\\\n",
       "\t 512477 & 9056631\\\\\n",
       "\t 512469 & 9056525\\\\\n",
       "\t 512382 & 9056468\\\\\n",
       "\t 512318 & 9056669\\\\\n",
       "\t 512270 & 9056843\\\\\n",
       "\t 512236 & 9057010\\\\\n",
       "\t 512189 & 9056964\\\\\n",
       "\t 512052 & 9056811\\\\\n",
       "\t 512005 & 9056868\\\\\n",
       "\t 512071 & 9057046\\\\\n",
       "\t 512090 & 9057116\\\\\n",
       "\t 512166 & 9057120\\\\\n",
       "\t 512005 & 9056970\\\\\n",
       "\t 512466 & 9056373\\\\\n",
       "\t 512218 & 9056873\\\\\n",
       "\t 512098 & 9056849\\\\\n",
       "\t 512205 & 9056700\\\\\n",
       "\t 512708 & 9056443\\\\\n",
       "\\end{tabular}\n"
      ],
      "text/markdown": [
       "\n",
       "A data.frame: 60 × 2\n",
       "\n",
       "| coords.x1 &lt;int&gt; | coords.x2 &lt;int&gt; |\n",
       "|---|---|\n",
       "| 512538 | 9056311 |\n",
       "| 512126 | 9057087 |\n",
       "| 512766 | 9056489 |\n",
       "| 513263 | 9055598 |\n",
       "| 512480 | 9056451 |\n",
       "| 513006 | 9056074 |\n",
       "| 513216 | 9055683 |\n",
       "| 512792 | 9056269 |\n",
       "| 512919 | 9056237 |\n",
       "| 512195 | 9056805 |\n",
       "| 513194 | 9055999 |\n",
       "| 511953 | 9056986 |\n",
       "| 512581 | 9056579 |\n",
       "| 513150 | 9055818 |\n",
       "| 512264 | 9056605 |\n",
       "| 512325 | 9056816 |\n",
       "| 512396 | 9056711 |\n",
       "| 512135 | 9056902 |\n",
       "| 512089 | 9056991 |\n",
       "| 512998 | 9055943 |\n",
       "| 512572 | 9056671 |\n",
       "| 512821 | 9056154 |\n",
       "| 512439 | 9056834 |\n",
       "| 512309 | 9056967 |\n",
       "| 512640 | 9056425 |\n",
       "| 512427 | 9056601 |\n",
       "| 512919 | 9056040 |\n",
       "| 513236 | 9055922 |\n",
       "| 513000 | 9056191 |\n",
       "| 513053 | 9056127 |\n",
       "| 513224 | 9055848 |\n",
       "| 513309 | 9055873 |\n",
       "| 512837 | 9056369 |\n",
       "| 512744 | 9056358 |\n",
       "| 512727 | 9056299 |\n",
       "| 512683 | 9056301 |\n",
       "| 512638 | 9056523 |\n",
       "| 512560 | 9056441 |\n",
       "| 512600 | 9056483 |\n",
       "| 512632 | 9056625 |\n",
       "| 512549 | 9056612 |\n",
       "| 512479 | 9056705 |\n",
       "| 512477 | 9056631 |\n",
       "| 512469 | 9056525 |\n",
       "| 512382 | 9056468 |\n",
       "| 512318 | 9056669 |\n",
       "| 512270 | 9056843 |\n",
       "| 512236 | 9057010 |\n",
       "| 512189 | 9056964 |\n",
       "| 512052 | 9056811 |\n",
       "| 512005 | 9056868 |\n",
       "| 512071 | 9057046 |\n",
       "| 512090 | 9057116 |\n",
       "| 512166 | 9057120 |\n",
       "| 512005 | 9056970 |\n",
       "| 512466 | 9056373 |\n",
       "| 512218 | 9056873 |\n",
       "| 512098 | 9056849 |\n",
       "| 512205 | 9056700 |\n",
       "| 512708 | 9056443 |\n",
       "\n"
      ],
      "text/plain": [
       "   coords.x1 coords.x2\n",
       "1  512538    9056311  \n",
       "2  512126    9057087  \n",
       "3  512766    9056489  \n",
       "4  513263    9055598  \n",
       "5  512480    9056451  \n",
       "6  513006    9056074  \n",
       "7  513216    9055683  \n",
       "8  512792    9056269  \n",
       "9  512919    9056237  \n",
       "10 512195    9056805  \n",
       "11 513194    9055999  \n",
       "12 511953    9056986  \n",
       "13 512581    9056579  \n",
       "14 513150    9055818  \n",
       "15 512264    9056605  \n",
       "16 512325    9056816  \n",
       "17 512396    9056711  \n",
       "18 512135    9056902  \n",
       "19 512089    9056991  \n",
       "20 512998    9055943  \n",
       "21 512572    9056671  \n",
       "22 512821    9056154  \n",
       "23 512439    9056834  \n",
       "24 512309    9056967  \n",
       "25 512640    9056425  \n",
       "26 512427    9056601  \n",
       "27 512919    9056040  \n",
       "28 513236    9055922  \n",
       "29 513000    9056191  \n",
       "30 513053    9056127  \n",
       "31 513224    9055848  \n",
       "32 513309    9055873  \n",
       "33 512837    9056369  \n",
       "34 512744    9056358  \n",
       "35 512727    9056299  \n",
       "36 512683    9056301  \n",
       "37 512638    9056523  \n",
       "38 512560    9056441  \n",
       "39 512600    9056483  \n",
       "40 512632    9056625  \n",
       "41 512549    9056612  \n",
       "42 512479    9056705  \n",
       "43 512477    9056631  \n",
       "44 512469    9056525  \n",
       "45 512382    9056468  \n",
       "46 512318    9056669  \n",
       "47 512270    9056843  \n",
       "48 512236    9057010  \n",
       "49 512189    9056964  \n",
       "50 512052    9056811  \n",
       "51 512005    9056868  \n",
       "52 512071    9057046  \n",
       "53 512090    9057116  \n",
       "54 512166    9057120  \n",
       "55 512005    9056970  \n",
       "56 512466    9056373  \n",
       "57 512218    9056873  \n",
       "58 512098    9056849  \n",
       "59 512205    9056700  \n",
       "60 512708    9056443  "
      ]
     },
     "metadata": {},
     "output_type": "display_data"
    }
   ],
   "source": [
    "xyz = dav[n_min:n_max]\n",
    "xyz"
   ]
  },
  {
   "cell_type": "code",
   "execution_count": 9,
   "id": "c197be6b-96f2-44dc-b5cd-1fb50b2d7b52",
   "metadata": {
    "tags": []
   },
   "outputs": [],
   "source": [
    "names(xyz) = c(\"ESTE\", \"NORTE\")"
   ]
  },
  {
   "cell_type": "code",
   "execution_count": 10,
   "id": "53eb09d4-7d38-400a-95cf-59e2068f9a5a",
   "metadata": {
    "tags": []
   },
   "outputs": [
    {
     "data": {
      "text/html": [
       "73"
      ],
      "text/latex": [
       "73"
      ],
      "text/markdown": [
       "73"
      ],
      "text/plain": [
       "[1] 73"
      ]
     },
     "metadata": {},
     "output_type": "display_data"
    }
   ],
   "source": [
    "ncol(dav)"
   ]
  },
  {
   "cell_type": "code",
   "execution_count": 13,
   "id": "4b315282-c1ab-4378-9a6d-68f84136da47",
   "metadata": {
    "tags": []
   },
   "outputs": [
    {
     "data": {
      "text/html": [
       "<table class=\"dataframe\">\n",
       "<caption>A data.frame: 60 × 15</caption>\n",
       "<thead>\n",
       "\t<tr><th scope=col>pH</th><th scope=col>CE</th><th scope=col>MO</th><th scope=col>N</th><th scope=col>P</th><th scope=col>K</th><th scope=col>Ca</th><th scope=col>Mg</th><th scope=col>Al</th><th scope=col>CICe</th><th scope=col>BT</th><th scope=col>SAl</th><th scope=col>Arena</th><th scope=col>Limo</th><th scope=col>Arcilla</th></tr>\n",
       "\t<tr><th scope=col>&lt;dbl&gt;</th><th scope=col>&lt;dbl&gt;</th><th scope=col>&lt;dbl&gt;</th><th scope=col>&lt;dbl&gt;</th><th scope=col>&lt;dbl&gt;</th><th scope=col>&lt;dbl&gt;</th><th scope=col>&lt;dbl&gt;</th><th scope=col>&lt;dbl&gt;</th><th scope=col>&lt;dbl&gt;</th><th scope=col>&lt;dbl&gt;</th><th scope=col>&lt;dbl&gt;</th><th scope=col>&lt;dbl&gt;</th><th scope=col>&lt;dbl&gt;</th><th scope=col>&lt;dbl&gt;</th><th scope=col>&lt;dbl&gt;</th></tr>\n",
       "</thead>\n",
       "<tbody>\n",
       "\t<tr><td>4.32</td><td>1.20</td><td>1.48</td><td>0.07</td><td>27.91</td><td>0.21</td><td>0.26</td><td>0.02</td><td>1.90</td><td>2.38</td><td>0.48</td><td>79.69</td><td>62.90</td><td>16.16</td><td>20.94</td></tr>\n",
       "\t<tr><td>5.00</td><td>0.13</td><td>2.29</td><td>0.11</td><td> 2.28</td><td>0.18</td><td>1.67</td><td>0.83</td><td>1.10</td><td>3.77</td><td>2.67</td><td>29.14</td><td>54.90</td><td>20.16</td><td>24.94</td></tr>\n",
       "\t<tr><td>4.58</td><td>0.16</td><td>1.61</td><td>0.08</td><td> 3.68</td><td>0.16</td><td>0.17</td><td>0.04</td><td>2.10</td><td>2.47</td><td>0.37</td><td>85.09</td><td>62.90</td><td>16.16</td><td>20.94</td></tr>\n",
       "\t<tr><td>4.55</td><td>0.10</td><td>2.15</td><td>0.11</td><td> 2.92</td><td>0.12</td><td>1.48</td><td>0.39</td><td>3.10</td><td>5.08</td><td>1.98</td><td>60.97</td><td>36.90</td><td>32.16</td><td>30.94</td></tr>\n",
       "\t<tr><td>4.71</td><td>0.35</td><td>2.42</td><td>0.12</td><td> 2.41</td><td>0.15</td><td>1.67</td><td>0.69</td><td>3.40</td><td>5.91</td><td>2.51</td><td>57.50</td><td>44.90</td><td>20.16</td><td>34.94</td></tr>\n",
       "\t<tr><td>5.21</td><td>0.17</td><td>1.61</td><td>0.08</td><td> 4.57</td><td>0.14</td><td>1.19</td><td>0.37</td><td>0.40</td><td>2.10</td><td>1.70</td><td>19.07</td><td>66.90</td><td>14.16</td><td>18.94</td></tr>\n",
       "\t<tr><td>4.66</td><td>0.06</td><td>1.75</td><td>0.09</td><td> 1.65</td><td>0.16</td><td>0.82</td><td>0.23</td><td>3.80</td><td>5.00</td><td>1.20</td><td>76.05</td><td>45.77</td><td>23.66</td><td>30.58</td></tr>\n",
       "\t<tr><td>5.36</td><td>0.18</td><td>0.94</td><td>0.05</td><td> 1.14</td><td>0.07</td><td>1.66</td><td>0.20</td><td>0.20</td><td>2.13</td><td>1.93</td><td> 9.39</td><td>67.77</td><td>13.66</td><td>18.58</td></tr>\n",
       "\t<tr><td>4.89</td><td>0.15</td><td>1.48</td><td>0.07</td><td> 1.52</td><td>0.08</td><td>0.54</td><td>0.11</td><td>0.70</td><td>1.43</td><td>0.73</td><td>49.02</td><td>57.77</td><td>21.66</td><td>20.58</td></tr>\n",
       "\t<tr><td>4.57</td><td>0.13</td><td>2.02</td><td>0.10</td><td>10.15</td><td>0.14</td><td>0.45</td><td>0.10</td><td>3.10</td><td>3.79</td><td>0.69</td><td>81.88</td><td>51.77</td><td>17.66</td><td>30.58</td></tr>\n",
       "\t<tr><td>5.18</td><td>0.11</td><td>2.29</td><td>0.11</td><td> 1.01</td><td>0.06</td><td>1.10</td><td>0.13</td><td>0.70</td><td>1.99</td><td>1.29</td><td>35.22</td><td>61.77</td><td>17.66</td><td>20.58</td></tr>\n",
       "\t<tr><td>4.61</td><td>0.18</td><td>1.34</td><td>0.07</td><td> 1.90</td><td>0.22</td><td>0.45</td><td>0.24</td><td>4.20</td><td>5.11</td><td>0.91</td><td>82.20</td><td>43.77</td><td>23.66</td><td>32.58</td></tr>\n",
       "\t<tr><td>4.24</td><td>0.11</td><td>2.02</td><td>0.10</td><td> 2.03</td><td>0.13</td><td>0.17</td><td>0.21</td><td>6.80</td><td>7.31</td><td>0.51</td><td>93.03</td><td>15.77</td><td>43.73</td><td>40.50</td></tr>\n",
       "\t<tr><td>4.81</td><td>0.09</td><td>2.29</td><td>0.11</td><td> 2.41</td><td>0.35</td><td>0.91</td><td>0.40</td><td>2.40</td><td>4.05</td><td>1.65</td><td>59.24</td><td>55.77</td><td>15.73</td><td>28.50</td></tr>\n",
       "\t<tr><td>4.50</td><td>0.12</td><td>1.34</td><td>0.07</td><td> 4.69</td><td>0.09</td><td>1.10</td><td>0.13</td><td>3.90</td><td>5.21</td><td>1.31</td><td>74.86</td><td>41.77</td><td>27.73</td><td>30.50</td></tr>\n",
       "\t<tr><td>4.93</td><td>0.22</td><td>1.88</td><td>0.09</td><td>23.09</td><td>0.31</td><td>3.05</td><td>1.08</td><td>1.40</td><td>5.84</td><td>4.44</td><td>23.98</td><td>45.77</td><td>23.73</td><td>30.50</td></tr>\n",
       "\t<tr><td>4.37</td><td>0.61</td><td>1.88</td><td>0.09</td><td>28.92</td><td>0.14</td><td>1.19</td><td>0.19</td><td>5.20</td><td>6.72</td><td>1.52</td><td>77.41</td><td>49.77</td><td>15.73</td><td>34.50</td></tr>\n",
       "\t<tr><td>4.70</td><td>0.17</td><td>2.15</td><td>0.11</td><td> 5.96</td><td>0.20</td><td>0.91</td><td>0.22</td><td>2.30</td><td>3.62</td><td>1.32</td><td>63.55</td><td>55.77</td><td>17.73</td><td>26.50</td></tr>\n",
       "\t<tr><td>4.80</td><td>0.10</td><td>2.29</td><td>0.11</td><td> 4.19</td><td>0.14</td><td>1.57</td><td>0.46</td><td>2.10</td><td>4.27</td><td>2.17</td><td>49.19</td><td>49.91</td><td>19.58</td><td>30.50</td></tr>\n",
       "\t<tr><td>5.29</td><td>0.05</td><td>1.75</td><td>0.09</td><td> 1.40</td><td>0.17</td><td>2.55</td><td>0.59</td><td>0.60</td><td>3.92</td><td>3.32</td><td>15.32</td><td>41.91</td><td>33.58</td><td>24.50</td></tr>\n",
       "\t<tr><td>4.72</td><td>0.18</td><td>1.61</td><td>0.08</td><td> 0.89</td><td>0.16</td><td>0.91</td><td>0.25</td><td>4.50</td><td>5.82</td><td>1.32</td><td>77.33</td><td>23.91</td><td>33.58</td><td>42.50</td></tr>\n",
       "\t<tr><td>5.22</td><td>0.08</td><td>1.61</td><td>0.08</td><td> 1.65</td><td>0.19</td><td>3.46</td><td>0.46</td><td>0.30</td><td>4.41</td><td>4.11</td><td> 6.80</td><td>45.91</td><td>29.58</td><td>24.50</td></tr>\n",
       "\t<tr><td>4.60</td><td>0.10</td><td>2.02</td><td>0.10</td><td> 4.06</td><td>0.14</td><td>0.82</td><td>0.07</td><td>3.10</td><td>4.12</td><td>1.02</td><td>75.29</td><td>57.91</td><td>13.58</td><td>28.50</td></tr>\n",
       "\t<tr><td>4.84</td><td>0.04</td><td>1.75</td><td>0.09</td><td> 2.16</td><td>0.21</td><td>1.38</td><td>0.40</td><td>2.30</td><td>4.29</td><td>1.99</td><td>53.58</td><td>43.91</td><td>25.58</td><td>30.50</td></tr>\n",
       "\t<tr><td>5.21</td><td>0.10</td><td>1.61</td><td>0.08</td><td> 1.14</td><td>0.26</td><td>0.72</td><td>0.23</td><td>0.40</td><td>1.62</td><td>1.22</td><td>24.73</td><td>66.13</td><td>15.15</td><td>18.72</td></tr>\n",
       "\t<tr><td>4.79</td><td>0.13</td><td>2.42</td><td>0.12</td><td> 2.54</td><td>0.25</td><td>1.67</td><td>0.59</td><td>1.20</td><td>3.71</td><td>2.51</td><td>32.36</td><td>58.13</td><td>15.15</td><td>26.72</td></tr>\n",
       "\t<tr><td>5.20</td><td>0.06</td><td>1.75</td><td>0.09</td><td> 1.65</td><td>0.13</td><td>1.86</td><td>0.48</td><td>0.50</td><td>2.97</td><td>2.47</td><td>16.84</td><td>58.13</td><td>19.15</td><td>22.72</td></tr>\n",
       "\t<tr><td>4.50</td><td>0.15</td><td>2.02</td><td>0.10</td><td> 1.65</td><td>0.14</td><td>0.91</td><td>0.17</td><td>3.20</td><td>4.41</td><td>1.21</td><td>72.52</td><td>54.13</td><td>15.15</td><td>30.72</td></tr>\n",
       "\t<tr><td>5.90</td><td>1.80</td><td>3.80</td><td>0.15</td><td> 1.78</td><td>0.33</td><td>4.28</td><td>0.19</td><td>1.00</td><td>6.20</td><td>4.80</td><td>16.04</td><td>66.94</td><td>18.47</td><td>14.60</td></tr>\n",
       "\t<tr><td>5.60</td><td>1.89</td><td>3.40</td><td>0.14</td><td> 2.28</td><td>0.80</td><td>4.38</td><td>0.47</td><td>3.03</td><td>9.03</td><td>5.65</td><td>33.58</td><td>64.94</td><td>16.47</td><td>18.60</td></tr>\n",
       "\t<tr><td>5.20</td><td>2.53</td><td>6.90</td><td>0.28</td><td>11.29</td><td>0.45</td><td>1.97</td><td>0.07</td><td>1.00</td><td>3.88</td><td>2.49</td><td>25.66</td><td>64.57</td><td>24.83</td><td>10.60</td></tr>\n",
       "\t<tr><td>5.00</td><td>2.51</td><td>4.10</td><td>0.16</td><td>13.95</td><td>0.59</td><td>2.58</td><td>0.08</td><td>1.61</td><td>5.12</td><td>3.25</td><td>31.33</td><td>44.57</td><td>26.83</td><td>28.60</td></tr>\n",
       "\t<tr><td>4.90</td><td>1.87</td><td>3.70</td><td>0.15</td><td>13.07</td><td>0.67</td><td>2.43</td><td>0.38</td><td>1.20</td><td>4.96</td><td>3.48</td><td>24.17</td><td>56.57</td><td>26.68</td><td>16.75</td></tr>\n",
       "\t<tr><td>5.00</td><td>1.04</td><td>1.80</td><td>0.07</td><td> 8.75</td><td>0.35</td><td>1.49</td><td>0.07</td><td>0.79</td><td>3.10</td><td>1.91</td><td>25.52</td><td>78.57</td><td> 8.68</td><td>12.75</td></tr>\n",
       "\t<tr><td>5.30</td><td>2.21</td><td>1.10</td><td>0.04</td><td> 7.10</td><td>1.10</td><td>1.31</td><td>0.02</td><td>1.20</td><td>4.05</td><td>2.43</td><td>29.57</td><td>80.57</td><td> 8.68</td><td>10.75</td></tr>\n",
       "\t<tr><td>5.10</td><td>3.06</td><td>1.50</td><td>0.06</td><td> 3.81</td><td>0.93</td><td>1.66</td><td>0.01</td><td>1.20</td><td>4.10</td><td>2.60</td><td>29.24</td><td>76.57</td><td>10.68</td><td>12.75</td></tr>\n",
       "\t<tr><td>5.20</td><td>1.33</td><td>2.60</td><td>0.10</td><td>13.07</td><td>0.88</td><td>1.31</td><td>0.04</td><td>1.20</td><td>3.71</td><td>2.23</td><td>32.33</td><td>63.32</td><td>23.93</td><td>12.75</td></tr>\n",
       "\t<tr><td>5.10</td><td>1.69</td><td>2.90</td><td>0.12</td><td> 2.28</td><td>0.31</td><td>1.16</td><td>0.01</td><td>1.00</td><td>2.78</td><td>1.48</td><td>35.83</td><td>71.32</td><td>17.27</td><td>11.40</td></tr>\n",
       "\t<tr><td>5.40</td><td>3.80</td><td>3.00</td><td>0.12</td><td> 2.28</td><td>2.69</td><td>3.27</td><td>1.11</td><td>1.40</td><td>8.79</td><td>7.08</td><td>15.95</td><td>69.32</td><td>15.27</td><td>15.40</td></tr>\n",
       "\t<tr><td>4.70</td><td>3.75</td><td>2.50</td><td>0.10</td><td> 9.51</td><td>0.57</td><td>1.24</td><td>0.02</td><td>1.40</td><td>3.50</td><td>1.83</td><td>40.07</td><td>43.32</td><td>35.27</td><td>21.40</td></tr>\n",
       "\t<tr><td>4.30</td><td>2.78</td><td>1.70</td><td>0.07</td><td> 4.95</td><td>0.37</td><td>1.02</td><td>0.02</td><td>1.20</td><td>2.96</td><td>1.41</td><td>40.55</td><td>83.32</td><td> 5.05</td><td>11.63</td></tr>\n",
       "\t<tr><td>4.50</td><td>4.05</td><td>5.70</td><td>0.23</td><td> 4.57</td><td>0.82</td><td>2.24</td><td>0.09</td><td>1.61</td><td>5.71</td><td>3.15</td><td>28.10</td><td>69.32</td><td>15.05</td><td>15.63</td></tr>\n",
       "\t<tr><td>4.20</td><td>4.19</td><td>3.30</td><td>0.13</td><td> 4.44</td><td>0.41</td><td>1.54</td><td>0.02</td><td>1.81</td><td>4.72</td><td>1.97</td><td>38.31</td><td>65.32</td><td>21.05</td><td>13.63</td></tr>\n",
       "\t<tr><td>4.40</td><td>1.68</td><td>6.30</td><td>0.25</td><td> 3.68</td><td>0.46</td><td>2.02</td><td>0.10</td><td>2.22</td><td>5.46</td><td>2.58</td><td>40.59</td><td>37.32</td><td>31.05</td><td>31.63</td></tr>\n",
       "\t<tr><td>4.20</td><td>3.69</td><td>2.50</td><td>0.10</td><td> 2.92</td><td>0.52</td><td>1.25</td><td>0.04</td><td>1.81</td><td>4.26</td><td>1.81</td><td>42.44</td><td>47.40</td><td>28.39</td><td>24.21</td></tr>\n",
       "\t<tr><td>4.40</td><td>2.46</td><td>4.50</td><td>0.18</td><td> 9.01</td><td>0.99</td><td>2.28</td><td>0.05</td><td>1.81</td><td>5.71</td><td>3.32</td><td>31.68</td><td>45.40</td><td>30.39</td><td>24.21</td></tr>\n",
       "\t<tr><td>4.60</td><td>3.32</td><td>2.20</td><td>0.09</td><td> 4.57</td><td>0.66</td><td>2.27</td><td>0.13</td><td>1.00</td><td>4.67</td><td>3.06</td><td>21.30</td><td>55.32</td><td>26.47</td><td>18.21</td></tr>\n",
       "\t<tr><td>4.90</td><td>2.69</td><td>3.20</td><td>0.13</td><td> 6.98</td><td>1.03</td><td>1.99</td><td>0.11</td><td>1.81</td><td>5.43</td><td>3.13</td><td>33.30</td><td>57.32</td><td>26.47</td><td>16.21</td></tr>\n",
       "\t<tr><td>5.10</td><td>2.30</td><td>3.80</td><td>0.15</td><td> 4.19</td><td>1.17</td><td>2.22</td><td>0.23</td><td>1.20</td><td>5.80</td><td>3.62</td><td>20.68</td><td>62.67</td><td>24.83</td><td>12.50</td></tr>\n",
       "\t<tr><td>4.70</td><td>1.66</td><td>2.30</td><td>0.09</td><td> 2.03</td><td>0.45</td><td>1.50</td><td>0.04</td><td>1.61</td><td>4.49</td><td>1.98</td><td>35.77</td><td>56.67</td><td>16.83</td><td>26.50</td></tr>\n",
       "\t<tr><td>4.80</td><td>1.25</td><td>5.00</td><td>0.20</td><td> 2.92</td><td>0.50</td><td>1.76</td><td>0.03</td><td>1.81</td><td>5.17</td><td>2.30</td><td>34.97</td><td>58.67</td><td>20.83</td><td>20.50</td></tr>\n",
       "\t<tr><td>4.70</td><td>1.98</td><td>4.40</td><td>0.18</td><td> 2.16</td><td>0.67</td><td>3.56</td><td>0.04</td><td>2.42</td><td>7.25</td><td>4.27</td><td>33.36</td><td>48.67</td><td>12.83</td><td>38.50</td></tr>\n",
       "\t<tr><td>4.80</td><td>1.34</td><td>0.90</td><td>0.04</td><td> 1.65</td><td>0.45</td><td>2.59</td><td>0.01</td><td>1.40</td><td>5.22</td><td>3.05</td><td>26.88</td><td>62.67</td><td>12.98</td><td>24.36</td></tr>\n",
       "\t<tr><td>4.80</td><td>1.96</td><td>1.80</td><td>0.07</td><td> 2.03</td><td>0.34</td><td>2.49</td><td>0.02</td><td>1.81</td><td>5.16</td><td>2.85</td><td>35.06</td><td>66.67</td><td>10.98</td><td>22.36</td></tr>\n",
       "\t<tr><td>4.80</td><td>2.46</td><td>2.50</td><td>0.10</td><td> 1.78</td><td>1.07</td><td>2.04</td><td>0.01</td><td>1.61</td><td>5.39</td><td>3.12</td><td>29.80</td><td>76.67</td><td>10.98</td><td>12.36</td></tr>\n",
       "\t<tr><td>4.30</td><td>3.23</td><td>1.90</td><td>0.08</td><td> 1.90</td><td>0.41</td><td>1.60</td><td>0.01</td><td>1.20</td><td>3.90</td><td>2.02</td><td>30.74</td><td>66.67</td><td>18.98</td><td>14.36</td></tr>\n",
       "\t<tr><td>4.60</td><td>1.72</td><td>1.80</td><td>0.07</td><td> 3.30</td><td>0.46</td><td>2.39</td><td>0.01</td><td>1.61</td><td>5.18</td><td>2.86</td><td>30.98</td><td>68.52</td><td>12.83</td><td>18.65</td></tr>\n",
       "\t<tr><td>4.50</td><td>2.35</td><td>2.20</td><td>0.09</td><td> 1.90</td><td>0.39</td><td>1.35</td><td>0.01</td><td>1.61</td><td>3.90</td><td>1.74</td><td>41.13</td><td>60.52</td><td>18.83</td><td>20.65</td></tr>\n",
       "\t<tr><td>4.50</td><td>2.80</td><td>4.10</td><td>0.16</td><td>17.51</td><td>0.95</td><td>1.91</td><td>0.01</td><td>1.40</td><td>5.26</td><td>2.87</td><td>26.65</td><td>64.52</td><td>18.83</td><td>16.65</td></tr>\n",
       "\t<tr><td>4.40</td><td>1.70</td><td>0.60</td><td>0.02</td><td> 1.65</td><td>0.79</td><td>1.77</td><td>0.00</td><td>1.00</td><td>4.47</td><td>2.57</td><td>22.26</td><td>82.52</td><td> 4.83</td><td>12.65</td></tr>\n",
       "</tbody>\n",
       "</table>\n"
      ],
      "text/latex": [
       "A data.frame: 60 × 15\n",
       "\\begin{tabular}{lllllllllllllll}\n",
       " pH & CE & MO & N & P & K & Ca & Mg & Al & CICe & BT & SAl & Arena & Limo & Arcilla\\\\\n",
       " <dbl> & <dbl> & <dbl> & <dbl> & <dbl> & <dbl> & <dbl> & <dbl> & <dbl> & <dbl> & <dbl> & <dbl> & <dbl> & <dbl> & <dbl>\\\\\n",
       "\\hline\n",
       "\t 4.32 & 1.20 & 1.48 & 0.07 & 27.91 & 0.21 & 0.26 & 0.02 & 1.90 & 2.38 & 0.48 & 79.69 & 62.90 & 16.16 & 20.94\\\\\n",
       "\t 5.00 & 0.13 & 2.29 & 0.11 &  2.28 & 0.18 & 1.67 & 0.83 & 1.10 & 3.77 & 2.67 & 29.14 & 54.90 & 20.16 & 24.94\\\\\n",
       "\t 4.58 & 0.16 & 1.61 & 0.08 &  3.68 & 0.16 & 0.17 & 0.04 & 2.10 & 2.47 & 0.37 & 85.09 & 62.90 & 16.16 & 20.94\\\\\n",
       "\t 4.55 & 0.10 & 2.15 & 0.11 &  2.92 & 0.12 & 1.48 & 0.39 & 3.10 & 5.08 & 1.98 & 60.97 & 36.90 & 32.16 & 30.94\\\\\n",
       "\t 4.71 & 0.35 & 2.42 & 0.12 &  2.41 & 0.15 & 1.67 & 0.69 & 3.40 & 5.91 & 2.51 & 57.50 & 44.90 & 20.16 & 34.94\\\\\n",
       "\t 5.21 & 0.17 & 1.61 & 0.08 &  4.57 & 0.14 & 1.19 & 0.37 & 0.40 & 2.10 & 1.70 & 19.07 & 66.90 & 14.16 & 18.94\\\\\n",
       "\t 4.66 & 0.06 & 1.75 & 0.09 &  1.65 & 0.16 & 0.82 & 0.23 & 3.80 & 5.00 & 1.20 & 76.05 & 45.77 & 23.66 & 30.58\\\\\n",
       "\t 5.36 & 0.18 & 0.94 & 0.05 &  1.14 & 0.07 & 1.66 & 0.20 & 0.20 & 2.13 & 1.93 &  9.39 & 67.77 & 13.66 & 18.58\\\\\n",
       "\t 4.89 & 0.15 & 1.48 & 0.07 &  1.52 & 0.08 & 0.54 & 0.11 & 0.70 & 1.43 & 0.73 & 49.02 & 57.77 & 21.66 & 20.58\\\\\n",
       "\t 4.57 & 0.13 & 2.02 & 0.10 & 10.15 & 0.14 & 0.45 & 0.10 & 3.10 & 3.79 & 0.69 & 81.88 & 51.77 & 17.66 & 30.58\\\\\n",
       "\t 5.18 & 0.11 & 2.29 & 0.11 &  1.01 & 0.06 & 1.10 & 0.13 & 0.70 & 1.99 & 1.29 & 35.22 & 61.77 & 17.66 & 20.58\\\\\n",
       "\t 4.61 & 0.18 & 1.34 & 0.07 &  1.90 & 0.22 & 0.45 & 0.24 & 4.20 & 5.11 & 0.91 & 82.20 & 43.77 & 23.66 & 32.58\\\\\n",
       "\t 4.24 & 0.11 & 2.02 & 0.10 &  2.03 & 0.13 & 0.17 & 0.21 & 6.80 & 7.31 & 0.51 & 93.03 & 15.77 & 43.73 & 40.50\\\\\n",
       "\t 4.81 & 0.09 & 2.29 & 0.11 &  2.41 & 0.35 & 0.91 & 0.40 & 2.40 & 4.05 & 1.65 & 59.24 & 55.77 & 15.73 & 28.50\\\\\n",
       "\t 4.50 & 0.12 & 1.34 & 0.07 &  4.69 & 0.09 & 1.10 & 0.13 & 3.90 & 5.21 & 1.31 & 74.86 & 41.77 & 27.73 & 30.50\\\\\n",
       "\t 4.93 & 0.22 & 1.88 & 0.09 & 23.09 & 0.31 & 3.05 & 1.08 & 1.40 & 5.84 & 4.44 & 23.98 & 45.77 & 23.73 & 30.50\\\\\n",
       "\t 4.37 & 0.61 & 1.88 & 0.09 & 28.92 & 0.14 & 1.19 & 0.19 & 5.20 & 6.72 & 1.52 & 77.41 & 49.77 & 15.73 & 34.50\\\\\n",
       "\t 4.70 & 0.17 & 2.15 & 0.11 &  5.96 & 0.20 & 0.91 & 0.22 & 2.30 & 3.62 & 1.32 & 63.55 & 55.77 & 17.73 & 26.50\\\\\n",
       "\t 4.80 & 0.10 & 2.29 & 0.11 &  4.19 & 0.14 & 1.57 & 0.46 & 2.10 & 4.27 & 2.17 & 49.19 & 49.91 & 19.58 & 30.50\\\\\n",
       "\t 5.29 & 0.05 & 1.75 & 0.09 &  1.40 & 0.17 & 2.55 & 0.59 & 0.60 & 3.92 & 3.32 & 15.32 & 41.91 & 33.58 & 24.50\\\\\n",
       "\t 4.72 & 0.18 & 1.61 & 0.08 &  0.89 & 0.16 & 0.91 & 0.25 & 4.50 & 5.82 & 1.32 & 77.33 & 23.91 & 33.58 & 42.50\\\\\n",
       "\t 5.22 & 0.08 & 1.61 & 0.08 &  1.65 & 0.19 & 3.46 & 0.46 & 0.30 & 4.41 & 4.11 &  6.80 & 45.91 & 29.58 & 24.50\\\\\n",
       "\t 4.60 & 0.10 & 2.02 & 0.10 &  4.06 & 0.14 & 0.82 & 0.07 & 3.10 & 4.12 & 1.02 & 75.29 & 57.91 & 13.58 & 28.50\\\\\n",
       "\t 4.84 & 0.04 & 1.75 & 0.09 &  2.16 & 0.21 & 1.38 & 0.40 & 2.30 & 4.29 & 1.99 & 53.58 & 43.91 & 25.58 & 30.50\\\\\n",
       "\t 5.21 & 0.10 & 1.61 & 0.08 &  1.14 & 0.26 & 0.72 & 0.23 & 0.40 & 1.62 & 1.22 & 24.73 & 66.13 & 15.15 & 18.72\\\\\n",
       "\t 4.79 & 0.13 & 2.42 & 0.12 &  2.54 & 0.25 & 1.67 & 0.59 & 1.20 & 3.71 & 2.51 & 32.36 & 58.13 & 15.15 & 26.72\\\\\n",
       "\t 5.20 & 0.06 & 1.75 & 0.09 &  1.65 & 0.13 & 1.86 & 0.48 & 0.50 & 2.97 & 2.47 & 16.84 & 58.13 & 19.15 & 22.72\\\\\n",
       "\t 4.50 & 0.15 & 2.02 & 0.10 &  1.65 & 0.14 & 0.91 & 0.17 & 3.20 & 4.41 & 1.21 & 72.52 & 54.13 & 15.15 & 30.72\\\\\n",
       "\t 5.90 & 1.80 & 3.80 & 0.15 &  1.78 & 0.33 & 4.28 & 0.19 & 1.00 & 6.20 & 4.80 & 16.04 & 66.94 & 18.47 & 14.60\\\\\n",
       "\t 5.60 & 1.89 & 3.40 & 0.14 &  2.28 & 0.80 & 4.38 & 0.47 & 3.03 & 9.03 & 5.65 & 33.58 & 64.94 & 16.47 & 18.60\\\\\n",
       "\t 5.20 & 2.53 & 6.90 & 0.28 & 11.29 & 0.45 & 1.97 & 0.07 & 1.00 & 3.88 & 2.49 & 25.66 & 64.57 & 24.83 & 10.60\\\\\n",
       "\t 5.00 & 2.51 & 4.10 & 0.16 & 13.95 & 0.59 & 2.58 & 0.08 & 1.61 & 5.12 & 3.25 & 31.33 & 44.57 & 26.83 & 28.60\\\\\n",
       "\t 4.90 & 1.87 & 3.70 & 0.15 & 13.07 & 0.67 & 2.43 & 0.38 & 1.20 & 4.96 & 3.48 & 24.17 & 56.57 & 26.68 & 16.75\\\\\n",
       "\t 5.00 & 1.04 & 1.80 & 0.07 &  8.75 & 0.35 & 1.49 & 0.07 & 0.79 & 3.10 & 1.91 & 25.52 & 78.57 &  8.68 & 12.75\\\\\n",
       "\t 5.30 & 2.21 & 1.10 & 0.04 &  7.10 & 1.10 & 1.31 & 0.02 & 1.20 & 4.05 & 2.43 & 29.57 & 80.57 &  8.68 & 10.75\\\\\n",
       "\t 5.10 & 3.06 & 1.50 & 0.06 &  3.81 & 0.93 & 1.66 & 0.01 & 1.20 & 4.10 & 2.60 & 29.24 & 76.57 & 10.68 & 12.75\\\\\n",
       "\t 5.20 & 1.33 & 2.60 & 0.10 & 13.07 & 0.88 & 1.31 & 0.04 & 1.20 & 3.71 & 2.23 & 32.33 & 63.32 & 23.93 & 12.75\\\\\n",
       "\t 5.10 & 1.69 & 2.90 & 0.12 &  2.28 & 0.31 & 1.16 & 0.01 & 1.00 & 2.78 & 1.48 & 35.83 & 71.32 & 17.27 & 11.40\\\\\n",
       "\t 5.40 & 3.80 & 3.00 & 0.12 &  2.28 & 2.69 & 3.27 & 1.11 & 1.40 & 8.79 & 7.08 & 15.95 & 69.32 & 15.27 & 15.40\\\\\n",
       "\t 4.70 & 3.75 & 2.50 & 0.10 &  9.51 & 0.57 & 1.24 & 0.02 & 1.40 & 3.50 & 1.83 & 40.07 & 43.32 & 35.27 & 21.40\\\\\n",
       "\t 4.30 & 2.78 & 1.70 & 0.07 &  4.95 & 0.37 & 1.02 & 0.02 & 1.20 & 2.96 & 1.41 & 40.55 & 83.32 &  5.05 & 11.63\\\\\n",
       "\t 4.50 & 4.05 & 5.70 & 0.23 &  4.57 & 0.82 & 2.24 & 0.09 & 1.61 & 5.71 & 3.15 & 28.10 & 69.32 & 15.05 & 15.63\\\\\n",
       "\t 4.20 & 4.19 & 3.30 & 0.13 &  4.44 & 0.41 & 1.54 & 0.02 & 1.81 & 4.72 & 1.97 & 38.31 & 65.32 & 21.05 & 13.63\\\\\n",
       "\t 4.40 & 1.68 & 6.30 & 0.25 &  3.68 & 0.46 & 2.02 & 0.10 & 2.22 & 5.46 & 2.58 & 40.59 & 37.32 & 31.05 & 31.63\\\\\n",
       "\t 4.20 & 3.69 & 2.50 & 0.10 &  2.92 & 0.52 & 1.25 & 0.04 & 1.81 & 4.26 & 1.81 & 42.44 & 47.40 & 28.39 & 24.21\\\\\n",
       "\t 4.40 & 2.46 & 4.50 & 0.18 &  9.01 & 0.99 & 2.28 & 0.05 & 1.81 & 5.71 & 3.32 & 31.68 & 45.40 & 30.39 & 24.21\\\\\n",
       "\t 4.60 & 3.32 & 2.20 & 0.09 &  4.57 & 0.66 & 2.27 & 0.13 & 1.00 & 4.67 & 3.06 & 21.30 & 55.32 & 26.47 & 18.21\\\\\n",
       "\t 4.90 & 2.69 & 3.20 & 0.13 &  6.98 & 1.03 & 1.99 & 0.11 & 1.81 & 5.43 & 3.13 & 33.30 & 57.32 & 26.47 & 16.21\\\\\n",
       "\t 5.10 & 2.30 & 3.80 & 0.15 &  4.19 & 1.17 & 2.22 & 0.23 & 1.20 & 5.80 & 3.62 & 20.68 & 62.67 & 24.83 & 12.50\\\\\n",
       "\t 4.70 & 1.66 & 2.30 & 0.09 &  2.03 & 0.45 & 1.50 & 0.04 & 1.61 & 4.49 & 1.98 & 35.77 & 56.67 & 16.83 & 26.50\\\\\n",
       "\t 4.80 & 1.25 & 5.00 & 0.20 &  2.92 & 0.50 & 1.76 & 0.03 & 1.81 & 5.17 & 2.30 & 34.97 & 58.67 & 20.83 & 20.50\\\\\n",
       "\t 4.70 & 1.98 & 4.40 & 0.18 &  2.16 & 0.67 & 3.56 & 0.04 & 2.42 & 7.25 & 4.27 & 33.36 & 48.67 & 12.83 & 38.50\\\\\n",
       "\t 4.80 & 1.34 & 0.90 & 0.04 &  1.65 & 0.45 & 2.59 & 0.01 & 1.40 & 5.22 & 3.05 & 26.88 & 62.67 & 12.98 & 24.36\\\\\n",
       "\t 4.80 & 1.96 & 1.80 & 0.07 &  2.03 & 0.34 & 2.49 & 0.02 & 1.81 & 5.16 & 2.85 & 35.06 & 66.67 & 10.98 & 22.36\\\\\n",
       "\t 4.80 & 2.46 & 2.50 & 0.10 &  1.78 & 1.07 & 2.04 & 0.01 & 1.61 & 5.39 & 3.12 & 29.80 & 76.67 & 10.98 & 12.36\\\\\n",
       "\t 4.30 & 3.23 & 1.90 & 0.08 &  1.90 & 0.41 & 1.60 & 0.01 & 1.20 & 3.90 & 2.02 & 30.74 & 66.67 & 18.98 & 14.36\\\\\n",
       "\t 4.60 & 1.72 & 1.80 & 0.07 &  3.30 & 0.46 & 2.39 & 0.01 & 1.61 & 5.18 & 2.86 & 30.98 & 68.52 & 12.83 & 18.65\\\\\n",
       "\t 4.50 & 2.35 & 2.20 & 0.09 &  1.90 & 0.39 & 1.35 & 0.01 & 1.61 & 3.90 & 1.74 & 41.13 & 60.52 & 18.83 & 20.65\\\\\n",
       "\t 4.50 & 2.80 & 4.10 & 0.16 & 17.51 & 0.95 & 1.91 & 0.01 & 1.40 & 5.26 & 2.87 & 26.65 & 64.52 & 18.83 & 16.65\\\\\n",
       "\t 4.40 & 1.70 & 0.60 & 0.02 &  1.65 & 0.79 & 1.77 & 0.00 & 1.00 & 4.47 & 2.57 & 22.26 & 82.52 &  4.83 & 12.65\\\\\n",
       "\\end{tabular}\n"
      ],
      "text/markdown": [
       "\n",
       "A data.frame: 60 × 15\n",
       "\n",
       "| pH &lt;dbl&gt; | CE &lt;dbl&gt; | MO &lt;dbl&gt; | N &lt;dbl&gt; | P &lt;dbl&gt; | K &lt;dbl&gt; | Ca &lt;dbl&gt; | Mg &lt;dbl&gt; | Al &lt;dbl&gt; | CICe &lt;dbl&gt; | BT &lt;dbl&gt; | SAl &lt;dbl&gt; | Arena &lt;dbl&gt; | Limo &lt;dbl&gt; | Arcilla &lt;dbl&gt; |\n",
       "|---|---|---|---|---|---|---|---|---|---|---|---|---|---|---|\n",
       "| 4.32 | 1.20 | 1.48 | 0.07 | 27.91 | 0.21 | 0.26 | 0.02 | 1.90 | 2.38 | 0.48 | 79.69 | 62.90 | 16.16 | 20.94 |\n",
       "| 5.00 | 0.13 | 2.29 | 0.11 |  2.28 | 0.18 | 1.67 | 0.83 | 1.10 | 3.77 | 2.67 | 29.14 | 54.90 | 20.16 | 24.94 |\n",
       "| 4.58 | 0.16 | 1.61 | 0.08 |  3.68 | 0.16 | 0.17 | 0.04 | 2.10 | 2.47 | 0.37 | 85.09 | 62.90 | 16.16 | 20.94 |\n",
       "| 4.55 | 0.10 | 2.15 | 0.11 |  2.92 | 0.12 | 1.48 | 0.39 | 3.10 | 5.08 | 1.98 | 60.97 | 36.90 | 32.16 | 30.94 |\n",
       "| 4.71 | 0.35 | 2.42 | 0.12 |  2.41 | 0.15 | 1.67 | 0.69 | 3.40 | 5.91 | 2.51 | 57.50 | 44.90 | 20.16 | 34.94 |\n",
       "| 5.21 | 0.17 | 1.61 | 0.08 |  4.57 | 0.14 | 1.19 | 0.37 | 0.40 | 2.10 | 1.70 | 19.07 | 66.90 | 14.16 | 18.94 |\n",
       "| 4.66 | 0.06 | 1.75 | 0.09 |  1.65 | 0.16 | 0.82 | 0.23 | 3.80 | 5.00 | 1.20 | 76.05 | 45.77 | 23.66 | 30.58 |\n",
       "| 5.36 | 0.18 | 0.94 | 0.05 |  1.14 | 0.07 | 1.66 | 0.20 | 0.20 | 2.13 | 1.93 |  9.39 | 67.77 | 13.66 | 18.58 |\n",
       "| 4.89 | 0.15 | 1.48 | 0.07 |  1.52 | 0.08 | 0.54 | 0.11 | 0.70 | 1.43 | 0.73 | 49.02 | 57.77 | 21.66 | 20.58 |\n",
       "| 4.57 | 0.13 | 2.02 | 0.10 | 10.15 | 0.14 | 0.45 | 0.10 | 3.10 | 3.79 | 0.69 | 81.88 | 51.77 | 17.66 | 30.58 |\n",
       "| 5.18 | 0.11 | 2.29 | 0.11 |  1.01 | 0.06 | 1.10 | 0.13 | 0.70 | 1.99 | 1.29 | 35.22 | 61.77 | 17.66 | 20.58 |\n",
       "| 4.61 | 0.18 | 1.34 | 0.07 |  1.90 | 0.22 | 0.45 | 0.24 | 4.20 | 5.11 | 0.91 | 82.20 | 43.77 | 23.66 | 32.58 |\n",
       "| 4.24 | 0.11 | 2.02 | 0.10 |  2.03 | 0.13 | 0.17 | 0.21 | 6.80 | 7.31 | 0.51 | 93.03 | 15.77 | 43.73 | 40.50 |\n",
       "| 4.81 | 0.09 | 2.29 | 0.11 |  2.41 | 0.35 | 0.91 | 0.40 | 2.40 | 4.05 | 1.65 | 59.24 | 55.77 | 15.73 | 28.50 |\n",
       "| 4.50 | 0.12 | 1.34 | 0.07 |  4.69 | 0.09 | 1.10 | 0.13 | 3.90 | 5.21 | 1.31 | 74.86 | 41.77 | 27.73 | 30.50 |\n",
       "| 4.93 | 0.22 | 1.88 | 0.09 | 23.09 | 0.31 | 3.05 | 1.08 | 1.40 | 5.84 | 4.44 | 23.98 | 45.77 | 23.73 | 30.50 |\n",
       "| 4.37 | 0.61 | 1.88 | 0.09 | 28.92 | 0.14 | 1.19 | 0.19 | 5.20 | 6.72 | 1.52 | 77.41 | 49.77 | 15.73 | 34.50 |\n",
       "| 4.70 | 0.17 | 2.15 | 0.11 |  5.96 | 0.20 | 0.91 | 0.22 | 2.30 | 3.62 | 1.32 | 63.55 | 55.77 | 17.73 | 26.50 |\n",
       "| 4.80 | 0.10 | 2.29 | 0.11 |  4.19 | 0.14 | 1.57 | 0.46 | 2.10 | 4.27 | 2.17 | 49.19 | 49.91 | 19.58 | 30.50 |\n",
       "| 5.29 | 0.05 | 1.75 | 0.09 |  1.40 | 0.17 | 2.55 | 0.59 | 0.60 | 3.92 | 3.32 | 15.32 | 41.91 | 33.58 | 24.50 |\n",
       "| 4.72 | 0.18 | 1.61 | 0.08 |  0.89 | 0.16 | 0.91 | 0.25 | 4.50 | 5.82 | 1.32 | 77.33 | 23.91 | 33.58 | 42.50 |\n",
       "| 5.22 | 0.08 | 1.61 | 0.08 |  1.65 | 0.19 | 3.46 | 0.46 | 0.30 | 4.41 | 4.11 |  6.80 | 45.91 | 29.58 | 24.50 |\n",
       "| 4.60 | 0.10 | 2.02 | 0.10 |  4.06 | 0.14 | 0.82 | 0.07 | 3.10 | 4.12 | 1.02 | 75.29 | 57.91 | 13.58 | 28.50 |\n",
       "| 4.84 | 0.04 | 1.75 | 0.09 |  2.16 | 0.21 | 1.38 | 0.40 | 2.30 | 4.29 | 1.99 | 53.58 | 43.91 | 25.58 | 30.50 |\n",
       "| 5.21 | 0.10 | 1.61 | 0.08 |  1.14 | 0.26 | 0.72 | 0.23 | 0.40 | 1.62 | 1.22 | 24.73 | 66.13 | 15.15 | 18.72 |\n",
       "| 4.79 | 0.13 | 2.42 | 0.12 |  2.54 | 0.25 | 1.67 | 0.59 | 1.20 | 3.71 | 2.51 | 32.36 | 58.13 | 15.15 | 26.72 |\n",
       "| 5.20 | 0.06 | 1.75 | 0.09 |  1.65 | 0.13 | 1.86 | 0.48 | 0.50 | 2.97 | 2.47 | 16.84 | 58.13 | 19.15 | 22.72 |\n",
       "| 4.50 | 0.15 | 2.02 | 0.10 |  1.65 | 0.14 | 0.91 | 0.17 | 3.20 | 4.41 | 1.21 | 72.52 | 54.13 | 15.15 | 30.72 |\n",
       "| 5.90 | 1.80 | 3.80 | 0.15 |  1.78 | 0.33 | 4.28 | 0.19 | 1.00 | 6.20 | 4.80 | 16.04 | 66.94 | 18.47 | 14.60 |\n",
       "| 5.60 | 1.89 | 3.40 | 0.14 |  2.28 | 0.80 | 4.38 | 0.47 | 3.03 | 9.03 | 5.65 | 33.58 | 64.94 | 16.47 | 18.60 |\n",
       "| 5.20 | 2.53 | 6.90 | 0.28 | 11.29 | 0.45 | 1.97 | 0.07 | 1.00 | 3.88 | 2.49 | 25.66 | 64.57 | 24.83 | 10.60 |\n",
       "| 5.00 | 2.51 | 4.10 | 0.16 | 13.95 | 0.59 | 2.58 | 0.08 | 1.61 | 5.12 | 3.25 | 31.33 | 44.57 | 26.83 | 28.60 |\n",
       "| 4.90 | 1.87 | 3.70 | 0.15 | 13.07 | 0.67 | 2.43 | 0.38 | 1.20 | 4.96 | 3.48 | 24.17 | 56.57 | 26.68 | 16.75 |\n",
       "| 5.00 | 1.04 | 1.80 | 0.07 |  8.75 | 0.35 | 1.49 | 0.07 | 0.79 | 3.10 | 1.91 | 25.52 | 78.57 |  8.68 | 12.75 |\n",
       "| 5.30 | 2.21 | 1.10 | 0.04 |  7.10 | 1.10 | 1.31 | 0.02 | 1.20 | 4.05 | 2.43 | 29.57 | 80.57 |  8.68 | 10.75 |\n",
       "| 5.10 | 3.06 | 1.50 | 0.06 |  3.81 | 0.93 | 1.66 | 0.01 | 1.20 | 4.10 | 2.60 | 29.24 | 76.57 | 10.68 | 12.75 |\n",
       "| 5.20 | 1.33 | 2.60 | 0.10 | 13.07 | 0.88 | 1.31 | 0.04 | 1.20 | 3.71 | 2.23 | 32.33 | 63.32 | 23.93 | 12.75 |\n",
       "| 5.10 | 1.69 | 2.90 | 0.12 |  2.28 | 0.31 | 1.16 | 0.01 | 1.00 | 2.78 | 1.48 | 35.83 | 71.32 | 17.27 | 11.40 |\n",
       "| 5.40 | 3.80 | 3.00 | 0.12 |  2.28 | 2.69 | 3.27 | 1.11 | 1.40 | 8.79 | 7.08 | 15.95 | 69.32 | 15.27 | 15.40 |\n",
       "| 4.70 | 3.75 | 2.50 | 0.10 |  9.51 | 0.57 | 1.24 | 0.02 | 1.40 | 3.50 | 1.83 | 40.07 | 43.32 | 35.27 | 21.40 |\n",
       "| 4.30 | 2.78 | 1.70 | 0.07 |  4.95 | 0.37 | 1.02 | 0.02 | 1.20 | 2.96 | 1.41 | 40.55 | 83.32 |  5.05 | 11.63 |\n",
       "| 4.50 | 4.05 | 5.70 | 0.23 |  4.57 | 0.82 | 2.24 | 0.09 | 1.61 | 5.71 | 3.15 | 28.10 | 69.32 | 15.05 | 15.63 |\n",
       "| 4.20 | 4.19 | 3.30 | 0.13 |  4.44 | 0.41 | 1.54 | 0.02 | 1.81 | 4.72 | 1.97 | 38.31 | 65.32 | 21.05 | 13.63 |\n",
       "| 4.40 | 1.68 | 6.30 | 0.25 |  3.68 | 0.46 | 2.02 | 0.10 | 2.22 | 5.46 | 2.58 | 40.59 | 37.32 | 31.05 | 31.63 |\n",
       "| 4.20 | 3.69 | 2.50 | 0.10 |  2.92 | 0.52 | 1.25 | 0.04 | 1.81 | 4.26 | 1.81 | 42.44 | 47.40 | 28.39 | 24.21 |\n",
       "| 4.40 | 2.46 | 4.50 | 0.18 |  9.01 | 0.99 | 2.28 | 0.05 | 1.81 | 5.71 | 3.32 | 31.68 | 45.40 | 30.39 | 24.21 |\n",
       "| 4.60 | 3.32 | 2.20 | 0.09 |  4.57 | 0.66 | 2.27 | 0.13 | 1.00 | 4.67 | 3.06 | 21.30 | 55.32 | 26.47 | 18.21 |\n",
       "| 4.90 | 2.69 | 3.20 | 0.13 |  6.98 | 1.03 | 1.99 | 0.11 | 1.81 | 5.43 | 3.13 | 33.30 | 57.32 | 26.47 | 16.21 |\n",
       "| 5.10 | 2.30 | 3.80 | 0.15 |  4.19 | 1.17 | 2.22 | 0.23 | 1.20 | 5.80 | 3.62 | 20.68 | 62.67 | 24.83 | 12.50 |\n",
       "| 4.70 | 1.66 | 2.30 | 0.09 |  2.03 | 0.45 | 1.50 | 0.04 | 1.61 | 4.49 | 1.98 | 35.77 | 56.67 | 16.83 | 26.50 |\n",
       "| 4.80 | 1.25 | 5.00 | 0.20 |  2.92 | 0.50 | 1.76 | 0.03 | 1.81 | 5.17 | 2.30 | 34.97 | 58.67 | 20.83 | 20.50 |\n",
       "| 4.70 | 1.98 | 4.40 | 0.18 |  2.16 | 0.67 | 3.56 | 0.04 | 2.42 | 7.25 | 4.27 | 33.36 | 48.67 | 12.83 | 38.50 |\n",
       "| 4.80 | 1.34 | 0.90 | 0.04 |  1.65 | 0.45 | 2.59 | 0.01 | 1.40 | 5.22 | 3.05 | 26.88 | 62.67 | 12.98 | 24.36 |\n",
       "| 4.80 | 1.96 | 1.80 | 0.07 |  2.03 | 0.34 | 2.49 | 0.02 | 1.81 | 5.16 | 2.85 | 35.06 | 66.67 | 10.98 | 22.36 |\n",
       "| 4.80 | 2.46 | 2.50 | 0.10 |  1.78 | 1.07 | 2.04 | 0.01 | 1.61 | 5.39 | 3.12 | 29.80 | 76.67 | 10.98 | 12.36 |\n",
       "| 4.30 | 3.23 | 1.90 | 0.08 |  1.90 | 0.41 | 1.60 | 0.01 | 1.20 | 3.90 | 2.02 | 30.74 | 66.67 | 18.98 | 14.36 |\n",
       "| 4.60 | 1.72 | 1.80 | 0.07 |  3.30 | 0.46 | 2.39 | 0.01 | 1.61 | 5.18 | 2.86 | 30.98 | 68.52 | 12.83 | 18.65 |\n",
       "| 4.50 | 2.35 | 2.20 | 0.09 |  1.90 | 0.39 | 1.35 | 0.01 | 1.61 | 3.90 | 1.74 | 41.13 | 60.52 | 18.83 | 20.65 |\n",
       "| 4.50 | 2.80 | 4.10 | 0.16 | 17.51 | 0.95 | 1.91 | 0.01 | 1.40 | 5.26 | 2.87 | 26.65 | 64.52 | 18.83 | 16.65 |\n",
       "| 4.40 | 1.70 | 0.60 | 0.02 |  1.65 | 0.79 | 1.77 | 0.00 | 1.00 | 4.47 | 2.57 | 22.26 | 82.52 |  4.83 | 12.65 |\n",
       "\n"
      ],
      "text/plain": [
       "   pH   CE   MO   N    P     K    Ca   Mg   Al   CICe BT   SAl   Arena Limo \n",
       "1  4.32 1.20 1.48 0.07 27.91 0.21 0.26 0.02 1.90 2.38 0.48 79.69 62.90 16.16\n",
       "2  5.00 0.13 2.29 0.11  2.28 0.18 1.67 0.83 1.10 3.77 2.67 29.14 54.90 20.16\n",
       "3  4.58 0.16 1.61 0.08  3.68 0.16 0.17 0.04 2.10 2.47 0.37 85.09 62.90 16.16\n",
       "4  4.55 0.10 2.15 0.11  2.92 0.12 1.48 0.39 3.10 5.08 1.98 60.97 36.90 32.16\n",
       "5  4.71 0.35 2.42 0.12  2.41 0.15 1.67 0.69 3.40 5.91 2.51 57.50 44.90 20.16\n",
       "6  5.21 0.17 1.61 0.08  4.57 0.14 1.19 0.37 0.40 2.10 1.70 19.07 66.90 14.16\n",
       "7  4.66 0.06 1.75 0.09  1.65 0.16 0.82 0.23 3.80 5.00 1.20 76.05 45.77 23.66\n",
       "8  5.36 0.18 0.94 0.05  1.14 0.07 1.66 0.20 0.20 2.13 1.93  9.39 67.77 13.66\n",
       "9  4.89 0.15 1.48 0.07  1.52 0.08 0.54 0.11 0.70 1.43 0.73 49.02 57.77 21.66\n",
       "10 4.57 0.13 2.02 0.10 10.15 0.14 0.45 0.10 3.10 3.79 0.69 81.88 51.77 17.66\n",
       "11 5.18 0.11 2.29 0.11  1.01 0.06 1.10 0.13 0.70 1.99 1.29 35.22 61.77 17.66\n",
       "12 4.61 0.18 1.34 0.07  1.90 0.22 0.45 0.24 4.20 5.11 0.91 82.20 43.77 23.66\n",
       "13 4.24 0.11 2.02 0.10  2.03 0.13 0.17 0.21 6.80 7.31 0.51 93.03 15.77 43.73\n",
       "14 4.81 0.09 2.29 0.11  2.41 0.35 0.91 0.40 2.40 4.05 1.65 59.24 55.77 15.73\n",
       "15 4.50 0.12 1.34 0.07  4.69 0.09 1.10 0.13 3.90 5.21 1.31 74.86 41.77 27.73\n",
       "16 4.93 0.22 1.88 0.09 23.09 0.31 3.05 1.08 1.40 5.84 4.44 23.98 45.77 23.73\n",
       "17 4.37 0.61 1.88 0.09 28.92 0.14 1.19 0.19 5.20 6.72 1.52 77.41 49.77 15.73\n",
       "18 4.70 0.17 2.15 0.11  5.96 0.20 0.91 0.22 2.30 3.62 1.32 63.55 55.77 17.73\n",
       "19 4.80 0.10 2.29 0.11  4.19 0.14 1.57 0.46 2.10 4.27 2.17 49.19 49.91 19.58\n",
       "20 5.29 0.05 1.75 0.09  1.40 0.17 2.55 0.59 0.60 3.92 3.32 15.32 41.91 33.58\n",
       "21 4.72 0.18 1.61 0.08  0.89 0.16 0.91 0.25 4.50 5.82 1.32 77.33 23.91 33.58\n",
       "22 5.22 0.08 1.61 0.08  1.65 0.19 3.46 0.46 0.30 4.41 4.11  6.80 45.91 29.58\n",
       "23 4.60 0.10 2.02 0.10  4.06 0.14 0.82 0.07 3.10 4.12 1.02 75.29 57.91 13.58\n",
       "24 4.84 0.04 1.75 0.09  2.16 0.21 1.38 0.40 2.30 4.29 1.99 53.58 43.91 25.58\n",
       "25 5.21 0.10 1.61 0.08  1.14 0.26 0.72 0.23 0.40 1.62 1.22 24.73 66.13 15.15\n",
       "26 4.79 0.13 2.42 0.12  2.54 0.25 1.67 0.59 1.20 3.71 2.51 32.36 58.13 15.15\n",
       "27 5.20 0.06 1.75 0.09  1.65 0.13 1.86 0.48 0.50 2.97 2.47 16.84 58.13 19.15\n",
       "28 4.50 0.15 2.02 0.10  1.65 0.14 0.91 0.17 3.20 4.41 1.21 72.52 54.13 15.15\n",
       "29 5.90 1.80 3.80 0.15  1.78 0.33 4.28 0.19 1.00 6.20 4.80 16.04 66.94 18.47\n",
       "30 5.60 1.89 3.40 0.14  2.28 0.80 4.38 0.47 3.03 9.03 5.65 33.58 64.94 16.47\n",
       "31 5.20 2.53 6.90 0.28 11.29 0.45 1.97 0.07 1.00 3.88 2.49 25.66 64.57 24.83\n",
       "32 5.00 2.51 4.10 0.16 13.95 0.59 2.58 0.08 1.61 5.12 3.25 31.33 44.57 26.83\n",
       "33 4.90 1.87 3.70 0.15 13.07 0.67 2.43 0.38 1.20 4.96 3.48 24.17 56.57 26.68\n",
       "34 5.00 1.04 1.80 0.07  8.75 0.35 1.49 0.07 0.79 3.10 1.91 25.52 78.57  8.68\n",
       "35 5.30 2.21 1.10 0.04  7.10 1.10 1.31 0.02 1.20 4.05 2.43 29.57 80.57  8.68\n",
       "36 5.10 3.06 1.50 0.06  3.81 0.93 1.66 0.01 1.20 4.10 2.60 29.24 76.57 10.68\n",
       "37 5.20 1.33 2.60 0.10 13.07 0.88 1.31 0.04 1.20 3.71 2.23 32.33 63.32 23.93\n",
       "38 5.10 1.69 2.90 0.12  2.28 0.31 1.16 0.01 1.00 2.78 1.48 35.83 71.32 17.27\n",
       "39 5.40 3.80 3.00 0.12  2.28 2.69 3.27 1.11 1.40 8.79 7.08 15.95 69.32 15.27\n",
       "40 4.70 3.75 2.50 0.10  9.51 0.57 1.24 0.02 1.40 3.50 1.83 40.07 43.32 35.27\n",
       "41 4.30 2.78 1.70 0.07  4.95 0.37 1.02 0.02 1.20 2.96 1.41 40.55 83.32  5.05\n",
       "42 4.50 4.05 5.70 0.23  4.57 0.82 2.24 0.09 1.61 5.71 3.15 28.10 69.32 15.05\n",
       "43 4.20 4.19 3.30 0.13  4.44 0.41 1.54 0.02 1.81 4.72 1.97 38.31 65.32 21.05\n",
       "44 4.40 1.68 6.30 0.25  3.68 0.46 2.02 0.10 2.22 5.46 2.58 40.59 37.32 31.05\n",
       "45 4.20 3.69 2.50 0.10  2.92 0.52 1.25 0.04 1.81 4.26 1.81 42.44 47.40 28.39\n",
       "46 4.40 2.46 4.50 0.18  9.01 0.99 2.28 0.05 1.81 5.71 3.32 31.68 45.40 30.39\n",
       "47 4.60 3.32 2.20 0.09  4.57 0.66 2.27 0.13 1.00 4.67 3.06 21.30 55.32 26.47\n",
       "48 4.90 2.69 3.20 0.13  6.98 1.03 1.99 0.11 1.81 5.43 3.13 33.30 57.32 26.47\n",
       "49 5.10 2.30 3.80 0.15  4.19 1.17 2.22 0.23 1.20 5.80 3.62 20.68 62.67 24.83\n",
       "50 4.70 1.66 2.30 0.09  2.03 0.45 1.50 0.04 1.61 4.49 1.98 35.77 56.67 16.83\n",
       "51 4.80 1.25 5.00 0.20  2.92 0.50 1.76 0.03 1.81 5.17 2.30 34.97 58.67 20.83\n",
       "52 4.70 1.98 4.40 0.18  2.16 0.67 3.56 0.04 2.42 7.25 4.27 33.36 48.67 12.83\n",
       "53 4.80 1.34 0.90 0.04  1.65 0.45 2.59 0.01 1.40 5.22 3.05 26.88 62.67 12.98\n",
       "54 4.80 1.96 1.80 0.07  2.03 0.34 2.49 0.02 1.81 5.16 2.85 35.06 66.67 10.98\n",
       "55 4.80 2.46 2.50 0.10  1.78 1.07 2.04 0.01 1.61 5.39 3.12 29.80 76.67 10.98\n",
       "56 4.30 3.23 1.90 0.08  1.90 0.41 1.60 0.01 1.20 3.90 2.02 30.74 66.67 18.98\n",
       "57 4.60 1.72 1.80 0.07  3.30 0.46 2.39 0.01 1.61 5.18 2.86 30.98 68.52 12.83\n",
       "58 4.50 2.35 2.20 0.09  1.90 0.39 1.35 0.01 1.61 3.90 1.74 41.13 60.52 18.83\n",
       "59 4.50 2.80 4.10 0.16 17.51 0.95 1.91 0.01 1.40 5.26 2.87 26.65 64.52 18.83\n",
       "60 4.40 1.70 0.60 0.02  1.65 0.79 1.77 0.00 1.00 4.47 2.57 22.26 82.52  4.83\n",
       "   Arcilla\n",
       "1  20.94  \n",
       "2  24.94  \n",
       "3  20.94  \n",
       "4  30.94  \n",
       "5  34.94  \n",
       "6  18.94  \n",
       "7  30.58  \n",
       "8  18.58  \n",
       "9  20.58  \n",
       "10 30.58  \n",
       "11 20.58  \n",
       "12 32.58  \n",
       "13 40.50  \n",
       "14 28.50  \n",
       "15 30.50  \n",
       "16 30.50  \n",
       "17 34.50  \n",
       "18 26.50  \n",
       "19 30.50  \n",
       "20 24.50  \n",
       "21 42.50  \n",
       "22 24.50  \n",
       "23 28.50  \n",
       "24 30.50  \n",
       "25 18.72  \n",
       "26 26.72  \n",
       "27 22.72  \n",
       "28 30.72  \n",
       "29 14.60  \n",
       "30 18.60  \n",
       "31 10.60  \n",
       "32 28.60  \n",
       "33 16.75  \n",
       "34 12.75  \n",
       "35 10.75  \n",
       "36 12.75  \n",
       "37 12.75  \n",
       "38 11.40  \n",
       "39 15.40  \n",
       "40 21.40  \n",
       "41 11.63  \n",
       "42 15.63  \n",
       "43 13.63  \n",
       "44 31.63  \n",
       "45 24.21  \n",
       "46 24.21  \n",
       "47 18.21  \n",
       "48 16.21  \n",
       "49 12.50  \n",
       "50 26.50  \n",
       "51 20.50  \n",
       "52 38.50  \n",
       "53 24.36  \n",
       "54 22.36  \n",
       "55 12.36  \n",
       "56 14.36  \n",
       "57 18.65  \n",
       "58 20.65  \n",
       "59 16.65  \n",
       "60 12.65  "
      ]
     },
     "metadata": {},
     "output_type": "display_data"
    }
   ],
   "source": [
    "datos_Suelo = dav[,2:16]\n",
    "datos_Suelo"
   ]
  },
  {
   "cell_type": "code",
   "execution_count": 14,
   "id": "d847e626-2424-4d06-9caa-4aa21b37fd21",
   "metadata": {
    "tags": []
   },
   "outputs": [],
   "source": [
    "name_suelo = names(datos_Suelo)"
   ]
  },
  {
   "cell_type": "code",
   "execution_count": 15,
   "id": "fba50070-cb9f-4235-ba39-b7053cf3fe4a",
   "metadata": {
    "tags": []
   },
   "outputs": [
    {
     "data": {
      "text/html": [
       "<style>\n",
       ".list-inline {list-style: none; margin:0; padding: 0}\n",
       ".list-inline>li {display: inline-block}\n",
       ".list-inline>li:not(:last-child)::after {content: \"\\00b7\"; padding: 0 .5ex}\n",
       "</style>\n",
       "<ol class=list-inline><li>'pH'</li><li>'CE'</li><li>'MO'</li><li>'N'</li><li>'P'</li><li>'K'</li><li>'Ca'</li><li>'Mg'</li><li>'Al'</li><li>'CICe'</li><li>'BT'</li><li>'SAl'</li><li>'Arena'</li><li>'Limo'</li><li>'Arcilla'</li></ol>\n"
      ],
      "text/latex": [
       "\\begin{enumerate*}\n",
       "\\item 'pH'\n",
       "\\item 'CE'\n",
       "\\item 'MO'\n",
       "\\item 'N'\n",
       "\\item 'P'\n",
       "\\item 'K'\n",
       "\\item 'Ca'\n",
       "\\item 'Mg'\n",
       "\\item 'Al'\n",
       "\\item 'CICe'\n",
       "\\item 'BT'\n",
       "\\item 'SAl'\n",
       "\\item 'Arena'\n",
       "\\item 'Limo'\n",
       "\\item 'Arcilla'\n",
       "\\end{enumerate*}\n"
      ],
      "text/markdown": [
       "1. 'pH'\n",
       "2. 'CE'\n",
       "3. 'MO'\n",
       "4. 'N'\n",
       "5. 'P'\n",
       "6. 'K'\n",
       "7. 'Ca'\n",
       "8. 'Mg'\n",
       "9. 'Al'\n",
       "10. 'CICe'\n",
       "11. 'BT'\n",
       "12. 'SAl'\n",
       "13. 'Arena'\n",
       "14. 'Limo'\n",
       "15. 'Arcilla'\n",
       "\n",
       "\n"
      ],
      "text/plain": [
       " [1] \"pH\"      \"CE\"      \"MO\"      \"N\"       \"P\"       \"K\"       \"Ca\"     \n",
       " [8] \"Mg\"      \"Al\"      \"CICe\"    \"BT\"      \"SAl\"     \"Arena\"   \"Limo\"   \n",
       "[15] \"Arcilla\""
      ]
     },
     "metadata": {},
     "output_type": "display_data"
    }
   ],
   "source": [
    "name_suelo"
   ]
  },
  {
   "cell_type": "code",
   "execution_count": 16,
   "id": "6ee092f1-676b-4886-96f6-e9e50f512761",
   "metadata": {
    "tags": []
   },
   "outputs": [
    {
     "data": {
      "text/html": [
       "15"
      ],
      "text/latex": [
       "15"
      ],
      "text/markdown": [
       "15"
      ],
      "text/plain": [
       "[1] 15"
      ]
     },
     "metadata": {},
     "output_type": "display_data"
    }
   ],
   "source": [
    "length(name_suelo)"
   ]
  },
  {
   "cell_type": "code",
   "execution_count": 17,
   "id": "6202eb87-64af-4b3d-9b99-a6bcb6052a86",
   "metadata": {
    "tags": []
   },
   "outputs": [
    {
     "data": {
      "text/html": [
       "'pH'"
      ],
      "text/latex": [
       "'pH'"
      ],
      "text/markdown": [
       "'pH'"
      ],
      "text/plain": [
       "[1] \"pH\""
      ]
     },
     "metadata": {},
     "output_type": "display_data"
    }
   ],
   "source": [
    "name_suelo[1]"
   ]
  },
  {
   "cell_type": "code",
   "execution_count": 18,
   "id": "360d73c9-38fb-4bae-b173-99efc7b5ee3f",
   "metadata": {
    "tags": []
   },
   "outputs": [
    {
     "data": {
      "text/html": [
       "<style>\n",
       ".list-inline {list-style: none; margin:0; padding: 0}\n",
       ".list-inline>li {display: inline-block}\n",
       ".list-inline>li:not(:last-child)::after {content: \"\\00b7\"; padding: 0 .5ex}\n",
       "</style>\n",
       "<ol class=list-inline><li>4.32</li><li>5</li><li>4.58</li><li>4.55</li><li>4.71</li><li>5.21</li><li>4.66</li><li>5.36</li><li>4.89</li><li>4.57</li><li>5.18</li><li>4.61</li><li>4.24</li><li>4.81</li><li>4.5</li><li>4.93</li><li>4.37</li><li>4.7</li><li>4.8</li><li>5.29</li><li>4.72</li><li>5.22</li><li>4.6</li><li>4.84</li><li>5.21</li><li>4.79</li><li>5.2</li><li>4.5</li><li>5.9</li><li>5.6</li><li>5.2</li><li>5</li><li>4.9</li><li>5</li><li>5.3</li><li>5.1</li><li>5.2</li><li>5.1</li><li>5.4</li><li>4.7</li><li>4.3</li><li>4.5</li><li>4.2</li><li>4.4</li><li>4.2</li><li>4.4</li><li>4.6</li><li>4.9</li><li>5.1</li><li>4.7</li><li>4.8</li><li>4.7</li><li>4.8</li><li>4.8</li><li>4.8</li><li>4.3</li><li>4.6</li><li>4.5</li><li>4.5</li><li>4.4</li></ol>\n"
      ],
      "text/latex": [
       "\\begin{enumerate*}\n",
       "\\item 4.32\n",
       "\\item 5\n",
       "\\item 4.58\n",
       "\\item 4.55\n",
       "\\item 4.71\n",
       "\\item 5.21\n",
       "\\item 4.66\n",
       "\\item 5.36\n",
       "\\item 4.89\n",
       "\\item 4.57\n",
       "\\item 5.18\n",
       "\\item 4.61\n",
       "\\item 4.24\n",
       "\\item 4.81\n",
       "\\item 4.5\n",
       "\\item 4.93\n",
       "\\item 4.37\n",
       "\\item 4.7\n",
       "\\item 4.8\n",
       "\\item 5.29\n",
       "\\item 4.72\n",
       "\\item 5.22\n",
       "\\item 4.6\n",
       "\\item 4.84\n",
       "\\item 5.21\n",
       "\\item 4.79\n",
       "\\item 5.2\n",
       "\\item 4.5\n",
       "\\item 5.9\n",
       "\\item 5.6\n",
       "\\item 5.2\n",
       "\\item 5\n",
       "\\item 4.9\n",
       "\\item 5\n",
       "\\item 5.3\n",
       "\\item 5.1\n",
       "\\item 5.2\n",
       "\\item 5.1\n",
       "\\item 5.4\n",
       "\\item 4.7\n",
       "\\item 4.3\n",
       "\\item 4.5\n",
       "\\item 4.2\n",
       "\\item 4.4\n",
       "\\item 4.2\n",
       "\\item 4.4\n",
       "\\item 4.6\n",
       "\\item 4.9\n",
       "\\item 5.1\n",
       "\\item 4.7\n",
       "\\item 4.8\n",
       "\\item 4.7\n",
       "\\item 4.8\n",
       "\\item 4.8\n",
       "\\item 4.8\n",
       "\\item 4.3\n",
       "\\item 4.6\n",
       "\\item 4.5\n",
       "\\item 4.5\n",
       "\\item 4.4\n",
       "\\end{enumerate*}\n"
      ],
      "text/markdown": [
       "1. 4.32\n",
       "2. 5\n",
       "3. 4.58\n",
       "4. 4.55\n",
       "5. 4.71\n",
       "6. 5.21\n",
       "7. 4.66\n",
       "8. 5.36\n",
       "9. 4.89\n",
       "10. 4.57\n",
       "11. 5.18\n",
       "12. 4.61\n",
       "13. 4.24\n",
       "14. 4.81\n",
       "15. 4.5\n",
       "16. 4.93\n",
       "17. 4.37\n",
       "18. 4.7\n",
       "19. 4.8\n",
       "20. 5.29\n",
       "21. 4.72\n",
       "22. 5.22\n",
       "23. 4.6\n",
       "24. 4.84\n",
       "25. 5.21\n",
       "26. 4.79\n",
       "27. 5.2\n",
       "28. 4.5\n",
       "29. 5.9\n",
       "30. 5.6\n",
       "31. 5.2\n",
       "32. 5\n",
       "33. 4.9\n",
       "34. 5\n",
       "35. 5.3\n",
       "36. 5.1\n",
       "37. 5.2\n",
       "38. 5.1\n",
       "39. 5.4\n",
       "40. 4.7\n",
       "41. 4.3\n",
       "42. 4.5\n",
       "43. 4.2\n",
       "44. 4.4\n",
       "45. 4.2\n",
       "46. 4.4\n",
       "47. 4.6\n",
       "48. 4.9\n",
       "49. 5.1\n",
       "50. 4.7\n",
       "51. 4.8\n",
       "52. 4.7\n",
       "53. 4.8\n",
       "54. 4.8\n",
       "55. 4.8\n",
       "56. 4.3\n",
       "57. 4.6\n",
       "58. 4.5\n",
       "59. 4.5\n",
       "60. 4.4\n",
       "\n",
       "\n"
      ],
      "text/plain": [
       " [1] 4.32 5.00 4.58 4.55 4.71 5.21 4.66 5.36 4.89 4.57 5.18 4.61 4.24 4.81 4.50\n",
       "[16] 4.93 4.37 4.70 4.80 5.29 4.72 5.22 4.60 4.84 5.21 4.79 5.20 4.50 5.90 5.60\n",
       "[31] 5.20 5.00 4.90 5.00 5.30 5.10 5.20 5.10 5.40 4.70 4.30 4.50 4.20 4.40 4.20\n",
       "[46] 4.40 4.60 4.90 5.10 4.70 4.80 4.70 4.80 4.80 4.80 4.30 4.60 4.50 4.50 4.40"
      ]
     },
     "metadata": {},
     "output_type": "display_data"
    }
   ],
   "source": [
    "datos_Suelo[[name_suelo[1]]]"
   ]
  },
  {
   "cell_type": "code",
   "execution_count": 22,
   "id": "fa0dfd94-5be3-4188-a97a-db330334e532",
   "metadata": {
    "tags": []
   },
   "outputs": [],
   "source": []
  },
  {
   "cell_type": "code",
   "execution_count": 23,
   "id": "8274d0ab-83ff-42f7-b717-9f821c1caa99",
   "metadata": {
    "tags": []
   },
   "outputs": [],
   "source": [
    "lista_R2 = c()"
   ]
  },
  {
   "cell_type": "code",
   "execution_count": 24,
   "id": "268bb01c-33aa-425d-9060-36815a47068a",
   "metadata": {
    "tags": []
   },
   "outputs": [],
   "source": [
    "attach(dav)"
   ]
  },
  {
   "cell_type": "code",
   "execution_count": null,
   "id": "7c89023b-bacf-4961-ad39-6b4dbceacc5d",
   "metadata": {},
   "outputs": [],
   "source": [
    "# Se va utilizar los datos seleccionados\n",
    "# 'S2_01_B1''S2_04_B4''S2_03_B3''S2_05_B5''S2_07_B7''S2_09_B9''S2_10_B11''S2_11_B12''S2_17_GRRI'\n",
    "# 'S2_26_CIVE''S2_14_ExR''S2_15_ExB''S2_16_IKAW''S2_19_GBDI''S2_20_MGRVI''S2_25_NGBDI''S2_30_MSAVI'\n",
    "# 'S2_35_SIPI''S2_36_CGI''S2_44_SMI''S2_38_CVI''S2_43_SCI''S2_45_MDE''S2_49_TRI''S2_47_aspect''S2_48_TPI'\n",
    "# 'S2_50_flowdir''S2_51__ACP_1''S2_52__ACP_2''S2_53__ACP_3'"
   ]
  },
  {
   "cell_type": "code",
   "execution_count": 25,
   "id": "e5e189d1-c342-4029-98a6-47f5c7112eb1",
   "metadata": {
    "tags": []
   },
   "outputs": [
    {
     "data": {
      "text/html": [
       "<style>\n",
       ".list-inline {list-style: none; margin:0; padding: 0}\n",
       ".list-inline>li {display: inline-block}\n",
       ".list-inline>li:not(:last-child)::after {content: \"\\00b7\"; padding: 0 .5ex}\n",
       "</style>\n",
       "<ol class=list-inline><li>'ID'</li><li>'pH'</li><li>'CE'</li><li>'MO'</li><li>'N'</li><li>'P'</li><li>'K'</li><li>'Ca'</li><li>'Mg'</li><li>'Al'</li><li>'CICe'</li><li>'BT'</li><li>'SAl'</li><li>'Arena'</li><li>'Limo'</li><li>'Arcilla'</li><li>'Textura'</li><li>'S2_01_B1'</li><li>'S2_02_B2'</li><li>'S2_03_B3'</li><li>'S2_04_B4'</li><li>'S2_05_B5'</li><li>'S2_06_B6'</li><li>'S2_07_B7'</li><li>'S2_08_B8'</li><li>'S2_09_B9'</li><li>'S2_10_B11'</li><li>'S2_11_B12'</li><li>'S2_12_NGRDI'</li><li>'S2_13_ExG'</li><li>'S2_14_ExR'</li><li>'S2_15_ExB'</li><li>'S2_16_IKAW'</li><li>'S2_17_GRRI'</li><li>'S2_18_ExGR'</li><li>'S2_19_GBDI'</li><li>'S2_20_MGRVI'</li><li>'S2_21_RGBVI'</li><li>'S2_22_VDVI'</li><li>'S2_23_VARI'</li><li>'S2_24_RGRI'</li><li>'S2_25_NGBDI'</li><li>'S2_26_CIVE'</li><li>'S2_27_NDVI'</li><li>'S2_28_EVI'</li><li>'S2_29_SAVI'</li><li>'S2_30_MSAVI'</li><li>'S2_31_NDWI'</li><li>'S2_32_GNDVI'</li><li>'S2_33_OSAVI'</li><li>'S2_34_ARVI'</li><li>'S2_35_SIPI'</li><li>'S2_36_CGI'</li><li>'S2_37_RVI'</li><li>'S2_38_CVI'</li><li>'S2_39_CCCI'</li><li>'S2_40_RECI'</li><li>'S2_41_SVI'</li><li>'S2_42_SSI'</li><li>'S2_43_SCI'</li><li>'S2_44_SMI'</li><li>'S2_45_MDE'</li><li>'S2_46_slope'</li><li>'S2_47_aspect'</li><li>'S2_48_TPI'</li><li>'S2_49_TRI'</li><li>'S2_50_flowdir'</li><li>'S2_51__ACP_1'</li><li>'S2_52__ACP_2'</li><li>'S2_53__ACP_3'</li><li>'coords.x1'</li><li>'coords.x2'</li><li>'optional'</li></ol>\n"
      ],
      "text/latex": [
       "\\begin{enumerate*}\n",
       "\\item 'ID'\n",
       "\\item 'pH'\n",
       "\\item 'CE'\n",
       "\\item 'MO'\n",
       "\\item 'N'\n",
       "\\item 'P'\n",
       "\\item 'K'\n",
       "\\item 'Ca'\n",
       "\\item 'Mg'\n",
       "\\item 'Al'\n",
       "\\item 'CICe'\n",
       "\\item 'BT'\n",
       "\\item 'SAl'\n",
       "\\item 'Arena'\n",
       "\\item 'Limo'\n",
       "\\item 'Arcilla'\n",
       "\\item 'Textura'\n",
       "\\item 'S2\\_01\\_B1'\n",
       "\\item 'S2\\_02\\_B2'\n",
       "\\item 'S2\\_03\\_B3'\n",
       "\\item 'S2\\_04\\_B4'\n",
       "\\item 'S2\\_05\\_B5'\n",
       "\\item 'S2\\_06\\_B6'\n",
       "\\item 'S2\\_07\\_B7'\n",
       "\\item 'S2\\_08\\_B8'\n",
       "\\item 'S2\\_09\\_B9'\n",
       "\\item 'S2\\_10\\_B11'\n",
       "\\item 'S2\\_11\\_B12'\n",
       "\\item 'S2\\_12\\_NGRDI'\n",
       "\\item 'S2\\_13\\_ExG'\n",
       "\\item 'S2\\_14\\_ExR'\n",
       "\\item 'S2\\_15\\_ExB'\n",
       "\\item 'S2\\_16\\_IKAW'\n",
       "\\item 'S2\\_17\\_GRRI'\n",
       "\\item 'S2\\_18\\_ExGR'\n",
       "\\item 'S2\\_19\\_GBDI'\n",
       "\\item 'S2\\_20\\_MGRVI'\n",
       "\\item 'S2\\_21\\_RGBVI'\n",
       "\\item 'S2\\_22\\_VDVI'\n",
       "\\item 'S2\\_23\\_VARI'\n",
       "\\item 'S2\\_24\\_RGRI'\n",
       "\\item 'S2\\_25\\_NGBDI'\n",
       "\\item 'S2\\_26\\_CIVE'\n",
       "\\item 'S2\\_27\\_NDVI'\n",
       "\\item 'S2\\_28\\_EVI'\n",
       "\\item 'S2\\_29\\_SAVI'\n",
       "\\item 'S2\\_30\\_MSAVI'\n",
       "\\item 'S2\\_31\\_NDWI'\n",
       "\\item 'S2\\_32\\_GNDVI'\n",
       "\\item 'S2\\_33\\_OSAVI'\n",
       "\\item 'S2\\_34\\_ARVI'\n",
       "\\item 'S2\\_35\\_SIPI'\n",
       "\\item 'S2\\_36\\_CGI'\n",
       "\\item 'S2\\_37\\_RVI'\n",
       "\\item 'S2\\_38\\_CVI'\n",
       "\\item 'S2\\_39\\_CCCI'\n",
       "\\item 'S2\\_40\\_RECI'\n",
       "\\item 'S2\\_41\\_SVI'\n",
       "\\item 'S2\\_42\\_SSI'\n",
       "\\item 'S2\\_43\\_SCI'\n",
       "\\item 'S2\\_44\\_SMI'\n",
       "\\item 'S2\\_45\\_MDE'\n",
       "\\item 'S2\\_46\\_slope'\n",
       "\\item 'S2\\_47\\_aspect'\n",
       "\\item 'S2\\_48\\_TPI'\n",
       "\\item 'S2\\_49\\_TRI'\n",
       "\\item 'S2\\_50\\_flowdir'\n",
       "\\item 'S2\\_51\\_\\_ACP\\_1'\n",
       "\\item 'S2\\_52\\_\\_ACP\\_2'\n",
       "\\item 'S2\\_53\\_\\_ACP\\_3'\n",
       "\\item 'coords.x1'\n",
       "\\item 'coords.x2'\n",
       "\\item 'optional'\n",
       "\\end{enumerate*}\n"
      ],
      "text/markdown": [
       "1. 'ID'\n",
       "2. 'pH'\n",
       "3. 'CE'\n",
       "4. 'MO'\n",
       "5. 'N'\n",
       "6. 'P'\n",
       "7. 'K'\n",
       "8. 'Ca'\n",
       "9. 'Mg'\n",
       "10. 'Al'\n",
       "11. 'CICe'\n",
       "12. 'BT'\n",
       "13. 'SAl'\n",
       "14. 'Arena'\n",
       "15. 'Limo'\n",
       "16. 'Arcilla'\n",
       "17. 'Textura'\n",
       "18. 'S2_01_B1'\n",
       "19. 'S2_02_B2'\n",
       "20. 'S2_03_B3'\n",
       "21. 'S2_04_B4'\n",
       "22. 'S2_05_B5'\n",
       "23. 'S2_06_B6'\n",
       "24. 'S2_07_B7'\n",
       "25. 'S2_08_B8'\n",
       "26. 'S2_09_B9'\n",
       "27. 'S2_10_B11'\n",
       "28. 'S2_11_B12'\n",
       "29. 'S2_12_NGRDI'\n",
       "30. 'S2_13_ExG'\n",
       "31. 'S2_14_ExR'\n",
       "32. 'S2_15_ExB'\n",
       "33. 'S2_16_IKAW'\n",
       "34. 'S2_17_GRRI'\n",
       "35. 'S2_18_ExGR'\n",
       "36. 'S2_19_GBDI'\n",
       "37. 'S2_20_MGRVI'\n",
       "38. 'S2_21_RGBVI'\n",
       "39. 'S2_22_VDVI'\n",
       "40. 'S2_23_VARI'\n",
       "41. 'S2_24_RGRI'\n",
       "42. 'S2_25_NGBDI'\n",
       "43. 'S2_26_CIVE'\n",
       "44. 'S2_27_NDVI'\n",
       "45. 'S2_28_EVI'\n",
       "46. 'S2_29_SAVI'\n",
       "47. 'S2_30_MSAVI'\n",
       "48. 'S2_31_NDWI'\n",
       "49. 'S2_32_GNDVI'\n",
       "50. 'S2_33_OSAVI'\n",
       "51. 'S2_34_ARVI'\n",
       "52. 'S2_35_SIPI'\n",
       "53. 'S2_36_CGI'\n",
       "54. 'S2_37_RVI'\n",
       "55. 'S2_38_CVI'\n",
       "56. 'S2_39_CCCI'\n",
       "57. 'S2_40_RECI'\n",
       "58. 'S2_41_SVI'\n",
       "59. 'S2_42_SSI'\n",
       "60. 'S2_43_SCI'\n",
       "61. 'S2_44_SMI'\n",
       "62. 'S2_45_MDE'\n",
       "63. 'S2_46_slope'\n",
       "64. 'S2_47_aspect'\n",
       "65. 'S2_48_TPI'\n",
       "66. 'S2_49_TRI'\n",
       "67. 'S2_50_flowdir'\n",
       "68. 'S2_51__ACP_1'\n",
       "69. 'S2_52__ACP_2'\n",
       "70. 'S2_53__ACP_3'\n",
       "71. 'coords.x1'\n",
       "72. 'coords.x2'\n",
       "73. 'optional'\n",
       "\n",
       "\n"
      ],
      "text/plain": [
       " [1] \"ID\"            \"pH\"            \"CE\"            \"MO\"           \n",
       " [5] \"N\"             \"P\"             \"K\"             \"Ca\"           \n",
       " [9] \"Mg\"            \"Al\"            \"CICe\"          \"BT\"           \n",
       "[13] \"SAl\"           \"Arena\"         \"Limo\"          \"Arcilla\"      \n",
       "[17] \"Textura\"       \"S2_01_B1\"      \"S2_02_B2\"      \"S2_03_B3\"     \n",
       "[21] \"S2_04_B4\"      \"S2_05_B5\"      \"S2_06_B6\"      \"S2_07_B7\"     \n",
       "[25] \"S2_08_B8\"      \"S2_09_B9\"      \"S2_10_B11\"     \"S2_11_B12\"    \n",
       "[29] \"S2_12_NGRDI\"   \"S2_13_ExG\"     \"S2_14_ExR\"     \"S2_15_ExB\"    \n",
       "[33] \"S2_16_IKAW\"    \"S2_17_GRRI\"    \"S2_18_ExGR\"    \"S2_19_GBDI\"   \n",
       "[37] \"S2_20_MGRVI\"   \"S2_21_RGBVI\"   \"S2_22_VDVI\"    \"S2_23_VARI\"   \n",
       "[41] \"S2_24_RGRI\"    \"S2_25_NGBDI\"   \"S2_26_CIVE\"    \"S2_27_NDVI\"   \n",
       "[45] \"S2_28_EVI\"     \"S2_29_SAVI\"    \"S2_30_MSAVI\"   \"S2_31_NDWI\"   \n",
       "[49] \"S2_32_GNDVI\"   \"S2_33_OSAVI\"   \"S2_34_ARVI\"    \"S2_35_SIPI\"   \n",
       "[53] \"S2_36_CGI\"     \"S2_37_RVI\"     \"S2_38_CVI\"     \"S2_39_CCCI\"   \n",
       "[57] \"S2_40_RECI\"    \"S2_41_SVI\"     \"S2_42_SSI\"     \"S2_43_SCI\"    \n",
       "[61] \"S2_44_SMI\"     \"S2_45_MDE\"     \"S2_46_slope\"   \"S2_47_aspect\" \n",
       "[65] \"S2_48_TPI\"     \"S2_49_TRI\"     \"S2_50_flowdir\" \"S2_51__ACP_1\" \n",
       "[69] \"S2_52__ACP_2\"  \"S2_53__ACP_3\"  \"coords.x1\"     \"coords.x2\"    \n",
       "[73] \"optional\"     "
      ]
     },
     "metadata": {},
     "output_type": "display_data"
    }
   ],
   "source": [
    "names(dav)"
   ]
  },
  {
   "cell_type": "code",
   "execution_count": 26,
   "id": "ce6208cd-2cbc-449e-93fe-310c3c8c0707",
   "metadata": {
    "tags": []
   },
   "outputs": [
    {
     "data": {
      "text/html": [
       "<table class=\"dataframe\">\n",
       "<caption>A data.frame: 4 × 31</caption>\n",
       "<thead>\n",
       "\t<tr><th></th><th scope=col>datos_Suelo..name_suelo.2...</th><th scope=col>S2_01_B1</th><th scope=col>S2_04_B4</th><th scope=col>S2_03_B3</th><th scope=col>S2_05_B5</th><th scope=col>S2_07_B7</th><th scope=col>S2_09_B9</th><th scope=col>S2_10_B11</th><th scope=col>S2_11_B12</th><th scope=col>S2_17_GRRI</th><th scope=col>⋯</th><th scope=col>S2_38_CVI</th><th scope=col>S2_43_SCI</th><th scope=col>S2_45_MDE</th><th scope=col>S2_49_TRI</th><th scope=col>S2_47_aspect</th><th scope=col>S2_48_TPI</th><th scope=col>S2_50_flowdir</th><th scope=col>S2_51__ACP_1</th><th scope=col>S2_52__ACP_2</th><th scope=col>S2_53__ACP_3</th></tr>\n",
       "\t<tr><th></th><th scope=col>&lt;dbl&gt;</th><th scope=col>&lt;dbl&gt;</th><th scope=col>&lt;dbl&gt;</th><th scope=col>&lt;dbl&gt;</th><th scope=col>&lt;dbl&gt;</th><th scope=col>&lt;dbl&gt;</th><th scope=col>&lt;dbl&gt;</th><th scope=col>&lt;dbl&gt;</th><th scope=col>&lt;dbl&gt;</th><th scope=col>&lt;dbl&gt;</th><th scope=col>⋯</th><th scope=col>&lt;dbl&gt;</th><th scope=col>&lt;dbl&gt;</th><th scope=col>&lt;dbl&gt;</th><th scope=col>&lt;dbl&gt;</th><th scope=col>&lt;dbl&gt;</th><th scope=col>&lt;dbl&gt;</th><th scope=col>&lt;int&gt;</th><th scope=col>&lt;dbl&gt;</th><th scope=col>&lt;dbl&gt;</th><th scope=col>&lt;dbl&gt;</th></tr>\n",
       "</thead>\n",
       "<tbody>\n",
       "\t<tr><th scope=row>1</th><td>1.20</td><td>0.0290</td><td>0.0323</td><td>0.0500</td><td>0.0885</td><td>0.3549</td><td>0.3724</td><td>0.2159</td><td>0.0974</td><td>1.5479876</td><td>⋯</td><td>4.373420</td><td>33.91396</td><td>217.5808</td><td>0.5321983</td><td>  0.00000</td><td> 0.21780168</td><td>64</td><td>-0.18855515</td><td> 0.004775629</td><td>-0.007336683</td></tr>\n",
       "\t<tr><th scope=row>2</th><td>0.13</td><td>0.0381</td><td>0.0782</td><td>0.0614</td><td>0.0911</td><td>0.1231</td><td>0.1621</td><td>0.2420</td><td>0.2223</td><td>0.7851663</td><td>⋯</td><td>2.605311</td><td>20.74951</td><td>219.3033</td><td>0.3386931</td><td>313.40308</td><td> 0.04040952</td><td>64</td><td> 0.19860272</td><td>-0.198087066</td><td> 0.009015589</td></tr>\n",
       "\t<tr><th scope=row>3</th><td>0.16</td><td>0.0287</td><td>0.0634</td><td>0.0700</td><td>0.1175</td><td>0.3134</td><td>0.3281</td><td>0.2881</td><td>0.1637</td><td>1.1041009</td><td>⋯</td><td>3.844110</td><td>19.13874</td><td>215.5808</td><td>0.6525297</td><td> 16.81831</td><td>-0.33638239</td><td>64</td><td>-0.06107873</td><td> 0.034771886</td><td>-0.015924960</td></tr>\n",
       "\t<tr><th scope=row>4</th><td>0.10</td><td>0.0451</td><td>0.1058</td><td>0.0877</td><td>0.1549</td><td>0.2678</td><td>0.3103</td><td>0.3843</td><td>0.2645</td><td>0.8289225</td><td>⋯</td><td>3.853005</td><td>13.02195</td><td>237.0000</td><td>0.1571983</td><td>360.00000</td><td> 0.15719832</td><td>64</td><td> 0.08259204</td><td> 0.108550020</td><td>-0.035339050</td></tr>\n",
       "</tbody>\n",
       "</table>\n"
      ],
      "text/latex": [
       "A data.frame: 4 × 31\n",
       "\\begin{tabular}{r|lllllllllllllllllllll}\n",
       "  & datos\\_Suelo..name\\_suelo.2... & S2\\_01\\_B1 & S2\\_04\\_B4 & S2\\_03\\_B3 & S2\\_05\\_B5 & S2\\_07\\_B7 & S2\\_09\\_B9 & S2\\_10\\_B11 & S2\\_11\\_B12 & S2\\_17\\_GRRI & ⋯ & S2\\_38\\_CVI & S2\\_43\\_SCI & S2\\_45\\_MDE & S2\\_49\\_TRI & S2\\_47\\_aspect & S2\\_48\\_TPI & S2\\_50\\_flowdir & S2\\_51\\_\\_ACP\\_1 & S2\\_52\\_\\_ACP\\_2 & S2\\_53\\_\\_ACP\\_3\\\\\n",
       "  & <dbl> & <dbl> & <dbl> & <dbl> & <dbl> & <dbl> & <dbl> & <dbl> & <dbl> & <dbl> & ⋯ & <dbl> & <dbl> & <dbl> & <dbl> & <dbl> & <dbl> & <int> & <dbl> & <dbl> & <dbl>\\\\\n",
       "\\hline\n",
       "\t1 & 1.20 & 0.0290 & 0.0323 & 0.0500 & 0.0885 & 0.3549 & 0.3724 & 0.2159 & 0.0974 & 1.5479876 & ⋯ & 4.373420 & 33.91396 & 217.5808 & 0.5321983 &   0.00000 &  0.21780168 & 64 & -0.18855515 &  0.004775629 & -0.007336683\\\\\n",
       "\t2 & 0.13 & 0.0381 & 0.0782 & 0.0614 & 0.0911 & 0.1231 & 0.1621 & 0.2420 & 0.2223 & 0.7851663 & ⋯ & 2.605311 & 20.74951 & 219.3033 & 0.3386931 & 313.40308 &  0.04040952 & 64 &  0.19860272 & -0.198087066 &  0.009015589\\\\\n",
       "\t3 & 0.16 & 0.0287 & 0.0634 & 0.0700 & 0.1175 & 0.3134 & 0.3281 & 0.2881 & 0.1637 & 1.1041009 & ⋯ & 3.844110 & 19.13874 & 215.5808 & 0.6525297 &  16.81831 & -0.33638239 & 64 & -0.06107873 &  0.034771886 & -0.015924960\\\\\n",
       "\t4 & 0.10 & 0.0451 & 0.1058 & 0.0877 & 0.1549 & 0.2678 & 0.3103 & 0.3843 & 0.2645 & 0.8289225 & ⋯ & 3.853005 & 13.02195 & 237.0000 & 0.1571983 & 360.00000 &  0.15719832 & 64 &  0.08259204 &  0.108550020 & -0.035339050\\\\\n",
       "\\end{tabular}\n"
      ],
      "text/markdown": [
       "\n",
       "A data.frame: 4 × 31\n",
       "\n",
       "| <!--/--> | datos_Suelo..name_suelo.2... &lt;dbl&gt; | S2_01_B1 &lt;dbl&gt; | S2_04_B4 &lt;dbl&gt; | S2_03_B3 &lt;dbl&gt; | S2_05_B5 &lt;dbl&gt; | S2_07_B7 &lt;dbl&gt; | S2_09_B9 &lt;dbl&gt; | S2_10_B11 &lt;dbl&gt; | S2_11_B12 &lt;dbl&gt; | S2_17_GRRI &lt;dbl&gt; | ⋯ ⋯ | S2_38_CVI &lt;dbl&gt; | S2_43_SCI &lt;dbl&gt; | S2_45_MDE &lt;dbl&gt; | S2_49_TRI &lt;dbl&gt; | S2_47_aspect &lt;dbl&gt; | S2_48_TPI &lt;dbl&gt; | S2_50_flowdir &lt;int&gt; | S2_51__ACP_1 &lt;dbl&gt; | S2_52__ACP_2 &lt;dbl&gt; | S2_53__ACP_3 &lt;dbl&gt; |\n",
       "|---|---|---|---|---|---|---|---|---|---|---|---|---|---|---|---|---|---|---|---|---|---|\n",
       "| 1 | 1.20 | 0.0290 | 0.0323 | 0.0500 | 0.0885 | 0.3549 | 0.3724 | 0.2159 | 0.0974 | 1.5479876 | ⋯ | 4.373420 | 33.91396 | 217.5808 | 0.5321983 |   0.00000 |  0.21780168 | 64 | -0.18855515 |  0.004775629 | -0.007336683 |\n",
       "| 2 | 0.13 | 0.0381 | 0.0782 | 0.0614 | 0.0911 | 0.1231 | 0.1621 | 0.2420 | 0.2223 | 0.7851663 | ⋯ | 2.605311 | 20.74951 | 219.3033 | 0.3386931 | 313.40308 |  0.04040952 | 64 |  0.19860272 | -0.198087066 |  0.009015589 |\n",
       "| 3 | 0.16 | 0.0287 | 0.0634 | 0.0700 | 0.1175 | 0.3134 | 0.3281 | 0.2881 | 0.1637 | 1.1041009 | ⋯ | 3.844110 | 19.13874 | 215.5808 | 0.6525297 |  16.81831 | -0.33638239 | 64 | -0.06107873 |  0.034771886 | -0.015924960 |\n",
       "| 4 | 0.10 | 0.0451 | 0.1058 | 0.0877 | 0.1549 | 0.2678 | 0.3103 | 0.3843 | 0.2645 | 0.8289225 | ⋯ | 3.853005 | 13.02195 | 237.0000 | 0.1571983 | 360.00000 |  0.15719832 | 64 |  0.08259204 |  0.108550020 | -0.035339050 |\n",
       "\n"
      ],
      "text/plain": [
       "  datos_Suelo..name_suelo.2... S2_01_B1 S2_04_B4 S2_03_B3 S2_05_B5 S2_07_B7\n",
       "1 1.20                         0.0290   0.0323   0.0500   0.0885   0.3549  \n",
       "2 0.13                         0.0381   0.0782   0.0614   0.0911   0.1231  \n",
       "3 0.16                         0.0287   0.0634   0.0700   0.1175   0.3134  \n",
       "4 0.10                         0.0451   0.1058   0.0877   0.1549   0.2678  \n",
       "  S2_09_B9 S2_10_B11 S2_11_B12 S2_17_GRRI ⋯ S2_38_CVI S2_43_SCI S2_45_MDE\n",
       "1 0.3724   0.2159    0.0974    1.5479876  ⋯ 4.373420  33.91396  217.5808 \n",
       "2 0.1621   0.2420    0.2223    0.7851663  ⋯ 2.605311  20.74951  219.3033 \n",
       "3 0.3281   0.2881    0.1637    1.1041009  ⋯ 3.844110  19.13874  215.5808 \n",
       "4 0.3103   0.3843    0.2645    0.8289225  ⋯ 3.853005  13.02195  237.0000 \n",
       "  S2_49_TRI S2_47_aspect S2_48_TPI   S2_50_flowdir S2_51__ACP_1 S2_52__ACP_2\n",
       "1 0.5321983   0.00000     0.21780168 64            -0.18855515   0.004775629\n",
       "2 0.3386931 313.40308     0.04040952 64             0.19860272  -0.198087066\n",
       "3 0.6525297  16.81831    -0.33638239 64            -0.06107873   0.034771886\n",
       "4 0.1571983 360.00000     0.15719832 64             0.08259204   0.108550020\n",
       "  S2_53__ACP_3\n",
       "1 -0.007336683\n",
       "2  0.009015589\n",
       "3 -0.015924960\n",
       "4 -0.035339050"
      ]
     },
     "metadata": {},
     "output_type": "display_data"
    }
   ],
   "source": [
    "df_suelo <- data.frame(datos_Suelo[[name_suelo[2]]], S2_01_B1,S2_04_B4,S2_03_B3,S2_05_B5,S2_07_B7,S2_09_B9,S2_10_B11,S2_11_B12,S2_17_GRRI,\n",
    "                      S2_26_CIVE,S2_14_ExR,S2_15_ExB,S2_16_IKAW,S2_19_GBDI,S2_20_MGRVI,S2_25_NGBDI,S2_30_MSAVI,\n",
    "                      S2_35_SIPI,S2_36_CGI,S2_44_SMI,S2_38_CVI,S2_43_SCI,S2_45_MDE,S2_49_TRI,S2_47_aspect,S2_48_TPI,\n",
    "                      S2_50_flowdir,S2_51__ACP_1,S2_52__ACP_2,S2_53__ACP_3)\n",
    "head(df_suelo,4)"
   ]
  },
  {
   "cell_type": "code",
   "execution_count": 28,
   "id": "b91d2247-2ae8-4aaf-974b-ede5d5ddd746",
   "metadata": {
    "tags": []
   },
   "outputs": [],
   "source": [
    "library(sp)\n",
    "library(raster)\n",
    "library(sf)"
   ]
  },
  {
   "cell_type": "code",
   "execution_count": 29,
   "id": "b2173413-e236-4088-a820-7fc7d48de156",
   "metadata": {
    "tags": []
   },
   "outputs": [
    {
     "name": "stdout",
     "output_type": "stream",
     "text": [
      "[1] \"Se va utilizar el R2 R_O > R:  0.996\"\n",
      "Backward elimination, alpha-to-remove: 0.05\n",
      "\n",
      "Full model: dato_suelo ~ S2_01_B1 + S2_04_B4 + S2_03_B3 + S2_05_B5 + S2_07_B7 + \n",
      "    S2_09_B9 + S2_10_B11 + S2_11_B12 + S2_17_GRRI + S2_26_CIVE + \n",
      "    S2_14_ExR + S2_15_ExB + S2_16_IKAW + S2_19_GBDI + S2_20_MGRVI + \n",
      "    S2_25_NGBDI + S2_30_MSAVI + S2_35_SIPI + S2_36_CGI + S2_44_SMI + \n",
      "    S2_38_CVI + S2_43_SCI + S2_45_MDE + S2_49_TRI + S2_47_aspect + \n",
      "    S2_48_TPI + S2_50_flowdir + S2_51__ACP_1 + S2_52__ACP_2 + \n",
      "    S2_53__ACP_3 - 1\n",
      "\n",
      "              Step    RSS     AIC     R2pred      Cp F value  Pr(>F)  \n",
      "S2_20_MGRVI      1 2.8001 -129.88 -0.1244604 28.0008  0.0009 0.97643  \n",
      "S2_44_SMI        2 2.8004 -131.87 -0.0611673 26.0038  0.0033 0.95453  \n",
      "S2_09_B9         3 2.8029 -133.82 -0.0085345 24.0302  0.0298 0.86386  \n",
      "S2_07_B7         4 2.8034 -135.81  0.0364802 22.0360  0.0068 0.93483  \n",
      "S2_38_CVI        5 2.8155 -137.55  0.0967126 20.1658  0.1556 0.69553  \n",
      "S2_35_SIPI       6 2.8218 -139.42  0.1245778 18.2326  0.0819 0.77634  \n",
      "S2_50_flowdir    7 2.8339 -141.16  0.1607574 16.3627  0.1634 0.68827  \n",
      "S2_01_B1         8 2.8742 -142.31  0.2220011 14.7949  0.5552 0.46065  \n",
      "S2_43_SCI        9 2.9035 -143.71  0.2498029 13.1082  0.4069 0.52720  \n",
      "S2_49_TRI       10 2.9334 -145.09  0.2676106 11.4283  0.4220 0.51958  \n",
      "S2_30_MSAVI     11 3.0288 -145.17  0.2592494 10.4509  1.3666 0.24899  \n",
      "S2_17_GRRI      12 3.1082 -145.62  0.2778709  9.3013  1.1268 0.29439  \n",
      "S2_36_CGI       13 3.1471 -146.87  0.2784009  7.7179  0.5504 0.46208  \n",
      "S2_25_NGBDI     14 3.1939 -147.99  0.2883003  6.2195  0.6695 0.41753  \n",
      "S2_47_aspect    15 3.2845 -148.31  0.2977280  5.1905  1.3053 0.25917  \n",
      "S2_05_B5        16 3.5128 -146.28  0.3070194  5.6361  3.2663 0.07712 .\n",
      "S2_52__ACP_2    17 3.5485 -147.67  0.3282704  4.0192  0.4885 0.48795  \n",
      "S2_51__ACP_1    18 3.6414 -148.12  0.3293012  3.0141  1.2823 0.26298  \n",
      "S2_11_B12       19 3.8203 -147.24  0.3377851  2.9314  2.4571 0.12330  \n",
      "S2_26_CIVE      20 4.0643 -145.53  0.3345727  3.5456  3.2573 0.07701 .\n",
      "S2_10_B11       21 4.3123 -143.97  0.3149991  4.2025  3.1727 0.08072 .\n",
      "S2_48_TPI       22 4.5111 -143.27  0.3005935  4.3323  2.4431 0.12399  \n",
      "---\n",
      "Signif. codes:  0 '***' 0.001 '**' 0.01 '*' 0.05 '.' 0.1 ' ' 1\n"
     ]
    },
    {
     "name": "stderr",
     "output_type": "stream",
     "text": [
      "Warning message in CPL_crs_from_input(x):\n",
      "\"GDAL Message 1: +init=epsg:XXXX syntax is deprecated. It might return a CRS with a non-EPSG compliant axis order.\"\n",
      "Warning message in abbreviate_shapefile_names(obj):\n",
      "\"Field names abbreviated for ESRI Shapefile driver\"\n"
     ]
    },
    {
     "name": "stdout",
     "output_type": "stream",
     "text": [
      "Writing layer `SHP_Residuales_pH' to data source \n",
      "  `C:/Users/AGPRES/Jupyter_Python/AGPRES/Datos_suelo/Satelite/Sentinel2/Bandas/SHP/SHP_Residuales_pH.shp' using driver `ESRI Shapefile'\n",
      "Writing 60 features with 1 fields and geometry type Point.\n",
      "[1] \"Se va utilizar el R2 R_O > R:  0.567\"\n",
      "Backward elimination, alpha-to-remove: 0.05\n",
      "\n",
      "Full model: dato_suelo ~ S2_01_B1 + S2_04_B4 + S2_03_B3 + S2_05_B5 + S2_07_B7 + \n",
      "    S2_09_B9 + S2_10_B11 + S2_11_B12 + S2_17_GRRI + S2_26_CIVE + \n",
      "    S2_14_ExR + S2_15_ExB + S2_16_IKAW + S2_19_GBDI + S2_20_MGRVI + \n",
      "    S2_25_NGBDI + S2_30_MSAVI + S2_35_SIPI + S2_36_CGI + S2_44_SMI + \n",
      "    S2_38_CVI + S2_43_SCI + S2_45_MDE + S2_49_TRI + S2_47_aspect + \n",
      "    S2_48_TPI + S2_50_flowdir + S2_51__ACP_1 + S2_52__ACP_2 + \n",
      "    S2_53__ACP_3 - 1\n",
      "\n",
      "              Step    RSS    AIC     R2pred       Cp F value  Pr(>F)  \n",
      "S2_30_MSAVI      1 48.808 41.613 -1.1237408 28.01277  0.0136 0.90781  \n",
      "S2_44_SMI        2 48.815 39.622 -0.9245760 26.01695  0.0046 0.94637  \n",
      "S2_17_GRRI       3 48.842 37.655 -0.6832379 24.03345  0.0187 0.89208  \n",
      "S2_36_CGI        4 48.855 35.670 -0.5814722 22.04114  0.0090 0.92511  \n",
      "S2_50_flowdir    5 48.933 33.766 -0.5132314 20.08920  0.0576 0.81170  \n",
      "S2_07_B7         6 49.023 31.876 -0.4281602 18.14458  0.0681 0.79558  \n",
      "S2_01_B1         7 49.024 29.878 -0.2205918 16.14545  0.0011 0.97373  \n",
      "S2_47_aspect     8 49.226 28.125 -0.1951797 14.26964  0.1607 0.69074  \n",
      "S2_45_MDE        9 49.342 26.265 -0.1345824 12.34066  0.0939 0.76092  \n",
      "S2_20_MGRVI     10 49.514 24.474 -0.0592969 10.44650  0.1430 0.70725  \n",
      "S2_48_TPI       11 49.703 22.703 -0.0092933  8.56274  0.1604 0.69086  \n",
      "S2_38_CVI       12 50.009 21.072  0.0312110  6.75128  0.2653 0.60917  \n",
      "S2_25_NGBDI     13 50.158 19.250  0.0717141  4.84254  0.1306 0.71956  \n",
      "S2_16_IKAW      14 50.464 17.615  0.1142597  3.03081  0.2747 0.60277  \n",
      "S2_09_B9        15 51.519 16.856  0.1323167  1.67927  0.9613 0.33199  \n",
      "S2_53__ACP_3    16 52.389 15.861  0.1592101  0.21449  0.7941 0.37742  \n",
      "S2_35_SIPI      17 53.668 15.309  0.1762381 -0.99875  1.1723 0.28434  \n",
      "S2_49_TRI       18 55.666 15.501  0.1989826 -1.77045  1.8238 0.18307  \n",
      "S2_11_B12       19 59.064 17.057  0.1712296 -1.68089  3.0523 0.08676 .\n",
      "S2_05_B5        20 59.344 15.340  0.2064132 -3.50907  0.2413 0.62540  \n",
      "S2_26_CIVE      21 60.056 14.056  0.2329458 -5.07117  0.6240 0.43314  \n",
      "S2_51__ACP_1    22 60.318 12.317  0.2490662 -6.91014  0.2311 0.63269  \n",
      "S2_52__ACP_2    23 60.485 10.483  0.2702288 -8.80725  0.1498 0.70024  \n",
      "---\n",
      "Signif. codes:  0 '***' 0.001 '**' 0.01 '*' 0.05 '.' 0.1 ' ' 1\n",
      "[1] \"Directorio existe SHP\"\n"
     ]
    },
    {
     "name": "stderr",
     "output_type": "stream",
     "text": [
      "Warning message in abbreviate_shapefile_names(obj):\n",
      "\"Field names abbreviated for ESRI Shapefile driver\"\n"
     ]
    },
    {
     "name": "stdout",
     "output_type": "stream",
     "text": [
      "Writing layer `SHP_Residuales_CE' to data source \n",
      "  `C:/Users/AGPRES/Jupyter_Python/AGPRES/Datos_suelo/Satelite/Sentinel2/Bandas/SHP/SHP_Residuales_CE.shp' using driver `ESRI Shapefile'\n",
      "Writing 60 features with 1 fields and geometry type Point.\n",
      "[1] \"Directorio existe Prediccion\"\n",
      "[1] \"Se va utilizar el R2 R_O > R:  0.864\"\n",
      "Backward elimination, alpha-to-remove: 0.05\n",
      "\n",
      "Full model: dato_suelo ~ S2_01_B1 + S2_04_B4 + S2_03_B3 + S2_05_B5 + S2_07_B7 + \n",
      "    S2_09_B9 + S2_10_B11 + S2_11_B12 + S2_17_GRRI + S2_26_CIVE + \n",
      "    S2_14_ExR + S2_15_ExB + S2_16_IKAW + S2_19_GBDI + S2_20_MGRVI + \n",
      "    S2_25_NGBDI + S2_30_MSAVI + S2_35_SIPI + S2_36_CGI + S2_44_SMI + \n",
      "    S2_38_CVI + S2_43_SCI + S2_45_MDE + S2_49_TRI + S2_47_aspect + \n",
      "    S2_48_TPI + S2_50_flowdir + S2_51__ACP_1 + S2_52__ACP_2 + \n",
      "    S2_53__ACP_3 - 1\n",
      "\n",
      "              Step    RSS    AIC    R2pred     Cp F value  Pr(>F)  \n",
      "S2_44_SMI        1 34.260 20.378 -0.222019 28.022  0.0234 0.87926  \n",
      "S2_01_B1         2 34.283 18.419 -0.159815 26.043  0.0227 0.88117  \n",
      "S2_47_aspect     3 34.408 16.636 -0.123173 24.151  0.1232 0.72778  \n",
      "S2_48_TPI        4 34.568 14.915 -0.079121 22.292  0.1632 0.68872  \n",
      "S2_07_B7         5 34.690 13.126 -0.015073 20.399  0.1270 0.72366  \n",
      "S2_45_MDE        6 34.843 11.391  0.027475 18.533  0.1633 0.68842  \n",
      "S2_20_MGRVI      7 35.602 10.683  0.060036 17.198  0.8272 0.36881  \n",
      "S2_49_TRI        8 36.818 10.699  0.085136 16.264  1.3329 0.25532  \n",
      "S2_50_flowdir    9 38.155 10.839  0.085058 15.436  1.4527 0.23518  \n",
      "S2_05_B5        10 40.897 13.003  0.137014 15.839  2.9464 0.09361 .\n",
      "S2_36_CGI       11 41.666 12.120  0.186012 14.512  0.7892 0.37942  \n",
      "S2_17_GRRI      12 43.703 12.985  0.197165 14.297  2.1026 0.15431  \n",
      "S2_51__ACP_1    13 46.013 14.074  0.215763 14.321  2.3251 0.13446  \n",
      "S2_35_SIPI      14 49.521 16.483  0.204816 15.396  3.4314 0.07054 .\n",
      "S2_38_CVI       15 50.884 16.112  0.186806 14.589  1.2654 0.26646  \n",
      "S2_16_IKAW      16 53.600 17.232  0.223848 14.970  2.5091 0.11990  \n",
      "S2_25_NGBDI     17 56.935 18.854  0.169691 15.892  2.9866 0.09039 .\n",
      "S2_43_SCI       18 57.987 17.953  0.203813 14.814  0.9054 0.34600  \n",
      "---\n",
      "Signif. codes:  0 '***' 0.001 '**' 0.01 '*' 0.05 '.' 0.1 ' ' 1\n",
      "[1] \"Directorio existe SHP\"\n"
     ]
    },
    {
     "name": "stderr",
     "output_type": "stream",
     "text": [
      "Warning message in abbreviate_shapefile_names(obj):\n",
      "\"Field names abbreviated for ESRI Shapefile driver\"\n"
     ]
    },
    {
     "name": "stdout",
     "output_type": "stream",
     "text": [
      "Writing layer `SHP_Residuales_MO' to data source \n",
      "  `C:/Users/AGPRES/Jupyter_Python/AGPRES/Datos_suelo/Satelite/Sentinel2/Bandas/SHP/SHP_Residuales_MO.shp' using driver `ESRI Shapefile'\n",
      "Writing 60 features with 1 fields and geometry type Point.\n",
      "[1] \"Directorio existe Prediccion\"\n",
      "[1] \"Se va utilizar el R2 R_O > R:  0.889\"\n",
      "Backward elimination, alpha-to-remove: 0.05\n",
      "\n",
      "Full model: dato_suelo ~ S2_01_B1 + S2_04_B4 + S2_03_B3 + S2_05_B5 + S2_07_B7 + \n",
      "    S2_09_B9 + S2_10_B11 + S2_11_B12 + S2_17_GRRI + S2_26_CIVE + \n",
      "    S2_14_ExR + S2_15_ExB + S2_16_IKAW + S2_19_GBDI + S2_20_MGRVI + \n",
      "    S2_25_NGBDI + S2_30_MSAVI + S2_35_SIPI + S2_36_CGI + S2_44_SMI + \n",
      "    S2_38_CVI + S2_43_SCI + S2_45_MDE + S2_49_TRI + S2_47_aspect + \n",
      "    S2_48_TPI + S2_50_flowdir + S2_51__ACP_1 + S2_52__ACP_2 + \n",
      "    S2_53__ACP_3 - 1\n",
      "\n",
      "              Step      RSS     AIC    R2pred     Cp F value  Pr(>F)  \n",
      "S2_47_aspect     1 0.050055 -371.34 -0.321170 28.055  0.0583 0.81070  \n",
      "S2_01_B1         2 0.050248 -373.11 -0.266682 26.171  0.1277 0.72314  \n",
      "S2_44_SMI        3 0.050489 -374.82 -0.171210 24.316  0.1631 0.68886  \n",
      "S2_07_B7         4 0.050764 -376.50 -0.100253 22.480  0.1902 0.66545  \n",
      "S2_48_TPI        5 0.050985 -378.23 -0.061220 20.613  0.1571 0.69420  \n",
      "S2_45_MDE        6 0.051494 -379.64 -0.026802 18.919  0.3693 0.54708  \n",
      "S2_20_MGRVI      7 0.052477 -380.50  0.020659 17.509  0.7255 0.39968  \n",
      "S2_49_TRI        8 0.055184 -379.49  0.027763 17.134  2.0115 0.16405  \n",
      "S2_50_flowdir    9 0.057052 -379.49  0.024857 16.256  1.3542 0.25143  \n",
      "S2_35_SIPI      10 0.061409 -377.07  0.052197 16.873  3.1314 0.08423 .\n",
      "S2_38_CVI       11 0.067279 -373.59 -0.031271 18.397  4.0146 0.05159 .\n",
      "S2_16_IKAW      12 0.071715 -371.76  0.063872 19.060  2.8347 0.09949 .\n",
      "S2_05_B5        13 0.072876 -372.80  0.080074 17.758  0.7124 0.40320  \n",
      "S2_51__ACP_1    14 0.073215 -374.52  0.137788 15.961  0.2092 0.64957  \n",
      "S2_25_NGBDI     15 0.074283 -375.65  0.155197 14.602  0.6711 0.41690  \n",
      "S2_11_B12       16 0.080252 -373.02  0.125949 16.186  3.7767 0.05797 .\n",
      "S2_36_CGI       17 0.084165 -372.16  0.134982 16.536  2.3403 0.13263  \n",
      "S2_17_GRRI      18 0.087266 -371.99  0.116274 16.398  1.8058 0.18521  \n",
      "S2_10_B11       19 0.092092 -370.76  0.084841 17.295  2.7646 0.10263  \n",
      "S2_09_B9        20 0.092434 -372.54  0.107165 15.501  0.1893 0.66530  \n",
      "S2_52__ACP_2    21 0.093067 -374.13  0.125894 13.881  0.3564 0.55311  \n",
      "S2_26_CIVE      22 0.093789 -375.66  0.157234 12.315  0.4113 0.52406  \n",
      "---\n",
      "Signif. codes:  0 '***' 0.001 '**' 0.01 '*' 0.05 '.' 0.1 ' ' 1\n",
      "[1] \"Directorio existe SHP\"\n"
     ]
    },
    {
     "name": "stderr",
     "output_type": "stream",
     "text": [
      "Warning message in abbreviate_shapefile_names(obj):\n",
      "\"Field names abbreviated for ESRI Shapefile driver\"\n"
     ]
    },
    {
     "name": "stdout",
     "output_type": "stream",
     "text": [
      "Writing layer `SHP_Residuales_N' to data source \n",
      "  `C:/Users/AGPRES/Jupyter_Python/AGPRES/Datos_suelo/Satelite/Sentinel2/Bandas/SHP/SHP_Residuales_N.shp' using driver `ESRI Shapefile'\n",
      "Writing 60 features with 1 fields and geometry type Point.\n",
      "[1] \"Directorio existe Prediccion\"\n",
      "[1] \"Se va utilizar el R2 R_O > R:  0.658\"\n",
      "Backward elimination, alpha-to-remove: 0.05\n",
      "\n",
      "Full model: dato_suelo ~ S2_01_B1 + S2_04_B4 + S2_03_B3 + S2_05_B5 + S2_07_B7 + \n",
      "    S2_09_B9 + S2_10_B11 + S2_11_B12 + S2_17_GRRI + S2_26_CIVE + \n",
      "    S2_14_ExR + S2_15_ExB + S2_16_IKAW + S2_19_GBDI + S2_20_MGRVI + \n",
      "    S2_25_NGBDI + S2_30_MSAVI + S2_35_SIPI + S2_36_CGI + S2_44_SMI + \n",
      "    S2_38_CVI + S2_43_SCI + S2_45_MDE + S2_49_TRI + S2_47_aspect + \n",
      "    S2_48_TPI + S2_50_flowdir + S2_51__ACP_1 + S2_52__ACP_2 + \n",
      "    S2_53__ACP_3 - 1\n",
      "\n",
      "              Step     RSS    AIC     R2pred     Cp F value Pr(>F)  \n",
      "S2_30_MSAVI      1  723.32 203.37 -0.3176561 28.005  0.0048 0.9450  \n",
      "S2_38_CVI        2  727.49 201.72 -0.1537644 26.178  0.1903 0.6655  \n",
      "S2_16_IKAW       3  731.55 200.05 -0.0789327 24.346  0.1898 0.6658  \n",
      "S2_45_MDE        4  742.01 198.90 -0.0619737 22.780  0.5004 0.4840  \n",
      "S2_50_flowdir    5  766.43 198.84 -0.0867847 21.793  1.1851 0.2835  \n",
      "S2_25_NGBDI      6  808.05 200.02 -0.1305717 21.519  2.0088 0.1648  \n",
      "S2_48_TPI        7  837.93 200.20 -0.1070527 20.759  1.4052 0.2432  \n",
      "S2_35_SIPI       8  855.29 199.43 -0.0869559 19.479  0.8082 0.3742  \n",
      "S2_43_SCI        9  875.08 198.80 -0.0572699 18.300  0.9256 0.3418  \n",
      "S2_47_aspect    10  912.81 199.33 -0.0492545 17.865  1.7676 0.1910  \n",
      "S2_20_MGRVI     11  968.70 200.90 -0.0858123 18.184  2.5717 0.1163  \n",
      "S2_07_B7        12 1045.24 203.46 -0.0251371 19.359  3.3975 0.0722 .\n",
      "S2_09_B9        13 1067.55 202.73 -0.0017159 18.284  0.9390 0.3378  \n",
      "S2_53__ACP_3    14 1091.29 202.05  0.0426283 17.269  1.0007 0.3225  \n",
      "S2_05_B5        15 1110.10 201.07  0.0630796 16.049  0.7927 0.3779  \n",
      "S2_26_CIVE      16 1114.35 199.30  0.1282976 14.225  0.1802 0.6732  \n",
      "S2_01_B1        17 1123.38 197.78  0.1581355 12.600  0.3887 0.5359  \n",
      "S2_49_TRI       18 1143.20 196.83  0.1505953 11.422  0.8646 0.3570  \n",
      "S2_10_B11       19 1177.16 196.59  0.2176630 10.831  1.4856 0.2286  \n",
      "---\n",
      "Signif. codes:  0 '***' 0.001 '**' 0.01 '*' 0.05 '.' 0.1 ' ' 1\n",
      "[1] \"Directorio existe SHP\"\n"
     ]
    },
    {
     "name": "stderr",
     "output_type": "stream",
     "text": [
      "Warning message in abbreviate_shapefile_names(obj):\n",
      "\"Field names abbreviated for ESRI Shapefile driver\"\n"
     ]
    },
    {
     "name": "stdout",
     "output_type": "stream",
     "text": [
      "Writing layer `SHP_Residuales_P' to data source \n",
      "  `C:/Users/AGPRES/Jupyter_Python/AGPRES/Datos_suelo/Satelite/Sentinel2/Bandas/SHP/SHP_Residuales_P.shp' using driver `ESRI Shapefile'\n",
      "Writing 60 features with 1 fields and geometry type Point.\n",
      "[1] \"Directorio existe Prediccion\"\n",
      "[1] \"Se va utilizar el R2 R_O > R:  0.545\"\n",
      "Backward elimination, alpha-to-remove: 0.05\n",
      "\n",
      "Full model: dato_suelo ~ S2_01_B1 + S2_04_B4 + S2_03_B3 + S2_05_B5 + S2_07_B7 + \n",
      "    S2_09_B9 + S2_10_B11 + S2_11_B12 + S2_17_GRRI + S2_26_CIVE + \n",
      "    S2_14_ExR + S2_15_ExB + S2_16_IKAW + S2_19_GBDI + S2_20_MGRVI + \n",
      "    S2_25_NGBDI + S2_30_MSAVI + S2_35_SIPI + S2_36_CGI + S2_44_SMI + \n",
      "    S2_38_CVI + S2_43_SCI + S2_45_MDE + S2_49_TRI + S2_47_aspect + \n",
      "    S2_48_TPI + S2_50_flowdir + S2_51__ACP_1 + S2_52__ACP_2 + \n",
      "    S2_53__ACP_3 - 1\n",
      "\n",
      "              Step    RSS      AIC     R2pred        Cp F value  Pr(>F)  \n",
      "S2_47_aspect     1 5.5916  -88.385 -0.5827291 28.005294  0.0056 0.94056  \n",
      "S2_45_MDE        2 5.5935  -90.364 -0.4993879 26.015635  0.0114 0.91572  \n",
      "S2_30_MSAVI      3 5.5968  -92.329 -0.4697112 24.033565  0.0203 0.88751  \n",
      "S2_43_SCI        4 5.5972  -94.325 -0.3643648 22.035428  0.0022 0.96310  \n",
      "S2_20_MGRVI      5 5.6026  -96.266 -0.3132277 20.064746  0.0351 0.85236  \n",
      "S2_09_B9         6 5.6078  -98.211 -0.2394535 18.092449  0.0341 0.85452  \n",
      "S2_16_IKAW       7 5.6222 -100.058 -0.2248216 16.169471  0.0973 0.75684  \n",
      "S2_50_flowdir    8 5.6613 -101.641 -0.1560707 14.379664  0.2717 0.60513  \n",
      "S2_48_TPI        9 5.7082 -103.147 -0.0584112 12.631128  0.3311 0.56824  \n",
      "S2_17_GRRI      10 5.7761 -104.437 -0.0438051 10.995358  0.4875 0.48897  \n",
      "S2_26_CIVE      11 5.8112 -106.074  0.0066248  9.183821  0.2554 0.61596  \n",
      "S2_05_B5        12 5.8199 -107.983  0.0469183  7.230819  0.0648 0.80027  \n",
      "S2_44_SMI       13 5.8560 -109.613  0.0807287  5.424299  0.2726 0.60422  \n",
      "S2_36_CGI       14 5.9866 -110.289  0.0751514  4.125089  1.0035 0.32181  \n",
      "S2_25_NGBDI     15 6.1466 -110.707  0.0834967  2.983820  1.2296 0.27324  \n",
      "S2_01_B1        16 6.2670 -111.543  0.0802546  1.629650  0.9203 0.34231  \n",
      "S2_38_CVI       17 6.3388 -112.860  0.0960481  0.014958  0.5500 0.46195  \n",
      "S2_49_TRI       18 6.4303 -114.000  0.1475462 -1.493950  0.7074 0.40438  \n",
      "S2_35_SIPI      19 6.6957 -113.573  0.1306899 -2.069958  2.0634 0.15710  \n",
      "S2_07_B7        20 6.9915 -112.979  0.1092707 -2.482158  2.2538 0.13946  \n",
      "S2_10_B11       21 7.0160 -114.769  0.1439423 -4.351057  0.1817 0.67167  \n",
      "S2_53__ACP_3    22 7.1681 -115.482  0.1459592 -5.534501  1.1495 0.28851  \n",
      "S2_11_B12       23 7.6740 -113.391  0.1143889 -4.820072  3.8107 0.05612 .\n",
      "---\n",
      "Signif. codes:  0 '***' 0.001 '**' 0.01 '*' 0.05 '.' 0.1 ' ' 1\n",
      "[1] \"Directorio existe SHP\"\n"
     ]
    },
    {
     "name": "stderr",
     "output_type": "stream",
     "text": [
      "Warning message in abbreviate_shapefile_names(obj):\n",
      "\"Field names abbreviated for ESRI Shapefile driver\"\n"
     ]
    },
    {
     "name": "stdout",
     "output_type": "stream",
     "text": [
      "Writing layer `SHP_Residuales_K' to data source \n",
      "  `C:/Users/AGPRES/Jupyter_Python/AGPRES/Datos_suelo/Satelite/Sentinel2/Bandas/SHP/SHP_Residuales_K.shp' using driver `ESRI Shapefile'\n",
      "Writing 60 features with 1 fields and geometry type Point.\n",
      "[1] \"Directorio existe Prediccion\"\n",
      "[1] \"Se va utilizar el R2 R_O > R:  0.867\"\n",
      "Backward elimination, alpha-to-remove: 0.05\n",
      "\n",
      "Full model: dato_suelo ~ S2_01_B1 + S2_04_B4 + S2_03_B3 + S2_05_B5 + S2_07_B7 + \n",
      "    S2_09_B9 + S2_10_B11 + S2_11_B12 + S2_17_GRRI + S2_26_CIVE + \n",
      "    S2_14_ExR + S2_15_ExB + S2_16_IKAW + S2_19_GBDI + S2_20_MGRVI + \n",
      "    S2_25_NGBDI + S2_30_MSAVI + S2_35_SIPI + S2_36_CGI + S2_44_SMI + \n",
      "    S2_38_CVI + S2_43_SCI + S2_45_MDE + S2_49_TRI + S2_47_aspect + \n",
      "    S2_48_TPI + S2_50_flowdir + S2_51__ACP_1 + S2_52__ACP_2 + \n",
      "    S2_53__ACP_3 - 1\n",
      "\n",
      "              Step    RSS     AIC    R2pred     Cp F value  Pr(>F)  \n",
      "S2_44_SMI        1 15.704 -26.425 -0.132320 28.000  0.0000 0.99662  \n",
      "S2_25_NGBDI      2 15.729 -28.332 -0.052655 26.047  0.0512 0.82246  \n",
      "S2_16_IKAW       3 15.803 -30.049  0.038938 24.188  0.1602 0.69143  \n",
      "S2_50_flowdir    4 15.951 -31.491  0.077156 22.470  0.3272 0.57096  \n",
      "S2_35_SIPI       5 16.075 -33.023  0.164697 20.709  0.2818 0.59877  \n",
      "S2_09_B9         6 16.238 -34.421  0.199062 19.019  0.3732 0.54502  \n",
      "S2_49_TRI        7 16.514 -35.407  0.220914 17.547  0.6479 0.42588  \n",
      "S2_20_MGRVI      8 16.808 -36.349  0.242315 16.109  0.6940 0.40990  \n",
      "S2_38_CVI        9 17.513 -35.884  0.240889 15.455  1.6773 0.20270  \n",
      "S2_47_aspect    10 19.077 -32.751  0.204846 16.443  3.6621 0.06266 .\n",
      "S2_43_SCI       11 20.508 -30.410  0.199806 17.177  3.1509 0.08313 .\n",
      "S2_17_GRRI      12 20.859 -31.393  0.236759 15.848  0.7355 0.39587  \n",
      "S2_53__ACP_3    13 20.924 -33.208  0.265260 13.971  0.1359 0.71418  \n",
      "S2_30_MSAVI     14 21.212 -34.388  0.275415 12.521  0.6192 0.43546  \n",
      "S2_10_B11       15 21.442 -35.738  0.307993 10.962  0.5007 0.48278  \n",
      "S2_11_B12       16 22.113 -35.891  0.297453 10.242  1.4692 0.23154  \n",
      "S2_52__ACP_2    17 23.853 -33.347  0.254550 11.566  3.7767 0.05785 .\n",
      "S2_01_B1        18 25.252 -31.926  0.249851 12.240  2.8756 0.09628 .\n",
      "---\n",
      "Signif. codes:  0 '***' 0.001 '**' 0.01 '*' 0.05 '.' 0.1 ' ' 1\n",
      "[1] \"Directorio existe SHP\"\n"
     ]
    },
    {
     "name": "stderr",
     "output_type": "stream",
     "text": [
      "Warning message in abbreviate_shapefile_names(obj):\n",
      "\"Field names abbreviated for ESRI Shapefile driver\"\n"
     ]
    },
    {
     "name": "stdout",
     "output_type": "stream",
     "text": [
      "Writing layer `SHP_Residuales_Ca' to data source \n",
      "  `C:/Users/AGPRES/Jupyter_Python/AGPRES/Datos_suelo/Satelite/Sentinel2/Bandas/SHP/SHP_Residuales_Ca.shp' using driver `ESRI Shapefile'\n",
      "Writing 60 features with 1 fields and geometry type Point.\n",
      "[1] \"Directorio existe Prediccion\"\n",
      "[1] \"Se va utilizar el R2 R_O > R:  0.396\"\n",
      "Backward elimination, alpha-to-remove: 0.05\n",
      "\n",
      "Full model: dato_suelo ~ S2_01_B1 + S2_04_B4 + S2_03_B3 + S2_05_B5 + S2_07_B7 + \n",
      "    S2_09_B9 + S2_10_B11 + S2_11_B12 + S2_17_GRRI + S2_26_CIVE + \n",
      "    S2_14_ExR + S2_15_ExB + S2_16_IKAW + S2_19_GBDI + S2_20_MGRVI + \n",
      "    S2_25_NGBDI + S2_30_MSAVI + S2_35_SIPI + S2_36_CGI + S2_44_SMI + \n",
      "    S2_38_CVI + S2_43_SCI + S2_45_MDE + S2_49_TRI + S2_47_aspect + \n",
      "    S2_48_TPI + S2_50_flowdir + S2_51__ACP_1 + S2_52__ACP_2 + \n",
      "    S2_53__ACP_3 - 1\n",
      "\n"
     ]
    },
    {
     "name": "stderr",
     "output_type": "stream",
     "text": [
      "Warning message in max(F.removed, na.rm = TRUE):\n",
      "\"ningun argumento finito para max; retornando -Inf\"\n"
     ]
    },
    {
     "name": "stdout",
     "output_type": "stream",
     "text": [
      "              Step    RSS     AIC   R2pred      Cp F value  Pr(>F)  \n",
      "S2_50_flowdir    1 2.1062 -146.97 -1.53290 28.0033  0.0036 0.95271  \n",
      "S2_36_CGI        2 2.1076 -148.93 -1.34062 26.0242  0.0229 0.88063  \n",
      "S2_17_GRRI       3 2.1226 -150.50 -1.17216 24.2366  0.2406 0.62693  \n",
      "S2_20_MGRVI      4 2.1319 -152.24 -0.98055 22.3702  0.1546 0.69652  \n",
      "S2_47_aspect     5 2.1840 -152.79 -0.95750 21.1118  0.8791 0.35470  \n",
      "S2_49_TRI        6 2.2828 -152.14 -0.82839 20.5198  1.6744 0.20369  \n",
      "S2_09_B9         7 2.4128 -150.81 -0.78202 20.3708  2.1630 0.14960  \n",
      "S2_16_IKAW       8 2.6258 -147.74 -0.83931 21.4052  3.4430 0.07109 .\n",
      "S2_25_NGBDI      9 2.6675 -148.79 -0.57853 19.9990  0.6350 0.43022  \n",
      "S2_01_B1        10 2.7423 -149.13 -0.51406 19.0656  1.1508 0.28965  \n",
      "S2_53__ACP_3    11 2.7429 -151.12 -0.36230 17.0736  0.0086 0.92671  \n",
      "S2_07_B7        12 2.7448 -153.08 -0.32510 15.1009  0.0300 0.86332  \n",
      "S2_30_MSAVI     13 2.7513 -154.94 -0.27162 13.1940  0.1049 0.74761  \n",
      "S2_43_SCI       14 2.7722 -156.48 -0.21113 11.4916  0.3417 0.56178  \n",
      "S2_44_SMI       15 2.8116 -157.64 -0.20489 10.0526  0.6534 0.42307  \n",
      "S2_11_B12       16 2.9352 -157.05 -0.21290  9.8127  2.0654 0.15730  \n",
      "S2_10_B11       17 2.9917 -157.91 -0.20789  8.6175  0.9239 0.34126  \n",
      "S2_51__ACP_1    18 3.1158 -157.47 -0.19159  8.3856  2.0329 0.16026  \n",
      "S2_05_B5        19 3.2215 -157.47 -0.17229  7.8911  1.6959 0.19879  \n",
      "S2_52__ACP_2    20 3.2835 -158.33 -0.15677  6.7747  0.9819 0.32641  \n",
      "S2_45_MDE       21 3.4573 -157.23 -0.19646  7.2511  2.7531 0.10309  \n",
      "S2_48_TPI       22 3.6299 -156.31 -0.21965  7.7090  2.6451 0.10980  \n",
      "S2_26_CIVE      23 3.7356 -156.59 -0.18361  7.2158  1.5735 0.21510  \n",
      "S2_35_SIPI      24 3.7548 -158.28 -0.14812  5.4894  0.2827 0.59705  \n",
      "S2_38_CVI       25 3.9262 -157.60 -0.14216  5.9302  2.5554 0.11554  \n",
      "---\n",
      "Signif. codes:  0 '***' 0.001 '**' 0.01 '*' 0.05 '.' 0.1 ' ' 1\n",
      "[1] \"Directorio existe SHP\"\n"
     ]
    },
    {
     "name": "stderr",
     "output_type": "stream",
     "text": [
      "Warning message in abbreviate_shapefile_names(obj):\n",
      "\"Field names abbreviated for ESRI Shapefile driver\"\n"
     ]
    },
    {
     "name": "stdout",
     "output_type": "stream",
     "text": [
      "Writing layer `SHP_Residuales_Mg' to data source \n",
      "  `C:/Users/AGPRES/Jupyter_Python/AGPRES/Datos_suelo/Satelite/Sentinel2/Bandas/SHP/SHP_Residuales_Mg.shp' using driver `ESRI Shapefile'\n",
      "Writing 60 features with 1 fields and geometry type Point.\n",
      "[1] \"Directorio existe Prediccion\"\n",
      "[1] \"Se va utilizar el R2 R_O > R:  0.74\"\n",
      "Backward elimination, alpha-to-remove: 0.05\n",
      "\n",
      "Full model: dato_suelo ~ S2_01_B1 + S2_04_B4 + S2_03_B3 + S2_05_B5 + S2_07_B7 + \n",
      "    S2_09_B9 + S2_10_B11 + S2_11_B12 + S2_17_GRRI + S2_26_CIVE + \n",
      "    S2_14_ExR + S2_15_ExB + S2_16_IKAW + S2_19_GBDI + S2_20_MGRVI + \n",
      "    S2_25_NGBDI + S2_30_MSAVI + S2_35_SIPI + S2_36_CGI + S2_44_SMI + \n",
      "    S2_38_CVI + S2_43_SCI + S2_45_MDE + S2_49_TRI + S2_47_aspect + \n",
      "    S2_48_TPI + S2_50_flowdir + S2_51__ACP_1 + S2_52__ACP_2 + \n",
      "    S2_53__ACP_3 - 1\n",
      "\n",
      "              Step    RSS    AIC     R2pred      Cp F value  Pr(>F)  \n",
      "S2_49_TRI        1 42.337 33.079 -0.4352016 28.0062  0.0066 0.93588  \n",
      "S2_47_aspect     2 42.427 31.206 -0.3581609 26.0694  0.0695 0.79367  \n",
      "S2_43_SCI        3 42.939 29.926 -0.2861589 24.4323  0.4104 0.52608  \n",
      "S2_30_MSAVI      4 42.966 27.964 -0.2193475 22.4518  0.0224 0.88186  \n",
      "S2_25_NGBDI      5 43.114 26.170 -0.1334512 20.5566  0.1239 0.72686  \n",
      "S2_20_MGRVI      6 43.684 24.958 -0.0973075 18.9605  0.4890 0.48875  \n",
      "S2_16_IKAW       7 44.360 23.879 -0.0704191 17.4394  0.5878 0.44801  \n",
      "S2_50_flowdir    8 45.277 23.108 -0.0644133 16.0899  0.8070 0.37451  \n",
      "S2_01_B1         9 46.537 22.754 -0.0520484 14.9828  1.1129 0.29778  \n",
      "S2_53__ACP_3    10 47.793 22.353 -0.0628401 13.8731  1.1067 0.29895  \n",
      "S2_07_B7        11 47.969 20.572 -0.0075843 11.9973  0.1540 0.69676  \n",
      "S2_05_B5        12 48.285 18.967  0.0140602 10.2218  0.2840 0.59681  \n",
      "S2_51__ACP_1    13 49.192 18.083  0.0504956  8.8641  0.8258 0.36844  \n",
      "S2_11_B12       14 49.970 17.024  0.0988031  7.4154  0.7116 0.40339  \n",
      "S2_38_CVI       15 53.537 19.162  0.0949331  7.9440  3.2843 0.07647 .\n",
      "S2_35_SIPI      16 56.511 20.406  0.0534853  8.0519  2.6110 0.11282  \n",
      "S2_26_CIVE      17 58.105 20.075  0.0534423  7.1815  1.3537 0.25038  \n",
      "S2_36_CGI       18 59.114 19.107  0.0887234  5.8963  0.8506 0.36090  \n",
      "S2_44_SMI       19 59.271 17.267  0.1234719  4.0079  0.1331 0.71673  \n",
      "S2_17_GRRI      20 61.848 17.820  0.1100113  3.8343  2.2174 0.14262  \n",
      "---\n",
      "Signif. codes:  0 '***' 0.001 '**' 0.01 '*' 0.05 '.' 0.1 ' ' 1\n",
      "[1] \"Directorio existe SHP\"\n"
     ]
    },
    {
     "name": "stderr",
     "output_type": "stream",
     "text": [
      "Warning message in abbreviate_shapefile_names(obj):\n",
      "\"Field names abbreviated for ESRI Shapefile driver\"\n"
     ]
    },
    {
     "name": "stdout",
     "output_type": "stream",
     "text": [
      "Writing layer `SHP_Residuales_Al' to data source \n",
      "  `C:/Users/AGPRES/Jupyter_Python/AGPRES/Datos_suelo/Satelite/Sentinel2/Bandas/SHP/SHP_Residuales_Al.shp' using driver `ESRI Shapefile'\n",
      "Writing 60 features with 1 fields and geometry type Point.\n",
      "[1] \"Directorio existe Prediccion\"\n",
      "[1] \"Se va utilizar el R2 R_O > R:  0.909\"\n",
      "Backward elimination, alpha-to-remove: 0.05\n",
      "\n",
      "Full model: dato_suelo ~ S2_01_B1 + S2_04_B4 + S2_03_B3 + S2_05_B5 + S2_07_B7 + \n",
      "    S2_09_B9 + S2_10_B11 + S2_11_B12 + S2_17_GRRI + S2_26_CIVE + \n",
      "    S2_14_ExR + S2_15_ExB + S2_16_IKAW + S2_19_GBDI + S2_20_MGRVI + \n",
      "    S2_25_NGBDI + S2_30_MSAVI + S2_35_SIPI + S2_36_CGI + S2_44_SMI + \n",
      "    S2_38_CVI + S2_43_SCI + S2_45_MDE + S2_49_TRI + S2_47_aspect + \n",
      "    S2_48_TPI + S2_50_flowdir + S2_51__ACP_1 + S2_52__ACP_2 + \n",
      "    S2_53__ACP_3 - 1\n",
      "\n",
      "              Step    RSS    AIC    R2pred       Cp F value  Pr(>F)  \n",
      "S2_20_MGRVI      1 67.006 60.626 -0.578365 28.00340  0.0036 0.95234  \n",
      "S2_38_CVI        2 67.099 58.710 -0.469762 26.04532  0.0461 0.83130  \n",
      "S2_36_CGI        3 67.190 56.791 -0.385284 24.08593  0.0460 0.83154  \n",
      "S2_25_NGBDI      4 67.340 54.924 -0.293935 22.15309  0.0781 0.78150  \n",
      "S2_45_MDE        5 67.581 53.139 -0.190913 20.26128  0.1292 0.72140  \n",
      "S2_48_TPI        6 67.841 51.369 -0.133136 18.37727  0.1418 0.70862  \n",
      "S2_49_TRI        7 68.063 49.565 -0.080155 16.47686  0.1246 0.72608  \n",
      "S2_17_GRRI       8 68.958 48.349 -0.050165 14.87777  0.5130 0.47810  \n",
      "S2_16_IKAW       9 69.406 46.738 -0.025862 13.07827  0.2597 0.61310  \n",
      "S2_43_SCI       10 71.117 46.199  0.003890 11.84451  1.0109 0.32059  \n",
      "S2_44_SMI       11 72.268 45.162  0.024306 10.35962  0.6794 0.41446  \n",
      "S2_30_MSAVI     12 72.347 43.228  0.090836  8.39534  0.0475 0.82856  \n",
      "S2_35_SIPI      13 74.568 43.042  0.089842  7.38972  1.3506 0.25144  \n",
      "S2_53__ACP_3    14 77.353 43.242  0.106162  6.63670  1.6806 0.20146  \n",
      "S2_26_CIVE      15 77.476 41.337  0.120891  4.69184  0.0732 0.78791  \n",
      "S2_01_B1        16 77.959 39.710  0.150844  2.90804  0.2929 0.59092  \n",
      "S2_09_B9        17 78.281 37.957  0.176318  1.05218  0.1982 0.65818  \n",
      "S2_50_flowdir   18 81.474 38.357  0.171571  0.48215  1.9990 0.16373  \n",
      "S2_47_aspect    19 87.426 40.587  0.135868  1.14712  3.6524 0.06173 .\n",
      "---\n",
      "Signif. codes:  0 '***' 0.001 '**' 0.01 '*' 0.05 '.' 0.1 ' ' 1\n",
      "[1] \"Directorio existe SHP\"\n"
     ]
    },
    {
     "name": "stderr",
     "output_type": "stream",
     "text": [
      "Warning message in abbreviate_shapefile_names(obj):\n",
      "\"Field names abbreviated for ESRI Shapefile driver\"\n"
     ]
    },
    {
     "name": "stdout",
     "output_type": "stream",
     "text": [
      "Writing layer `SHP_Residuales_CICe' to data source \n",
      "  `C:/Users/AGPRES/Jupyter_Python/AGPRES/Datos_suelo/Satelite/Sentinel2/Bandas/SHP/SHP_Residuales_CICe.shp' using driver `ESRI Shapefile'\n",
      "Writing 60 features with 1 fields and geometry type Point.\n",
      "[1] \"Directorio existe Prediccion\"\n",
      "[1] \"Se va utilizar el R2 R_O > R:  0.858\"\n",
      "Backward elimination, alpha-to-remove: 0.05\n",
      "\n",
      "Full model: dato_suelo ~ S2_01_B1 + S2_04_B4 + S2_03_B3 + S2_05_B5 + S2_07_B7 + \n",
      "    S2_09_B9 + S2_10_B11 + S2_11_B12 + S2_17_GRRI + S2_26_CIVE + \n",
      "    S2_14_ExR + S2_15_ExB + S2_16_IKAW + S2_19_GBDI + S2_20_MGRVI + \n",
      "    S2_25_NGBDI + S2_30_MSAVI + S2_35_SIPI + S2_36_CGI + S2_44_SMI + \n",
      "    S2_38_CVI + S2_43_SCI + S2_45_MDE + S2_49_TRI + S2_47_aspect + \n",
      "    S2_48_TPI + S2_50_flowdir + S2_51__ACP_1 + S2_52__ACP_2 + \n",
      "    S2_53__ACP_3 - 1\n",
      "\n",
      "              Step    RSS     AIC    R2pred      Cp F value  Pr(>F)  \n",
      "S2_44_SMI        1 32.308 16.8580 -0.128540 28.0009  0.0010 0.97513  \n",
      "S2_25_NGBDI      2 32.322 14.8848 -0.068831 26.0143  0.0148 0.90404  \n",
      "S2_16_IKAW       3 32.333 12.9040  0.017714 24.0239  0.0108 0.91767  \n",
      "S2_50_flowdir    4 32.610 11.4166  0.065423 22.2815  0.3003 0.58717  \n",
      "S2_35_SIPI       5 33.110 10.3296  0.127055 20.7458  0.5520 0.46232  \n",
      "S2_38_CVI        6 33.384  8.8237  0.169502 19.0001  0.3059 0.58351  \n",
      "S2_09_B9         7 34.467  8.7386  0.175034 18.0054  1.2323 0.27393  \n",
      "S2_20_MGRVI      8 35.412  8.3622  0.175044 16.8833  1.0698 0.30737  \n",
      "S2_49_TRI        9 36.623  8.3793  0.180991 16.0076  1.3676 0.24914  \n",
      "S2_47_aspect    10 38.713  9.7098  0.172633 15.9487  2.3402 0.13375  \n",
      "S2_43_SCI       11 41.923 12.4897  0.167018 16.9297  3.4828 0.06900 .\n",
      "S2_17_GRRI      12 42.726 11.6281  0.201654 15.6754  0.8237 0.36916  \n",
      "S2_53__ACP_3    13 43.302 10.4309  0.211148 14.2098  0.5927 0.44550  \n",
      "S2_30_MSAVI     14 43.394  8.5584  0.232110 12.2953  0.0957 0.75849  \n",
      "S2_10_B11       15 43.613  6.8601  0.261902 10.4984  0.2319 0.63242  \n",
      "S2_11_B12       16 44.667  6.2928  0.263527  9.4771  1.1358 0.29198  \n",
      "S2_01_B1        17 47.458  7.9306  0.225578 10.0696  3.0002 0.08967 .\n",
      "S2_52__ACP_2    18 49.510  8.4694  0.224115  9.9744  2.1179 0.15197  \n",
      "S2_26_CIVE      19 53.450 11.0641  0.210485 11.6333  3.9793 0.05153 .\n",
      "S2_36_CGI       20 55.762 11.6048  0.175667 11.7802  2.2060 0.14363  \n",
      "S2_48_TPI       21 58.134 12.1046  0.199656 11.9831  2.2123 0.14296  \n",
      "---\n",
      "Signif. codes:  0 '***' 0.001 '**' 0.01 '*' 0.05 '.' 0.1 ' ' 1\n",
      "[1] \"Directorio existe SHP\"\n"
     ]
    },
    {
     "name": "stderr",
     "output_type": "stream",
     "text": [
      "Warning message in abbreviate_shapefile_names(obj):\n",
      "\"Field names abbreviated for ESRI Shapefile driver\"\n"
     ]
    },
    {
     "name": "stdout",
     "output_type": "stream",
     "text": [
      "Writing layer `SHP_Residuales_BT' to data source \n",
      "  `C:/Users/AGPRES/Jupyter_Python/AGPRES/Datos_suelo/Satelite/Sentinel2/Bandas/SHP/SHP_Residuales_BT.shp' using driver `ESRI Shapefile'\n",
      "Writing 60 features with 1 fields and geometry type Point.\n",
      "[1] \"Directorio existe Prediccion\"\n",
      "[1] \"Se va utilizar el R2 R_O > R:  0.833\"\n",
      "Backward elimination, alpha-to-remove: 0.05\n",
      "\n",
      "Full model: dato_suelo ~ S2_01_B1 + S2_04_B4 + S2_03_B3 + S2_05_B5 + S2_07_B7 + \n",
      "    S2_09_B9 + S2_10_B11 + S2_11_B12 + S2_17_GRRI + S2_26_CIVE + \n",
      "    S2_14_ExR + S2_15_ExB + S2_16_IKAW + S2_19_GBDI + S2_20_MGRVI + \n",
      "    S2_25_NGBDI + S2_30_MSAVI + S2_35_SIPI + S2_36_CGI + S2_44_SMI + \n",
      "    S2_38_CVI + S2_43_SCI + S2_45_MDE + S2_49_TRI + S2_47_aspect + \n",
      "    S2_48_TPI + S2_50_flowdir + S2_51__ACP_1 + S2_52__ACP_2 + \n",
      "    S2_53__ACP_3 - 1\n",
      "\n",
      "              Step   RSS    AIC     R2pred      Cp F value  Pr(>F)  \n",
      "S2_49_TRI        1 11534 369.52 -0.3379371 28.0019  0.0020 0.96468  \n",
      "S2_50_flowdir    2 11560 367.66 -0.2614745 26.0694  0.0743 0.78688  \n",
      "S2_07_B7         3 11603 365.88 -0.2075917 24.1806  0.1257 0.72512  \n",
      "S2_09_B9         4 11651 364.13 -0.1225885 22.3066  0.1461 0.70461  \n",
      "S2_51__ACP_1     5 11694 362.35 -0.0473198 20.4179  0.1322 0.71826  \n",
      "S2_26_CIVE       6 11698 360.37  0.0037172 18.4283  0.0127 0.91080  \n",
      "S2_01_B1         7 11793 358.86  0.0638253 16.6764  0.3098 0.58104  \n",
      "S2_25_NGBDI      8 11919 357.49  0.1156532 15.0022  0.4141 0.52364  \n",
      "S2_52__ACP_2     9 12093 356.36  0.1711609 13.4552  0.5845 0.44903  \n",
      "S2_05_B5        10 12180 354.79  0.2007924 11.6828  0.2966 0.58900  \n",
      "S2_43_SCI       11 12355 353.65  0.2175777 10.1384  0.6040 0.44141  \n",
      "S2_20_MGRVI     12 12456 352.14  0.2369986  8.4013  0.3518 0.55622  \n",
      "S2_47_aspect    13 12934 352.39  0.2639543  7.6425  1.6855 0.20096  \n",
      "S2_16_IKAW      14 13510 353.01  0.2183165  7.1407  2.0040 0.16376  \n",
      "S2_30_MSAVI     15 14213 354.06  0.2387773  6.9712  2.3962 0.12849  \n",
      "S2_11_B12       16 14951 355.09  0.2097254  6.8905  2.4398 0.12500  \n",
      "S2_17_GRRI      17 16071 357.42  0.1792981  7.8026  3.5942 0.06401 .\n",
      "S2_48_TPI       18 17247 359.66  0.1663120  8.8630  3.5874 0.06413 .\n",
      "S2_44_SMI       19 18190 360.86  0.1546069  9.3156  2.7333 0.10454  \n",
      "S2_36_CGI       20 18894 361.14  0.1378687  9.1469  1.9739 0.16609  \n",
      "S2_45_MDE       21 19942 362.37  0.1216337  9.8726  2.8839 0.09545 .\n",
      "S2_35_SIPI      22 21078 363.70  0.0966578 10.8280  3.0197 0.08807 .\n",
      "S2_38_CVI       23 22366 365.26  0.0882791 12.1783  3.2997 0.07485 .\n",
      "S2_10_B11       24 22773 364.34  0.1006648 11.2356  0.9995 0.32180  \n",
      "---\n",
      "Signif. codes:  0 '***' 0.001 '**' 0.01 '*' 0.05 '.' 0.1 ' ' 1\n",
      "[1] \"Directorio existe SHP\"\n"
     ]
    },
    {
     "name": "stderr",
     "output_type": "stream",
     "text": [
      "Warning message in abbreviate_shapefile_names(obj):\n",
      "\"Field names abbreviated for ESRI Shapefile driver\"\n"
     ]
    },
    {
     "name": "stdout",
     "output_type": "stream",
     "text": [
      "Writing layer `SHP_Residuales_SAl' to data source \n",
      "  `C:/Users/AGPRES/Jupyter_Python/AGPRES/Datos_suelo/Satelite/Sentinel2/Bandas/SHP/SHP_Residuales_SAl.shp' using driver `ESRI Shapefile'\n",
      "Writing 60 features with 1 fields and geometry type Point.\n",
      "[1] \"Directorio existe Prediccion\"\n",
      "[1] \"Se va utilizar el R2 R_O > R:  0.959\"\n",
      "Backward elimination, alpha-to-remove: 0.05\n",
      "\n",
      "Full model: dato_suelo ~ S2_01_B1 + S2_04_B4 + S2_03_B3 + S2_05_B5 + S2_07_B7 + \n",
      "    S2_09_B9 + S2_10_B11 + S2_11_B12 + S2_17_GRRI + S2_26_CIVE + \n",
      "    S2_14_ExR + S2_15_ExB + S2_16_IKAW + S2_19_GBDI + S2_20_MGRVI + \n",
      "    S2_25_NGBDI + S2_30_MSAVI + S2_35_SIPI + S2_36_CGI + S2_44_SMI + \n",
      "    S2_38_CVI + S2_43_SCI + S2_45_MDE + S2_49_TRI + S2_47_aspect + \n",
      "    S2_48_TPI + S2_50_flowdir + S2_51__ACP_1 + S2_52__ACP_2 + \n",
      "    S2_53__ACP_3 - 1\n",
      "\n",
      "              Step    RSS    AIC     R2pred      Cp F value  Pr(>F)  \n",
      "S2_49_TRI        1 4523.7 313.36 -0.8956679 28.0219  0.0234 0.87935  \n",
      "S2_43_SCI        2 4534.1 311.50 -0.7792677 26.0909  0.0758 0.78479  \n",
      "S2_45_MDE        3 4557.3 309.81 -0.6282661 24.2449  0.1740 0.67924  \n",
      "S2_47_aspect     4 4589.4 308.23 -0.5931417 22.4585  0.2473 0.62212  \n",
      "S2_48_TPI        5 4764.8 308.48 -0.4323081 21.6225  1.3757 0.24854  \n",
      "S2_16_IKAW       6 4903.4 308.20 -0.3938855 20.5419  1.0757 0.30638  \n",
      "S2_30_MSAVI      7 4953.8 306.81 -0.3135253 18.8763  0.3906 0.53574  \n",
      "S2_20_MGRVI      8 5171.5 307.39 -0.2123950 18.3215  1.7144 0.19808  \n",
      "S2_01_B1         9 5449.3 308.53 -0.2127285 18.1648  2.1483 0.15055  \n",
      "S2_53__ACP_3    10 5477.2 306.84 -0.0597267 16.3505  0.2105 0.64880  \n",
      "S2_09_B9        11 5498.3 305.07 -0.0243091 14.4902  0.1614 0.68988  \n",
      "S2_25_NGBDI     12 5746.5 305.72 -0.0212153 14.1372  1.9409 0.17073  \n",
      "S2_11_B12       13 6095.6 307.26 -0.0449017 14.4544  2.6734 0.10918  \n",
      "S2_05_B5        14 6129.6 305.59 -0.0250998 12.6803  0.2513 0.61859  \n",
      "S2_52__ACP_2    15 6286.9 305.11 -0.0213550 11.7236  1.1797 0.28307  \n",
      "S2_38_CVI       16 6691.8 306.86 -0.0096429 12.4108  3.0270 0.08843 .\n",
      "S2_35_SIPI      17 6889.1 306.60 -0.0195025 11.7204  1.4154 0.24001  \n",
      "S2_26_CIVE      18 7214.2 307.37 -0.0034980 11.8782  2.3126 0.13476  \n",
      "S2_36_CGI       19 7289.0 305.99  0.0353518 10.3746  0.5183 0.47491  \n",
      "S2_44_SMI       20 7361.1 304.58  0.0741688  8.8533  0.5047 0.48068  \n",
      "S2_17_GRRI      21 7541.5 304.03  0.0762177  8.0499  1.2738 0.26424  \n",
      "S2_50_flowdir   22 8110.5 306.39  0.0830095  9.8262  3.9989 0.05067 .\n",
      "---\n",
      "Signif. codes:  0 '***' 0.001 '**' 0.01 '*' 0.05 '.' 0.1 ' ' 1\n",
      "[1] \"Directorio existe SHP\"\n"
     ]
    },
    {
     "name": "stderr",
     "output_type": "stream",
     "text": [
      "Warning message in abbreviate_shapefile_names(obj):\n",
      "\"Field names abbreviated for ESRI Shapefile driver\"\n"
     ]
    },
    {
     "name": "stdout",
     "output_type": "stream",
     "text": [
      "Writing layer `SHP_Residuales_Arena' to data source \n",
      "  `C:/Users/AGPRES/Jupyter_Python/AGPRES/Datos_suelo/Satelite/Sentinel2/Bandas/SHP/SHP_Residuales_Arena.shp' using driver `ESRI Shapefile'\n",
      "Writing 60 features with 1 fields and geometry type Point.\n",
      "[1] \"Directorio existe Prediccion\"\n",
      "[1] \"Se va utilizar el R2 R_O > R:  0.899\"\n",
      "Backward elimination, alpha-to-remove: 0.05\n",
      "\n",
      "Full model: dato_suelo ~ S2_01_B1 + S2_04_B4 + S2_03_B3 + S2_05_B5 + S2_07_B7 + \n",
      "    S2_09_B9 + S2_10_B11 + S2_11_B12 + S2_17_GRRI + S2_26_CIVE + \n",
      "    S2_14_ExR + S2_15_ExB + S2_16_IKAW + S2_19_GBDI + S2_20_MGRVI + \n",
      "    S2_25_NGBDI + S2_30_MSAVI + S2_35_SIPI + S2_36_CGI + S2_44_SMI + \n",
      "    S2_38_CVI + S2_43_SCI + S2_45_MDE + S2_49_TRI + S2_47_aspect + \n",
      "    S2_48_TPI + S2_50_flowdir + S2_51__ACP_1 + S2_52__ACP_2 + \n",
      "    S2_53__ACP_3 - 1\n",
      "\n",
      "             Step    RSS    AIC     R2pred      Cp F value  Pr(>F)  \n",
      "S2_45_MDE       1 1498.7 247.08 -1.0863609 28.0402  0.0428 0.83733  \n",
      "S2_30_MSAVI     2 1503.4 245.27 -0.9951550 26.1346  0.1037 0.74943  \n",
      "S2_09_B9        3 1514.6 243.71 -0.8629382 24.3586  0.2528 0.61836  \n",
      "S2_47_aspect    4 1522.6 242.03 -0.7928344 22.5205  0.1866 0.66843  \n",
      "S2_35_SIPI      5 1539.6 240.70 -0.7493341 20.8602  0.4007 0.53072  \n",
      "S2_16_IKAW      6 1556.0 239.33 -0.6929066 19.1884  0.3934 0.53435  \n",
      "S2_01_B1        7 1608.5 239.32 -0.4157290 18.2425  1.2844 0.26418  \n",
      "S2_53__ACP_3    8 1654.5 239.01 -0.4214152 17.1630  1.1134 0.29785  \n",
      "S2_49_TRI       9 1703.2 238.76 -0.3833868 16.1404  1.1790 0.28407  \n",
      "S2_43_SCI      10 1761.8 238.79 -0.2080226 15.3152  1.4109 0.24174  \n",
      "S2_20_MGRVI    11 1805.2 238.24 -0.0732396 14.1844  1.0337 0.31512  \n",
      "S2_11_B12      12 1890.8 239.02 -0.0719369 13.8999  2.0386 0.16057  \n",
      "S2_52__ACP_2   13 1900.4 237.33 -0.0328671 12.0919  0.2229 0.63919  \n",
      "S2_10_B11      14 1904.6 235.46  0.0238953 10.1774  0.1010 0.75206  \n",
      "S2_05_B5       15 1988.0 236.03  0.0015111  9.8482  2.0132 0.16268  \n",
      "S2_48_TPI      16 2096.2 237.21  0.0524884 10.0184  2.5596 0.11633  \n",
      "S2_38_CVI      17 2245.2 239.33  0.0354525 11.0041  3.4108 0.07094 .\n",
      "S2_26_CIVE     18 2287.4 238.45  0.0805468  9.8500  0.9209 0.34194  \n",
      "S2_36_CGI      19 2336.3 237.72  0.0694610  8.8310  1.0698 0.30597  \n",
      "S2_44_SMI      20 2458.4 238.78  0.1021857  9.2783  2.6652 0.10872  \n",
      "S2_07_B7       21 2605.7 240.27  0.0770967 10.2308  3.1156 0.08342 .\n",
      "---\n",
      "Signif. codes:  0 '***' 0.001 '**' 0.01 '*' 0.05 '.' 0.1 ' ' 1\n",
      "[1] \"Directorio existe SHP\"\n"
     ]
    },
    {
     "name": "stderr",
     "output_type": "stream",
     "text": [
      "Warning message in abbreviate_shapefile_names(obj):\n",
      "\"Field names abbreviated for ESRI Shapefile driver\"\n"
     ]
    },
    {
     "name": "stdout",
     "output_type": "stream",
     "text": [
      "Writing layer `SHP_Residuales_Limo' to data source \n",
      "  `C:/Users/AGPRES/Jupyter_Python/AGPRES/Datos_suelo/Satelite/Sentinel2/Bandas/SHP/SHP_Residuales_Limo.shp' using driver `ESRI Shapefile'\n",
      "Writing 60 features with 1 fields and geometry type Point.\n",
      "[1] \"Directorio existe Prediccion\"\n",
      "[1] \"Se va utilizar el R2 R_O > R:  0.891\"\n",
      "Backward elimination, alpha-to-remove: 0.05\n",
      "\n",
      "Full model: dato_suelo ~ S2_01_B1 + S2_04_B4 + S2_03_B3 + S2_05_B5 + S2_07_B7 + \n",
      "    S2_09_B9 + S2_10_B11 + S2_11_B12 + S2_17_GRRI + S2_26_CIVE + \n",
      "    S2_14_ExR + S2_15_ExB + S2_16_IKAW + S2_19_GBDI + S2_20_MGRVI + \n",
      "    S2_25_NGBDI + S2_30_MSAVI + S2_35_SIPI + S2_36_CGI + S2_44_SMI + \n",
      "    S2_38_CVI + S2_43_SCI + S2_45_MDE + S2_49_TRI + S2_47_aspect + \n",
      "    S2_48_TPI + S2_50_flowdir + S2_51__ACP_1 + S2_52__ACP_2 + \n",
      "    S2_53__ACP_3 - 1\n",
      "\n",
      "              Step    RSS    AIC     R2pred      Cp F value Pr(>F)  \n",
      "S2_48_TPI        1 2023.2 265.09 -0.9689160 28.1101  0.1174 0.7341  \n",
      "S2_47_aspect     2 2033.7 263.40 -0.9112588 26.2653  0.1701 0.6827  \n",
      "S2_20_MGRVI      3 2049.3 261.86 -0.7200680 24.4983  0.2618 0.6122  \n",
      "S2_49_TRI        4 2070.1 260.46 -0.6199867 22.8068  0.3539 0.5557  \n",
      "S2_45_MDE        5 2102.4 259.39 -0.4997420 21.2885  0.5629 0.4580  \n",
      "S2_30_MSAVI      6 2146.8 258.64 -0.4598689 19.9494  0.7816 0.3824  \n",
      "S2_43_SCI        7 2161.0 257.04 -0.3730798 18.1596  0.2500 0.6200  \n",
      "S2_16_IKAW       8 2199.6 256.10 -0.3287527 16.7346  0.6973 0.4088  \n",
      "S2_50_flowdir    9 2245.3 255.33 -0.3023698 15.4143  0.8305 0.3676  \n",
      "S2_25_NGBDI     10 2315.5 255.18 -0.2864977 14.4591  1.2821 0.2641  \n",
      "S2_53__ACP_3    11 2414.5 255.69 -0.2610623 13.9322  1.7954 0.1875  \n",
      "S2_01_B1        12 2416.5 253.74 -0.1918015 11.9627  0.0365 0.8494  \n",
      "S2_09_B9        13 2460.2 252.82 -0.1526428 10.6125  0.7950 0.3774  \n",
      "S2_17_GRRI      14 2548.6 252.94 -0.1410215  9.9289  1.6181 0.2099  \n",
      "S2_44_SMI       15 2589.4 251.89 -0.0705720  8.5363  0.7367 0.3952  \n",
      "S2_36_CGI       16 2594.1 250.00 -0.0337403  6.6053  0.0841 0.7731  \n",
      "S2_05_B5        17 2728.6 251.03 -0.0543340  6.6069  2.4887 0.1212  \n",
      "S2_11_B12       18 2781.1 250.17 -0.0431205  5.3881  0.9427 0.3363  \n",
      "S2_26_CIVE      19 2852.4 249.69 -0.0515702  4.4500  1.2828 0.2628  \n",
      "S2_52__ACP_2    20 2856.2 247.77  0.0072866  2.5061  0.0674 0.7961  \n",
      "S2_38_CVI       21 3049.6 249.71 -0.0125293  3.3845  3.5212 0.0662 .\n",
      "---\n",
      "Signif. codes:  0 '***' 0.001 '**' 0.01 '*' 0.05 '.' 0.1 ' ' 1\n",
      "[1] \"Directorio existe SHP\"\n"
     ]
    },
    {
     "name": "stderr",
     "output_type": "stream",
     "text": [
      "Warning message in abbreviate_shapefile_names(obj):\n",
      "\"Field names abbreviated for ESRI Shapefile driver\"\n"
     ]
    },
    {
     "name": "stdout",
     "output_type": "stream",
     "text": [
      "Writing layer `SHP_Residuales_Arcilla' to data source \n",
      "  `C:/Users/AGPRES/Jupyter_Python/AGPRES/Datos_suelo/Satelite/Sentinel2/Bandas/SHP/SHP_Residuales_Arcilla.shp' using driver `ESRI Shapefile'\n",
      "Writing 60 features with 1 fields and geometry type Point.\n",
      "[1] \"Directorio existe Prediccion\"\n"
     ]
    }
   ],
   "source": [
    "for (i in 1:length(name_suelo)) {\n",
    "    suelo = name_suelo[i]\n",
    "    dato_suelo = datos_Suelo[[suelo]]\n",
    "    # Ingreso df Bandas seleccionadas\n",
    "    df_suelo <- data.frame(dato_suelo, S2_01_B1,S2_04_B4,S2_03_B3,S2_05_B5,S2_07_B7,S2_09_B9,S2_10_B11,S2_11_B12,S2_17_GRRI,\n",
    "                           S2_26_CIVE,S2_14_ExR,S2_15_ExB,S2_16_IKAW,S2_19_GBDI,S2_20_MGRVI,S2_25_NGBDI,S2_30_MSAVI,\n",
    "                           S2_35_SIPI,S2_36_CGI,S2_44_SMI,S2_38_CVI,S2_43_SCI,S2_45_MDE,S2_49_TRI,S2_47_aspect,S2_48_TPI,\n",
    "                           S2_50_flowdir,S2_51__ACP_1,S2_52__ACP_2,S2_53__ACP_3)\n",
    "    # Modelo de regresion lineal, el cero es sin intersecto\n",
    "    full.model_pH_0 <- lm(dato_suelo ~  0 +., data=df_suelo)\n",
    "    full.model_pH <- lm(dato_suelo ~  ., data=df_suelo)\n",
    "    # Sumary\n",
    "    sum_modelo_0 = summary(full.model_pH_0)\n",
    "    sum_modelo = summary(full.model_pH)\n",
    "    # R2\n",
    "    R_O = sum_modelo_0$adj.r.squared\n",
    "    R = sum_modelo$adj.r.squared\n",
    "    # Función utilizando condiciones\n",
    "    if (R_O > R) {\n",
    "        full.modelo = full.model_pH_0\n",
    "        lista_R2[i] = R_O\n",
    "        print(paste(\"Se va utilizar el R2 R_O > R: \", round(R_O, 3)))\n",
    "    } else if (R_O == R){\n",
    "        full.modelo = full.model_pH_0 \n",
    "        lista_R2[i] = R_O\n",
    "        print(paste(\"Se va utilizar el R2 R_O == R: \", round(R_O, 3)))\n",
    "    } else {\n",
    "        full.modelo = full.model_pH\n",
    "        lista_R2[i] = R\n",
    "        print(paste(\"Se va utilizar el R2 R_O < R: \", round(R, 3)))\n",
    "    }\n",
    "    # Realizar el modelo\n",
    "    modelo_x = summary(backward(full.modelo, alpha=0.05))\n",
    "    # Seleccion de residual\n",
    "    lista_residuales = modelo_x$residuals\n",
    "    xy_residuales = data.frame(xyz, lista_residuales)\n",
    "    # conversion a shapefile\n",
    "    coordinates(xy_residuales) <- ~ESTE + NORTE\n",
    "    proj4string(xy_residuales) = CRS(\"+init=epsg:32718\")\n",
    "    xy_residuales_sf = st_as_sf(xy_residuales)\n",
    "    carpeta_shp = paste(getwd(),\"/\",\"SHP\",sep = \"\")\n",
    "    if (!dir.exists(carpeta_shp)){\n",
    "        dir.create(carpeta_shp)\n",
    "    }else{\n",
    "        print(\"Directorio existe SHP\")\n",
    "    }\n",
    "    st_write(xy_residuales_sf, paste(carpeta_shp,\"/SHP_Residuales_\",suelo,\".shp\",sep = \"\"))\n",
    "    # Convertir dataframe\n",
    "    DT_modelo = data.frame(modelo_x$coefficients)\n",
    "    carpeta_Prediccion = paste(getwd(),\"/\",\"Prediccion\",sep = \"\")\n",
    "    if (!dir.exists(carpeta_Prediccion)){\n",
    "        dir.create(carpeta_Prediccion)\n",
    "    }else{\n",
    "        print(\"Directorio existe Prediccion\")\n",
    "    }\n",
    "    write.csv(DT_modelo, file=paste(carpeta_Prediccion,\"/Modelo_prediccion_\",suelo,\".csv\",sep = \"\"))    \n",
    "}"
   ]
  },
  {
   "cell_type": "code",
   "execution_count": 30,
   "id": "4ea0d920-bc9f-497f-a17f-b651e25d0a6e",
   "metadata": {
    "tags": []
   },
   "outputs": [
    {
     "data": {
      "text/html": [
       "<style>\n",
       ".list-inline {list-style: none; margin:0; padding: 0}\n",
       ".list-inline>li {display: inline-block}\n",
       ".list-inline>li:not(:last-child)::after {content: \"\\00b7\"; padding: 0 .5ex}\n",
       "</style>\n",
       "<ol class=list-inline><li>0.99623042297957</li><li>0.566721722809551</li><li>0.863833695829912</li><li>0.888620295878186</li><li>0.658084594480811</li><li>0.544559423880219</li><li>0.866988259596445</li><li>0.396112336165797</li><li>0.740284630660954</li><li>0.908940312506691</li><li>0.858133300288549</li><li>0.832855554253128</li><li>0.959186558138792</li><li>0.89854089706214</li><li>0.890521798205687</li></ol>\n"
      ],
      "text/latex": [
       "\\begin{enumerate*}\n",
       "\\item 0.99623042297957\n",
       "\\item 0.566721722809551\n",
       "\\item 0.863833695829912\n",
       "\\item 0.888620295878186\n",
       "\\item 0.658084594480811\n",
       "\\item 0.544559423880219\n",
       "\\item 0.866988259596445\n",
       "\\item 0.396112336165797\n",
       "\\item 0.740284630660954\n",
       "\\item 0.908940312506691\n",
       "\\item 0.858133300288549\n",
       "\\item 0.832855554253128\n",
       "\\item 0.959186558138792\n",
       "\\item 0.89854089706214\n",
       "\\item 0.890521798205687\n",
       "\\end{enumerate*}\n"
      ],
      "text/markdown": [
       "1. 0.99623042297957\n",
       "2. 0.566721722809551\n",
       "3. 0.863833695829912\n",
       "4. 0.888620295878186\n",
       "5. 0.658084594480811\n",
       "6. 0.544559423880219\n",
       "7. 0.866988259596445\n",
       "8. 0.396112336165797\n",
       "9. 0.740284630660954\n",
       "10. 0.908940312506691\n",
       "11. 0.858133300288549\n",
       "12. 0.832855554253128\n",
       "13. 0.959186558138792\n",
       "14. 0.89854089706214\n",
       "15. 0.890521798205687\n",
       "\n",
       "\n"
      ],
      "text/plain": [
       " [1] 0.9962304 0.5667217 0.8638337 0.8886203 0.6580846 0.5445594 0.8669883\n",
       " [8] 0.3961123 0.7402846 0.9089403 0.8581333 0.8328556 0.9591866 0.8985409\n",
       "[15] 0.8905218"
      ]
     },
     "metadata": {},
     "output_type": "display_data"
    }
   ],
   "source": [
    "lista_R2"
   ]
  },
  {
   "cell_type": "code",
   "execution_count": 31,
   "id": "80d0f069-3e4b-4aad-8c65-9f5b9758f72c",
   "metadata": {
    "tags": []
   },
   "outputs": [],
   "source": [
    "# Generar dataframe de R2\n",
    "DF_R2 = data.frame(name_suelo, lista_R2)"
   ]
  },
  {
   "cell_type": "code",
   "execution_count": 32,
   "id": "354bc01b-9f61-4193-8a78-ddf2186da0d3",
   "metadata": {
    "tags": []
   },
   "outputs": [],
   "source": [
    "names(DF_R2) = c(\"Variable suelo\", \"R2 Ajustado\")"
   ]
  },
  {
   "cell_type": "code",
   "execution_count": 33,
   "id": "5a64c7ea-c52b-42b3-89ca-46edbf3d7388",
   "metadata": {
    "tags": []
   },
   "outputs": [
    {
     "name": "stdout",
     "output_type": "stream",
     "text": [
      "[1] \"Directorio existe PREDICCION\"\n"
     ]
    }
   ],
   "source": [
    "carpeta_Prediccion = paste(getwd(),\"/\",\"Prediccion\",sep = \"\")\n",
    "    if (!dir.exists(carpeta_Prediccion)){\n",
    "        dir.create(carpeta_Prediccion)\n",
    "    }else{\n",
    "        print(\"Directorio existe PREDICCION\")\n",
    "    }"
   ]
  },
  {
   "cell_type": "code",
   "execution_count": 34,
   "id": "6b29bb78-c63f-40e0-a3b8-283de51ea422",
   "metadata": {
    "tags": []
   },
   "outputs": [
    {
     "name": "stdout",
     "output_type": "stream",
     "text": [
      "[1] \"Directorio existe SHP\"\n"
     ]
    }
   ],
   "source": [
    "carpeta_SHP = paste(getwd(),\"/\",\"SHP\",sep = \"\")\n",
    "    if (!dir.exists(carpeta_SHP)){\n",
    "        dir.create(carpeta_SHP)\n",
    "    }else{\n",
    "        print(\"Directorio existe SHP\")\n",
    "    }"
   ]
  },
  {
   "cell_type": "code",
   "execution_count": 36,
   "id": "8d18c906-f21f-419e-970a-1319222d4bce",
   "metadata": {
    "tags": []
   },
   "outputs": [],
   "source": [
    "write.csv(DF_R2, paste(carpeta_Prediccion,\"/Tabla_R2_Ajustado.csv\",sep = \"\"))"
   ]
  },
  {
   "cell_type": "code",
   "execution_count": 37,
   "id": "081dd60b-a548-4e3b-8f0a-4219bc5934de",
   "metadata": {
    "tags": []
   },
   "outputs": [
    {
     "data": {
      "text/html": [
       "<style>\n",
       ".list-inline {list-style: none; margin:0; padding: 0}\n",
       ".list-inline>li {display: inline-block}\n",
       ".list-inline>li:not(:last-child)::after {content: \"\\00b7\"; padding: 0 .5ex}\n",
       "</style>\n",
       "<ol class=list-inline><li>'S2_04_B4()'</li><li>'S2_03_B3'</li><li>'S2_07_B7'</li><li>'S2_10_B11'</li><li>'S2_15_ExB'</li><li>'S2_35_SIPI'</li><li>'S2_51__ACP_1'</li></ol>\n"
      ],
      "text/latex": [
       "\\begin{enumerate*}\n",
       "\\item 'S2\\_04\\_B4()'\n",
       "\\item 'S2\\_03\\_B3'\n",
       "\\item 'S2\\_07\\_B7'\n",
       "\\item 'S2\\_10\\_B11'\n",
       "\\item 'S2\\_15\\_ExB'\n",
       "\\item 'S2\\_35\\_SIPI'\n",
       "\\item 'S2\\_51\\_\\_ACP\\_1'\n",
       "\\end{enumerate*}\n"
      ],
      "text/markdown": [
       "1. 'S2_04_B4()'\n",
       "2. 'S2_03_B3'\n",
       "3. 'S2_07_B7'\n",
       "4. 'S2_10_B11'\n",
       "5. 'S2_15_ExB'\n",
       "6. 'S2_35_SIPI'\n",
       "7. 'S2_51__ACP_1'\n",
       "\n",
       "\n"
      ],
      "text/plain": [
       "[1] \"S2_04_B4()\"   \"S2_03_B3\"     \"S2_07_B7\"     \"S2_10_B11\"    \"S2_15_ExB\"   \n",
       "[6] \"S2_35_SIPI\"   \"S2_51__ACP_1\""
      ]
     },
     "metadata": {},
     "output_type": "display_data"
    }
   ],
   "source": [
    "lista_variables = row.names(DT_modelo)\n",
    "lista_variables"
   ]
  },
  {
   "cell_type": "code",
   "execution_count": 38,
   "id": "e6070a32-1304-4dc6-8110-97e40ee1233c",
   "metadata": {
    "tags": []
   },
   "outputs": [],
   "source": [
    "library(MPV)\n",
    "library(mixlm)"
   ]
  },
  {
   "cell_type": "code",
   "execution_count": 39,
   "id": "353cef2a-a578-4e5a-a8c4-6b793121aaca",
   "metadata": {
    "tags": []
   },
   "outputs": [
    {
     "data": {
      "text/html": [
       "'C:/Users/AGPRES/Jupyter_Python/AGPRES/Datos_suelo/Satelite/Sentinel2/Bandas'"
      ],
      "text/latex": [
       "'C:/Users/AGPRES/Jupyter\\_Python/AGPRES/Datos\\_suelo/Satelite/Sentinel2/Bandas'"
      ],
      "text/markdown": [
       "'C:/Users/AGPRES/Jupyter_Python/AGPRES/Datos_suelo/Satelite/Sentinel2/Bandas'"
      ],
      "text/plain": [
       "[1] \"C:/Users/AGPRES/Jupyter_Python/AGPRES/Datos_suelo/Satelite/Sentinel2/Bandas\""
      ]
     },
     "metadata": {},
     "output_type": "display_data"
    }
   ],
   "source": [
    "getwd()"
   ]
  },
  {
   "cell_type": "code",
   "execution_count": 40,
   "id": "65ed9133-e518-4238-9794-2009130974f4",
   "metadata": {
    "tags": []
   },
   "outputs": [
    {
     "data": {
      "text/html": [
       "<style>\n",
       ".list-inline {list-style: none; margin:0; padding: 0}\n",
       ".list-inline>li {display: inline-block}\n",
       ".list-inline>li:not(:last-child)::after {content: \"\\00b7\"; padding: 0 .5ex}\n",
       "</style>\n",
       "<ol class=list-inline><li>'S2_01_B1.tif'</li><li>'S2_02_B2.tif'</li><li>'S2_03_B3.tif'</li><li>'S2_04_B4.tif'</li><li>'S2_05_B5.tif'</li><li>'S2_06_B6.tif'</li><li>'S2_07_B7.tif'</li><li>'S2_08_B8.tif'</li><li>'S2_09_B9.tif'</li><li>'S2_10_B11.tif'</li><li>'S2_11_B12.tif'</li><li>'S2_12_NGRDI.tif'</li><li>'S2_13_ExG.tif'</li><li>'S2_14_ExR.tif'</li><li>'S2_15_ExB.tif'</li><li>'S2_16_IKAW.tif'</li><li>'S2_17_GRRI.tif'</li><li>'S2_18_ExGR.tif'</li><li>'S2_19_GBDI.tif'</li><li>'S2_20_MGRVI.tif'</li><li>'S2_21_RGBVI.tif'</li><li>'S2_22_VDVI.tif'</li><li>'S2_23_VARI.tif'</li><li>'S2_24_RGRI.tif'</li><li>'S2_25_NGBDI.tif'</li><li>'S2_26_CIVE.tif'</li><li>'S2_27_NDVI.tif'</li><li>'S2_28_EVI.tif'</li><li>'S2_29_SAVI.tif'</li><li>'S2_30_MSAVI.tif'</li><li>'S2_31_NDWI.tif'</li><li>'S2_32_GNDVI.tif'</li><li>'S2_33_OSAVI.tif'</li><li>'S2_34_ARVI.tif'</li><li>'S2_35_SIPI.tif'</li><li>'S2_36_CGI.tif'</li><li>'S2_37_RVI.tif'</li><li>'S2_38_CVI.tif'</li><li>'S2_39_CCCI.tif'</li><li>'S2_40_RECI.tif'</li><li>'S2_41_SVI.tif'</li><li>'S2_42_SSI.tif'</li><li>'S2_43_SCI.tif'</li><li>'S2_44_SMI.tif'</li><li>'S2_45_MDE.tif'</li><li>'S2_46_slope.tif'</li><li>'S2_47_aspect.tif'</li><li>'S2_48_TPI.tif'</li><li>'S2_49_TRI.tif'</li><li>'S2_50_flowdir.tif'</li><li>'S2_51__ACP_1.tif'</li><li>'S2_52__ACP_2.tif'</li><li>'S2_53__ACP_3.tif'</li><li>'S2_RGB_NIR_TOP_Total.tif'</li></ol>\n"
      ],
      "text/latex": [
       "\\begin{enumerate*}\n",
       "\\item 'S2\\_01\\_B1.tif'\n",
       "\\item 'S2\\_02\\_B2.tif'\n",
       "\\item 'S2\\_03\\_B3.tif'\n",
       "\\item 'S2\\_04\\_B4.tif'\n",
       "\\item 'S2\\_05\\_B5.tif'\n",
       "\\item 'S2\\_06\\_B6.tif'\n",
       "\\item 'S2\\_07\\_B7.tif'\n",
       "\\item 'S2\\_08\\_B8.tif'\n",
       "\\item 'S2\\_09\\_B9.tif'\n",
       "\\item 'S2\\_10\\_B11.tif'\n",
       "\\item 'S2\\_11\\_B12.tif'\n",
       "\\item 'S2\\_12\\_NGRDI.tif'\n",
       "\\item 'S2\\_13\\_ExG.tif'\n",
       "\\item 'S2\\_14\\_ExR.tif'\n",
       "\\item 'S2\\_15\\_ExB.tif'\n",
       "\\item 'S2\\_16\\_IKAW.tif'\n",
       "\\item 'S2\\_17\\_GRRI.tif'\n",
       "\\item 'S2\\_18\\_ExGR.tif'\n",
       "\\item 'S2\\_19\\_GBDI.tif'\n",
       "\\item 'S2\\_20\\_MGRVI.tif'\n",
       "\\item 'S2\\_21\\_RGBVI.tif'\n",
       "\\item 'S2\\_22\\_VDVI.tif'\n",
       "\\item 'S2\\_23\\_VARI.tif'\n",
       "\\item 'S2\\_24\\_RGRI.tif'\n",
       "\\item 'S2\\_25\\_NGBDI.tif'\n",
       "\\item 'S2\\_26\\_CIVE.tif'\n",
       "\\item 'S2\\_27\\_NDVI.tif'\n",
       "\\item 'S2\\_28\\_EVI.tif'\n",
       "\\item 'S2\\_29\\_SAVI.tif'\n",
       "\\item 'S2\\_30\\_MSAVI.tif'\n",
       "\\item 'S2\\_31\\_NDWI.tif'\n",
       "\\item 'S2\\_32\\_GNDVI.tif'\n",
       "\\item 'S2\\_33\\_OSAVI.tif'\n",
       "\\item 'S2\\_34\\_ARVI.tif'\n",
       "\\item 'S2\\_35\\_SIPI.tif'\n",
       "\\item 'S2\\_36\\_CGI.tif'\n",
       "\\item 'S2\\_37\\_RVI.tif'\n",
       "\\item 'S2\\_38\\_CVI.tif'\n",
       "\\item 'S2\\_39\\_CCCI.tif'\n",
       "\\item 'S2\\_40\\_RECI.tif'\n",
       "\\item 'S2\\_41\\_SVI.tif'\n",
       "\\item 'S2\\_42\\_SSI.tif'\n",
       "\\item 'S2\\_43\\_SCI.tif'\n",
       "\\item 'S2\\_44\\_SMI.tif'\n",
       "\\item 'S2\\_45\\_MDE.tif'\n",
       "\\item 'S2\\_46\\_slope.tif'\n",
       "\\item 'S2\\_47\\_aspect.tif'\n",
       "\\item 'S2\\_48\\_TPI.tif'\n",
       "\\item 'S2\\_49\\_TRI.tif'\n",
       "\\item 'S2\\_50\\_flowdir.tif'\n",
       "\\item 'S2\\_51\\_\\_ACP\\_1.tif'\n",
       "\\item 'S2\\_52\\_\\_ACP\\_2.tif'\n",
       "\\item 'S2\\_53\\_\\_ACP\\_3.tif'\n",
       "\\item 'S2\\_RGB\\_NIR\\_TOP\\_Total.tif'\n",
       "\\end{enumerate*}\n"
      ],
      "text/markdown": [
       "1. 'S2_01_B1.tif'\n",
       "2. 'S2_02_B2.tif'\n",
       "3. 'S2_03_B3.tif'\n",
       "4. 'S2_04_B4.tif'\n",
       "5. 'S2_05_B5.tif'\n",
       "6. 'S2_06_B6.tif'\n",
       "7. 'S2_07_B7.tif'\n",
       "8. 'S2_08_B8.tif'\n",
       "9. 'S2_09_B9.tif'\n",
       "10. 'S2_10_B11.tif'\n",
       "11. 'S2_11_B12.tif'\n",
       "12. 'S2_12_NGRDI.tif'\n",
       "13. 'S2_13_ExG.tif'\n",
       "14. 'S2_14_ExR.tif'\n",
       "15. 'S2_15_ExB.tif'\n",
       "16. 'S2_16_IKAW.tif'\n",
       "17. 'S2_17_GRRI.tif'\n",
       "18. 'S2_18_ExGR.tif'\n",
       "19. 'S2_19_GBDI.tif'\n",
       "20. 'S2_20_MGRVI.tif'\n",
       "21. 'S2_21_RGBVI.tif'\n",
       "22. 'S2_22_VDVI.tif'\n",
       "23. 'S2_23_VARI.tif'\n",
       "24. 'S2_24_RGRI.tif'\n",
       "25. 'S2_25_NGBDI.tif'\n",
       "26. 'S2_26_CIVE.tif'\n",
       "27. 'S2_27_NDVI.tif'\n",
       "28. 'S2_28_EVI.tif'\n",
       "29. 'S2_29_SAVI.tif'\n",
       "30. 'S2_30_MSAVI.tif'\n",
       "31. 'S2_31_NDWI.tif'\n",
       "32. 'S2_32_GNDVI.tif'\n",
       "33. 'S2_33_OSAVI.tif'\n",
       "34. 'S2_34_ARVI.tif'\n",
       "35. 'S2_35_SIPI.tif'\n",
       "36. 'S2_36_CGI.tif'\n",
       "37. 'S2_37_RVI.tif'\n",
       "38. 'S2_38_CVI.tif'\n",
       "39. 'S2_39_CCCI.tif'\n",
       "40. 'S2_40_RECI.tif'\n",
       "41. 'S2_41_SVI.tif'\n",
       "42. 'S2_42_SSI.tif'\n",
       "43. 'S2_43_SCI.tif'\n",
       "44. 'S2_44_SMI.tif'\n",
       "45. 'S2_45_MDE.tif'\n",
       "46. 'S2_46_slope.tif'\n",
       "47. 'S2_47_aspect.tif'\n",
       "48. 'S2_48_TPI.tif'\n",
       "49. 'S2_49_TRI.tif'\n",
       "50. 'S2_50_flowdir.tif'\n",
       "51. 'S2_51__ACP_1.tif'\n",
       "52. 'S2_52__ACP_2.tif'\n",
       "53. 'S2_53__ACP_3.tif'\n",
       "54. 'S2_RGB_NIR_TOP_Total.tif'\n",
       "\n",
       "\n"
      ],
      "text/plain": [
       " [1] \"S2_01_B1.tif\"             \"S2_02_B2.tif\"            \n",
       " [3] \"S2_03_B3.tif\"             \"S2_04_B4.tif\"            \n",
       " [5] \"S2_05_B5.tif\"             \"S2_06_B6.tif\"            \n",
       " [7] \"S2_07_B7.tif\"             \"S2_08_B8.tif\"            \n",
       " [9] \"S2_09_B9.tif\"             \"S2_10_B11.tif\"           \n",
       "[11] \"S2_11_B12.tif\"            \"S2_12_NGRDI.tif\"         \n",
       "[13] \"S2_13_ExG.tif\"            \"S2_14_ExR.tif\"           \n",
       "[15] \"S2_15_ExB.tif\"            \"S2_16_IKAW.tif\"          \n",
       "[17] \"S2_17_GRRI.tif\"           \"S2_18_ExGR.tif\"          \n",
       "[19] \"S2_19_GBDI.tif\"           \"S2_20_MGRVI.tif\"         \n",
       "[21] \"S2_21_RGBVI.tif\"          \"S2_22_VDVI.tif\"          \n",
       "[23] \"S2_23_VARI.tif\"           \"S2_24_RGRI.tif\"          \n",
       "[25] \"S2_25_NGBDI.tif\"          \"S2_26_CIVE.tif\"          \n",
       "[27] \"S2_27_NDVI.tif\"           \"S2_28_EVI.tif\"           \n",
       "[29] \"S2_29_SAVI.tif\"           \"S2_30_MSAVI.tif\"         \n",
       "[31] \"S2_31_NDWI.tif\"           \"S2_32_GNDVI.tif\"         \n",
       "[33] \"S2_33_OSAVI.tif\"          \"S2_34_ARVI.tif\"          \n",
       "[35] \"S2_35_SIPI.tif\"           \"S2_36_CGI.tif\"           \n",
       "[37] \"S2_37_RVI.tif\"            \"S2_38_CVI.tif\"           \n",
       "[39] \"S2_39_CCCI.tif\"           \"S2_40_RECI.tif\"          \n",
       "[41] \"S2_41_SVI.tif\"            \"S2_42_SSI.tif\"           \n",
       "[43] \"S2_43_SCI.tif\"            \"S2_44_SMI.tif\"           \n",
       "[45] \"S2_45_MDE.tif\"            \"S2_46_slope.tif\"         \n",
       "[47] \"S2_47_aspect.tif\"         \"S2_48_TPI.tif\"           \n",
       "[49] \"S2_49_TRI.tif\"            \"S2_50_flowdir.tif\"       \n",
       "[51] \"S2_51__ACP_1.tif\"         \"S2_52__ACP_2.tif\"        \n",
       "[53] \"S2_53__ACP_3.tif\"         \"S2_RGB_NIR_TOP_Total.tif\""
      ]
     },
     "metadata": {},
     "output_type": "display_data"
    }
   ],
   "source": [
    "# Crear lista  indices\n",
    "lista_datos <- list.files(path = getwd(), pattern = '.*tif$')\n",
    "lista_datos"
   ]
  },
  {
   "cell_type": "code",
   "execution_count": 41,
   "id": "ac6ce505-211a-4d4c-9dbc-2e7e4a59d608",
   "metadata": {
    "tags": []
   },
   "outputs": [
    {
     "data": {
      "text/html": [
       "<style>\n",
       ".list-inline {list-style: none; margin:0; padding: 0}\n",
       ".list-inline>li {display: inline-block}\n",
       ".list-inline>li:not(:last-child)::after {content: \"\\00b7\"; padding: 0 .5ex}\n",
       "</style>\n",
       "<ol class=list-inline><li>'pH'</li><li>'CE'</li><li>'MO'</li><li>'N'</li><li>'P'</li><li>'K'</li><li>'Ca'</li><li>'Mg'</li><li>'Al'</li><li>'CICe'</li><li>'BT'</li><li>'SAl'</li><li>'Arena'</li><li>'Limo'</li><li>'Arcilla'</li></ol>\n"
      ],
      "text/latex": [
       "\\begin{enumerate*}\n",
       "\\item 'pH'\n",
       "\\item 'CE'\n",
       "\\item 'MO'\n",
       "\\item 'N'\n",
       "\\item 'P'\n",
       "\\item 'K'\n",
       "\\item 'Ca'\n",
       "\\item 'Mg'\n",
       "\\item 'Al'\n",
       "\\item 'CICe'\n",
       "\\item 'BT'\n",
       "\\item 'SAl'\n",
       "\\item 'Arena'\n",
       "\\item 'Limo'\n",
       "\\item 'Arcilla'\n",
       "\\end{enumerate*}\n"
      ],
      "text/markdown": [
       "1. 'pH'\n",
       "2. 'CE'\n",
       "3. 'MO'\n",
       "4. 'N'\n",
       "5. 'P'\n",
       "6. 'K'\n",
       "7. 'Ca'\n",
       "8. 'Mg'\n",
       "9. 'Al'\n",
       "10. 'CICe'\n",
       "11. 'BT'\n",
       "12. 'SAl'\n",
       "13. 'Arena'\n",
       "14. 'Limo'\n",
       "15. 'Arcilla'\n",
       "\n",
       "\n"
      ],
      "text/plain": [
       " [1] \"pH\"      \"CE\"      \"MO\"      \"N\"       \"P\"       \"K\"       \"Ca\"     \n",
       " [8] \"Mg\"      \"Al\"      \"CICe\"    \"BT\"      \"SAl\"     \"Arena\"   \"Limo\"   \n",
       "[15] \"Arcilla\""
      ]
     },
     "metadata": {},
     "output_type": "display_data"
    }
   ],
   "source": [
    "name_suelo"
   ]
  },
  {
   "cell_type": "markdown",
   "id": "bf157574-7279-4776-9233-5fbb7c71920c",
   "metadata": {},
   "source": [
    "## Cambiar dato"
   ]
  },
  {
   "cell_type": "code",
   "execution_count": 569,
   "id": "3103ead0-5586-4722-8a2f-cce1115600e4",
   "metadata": {
    "tags": []
   },
   "outputs": [
    {
     "data": {
      "text/html": [
       "'Arcilla'"
      ],
      "text/latex": [
       "'Arcilla'"
      ],
      "text/markdown": [
       "'Arcilla'"
      ],
      "text/plain": [
       "[1] \"Arcilla\""
      ]
     },
     "metadata": {},
     "output_type": "display_data"
    }
   ],
   "source": [
    "x_suelo = name_suelo[15]\n",
    "x_suelo"
   ]
  },
  {
   "cell_type": "code",
   "execution_count": 570,
   "id": "ce147bb3-305e-454a-81e9-9a9f55c1ffc9",
   "metadata": {
    "tags": []
   },
   "outputs": [
    {
     "data": {
      "text/html": [
       "'Modelo_prediccion_Arcilla.csv'"
      ],
      "text/latex": [
       "'Modelo\\_prediccion\\_Arcilla.csv'"
      ],
      "text/markdown": [
       "'Modelo_prediccion_Arcilla.csv'"
      ],
      "text/plain": [
       "[1] \"Modelo_prediccion_Arcilla.csv\""
      ]
     },
     "metadata": {},
     "output_type": "display_data"
    }
   ],
   "source": [
    "lista_datos <- list.files(path = carpeta_Prediccion, pattern = paste(\"*Modelo_prediccion_*\",x_suelo,\"*.csv$\",sep = \"\"))\n",
    "lista_datos"
   ]
  },
  {
   "cell_type": "code",
   "execution_count": 571,
   "id": "40218a12-db7a-4841-a095-c60f91bc8b16",
   "metadata": {
    "tags": []
   },
   "outputs": [
    {
     "data": {
      "text/html": [
       "'C:/Users/AGPRES/Jupyter_Python/AGPRES/Datos_suelo/Satelite/Sentinel2/Bandas/Prediccion/Modelo_prediccion_Arcilla.csv'"
      ],
      "text/latex": [
       "'C:/Users/AGPRES/Jupyter\\_Python/AGPRES/Datos\\_suelo/Satelite/Sentinel2/Bandas/Prediccion/Modelo\\_prediccion\\_Arcilla.csv'"
      ],
      "text/markdown": [
       "'C:/Users/AGPRES/Jupyter_Python/AGPRES/Datos_suelo/Satelite/Sentinel2/Bandas/Prediccion/Modelo_prediccion_Arcilla.csv'"
      ],
      "text/plain": [
       "[1] \"C:/Users/AGPRES/Jupyter_Python/AGPRES/Datos_suelo/Satelite/Sentinel2/Bandas/Prediccion/Modelo_prediccion_Arcilla.csv\""
      ]
     },
     "metadata": {},
     "output_type": "display_data"
    }
   ],
   "source": [
    "paste(carpeta_Prediccion,\"/\", lista_datos[1],sep = \"\")"
   ]
  },
  {
   "cell_type": "code",
   "execution_count": 572,
   "id": "6af08581-a56e-44ab-a35b-e74892e95318",
   "metadata": {
    "tags": []
   },
   "outputs": [
    {
     "data": {
      "text/html": [
       "<table class=\"dataframe\">\n",
       "<caption>A data.frame: 7 × 5</caption>\n",
       "<thead>\n",
       "\t<tr><th scope=col>X</th><th scope=col>Estimate</th><th scope=col>Std..Error</th><th scope=col>t.value</th><th scope=col>Pr...t..</th></tr>\n",
       "\t<tr><th scope=col>&lt;chr&gt;</th><th scope=col>&lt;dbl&gt;</th><th scope=col>&lt;dbl&gt;</th><th scope=col>&lt;dbl&gt;</th><th scope=col>&lt;dbl&gt;</th></tr>\n",
       "</thead>\n",
       "<tbody>\n",
       "\t<tr><td>S2_04_B4()  </td><td>-629.98100</td><td>181.08301</td><td>-3.478962</td><td>0.001014711</td></tr>\n",
       "\t<tr><td>S2_03_B3    </td><td> 814.45939</td><td>248.56170</td><td> 3.276689</td><td>0.001856317</td></tr>\n",
       "\t<tr><td>S2_07_B7    </td><td>-377.29492</td><td>129.01664</td><td>-2.924390</td><td>0.005068505</td></tr>\n",
       "\t<tr><td>S2_10_B11   </td><td> 284.55153</td><td> 85.09105</td><td> 3.344083</td><td>0.001521140</td></tr>\n",
       "\t<tr><td>S2_15_ExB   </td><td> 791.48577</td><td>289.78923</td><td> 2.731246</td><td>0.008549908</td></tr>\n",
       "\t<tr><td>S2_35_SIPI  </td><td>  28.12839</td><td>  9.94169</td><td> 2.829337</td><td>0.006572837</td></tr>\n",
       "\t<tr><td>S2_51__ACP_1</td><td>-269.44110</td><td> 94.04815</td><td>-2.864927</td><td>0.005966785</td></tr>\n",
       "</tbody>\n",
       "</table>\n"
      ],
      "text/latex": [
       "A data.frame: 7 × 5\n",
       "\\begin{tabular}{lllll}\n",
       " X & Estimate & Std..Error & t.value & Pr...t..\\\\\n",
       " <chr> & <dbl> & <dbl> & <dbl> & <dbl>\\\\\n",
       "\\hline\n",
       "\t S2\\_04\\_B4()   & -629.98100 & 181.08301 & -3.478962 & 0.001014711\\\\\n",
       "\t S2\\_03\\_B3     &  814.45939 & 248.56170 &  3.276689 & 0.001856317\\\\\n",
       "\t S2\\_07\\_B7     & -377.29492 & 129.01664 & -2.924390 & 0.005068505\\\\\n",
       "\t S2\\_10\\_B11    &  284.55153 &  85.09105 &  3.344083 & 0.001521140\\\\\n",
       "\t S2\\_15\\_ExB    &  791.48577 & 289.78923 &  2.731246 & 0.008549908\\\\\n",
       "\t S2\\_35\\_SIPI   &   28.12839 &   9.94169 &  2.829337 & 0.006572837\\\\\n",
       "\t S2\\_51\\_\\_ACP\\_1 & -269.44110 &  94.04815 & -2.864927 & 0.005966785\\\\\n",
       "\\end{tabular}\n"
      ],
      "text/markdown": [
       "\n",
       "A data.frame: 7 × 5\n",
       "\n",
       "| X &lt;chr&gt; | Estimate &lt;dbl&gt; | Std..Error &lt;dbl&gt; | t.value &lt;dbl&gt; | Pr...t.. &lt;dbl&gt; |\n",
       "|---|---|---|---|---|\n",
       "| S2_04_B4()   | -629.98100 | 181.08301 | -3.478962 | 0.001014711 |\n",
       "| S2_03_B3     |  814.45939 | 248.56170 |  3.276689 | 0.001856317 |\n",
       "| S2_07_B7     | -377.29492 | 129.01664 | -2.924390 | 0.005068505 |\n",
       "| S2_10_B11    |  284.55153 |  85.09105 |  3.344083 | 0.001521140 |\n",
       "| S2_15_ExB    |  791.48577 | 289.78923 |  2.731246 | 0.008549908 |\n",
       "| S2_35_SIPI   |   28.12839 |   9.94169 |  2.829337 | 0.006572837 |\n",
       "| S2_51__ACP_1 | -269.44110 |  94.04815 | -2.864927 | 0.005966785 |\n",
       "\n"
      ],
      "text/plain": [
       "  X            Estimate   Std..Error t.value   Pr...t..   \n",
       "1 S2_04_B4()   -629.98100 181.08301  -3.478962 0.001014711\n",
       "2 S2_03_B3      814.45939 248.56170   3.276689 0.001856317\n",
       "3 S2_07_B7     -377.29492 129.01664  -2.924390 0.005068505\n",
       "4 S2_10_B11     284.55153  85.09105   3.344083 0.001521140\n",
       "5 S2_15_ExB     791.48577 289.78923   2.731246 0.008549908\n",
       "6 S2_35_SIPI     28.12839   9.94169   2.829337 0.006572837\n",
       "7 S2_51__ACP_1 -269.44110  94.04815  -2.864927 0.005966785"
      ]
     },
     "metadata": {},
     "output_type": "display_data"
    }
   ],
   "source": [
    "datos_csv <- read.delim(paste(carpeta_Prediccion,\"/\", lista_datos[1],sep = \"\"),sep = \",\")\n",
    "datos_csv"
   ]
  },
  {
   "cell_type": "code",
   "execution_count": 573,
   "id": "719990a5-75ef-4d1b-814a-b5330199574a",
   "metadata": {
    "tags": []
   },
   "outputs": [
    {
     "data": {
      "text/html": [
       "<style>\n",
       ".list-inline {list-style: none; margin:0; padding: 0}\n",
       ".list-inline>li {display: inline-block}\n",
       ".list-inline>li:not(:last-child)::after {content: \"\\00b7\"; padding: 0 .5ex}\n",
       "</style>\n",
       "<ol class=list-inline><li>'S2_04_B4()'</li><li>'S2_03_B3'</li><li>'S2_07_B7'</li><li>'S2_10_B11'</li><li>'S2_15_ExB'</li><li>'S2_35_SIPI'</li><li>'S2_51__ACP_1'</li></ol>\n"
      ],
      "text/latex": [
       "\\begin{enumerate*}\n",
       "\\item 'S2\\_04\\_B4()'\n",
       "\\item 'S2\\_03\\_B3'\n",
       "\\item 'S2\\_07\\_B7'\n",
       "\\item 'S2\\_10\\_B11'\n",
       "\\item 'S2\\_15\\_ExB'\n",
       "\\item 'S2\\_35\\_SIPI'\n",
       "\\item 'S2\\_51\\_\\_ACP\\_1'\n",
       "\\end{enumerate*}\n"
      ],
      "text/markdown": [
       "1. 'S2_04_B4()'\n",
       "2. 'S2_03_B3'\n",
       "3. 'S2_07_B7'\n",
       "4. 'S2_10_B11'\n",
       "5. 'S2_15_ExB'\n",
       "6. 'S2_35_SIPI'\n",
       "7. 'S2_51__ACP_1'\n",
       "\n",
       "\n"
      ],
      "text/plain": [
       "[1] \"S2_04_B4()\"   \"S2_03_B3\"     \"S2_07_B7\"     \"S2_10_B11\"    \"S2_15_ExB\"   \n",
       "[6] \"S2_35_SIPI\"   \"S2_51__ACP_1\""
      ]
     },
     "metadata": {},
     "output_type": "display_data"
    }
   ],
   "source": [
    "datos_csv[,1]"
   ]
  },
  {
   "cell_type": "code",
   "execution_count": 574,
   "id": "ca3bf548-c5fb-4c2f-bd1e-afc8b4092f8e",
   "metadata": {
    "tags": []
   },
   "outputs": [
    {
     "data": {
      "text/html": [
       "'S2_04_B4'"
      ],
      "text/latex": [
       "'S2\\_04\\_B4'"
      ],
      "text/markdown": [
       "'S2_04_B4'"
      ],
      "text/plain": [
       "[1] \"S2_04_B4\""
      ]
     },
     "metadata": {},
     "output_type": "display_data"
    }
   ],
   "source": [
    "substring(datos_csv[,1][1], first = 1, last = nchar(datos_csv[,1][1])-2)"
   ]
  },
  {
   "cell_type": "code",
   "execution_count": 575,
   "id": "43a14424-343a-4d1a-b9e2-85c5cbb38ec5",
   "metadata": {
    "tags": []
   },
   "outputs": [],
   "source": [
    "# Cambiar el nombre primer elemento\n",
    "datos_csv[,1][1] = substring(datos_csv[,1][1], first = 1, last =nchar(datos_csv[,1][1])-2)"
   ]
  },
  {
   "cell_type": "code",
   "execution_count": 576,
   "id": "2abd5a23-6a4a-4e44-9413-fc7496498baa",
   "metadata": {
    "tags": []
   },
   "outputs": [],
   "source": [
    "Variables = datos_csv[,1]"
   ]
  },
  {
   "cell_type": "code",
   "execution_count": 577,
   "id": "081ffebc-bfe6-4d71-af6c-972b705b70d1",
   "metadata": {
    "tags": []
   },
   "outputs": [
    {
     "data": {
      "text/html": [
       "7"
      ],
      "text/latex": [
       "7"
      ],
      "text/markdown": [
       "7"
      ],
      "text/plain": [
       "[1] 7"
      ]
     },
     "metadata": {},
     "output_type": "display_data"
    }
   ],
   "source": [
    "length(Variables)"
   ]
  },
  {
   "cell_type": "code",
   "execution_count": 578,
   "id": "4f9b5706-2555-4258-9f35-73ec5ee96486",
   "metadata": {
    "tags": []
   },
   "outputs": [
    {
     "data": {
      "text/html": [
       "<style>\n",
       ".list-inline {list-style: none; margin:0; padding: 0}\n",
       ".list-inline>li {display: inline-block}\n",
       ".list-inline>li:not(:last-child)::after {content: \"\\00b7\"; padding: 0 .5ex}\n",
       "</style>\n",
       "<ol class=list-inline><li>'S2_04_B4'</li><li>'S2_03_B3'</li><li>'S2_07_B7'</li><li>'S2_10_B11'</li><li>'S2_15_ExB'</li><li>'S2_35_SIPI'</li><li>'S2_51__ACP_1'</li></ol>\n"
      ],
      "text/latex": [
       "\\begin{enumerate*}\n",
       "\\item 'S2\\_04\\_B4'\n",
       "\\item 'S2\\_03\\_B3'\n",
       "\\item 'S2\\_07\\_B7'\n",
       "\\item 'S2\\_10\\_B11'\n",
       "\\item 'S2\\_15\\_ExB'\n",
       "\\item 'S2\\_35\\_SIPI'\n",
       "\\item 'S2\\_51\\_\\_ACP\\_1'\n",
       "\\end{enumerate*}\n"
      ],
      "text/markdown": [
       "1. 'S2_04_B4'\n",
       "2. 'S2_03_B3'\n",
       "3. 'S2_07_B7'\n",
       "4. 'S2_10_B11'\n",
       "5. 'S2_15_ExB'\n",
       "6. 'S2_35_SIPI'\n",
       "7. 'S2_51__ACP_1'\n",
       "\n",
       "\n"
      ],
      "text/plain": [
       "[1] \"S2_04_B4\"     \"S2_03_B3\"     \"S2_07_B7\"     \"S2_10_B11\"    \"S2_15_ExB\"   \n",
       "[6] \"S2_35_SIPI\"   \"S2_51__ACP_1\""
      ]
     },
     "metadata": {},
     "output_type": "display_data"
    }
   ],
   "source": [
    "Variables"
   ]
  },
  {
   "cell_type": "code",
   "execution_count": 579,
   "id": "19b4b70c-bae7-4c4f-beb3-8efaa2405ae5",
   "metadata": {
    "tags": []
   },
   "outputs": [
    {
     "data": {
      "text/html": [
       "'S2_04_B4'"
      ],
      "text/latex": [
       "'S2\\_04\\_B4'"
      ],
      "text/markdown": [
       "'S2_04_B4'"
      ],
      "text/plain": [
       "[1] \"S2_04_B4\""
      ]
     },
     "metadata": {},
     "output_type": "display_data"
    }
   ],
   "source": [
    "Variables[1]"
   ]
  },
  {
   "cell_type": "code",
   "execution_count": 580,
   "id": "519fcaab-bf64-47ec-8c45-9fe7e765dd8a",
   "metadata": {
    "tags": []
   },
   "outputs": [],
   "source": [
    "lista_bandas = c()"
   ]
  },
  {
   "cell_type": "code",
   "execution_count": 581,
   "id": "5f6f629d-24f8-4748-a1ec-0462c1482016",
   "metadata": {
    "tags": []
   },
   "outputs": [
    {
     "data": {
      "text/html": [
       "'C:/Users/AGPRES/Jupyter_Python/AGPRES/Datos_suelo/Satelite/Sentinel2/Bandas/Banda_select'"
      ],
      "text/latex": [
       "'C:/Users/AGPRES/Jupyter\\_Python/AGPRES/Datos\\_suelo/Satelite/Sentinel2/Bandas/Banda\\_select'"
      ],
      "text/markdown": [
       "'C:/Users/AGPRES/Jupyter_Python/AGPRES/Datos_suelo/Satelite/Sentinel2/Bandas/Banda_select'"
      ],
      "text/plain": [
       "[1] \"C:/Users/AGPRES/Jupyter_Python/AGPRES/Datos_suelo/Satelite/Sentinel2/Bandas/Banda_select\""
      ]
     },
     "metadata": {},
     "output_type": "display_data"
    }
   ],
   "source": [
    "getwd()"
   ]
  },
  {
   "cell_type": "code",
   "execution_count": 582,
   "id": "f7fa3de7-42e1-41cf-b589-c26cfbf35495",
   "metadata": {
    "tags": []
   },
   "outputs": [
    {
     "data": {
      "text/html": [
       "'C:/Users/AGPRES/Jupyter_Python/AGPRES/Datos_suelo/Satelite/Sentinel2/Bandas/Banda_select /Banda_select/'"
      ],
      "text/latex": [
       "'C:/Users/AGPRES/Jupyter\\_Python/AGPRES/Datos\\_suelo/Satelite/Sentinel2/Bandas/Banda\\_select /Banda\\_select/'"
      ],
      "text/markdown": [
       "'C:/Users/AGPRES/Jupyter_Python/AGPRES/Datos_suelo/Satelite/Sentinel2/Bandas/Banda_select /Banda_select/'"
      ],
      "text/plain": [
       "[1] \"C:/Users/AGPRES/Jupyter_Python/AGPRES/Datos_suelo/Satelite/Sentinel2/Bandas/Banda_select /Banda_select/\""
      ]
     },
     "metadata": {},
     "output_type": "display_data"
    }
   ],
   "source": [
    "Carpeta_select <- paste(path = getwd(), \"/Banda_select/\")\n",
    "Carpeta_select"
   ]
  },
  {
   "cell_type": "code",
   "execution_count": 583,
   "id": "c5baa6c0-b0fe-4aa3-a465-ccb744979ab1",
   "metadata": {
    "tags": []
   },
   "outputs": [
    {
     "data": {
      "text/html": [
       "'S2_04_B4'"
      ],
      "text/latex": [
       "'S2\\_04\\_B4'"
      ],
      "text/markdown": [
       "'S2_04_B4'"
      ],
      "text/plain": [
       "[1] \"S2_04_B4\""
      ]
     },
     "metadata": {},
     "output_type": "display_data"
    }
   ],
   "source": [
    "Variables[1]"
   ]
  },
  {
   "cell_type": "code",
   "execution_count": 584,
   "id": "fb8944d3-20b6-416b-bfe9-3fd2e5ba8dcb",
   "metadata": {
    "tags": []
   },
   "outputs": [
    {
     "data": {
      "text/html": [
       "'S2_S2_04_B4.tif'"
      ],
      "text/latex": [
       "'S2\\_S2\\_04\\_B4.tif'"
      ],
      "text/markdown": [
       "'S2_S2_04_B4.tif'"
      ],
      "text/plain": [
       "[1] \"S2_S2_04_B4.tif\""
      ]
     },
     "metadata": {},
     "output_type": "display_data"
    }
   ],
   "source": [
    "pattern = paste(\"S2_\",Variables[1],\".tif\",sep = \"\")\n",
    "pattern"
   ]
  },
  {
   "cell_type": "code",
   "execution_count": 585,
   "id": "30b56613-bfc1-4973-960b-081f707738d1",
   "metadata": {
    "tags": []
   },
   "outputs": [],
   "source": [
    "setwd(r\"(C:\\Users\\AGPRES\\Jupyter_Python\\AGPRES\\Datos_suelo\\Satelite\\Sentinel2\\Bandas\\Banda_select)\")"
   ]
  },
  {
   "cell_type": "code",
   "execution_count": 586,
   "id": "80d04528-cbb9-40f3-9f7b-2773189888ea",
   "metadata": {
    "tags": []
   },
   "outputs": [
    {
     "data": {
      "text/html": [
       "<style>\n",
       ".list-inline {list-style: none; margin:0; padding: 0}\n",
       ".list-inline>li {display: inline-block}\n",
       ".list-inline>li:not(:last-child)::after {content: \"\\00b7\"; padding: 0 .5ex}\n",
       "</style>\n",
       "<ol class=list-inline><li>'S2_04_B4'</li><li>'S2_03_B3'</li><li>'S2_07_B7'</li><li>'S2_10_B11'</li><li>'S2_15_ExB'</li><li>'S2_35_SIPI'</li><li>'S2_51__ACP_1'</li></ol>\n"
      ],
      "text/latex": [
       "\\begin{enumerate*}\n",
       "\\item 'S2\\_04\\_B4'\n",
       "\\item 'S2\\_03\\_B3'\n",
       "\\item 'S2\\_07\\_B7'\n",
       "\\item 'S2\\_10\\_B11'\n",
       "\\item 'S2\\_15\\_ExB'\n",
       "\\item 'S2\\_35\\_SIPI'\n",
       "\\item 'S2\\_51\\_\\_ACP\\_1'\n",
       "\\end{enumerate*}\n"
      ],
      "text/markdown": [
       "1. 'S2_04_B4'\n",
       "2. 'S2_03_B3'\n",
       "3. 'S2_07_B7'\n",
       "4. 'S2_10_B11'\n",
       "5. 'S2_15_ExB'\n",
       "6. 'S2_35_SIPI'\n",
       "7. 'S2_51__ACP_1'\n",
       "\n",
       "\n"
      ],
      "text/plain": [
       "[1] \"S2_04_B4\"     \"S2_03_B3\"     \"S2_07_B7\"     \"S2_10_B11\"    \"S2_15_ExB\"   \n",
       "[6] \"S2_35_SIPI\"   \"S2_51__ACP_1\""
      ]
     },
     "metadata": {},
     "output_type": "display_data"
    }
   ],
   "source": [
    "Variables"
   ]
  },
  {
   "cell_type": "code",
   "execution_count": 587,
   "id": "aec0a7fc-1898-4fec-8838-861f01aeea72",
   "metadata": {
    "tags": []
   },
   "outputs": [],
   "source": [
    "for (i in 1:length(Variables)) {\n",
    "    name_variable = Variables[i]\n",
    "    ubica_variable <- paste(Variables[i],\".tif\",sep = \"\")\n",
    "    selec_b <- raster(ubica_variable[1])\n",
    "    lista_bandas[[i]] <- selec_b\n",
    "}"
   ]
  },
  {
   "cell_type": "code",
   "execution_count": 588,
   "id": "4ade76a7-0bf8-4a81-b51c-6be0e607cc81",
   "metadata": {
    "tags": []
   },
   "outputs": [],
   "source": [
    "RGB = stack(lista_bandas)"
   ]
  },
  {
   "cell_type": "code",
   "execution_count": 589,
   "id": "6140393b-7dd6-490d-b882-3659719923d7",
   "metadata": {
    "tags": []
   },
   "outputs": [
    {
     "data": {
      "text/html": [
       "<style>\n",
       ".list-inline {list-style: none; margin:0; padding: 0}\n",
       ".list-inline>li {display: inline-block}\n",
       ".list-inline>li:not(:last-child)::after {content: \"\\00b7\"; padding: 0 .5ex}\n",
       "</style>\n",
       "<ol class=list-inline><li>'S2_04_B4'</li><li>'S2_03_B3'</li><li>'S2_07_B7'</li><li>'S2_10_B11'</li><li>'S2_15_ExB'</li><li>'S2_35_SIPI'</li><li>'S2_51__ACP_1'</li></ol>\n"
      ],
      "text/latex": [
       "\\begin{enumerate*}\n",
       "\\item 'S2\\_04\\_B4'\n",
       "\\item 'S2\\_03\\_B3'\n",
       "\\item 'S2\\_07\\_B7'\n",
       "\\item 'S2\\_10\\_B11'\n",
       "\\item 'S2\\_15\\_ExB'\n",
       "\\item 'S2\\_35\\_SIPI'\n",
       "\\item 'S2\\_51\\_\\_ACP\\_1'\n",
       "\\end{enumerate*}\n"
      ],
      "text/markdown": [
       "1. 'S2_04_B4'\n",
       "2. 'S2_03_B3'\n",
       "3. 'S2_07_B7'\n",
       "4. 'S2_10_B11'\n",
       "5. 'S2_15_ExB'\n",
       "6. 'S2_35_SIPI'\n",
       "7. 'S2_51__ACP_1'\n",
       "\n",
       "\n"
      ],
      "text/plain": [
       "[1] \"S2_04_B4\"     \"S2_03_B3\"     \"S2_07_B7\"     \"S2_10_B11\"    \"S2_15_ExB\"   \n",
       "[6] \"S2_35_SIPI\"   \"S2_51__ACP_1\""
      ]
     },
     "metadata": {},
     "output_type": "display_data"
    }
   ],
   "source": [
    "Variables"
   ]
  },
  {
   "cell_type": "code",
   "execution_count": 590,
   "id": "c77ead5a-7028-41b8-b86f-e323b6b3d528",
   "metadata": {
    "tags": []
   },
   "outputs": [],
   "source": [
    "names(RGB) = Variables"
   ]
  },
  {
   "cell_type": "code",
   "execution_count": 591,
   "id": "a28942cf-efb6-4575-a4a7-43a230d833fb",
   "metadata": {
    "tags": []
   },
   "outputs": [
    {
     "data": {
      "image/png": "[encoded data removed]",
      "text/plain": [
       "Plot with title \"\""
      ]
     },
     "metadata": {
      "image/png": {
       "height": 420,
       "width": 420
      }
     },
     "output_type": "display_data"
    }
   ],
   "source": [
    "plot(RGB[[1]])"
   ]
  },
  {
   "cell_type": "code",
   "execution_count": 592,
   "id": "89a88c8e-095a-46dc-8de8-486f45baba7c",
   "metadata": {
    "tags": []
   },
   "outputs": [],
   "source": [
    "estimadores = datos_csv[,2]"
   ]
  },
  {
   "cell_type": "code",
   "execution_count": 593,
   "id": "4549afed-347a-43f9-9760-bd09d6d8dd1e",
   "metadata": {
    "tags": []
   },
   "outputs": [
    {
     "data": {
      "text/html": [
       "<style>\n",
       ".list-inline {list-style: none; margin:0; padding: 0}\n",
       ".list-inline>li {display: inline-block}\n",
       ".list-inline>li:not(:last-child)::after {content: \"\\00b7\"; padding: 0 .5ex}\n",
       "</style>\n",
       "<ol class=list-inline><li>-629.981000294077</li><li>814.459393035605</li><li>-377.294918499709</li><li>284.551533984467</li><li>791.485770440051</li><li>28.1283890286712</li><li>-269.44110388859</li></ol>\n"
      ],
      "text/latex": [
       "\\begin{enumerate*}\n",
       "\\item -629.981000294077\n",
       "\\item 814.459393035605\n",
       "\\item -377.294918499709\n",
       "\\item 284.551533984467\n",
       "\\item 791.485770440051\n",
       "\\item 28.1283890286712\n",
       "\\item -269.44110388859\n",
       "\\end{enumerate*}\n"
      ],
      "text/markdown": [
       "1. -629.981000294077\n",
       "2. 814.459393035605\n",
       "3. -377.294918499709\n",
       "4. 284.551533984467\n",
       "5. 791.485770440051\n",
       "6. 28.1283890286712\n",
       "7. -269.44110388859\n",
       "\n",
       "\n"
      ],
      "text/plain": [
       "[1] -629.98100  814.45939 -377.29492  284.55153  791.48577   28.12839 -269.44110"
      ]
     },
     "metadata": {},
     "output_type": "display_data"
    }
   ],
   "source": [
    "estimadores"
   ]
  },
  {
   "cell_type": "code",
   "execution_count": 594,
   "id": "aca14b7c-e0c5-4dc9-a378-d86d82c7f806",
   "metadata": {
    "tags": []
   },
   "outputs": [
    {
     "data": {
      "text/html": [
       "7"
      ],
      "text/latex": [
       "7"
      ],
      "text/markdown": [
       "7"
      ],
      "text/plain": [
       "[1] 7"
      ]
     },
     "metadata": {},
     "output_type": "display_data"
    }
   ],
   "source": [
    "length(estimadores)"
   ]
  },
  {
   "cell_type": "code",
   "execution_count": 595,
   "id": "d5fea824-f042-4713-b2be-fd0ce2613db7",
   "metadata": {
    "tags": []
   },
   "outputs": [],
   "source": [
    "Prediccion_variable = estimadores[1]*RGB[[1]]+estimadores[2]*RGB[[2]]+estimadores[3]*RGB[[3]]+  estimadores[4]*RGB[[4]]+estimadores[5]*RGB[[5]]+estimadores[6]*RGB[[6]]+ estimadores[7]*RGB[[7]]"
   ]
  },
  {
   "cell_type": "code",
   "execution_count": 596,
   "id": "5fa2d7b2-930e-4659-aa6c-18b9e9672d84",
   "metadata": {
    "tags": []
   },
   "outputs": [],
   "source": [
    "#+estimadores[2]*RGB[[2]]+estimadores[3]*RGB[[3]]+  estimadores[4]*RGB[[4]]+estimadores[5]*RGB[[5]]+estimadores[6]*RGB[[6]]+ estimadores[7]*RGB[[7]]+estimadores[8]*RGB[[8]]+estimadores[9]*RGB[[9]]+estimadores[10]*RGB[[10]]+estimadores[11]*RGB[[11]]+estimadores[12]*RGB[[12]]"
   ]
  },
  {
   "cell_type": "code",
   "execution_count": 597,
   "id": "5fbd724b-7723-48bf-ae42-ff4cbe3b5994",
   "metadata": {
    "tags": []
   },
   "outputs": [
    {
     "data": {
      "image/png": "[encoded data removed]",
      "text/plain": [
       "Plot with title \"\""
      ]
     },
     "metadata": {
      "image/png": {
       "height": 420,
       "width": 420
      }
     },
     "output_type": "display_data"
    }
   ],
   "source": [
    "plot(Prediccion_variable)"
   ]
  },
  {
   "cell_type": "code",
   "execution_count": 598,
   "id": "c07e69b3-4384-4d46-ba55-235647513da6",
   "metadata": {
    "tags": []
   },
   "outputs": [],
   "source": [
    "EEA_Campo = shapefile(r\"(C:\\Users\\AGPRES\\Jupyter_Python\\AGPRES\\Datos_suelo\\Shp\\CE_Campo_Verde.shp)\")"
   ]
  },
  {
   "cell_type": "code",
   "execution_count": 599,
   "id": "705e60ca-b1c6-4452-85ac-3be7b6967b1a",
   "metadata": {
    "tags": []
   },
   "outputs": [],
   "source": [
    "EEA_Campo_buffer <- st_buffer(st_geometry(st_as_sf(EEA_Campo)), dist = 30)"
   ]
  },
  {
   "cell_type": "code",
   "execution_count": 600,
   "id": "adeb1cfc-150c-444c-8aca-4fb3cf3ab3b8",
   "metadata": {
    "tags": []
   },
   "outputs": [],
   "source": [
    "EEA_Campo_buffer_sp = as(EEA_Campo_buffer, Class = \"Spatial\")"
   ]
  },
  {
   "cell_type": "code",
   "execution_count": 601,
   "id": "3272e251-a202-44c7-aee6-80ad06e90435",
   "metadata": {
    "tags": []
   },
   "outputs": [],
   "source": [
    "Prediccion_variable_clip = mask(Prediccion_variable, EEA_Campo_buffer_sp)"
   ]
  },
  {
   "cell_type": "code",
   "execution_count": 602,
   "id": "79c1b0ba-011b-40b3-af3e-29859562e92e",
   "metadata": {
    "tags": []
   },
   "outputs": [
    {
     "name": "stdout",
     "output_type": "stream",
     "text": [
      "[1] \"Directorio existe RASTER_PREDICCION\"\n"
     ]
    }
   ],
   "source": [
    "carpeta_Raster_prediccion = paste(getwd(),\"/\",\"RASTER_PREDICCION\",sep = \"\")\n",
    "    if (!dir.exists(carpeta_Raster_prediccion)){\n",
    "        dir.create(carpeta_Raster_prediccion)\n",
    "    }else{\n",
    "        print(\"Directorio existe RASTER_PREDICCION\")\n",
    "    }"
   ]
  },
  {
   "cell_type": "code",
   "execution_count": 603,
   "id": "ce072e31-7fc1-4a46-a11a-2b9e5145827a",
   "metadata": {
    "tags": []
   },
   "outputs": [
    {
     "data": {
      "text/html": [
       "'C:/Users/AGPRES/Jupyter_Python/AGPRES/Datos_suelo/Satelite/Sentinel2/Bandas/Banda_select/RASTER_PREDICCION/Prediccion_Arcilla.tif'"
      ],
      "text/latex": [
       "'C:/Users/AGPRES/Jupyter\\_Python/AGPRES/Datos\\_suelo/Satelite/Sentinel2/Bandas/Banda\\_select/RASTER\\_PREDICCION/Prediccion\\_Arcilla.tif'"
      ],
      "text/markdown": [
       "'C:/Users/AGPRES/Jupyter_Python/AGPRES/Datos_suelo/Satelite/Sentinel2/Bandas/Banda_select/RASTER_PREDICCION/Prediccion_Arcilla.tif'"
      ],
      "text/plain": [
       "[1] \"C:/Users/AGPRES/Jupyter_Python/AGPRES/Datos_suelo/Satelite/Sentinel2/Bandas/Banda_select/RASTER_PREDICCION/Prediccion_Arcilla.tif\""
      ]
     },
     "metadata": {},
     "output_type": "display_data"
    }
   ],
   "source": [
    "name_prediccion_tif = paste(carpeta_Raster_prediccion,\"/Prediccion_\",x_suelo,\".tif\",sep = \"\")\n",
    "name_prediccion_tif"
   ]
  },
  {
   "cell_type": "code",
   "execution_count": 604,
   "id": "a1039f9b-b1cc-43cc-90b1-6ce5b9ec6a4d",
   "metadata": {
    "tags": []
   },
   "outputs": [],
   "source": [
    "writeRaster(Prediccion_variable_clip, name_prediccion_tif, drivername=\"Gtiff\",overwrite=TRUE)"
   ]
  },
  {
   "cell_type": "code",
   "execution_count": 605,
   "id": "822e8444-fc6b-4f4d-a546-f2cb86831517",
   "metadata": {
    "tags": []
   },
   "outputs": [
    {
     "data": {
      "image/png": "[encoded data removed]",
      "text/plain": [
       "Plot with title \"\""
      ]
     },
     "metadata": {
      "image/png": {
       "height": 420,
       "width": 420
      }
     },
     "output_type": "display_data"
    }
   ],
   "source": [
    "plot(Prediccion_variable_clip)"
   ]
  },
  {
   "cell_type": "code",
   "execution_count": null,
   "id": "cd9ad73b-0c3f-42ff-973c-80238ae73c33",
   "metadata": {},
   "outputs": [],
   "source": []
  }
 ],
 "metadata": {
  "kernelspec": {
   "display_name": "R",
   "language": "R",
   "name": "ir"
  },
  "language_info": {
   "codemirror_mode": "r",
   "file_extension": ".r",
   "mimetype": "text/x-r-source",
   "name": "R",
   "pygments_lexer": "r",
   "version": "4.3.2"
  },
  "widgets": {
   "application/vnd.jupyter.widget-state+json": {
    "state": {},
    "version_major": 2,
    "version_minor": 0
   }
  }
 },
 "nbformat": 4,
 "nbformat_minor": 5
}
