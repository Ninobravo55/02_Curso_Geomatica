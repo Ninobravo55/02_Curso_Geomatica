{
 "cells": [
  {
   "cell_type": "markdown",
   "id": "f3aeee54-0b03-4664-a0b7-4d28d11abfcc",
   "metadata": {
    "tags": []
   },
   "source": [
    "# Medidas de tendencia central y variabilidad"
   ]
  },
  {
   "cell_type": "code",
   "execution_count": 45,
   "id": "51265a4d-7ba6-488d-ab3a-d533e9c129f5",
   "metadata": {
    "tags": [],
    "vscode": {
     "languageId": "r"
    }
   },
   "outputs": [],
   "source": [
    "library(sp)\n",
    "library(sf)\n",
    "library(stars)\n",
    "library(gstat)\n",
    "library(automap)"
   ]
  },
  {
   "cell_type": "code",
   "execution_count": 46,
   "id": "e8fe90a8-3889-465b-8a5c-b5b7a395c432",
   "metadata": {
    "tags": []
   },
   "outputs": [],
   "source": [
    "# Agregar datos\n",
    "suelo <- read.csv(r\"(E:\\RStudio\\12_Analisis_de_Suelo\\Datos_suelo\\Tabla\\Datos_Suelo.csv)\",\n",
    "                  sep = \";\")"
   ]
  },
  {
   "cell_type": "code",
   "execution_count": 47,
   "id": "403ee81e-e629-4210-a1bc-afe1ae040b96",
   "metadata": {
    "tags": []
   },
   "outputs": [
    {
     "data": {
      "text/html": [
       "<table class=\"dataframe\">\n",
       "<caption>A data.frame: 4 × 19</caption>\n",
       "<thead>\n",
       "\t<tr><th></th><th scope=col>ID</th><th scope=col>ESTE</th><th scope=col>NORTE</th><th scope=col>pH</th><th scope=col>CE</th><th scope=col>MO</th><th scope=col>N</th><th scope=col>P</th><th scope=col>K</th><th scope=col>Ca</th><th scope=col>Mg</th><th scope=col>Al</th><th scope=col>CICe</th><th scope=col>BT</th><th scope=col>SAl</th><th scope=col>Arena</th><th scope=col>Limo</th><th scope=col>Arcilla</th><th scope=col>Textura</th></tr>\n",
       "\t<tr><th></th><th scope=col>&lt;int&gt;</th><th scope=col>&lt;int&gt;</th><th scope=col>&lt;int&gt;</th><th scope=col>&lt;dbl&gt;</th><th scope=col>&lt;dbl&gt;</th><th scope=col>&lt;dbl&gt;</th><th scope=col>&lt;dbl&gt;</th><th scope=col>&lt;dbl&gt;</th><th scope=col>&lt;dbl&gt;</th><th scope=col>&lt;dbl&gt;</th><th scope=col>&lt;dbl&gt;</th><th scope=col>&lt;dbl&gt;</th><th scope=col>&lt;dbl&gt;</th><th scope=col>&lt;dbl&gt;</th><th scope=col>&lt;dbl&gt;</th><th scope=col>&lt;dbl&gt;</th><th scope=col>&lt;dbl&gt;</th><th scope=col>&lt;dbl&gt;</th><th scope=col>&lt;chr&gt;</th></tr>\n",
       "</thead>\n",
       "<tbody>\n",
       "\t<tr><th scope=row>1</th><td>1</td><td>512538</td><td>9056311</td><td>4.32</td><td>1.20</td><td>1.48</td><td>0.07</td><td>27.91</td><td>0.21</td><td>0.26</td><td>0.02</td><td>1.9</td><td>2.38</td><td>0.48</td><td>79.69</td><td>62.9</td><td>16.16</td><td>20.94</td><td>Franco Arcillo Arenoso</td></tr>\n",
       "\t<tr><th scope=row>2</th><td>2</td><td>512126</td><td>9057087</td><td>5.00</td><td>0.13</td><td>2.29</td><td>0.11</td><td> 2.28</td><td>0.18</td><td>1.67</td><td>0.83</td><td>1.1</td><td>3.77</td><td>2.67</td><td>29.14</td><td>54.9</td><td>20.16</td><td>24.94</td><td>Franco Arcillo Arenoso</td></tr>\n",
       "\t<tr><th scope=row>3</th><td>3</td><td>512766</td><td>9056489</td><td>4.58</td><td>0.16</td><td>1.61</td><td>0.08</td><td> 3.68</td><td>0.16</td><td>0.17</td><td>0.04</td><td>2.1</td><td>2.47</td><td>0.37</td><td>85.09</td><td>62.9</td><td>16.16</td><td>20.94</td><td>Franco Arcillo Arenoso</td></tr>\n",
       "\t<tr><th scope=row>4</th><td>4</td><td>513263</td><td>9055598</td><td>4.55</td><td>0.10</td><td>2.15</td><td>0.11</td><td> 2.92</td><td>0.12</td><td>1.48</td><td>0.39</td><td>3.1</td><td>5.08</td><td>1.98</td><td>60.97</td><td>36.9</td><td>32.16</td><td>30.94</td><td>Franco Arcilloso      </td></tr>\n",
       "</tbody>\n",
       "</table>\n"
      ],
      "text/latex": [
       "A data.frame: 4 × 19\n",
       "\\begin{tabular}{r|lllllllllllllllllll}\n",
       "  & ID & ESTE & NORTE & pH & CE & MO & N & P & K & Ca & Mg & Al & CICe & BT & SAl & Arena & Limo & Arcilla & Textura\\\\\n",
       "  & <int> & <int> & <int> & <dbl> & <dbl> & <dbl> & <dbl> & <dbl> & <dbl> & <dbl> & <dbl> & <dbl> & <dbl> & <dbl> & <dbl> & <dbl> & <dbl> & <dbl> & <chr>\\\\\n",
       "\\hline\n",
       "\t1 & 1 & 512538 & 9056311 & 4.32 & 1.20 & 1.48 & 0.07 & 27.91 & 0.21 & 0.26 & 0.02 & 1.9 & 2.38 & 0.48 & 79.69 & 62.9 & 16.16 & 20.94 & Franco Arcillo Arenoso\\\\\n",
       "\t2 & 2 & 512126 & 9057087 & 5.00 & 0.13 & 2.29 & 0.11 &  2.28 & 0.18 & 1.67 & 0.83 & 1.1 & 3.77 & 2.67 & 29.14 & 54.9 & 20.16 & 24.94 & Franco Arcillo Arenoso\\\\\n",
       "\t3 & 3 & 512766 & 9056489 & 4.58 & 0.16 & 1.61 & 0.08 &  3.68 & 0.16 & 0.17 & 0.04 & 2.1 & 2.47 & 0.37 & 85.09 & 62.9 & 16.16 & 20.94 & Franco Arcillo Arenoso\\\\\n",
       "\t4 & 4 & 513263 & 9055598 & 4.55 & 0.10 & 2.15 & 0.11 &  2.92 & 0.12 & 1.48 & 0.39 & 3.1 & 5.08 & 1.98 & 60.97 & 36.9 & 32.16 & 30.94 & Franco Arcilloso      \\\\\n",
       "\\end{tabular}\n"
      ],
      "text/markdown": [
       "\n",
       "A data.frame: 4 × 19\n",
       "\n",
       "| <!--/--> | ID &lt;int&gt; | ESTE &lt;int&gt; | NORTE &lt;int&gt; | pH &lt;dbl&gt; | CE &lt;dbl&gt; | MO &lt;dbl&gt; | N &lt;dbl&gt; | P &lt;dbl&gt; | K &lt;dbl&gt; | Ca &lt;dbl&gt; | Mg &lt;dbl&gt; | Al &lt;dbl&gt; | CICe &lt;dbl&gt; | BT &lt;dbl&gt; | SAl &lt;dbl&gt; | Arena &lt;dbl&gt; | Limo &lt;dbl&gt; | Arcilla &lt;dbl&gt; | Textura &lt;chr&gt; |\n",
       "|---|---|---|---|---|---|---|---|---|---|---|---|---|---|---|---|---|---|---|---|\n",
       "| 1 | 1 | 512538 | 9056311 | 4.32 | 1.20 | 1.48 | 0.07 | 27.91 | 0.21 | 0.26 | 0.02 | 1.9 | 2.38 | 0.48 | 79.69 | 62.9 | 16.16 | 20.94 | Franco Arcillo Arenoso |\n",
       "| 2 | 2 | 512126 | 9057087 | 5.00 | 0.13 | 2.29 | 0.11 |  2.28 | 0.18 | 1.67 | 0.83 | 1.1 | 3.77 | 2.67 | 29.14 | 54.9 | 20.16 | 24.94 | Franco Arcillo Arenoso |\n",
       "| 3 | 3 | 512766 | 9056489 | 4.58 | 0.16 | 1.61 | 0.08 |  3.68 | 0.16 | 0.17 | 0.04 | 2.1 | 2.47 | 0.37 | 85.09 | 62.9 | 16.16 | 20.94 | Franco Arcillo Arenoso |\n",
       "| 4 | 4 | 513263 | 9055598 | 4.55 | 0.10 | 2.15 | 0.11 |  2.92 | 0.12 | 1.48 | 0.39 | 3.1 | 5.08 | 1.98 | 60.97 | 36.9 | 32.16 | 30.94 | Franco Arcilloso       |\n",
       "\n"
      ],
      "text/plain": [
       "  ID ESTE   NORTE   pH   CE   MO   N    P     K    Ca   Mg   Al  CICe BT  \n",
       "1 1  512538 9056311 4.32 1.20 1.48 0.07 27.91 0.21 0.26 0.02 1.9 2.38 0.48\n",
       "2 2  512126 9057087 5.00 0.13 2.29 0.11  2.28 0.18 1.67 0.83 1.1 3.77 2.67\n",
       "3 3  512766 9056489 4.58 0.16 1.61 0.08  3.68 0.16 0.17 0.04 2.1 2.47 0.37\n",
       "4 4  513263 9055598 4.55 0.10 2.15 0.11  2.92 0.12 1.48 0.39 3.1 5.08 1.98\n",
       "  SAl   Arena Limo  Arcilla Textura               \n",
       "1 79.69 62.9  16.16 20.94   Franco Arcillo Arenoso\n",
       "2 29.14 54.9  20.16 24.94   Franco Arcillo Arenoso\n",
       "3 85.09 62.9  16.16 20.94   Franco Arcillo Arenoso\n",
       "4 60.97 36.9  32.16 30.94   Franco Arcilloso      "
      ]
     },
     "metadata": {},
     "output_type": "display_data"
    }
   ],
   "source": [
    "head(suelo,4) "
   ]
  },
  {
   "cell_type": "code",
   "execution_count": 48,
   "id": "1fbd0592-5fa9-4fb3-b7d6-db9b00b11063",
   "metadata": {},
   "outputs": [
    {
     "data": {
      "text/html": [
       "<table class=\"dataframe\">\n",
       "<caption>A data.frame: 4 × 15</caption>\n",
       "<thead>\n",
       "\t<tr><th></th><th scope=col>pH</th><th scope=col>CE</th><th scope=col>MO</th><th scope=col>N</th><th scope=col>P</th><th scope=col>K</th><th scope=col>Ca</th><th scope=col>Mg</th><th scope=col>Al</th><th scope=col>CICe</th><th scope=col>BT</th><th scope=col>SAl</th><th scope=col>Arena</th><th scope=col>Limo</th><th scope=col>Arcilla</th></tr>\n",
       "\t<tr><th></th><th scope=col>&lt;dbl&gt;</th><th scope=col>&lt;dbl&gt;</th><th scope=col>&lt;dbl&gt;</th><th scope=col>&lt;dbl&gt;</th><th scope=col>&lt;dbl&gt;</th><th scope=col>&lt;dbl&gt;</th><th scope=col>&lt;dbl&gt;</th><th scope=col>&lt;dbl&gt;</th><th scope=col>&lt;dbl&gt;</th><th scope=col>&lt;dbl&gt;</th><th scope=col>&lt;dbl&gt;</th><th scope=col>&lt;dbl&gt;</th><th scope=col>&lt;dbl&gt;</th><th scope=col>&lt;dbl&gt;</th><th scope=col>&lt;dbl&gt;</th></tr>\n",
       "</thead>\n",
       "<tbody>\n",
       "\t<tr><th scope=row>1</th><td>4.32</td><td>1.20</td><td>1.48</td><td>0.07</td><td>27.91</td><td>0.21</td><td>0.26</td><td>0.02</td><td>1.9</td><td>2.38</td><td>0.48</td><td>79.69</td><td>62.9</td><td>16.16</td><td>20.94</td></tr>\n",
       "\t<tr><th scope=row>2</th><td>5.00</td><td>0.13</td><td>2.29</td><td>0.11</td><td> 2.28</td><td>0.18</td><td>1.67</td><td>0.83</td><td>1.1</td><td>3.77</td><td>2.67</td><td>29.14</td><td>54.9</td><td>20.16</td><td>24.94</td></tr>\n",
       "\t<tr><th scope=row>3</th><td>4.58</td><td>0.16</td><td>1.61</td><td>0.08</td><td> 3.68</td><td>0.16</td><td>0.17</td><td>0.04</td><td>2.1</td><td>2.47</td><td>0.37</td><td>85.09</td><td>62.9</td><td>16.16</td><td>20.94</td></tr>\n",
       "\t<tr><th scope=row>4</th><td>4.55</td><td>0.10</td><td>2.15</td><td>0.11</td><td> 2.92</td><td>0.12</td><td>1.48</td><td>0.39</td><td>3.1</td><td>5.08</td><td>1.98</td><td>60.97</td><td>36.9</td><td>32.16</td><td>30.94</td></tr>\n",
       "</tbody>\n",
       "</table>\n"
      ],
      "text/latex": [
       "A data.frame: 4 × 15\n",
       "\\begin{tabular}{r|lllllllllllllll}\n",
       "  & pH & CE & MO & N & P & K & Ca & Mg & Al & CICe & BT & SAl & Arena & Limo & Arcilla\\\\\n",
       "  & <dbl> & <dbl> & <dbl> & <dbl> & <dbl> & <dbl> & <dbl> & <dbl> & <dbl> & <dbl> & <dbl> & <dbl> & <dbl> & <dbl> & <dbl>\\\\\n",
       "\\hline\n",
       "\t1 & 4.32 & 1.20 & 1.48 & 0.07 & 27.91 & 0.21 & 0.26 & 0.02 & 1.9 & 2.38 & 0.48 & 79.69 & 62.9 & 16.16 & 20.94\\\\\n",
       "\t2 & 5.00 & 0.13 & 2.29 & 0.11 &  2.28 & 0.18 & 1.67 & 0.83 & 1.1 & 3.77 & 2.67 & 29.14 & 54.9 & 20.16 & 24.94\\\\\n",
       "\t3 & 4.58 & 0.16 & 1.61 & 0.08 &  3.68 & 0.16 & 0.17 & 0.04 & 2.1 & 2.47 & 0.37 & 85.09 & 62.9 & 16.16 & 20.94\\\\\n",
       "\t4 & 4.55 & 0.10 & 2.15 & 0.11 &  2.92 & 0.12 & 1.48 & 0.39 & 3.1 & 5.08 & 1.98 & 60.97 & 36.9 & 32.16 & 30.94\\\\\n",
       "\\end{tabular}\n"
      ],
      "text/markdown": [
       "\n",
       "A data.frame: 4 × 15\n",
       "\n",
       "| <!--/--> | pH &lt;dbl&gt; | CE &lt;dbl&gt; | MO &lt;dbl&gt; | N &lt;dbl&gt; | P &lt;dbl&gt; | K &lt;dbl&gt; | Ca &lt;dbl&gt; | Mg &lt;dbl&gt; | Al &lt;dbl&gt; | CICe &lt;dbl&gt; | BT &lt;dbl&gt; | SAl &lt;dbl&gt; | Arena &lt;dbl&gt; | Limo &lt;dbl&gt; | Arcilla &lt;dbl&gt; |\n",
       "|---|---|---|---|---|---|---|---|---|---|---|---|---|---|---|---|\n",
       "| 1 | 4.32 | 1.20 | 1.48 | 0.07 | 27.91 | 0.21 | 0.26 | 0.02 | 1.9 | 2.38 | 0.48 | 79.69 | 62.9 | 16.16 | 20.94 |\n",
       "| 2 | 5.00 | 0.13 | 2.29 | 0.11 |  2.28 | 0.18 | 1.67 | 0.83 | 1.1 | 3.77 | 2.67 | 29.14 | 54.9 | 20.16 | 24.94 |\n",
       "| 3 | 4.58 | 0.16 | 1.61 | 0.08 |  3.68 | 0.16 | 0.17 | 0.04 | 2.1 | 2.47 | 0.37 | 85.09 | 62.9 | 16.16 | 20.94 |\n",
       "| 4 | 4.55 | 0.10 | 2.15 | 0.11 |  2.92 | 0.12 | 1.48 | 0.39 | 3.1 | 5.08 | 1.98 | 60.97 | 36.9 | 32.16 | 30.94 |\n",
       "\n"
      ],
      "text/plain": [
       "  pH   CE   MO   N    P     K    Ca   Mg   Al  CICe BT   SAl   Arena Limo \n",
       "1 4.32 1.20 1.48 0.07 27.91 0.21 0.26 0.02 1.9 2.38 0.48 79.69 62.9  16.16\n",
       "2 5.00 0.13 2.29 0.11  2.28 0.18 1.67 0.83 1.1 3.77 2.67 29.14 54.9  20.16\n",
       "3 4.58 0.16 1.61 0.08  3.68 0.16 0.17 0.04 2.1 2.47 0.37 85.09 62.9  16.16\n",
       "4 4.55 0.10 2.15 0.11  2.92 0.12 1.48 0.39 3.1 5.08 1.98 60.97 36.9  32.16\n",
       "  Arcilla\n",
       "1 20.94  \n",
       "2 24.94  \n",
       "3 20.94  \n",
       "4 30.94  "
      ]
     },
     "metadata": {},
     "output_type": "display_data"
    }
   ],
   "source": [
    "datos_suelo <- suelo[,c(4:18)]\n",
    "head(datos_suelo ,4)"
   ]
  },
  {
   "cell_type": "code",
   "execution_count": 49,
   "id": "f444f8ea-162e-4a87-bb95-080a54fe3776",
   "metadata": {},
   "outputs": [],
   "source": [
    "Name_suelo <- names(datos_suelo)"
   ]
  },
  {
   "cell_type": "code",
   "execution_count": 50,
   "id": "c28400a6-790c-473e-a7d5-7a5f8a5fd7fe",
   "metadata": {
    "tags": []
   },
   "outputs": [
    {
     "data": {
      "text/html": [
       "<table class=\"dataframe\">\n",
       "<caption>A data.frame: 4 × 1</caption>\n",
       "<thead>\n",
       "\t<tr><th></th><th scope=col>pH</th></tr>\n",
       "\t<tr><th></th><th scope=col>&lt;dbl&gt;</th></tr>\n",
       "</thead>\n",
       "<tbody>\n",
       "\t<tr><th scope=row>1</th><td>4.32</td></tr>\n",
       "\t<tr><th scope=row>2</th><td>5.00</td></tr>\n",
       "\t<tr><th scope=row>3</th><td>4.58</td></tr>\n",
       "\t<tr><th scope=row>4</th><td>4.55</td></tr>\n",
       "</tbody>\n",
       "</table>\n"
      ],
      "text/latex": [
       "A data.frame: 4 × 1\n",
       "\\begin{tabular}{r|l}\n",
       "  & pH\\\\\n",
       "  & <dbl>\\\\\n",
       "\\hline\n",
       "\t1 & 4.32\\\\\n",
       "\t2 & 5.00\\\\\n",
       "\t3 & 4.58\\\\\n",
       "\t4 & 4.55\\\\\n",
       "\\end{tabular}\n"
      ],
      "text/markdown": [
       "\n",
       "A data.frame: 4 × 1\n",
       "\n",
       "| <!--/--> | pH &lt;dbl&gt; |\n",
       "|---|---|\n",
       "| 1 | 4.32 |\n",
       "| 2 | 5.00 |\n",
       "| 3 | 4.58 |\n",
       "| 4 | 4.55 |\n",
       "\n"
      ],
      "text/plain": [
       "  pH  \n",
       "1 4.32\n",
       "2 5.00\n",
       "3 4.58\n",
       "4 4.55"
      ]
     },
     "metadata": {},
     "output_type": "display_data"
    }
   ],
   "source": [
    "head(datos_suelo[1],4)"
   ]
  },
  {
   "cell_type": "code",
   "execution_count": 51,
   "id": "f76a56e4-e1bb-4612-9c35-986fcc81593c",
   "metadata": {
    "tags": []
   },
   "outputs": [
    {
     "data": {
      "text/html": [
       "<style>\n",
       ".list-inline {list-style: none; margin:0; padding: 0}\n",
       ".list-inline>li {display: inline-block}\n",
       ".list-inline>li:not(:last-child)::after {content: \"\\00b7\"; padding: 0 .5ex}\n",
       "</style>\n",
       "<ol class=list-inline><li>4.32</li><li>5</li><li>4.58</li><li>4.55</li><li>4.71</li><li>5.21</li><li>4.66</li><li>5.36</li><li>4.89</li><li>4.57</li><li>5.18</li><li>4.61</li><li>4.24</li><li>4.81</li><li>4.5</li><li>4.93</li><li>4.37</li><li>4.7</li><li>4.8</li><li>5.29</li><li>4.72</li><li>5.22</li><li>4.6</li><li>4.84</li><li>5.21</li><li>4.79</li><li>5.2</li><li>4.5</li><li>5.9</li><li>5.6</li><li>5.2</li><li>5</li><li>4.9</li><li>5</li><li>5.3</li><li>5.1</li><li>5.2</li><li>5.1</li><li>5.4</li><li>4.7</li><li>4.3</li><li>4.5</li><li>4.2</li><li>4.4</li><li>4.2</li><li>4.4</li><li>4.6</li><li>4.9</li><li>5.1</li><li>4.7</li><li>4.8</li><li>4.7</li><li>4.8</li><li>4.8</li><li>4.8</li><li>4.3</li><li>4.6</li><li>4.5</li><li>4.5</li><li>4.4</li></ol>\n"
      ],
      "text/latex": [
       "\\begin{enumerate*}\n",
       "\\item 4.32\n",
       "\\item 5\n",
       "\\item 4.58\n",
       "\\item 4.55\n",
       "\\item 4.71\n",
       "\\item 5.21\n",
       "\\item 4.66\n",
       "\\item 5.36\n",
       "\\item 4.89\n",
       "\\item 4.57\n",
       "\\item 5.18\n",
       "\\item 4.61\n",
       "\\item 4.24\n",
       "\\item 4.81\n",
       "\\item 4.5\n",
       "\\item 4.93\n",
       "\\item 4.37\n",
       "\\item 4.7\n",
       "\\item 4.8\n",
       "\\item 5.29\n",
       "\\item 4.72\n",
       "\\item 5.22\n",
       "\\item 4.6\n",
       "\\item 4.84\n",
       "\\item 5.21\n",
       "\\item 4.79\n",
       "\\item 5.2\n",
       "\\item 4.5\n",
       "\\item 5.9\n",
       "\\item 5.6\n",
       "\\item 5.2\n",
       "\\item 5\n",
       "\\item 4.9\n",
       "\\item 5\n",
       "\\item 5.3\n",
       "\\item 5.1\n",
       "\\item 5.2\n",
       "\\item 5.1\n",
       "\\item 5.4\n",
       "\\item 4.7\n",
       "\\item 4.3\n",
       "\\item 4.5\n",
       "\\item 4.2\n",
       "\\item 4.4\n",
       "\\item 4.2\n",
       "\\item 4.4\n",
       "\\item 4.6\n",
       "\\item 4.9\n",
       "\\item 5.1\n",
       "\\item 4.7\n",
       "\\item 4.8\n",
       "\\item 4.7\n",
       "\\item 4.8\n",
       "\\item 4.8\n",
       "\\item 4.8\n",
       "\\item 4.3\n",
       "\\item 4.6\n",
       "\\item 4.5\n",
       "\\item 4.5\n",
       "\\item 4.4\n",
       "\\end{enumerate*}\n"
      ],
      "text/markdown": [
       "1. 4.32\n",
       "2. 5\n",
       "3. 4.58\n",
       "4. 4.55\n",
       "5. 4.71\n",
       "6. 5.21\n",
       "7. 4.66\n",
       "8. 5.36\n",
       "9. 4.89\n",
       "10. 4.57\n",
       "11. 5.18\n",
       "12. 4.61\n",
       "13. 4.24\n",
       "14. 4.81\n",
       "15. 4.5\n",
       "16. 4.93\n",
       "17. 4.37\n",
       "18. 4.7\n",
       "19. 4.8\n",
       "20. 5.29\n",
       "21. 4.72\n",
       "22. 5.22\n",
       "23. 4.6\n",
       "24. 4.84\n",
       "25. 5.21\n",
       "26. 4.79\n",
       "27. 5.2\n",
       "28. 4.5\n",
       "29. 5.9\n",
       "30. 5.6\n",
       "31. 5.2\n",
       "32. 5\n",
       "33. 4.9\n",
       "34. 5\n",
       "35. 5.3\n",
       "36. 5.1\n",
       "37. 5.2\n",
       "38. 5.1\n",
       "39. 5.4\n",
       "40. 4.7\n",
       "41. 4.3\n",
       "42. 4.5\n",
       "43. 4.2\n",
       "44. 4.4\n",
       "45. 4.2\n",
       "46. 4.4\n",
       "47. 4.6\n",
       "48. 4.9\n",
       "49. 5.1\n",
       "50. 4.7\n",
       "51. 4.8\n",
       "52. 4.7\n",
       "53. 4.8\n",
       "54. 4.8\n",
       "55. 4.8\n",
       "56. 4.3\n",
       "57. 4.6\n",
       "58. 4.5\n",
       "59. 4.5\n",
       "60. 4.4\n",
       "\n",
       "\n"
      ],
      "text/plain": [
       " [1] 4.32 5.00 4.58 4.55 4.71 5.21 4.66 5.36 4.89 4.57 5.18 4.61 4.24 4.81 4.50\n",
       "[16] 4.93 4.37 4.70 4.80 5.29 4.72 5.22 4.60 4.84 5.21 4.79 5.20 4.50 5.90 5.60\n",
       "[31] 5.20 5.00 4.90 5.00 5.30 5.10 5.20 5.10 5.40 4.70 4.30 4.50 4.20 4.40 4.20\n",
       "[46] 4.40 4.60 4.90 5.10 4.70 4.80 4.70 4.80 4.80 4.80 4.30 4.60 4.50 4.50 4.40"
      ]
     },
     "metadata": {},
     "output_type": "display_data"
    }
   ],
   "source": [
    "variable = datos_suelo[[Name_suelo[1]]]\n",
    "variable"
   ]
  },
  {
   "cell_type": "code",
   "execution_count": 52,
   "id": "57c03271-a63f-496f-8fb2-c8629a9e0ad6",
   "metadata": {
    "tags": []
   },
   "outputs": [],
   "source": [
    "promedio <- mean(variable, na.rm = TRUE)\n",
    "minimo <- min(variable, na.rm = TRUE)\n",
    "maximo <- max(variable, na.rm = TRUE)\n",
    "mediana <- median(variable, na.rm = TRUE)\n",
    "desviacion <- sd(variable, na.rm = TRUE)\n",
    "variancia <- var(variable, na.rm = TRUE)\n",
    "coeficiente_variacion <- sd(variable)/mean(variable)"
   ]
  },
  {
   "cell_type": "code",
   "execution_count": 53,
   "id": "f21c123c-a307-44a1-a9d5-17e3be289aa6",
   "metadata": {
    "tags": []
   },
   "outputs": [],
   "source": [
    "# Crear un vector unidimensional\n",
    "medida <- c(\"Promedio\", \"minimo\", \"maximo\",\"mediana\", \"Desviacion estandar\",\n",
    "            \"varianza\", \"Coeficiente variacion\")\n",
    "\n",
    "valores <- c(promedio, minimo, maximo,mediana, desviacion,variancia,coeficiente_variacion)"
   ]
  },
  {
   "cell_type": "code",
   "execution_count": 54,
   "id": "0c329e21-9b49-4c2c-a109-0aa9996010a2",
   "metadata": {
    "tags": []
   },
   "outputs": [
    {
     "data": {
      "text/html": [
       "<table class=\"dataframe\">\n",
       "<caption>A data.frame: 7 × 2</caption>\n",
       "<thead>\n",
       "\t<tr><th scope=col>medida</th><th scope=col>valores</th></tr>\n",
       "\t<tr><th scope=col>&lt;chr&gt;</th><th scope=col>&lt;dbl&gt;</th></tr>\n",
       "</thead>\n",
       "<tbody>\n",
       "\t<tr><td>Promedio             </td><td>4.80433333</td></tr>\n",
       "\t<tr><td>minimo               </td><td>4.20000000</td></tr>\n",
       "\t<tr><td>maximo               </td><td>5.90000000</td></tr>\n",
       "\t<tr><td>mediana              </td><td>4.79500000</td></tr>\n",
       "\t<tr><td>Desviacion estandar  </td><td>0.36497674</td></tr>\n",
       "\t<tr><td>varianza             </td><td>0.13320802</td></tr>\n",
       "\t<tr><td>Coeficiente variacion</td><td>0.07596824</td></tr>\n",
       "</tbody>\n",
       "</table>\n"
      ],
      "text/latex": [
       "A data.frame: 7 × 2\n",
       "\\begin{tabular}{ll}\n",
       " medida & valores\\\\\n",
       " <chr> & <dbl>\\\\\n",
       "\\hline\n",
       "\t Promedio              & 4.80433333\\\\\n",
       "\t minimo                & 4.20000000\\\\\n",
       "\t maximo                & 5.90000000\\\\\n",
       "\t mediana               & 4.79500000\\\\\n",
       "\t Desviacion estandar   & 0.36497674\\\\\n",
       "\t varianza              & 0.13320802\\\\\n",
       "\t Coeficiente variacion & 0.07596824\\\\\n",
       "\\end{tabular}\n"
      ],
      "text/markdown": [
       "\n",
       "A data.frame: 7 × 2\n",
       "\n",
       "| medida &lt;chr&gt; | valores &lt;dbl&gt; |\n",
       "|---|---|\n",
       "| Promedio              | 4.80433333 |\n",
       "| minimo                | 4.20000000 |\n",
       "| maximo                | 5.90000000 |\n",
       "| mediana               | 4.79500000 |\n",
       "| Desviacion estandar   | 0.36497674 |\n",
       "| varianza              | 0.13320802 |\n",
       "| Coeficiente variacion | 0.07596824 |\n",
       "\n"
      ],
      "text/plain": [
       "  medida                valores   \n",
       "1 Promedio              4.80433333\n",
       "2 minimo                4.20000000\n",
       "3 maximo                5.90000000\n",
       "4 mediana               4.79500000\n",
       "5 Desviacion estandar   0.36497674\n",
       "6 varianza              0.13320802\n",
       "7 Coeficiente variacion 0.07596824"
      ]
     },
     "metadata": {},
     "output_type": "display_data"
    }
   ],
   "source": [
    "# Crear un dataframe estadistico MDE\n",
    "estadisticas <- data.frame(medida, valores)\n",
    "estadisticas"
   ]
  },
  {
   "cell_type": "code",
   "execution_count": 55,
   "id": "16850507-842d-4089-b2af-b6e02d57a56d",
   "metadata": {
    "tags": []
   },
   "outputs": [],
   "source": [
    "estadisticas <- data.frame()"
   ]
  },
  {
   "cell_type": "code",
   "execution_count": 56,
   "id": "ac263c9a-7385-4969-9a89-ccd2fe86bf4d",
   "metadata": {
    "tags": []
   },
   "outputs": [
    {
     "data": {
      "text/html": [
       "'E:/RStudio/01_Interpretacion_Analisis_Fertilidad_Suelo/Datos/Resultados'"
      ],
      "text/latex": [
       "'E:/RStudio/01\\_Interpretacion\\_Analisis\\_Fertilidad\\_Suelo/Datos/Resultados'"
      ],
      "text/markdown": [
       "'E:/RStudio/01_Interpretacion_Analisis_Fertilidad_Suelo/Datos/Resultados'"
      ],
      "text/plain": [
       "[1] \"E:/RStudio/01_Interpretacion_Analisis_Fertilidad_Suelo/Datos/Resultados\""
      ]
     },
     "metadata": {},
     "output_type": "display_data"
    }
   ],
   "source": [
    "getwd()"
   ]
  },
  {
   "cell_type": "code",
   "execution_count": 42,
   "id": "789d87d4-b602-4129-8f88-393c66afa487",
   "metadata": {
    "tags": []
   },
   "outputs": [],
   "source": [
    "setwd(r\"(E:\\RStudio\\01_Interpretacion_Analisis_Fertilidad_Suelo\\Datos\\Resultados)\")"
   ]
  },
  {
   "cell_type": "code",
   "execution_count": 57,
   "id": "b59c2a6e-a0d5-45d4-b104-02d0455e73b5",
   "metadata": {},
   "outputs": [],
   "source": [
    "# Crea una nueva carpeta\n",
    "nueva_carpeta = \"Estadistica_suelo\"\n",
    "dir.create(nueva_carpeta)"
   ]
  },
  {
   "cell_type": "code",
   "execution_count": 58,
   "id": "aec41789-36bc-4cdf-9c49-42fd87188160",
   "metadata": {},
   "outputs": [
    {
     "data": {
      "text/html": [
       "'E:/RStudio/01_Interpretacion_Analisis_Fertilidad_Suelo/Datos/Resultados/Estadistica_suelo'"
      ],
      "text/latex": [
       "'E:/RStudio/01\\_Interpretacion\\_Analisis\\_Fertilidad\\_Suelo/Datos/Resultados/Estadistica\\_suelo'"
      ],
      "text/markdown": [
       "'E:/RStudio/01_Interpretacion_Analisis_Fertilidad_Suelo/Datos/Resultados/Estadistica_suelo'"
      ],
      "text/plain": [
       "[1] \"E:/RStudio/01_Interpretacion_Analisis_Fertilidad_Suelo/Datos/Resultados/Estadistica_suelo\""
      ]
     },
     "metadata": {},
     "output_type": "display_data"
    }
   ],
   "source": [
    "# Ve a la nueva carpeta\n",
    "ruta_export = paste0(getwd(),\"/\",nueva_carpeta)\n",
    "ruta_export"
   ]
  },
  {
   "cell_type": "code",
   "execution_count": 59,
   "id": "9042eb8a-2270-4ac9-bc5a-036b434832bc",
   "metadata": {
    "tags": []
   },
   "outputs": [
    {
     "data": {
      "text/html": [
       "15"
      ],
      "text/latex": [
       "15"
      ],
      "text/markdown": [
       "15"
      ],
      "text/plain": [
       "[1] 15"
      ]
     },
     "metadata": {},
     "output_type": "display_data"
    }
   ],
   "source": [
    "length(Name_suelo)"
   ]
  },
  {
   "cell_type": "code",
   "execution_count": 60,
   "id": "e470b795-4964-47fc-8236-eb157f1afd0d",
   "metadata": {
    "tags": []
   },
   "outputs": [],
   "source": [
    "lista_datos <- list()"
   ]
  },
  {
   "cell_type": "code",
   "execution_count": 66,
   "id": "41bf51b4-00be-425f-9832-ecb0add033f3",
   "metadata": {
    "tags": []
   },
   "outputs": [],
   "source": [
    "for (i in 1:length(Name_suelo)) {\n",
    "    suelo <- Name_suelo[i]\n",
    "    variable = datos_suelo[[suelo]]\n",
    "    promedio <- mean(variable, na.rm = TRUE)\n",
    "    minimo <- min(variable, na.rm = TRUE)\n",
    "    maximo <- max(variable, na.rm = TRUE)\n",
    "    mediana <- median(variable, na.rm = TRUE)\n",
    "    desviacion <- sd(variable, na.rm = TRUE)\n",
    "    variancia <- var(variable, na.rm = TRUE)\n",
    "    coeficiente_variacion <- sd(variable)/mean(variable)\n",
    "    medida <- c(\"Promedio\", \"minimo\", \"maximo\",\"mediana\", \"Desviacion estandar\",\n",
    "                \"varianza\", \"Coeficiente variacion\")\n",
    "    valores <- c(promedio, minimo, maximo,mediana, desviacion,variancia,coeficiente_variacion)\n",
    "    lista_datos[[i]] <- valores\n",
    "    estadisticas <- data.frame(medida, valores)\n",
    "    names(estadisticas) <- c(\"metrica\", suelo)\n",
    "    name_csv <- paste(\"Estadistica_\",suelo,\".csv\",sep = \"\")\n",
    "    name_export <- paste(ruta_export,\"/\",name_csv,sep = \"\")\n",
    "    write.csv(estadisticas, file = name_export, row.names = T)\n",
    "}"
   ]
  },
  {
   "cell_type": "code",
   "execution_count": 67,
   "id": "12ad76ff-7f3a-4690-9f75-d96fb3768e93",
   "metadata": {
    "tags": []
   },
   "outputs": [],
   "source": [
    "estadisticas2 <- data.frame(medida, lista_datos[1],lista_datos[2],lista_datos[3],lista_datos[4],lista_datos[5],\n",
    "                           lista_datos[6],lista_datos[7],lista_datos[8],lista_datos[9],lista_datos[10],lista_datos[11],\n",
    "                           lista_datos[12],lista_datos[13],lista_datos[14],lista_datos[15])"
   ]
  },
  {
   "cell_type": "code",
   "execution_count": 68,
   "id": "c7c55ef7-c1fe-4bc6-a420-8292862339e0",
   "metadata": {
    "tags": []
   },
   "outputs": [
    {
     "data": {
      "text/html": [
       "<table class=\"dataframe\">\n",
       "<caption>A data.frame: 7 × 16</caption>\n",
       "<thead>\n",
       "\t<tr><th scope=col>medida</th><th scope=col>c.4.80433333333333..4.2..5.9..4.795..0.364976742545152..0.13320802259887..</th><th scope=col>c.1.372..0.04..4.19..1.29..1.29001484684663..1.66413830508475..</th><th scope=col>c.2.49616666666667..0.6..6.9..2.15..1.28590677847885..1.65355624293785..</th><th scope=col>c.0.108166666666667..0.02..0.28..0.1..0.0485551116779325..0.0023575988700565..</th><th scope=col>c.5.38133333333333..0.89..28.92..2.92..6.14569312240713..37.7695439548023..</th><th scope=col>c.0.454666666666667..0.06..2.69..0.345..0.424114098282033..0.179872768361582..</th><th scope=col>c.1.69183333333333..0.17..4.38..1.585..0.917235144733597..0.841320310734463..</th><th scope=col>c.0.212166666666667..0..1.11..0.11..0.255044639938937..0.0650477683615819..</th><th scope=col>c.1.88133333333333..0.2..6.8..1.61..1.25700810599259..1.58006937853107..</th><th scope=col>c.4.54633333333333..1.43..9.03..4.44..1.53710598276758..2.36269480225989..</th><th scope=col>c.2.35766666666667..0.37..7.08..2.2..1.25868288256815..1.58428259887006..</th><th scope=col>c.41.0848333333333..6.8..93.03..33.47..21.824081745621..476.290544039548..</th><th scope=col>c.57.3226666666667..15.77..83.32..58.02..13.3500825702603..178.224704632768..</th><th scope=col>c.20.0486666666667..4.83..43.73..18.83..7.74810254884024..60.0330931073446..</th><th scope=col>c.22.6291666666667..10.6..42.5..21.17..8.02532797611997..64.4058891242938..</th></tr>\n",
       "\t<tr><th scope=col>&lt;chr&gt;</th><th scope=col>&lt;dbl&gt;</th><th scope=col>&lt;dbl&gt;</th><th scope=col>&lt;dbl&gt;</th><th scope=col>&lt;dbl&gt;</th><th scope=col>&lt;dbl&gt;</th><th scope=col>&lt;dbl&gt;</th><th scope=col>&lt;dbl&gt;</th><th scope=col>&lt;dbl&gt;</th><th scope=col>&lt;dbl&gt;</th><th scope=col>&lt;dbl&gt;</th><th scope=col>&lt;dbl&gt;</th><th scope=col>&lt;dbl&gt;</th><th scope=col>&lt;dbl&gt;</th><th scope=col>&lt;dbl&gt;</th><th scope=col>&lt;dbl&gt;</th></tr>\n",
       "</thead>\n",
       "<tbody>\n",
       "\t<tr><td>Promedio             </td><td>4.80433333</td><td>1.3720000</td><td>2.4961667</td><td>0.108166667</td><td> 5.381333</td><td>0.4546667</td><td>1.6918333</td><td>0.21216667</td><td>1.8813333</td><td>4.546333</td><td>2.357667</td><td> 41.0848333</td><td> 57.3226667</td><td>20.0486667</td><td>22.6291667</td></tr>\n",
       "\t<tr><td>minimo               </td><td>4.20000000</td><td>0.0400000</td><td>0.6000000</td><td>0.020000000</td><td> 0.890000</td><td>0.0600000</td><td>0.1700000</td><td>0.00000000</td><td>0.2000000</td><td>1.430000</td><td>0.370000</td><td>  6.8000000</td><td> 15.7700000</td><td> 4.8300000</td><td>10.6000000</td></tr>\n",
       "\t<tr><td>maximo               </td><td>5.90000000</td><td>4.1900000</td><td>6.9000000</td><td>0.280000000</td><td>28.920000</td><td>2.6900000</td><td>4.3800000</td><td>1.11000000</td><td>6.8000000</td><td>9.030000</td><td>7.080000</td><td> 93.0300000</td><td> 83.3200000</td><td>43.7300000</td><td>42.5000000</td></tr>\n",
       "\t<tr><td>mediana              </td><td>4.79500000</td><td>1.2900000</td><td>2.1500000</td><td>0.100000000</td><td> 2.920000</td><td>0.3450000</td><td>1.5850000</td><td>0.11000000</td><td>1.6100000</td><td>4.440000</td><td>2.200000</td><td> 33.4700000</td><td> 58.0200000</td><td>18.8300000</td><td>21.1700000</td></tr>\n",
       "\t<tr><td>Desviacion estandar  </td><td>0.36497674</td><td>1.2900148</td><td>1.2859068</td><td>0.048555112</td><td> 6.145693</td><td>0.4241141</td><td>0.9172351</td><td>0.25504464</td><td>1.2570081</td><td>1.537106</td><td>1.258683</td><td> 21.8240817</td><td> 13.3500826</td><td> 7.7481025</td><td> 8.0253280</td></tr>\n",
       "\t<tr><td>varianza             </td><td>0.13320802</td><td>1.6641383</td><td>1.6535562</td><td>0.002357599</td><td>37.769544</td><td>0.1798728</td><td>0.8413203</td><td>0.06504777</td><td>1.5800694</td><td>2.362695</td><td>1.584283</td><td>476.2905440</td><td>178.2247046</td><td>60.0330931</td><td>64.4058891</td></tr>\n",
       "\t<tr><td>Coeficiente variacion</td><td>0.07596824</td><td>0.9402441</td><td>0.5151526</td><td>0.448891633</td><td> 1.142039</td><td>0.9328023</td><td>0.5421546</td><td>1.20209571</td><td>0.6681475</td><td>0.338098</td><td>0.533868</td><td>  0.5311956</td><td>  0.2328936</td><td> 0.3864647</td><td> 0.3546453</td></tr>\n",
       "</tbody>\n",
       "</table>\n"
      ],
      "text/latex": [
       "A data.frame: 7 × 16\n",
       "\\begin{tabular}{llllllllllllllll}\n",
       " medida & c.4.80433333333333..4.2..5.9..4.795..0.364976742545152..0.13320802259887.. & c.1.372..0.04..4.19..1.29..1.29001484684663..1.66413830508475.. & c.2.49616666666667..0.6..6.9..2.15..1.28590677847885..1.65355624293785.. & c.0.108166666666667..0.02..0.28..0.1..0.0485551116779325..0.0023575988700565.. & c.5.38133333333333..0.89..28.92..2.92..6.14569312240713..37.7695439548023.. & c.0.454666666666667..0.06..2.69..0.345..0.424114098282033..0.179872768361582.. & c.1.69183333333333..0.17..4.38..1.585..0.917235144733597..0.841320310734463.. & c.0.212166666666667..0..1.11..0.11..0.255044639938937..0.0650477683615819.. & c.1.88133333333333..0.2..6.8..1.61..1.25700810599259..1.58006937853107.. & c.4.54633333333333..1.43..9.03..4.44..1.53710598276758..2.36269480225989.. & c.2.35766666666667..0.37..7.08..2.2..1.25868288256815..1.58428259887006.. & c.41.0848333333333..6.8..93.03..33.47..21.824081745621..476.290544039548.. & c.57.3226666666667..15.77..83.32..58.02..13.3500825702603..178.224704632768.. & c.20.0486666666667..4.83..43.73..18.83..7.74810254884024..60.0330931073446.. & c.22.6291666666667..10.6..42.5..21.17..8.02532797611997..64.4058891242938..\\\\\n",
       " <chr> & <dbl> & <dbl> & <dbl> & <dbl> & <dbl> & <dbl> & <dbl> & <dbl> & <dbl> & <dbl> & <dbl> & <dbl> & <dbl> & <dbl> & <dbl>\\\\\n",
       "\\hline\n",
       "\t Promedio              & 4.80433333 & 1.3720000 & 2.4961667 & 0.108166667 &  5.381333 & 0.4546667 & 1.6918333 & 0.21216667 & 1.8813333 & 4.546333 & 2.357667 &  41.0848333 &  57.3226667 & 20.0486667 & 22.6291667\\\\\n",
       "\t minimo                & 4.20000000 & 0.0400000 & 0.6000000 & 0.020000000 &  0.890000 & 0.0600000 & 0.1700000 & 0.00000000 & 0.2000000 & 1.430000 & 0.370000 &   6.8000000 &  15.7700000 &  4.8300000 & 10.6000000\\\\\n",
       "\t maximo                & 5.90000000 & 4.1900000 & 6.9000000 & 0.280000000 & 28.920000 & 2.6900000 & 4.3800000 & 1.11000000 & 6.8000000 & 9.030000 & 7.080000 &  93.0300000 &  83.3200000 & 43.7300000 & 42.5000000\\\\\n",
       "\t mediana               & 4.79500000 & 1.2900000 & 2.1500000 & 0.100000000 &  2.920000 & 0.3450000 & 1.5850000 & 0.11000000 & 1.6100000 & 4.440000 & 2.200000 &  33.4700000 &  58.0200000 & 18.8300000 & 21.1700000\\\\\n",
       "\t Desviacion estandar   & 0.36497674 & 1.2900148 & 1.2859068 & 0.048555112 &  6.145693 & 0.4241141 & 0.9172351 & 0.25504464 & 1.2570081 & 1.537106 & 1.258683 &  21.8240817 &  13.3500826 &  7.7481025 &  8.0253280\\\\\n",
       "\t varianza              & 0.13320802 & 1.6641383 & 1.6535562 & 0.002357599 & 37.769544 & 0.1798728 & 0.8413203 & 0.06504777 & 1.5800694 & 2.362695 & 1.584283 & 476.2905440 & 178.2247046 & 60.0330931 & 64.4058891\\\\\n",
       "\t Coeficiente variacion & 0.07596824 & 0.9402441 & 0.5151526 & 0.448891633 &  1.142039 & 0.9328023 & 0.5421546 & 1.20209571 & 0.6681475 & 0.338098 & 0.533868 &   0.5311956 &   0.2328936 &  0.3864647 &  0.3546453\\\\\n",
       "\\end{tabular}\n"
      ],
      "text/markdown": [
       "\n",
       "A data.frame: 7 × 16\n",
       "\n",
       "| medida &lt;chr&gt; | c.4.80433333333333..4.2..5.9..4.795..0.364976742545152..0.13320802259887.. &lt;dbl&gt; | c.1.372..0.04..4.19..1.29..1.29001484684663..1.66413830508475.. &lt;dbl&gt; | c.2.49616666666667..0.6..6.9..2.15..1.28590677847885..1.65355624293785.. &lt;dbl&gt; | c.0.108166666666667..0.02..0.28..0.1..0.0485551116779325..0.0023575988700565.. &lt;dbl&gt; | c.5.38133333333333..0.89..28.92..2.92..6.14569312240713..37.7695439548023.. &lt;dbl&gt; | c.0.454666666666667..0.06..2.69..0.345..0.424114098282033..0.179872768361582.. &lt;dbl&gt; | c.1.69183333333333..0.17..4.38..1.585..0.917235144733597..0.841320310734463.. &lt;dbl&gt; | c.0.212166666666667..0..1.11..0.11..0.255044639938937..0.0650477683615819.. &lt;dbl&gt; | c.1.88133333333333..0.2..6.8..1.61..1.25700810599259..1.58006937853107.. &lt;dbl&gt; | c.4.54633333333333..1.43..9.03..4.44..1.53710598276758..2.36269480225989.. &lt;dbl&gt; | c.2.35766666666667..0.37..7.08..2.2..1.25868288256815..1.58428259887006.. &lt;dbl&gt; | c.41.0848333333333..6.8..93.03..33.47..21.824081745621..476.290544039548.. &lt;dbl&gt; | c.57.3226666666667..15.77..83.32..58.02..13.3500825702603..178.224704632768.. &lt;dbl&gt; | c.20.0486666666667..4.83..43.73..18.83..7.74810254884024..60.0330931073446.. &lt;dbl&gt; | c.22.6291666666667..10.6..42.5..21.17..8.02532797611997..64.4058891242938.. &lt;dbl&gt; |\n",
       "|---|---|---|---|---|---|---|---|---|---|---|---|---|---|---|---|\n",
       "| Promedio              | 4.80433333 | 1.3720000 | 2.4961667 | 0.108166667 |  5.381333 | 0.4546667 | 1.6918333 | 0.21216667 | 1.8813333 | 4.546333 | 2.357667 |  41.0848333 |  57.3226667 | 20.0486667 | 22.6291667 |\n",
       "| minimo                | 4.20000000 | 0.0400000 | 0.6000000 | 0.020000000 |  0.890000 | 0.0600000 | 0.1700000 | 0.00000000 | 0.2000000 | 1.430000 | 0.370000 |   6.8000000 |  15.7700000 |  4.8300000 | 10.6000000 |\n",
       "| maximo                | 5.90000000 | 4.1900000 | 6.9000000 | 0.280000000 | 28.920000 | 2.6900000 | 4.3800000 | 1.11000000 | 6.8000000 | 9.030000 | 7.080000 |  93.0300000 |  83.3200000 | 43.7300000 | 42.5000000 |\n",
       "| mediana               | 4.79500000 | 1.2900000 | 2.1500000 | 0.100000000 |  2.920000 | 0.3450000 | 1.5850000 | 0.11000000 | 1.6100000 | 4.440000 | 2.200000 |  33.4700000 |  58.0200000 | 18.8300000 | 21.1700000 |\n",
       "| Desviacion estandar   | 0.36497674 | 1.2900148 | 1.2859068 | 0.048555112 |  6.145693 | 0.4241141 | 0.9172351 | 0.25504464 | 1.2570081 | 1.537106 | 1.258683 |  21.8240817 |  13.3500826 |  7.7481025 |  8.0253280 |\n",
       "| varianza              | 0.13320802 | 1.6641383 | 1.6535562 | 0.002357599 | 37.769544 | 0.1798728 | 0.8413203 | 0.06504777 | 1.5800694 | 2.362695 | 1.584283 | 476.2905440 | 178.2247046 | 60.0330931 | 64.4058891 |\n",
       "| Coeficiente variacion | 0.07596824 | 0.9402441 | 0.5151526 | 0.448891633 |  1.142039 | 0.9328023 | 0.5421546 | 1.20209571 | 0.6681475 | 0.338098 | 0.533868 |   0.5311956 |   0.2328936 |  0.3864647 |  0.3546453 |\n",
       "\n"
      ],
      "text/plain": [
       "  medida               \n",
       "1 Promedio             \n",
       "2 minimo               \n",
       "3 maximo               \n",
       "4 mediana              \n",
       "5 Desviacion estandar  \n",
       "6 varianza             \n",
       "7 Coeficiente variacion\n",
       "  c.4.80433333333333..4.2..5.9..4.795..0.364976742545152..0.13320802259887..\n",
       "1 4.80433333                                                                \n",
       "2 4.20000000                                                                \n",
       "3 5.90000000                                                                \n",
       "4 4.79500000                                                                \n",
       "5 0.36497674                                                                \n",
       "6 0.13320802                                                                \n",
       "7 0.07596824                                                                \n",
       "  c.1.372..0.04..4.19..1.29..1.29001484684663..1.66413830508475..\n",
       "1 1.3720000                                                      \n",
       "2 0.0400000                                                      \n",
       "3 4.1900000                                                      \n",
       "4 1.2900000                                                      \n",
       "5 1.2900148                                                      \n",
       "6 1.6641383                                                      \n",
       "7 0.9402441                                                      \n",
       "  c.2.49616666666667..0.6..6.9..2.15..1.28590677847885..1.65355624293785..\n",
       "1 2.4961667                                                               \n",
       "2 0.6000000                                                               \n",
       "3 6.9000000                                                               \n",
       "4 2.1500000                                                               \n",
       "5 1.2859068                                                               \n",
       "6 1.6535562                                                               \n",
       "7 0.5151526                                                               \n",
       "  c.0.108166666666667..0.02..0.28..0.1..0.0485551116779325..0.0023575988700565..\n",
       "1 0.108166667                                                                   \n",
       "2 0.020000000                                                                   \n",
       "3 0.280000000                                                                   \n",
       "4 0.100000000                                                                   \n",
       "5 0.048555112                                                                   \n",
       "6 0.002357599                                                                   \n",
       "7 0.448891633                                                                   \n",
       "  c.5.38133333333333..0.89..28.92..2.92..6.14569312240713..37.7695439548023..\n",
       "1  5.381333                                                                  \n",
       "2  0.890000                                                                  \n",
       "3 28.920000                                                                  \n",
       "4  2.920000                                                                  \n",
       "5  6.145693                                                                  \n",
       "6 37.769544                                                                  \n",
       "7  1.142039                                                                  \n",
       "  c.0.454666666666667..0.06..2.69..0.345..0.424114098282033..0.179872768361582..\n",
       "1 0.4546667                                                                     \n",
       "2 0.0600000                                                                     \n",
       "3 2.6900000                                                                     \n",
       "4 0.3450000                                                                     \n",
       "5 0.4241141                                                                     \n",
       "6 0.1798728                                                                     \n",
       "7 0.9328023                                                                     \n",
       "  c.1.69183333333333..0.17..4.38..1.585..0.917235144733597..0.841320310734463..\n",
       "1 1.6918333                                                                    \n",
       "2 0.1700000                                                                    \n",
       "3 4.3800000                                                                    \n",
       "4 1.5850000                                                                    \n",
       "5 0.9172351                                                                    \n",
       "6 0.8413203                                                                    \n",
       "7 0.5421546                                                                    \n",
       "  c.0.212166666666667..0..1.11..0.11..0.255044639938937..0.0650477683615819..\n",
       "1 0.21216667                                                                 \n",
       "2 0.00000000                                                                 \n",
       "3 1.11000000                                                                 \n",
       "4 0.11000000                                                                 \n",
       "5 0.25504464                                                                 \n",
       "6 0.06504777                                                                 \n",
       "7 1.20209571                                                                 \n",
       "  c.1.88133333333333..0.2..6.8..1.61..1.25700810599259..1.58006937853107..\n",
       "1 1.8813333                                                               \n",
       "2 0.2000000                                                               \n",
       "3 6.8000000                                                               \n",
       "4 1.6100000                                                               \n",
       "5 1.2570081                                                               \n",
       "6 1.5800694                                                               \n",
       "7 0.6681475                                                               \n",
       "  c.4.54633333333333..1.43..9.03..4.44..1.53710598276758..2.36269480225989..\n",
       "1 4.546333                                                                  \n",
       "2 1.430000                                                                  \n",
       "3 9.030000                                                                  \n",
       "4 4.440000                                                                  \n",
       "5 1.537106                                                                  \n",
       "6 2.362695                                                                  \n",
       "7 0.338098                                                                  \n",
       "  c.2.35766666666667..0.37..7.08..2.2..1.25868288256815..1.58428259887006..\n",
       "1 2.357667                                                                 \n",
       "2 0.370000                                                                 \n",
       "3 7.080000                                                                 \n",
       "4 2.200000                                                                 \n",
       "5 1.258683                                                                 \n",
       "6 1.584283                                                                 \n",
       "7 0.533868                                                                 \n",
       "  c.41.0848333333333..6.8..93.03..33.47..21.824081745621..476.290544039548..\n",
       "1  41.0848333                                                               \n",
       "2   6.8000000                                                               \n",
       "3  93.0300000                                                               \n",
       "4  33.4700000                                                               \n",
       "5  21.8240817                                                               \n",
       "6 476.2905440                                                               \n",
       "7   0.5311956                                                               \n",
       "  c.57.3226666666667..15.77..83.32..58.02..13.3500825702603..178.224704632768..\n",
       "1  57.3226667                                                                  \n",
       "2  15.7700000                                                                  \n",
       "3  83.3200000                                                                  \n",
       "4  58.0200000                                                                  \n",
       "5  13.3500826                                                                  \n",
       "6 178.2247046                                                                  \n",
       "7   0.2328936                                                                  \n",
       "  c.20.0486666666667..4.83..43.73..18.83..7.74810254884024..60.0330931073446..\n",
       "1 20.0486667                                                                  \n",
       "2  4.8300000                                                                  \n",
       "3 43.7300000                                                                  \n",
       "4 18.8300000                                                                  \n",
       "5  7.7481025                                                                  \n",
       "6 60.0330931                                                                  \n",
       "7  0.3864647                                                                  \n",
       "  c.22.6291666666667..10.6..42.5..21.17..8.02532797611997..64.4058891242938..\n",
       "1 22.6291667                                                                 \n",
       "2 10.6000000                                                                 \n",
       "3 42.5000000                                                                 \n",
       "4 21.1700000                                                                 \n",
       "5  8.0253280                                                                 \n",
       "6 64.4058891                                                                 \n",
       "7  0.3546453                                                                 "
      ]
     },
     "metadata": {},
     "output_type": "display_data"
    }
   ],
   "source": [
    "estadisticas2"
   ]
  },
  {
   "cell_type": "code",
   "execution_count": 69,
   "id": "4c874ab2-dd21-4e80-8f34-a5eb9a940ce0",
   "metadata": {
    "tags": []
   },
   "outputs": [],
   "source": [
    "names(estadisticas2) <- c(\"medida\", names(datos_suelo))"
   ]
  },
  {
   "cell_type": "code",
   "execution_count": 71,
   "id": "8c0ba41a-2405-491d-a12f-418cb4c6227c",
   "metadata": {},
   "outputs": [],
   "source": [
    "name_export_total <- paste(ruta_export,\"/\",\"Estadistica_total.csv\",sep = \"\")"
   ]
  },
  {
   "cell_type": "code",
   "execution_count": 72,
   "id": "a612e0da-7500-4f54-8915-3542b3e7f71e",
   "metadata": {
    "tags": []
   },
   "outputs": [],
   "source": [
    "write.csv(estadisticas2, file = name_export_total, row.names = T)"
   ]
  },
  {
   "cell_type": "code",
   "execution_count": null,
   "id": "a7895a0d-8593-4313-b0e6-dc886ba5ac87",
   "metadata": {},
   "outputs": [],
   "source": []
  }
 ],
 "metadata": {
  "kernelspec": {
   "display_name": "R",
   "language": "R",
   "name": "ir"
  },
  "language_info": {
   "codemirror_mode": "r",
   "file_extension": ".r",
   "mimetype": "text/x-r-source",
   "name": "R",
   "pygments_lexer": "r",
   "version": "4.3.3"
  },
  "widgets": {
   "application/vnd.jupyter.widget-state+json": {
    "state": {},
    "version_major": 2,
    "version_minor": 0
   }
  }
 },
 "nbformat": 4,
 "nbformat_minor": 5
}
