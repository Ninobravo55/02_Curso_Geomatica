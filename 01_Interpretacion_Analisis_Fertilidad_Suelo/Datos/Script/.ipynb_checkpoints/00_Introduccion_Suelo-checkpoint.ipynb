{
 "cells": [
  {
   "cell_type": "markdown",
   "id": "7eab15c6-48d8-4d68-acf7-6dd70273add5",
   "metadata": {},
   "source": [
    "# Introducción a los Suelos: La Calidad de los Suelos"
   ]
  },
  {
   "cell_type": "markdown",
   "id": "0f40c409-fa9b-4f96-a1af-bb0baed91fdf",
   "metadata": {},
   "source": [
    "La calidad del suelo es fundamental para las prácticas agrícolas. Un suelo fértil y sano le provee a las plantas los nutrientes esenciales para crecer y desarrollarse y las características físicas del suelo como su estructura y sus agregados le permiten al agua y al oxígeno llegar a las raíces de las plantas. Los suelos también se describen como \"suelos sanos o suelos de calidad\", porque describen suelos que no solamente son fértiles sino que también tienen propiedades físicas y biológicas para sostener la productividad, mantener la calidad del medio ambiente y promover la sanidad de plantas y de animales. ¿Pero, a qué se le llama calidad del suelo? La calidad del suelo quiere decir la capacidad de un tipo específico de suelo de funcionar para sostener la productividad de las plantas y de los animales, mantener o mejorar la calidad del agua y del aire y también de mantener la sanidad y la vivienda de los humanos. "
   ]
  },
  {
   "cell_type": "markdown",
   "id": "f253dddb-58c2-4e80-8de9-8417f94faa80",
   "metadata": {},
   "source": [
    "## La fertilidad del suelo\n",
    "Es la habilidad del suelo para proporcionar los nutrientes necesarios para que las plantas puedan crecer. Los principales nutrientes que las plantas toman primero del suelo son el nitrógeno, el fósforo, el potasio, el calcio y el magnesio. Casi siempre tenemos que suplementar esos nutrientes del suelo al agregar fertilizante, estiércol o composta para que las plantas tengan un buen crecimiento. Las plantas también toman otros nutrientes secundarios del suelo, pero casi siempre no hay necesidad de agregarles mas porque están en cantidades suficientes en el suelo.\n",
    "\n",
    "El pH (la acidez) del suelo es otro aspecto importante para su fertilidad. El pH en sí, no es un nutriente, pero es la medida de la acidez del suelo. La mayoríade los cultivos crecen mejor en suelos con un pH entre 6.2 y 6.8.  Este es el rango en que las raíces absorben mejor la mayoría de los nutrientes del suelo. "
   ]
  },
  {
   "cell_type": "markdown",
   "id": "d4e37925-f6c3-484e-a837-a2a592095a72",
   "metadata": {},
   "source": [
    "## La materia orgánica\n",
    "La materia orgánica esta compuesta de residuos de plantas y de animales que se han muerto, de microorganismos vivos y muertos del suelo que al descomponerse y unirse en el suelo forman esta materia. La mayoría de los suelos agrícolas contienen una proporción muy pequeña de materia orgánica (menos del 5%), pero esta pequeñisima cantidad juega un papel muy importante para la calidad del suelo. La materia orgánica le ayuda a la fertilidad, a la estructura y a la actividad biológica del suelo. Se le agrega materia orgánica a los suelos al añadirle los cultivos de cobertera, los estiércoles, las compostas y con la rotación de cultivos."
   ]
  },
  {
   "cell_type": "markdown",
   "id": "57866e67-5259-4471-884b-92ccdf5395a3",
   "metadata": {},
   "source": [
    "## La Textura del Suelo\n",
    "La textura del suelo es una característica importante que influye sobre muchos aspectos en la calidad del suelo. La clase de textura del suelo se determina por el porcentaje de arena, de limo y de barro o arcilla que contiene. Generalmente, los suelos estan compuestos de partículas de tres diferentes tamaños. Las partículas de la arena son relativamente grandes, las de la arcilla son pequeñísimas en comparación a las de la arena y a las partículas de limo que son medianas. La arcilla y el limo retienen más agua y más nutrientes para las plantas que las partículas de la arena. La textura es una propiedad única del suelo que no cambia nunca ni bajo diferentes prácticas de manejo. Los cuatro tipos de suelos se clasifican en (1) arenosos; (2) limos; (3) suelos francos y (4) arcillosos o barros. Esta clasificación se basa en el tamaño de las partículas que tiene cada tipo de suelo."
   ]
  },
  {
   "cell_type": "code",
   "execution_count": null,
   "id": "79abcd3e-6765-4d7e-9ae1-b8cbfb994ffc",
   "metadata": {},
   "outputs": [],
   "source": []
  },
  {
   "cell_type": "markdown",
   "id": "11e321b8-b6fb-44ba-a42d-a59c145ba450",
   "metadata": {},
   "source": [
    "## Composicion del suelo"
   ]
  },
  {
   "cell_type": "markdown",
   "id": "78e07122-0e60-41eb-8c8e-b528d6682b84",
   "metadata": {},
   "source": [
    "El suelo está compuesto por minerales, materia orgánica, diminutos organismos vegetales y animales, aire y agua. Es una capa delgada que se ha formado muy lentamente, a través de los siglos, con la desintegración de las rocas superficiales por la acción del agua, los cambios de temperatura y el viento. Los plantas y animales que crecen y mueren dentro y sobre el suelo son descompuestos por los microorganismos, transformados en materia orgánica y mezclados con el suelo.\n",
    "\n",
    "✅ __Los minerales__ provienen de la roca madre, que se deshace lentamente. También pueden ser aportados por el viento y el agua, que los arrastran desde otras zonas erosionadas.\n",
    "\n",
    "✅ __La materia orgánica__ es el producto de la descomposición de vegetales y animales muertos. Puede almacenar gran cantidad de agua y es rica en minerales.\n",
    "\n",
    "✅ __Los microorganismos o pequeños organismos son de dos tipos:__ los que despedazan la materia orgánica (insectos y lombrices) y los que la descomponen liberando los nutrientes (hongos, bacterias). Viven dentro del suelo y, además de intervenir para que la materia orgánica sea nuevamente utilizada por las plantas, ayudan a pulverizar las rocas. Lombrices e insectos forman poros que permiten la aireación, el almacenaje del agua y el crecimiento de las raíces.\n",
    "\n",
    "✅ __Agua y aire__ ocupan los poros, espacios entre las partículas de suelo que se producen por las irregularidades de su forma y tamaño. La distribución y tamaño de los poros es importante. Una excesiva cantidad de poros pequeños origina suelos compactos, pesados, húmedos y un pobre crecimiento de las raíces. Demasiados poros grandes forman suelos sueltos que se secan rápidamente. Cuando más pequeño es el poro, más difícil es para la planta absorber agua de él."
   ]
  },
  {
   "cell_type": "markdown",
   "id": "26074333-c1dd-4458-a12b-107ec0e8ff15",
   "metadata": {},
   "source": [
    "<img src=\"Image/MO.png\" width=\"700\" heigth=\"280\">"
   ]
  },
  {
   "cell_type": "code",
   "execution_count": null,
   "id": "cc5faef2-9f07-48af-af3c-2d1b4f61aa65",
   "metadata": {},
   "outputs": [],
   "source": []
  }
 ],
 "metadata": {
  "kernelspec": {
   "display_name": "R",
   "language": "R",
   "name": "ir"
  },
  "language_info": {
   "codemirror_mode": "r",
   "file_extension": ".r",
   "mimetype": "text/x-r-source",
   "name": "R",
   "pygments_lexer": "r",
   "version": "4.3.3"
  }
 },
 "nbformat": 4,
 "nbformat_minor": 5
}
