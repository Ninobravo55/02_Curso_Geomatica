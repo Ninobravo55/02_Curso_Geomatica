{
 "cells": [
  {
   "cell_type": "markdown",
   "id": "ef9356e1-4ea9-404a-bdfb-b6fff41379a1",
   "metadata": {},
   "source": [
    "# Análisis de estadistica descriptiva"
   ]
  },
  {
   "cell_type": "code",
   "execution_count": 2,
   "id": "d5108f43-2051-4615-ae3f-4f6067424e4c",
   "metadata": {},
   "outputs": [],
   "source": [
    "#El análisis de los datos Geoestadísticos\n",
    "library(geoR)\n",
    "\n",
    "#Estadística descriptiva\n",
    "library(MASS)\n",
    "library(moments) \n",
    "library(fBasics)\n",
    "#Obtener gráficos de dispersión 3d\n",
    "library(scatterplot3d)"
   ]
  },
  {
   "cell_type": "code",
   "execution_count": 3,
   "id": "35b64f71-9e4d-45ea-ad00-5c5248b50389",
   "metadata": {},
   "outputs": [],
   "source": [
    "# Agregar datos\n",
    "suelo <- read.csv(r\"(E:\\RStudio\\12_Analisis_de_Suelo\\Datos_suelo\\Tabla\\Datos_Suelo.csv)\",\n",
    "                  sep = \";\")"
   ]
  },
  {
   "cell_type": "code",
   "execution_count": 5,
   "id": "3db85db6-179c-4588-bc14-1ec291d8d315",
   "metadata": {},
   "outputs": [
    {
     "data": {
      "text/html": [
       "<table class=\"dataframe\">\n",
       "<caption>A data.frame: 3 × 19</caption>\n",
       "<thead>\n",
       "\t<tr><th></th><th scope=col>ID</th><th scope=col>ESTE</th><th scope=col>NORTE</th><th scope=col>pH</th><th scope=col>CE</th><th scope=col>MO</th><th scope=col>N</th><th scope=col>P</th><th scope=col>K</th><th scope=col>Ca</th><th scope=col>Mg</th><th scope=col>Al</th><th scope=col>CICe</th><th scope=col>BT</th><th scope=col>SAl</th><th scope=col>Arena</th><th scope=col>Limo</th><th scope=col>Arcilla</th><th scope=col>Textura</th></tr>\n",
       "\t<tr><th></th><th scope=col>&lt;int&gt;</th><th scope=col>&lt;int&gt;</th><th scope=col>&lt;int&gt;</th><th scope=col>&lt;dbl&gt;</th><th scope=col>&lt;dbl&gt;</th><th scope=col>&lt;dbl&gt;</th><th scope=col>&lt;dbl&gt;</th><th scope=col>&lt;dbl&gt;</th><th scope=col>&lt;dbl&gt;</th><th scope=col>&lt;dbl&gt;</th><th scope=col>&lt;dbl&gt;</th><th scope=col>&lt;dbl&gt;</th><th scope=col>&lt;dbl&gt;</th><th scope=col>&lt;dbl&gt;</th><th scope=col>&lt;dbl&gt;</th><th scope=col>&lt;dbl&gt;</th><th scope=col>&lt;dbl&gt;</th><th scope=col>&lt;dbl&gt;</th><th scope=col>&lt;chr&gt;</th></tr>\n",
       "</thead>\n",
       "<tbody>\n",
       "\t<tr><th scope=row>1</th><td>1</td><td>512538</td><td>9056311</td><td>4.32</td><td>1.20</td><td>1.48</td><td>0.07</td><td>27.91</td><td>0.21</td><td>0.26</td><td>0.02</td><td>1.9</td><td>2.38</td><td>0.48</td><td>79.69</td><td>62.9</td><td>16.16</td><td>20.94</td><td>Franco Arcillo Arenoso</td></tr>\n",
       "\t<tr><th scope=row>2</th><td>2</td><td>512126</td><td>9057087</td><td>5.00</td><td>0.13</td><td>2.29</td><td>0.11</td><td> 2.28</td><td>0.18</td><td>1.67</td><td>0.83</td><td>1.1</td><td>3.77</td><td>2.67</td><td>29.14</td><td>54.9</td><td>20.16</td><td>24.94</td><td>Franco Arcillo Arenoso</td></tr>\n",
       "\t<tr><th scope=row>3</th><td>3</td><td>512766</td><td>9056489</td><td>4.58</td><td>0.16</td><td>1.61</td><td>0.08</td><td> 3.68</td><td>0.16</td><td>0.17</td><td>0.04</td><td>2.1</td><td>2.47</td><td>0.37</td><td>85.09</td><td>62.9</td><td>16.16</td><td>20.94</td><td>Franco Arcillo Arenoso</td></tr>\n",
       "</tbody>\n",
       "</table>\n"
      ],
      "text/latex": [
       "A data.frame: 3 × 19\n",
       "\\begin{tabular}{r|lllllllllllllllllll}\n",
       "  & ID & ESTE & NORTE & pH & CE & MO & N & P & K & Ca & Mg & Al & CICe & BT & SAl & Arena & Limo & Arcilla & Textura\\\\\n",
       "  & <int> & <int> & <int> & <dbl> & <dbl> & <dbl> & <dbl> & <dbl> & <dbl> & <dbl> & <dbl> & <dbl> & <dbl> & <dbl> & <dbl> & <dbl> & <dbl> & <dbl> & <chr>\\\\\n",
       "\\hline\n",
       "\t1 & 1 & 512538 & 9056311 & 4.32 & 1.20 & 1.48 & 0.07 & 27.91 & 0.21 & 0.26 & 0.02 & 1.9 & 2.38 & 0.48 & 79.69 & 62.9 & 16.16 & 20.94 & Franco Arcillo Arenoso\\\\\n",
       "\t2 & 2 & 512126 & 9057087 & 5.00 & 0.13 & 2.29 & 0.11 &  2.28 & 0.18 & 1.67 & 0.83 & 1.1 & 3.77 & 2.67 & 29.14 & 54.9 & 20.16 & 24.94 & Franco Arcillo Arenoso\\\\\n",
       "\t3 & 3 & 512766 & 9056489 & 4.58 & 0.16 & 1.61 & 0.08 &  3.68 & 0.16 & 0.17 & 0.04 & 2.1 & 2.47 & 0.37 & 85.09 & 62.9 & 16.16 & 20.94 & Franco Arcillo Arenoso\\\\\n",
       "\\end{tabular}\n"
      ],
      "text/markdown": [
       "\n",
       "A data.frame: 3 × 19\n",
       "\n",
       "| <!--/--> | ID &lt;int&gt; | ESTE &lt;int&gt; | NORTE &lt;int&gt; | pH &lt;dbl&gt; | CE &lt;dbl&gt; | MO &lt;dbl&gt; | N &lt;dbl&gt; | P &lt;dbl&gt; | K &lt;dbl&gt; | Ca &lt;dbl&gt; | Mg &lt;dbl&gt; | Al &lt;dbl&gt; | CICe &lt;dbl&gt; | BT &lt;dbl&gt; | SAl &lt;dbl&gt; | Arena &lt;dbl&gt; | Limo &lt;dbl&gt; | Arcilla &lt;dbl&gt; | Textura &lt;chr&gt; |\n",
       "|---|---|---|---|---|---|---|---|---|---|---|---|---|---|---|---|---|---|---|---|\n",
       "| 1 | 1 | 512538 | 9056311 | 4.32 | 1.20 | 1.48 | 0.07 | 27.91 | 0.21 | 0.26 | 0.02 | 1.9 | 2.38 | 0.48 | 79.69 | 62.9 | 16.16 | 20.94 | Franco Arcillo Arenoso |\n",
       "| 2 | 2 | 512126 | 9057087 | 5.00 | 0.13 | 2.29 | 0.11 |  2.28 | 0.18 | 1.67 | 0.83 | 1.1 | 3.77 | 2.67 | 29.14 | 54.9 | 20.16 | 24.94 | Franco Arcillo Arenoso |\n",
       "| 3 | 3 | 512766 | 9056489 | 4.58 | 0.16 | 1.61 | 0.08 |  3.68 | 0.16 | 0.17 | 0.04 | 2.1 | 2.47 | 0.37 | 85.09 | 62.9 | 16.16 | 20.94 | Franco Arcillo Arenoso |\n",
       "\n"
      ],
      "text/plain": [
       "  ID ESTE   NORTE   pH   CE   MO   N    P     K    Ca   Mg   Al  CICe BT  \n",
       "1 1  512538 9056311 4.32 1.20 1.48 0.07 27.91 0.21 0.26 0.02 1.9 2.38 0.48\n",
       "2 2  512126 9057087 5.00 0.13 2.29 0.11  2.28 0.18 1.67 0.83 1.1 3.77 2.67\n",
       "3 3  512766 9056489 4.58 0.16 1.61 0.08  3.68 0.16 0.17 0.04 2.1 2.47 0.37\n",
       "  SAl   Arena Limo  Arcilla Textura               \n",
       "1 79.69 62.9  16.16 20.94   Franco Arcillo Arenoso\n",
       "2 29.14 54.9  20.16 24.94   Franco Arcillo Arenoso\n",
       "3 85.09 62.9  16.16 20.94   Franco Arcillo Arenoso"
      ]
     },
     "metadata": {},
     "output_type": "display_data"
    }
   ],
   "source": [
    "# Leyendo las tres primeras líneas\n",
    "head(suelo,3)"
   ]
  },
  {
   "cell_type": "code",
   "execution_count": 6,
   "id": "d92ef6cb-1c24-4f48-9aaf-f18c2548cafc",
   "metadata": {},
   "outputs": [
    {
     "name": "stdout",
     "output_type": "stream",
     "text": [
      "'data.frame':\t60 obs. of  19 variables:\n",
      " $ ID     : int  1 2 3 4 5 6 7 8 9 10 ...\n",
      " $ ESTE   : int  512538 512126 512766 513263 512480 513006 513216 512792 512919 512195 ...\n",
      " $ NORTE  : int  9056311 9057087 9056489 9055598 9056451 9056074 9055683 9056269 9056237 9056805 ...\n",
      " $ pH     : num  4.32 5 4.58 4.55 4.71 5.21 4.66 5.36 4.89 4.57 ...\n",
      " $ CE     : num  1.2 0.13 0.16 0.1 0.35 0.17 0.06 0.18 0.15 0.13 ...\n",
      " $ MO     : num  1.48 2.29 1.61 2.15 2.42 1.61 1.75 0.94 1.48 2.02 ...\n",
      " $ N      : num  0.07 0.11 0.08 0.11 0.12 0.08 0.09 0.05 0.07 0.1 ...\n",
      " $ P      : num  27.91 2.28 3.68 2.92 2.41 ...\n",
      " $ K      : num  0.21 0.18 0.16 0.12 0.15 0.14 0.16 0.07 0.08 0.14 ...\n",
      " $ Ca     : num  0.26 1.67 0.17 1.48 1.67 1.19 0.82 1.66 0.54 0.45 ...\n",
      " $ Mg     : num  0.02 0.83 0.04 0.39 0.69 0.37 0.23 0.2 0.11 0.1 ...\n",
      " $ Al     : num  1.9 1.1 2.1 3.1 3.4 0.4 3.8 0.2 0.7 3.1 ...\n",
      " $ CICe   : num  2.38 3.77 2.47 5.08 5.91 2.1 5 2.13 1.43 3.79 ...\n",
      " $ BT     : num  0.48 2.67 0.37 1.98 2.51 1.7 1.2 1.93 0.73 0.69 ...\n",
      " $ SAl    : num  79.7 29.1 85.1 61 57.5 ...\n",
      " $ Arena  : num  62.9 54.9 62.9 36.9 44.9 ...\n",
      " $ Limo   : num  16.2 20.2 16.2 32.2 20.2 ...\n",
      " $ Arcilla: num  20.9 24.9 20.9 30.9 34.9 ...\n",
      " $ Textura: chr  \"Franco Arcillo Arenoso\" \"Franco Arcillo Arenoso\" \"Franco Arcillo Arenoso\" \"Franco Arcilloso\" ...\n"
     ]
    }
   ],
   "source": [
    "# Mostrar de forma compacta la estructura de un objeto R arbitrario\n",
    "str(suelo)"
   ]
  },
  {
   "cell_type": "code",
   "execution_count": 8,
   "id": "95cdd39a-777b-43a1-9628-26fb2709260c",
   "metadata": {},
   "outputs": [
    {
     "data": {
      "text/html": [
       "<style>\n",
       ".list-inline {list-style: none; margin:0; padding: 0}\n",
       ".list-inline>li {display: inline-block}\n",
       ".list-inline>li:not(:last-child)::after {content: \"\\00b7\"; padding: 0 .5ex}\n",
       "</style>\n",
       "<ol class=list-inline><li>4.32</li><li>5</li><li>4.58</li><li>4.55</li><li>4.71</li><li>5.21</li><li>4.66</li><li>5.36</li><li>4.89</li><li>4.57</li><li>5.18</li><li>4.61</li><li>4.24</li><li>4.81</li><li>4.5</li><li>4.93</li><li>4.37</li><li>4.7</li><li>4.8</li><li>5.29</li><li>4.72</li><li>5.22</li><li>4.6</li><li>4.84</li><li>5.21</li><li>4.79</li><li>5.2</li><li>4.5</li><li>5.9</li><li>5.6</li><li>5.2</li><li>5</li><li>4.9</li><li>5</li><li>5.3</li><li>5.1</li><li>5.2</li><li>5.1</li><li>5.4</li><li>4.7</li><li>4.3</li><li>4.5</li><li>4.2</li><li>4.4</li><li>4.2</li><li>4.4</li><li>4.6</li><li>4.9</li><li>5.1</li><li>4.7</li><li>4.8</li><li>4.7</li><li>4.8</li><li>4.8</li><li>4.8</li><li>4.3</li><li>4.6</li><li>4.5</li><li>4.5</li><li>4.4</li></ol>\n"
      ],
      "text/latex": [
       "\\begin{enumerate*}\n",
       "\\item 4.32\n",
       "\\item 5\n",
       "\\item 4.58\n",
       "\\item 4.55\n",
       "\\item 4.71\n",
       "\\item 5.21\n",
       "\\item 4.66\n",
       "\\item 5.36\n",
       "\\item 4.89\n",
       "\\item 4.57\n",
       "\\item 5.18\n",
       "\\item 4.61\n",
       "\\item 4.24\n",
       "\\item 4.81\n",
       "\\item 4.5\n",
       "\\item 4.93\n",
       "\\item 4.37\n",
       "\\item 4.7\n",
       "\\item 4.8\n",
       "\\item 5.29\n",
       "\\item 4.72\n",
       "\\item 5.22\n",
       "\\item 4.6\n",
       "\\item 4.84\n",
       "\\item 5.21\n",
       "\\item 4.79\n",
       "\\item 5.2\n",
       "\\item 4.5\n",
       "\\item 5.9\n",
       "\\item 5.6\n",
       "\\item 5.2\n",
       "\\item 5\n",
       "\\item 4.9\n",
       "\\item 5\n",
       "\\item 5.3\n",
       "\\item 5.1\n",
       "\\item 5.2\n",
       "\\item 5.1\n",
       "\\item 5.4\n",
       "\\item 4.7\n",
       "\\item 4.3\n",
       "\\item 4.5\n",
       "\\item 4.2\n",
       "\\item 4.4\n",
       "\\item 4.2\n",
       "\\item 4.4\n",
       "\\item 4.6\n",
       "\\item 4.9\n",
       "\\item 5.1\n",
       "\\item 4.7\n",
       "\\item 4.8\n",
       "\\item 4.7\n",
       "\\item 4.8\n",
       "\\item 4.8\n",
       "\\item 4.8\n",
       "\\item 4.3\n",
       "\\item 4.6\n",
       "\\item 4.5\n",
       "\\item 4.5\n",
       "\\item 4.4\n",
       "\\end{enumerate*}\n"
      ],
      "text/markdown": [
       "1. 4.32\n",
       "2. 5\n",
       "3. 4.58\n",
       "4. 4.55\n",
       "5. 4.71\n",
       "6. 5.21\n",
       "7. 4.66\n",
       "8. 5.36\n",
       "9. 4.89\n",
       "10. 4.57\n",
       "11. 5.18\n",
       "12. 4.61\n",
       "13. 4.24\n",
       "14. 4.81\n",
       "15. 4.5\n",
       "16. 4.93\n",
       "17. 4.37\n",
       "18. 4.7\n",
       "19. 4.8\n",
       "20. 5.29\n",
       "21. 4.72\n",
       "22. 5.22\n",
       "23. 4.6\n",
       "24. 4.84\n",
       "25. 5.21\n",
       "26. 4.79\n",
       "27. 5.2\n",
       "28. 4.5\n",
       "29. 5.9\n",
       "30. 5.6\n",
       "31. 5.2\n",
       "32. 5\n",
       "33. 4.9\n",
       "34. 5\n",
       "35. 5.3\n",
       "36. 5.1\n",
       "37. 5.2\n",
       "38. 5.1\n",
       "39. 5.4\n",
       "40. 4.7\n",
       "41. 4.3\n",
       "42. 4.5\n",
       "43. 4.2\n",
       "44. 4.4\n",
       "45. 4.2\n",
       "46. 4.4\n",
       "47. 4.6\n",
       "48. 4.9\n",
       "49. 5.1\n",
       "50. 4.7\n",
       "51. 4.8\n",
       "52. 4.7\n",
       "53. 4.8\n",
       "54. 4.8\n",
       "55. 4.8\n",
       "56. 4.3\n",
       "57. 4.6\n",
       "58. 4.5\n",
       "59. 4.5\n",
       "60. 4.4\n",
       "\n",
       "\n"
      ],
      "text/plain": [
       " [1] 4.32 5.00 4.58 4.55 4.71 5.21 4.66 5.36 4.89 4.57 5.18 4.61 4.24 4.81 4.50\n",
       "[16] 4.93 4.37 4.70 4.80 5.29 4.72 5.22 4.60 4.84 5.21 4.79 5.20 4.50 5.90 5.60\n",
       "[31] 5.20 5.00 4.90 5.00 5.30 5.10 5.20 5.10 5.40 4.70 4.30 4.50 4.20 4.40 4.20\n",
       "[46] 4.40 4.60 4.90 5.10 4.70 4.80 4.70 4.80 4.80 4.80 4.30 4.60 4.50 4.50 4.40"
      ]
     },
     "metadata": {},
     "output_type": "display_data"
    }
   ],
   "source": [
    "# Caracteristica del pH\n",
    "suelo[,4]"
   ]
  },
  {
   "cell_type": "code",
   "execution_count": 9,
   "id": "39471048-25f7-456e-a38f-72dd6ff111dd",
   "metadata": {},
   "outputs": [],
   "source": [
    "################# Estadística descriptiva espacial  ##############\n",
    "geosuelo <- as.geodata(suelo, coords.col=c(2, 3), data.col=4)"
   ]
  },
  {
   "cell_type": "code",
   "execution_count": 10,
   "id": "ea01eec5-cc6e-4537-948a-32fa95171628",
   "metadata": {},
   "outputs": [
    {
     "data": {
      "text/html": [
       "'geodata'"
      ],
      "text/latex": [
       "'geodata'"
      ],
      "text/markdown": [
       "'geodata'"
      ],
      "text/plain": [
       "[1] \"geodata\""
      ]
     },
     "metadata": {},
     "output_type": "display_data"
    }
   ],
   "source": [
    "class(geosuelo)"
   ]
  },
  {
   "cell_type": "code",
   "execution_count": 11,
   "id": "479567ef-34b6-4b79-802c-2504fbbcad75",
   "metadata": {},
   "outputs": [],
   "source": [
    "attach(geosuelo)"
   ]
  },
  {
   "cell_type": "code",
   "execution_count": 12,
   "id": "cea850fa-d531-471f-a23c-b8e06ac5a1b2",
   "metadata": {},
   "outputs": [
    {
     "data": {
      "text/plain": [
       "Number of data points: 60 \n",
       "\n",
       "Coordinates summary\n",
       "      ESTE   NORTE\n",
       "min 511953 9055598\n",
       "max 513309 9057120\n",
       "\n",
       "Distance summary\n",
       "       min        max \n",
       "  44.04543 1918.39855 \n",
       "\n",
       "Data summary\n",
       "    Min.  1st Qu.   Median     Mean  3rd Qu.     Max. \n",
       "4.200000 4.537500 4.795000 4.804333 5.100000 5.900000 "
      ]
     },
     "metadata": {},
     "output_type": "display_data"
    }
   ],
   "source": [
    "summary(geosuelo)"
   ]
  },
  {
   "cell_type": "code",
   "execution_count": 23,
   "id": "e8c26aa9-fbe2-4d77-91b8-940f5e735096",
   "metadata": {
    "scrolled": true
   },
   "outputs": [
    {
     "data": {
      "image/png": "[encoded data removed]",
      "text/plain": [
       "Plot with title \"\""
      ]
     },
     "metadata": {
      "image/png": {
       "height": 420,
       "width": 420
      }
     },
     "output_type": "display_data"
    }
   ],
   "source": [
    "plot(geosuelo, low=TRUE)"
   ]
  },
  {
   "cell_type": "code",
   "execution_count": 14,
   "id": "16bd83bd-79e7-41d1-a925-01d6a24bfa45",
   "metadata": {},
   "outputs": [
    {
     "data": {
      "image/png": "[encoded data removed]",
      "text/plain": [
       "Plot with title \"Gráfico de Dispersión\""
      ]
     },
     "metadata": {
      "image/png": {
       "height": 420,
       "width": 420
      }
     },
     "output_type": "display_data"
    }
   ],
   "source": [
    "scatterplot3d(suelo[,2],suelo[,3],suelo[,4],pch=1,\n",
    "              xlab=\"Este\",ylab=\"Norte\",zlab=\"pH\",\n",
    "              color=\"red\", main=\"Gráfico de Dispersión\")"
   ]
  },
  {
   "cell_type": "code",
   "execution_count": 25,
   "id": "86113fd3-3f1c-4df5-8960-286f10e366a8",
   "metadata": {},
   "outputs": [
    {
     "data": {
      "image/png": "[encoded data removed]",
      "text/plain": [
       "plot without title"
      ]
     },
     "metadata": {
      "image/png": {
       "height": 420,
       "width": 420
      }
     },
     "output_type": "display_data"
    }
   ],
   "source": [
    "# Grafico de una propiedad de suelo pH\n",
    "par(mfrow=c(1,2))\n",
    "points(geosuelo,xlab=\"ESTE\",ylab=\"NORTE\")\n",
    "points(geosuelo,xlab=\"ESTE\",ylab=\"NORTE\",col=gray(seq(1,0.1,l=90)))"
   ]
  },
  {
   "cell_type": "code",
   "execution_count": 16,
   "id": "12930396-8268-4c0c-9469-4af39460495c",
   "metadata": {},
   "outputs": [],
   "source": [
    "# Estadistica descriptiva de suelo\n",
    "base_suelo = as.data.frame(basicStats(suelo[,c(4:18)], ci = 0.95))"
   ]
  },
  {
   "cell_type": "code",
   "execution_count": 18,
   "id": "62e1000b-94c6-41d0-b8b9-f8efa1202c09",
   "metadata": {},
   "outputs": [
    {
     "data": {
      "text/html": [
       "<table class=\"dataframe\">\n",
       "<caption>A data.frame: 6 × 15</caption>\n",
       "<thead>\n",
       "\t<tr><th></th><th scope=col>pH</th><th scope=col>CE</th><th scope=col>MO</th><th scope=col>N</th><th scope=col>P</th><th scope=col>K</th><th scope=col>Ca</th><th scope=col>Mg</th><th scope=col>Al</th><th scope=col>CICe</th><th scope=col>BT</th><th scope=col>SAl</th><th scope=col>Arena</th><th scope=col>Limo</th><th scope=col>Arcilla</th></tr>\n",
       "\t<tr><th></th><th scope=col>&lt;dbl&gt;</th><th scope=col>&lt;dbl&gt;</th><th scope=col>&lt;dbl&gt;</th><th scope=col>&lt;dbl&gt;</th><th scope=col>&lt;dbl&gt;</th><th scope=col>&lt;dbl&gt;</th><th scope=col>&lt;dbl&gt;</th><th scope=col>&lt;dbl&gt;</th><th scope=col>&lt;dbl&gt;</th><th scope=col>&lt;dbl&gt;</th><th scope=col>&lt;dbl&gt;</th><th scope=col>&lt;dbl&gt;</th><th scope=col>&lt;dbl&gt;</th><th scope=col>&lt;dbl&gt;</th><th scope=col>&lt;dbl&gt;</th></tr>\n",
       "</thead>\n",
       "<tbody>\n",
       "\t<tr><th scope=row>nobs</th><td>60.0000</td><td>60.0000</td><td>60.0000</td><td>60.00</td><td>60.0000</td><td>60.0000</td><td>60.000</td><td>60.0000</td><td>60.000</td><td>60.0000</td><td>60.0000</td><td>60.0000</td><td>60.0000</td><td>60.0000</td><td>60.000</td></tr>\n",
       "\t<tr><th scope=row>NAs</th><td> 0.0000</td><td> 0.0000</td><td> 0.0000</td><td> 0.00</td><td> 0.0000</td><td> 0.0000</td><td> 0.000</td><td> 0.0000</td><td> 0.000</td><td> 0.0000</td><td> 0.0000</td><td> 0.0000</td><td> 0.0000</td><td> 0.0000</td><td> 0.000</td></tr>\n",
       "\t<tr><th scope=row>Minimum</th><td> 4.2000</td><td> 0.0400</td><td> 0.6000</td><td> 0.02</td><td> 0.8900</td><td> 0.0600</td><td> 0.170</td><td> 0.0000</td><td> 0.200</td><td> 1.4300</td><td> 0.3700</td><td> 6.8000</td><td>15.7700</td><td> 4.8300</td><td>10.600</td></tr>\n",
       "\t<tr><th scope=row>Maximum</th><td> 5.9000</td><td> 4.1900</td><td> 6.9000</td><td> 0.28</td><td>28.9200</td><td> 2.6900</td><td> 4.380</td><td> 1.1100</td><td> 6.800</td><td> 9.0300</td><td> 7.0800</td><td>93.0300</td><td>83.3200</td><td>43.7300</td><td>42.500</td></tr>\n",
       "\t<tr><th scope=row>1. Quartile</th><td> 4.5375</td><td> 0.1300</td><td> 1.7375</td><td> 0.08</td><td> 1.9000</td><td> 0.1600</td><td> 1.100</td><td> 0.0275</td><td> 1.175</td><td> 3.7550</td><td> 1.4625</td><td>26.4025</td><td>47.0275</td><td>15.1500</td><td>16.065</td></tr>\n",
       "\t<tr><th scope=row>3. Quartile</th><td> 5.1000</td><td> 2.3775</td><td> 2.9250</td><td> 0.12</td><td> 5.2025</td><td> 0.6075</td><td> 2.225</td><td> 0.2800</td><td> 2.300</td><td> 5.2925</td><td> 3.0525</td><td>54.5600</td><td>66.2650</td><td>25.0175</td><td>29.075</td></tr>\n",
       "</tbody>\n",
       "</table>\n"
      ],
      "text/latex": [
       "A data.frame: 6 × 15\n",
       "\\begin{tabular}{r|lllllllllllllll}\n",
       "  & pH & CE & MO & N & P & K & Ca & Mg & Al & CICe & BT & SAl & Arena & Limo & Arcilla\\\\\n",
       "  & <dbl> & <dbl> & <dbl> & <dbl> & <dbl> & <dbl> & <dbl> & <dbl> & <dbl> & <dbl> & <dbl> & <dbl> & <dbl> & <dbl> & <dbl>\\\\\n",
       "\\hline\n",
       "\tnobs & 60.0000 & 60.0000 & 60.0000 & 60.00 & 60.0000 & 60.0000 & 60.000 & 60.0000 & 60.000 & 60.0000 & 60.0000 & 60.0000 & 60.0000 & 60.0000 & 60.000\\\\\n",
       "\tNAs &  0.0000 &  0.0000 &  0.0000 &  0.00 &  0.0000 &  0.0000 &  0.000 &  0.0000 &  0.000 &  0.0000 &  0.0000 &  0.0000 &  0.0000 &  0.0000 &  0.000\\\\\n",
       "\tMinimum &  4.2000 &  0.0400 &  0.6000 &  0.02 &  0.8900 &  0.0600 &  0.170 &  0.0000 &  0.200 &  1.4300 &  0.3700 &  6.8000 & 15.7700 &  4.8300 & 10.600\\\\\n",
       "\tMaximum &  5.9000 &  4.1900 &  6.9000 &  0.28 & 28.9200 &  2.6900 &  4.380 &  1.1100 &  6.800 &  9.0300 &  7.0800 & 93.0300 & 83.3200 & 43.7300 & 42.500\\\\\n",
       "\t1. Quartile &  4.5375 &  0.1300 &  1.7375 &  0.08 &  1.9000 &  0.1600 &  1.100 &  0.0275 &  1.175 &  3.7550 &  1.4625 & 26.4025 & 47.0275 & 15.1500 & 16.065\\\\\n",
       "\t3. Quartile &  5.1000 &  2.3775 &  2.9250 &  0.12 &  5.2025 &  0.6075 &  2.225 &  0.2800 &  2.300 &  5.2925 &  3.0525 & 54.5600 & 66.2650 & 25.0175 & 29.075\\\\\n",
       "\\end{tabular}\n"
      ],
      "text/markdown": [
       "\n",
       "A data.frame: 6 × 15\n",
       "\n",
       "| <!--/--> | pH &lt;dbl&gt; | CE &lt;dbl&gt; | MO &lt;dbl&gt; | N &lt;dbl&gt; | P &lt;dbl&gt; | K &lt;dbl&gt; | Ca &lt;dbl&gt; | Mg &lt;dbl&gt; | Al &lt;dbl&gt; | CICe &lt;dbl&gt; | BT &lt;dbl&gt; | SAl &lt;dbl&gt; | Arena &lt;dbl&gt; | Limo &lt;dbl&gt; | Arcilla &lt;dbl&gt; |\n",
       "|---|---|---|---|---|---|---|---|---|---|---|---|---|---|---|---|\n",
       "| nobs | 60.0000 | 60.0000 | 60.0000 | 60.00 | 60.0000 | 60.0000 | 60.000 | 60.0000 | 60.000 | 60.0000 | 60.0000 | 60.0000 | 60.0000 | 60.0000 | 60.000 |\n",
       "| NAs |  0.0000 |  0.0000 |  0.0000 |  0.00 |  0.0000 |  0.0000 |  0.000 |  0.0000 |  0.000 |  0.0000 |  0.0000 |  0.0000 |  0.0000 |  0.0000 |  0.000 |\n",
       "| Minimum |  4.2000 |  0.0400 |  0.6000 |  0.02 |  0.8900 |  0.0600 |  0.170 |  0.0000 |  0.200 |  1.4300 |  0.3700 |  6.8000 | 15.7700 |  4.8300 | 10.600 |\n",
       "| Maximum |  5.9000 |  4.1900 |  6.9000 |  0.28 | 28.9200 |  2.6900 |  4.380 |  1.1100 |  6.800 |  9.0300 |  7.0800 | 93.0300 | 83.3200 | 43.7300 | 42.500 |\n",
       "| 1. Quartile |  4.5375 |  0.1300 |  1.7375 |  0.08 |  1.9000 |  0.1600 |  1.100 |  0.0275 |  1.175 |  3.7550 |  1.4625 | 26.4025 | 47.0275 | 15.1500 | 16.065 |\n",
       "| 3. Quartile |  5.1000 |  2.3775 |  2.9250 |  0.12 |  5.2025 |  0.6075 |  2.225 |  0.2800 |  2.300 |  5.2925 |  3.0525 | 54.5600 | 66.2650 | 25.0175 | 29.075 |\n",
       "\n"
      ],
      "text/plain": [
       "            pH      CE      MO      N     P       K       Ca     Mg      Al    \n",
       "nobs        60.0000 60.0000 60.0000 60.00 60.0000 60.0000 60.000 60.0000 60.000\n",
       "NAs          0.0000  0.0000  0.0000  0.00  0.0000  0.0000  0.000  0.0000  0.000\n",
       "Minimum      4.2000  0.0400  0.6000  0.02  0.8900  0.0600  0.170  0.0000  0.200\n",
       "Maximum      5.9000  4.1900  6.9000  0.28 28.9200  2.6900  4.380  1.1100  6.800\n",
       "1. Quartile  4.5375  0.1300  1.7375  0.08  1.9000  0.1600  1.100  0.0275  1.175\n",
       "3. Quartile  5.1000  2.3775  2.9250  0.12  5.2025  0.6075  2.225  0.2800  2.300\n",
       "            CICe    BT      SAl     Arena   Limo    Arcilla\n",
       "nobs        60.0000 60.0000 60.0000 60.0000 60.0000 60.000 \n",
       "NAs          0.0000  0.0000  0.0000  0.0000  0.0000  0.000 \n",
       "Minimum      1.4300  0.3700  6.8000 15.7700  4.8300 10.600 \n",
       "Maximum      9.0300  7.0800 93.0300 83.3200 43.7300 42.500 \n",
       "1. Quartile  3.7550  1.4625 26.4025 47.0275 15.1500 16.065 \n",
       "3. Quartile  5.2925  3.0525 54.5600 66.2650 25.0175 29.075 "
      ]
     },
     "metadata": {},
     "output_type": "display_data"
    }
   ],
   "source": [
    "head(base_suelo)"
   ]
  },
  {
   "cell_type": "code",
   "execution_count": 19,
   "id": "c878449e-65d0-4d9a-8783-9a8ad402c606",
   "metadata": {},
   "outputs": [
    {
     "data": {
      "text/html": [
       "'C:/Users/GEOMATICA/Curso_suelo/01_Interpretacion_Analisis_Fertilidad_Suelo/Datos/Script'"
      ],
      "text/latex": [
       "'C:/Users/GEOMATICA/Curso\\_suelo/01\\_Interpretacion\\_Analisis\\_Fertilidad\\_Suelo/Datos/Script'"
      ],
      "text/markdown": [
       "'C:/Users/GEOMATICA/Curso_suelo/01_Interpretacion_Analisis_Fertilidad_Suelo/Datos/Script'"
      ],
      "text/plain": [
       "[1] \"C:/Users/GEOMATICA/Curso_suelo/01_Interpretacion_Analisis_Fertilidad_Suelo/Datos/Script\""
      ]
     },
     "metadata": {},
     "output_type": "display_data"
    }
   ],
   "source": [
    "# Cambiar ruta de exportacion\n",
    "getwd()"
   ]
  },
  {
   "cell_type": "code",
   "execution_count": 20,
   "id": "e3df0fc5-ce5d-44c9-8ea1-fa29e1d9cbad",
   "metadata": {},
   "outputs": [],
   "source": [
    "# Cambiar ruta de exportacion\n",
    "setwd(r\"(E:\\RStudio\\01_Interpretacion_Analisis_Fertilidad_Suelo\\Datos\\Resultados)\")"
   ]
  },
  {
   "cell_type": "code",
   "execution_count": 21,
   "id": "53ff6c78-5aec-447b-958c-fdaf758cfbf4",
   "metadata": {},
   "outputs": [],
   "source": [
    "write.csv(base_suelo, \"Estadistica_suelo.csv\")"
   ]
  },
  {
   "cell_type": "code",
   "execution_count": null,
   "id": "7ebaba95-50a4-4c53-99fb-2f0517861f1b",
   "metadata": {},
   "outputs": [],
   "source": []
  }
 ],
 "metadata": {
  "kernelspec": {
   "display_name": "R",
   "language": "R",
   "name": "ir"
  },
  "language_info": {
   "codemirror_mode": "r",
   "file_extension": ".r",
   "mimetype": "text/x-r-source",
   "name": "R",
   "pygments_lexer": "r",
   "version": "4.3.3"
  }
 },
 "nbformat": 4,
 "nbformat_minor": 5
}
