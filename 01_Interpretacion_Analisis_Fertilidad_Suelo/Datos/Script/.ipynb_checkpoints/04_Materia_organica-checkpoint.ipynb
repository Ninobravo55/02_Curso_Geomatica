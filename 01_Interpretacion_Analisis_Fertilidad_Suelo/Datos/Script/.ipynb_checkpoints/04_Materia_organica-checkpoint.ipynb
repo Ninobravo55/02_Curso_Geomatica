{
 "cells": [
  {
   "cell_type": "markdown",
   "id": "88ea68d9-616a-4f60-afd0-e7d1bf4f8ea4",
   "metadata": {},
   "source": [
    "# Materia Organica del suelo"
   ]
  },
  {
   "cell_type": "markdown",
   "id": "0c108aaf-ddec-44e4-aab0-dafc2486c871",
   "metadata": {},
   "source": [
    "La materia orgánica del suelo se refiere a los restos de plantas, animales y microbios, en diferentes etapas de descomposición. Consiste en:\n",
    "\n",
    "* Organismos vivos del suelo y residuos vegetales\n",
    "* Materia orgánica parcialmente descompuesta (detritus)\n",
    "* Materia orgánica estable completamente descompuesta, también conocida como humus.\n",
    "\n",
    "La mayoría de los suelos contienen 1-6% de materia orgánica."
   ]
  },
  {
   "cell_type": "markdown",
   "id": "d951841e-ea43-4cda-ac54-022bf039dc3a",
   "metadata": {},
   "source": [
    "## Beneficios de Materia Organica del suelo\n",
    "* Aumenta la CIC del suelo (capacidad de intercambio catiónico)\n",
    "* Mejora la estructura del suelo y su capacidad de retención de agua.\n",
    "* Aporta nutrientes, principalmente nitrógeno, fósforo y azufre. Esto es resultado de la mineralización de nutrientes.\n",
    "* Mejora la absorción de nutrientes por las plantas (quelación de micronutrientes).\n",
    "* Aumenta la capacidad de buffer del suelo (su resistencia a cambios en el pH).\n",
    "* Mejora la biodiversidad del suelo.\n",
    "* Los microorganismos descomponen la materia orgánica en moléculas pequeñas hasta que se forma un humus estable. El humus no aporta muchos nutrientes al suelo, debido a que ya está descompuesto y es estable."
   ]
  },
  {
   "cell_type": "markdown",
   "id": "e9725120-84a3-48a1-880b-2105ad2e3e5e",
   "metadata": {},
   "source": [
    "<img src=\"Image/MO.png\" width=\"700\" heigth=\"280\">"
   ]
  },
  {
   "cell_type": "markdown",
   "id": "d2c2a320-783a-4a74-b404-34270233373b",
   "metadata": {},
   "source": [
    "## Suelo Agrícola \n",
    "Decimos que un suelo es agrícola cuando reúne ciertas características que lo hacen apto para la agricultura. En primer lugar, se debe decir que un suelo debe de ser capaz de sostener la vida vegeta,. Y para ser agrícola, debe de ser capaz de ser cultivado por el hombre y obtener de esta actividad alimentos saludables (no existen contaminantes en el mismo) y en buena cantidad."
   ]
  },
  {
   "cell_type": "markdown",
   "id": "45f3e7a4-af98-4659-bf9d-298ef566cc04",
   "metadata": {},
   "source": [
    "## Clasificación de la materia organica"
   ]
  },
  {
   "cell_type": "markdown",
   "id": "36219042-21eb-42cf-981b-6b9c48a314d6",
   "metadata": {},
   "source": [
    "| N  | Disponibilidad | Materia Orgánica % |\n",
    "| :---: | :---: | :---: |\n",
    "| 1  | Bajo | 0 - 2 |\n",
    "| 2 | Medio | 2 - 4 |\n",
    "| 3 | Alto| > 4 |"
   ]
  },
  {
   "cell_type": "code",
   "execution_count": 3,
   "id": "f4aa15e9-966f-43eb-ad30-f39a9178569c",
   "metadata": {},
   "outputs": [],
   "source": [
    "# Definir los límites de los rangos\n",
    "rangos <- c(0, 2, 4, Inf)"
   ]
  },
  {
   "cell_type": "code",
   "execution_count": 4,
   "id": "b0321723-9b4c-4800-9c30-05114e547aff",
   "metadata": {},
   "outputs": [],
   "source": [
    "# Definir las etiquetas para los rangos\n",
    "etiquetas <- c(\"0 - 2\", \"2 - 4\", \"> 4\")"
   ]
  },
  {
   "cell_type": "code",
   "execution_count": 5,
   "id": "e513735b-38ab-4bbf-93b5-c39ee46cddc3",
   "metadata": {},
   "outputs": [],
   "source": [
    "# Definir las descripciones para los rangos\n",
    "descripciones <- c(\"Bajo\", \"Medio\", \"Alto\")"
   ]
  },
  {
   "cell_type": "code",
   "execution_count": 1,
   "id": "8621374b-0940-4a48-9549-060198a5e504",
   "metadata": {},
   "outputs": [],
   "source": [
    "# Agregar datos\n",
    "suelo <- read.csv(r\"(E:\\RStudio\\01_Interpretacion_Analisis_Fertilidad_Suelo\\Datos\\Resultados\\01_Datos_suelo_CAP.csv)\",\n",
    "                  sep = \",\")"
   ]
  },
  {
   "cell_type": "code",
   "execution_count": 2,
   "id": "42cd5060-75a4-4a17-a0d6-c3945815680d",
   "metadata": {},
   "outputs": [
    {
     "data": {
      "text/html": [
       "<table class=\"dataframe\">\n",
       "<caption>A data.frame: 3 × 24</caption>\n",
       "<thead>\n",
       "\t<tr><th></th><th scope=col>X</th><th scope=col>ID</th><th scope=col>ESTE</th><th scope=col>NORTE</th><th scope=col>pH</th><th scope=col>CE</th><th scope=col>MO</th><th scope=col>N</th><th scope=col>P</th><th scope=col>K</th><th scope=col>⋯</th><th scope=col>BT</th><th scope=col>SAl</th><th scope=col>Arena</th><th scope=col>Limo</th><th scope=col>Arcilla</th><th scope=col>lista_textura</th><th scope=col>Grupo</th><th scope=col>Nom_textura</th><th scope=col>DA_T_M3</th><th scope=col>Peso_C_A</th></tr>\n",
       "\t<tr><th></th><th scope=col>&lt;int&gt;</th><th scope=col>&lt;int&gt;</th><th scope=col>&lt;int&gt;</th><th scope=col>&lt;int&gt;</th><th scope=col>&lt;dbl&gt;</th><th scope=col>&lt;dbl&gt;</th><th scope=col>&lt;dbl&gt;</th><th scope=col>&lt;dbl&gt;</th><th scope=col>&lt;dbl&gt;</th><th scope=col>&lt;dbl&gt;</th><th scope=col>⋯</th><th scope=col>&lt;dbl&gt;</th><th scope=col>&lt;dbl&gt;</th><th scope=col>&lt;dbl&gt;</th><th scope=col>&lt;dbl&gt;</th><th scope=col>&lt;dbl&gt;</th><th scope=col>&lt;chr&gt;</th><th scope=col>&lt;chr&gt;</th><th scope=col>&lt;chr&gt;</th><th scope=col>&lt;dbl&gt;</th><th scope=col>&lt;int&gt;</th></tr>\n",
       "</thead>\n",
       "<tbody>\n",
       "\t<tr><th scope=row>1</th><td>1</td><td>1</td><td>512538</td><td>9056311</td><td>4.32</td><td>1.20</td><td>1.48</td><td>0.07</td><td>27.91</td><td>0.21</td><td>⋯</td><td>0.48</td><td>79.69</td><td>62.9</td><td>16.16</td><td>20.94</td><td>SaClLo</td><td>Moderadamente fina</td><td>Franco arcillo arenoso</td><td>1.45</td><td>2900</td></tr>\n",
       "\t<tr><th scope=row>2</th><td>2</td><td>2</td><td>512126</td><td>9057087</td><td>5.00</td><td>0.13</td><td>2.29</td><td>0.11</td><td> 2.28</td><td>0.18</td><td>⋯</td><td>2.67</td><td>29.14</td><td>54.9</td><td>20.16</td><td>24.94</td><td>SaClLo</td><td>Moderadamente fina</td><td>Franco arcillo arenoso</td><td>1.45</td><td>2900</td></tr>\n",
       "\t<tr><th scope=row>3</th><td>3</td><td>3</td><td>512766</td><td>9056489</td><td>4.58</td><td>0.16</td><td>1.61</td><td>0.08</td><td> 3.68</td><td>0.16</td><td>⋯</td><td>0.37</td><td>85.09</td><td>62.9</td><td>16.16</td><td>20.94</td><td>SaClLo</td><td>Moderadamente fina</td><td>Franco arcillo arenoso</td><td>1.45</td><td>2900</td></tr>\n",
       "</tbody>\n",
       "</table>\n"
      ],
      "text/latex": [
       "A data.frame: 3 × 24\n",
       "\\begin{tabular}{r|lllllllllllllllllllll}\n",
       "  & X & ID & ESTE & NORTE & pH & CE & MO & N & P & K & ⋯ & BT & SAl & Arena & Limo & Arcilla & lista\\_textura & Grupo & Nom\\_textura & DA\\_T\\_M3 & Peso\\_C\\_A\\\\\n",
       "  & <int> & <int> & <int> & <int> & <dbl> & <dbl> & <dbl> & <dbl> & <dbl> & <dbl> & ⋯ & <dbl> & <dbl> & <dbl> & <dbl> & <dbl> & <chr> & <chr> & <chr> & <dbl> & <int>\\\\\n",
       "\\hline\n",
       "\t1 & 1 & 1 & 512538 & 9056311 & 4.32 & 1.20 & 1.48 & 0.07 & 27.91 & 0.21 & ⋯ & 0.48 & 79.69 & 62.9 & 16.16 & 20.94 & SaClLo & Moderadamente fina & Franco arcillo arenoso & 1.45 & 2900\\\\\n",
       "\t2 & 2 & 2 & 512126 & 9057087 & 5.00 & 0.13 & 2.29 & 0.11 &  2.28 & 0.18 & ⋯ & 2.67 & 29.14 & 54.9 & 20.16 & 24.94 & SaClLo & Moderadamente fina & Franco arcillo arenoso & 1.45 & 2900\\\\\n",
       "\t3 & 3 & 3 & 512766 & 9056489 & 4.58 & 0.16 & 1.61 & 0.08 &  3.68 & 0.16 & ⋯ & 0.37 & 85.09 & 62.9 & 16.16 & 20.94 & SaClLo & Moderadamente fina & Franco arcillo arenoso & 1.45 & 2900\\\\\n",
       "\\end{tabular}\n"
      ],
      "text/markdown": [
       "\n",
       "A data.frame: 3 × 24\n",
       "\n",
       "| <!--/--> | X &lt;int&gt; | ID &lt;int&gt; | ESTE &lt;int&gt; | NORTE &lt;int&gt; | pH &lt;dbl&gt; | CE &lt;dbl&gt; | MO &lt;dbl&gt; | N &lt;dbl&gt; | P &lt;dbl&gt; | K &lt;dbl&gt; | ⋯ ⋯ | BT &lt;dbl&gt; | SAl &lt;dbl&gt; | Arena &lt;dbl&gt; | Limo &lt;dbl&gt; | Arcilla &lt;dbl&gt; | lista_textura &lt;chr&gt; | Grupo &lt;chr&gt; | Nom_textura &lt;chr&gt; | DA_T_M3 &lt;dbl&gt; | Peso_C_A &lt;int&gt; |\n",
       "|---|---|---|---|---|---|---|---|---|---|---|---|---|---|---|---|---|---|---|---|---|---|\n",
       "| 1 | 1 | 1 | 512538 | 9056311 | 4.32 | 1.20 | 1.48 | 0.07 | 27.91 | 0.21 | ⋯ | 0.48 | 79.69 | 62.9 | 16.16 | 20.94 | SaClLo | Moderadamente fina | Franco arcillo arenoso | 1.45 | 2900 |\n",
       "| 2 | 2 | 2 | 512126 | 9057087 | 5.00 | 0.13 | 2.29 | 0.11 |  2.28 | 0.18 | ⋯ | 2.67 | 29.14 | 54.9 | 20.16 | 24.94 | SaClLo | Moderadamente fina | Franco arcillo arenoso | 1.45 | 2900 |\n",
       "| 3 | 3 | 3 | 512766 | 9056489 | 4.58 | 0.16 | 1.61 | 0.08 |  3.68 | 0.16 | ⋯ | 0.37 | 85.09 | 62.9 | 16.16 | 20.94 | SaClLo | Moderadamente fina | Franco arcillo arenoso | 1.45 | 2900 |\n",
       "\n"
      ],
      "text/plain": [
       "  X ID ESTE   NORTE   pH   CE   MO   N    P     K    ⋯ BT   SAl   Arena Limo \n",
       "1 1 1  512538 9056311 4.32 1.20 1.48 0.07 27.91 0.21 ⋯ 0.48 79.69 62.9  16.16\n",
       "2 2 2  512126 9057087 5.00 0.13 2.29 0.11  2.28 0.18 ⋯ 2.67 29.14 54.9  20.16\n",
       "3 3 3  512766 9056489 4.58 0.16 1.61 0.08  3.68 0.16 ⋯ 0.37 85.09 62.9  16.16\n",
       "  Arcilla lista_textura Grupo              Nom_textura            DA_T_M3\n",
       "1 20.94   SaClLo        Moderadamente fina Franco arcillo arenoso 1.45   \n",
       "2 24.94   SaClLo        Moderadamente fina Franco arcillo arenoso 1.45   \n",
       "3 20.94   SaClLo        Moderadamente fina Franco arcillo arenoso 1.45   \n",
       "  Peso_C_A\n",
       "1 2900    \n",
       "2 2900    \n",
       "3 2900    "
      ]
     },
     "metadata": {},
     "output_type": "display_data"
    }
   ],
   "source": [
    "# Leyendo las tres primeras líneas\n",
    "head(suelo,3)"
   ]
  },
  {
   "cell_type": "code",
   "execution_count": 13,
   "id": "321bcaca-e4ec-4f61-b5f0-67c4e08af0f6",
   "metadata": {},
   "outputs": [
    {
     "data": {
      "text/html": [
       "<table class=\"dataframe\">\n",
       "<caption>A data.frame: 4 × 4</caption>\n",
       "<thead>\n",
       "\t<tr><th></th><th scope=col>ID</th><th scope=col>MO</th><th scope=col>DA_T_M3</th><th scope=col>Peso_C_A</th></tr>\n",
       "\t<tr><th></th><th scope=col>&lt;int&gt;</th><th scope=col>&lt;dbl&gt;</th><th scope=col>&lt;dbl&gt;</th><th scope=col>&lt;int&gt;</th></tr>\n",
       "</thead>\n",
       "<tbody>\n",
       "\t<tr><th scope=row>1</th><td>1</td><td>1.48</td><td>1.45</td><td>2900</td></tr>\n",
       "\t<tr><th scope=row>2</th><td>2</td><td>2.29</td><td>1.45</td><td>2900</td></tr>\n",
       "\t<tr><th scope=row>3</th><td>3</td><td>1.61</td><td>1.45</td><td>2900</td></tr>\n",
       "\t<tr><th scope=row>4</th><td>4</td><td>2.15</td><td>1.30</td><td>2600</td></tr>\n",
       "</tbody>\n",
       "</table>\n"
      ],
      "text/latex": [
       "A data.frame: 4 × 4\n",
       "\\begin{tabular}{r|llll}\n",
       "  & ID & MO & DA\\_T\\_M3 & Peso\\_C\\_A\\\\\n",
       "  & <int> & <dbl> & <dbl> & <int>\\\\\n",
       "\\hline\n",
       "\t1 & 1 & 1.48 & 1.45 & 2900\\\\\n",
       "\t2 & 2 & 2.29 & 1.45 & 2900\\\\\n",
       "\t3 & 3 & 1.61 & 1.45 & 2900\\\\\n",
       "\t4 & 4 & 2.15 & 1.30 & 2600\\\\\n",
       "\\end{tabular}\n"
      ],
      "text/markdown": [
       "\n",
       "A data.frame: 4 × 4\n",
       "\n",
       "| <!--/--> | ID &lt;int&gt; | MO &lt;dbl&gt; | DA_T_M3 &lt;dbl&gt; | Peso_C_A &lt;int&gt; |\n",
       "|---|---|---|---|---|\n",
       "| 1 | 1 | 1.48 | 1.45 | 2900 |\n",
       "| 2 | 2 | 2.29 | 1.45 | 2900 |\n",
       "| 3 | 3 | 1.61 | 1.45 | 2900 |\n",
       "| 4 | 4 | 2.15 | 1.30 | 2600 |\n",
       "\n"
      ],
      "text/plain": [
       "  ID MO   DA_T_M3 Peso_C_A\n",
       "1 1  1.48 1.45    2900    \n",
       "2 2  2.29 1.45    2900    \n",
       "3 3  1.61 1.45    2900    \n",
       "4 4  2.15 1.30    2600    "
      ]
     },
     "metadata": {},
     "output_type": "display_data"
    }
   ],
   "source": [
    "suelo_MO = suelo[,c(2,7,23,24)]\n",
    "head(suelo_MO,4)"
   ]
  },
  {
   "cell_type": "code",
   "execution_count": 14,
   "id": "bb616d5e-0345-4032-b751-5c88e410a526",
   "metadata": {},
   "outputs": [],
   "source": [
    "# Agregar una nueva columna con los rangos y descripciones\n",
    "suelo_MO$rango <- cut(suelo_MO$MO, breaks = rangos, labels = etiquetas)\n",
    "suelo_MO$descripcion <- descripciones[cut(suelo_MO$MO, breaks = rangos)]"
   ]
  },
  {
   "cell_type": "code",
   "execution_count": 15,
   "id": "e9fb9047-cd44-4d23-958a-63ed6d2d0fb2",
   "metadata": {},
   "outputs": [
    {
     "data": {
      "text/html": [
       "<table class=\"dataframe\">\n",
       "<caption>A data.frame: 4 × 6</caption>\n",
       "<thead>\n",
       "\t<tr><th></th><th scope=col>ID</th><th scope=col>MO</th><th scope=col>DA_T_M3</th><th scope=col>Peso_C_A</th><th scope=col>rango</th><th scope=col>descripcion</th></tr>\n",
       "\t<tr><th></th><th scope=col>&lt;int&gt;</th><th scope=col>&lt;dbl&gt;</th><th scope=col>&lt;dbl&gt;</th><th scope=col>&lt;int&gt;</th><th scope=col>&lt;fct&gt;</th><th scope=col>&lt;chr&gt;</th></tr>\n",
       "</thead>\n",
       "<tbody>\n",
       "\t<tr><th scope=row>1</th><td>1</td><td>1.48</td><td>1.45</td><td>2900</td><td>0 - 2</td><td>Bajo </td></tr>\n",
       "\t<tr><th scope=row>2</th><td>2</td><td>2.29</td><td>1.45</td><td>2900</td><td>2 - 4</td><td>Medio</td></tr>\n",
       "\t<tr><th scope=row>3</th><td>3</td><td>1.61</td><td>1.45</td><td>2900</td><td>0 - 2</td><td>Bajo </td></tr>\n",
       "\t<tr><th scope=row>4</th><td>4</td><td>2.15</td><td>1.30</td><td>2600</td><td>2 - 4</td><td>Medio</td></tr>\n",
       "</tbody>\n",
       "</table>\n"
      ],
      "text/latex": [
       "A data.frame: 4 × 6\n",
       "\\begin{tabular}{r|llllll}\n",
       "  & ID & MO & DA\\_T\\_M3 & Peso\\_C\\_A & rango & descripcion\\\\\n",
       "  & <int> & <dbl> & <dbl> & <int> & <fct> & <chr>\\\\\n",
       "\\hline\n",
       "\t1 & 1 & 1.48 & 1.45 & 2900 & 0 - 2 & Bajo \\\\\n",
       "\t2 & 2 & 2.29 & 1.45 & 2900 & 2 - 4 & Medio\\\\\n",
       "\t3 & 3 & 1.61 & 1.45 & 2900 & 0 - 2 & Bajo \\\\\n",
       "\t4 & 4 & 2.15 & 1.30 & 2600 & 2 - 4 & Medio\\\\\n",
       "\\end{tabular}\n"
      ],
      "text/markdown": [
       "\n",
       "A data.frame: 4 × 6\n",
       "\n",
       "| <!--/--> | ID &lt;int&gt; | MO &lt;dbl&gt; | DA_T_M3 &lt;dbl&gt; | Peso_C_A &lt;int&gt; | rango &lt;fct&gt; | descripcion &lt;chr&gt; |\n",
       "|---|---|---|---|---|---|---|\n",
       "| 1 | 1 | 1.48 | 1.45 | 2900 | 0 - 2 | Bajo  |\n",
       "| 2 | 2 | 2.29 | 1.45 | 2900 | 2 - 4 | Medio |\n",
       "| 3 | 3 | 1.61 | 1.45 | 2900 | 0 - 2 | Bajo  |\n",
       "| 4 | 4 | 2.15 | 1.30 | 2600 | 2 - 4 | Medio |\n",
       "\n"
      ],
      "text/plain": [
       "  ID MO   DA_T_M3 Peso_C_A rango descripcion\n",
       "1 1  1.48 1.45    2900     0 - 2 Bajo       \n",
       "2 2  2.29 1.45    2900     2 - 4 Medio      \n",
       "3 3  1.61 1.45    2900     0 - 2 Bajo       \n",
       "4 4  2.15 1.30    2600     2 - 4 Medio      "
      ]
     },
     "metadata": {},
     "output_type": "display_data"
    }
   ],
   "source": [
    "head(suelo_MO,4)"
   ]
  },
  {
   "cell_type": "code",
   "execution_count": 18,
   "id": "51c24b53-7b7e-493c-b573-a55f262b383d",
   "metadata": {},
   "outputs": [],
   "source": [
    "suelo_MO$MO_round = ceiling(suelo_MO$MO)"
   ]
  },
  {
   "cell_type": "code",
   "execution_count": 19,
   "id": "cc338813-0fca-4d19-ba59-d57f867d7f47",
   "metadata": {},
   "outputs": [
    {
     "data": {
      "text/html": [
       "<table class=\"dataframe\">\n",
       "<caption>A data.frame: 4 × 7</caption>\n",
       "<thead>\n",
       "\t<tr><th></th><th scope=col>ID</th><th scope=col>MO</th><th scope=col>DA_T_M3</th><th scope=col>Peso_C_A</th><th scope=col>rango</th><th scope=col>descripcion</th><th scope=col>MO_round</th></tr>\n",
       "\t<tr><th></th><th scope=col>&lt;int&gt;</th><th scope=col>&lt;dbl&gt;</th><th scope=col>&lt;dbl&gt;</th><th scope=col>&lt;int&gt;</th><th scope=col>&lt;fct&gt;</th><th scope=col>&lt;chr&gt;</th><th scope=col>&lt;dbl&gt;</th></tr>\n",
       "</thead>\n",
       "<tbody>\n",
       "\t<tr><th scope=row>1</th><td>1</td><td>1.48</td><td>1.45</td><td>2900</td><td>0 - 2</td><td>Bajo </td><td>2</td></tr>\n",
       "\t<tr><th scope=row>2</th><td>2</td><td>2.29</td><td>1.45</td><td>2900</td><td>2 - 4</td><td>Medio</td><td>3</td></tr>\n",
       "\t<tr><th scope=row>3</th><td>3</td><td>1.61</td><td>1.45</td><td>2900</td><td>0 - 2</td><td>Bajo </td><td>2</td></tr>\n",
       "\t<tr><th scope=row>4</th><td>4</td><td>2.15</td><td>1.30</td><td>2600</td><td>2 - 4</td><td>Medio</td><td>3</td></tr>\n",
       "</tbody>\n",
       "</table>\n"
      ],
      "text/latex": [
       "A data.frame: 4 × 7\n",
       "\\begin{tabular}{r|lllllll}\n",
       "  & ID & MO & DA\\_T\\_M3 & Peso\\_C\\_A & rango & descripcion & MO\\_round\\\\\n",
       "  & <int> & <dbl> & <dbl> & <int> & <fct> & <chr> & <dbl>\\\\\n",
       "\\hline\n",
       "\t1 & 1 & 1.48 & 1.45 & 2900 & 0 - 2 & Bajo  & 2\\\\\n",
       "\t2 & 2 & 2.29 & 1.45 & 2900 & 2 - 4 & Medio & 3\\\\\n",
       "\t3 & 3 & 1.61 & 1.45 & 2900 & 0 - 2 & Bajo  & 2\\\\\n",
       "\t4 & 4 & 2.15 & 1.30 & 2600 & 2 - 4 & Medio & 3\\\\\n",
       "\\end{tabular}\n"
      ],
      "text/markdown": [
       "\n",
       "A data.frame: 4 × 7\n",
       "\n",
       "| <!--/--> | ID &lt;int&gt; | MO &lt;dbl&gt; | DA_T_M3 &lt;dbl&gt; | Peso_C_A &lt;int&gt; | rango &lt;fct&gt; | descripcion &lt;chr&gt; | MO_round &lt;dbl&gt; |\n",
       "|---|---|---|---|---|---|---|---|\n",
       "| 1 | 1 | 1.48 | 1.45 | 2900 | 0 - 2 | Bajo  | 2 |\n",
       "| 2 | 2 | 2.29 | 1.45 | 2900 | 2 - 4 | Medio | 3 |\n",
       "| 3 | 3 | 1.61 | 1.45 | 2900 | 0 - 2 | Bajo  | 2 |\n",
       "| 4 | 4 | 2.15 | 1.30 | 2600 | 2 - 4 | Medio | 3 |\n",
       "\n"
      ],
      "text/plain": [
       "  ID MO   DA_T_M3 Peso_C_A rango descripcion MO_round\n",
       "1 1  1.48 1.45    2900     0 - 2 Bajo        2       \n",
       "2 2  2.29 1.45    2900     2 - 4 Medio       3       \n",
       "3 3  1.61 1.45    2900     0 - 2 Bajo        2       \n",
       "4 4  2.15 1.30    2600     2 - 4 Medio       3       "
      ]
     },
     "metadata": {},
     "output_type": "display_data"
    }
   ],
   "source": [
    "head(suelo_MO,4)"
   ]
  },
  {
   "cell_type": "code",
   "execution_count": null,
   "id": "adc0ceea-1299-42bf-a7d1-006b9984d487",
   "metadata": {},
   "outputs": [],
   "source": []
  }
 ],
 "metadata": {
  "kernelspec": {
   "display_name": "R",
   "language": "R",
   "name": "ir"
  },
  "language_info": {
   "codemirror_mode": "r",
   "file_extension": ".r",
   "mimetype": "text/x-r-source",
   "name": "R",
   "pygments_lexer": "r",
   "version": "4.3.3"
  }
 },
 "nbformat": 4,
 "nbformat_minor": 5
}
