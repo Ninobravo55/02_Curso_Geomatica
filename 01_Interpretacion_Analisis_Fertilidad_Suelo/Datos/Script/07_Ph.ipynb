{
 "cells": [
  {
   "attachments": {},
   "cell_type": "markdown",
   "id": "047bf5f5-29a9-41c9-8b58-33ea5ebee356",
   "metadata": {},
   "source": [
    "# pH es el Potencial de Hidrógeno\n",
    "El pH del suelo es importante para la producción de alimentos agrícolas. Conocer el pH permite decidir el tipo de cultivo a sembrar y los fertilizantes a utilizar\n",
    "El pH normalmente lo medimos en una escala de 1 a 14. El uno sería el valor más ácido. El 14 el valor más alcalino. Y el 7 el valor neutro.\n",
    "Es el grado de acidez o alcalinidad del suelo. El valor del pH utilizado para la determinación de la CTCUM será obtenido mediante promedio ponderado, considerando el espesor de los horizontes o capas del suelo y el valor de su respectivo pH, entre 15 y 50 cm de profundidad."
   ]
  },
  {
   "cell_type": "markdown",
   "id": "ce14805b-7323-42e2-b3a9-1cc69cf3c079",
   "metadata": {},
   "source": [
    "<img src=\"Image/ph_suelo.jpg\" width=\"700\" heigth=\"280\">"
   ]
  },
  {
   "cell_type": "markdown",
   "id": "f4a7d29e-0406-4cba-9a6e-acebe1e82de9",
   "metadata": {},
   "source": [
    "Fuente: [sgc-lab](https://sgc-lab.com/que-es-el-ph-y-como-medirlo-en-el-cuerpo-el-agua-y-el-suelo/)"
   ]
  },
  {
   "cell_type": "markdown",
   "id": "9d63342f-8916-4286-8c0d-6e47f6cc2bbe",
   "metadata": {},
   "source": [
    "## Rangos de clasificación"
   ]
  },
  {
   "attachments": {},
   "cell_type": "markdown",
   "id": "47354575-c4bb-4cc9-8105-15e66de9f1f0",
   "metadata": {},
   "source": [
    "| Rangos  | Clase | Efectos |\n",
    "| :---: | :---: | :---: |\n",
    "| Menos de 3.5  | Ultra ácido  | Condiciones muy desfavorables |\n",
    "| 3.6 - 4.4 | Extremadamente ácido | Condiciones muy desfavorables |\n",
    "| 4.5 - 5.0 | Muy fuertemente ácido | Posibles efectos de toxicidad de Al |\n",
    "| 5.1 - 5.5 | Fuertemente ácido | Deficiente asimilación de algunos elementos |\n",
    "| 5.6 - 6.0 | Moderadamente ácido | Adecuado para la mayoría de los cultivos |\n",
    "| 6.1 - 6.5 | Ligeramente ácido | Adecuado para la asimilación de nutrientes |\n",
    "| 6.6 - 7.3 | Neutro | Efecto tóxicos mínimo |\n",
    "| 7.4 - 7.8 | Ligeramente alcalino | Existencia de carbonato cálcico |\n",
    "| 7.9 - 8.4 | Moderadamente alcalino | Deficiente asimilación de algunos nutrientes |\n",
    "| 8.5 - 9.0 | Fuertemente alcalino | Problemas de clorosis |\n",
    "| Más de 9.0 | Muy fuertemente alcalino | Presencia de carbonato sódico y poca asimilación de algunos nutrientes |"
   ]
  },
  {
   "cell_type": "code",
   "execution_count": 1,
   "id": "48394fbc-88ae-4580-ac01-5d7a41e2885b",
   "metadata": {},
   "outputs": [],
   "source": [
    "# Definir los límites de los rangos\n",
    "rangos <- c(0, 3.5, 4.4, 5, 5.5, 6, 6.5, 7.3, 7.8, 8.4, 9, Inf)"
   ]
  },
  {
   "cell_type": "code",
   "execution_count": 2,
   "id": "00c53476-afbc-474c-8e2e-edf7b9caef4f",
   "metadata": {},
   "outputs": [],
   "source": [
    "# Definir las etiquetas para los rangos\n",
    "etiquetas <- c(\"0-3.5\", \"3.6 - 4.4\", \"4.5-5.0\", \"5.1-5.5\", \"5.6-6.0\", \"6.1-6.5\", \"6.6-7.3\" , \"7.4-7.8\",\"7.9-8.4\",\"8.5-9.0\",\"9.0 -14.0\")"
   ]
  },
  {
   "cell_type": "code",
   "execution_count": 3,
   "id": "61886bc1-d101-4816-9cc4-39ea142b08d4",
   "metadata": {},
   "outputs": [],
   "source": [
    "# Definir las descripciones para los rangos\n",
    "descripciones <- c(\"Condiciones muy desfavorables\", \"Condiciones muy desfavorables\", \"Posibles efectos de toxicidad de Al\",\n",
    "                   \"Deficiente asimilacion de algunos elementos\", \"Adecuado para la mayoria de los cultivos\",\n",
    "                   \"Adecuado para la asimilacion de nutrientes\", \"Efecto toxicos mínimo\",\n",
    "                   \"Existencia de carbonato cálcico\",\"Deficiente asimilación de algunos nutrientes\",\"Problemas de clorosis\",\n",
    "                   \"Presencia de carbonato sódico y poca asimilación de algunos nutrientes\")"
   ]
  },
  {
   "cell_type": "code",
   "execution_count": 7,
   "id": "8cb1d3b0-8e14-4903-9220-c55476ed339b",
   "metadata": {},
   "outputs": [],
   "source": [
    "# Agregar datos\n",
    "suelo <- read.csv(r\"(E:\\RStudio\\01_Interpretacion_Analisis_Fertilidad_Suelo\\Datos\\Resultados\\01_Datos_suelo_CAP.csv)\",\n",
    "                  sep = \",\")"
   ]
  },
  {
   "cell_type": "code",
   "execution_count": 8,
   "id": "893e6f49-ad6e-4e4a-931d-dd5f0d068906",
   "metadata": {},
   "outputs": [
    {
     "data": {
      "text/html": [
       "<table class=\"dataframe\">\n",
       "<caption>A data.frame: 3 × 24</caption>\n",
       "<thead>\n",
       "\t<tr><th></th><th scope=col>X</th><th scope=col>ID</th><th scope=col>ESTE</th><th scope=col>NORTE</th><th scope=col>pH</th><th scope=col>CE</th><th scope=col>MO</th><th scope=col>N</th><th scope=col>P</th><th scope=col>K</th><th scope=col>⋯</th><th scope=col>BT</th><th scope=col>SAl</th><th scope=col>Arena</th><th scope=col>Limo</th><th scope=col>Arcilla</th><th scope=col>lista_textura</th><th scope=col>Grupo</th><th scope=col>Nom_textura</th><th scope=col>DA_T_M3</th><th scope=col>Peso_C_A</th></tr>\n",
       "\t<tr><th></th><th scope=col>&lt;int&gt;</th><th scope=col>&lt;int&gt;</th><th scope=col>&lt;int&gt;</th><th scope=col>&lt;int&gt;</th><th scope=col>&lt;dbl&gt;</th><th scope=col>&lt;dbl&gt;</th><th scope=col>&lt;dbl&gt;</th><th scope=col>&lt;dbl&gt;</th><th scope=col>&lt;dbl&gt;</th><th scope=col>&lt;dbl&gt;</th><th scope=col>⋯</th><th scope=col>&lt;dbl&gt;</th><th scope=col>&lt;dbl&gt;</th><th scope=col>&lt;dbl&gt;</th><th scope=col>&lt;dbl&gt;</th><th scope=col>&lt;dbl&gt;</th><th scope=col>&lt;chr&gt;</th><th scope=col>&lt;chr&gt;</th><th scope=col>&lt;chr&gt;</th><th scope=col>&lt;dbl&gt;</th><th scope=col>&lt;int&gt;</th></tr>\n",
       "</thead>\n",
       "<tbody>\n",
       "\t<tr><th scope=row>1</th><td>1</td><td>1</td><td>512538</td><td>9056311</td><td>4.32</td><td>1.20</td><td>1.48</td><td>0.07</td><td>27.91</td><td>0.21</td><td>⋯</td><td>0.48</td><td>79.69</td><td>62.9</td><td>16.16</td><td>20.94</td><td>SaClLo</td><td>Moderadamente fina</td><td>Franco arcillo arenoso</td><td>1.45</td><td>2900</td></tr>\n",
       "\t<tr><th scope=row>2</th><td>2</td><td>2</td><td>512126</td><td>9057087</td><td>5.00</td><td>0.13</td><td>2.29</td><td>0.11</td><td> 2.28</td><td>0.18</td><td>⋯</td><td>2.67</td><td>29.14</td><td>54.9</td><td>20.16</td><td>24.94</td><td>SaClLo</td><td>Moderadamente fina</td><td>Franco arcillo arenoso</td><td>1.45</td><td>2900</td></tr>\n",
       "\t<tr><th scope=row>3</th><td>3</td><td>3</td><td>512766</td><td>9056489</td><td>4.58</td><td>0.16</td><td>1.61</td><td>0.08</td><td> 3.68</td><td>0.16</td><td>⋯</td><td>0.37</td><td>85.09</td><td>62.9</td><td>16.16</td><td>20.94</td><td>SaClLo</td><td>Moderadamente fina</td><td>Franco arcillo arenoso</td><td>1.45</td><td>2900</td></tr>\n",
       "</tbody>\n",
       "</table>\n"
      ],
      "text/latex": [
       "A data.frame: 3 × 24\n",
       "\\begin{tabular}{r|lllllllllllllllllllll}\n",
       "  & X & ID & ESTE & NORTE & pH & CE & MO & N & P & K & ⋯ & BT & SAl & Arena & Limo & Arcilla & lista\\_textura & Grupo & Nom\\_textura & DA\\_T\\_M3 & Peso\\_C\\_A\\\\\n",
       "  & <int> & <int> & <int> & <int> & <dbl> & <dbl> & <dbl> & <dbl> & <dbl> & <dbl> & ⋯ & <dbl> & <dbl> & <dbl> & <dbl> & <dbl> & <chr> & <chr> & <chr> & <dbl> & <int>\\\\\n",
       "\\hline\n",
       "\t1 & 1 & 1 & 512538 & 9056311 & 4.32 & 1.20 & 1.48 & 0.07 & 27.91 & 0.21 & ⋯ & 0.48 & 79.69 & 62.9 & 16.16 & 20.94 & SaClLo & Moderadamente fina & Franco arcillo arenoso & 1.45 & 2900\\\\\n",
       "\t2 & 2 & 2 & 512126 & 9057087 & 5.00 & 0.13 & 2.29 & 0.11 &  2.28 & 0.18 & ⋯ & 2.67 & 29.14 & 54.9 & 20.16 & 24.94 & SaClLo & Moderadamente fina & Franco arcillo arenoso & 1.45 & 2900\\\\\n",
       "\t3 & 3 & 3 & 512766 & 9056489 & 4.58 & 0.16 & 1.61 & 0.08 &  3.68 & 0.16 & ⋯ & 0.37 & 85.09 & 62.9 & 16.16 & 20.94 & SaClLo & Moderadamente fina & Franco arcillo arenoso & 1.45 & 2900\\\\\n",
       "\\end{tabular}\n"
      ],
      "text/markdown": [
       "\n",
       "A data.frame: 3 × 24\n",
       "\n",
       "| <!--/--> | X &lt;int&gt; | ID &lt;int&gt; | ESTE &lt;int&gt; | NORTE &lt;int&gt; | pH &lt;dbl&gt; | CE &lt;dbl&gt; | MO &lt;dbl&gt; | N &lt;dbl&gt; | P &lt;dbl&gt; | K &lt;dbl&gt; | ⋯ ⋯ | BT &lt;dbl&gt; | SAl &lt;dbl&gt; | Arena &lt;dbl&gt; | Limo &lt;dbl&gt; | Arcilla &lt;dbl&gt; | lista_textura &lt;chr&gt; | Grupo &lt;chr&gt; | Nom_textura &lt;chr&gt; | DA_T_M3 &lt;dbl&gt; | Peso_C_A &lt;int&gt; |\n",
       "|---|---|---|---|---|---|---|---|---|---|---|---|---|---|---|---|---|---|---|---|---|---|\n",
       "| 1 | 1 | 1 | 512538 | 9056311 | 4.32 | 1.20 | 1.48 | 0.07 | 27.91 | 0.21 | ⋯ | 0.48 | 79.69 | 62.9 | 16.16 | 20.94 | SaClLo | Moderadamente fina | Franco arcillo arenoso | 1.45 | 2900 |\n",
       "| 2 | 2 | 2 | 512126 | 9057087 | 5.00 | 0.13 | 2.29 | 0.11 |  2.28 | 0.18 | ⋯ | 2.67 | 29.14 | 54.9 | 20.16 | 24.94 | SaClLo | Moderadamente fina | Franco arcillo arenoso | 1.45 | 2900 |\n",
       "| 3 | 3 | 3 | 512766 | 9056489 | 4.58 | 0.16 | 1.61 | 0.08 |  3.68 | 0.16 | ⋯ | 0.37 | 85.09 | 62.9 | 16.16 | 20.94 | SaClLo | Moderadamente fina | Franco arcillo arenoso | 1.45 | 2900 |\n",
       "\n"
      ],
      "text/plain": [
       "  X ID ESTE   NORTE   pH   CE   MO   N    P     K    ⋯ BT   SAl   Arena Limo \n",
       "1 1 1  512538 9056311 4.32 1.20 1.48 0.07 27.91 0.21 ⋯ 0.48 79.69 62.9  16.16\n",
       "2 2 2  512126 9057087 5.00 0.13 2.29 0.11  2.28 0.18 ⋯ 2.67 29.14 54.9  20.16\n",
       "3 3 3  512766 9056489 4.58 0.16 1.61 0.08  3.68 0.16 ⋯ 0.37 85.09 62.9  16.16\n",
       "  Arcilla lista_textura Grupo              Nom_textura            DA_T_M3\n",
       "1 20.94   SaClLo        Moderadamente fina Franco arcillo arenoso 1.45   \n",
       "2 24.94   SaClLo        Moderadamente fina Franco arcillo arenoso 1.45   \n",
       "3 20.94   SaClLo        Moderadamente fina Franco arcillo arenoso 1.45   \n",
       "  Peso_C_A\n",
       "1 2900    \n",
       "2 2900    \n",
       "3 2900    "
      ]
     },
     "metadata": {},
     "output_type": "display_data"
    }
   ],
   "source": [
    "# Leyendo las tres primeras líneas\n",
    "head(suelo,3)"
   ]
  },
  {
   "cell_type": "code",
   "execution_count": 11,
   "id": "189a25de-9d8b-4c93-bfbc-9deb4133dff9",
   "metadata": {},
   "outputs": [
    {
     "data": {
      "text/html": [
       "<table class=\"dataframe\">\n",
       "<caption>A data.frame: 2 × 2</caption>\n",
       "<thead>\n",
       "\t<tr><th></th><th scope=col>ID</th><th scope=col>pH</th></tr>\n",
       "\t<tr><th></th><th scope=col>&lt;int&gt;</th><th scope=col>&lt;dbl&gt;</th></tr>\n",
       "</thead>\n",
       "<tbody>\n",
       "\t<tr><th scope=row>1</th><td>1</td><td>4.32</td></tr>\n",
       "\t<tr><th scope=row>2</th><td>2</td><td>5.00</td></tr>\n",
       "</tbody>\n",
       "</table>\n"
      ],
      "text/latex": [
       "A data.frame: 2 × 2\n",
       "\\begin{tabular}{r|ll}\n",
       "  & ID & pH\\\\\n",
       "  & <int> & <dbl>\\\\\n",
       "\\hline\n",
       "\t1 & 1 & 4.32\\\\\n",
       "\t2 & 2 & 5.00\\\\\n",
       "\\end{tabular}\n"
      ],
      "text/markdown": [
       "\n",
       "A data.frame: 2 × 2\n",
       "\n",
       "| <!--/--> | ID &lt;int&gt; | pH &lt;dbl&gt; |\n",
       "|---|---|---|\n",
       "| 1 | 1 | 4.32 |\n",
       "| 2 | 2 | 5.00 |\n",
       "\n"
      ],
      "text/plain": [
       "  ID pH  \n",
       "1 1  4.32\n",
       "2 2  5.00"
      ]
     },
     "metadata": {},
     "output_type": "display_data"
    }
   ],
   "source": [
    "head(suelo[,c(2,5)],2)"
   ]
  },
  {
   "cell_type": "code",
   "execution_count": 12,
   "id": "69332442-3417-46d1-a13d-18f7dbc90dc8",
   "metadata": {},
   "outputs": [],
   "source": [
    "suelo_pH = suelo[,c(2,5)]"
   ]
  },
  {
   "cell_type": "code",
   "execution_count": 13,
   "id": "99f286da-4492-4bde-b587-4938f7f442a3",
   "metadata": {},
   "outputs": [],
   "source": [
    "# Agregar una nueva columna con los rangos y descripciones\n",
    "suelo_pH$rango <- cut(suelo_pH$pH, breaks = rangos, labels = etiquetas)\n",
    "suelo_pH$descripcion <- descripciones[cut(suelo_pH$pH, breaks = rangos)]"
   ]
  },
  {
   "cell_type": "code",
   "execution_count": 14,
   "id": "6f2760a3-0813-450d-a00e-0053aca17f95",
   "metadata": {},
   "outputs": [
    {
     "data": {
      "text/html": [
       "<table class=\"dataframe\">\n",
       "<caption>A data.frame: 4 × 4</caption>\n",
       "<thead>\n",
       "\t<tr><th></th><th scope=col>ID</th><th scope=col>pH</th><th scope=col>rango</th><th scope=col>descripcion</th></tr>\n",
       "\t<tr><th></th><th scope=col>&lt;int&gt;</th><th scope=col>&lt;dbl&gt;</th><th scope=col>&lt;fct&gt;</th><th scope=col>&lt;chr&gt;</th></tr>\n",
       "</thead>\n",
       "<tbody>\n",
       "\t<tr><th scope=row>1</th><td>1</td><td>4.32</td><td>3.6 - 4.4</td><td>Condiciones muy desfavorables      </td></tr>\n",
       "\t<tr><th scope=row>2</th><td>2</td><td>5.00</td><td>4.5-5.0  </td><td>Posibles efectos de toxicidad de Al</td></tr>\n",
       "\t<tr><th scope=row>3</th><td>3</td><td>4.58</td><td>4.5-5.0  </td><td>Posibles efectos de toxicidad de Al</td></tr>\n",
       "\t<tr><th scope=row>4</th><td>4</td><td>4.55</td><td>4.5-5.0  </td><td>Posibles efectos de toxicidad de Al</td></tr>\n",
       "</tbody>\n",
       "</table>\n"
      ],
      "text/latex": [
       "A data.frame: 4 × 4\n",
       "\\begin{tabular}{r|llll}\n",
       "  & ID & pH & rango & descripcion\\\\\n",
       "  & <int> & <dbl> & <fct> & <chr>\\\\\n",
       "\\hline\n",
       "\t1 & 1 & 4.32 & 3.6 - 4.4 & Condiciones muy desfavorables      \\\\\n",
       "\t2 & 2 & 5.00 & 4.5-5.0   & Posibles efectos de toxicidad de Al\\\\\n",
       "\t3 & 3 & 4.58 & 4.5-5.0   & Posibles efectos de toxicidad de Al\\\\\n",
       "\t4 & 4 & 4.55 & 4.5-5.0   & Posibles efectos de toxicidad de Al\\\\\n",
       "\\end{tabular}\n"
      ],
      "text/markdown": [
       "\n",
       "A data.frame: 4 × 4\n",
       "\n",
       "| <!--/--> | ID &lt;int&gt; | pH &lt;dbl&gt; | rango &lt;fct&gt; | descripcion &lt;chr&gt; |\n",
       "|---|---|---|---|---|\n",
       "| 1 | 1 | 4.32 | 3.6 - 4.4 | Condiciones muy desfavorables       |\n",
       "| 2 | 2 | 5.00 | 4.5-5.0   | Posibles efectos de toxicidad de Al |\n",
       "| 3 | 3 | 4.58 | 4.5-5.0   | Posibles efectos de toxicidad de Al |\n",
       "| 4 | 4 | 4.55 | 4.5-5.0   | Posibles efectos de toxicidad de Al |\n",
       "\n"
      ],
      "text/plain": [
       "  ID pH   rango     descripcion                        \n",
       "1 1  4.32 3.6 - 4.4 Condiciones muy desfavorables      \n",
       "2 2  5.00 4.5-5.0   Posibles efectos de toxicidad de Al\n",
       "3 3  4.58 4.5-5.0   Posibles efectos de toxicidad de Al\n",
       "4 4  4.55 4.5-5.0   Posibles efectos de toxicidad de Al"
      ]
     },
     "metadata": {},
     "output_type": "display_data"
    }
   ],
   "source": [
    "# Mostrar el dataframe resultante\n",
    "head(suelo_pH,4)"
   ]
  },
  {
   "cell_type": "code",
   "execution_count": 15,
   "id": "49f40d4e-dba1-4ac1-b852-364a663aed9c",
   "metadata": {},
   "outputs": [],
   "source": [
    "# Cambiar ruta de exportacion\n",
    "setwd(r\"(E:\\RStudio\\01_Interpretacion_Analisis_Fertilidad_Suelo\\Datos\\Resultados)\")"
   ]
  },
  {
   "cell_type": "code",
   "execution_count": 16,
   "id": "4e7a82d8-441b-4f89-9640-6233cb5f9002",
   "metadata": {},
   "outputs": [],
   "source": [
    "write.csv(suelo_pH, \"02_Ph_Suelo.csv\")"
   ]
  },
  {
   "cell_type": "markdown",
   "id": "6082b6e7-b089-40d8-8e7e-ca42e593919f",
   "metadata": {},
   "source": [
    "## Rango de pH deseables en cultivo"
   ]
  },
  {
   "cell_type": "markdown",
   "id": "44f949a3-50f7-4ca6-b232-f71832daaa7a",
   "metadata": {},
   "source": [
    "<img src=\"Image/ph_cultivo.jpg\" width=\"600\" heigth=\"280\">"
   ]
  },
  {
   "cell_type": "code",
   "execution_count": null,
   "id": "f5d062b8-4aef-46de-96b0-363c40dff39c",
   "metadata": {},
   "outputs": [],
   "source": []
  },
  {
   "cell_type": "code",
   "execution_count": null,
   "id": "b6654ea4-90af-4cce-9ce9-46cd1c119bff",
   "metadata": {},
   "outputs": [],
   "source": []
  }
 ],
 "metadata": {
  "kernelspec": {
   "display_name": "R",
   "language": "R",
   "name": "ir"
  },
  "language_info": {
   "codemirror_mode": "r",
   "file_extension": ".r",
   "mimetype": "text/x-r-source",
   "name": "R",
   "pygments_lexer": "r",
   "version": "4.3.3"
  }
 },
 "nbformat": 4,
 "nbformat_minor": 5
}
