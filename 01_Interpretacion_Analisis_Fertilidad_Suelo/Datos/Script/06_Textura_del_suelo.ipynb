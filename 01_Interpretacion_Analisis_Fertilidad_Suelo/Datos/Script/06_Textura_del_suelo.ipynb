{
 "cells": [
  {
   "cell_type": "markdown",
   "id": "436b57f9-6c46-406a-a1cb-bc58aa44a0d8",
   "metadata": {},
   "source": [
    "# Textura del suelo"
   ]
  },
  {
   "cell_type": "markdown",
   "id": "e9dfed8a-06b0-4378-9320-5399cc245270",
   "metadata": {},
   "source": [
    "La textura del suelo se refiere a la proporción de componentes inorgánicos de diferentes formas y tamaños como arena, limo y arcilla.  La textura es una propiedad importante ya que influye como factor de fertilidad y en la habilidad de retener agua, aireación, drenaje, contenido de materia orgánica y otras propiedades."
   ]
  },
  {
   "cell_type": "markdown",
   "id": "1e89353a-da30-471c-b3c6-dcd2f034dc86",
   "metadata": {},
   "source": [
    "El triángulo de textura de suelos según la FAO se usa como una herramienta para clasificar la textura."
   ]
  },
  {
   "cell_type": "markdown",
   "id": "673a1a4e-c8cc-4d22-b80c-69f493fcba44",
   "metadata": {},
   "source": [
    "<img src=\"Image/textura.png\" width=\"600\" heigth=\"380\">"
   ]
  },
  {
   "cell_type": "code",
   "execution_count": 1,
   "id": "bf2c615a-e9a8-4766-a6f4-e35f4040f812",
   "metadata": {},
   "outputs": [],
   "source": [
    "library(plotrix)\n",
    "library(soiltexture)"
   ]
  },
  {
   "cell_type": "code",
   "execution_count": 2,
   "id": "140b01a5-ef0a-437f-bfbe-d124274b0719",
   "metadata": {},
   "outputs": [],
   "source": [
    "# Agregar datos\n",
    "df_textura <- read.csv(r\"(E:\\RStudio\\01_Interpretacion_Analisis_Fertilidad_Suelo\\Datos\\Tabla\\Datos_Suelo.csv)\",sep = \";\")"
   ]
  },
  {
   "cell_type": "code",
   "execution_count": 3,
   "id": "8ae940ee-2eef-4745-872a-ae1c5516be57",
   "metadata": {},
   "outputs": [],
   "source": [
    "# Seleccion de campos\n",
    "sand_arena <- df_textura$Arena\n",
    "silt_limo <- df_textura$Limo\n",
    "clay_arcilla <- df_textura$Arcilla\n",
    "pH <- df_textura$pH\n",
    "cod <- df_textura$ID"
   ]
  },
  {
   "cell_type": "code",
   "execution_count": 4,
   "id": "f51cdedd-0da2-452c-baf3-216492d6d173",
   "metadata": {},
   "outputs": [
    {
     "data": {
      "text/html": [
       "<table class=\"dataframe\">\n",
       "<caption>A data.frame: 3 × 18</caption>\n",
       "<thead>\n",
       "\t<tr><th></th><th scope=col>ID</th><th scope=col>ESTE</th><th scope=col>NORTE</th><th scope=col>pH</th><th scope=col>CE</th><th scope=col>MO</th><th scope=col>N</th><th scope=col>P</th><th scope=col>K</th><th scope=col>Ca</th><th scope=col>Mg</th><th scope=col>Al</th><th scope=col>CICe</th><th scope=col>BT</th><th scope=col>SAl</th><th scope=col>Arena</th><th scope=col>Limo</th><th scope=col>Arcilla</th></tr>\n",
       "\t<tr><th></th><th scope=col>&lt;int&gt;</th><th scope=col>&lt;int&gt;</th><th scope=col>&lt;int&gt;</th><th scope=col>&lt;dbl&gt;</th><th scope=col>&lt;dbl&gt;</th><th scope=col>&lt;dbl&gt;</th><th scope=col>&lt;dbl&gt;</th><th scope=col>&lt;dbl&gt;</th><th scope=col>&lt;dbl&gt;</th><th scope=col>&lt;dbl&gt;</th><th scope=col>&lt;dbl&gt;</th><th scope=col>&lt;dbl&gt;</th><th scope=col>&lt;dbl&gt;</th><th scope=col>&lt;dbl&gt;</th><th scope=col>&lt;dbl&gt;</th><th scope=col>&lt;dbl&gt;</th><th scope=col>&lt;dbl&gt;</th><th scope=col>&lt;dbl&gt;</th></tr>\n",
       "</thead>\n",
       "<tbody>\n",
       "\t<tr><th scope=row>1</th><td>1</td><td>512538</td><td>9056311</td><td>4.32</td><td>1.20</td><td>1.48</td><td>0.07</td><td>27.91</td><td>0.21</td><td>0.26</td><td>0.02</td><td>1.9</td><td>2.38</td><td>0.48</td><td>79.69</td><td>62.9</td><td>16.16</td><td>20.94</td></tr>\n",
       "\t<tr><th scope=row>2</th><td>2</td><td>512126</td><td>9057087</td><td>5.00</td><td>0.13</td><td>2.29</td><td>0.11</td><td> 2.28</td><td>0.18</td><td>1.67</td><td>0.83</td><td>1.1</td><td>3.77</td><td>2.67</td><td>29.14</td><td>54.9</td><td>20.16</td><td>24.94</td></tr>\n",
       "\t<tr><th scope=row>3</th><td>3</td><td>512766</td><td>9056489</td><td>4.58</td><td>0.16</td><td>1.61</td><td>0.08</td><td> 3.68</td><td>0.16</td><td>0.17</td><td>0.04</td><td>2.1</td><td>2.47</td><td>0.37</td><td>85.09</td><td>62.9</td><td>16.16</td><td>20.94</td></tr>\n",
       "</tbody>\n",
       "</table>\n"
      ],
      "text/latex": [
       "A data.frame: 3 × 18\n",
       "\\begin{tabular}{r|llllllllllllllllll}\n",
       "  & ID & ESTE & NORTE & pH & CE & MO & N & P & K & Ca & Mg & Al & CICe & BT & SAl & Arena & Limo & Arcilla\\\\\n",
       "  & <int> & <int> & <int> & <dbl> & <dbl> & <dbl> & <dbl> & <dbl> & <dbl> & <dbl> & <dbl> & <dbl> & <dbl> & <dbl> & <dbl> & <dbl> & <dbl> & <dbl>\\\\\n",
       "\\hline\n",
       "\t1 & 1 & 512538 & 9056311 & 4.32 & 1.20 & 1.48 & 0.07 & 27.91 & 0.21 & 0.26 & 0.02 & 1.9 & 2.38 & 0.48 & 79.69 & 62.9 & 16.16 & 20.94\\\\\n",
       "\t2 & 2 & 512126 & 9057087 & 5.00 & 0.13 & 2.29 & 0.11 &  2.28 & 0.18 & 1.67 & 0.83 & 1.1 & 3.77 & 2.67 & 29.14 & 54.9 & 20.16 & 24.94\\\\\n",
       "\t3 & 3 & 512766 & 9056489 & 4.58 & 0.16 & 1.61 & 0.08 &  3.68 & 0.16 & 0.17 & 0.04 & 2.1 & 2.47 & 0.37 & 85.09 & 62.9 & 16.16 & 20.94\\\\\n",
       "\\end{tabular}\n"
      ],
      "text/markdown": [
       "\n",
       "A data.frame: 3 × 18\n",
       "\n",
       "| <!--/--> | ID &lt;int&gt; | ESTE &lt;int&gt; | NORTE &lt;int&gt; | pH &lt;dbl&gt; | CE &lt;dbl&gt; | MO &lt;dbl&gt; | N &lt;dbl&gt; | P &lt;dbl&gt; | K &lt;dbl&gt; | Ca &lt;dbl&gt; | Mg &lt;dbl&gt; | Al &lt;dbl&gt; | CICe &lt;dbl&gt; | BT &lt;dbl&gt; | SAl &lt;dbl&gt; | Arena &lt;dbl&gt; | Limo &lt;dbl&gt; | Arcilla &lt;dbl&gt; |\n",
       "|---|---|---|---|---|---|---|---|---|---|---|---|---|---|---|---|---|---|---|\n",
       "| 1 | 1 | 512538 | 9056311 | 4.32 | 1.20 | 1.48 | 0.07 | 27.91 | 0.21 | 0.26 | 0.02 | 1.9 | 2.38 | 0.48 | 79.69 | 62.9 | 16.16 | 20.94 |\n",
       "| 2 | 2 | 512126 | 9057087 | 5.00 | 0.13 | 2.29 | 0.11 |  2.28 | 0.18 | 1.67 | 0.83 | 1.1 | 3.77 | 2.67 | 29.14 | 54.9 | 20.16 | 24.94 |\n",
       "| 3 | 3 | 512766 | 9056489 | 4.58 | 0.16 | 1.61 | 0.08 |  3.68 | 0.16 | 0.17 | 0.04 | 2.1 | 2.47 | 0.37 | 85.09 | 62.9 | 16.16 | 20.94 |\n",
       "\n"
      ],
      "text/plain": [
       "  ID ESTE   NORTE   pH   CE   MO   N    P     K    Ca   Mg   Al  CICe BT  \n",
       "1 1  512538 9056311 4.32 1.20 1.48 0.07 27.91 0.21 0.26 0.02 1.9 2.38 0.48\n",
       "2 2  512126 9057087 5.00 0.13 2.29 0.11  2.28 0.18 1.67 0.83 1.1 3.77 2.67\n",
       "3 3  512766 9056489 4.58 0.16 1.61 0.08  3.68 0.16 0.17 0.04 2.1 2.47 0.37\n",
       "  SAl   Arena Limo  Arcilla\n",
       "1 79.69 62.9  16.16 20.94  \n",
       "2 29.14 54.9  20.16 24.94  \n",
       "3 85.09 62.9  16.16 20.94  "
      ]
     },
     "metadata": {},
     "output_type": "display_data"
    }
   ],
   "source": [
    "head(df_textura,3)"
   ]
  },
  {
   "cell_type": "code",
   "execution_count": 5,
   "id": "45521e2a-19e5-420c-8ea8-d0ee7e1a7ef8",
   "metadata": {},
   "outputs": [
    {
     "data": {
      "text/html": [
       "<table class=\"dataframe\">\n",
       "<caption>A data.frame: 4 × 3</caption>\n",
       "<thead>\n",
       "\t<tr><th></th><th scope=col>Arena</th><th scope=col>Limo</th><th scope=col>Arcilla</th></tr>\n",
       "\t<tr><th></th><th scope=col>&lt;dbl&gt;</th><th scope=col>&lt;dbl&gt;</th><th scope=col>&lt;dbl&gt;</th></tr>\n",
       "</thead>\n",
       "<tbody>\n",
       "\t<tr><th scope=row>1</th><td>62.9</td><td>16.16</td><td>20.94</td></tr>\n",
       "\t<tr><th scope=row>2</th><td>54.9</td><td>20.16</td><td>24.94</td></tr>\n",
       "\t<tr><th scope=row>3</th><td>62.9</td><td>16.16</td><td>20.94</td></tr>\n",
       "\t<tr><th scope=row>4</th><td>36.9</td><td>32.16</td><td>30.94</td></tr>\n",
       "</tbody>\n",
       "</table>\n"
      ],
      "text/latex": [
       "A data.frame: 4 × 3\n",
       "\\begin{tabular}{r|lll}\n",
       "  & Arena & Limo & Arcilla\\\\\n",
       "  & <dbl> & <dbl> & <dbl>\\\\\n",
       "\\hline\n",
       "\t1 & 62.9 & 16.16 & 20.94\\\\\n",
       "\t2 & 54.9 & 20.16 & 24.94\\\\\n",
       "\t3 & 62.9 & 16.16 & 20.94\\\\\n",
       "\t4 & 36.9 & 32.16 & 30.94\\\\\n",
       "\\end{tabular}\n"
      ],
      "text/markdown": [
       "\n",
       "A data.frame: 4 × 3\n",
       "\n",
       "| <!--/--> | Arena &lt;dbl&gt; | Limo &lt;dbl&gt; | Arcilla &lt;dbl&gt; |\n",
       "|---|---|---|---|\n",
       "| 1 | 62.9 | 16.16 | 20.94 |\n",
       "| 2 | 54.9 | 20.16 | 24.94 |\n",
       "| 3 | 62.9 | 16.16 | 20.94 |\n",
       "| 4 | 36.9 | 32.16 | 30.94 |\n",
       "\n"
      ],
      "text/plain": [
       "  Arena Limo  Arcilla\n",
       "1 62.9  16.16 20.94  \n",
       "2 54.9  20.16 24.94  \n",
       "3 62.9  16.16 20.94  \n",
       "4 36.9  32.16 30.94  "
      ]
     },
     "metadata": {},
     "output_type": "display_data"
    }
   ],
   "source": [
    "head(df_textura[, 16:18],4)"
   ]
  },
  {
   "cell_type": "code",
   "execution_count": 6,
   "id": "d8dc033c-5dd8-4bb3-a521-a0becdd8433d",
   "metadata": {},
   "outputs": [
    {
     "data": {
      "image/png": "[encoded data removed]",
      "text/plain": [
       "Plot with title \"Triangulo Textural de Suelos\""
      ]
     },
     "metadata": {
      "image/png": {
       "height": 420,
       "width": 420
      }
     },
     "output_type": "display_data"
    }
   ],
   "source": [
    "# Graficar triangulo textura de suelos\n",
    "suelo_textura <- soil.texture(df_textura[, 16:18], main=\"Triangulo Textural de Suelos\", \n",
    "                              axis.labels = c(\"% Arena\", \"% Limo\", \"% Arcilla\"),\n",
    "                              show.lines=TRUE,show.names=TRUE, col.names= \"black\",\n",
    "                              show.legend= FALSE, col.symbols=\"red\", pch=10)"
   ]
  },
  {
   "cell_type": "code",
   "execution_count": 7,
   "id": "d7235362-1d01-4a59-bb7e-56864c098bef",
   "metadata": {},
   "outputs": [],
   "source": [
    "# Generación de nuestra tabla de datos en formato dataframe.\n",
    "texture <- data.frame( \"SAND\" = sand_arena, \"SILT\" = silt_limo, \n",
    "                       \"CLAY\" = clay_arcilla, \"ID\" = cod)"
   ]
  },
  {
   "cell_type": "code",
   "execution_count": 8,
   "id": "8edbc8a9-b67b-4958-99a4-dcedb24ca219",
   "metadata": {},
   "outputs": [],
   "source": [
    "table <- TT.points.in.classes(\n",
    "tri.data = texture[ , ],\n",
    "class.sys = \"USDA.TT\"\n",
    ")"
   ]
  },
  {
   "cell_type": "code",
   "execution_count": 9,
   "id": "5d0dad8a-4e12-4306-a493-343b6f5b4941",
   "metadata": {},
   "outputs": [
    {
     "data": {
      "text/html": [
       "<style>\n",
       ".list-inline {list-style: none; margin:0; padding: 0}\n",
       ".list-inline>li {display: inline-block}\n",
       ".list-inline>li:not(:last-child)::after {content: \"\\00b7\"; padding: 0 .5ex}\n",
       "</style>\n",
       "<ol class=list-inline><li>'Cl'</li><li>'SiCl'</li><li>'SaCl'</li><li>'ClLo'</li><li>'SiClLo'</li><li>'SaClLo'</li><li>'Lo'</li><li>'SiLo'</li><li>'SaLo'</li><li>'Si'</li><li>'LoSa'</li><li>'Sa'</li></ol>\n"
      ],
      "text/latex": [
       "\\begin{enumerate*}\n",
       "\\item 'Cl'\n",
       "\\item 'SiCl'\n",
       "\\item 'SaCl'\n",
       "\\item 'ClLo'\n",
       "\\item 'SiClLo'\n",
       "\\item 'SaClLo'\n",
       "\\item 'Lo'\n",
       "\\item 'SiLo'\n",
       "\\item 'SaLo'\n",
       "\\item 'Si'\n",
       "\\item 'LoSa'\n",
       "\\item 'Sa'\n",
       "\\end{enumerate*}\n"
      ],
      "text/markdown": [
       "1. 'Cl'\n",
       "2. 'SiCl'\n",
       "3. 'SaCl'\n",
       "4. 'ClLo'\n",
       "5. 'SiClLo'\n",
       "6. 'SaClLo'\n",
       "7. 'Lo'\n",
       "8. 'SiLo'\n",
       "9. 'SaLo'\n",
       "10. 'Si'\n",
       "11. 'LoSa'\n",
       "12. 'Sa'\n",
       "\n",
       "\n"
      ],
      "text/plain": [
       " [1] \"Cl\"     \"SiCl\"   \"SaCl\"   \"ClLo\"   \"SiClLo\" \"SaClLo\" \"Lo\"     \"SiLo\"  \n",
       " [9] \"SaLo\"   \"Si\"     \"LoSa\"   \"Sa\"    "
      ]
     },
     "metadata": {},
     "output_type": "display_data"
    }
   ],
   "source": [
    "df_table <- as.data.frame(table)\n",
    "names(df_table)"
   ]
  },
  {
   "cell_type": "code",
   "execution_count": 10,
   "id": "1084631c-d38f-4216-8f71-55a205c7188e",
   "metadata": {},
   "outputs": [],
   "source": [
    "Numero <- length(df_table$Cl)\n",
    "lista_textura = c()"
   ]
  },
  {
   "cell_type": "code",
   "execution_count": 11,
   "id": "ca712d20-0841-4e51-9dfb-3361b34017a6",
   "metadata": {},
   "outputs": [],
   "source": [
    "# 0 es donde no reconocio textura\n",
    "# 1 es valor de la textura\n",
    "# Y 2 si está en borde.\n",
    "for (i in 1:Numero) {\n",
    "  fila <- df_table[i,]\n",
    "  nombre_columna <- colnames(fila)[which(fila == 1, arr.ind = TRUE)[, \"col\"]]\n",
    "  lista_textura[i] = nombre_columna\n",
    "}"
   ]
  },
  {
   "cell_type": "code",
   "execution_count": 12,
   "id": "2452cba5-0c44-465a-9880-d46be230d3b7",
   "metadata": {},
   "outputs": [
    {
     "name": "stdout",
     "output_type": "stream",
     "text": [
      " [1] \"SaClLo\" \"SaClLo\" \"SaClLo\" \"ClLo\"   \"ClLo\"   \"SaLo\"   \"SaClLo\" \"SaLo\"  \n",
      " [9] \"SaClLo\" \"SaClLo\" \"SaClLo\" \"ClLo\"   \"SiCl\"   \"SaClLo\" \"ClLo\"   \"SaClLo\"\n",
      "[17] \"SaClLo\" \"SaClLo\" \"SaClLo\" \"Lo\"     \"Cl\"     \"Lo\"     \"SaClLo\" \"ClLo\"  \n",
      "[25] \"SaLo\"   \"SaClLo\" \"SaClLo\" \"SaClLo\" \"SaLo\"   \"SaLo\"   \"SaLo\"   \"ClLo\"  \n",
      "[33] \"SaLo\"   \"SaLo\"   \"SaLo\"   \"SaLo\"   \"SaLo\"   \"SaLo\"   \"SaLo\"   \"Lo\"    \n",
      "[41] \"LoSa\"   \"SaLo\"   \"SaLo\"   \"ClLo\"   \"Lo\"     \"Lo\"     \"SaLo\"   \"SaLo\"  \n",
      "[49] \"SaLo\"   \"SaClLo\" \"SaClLo\" \"SaCl\"   \"SaClLo\" \"SaClLo\" \"SaLo\"   \"SaLo\"  \n",
      "[57] \"SaLo\"   \"SaClLo\" \"SaLo\"   \"SaLo\"  \n"
     ]
    }
   ],
   "source": [
    "print(lista_textura)"
   ]
  },
  {
   "cell_type": "code",
   "execution_count": 13,
   "id": "45ddf5a9-2475-47c9-ac2b-8cade38f1077",
   "metadata": {},
   "outputs": [],
   "source": [
    "# Generar dataframe de \n",
    "DF_R2 = data.frame(df_textura, lista_textura)"
   ]
  },
  {
   "cell_type": "code",
   "execution_count": 14,
   "id": "be4e7a81-163b-4dbb-bfd7-35937e89e11e",
   "metadata": {},
   "outputs": [
    {
     "data": {
      "text/html": [
       "<table class=\"dataframe\">\n",
       "<caption>A data.frame: 3 × 19</caption>\n",
       "<thead>\n",
       "\t<tr><th></th><th scope=col>ID</th><th scope=col>ESTE</th><th scope=col>NORTE</th><th scope=col>pH</th><th scope=col>CE</th><th scope=col>MO</th><th scope=col>N</th><th scope=col>P</th><th scope=col>K</th><th scope=col>Ca</th><th scope=col>Mg</th><th scope=col>Al</th><th scope=col>CICe</th><th scope=col>BT</th><th scope=col>SAl</th><th scope=col>Arena</th><th scope=col>Limo</th><th scope=col>Arcilla</th><th scope=col>lista_textura</th></tr>\n",
       "\t<tr><th></th><th scope=col>&lt;int&gt;</th><th scope=col>&lt;int&gt;</th><th scope=col>&lt;int&gt;</th><th scope=col>&lt;dbl&gt;</th><th scope=col>&lt;dbl&gt;</th><th scope=col>&lt;dbl&gt;</th><th scope=col>&lt;dbl&gt;</th><th scope=col>&lt;dbl&gt;</th><th scope=col>&lt;dbl&gt;</th><th scope=col>&lt;dbl&gt;</th><th scope=col>&lt;dbl&gt;</th><th scope=col>&lt;dbl&gt;</th><th scope=col>&lt;dbl&gt;</th><th scope=col>&lt;dbl&gt;</th><th scope=col>&lt;dbl&gt;</th><th scope=col>&lt;dbl&gt;</th><th scope=col>&lt;dbl&gt;</th><th scope=col>&lt;dbl&gt;</th><th scope=col>&lt;chr&gt;</th></tr>\n",
       "</thead>\n",
       "<tbody>\n",
       "\t<tr><th scope=row>1</th><td>1</td><td>512538</td><td>9056311</td><td>4.32</td><td>1.20</td><td>1.48</td><td>0.07</td><td>27.91</td><td>0.21</td><td>0.26</td><td>0.02</td><td>1.9</td><td>2.38</td><td>0.48</td><td>79.69</td><td>62.9</td><td>16.16</td><td>20.94</td><td>SaClLo</td></tr>\n",
       "\t<tr><th scope=row>2</th><td>2</td><td>512126</td><td>9057087</td><td>5.00</td><td>0.13</td><td>2.29</td><td>0.11</td><td> 2.28</td><td>0.18</td><td>1.67</td><td>0.83</td><td>1.1</td><td>3.77</td><td>2.67</td><td>29.14</td><td>54.9</td><td>20.16</td><td>24.94</td><td>SaClLo</td></tr>\n",
       "\t<tr><th scope=row>3</th><td>3</td><td>512766</td><td>9056489</td><td>4.58</td><td>0.16</td><td>1.61</td><td>0.08</td><td> 3.68</td><td>0.16</td><td>0.17</td><td>0.04</td><td>2.1</td><td>2.47</td><td>0.37</td><td>85.09</td><td>62.9</td><td>16.16</td><td>20.94</td><td>SaClLo</td></tr>\n",
       "</tbody>\n",
       "</table>\n"
      ],
      "text/latex": [
       "A data.frame: 3 × 19\n",
       "\\begin{tabular}{r|lllllllllllllllllll}\n",
       "  & ID & ESTE & NORTE & pH & CE & MO & N & P & K & Ca & Mg & Al & CICe & BT & SAl & Arena & Limo & Arcilla & lista\\_textura\\\\\n",
       "  & <int> & <int> & <int> & <dbl> & <dbl> & <dbl> & <dbl> & <dbl> & <dbl> & <dbl> & <dbl> & <dbl> & <dbl> & <dbl> & <dbl> & <dbl> & <dbl> & <dbl> & <chr>\\\\\n",
       "\\hline\n",
       "\t1 & 1 & 512538 & 9056311 & 4.32 & 1.20 & 1.48 & 0.07 & 27.91 & 0.21 & 0.26 & 0.02 & 1.9 & 2.38 & 0.48 & 79.69 & 62.9 & 16.16 & 20.94 & SaClLo\\\\\n",
       "\t2 & 2 & 512126 & 9057087 & 5.00 & 0.13 & 2.29 & 0.11 &  2.28 & 0.18 & 1.67 & 0.83 & 1.1 & 3.77 & 2.67 & 29.14 & 54.9 & 20.16 & 24.94 & SaClLo\\\\\n",
       "\t3 & 3 & 512766 & 9056489 & 4.58 & 0.16 & 1.61 & 0.08 &  3.68 & 0.16 & 0.17 & 0.04 & 2.1 & 2.47 & 0.37 & 85.09 & 62.9 & 16.16 & 20.94 & SaClLo\\\\\n",
       "\\end{tabular}\n"
      ],
      "text/markdown": [
       "\n",
       "A data.frame: 3 × 19\n",
       "\n",
       "| <!--/--> | ID &lt;int&gt; | ESTE &lt;int&gt; | NORTE &lt;int&gt; | pH &lt;dbl&gt; | CE &lt;dbl&gt; | MO &lt;dbl&gt; | N &lt;dbl&gt; | P &lt;dbl&gt; | K &lt;dbl&gt; | Ca &lt;dbl&gt; | Mg &lt;dbl&gt; | Al &lt;dbl&gt; | CICe &lt;dbl&gt; | BT &lt;dbl&gt; | SAl &lt;dbl&gt; | Arena &lt;dbl&gt; | Limo &lt;dbl&gt; | Arcilla &lt;dbl&gt; | lista_textura &lt;chr&gt; |\n",
       "|---|---|---|---|---|---|---|---|---|---|---|---|---|---|---|---|---|---|---|---|\n",
       "| 1 | 1 | 512538 | 9056311 | 4.32 | 1.20 | 1.48 | 0.07 | 27.91 | 0.21 | 0.26 | 0.02 | 1.9 | 2.38 | 0.48 | 79.69 | 62.9 | 16.16 | 20.94 | SaClLo |\n",
       "| 2 | 2 | 512126 | 9057087 | 5.00 | 0.13 | 2.29 | 0.11 |  2.28 | 0.18 | 1.67 | 0.83 | 1.1 | 3.77 | 2.67 | 29.14 | 54.9 | 20.16 | 24.94 | SaClLo |\n",
       "| 3 | 3 | 512766 | 9056489 | 4.58 | 0.16 | 1.61 | 0.08 |  3.68 | 0.16 | 0.17 | 0.04 | 2.1 | 2.47 | 0.37 | 85.09 | 62.9 | 16.16 | 20.94 | SaClLo |\n",
       "\n"
      ],
      "text/plain": [
       "  ID ESTE   NORTE   pH   CE   MO   N    P     K    Ca   Mg   Al  CICe BT  \n",
       "1 1  512538 9056311 4.32 1.20 1.48 0.07 27.91 0.21 0.26 0.02 1.9 2.38 0.48\n",
       "2 2  512126 9057087 5.00 0.13 2.29 0.11  2.28 0.18 1.67 0.83 1.1 3.77 2.67\n",
       "3 3  512766 9056489 4.58 0.16 1.61 0.08  3.68 0.16 0.17 0.04 2.1 2.47 0.37\n",
       "  SAl   Arena Limo  Arcilla lista_textura\n",
       "1 79.69 62.9  16.16 20.94   SaClLo       \n",
       "2 29.14 54.9  20.16 24.94   SaClLo       \n",
       "3 85.09 62.9  16.16 20.94   SaClLo       "
      ]
     },
     "metadata": {},
     "output_type": "display_data"
    }
   ],
   "source": [
    "head(DF_R2,3)"
   ]
  },
  {
   "cell_type": "markdown",
   "id": "0a793336-e7df-4a32-8a7c-f4625233d024",
   "metadata": {},
   "source": [
    "### Clase de textura de suelo del sistema USDA\n",
    "\n",
    "| N  | Grupo | Nombre en inglés |  Nombre en español | Da (t/m3)\n",
    "| :---: | :---: | :---: | :---: |:---: |\n",
    "| 1 | Gruesa | Sand  (Sa)| Arenoso (A) | 1.7  |\n",
    "| 2 | Gruesa | Loamy sand (LoSa)| Arenoso francoso (AF) |  1.6 |\n",
    "| 3 | Moderadamente gruesa | sandy loam  (SaLo)| Franco arenoso (FA) | 1.5  |\n",
    "| 4  | Media |  loam  (Lo) | franco (F)| 1.35  |\n",
    "| 5 | Media | silty loam (SiLo) | Franco limoso (FL) | 1.45  |\n",
    "| 6 | Media | silt (Si) | Limoso (L) |  1.45 |\n",
    "| 7 | Moderadamente fina | clay loam (ClLo)  | Franco arcilloso (FAr) | 1.3  |\n",
    "| 8 | Moderadamente fina | Sandy clay loam (SaClLo) | Franco arcillo arenoso (FArA) | 1.45  |\n",
    "| 9 | Moderadamente fina | silty clay loam (SiClLo) | Franco arcillo limoso (FArL) |  1.4 |\n",
    "| 10 | Fina | sandy clay (SaCl) | Arcillo arenoso (ArA)| 1.3  |\n",
    "| 11 | Fina | silty clay (SiCl) | Arcillo limoso (ArL)| 1.4  |\n",
    "| 12  | Fina | clay (Cl) | Arcilla (Ar) | 1.25  |"
   ]
  },
  {
   "cell_type": "code",
   "execution_count": 15,
   "id": "ffe64ea0-1f32-4dcc-8500-76f226b65780",
   "metadata": {},
   "outputs": [],
   "source": [
    "# Agregar grupo\n",
    "DF_R2$Grupo <- ifelse(DF_R2$lista_textura == \"Cl\", \"Fina\", #1\n",
    "                              ifelse(DF_R2$lista_textura == \"SiCl\", \"Fina\", #2\n",
    "                              ifelse(DF_R2$lista_textura == \"SaCl\", \"Fina\", #3\n",
    "                              ifelse(DF_R2$lista_textura == \"ClLo\", \"Moderadamente fina\", #4\n",
    "                              ifelse(DF_R2$lista_textura == \"SiClLo\", \"Moderadamente fina\", #5\n",
    "                              ifelse(DF_R2$lista_textura == \"SaClLo\", \"Moderadamente fina\",#6\n",
    "                              ifelse(DF_R2$lista_textura == \"Lo\", \"Media\",#7\n",
    "                              ifelse(DF_R2$lista_textura == \"SiLo\", \"Media\",#8\n",
    "                              ifelse(DF_R2$lista_textura == \"SaLo\", \"Moderadamente gruesa\", #9\n",
    "                              ifelse(DF_R2$lista_textura == \"Si\", \"Media\", #10\n",
    "                              ifelse(DF_R2$lista_textura == \"LoSa\", \"Gruesa\", #11\n",
    "                              ifelse(DF_R2$lista_textura == \"Sa\", \"Gruesa\", NA)))))))))))) #12"
   ]
  },
  {
   "cell_type": "code",
   "execution_count": 16,
   "id": "343c4ff5-f4a7-448d-a014-6c99dbd77f71",
   "metadata": {},
   "outputs": [],
   "source": [
    "# Agregar una nueva columna con las correspondencias\n",
    "DF_R2$Nom_textura <- ifelse(DF_R2$lista_textura == \"Cl\", \"Arcilla\", #1\n",
    "                              ifelse(DF_R2$lista_textura == \"SiCl\", \"Arcillo limoso\", #2\n",
    "                              ifelse(DF_R2$lista_textura == \"SaCl\", \"Arcillo arenoso\", #3\n",
    "                              ifelse(DF_R2$lista_textura == \"ClLo\", \"Franco arcilloso\", #4\n",
    "                              ifelse(DF_R2$lista_textura == \"SiClLo\", \"Franco arcillo limoso\", #5\n",
    "                              ifelse(DF_R2$lista_textura == \"SaClLo\", \"Franco arcillo arenoso\",#6\n",
    "                              ifelse(DF_R2$lista_textura == \"Lo\", \"Franco\",#7\n",
    "                              ifelse(DF_R2$lista_textura == \"SiLo\", \"Franco limoso\",#8\n",
    "                              ifelse(DF_R2$lista_textura == \"SaLo\", \"Franco arenoso\", #9\n",
    "                              ifelse(DF_R2$lista_textura == \"Si\", \"Limoso\", #10\n",
    "                              ifelse(DF_R2$lista_textura == \"LoSa\", \"Arenoso francoso\", #11\n",
    "                              ifelse(DF_R2$lista_textura == \"Sa\", \"Arenoso\", NA)))))))))))) #12"
   ]
  },
  {
   "cell_type": "markdown",
   "id": "bdabd9b1-3fb6-4a54-bcfd-6c1f8e8d6ac7",
   "metadata": {},
   "source": [
    "## Incluir segun la clasificación de textura la Densidad Aperante"
   ]
  },
  {
   "cell_type": "code",
   "execution_count": 17,
   "id": "c33a0718-5041-41cb-9353-736ccd0d778b",
   "metadata": {},
   "outputs": [],
   "source": [
    "# Agregar una nueva columna con las correspondencias\n",
    "DF_R2$DA_T_M3 <- ifelse(DF_R2$lista_textura == \"Cl\", 1.25, #1\n",
    "                              ifelse(DF_R2$lista_textura == \"SiCl\", 1.4, #2\n",
    "                              ifelse(DF_R2$lista_textura == \"SaCl\", 1.3, #3\n",
    "                              ifelse(DF_R2$lista_textura == \"ClLo\", 1.3, #4\n",
    "                              ifelse(DF_R2$lista_textura == \"SiClLo\", 1.4, #5\n",
    "                              ifelse(DF_R2$lista_textura == \"SaClLo\", 1.45,#6\n",
    "                              ifelse(DF_R2$lista_textura == \"Lo\", 1.35,#7\n",
    "                              ifelse(DF_R2$lista_textura == \"SiLo\", 1.45,#8\n",
    "                              ifelse(DF_R2$lista_textura == \"SaLo\", 1.5, #9\n",
    "                              ifelse(DF_R2$lista_textura == \"Si\", 1.45, #10\n",
    "                              ifelse(DF_R2$lista_textura == \"LoSa\", 1.6, #11\n",
    "                              ifelse(DF_R2$lista_textura == \"Sa\", 1.7, NA)))))))))))) #12"
   ]
  },
  {
   "cell_type": "code",
   "execution_count": 18,
   "id": "6151cf39-bfc2-4d1d-a0c5-485c34e56b88",
   "metadata": {},
   "outputs": [
    {
     "data": {
      "text/html": [
       "<table class=\"dataframe\">\n",
       "<caption>A data.frame: 4 × 22</caption>\n",
       "<thead>\n",
       "\t<tr><th></th><th scope=col>ID</th><th scope=col>ESTE</th><th scope=col>NORTE</th><th scope=col>pH</th><th scope=col>CE</th><th scope=col>MO</th><th scope=col>N</th><th scope=col>P</th><th scope=col>K</th><th scope=col>Ca</th><th scope=col>⋯</th><th scope=col>CICe</th><th scope=col>BT</th><th scope=col>SAl</th><th scope=col>Arena</th><th scope=col>Limo</th><th scope=col>Arcilla</th><th scope=col>lista_textura</th><th scope=col>Grupo</th><th scope=col>Nom_textura</th><th scope=col>DA_T_M3</th></tr>\n",
       "\t<tr><th></th><th scope=col>&lt;int&gt;</th><th scope=col>&lt;int&gt;</th><th scope=col>&lt;int&gt;</th><th scope=col>&lt;dbl&gt;</th><th scope=col>&lt;dbl&gt;</th><th scope=col>&lt;dbl&gt;</th><th scope=col>&lt;dbl&gt;</th><th scope=col>&lt;dbl&gt;</th><th scope=col>&lt;dbl&gt;</th><th scope=col>&lt;dbl&gt;</th><th scope=col>⋯</th><th scope=col>&lt;dbl&gt;</th><th scope=col>&lt;dbl&gt;</th><th scope=col>&lt;dbl&gt;</th><th scope=col>&lt;dbl&gt;</th><th scope=col>&lt;dbl&gt;</th><th scope=col>&lt;dbl&gt;</th><th scope=col>&lt;chr&gt;</th><th scope=col>&lt;chr&gt;</th><th scope=col>&lt;chr&gt;</th><th scope=col>&lt;dbl&gt;</th></tr>\n",
       "</thead>\n",
       "<tbody>\n",
       "\t<tr><th scope=row>1</th><td>1</td><td>512538</td><td>9056311</td><td>4.32</td><td>1.20</td><td>1.48</td><td>0.07</td><td>27.91</td><td>0.21</td><td>0.26</td><td>⋯</td><td>2.38</td><td>0.48</td><td>79.69</td><td>62.9</td><td>16.16</td><td>20.94</td><td>SaClLo</td><td>Moderadamente fina</td><td>Franco arcillo arenoso</td><td>1.45</td></tr>\n",
       "\t<tr><th scope=row>2</th><td>2</td><td>512126</td><td>9057087</td><td>5.00</td><td>0.13</td><td>2.29</td><td>0.11</td><td> 2.28</td><td>0.18</td><td>1.67</td><td>⋯</td><td>3.77</td><td>2.67</td><td>29.14</td><td>54.9</td><td>20.16</td><td>24.94</td><td>SaClLo</td><td>Moderadamente fina</td><td>Franco arcillo arenoso</td><td>1.45</td></tr>\n",
       "\t<tr><th scope=row>3</th><td>3</td><td>512766</td><td>9056489</td><td>4.58</td><td>0.16</td><td>1.61</td><td>0.08</td><td> 3.68</td><td>0.16</td><td>0.17</td><td>⋯</td><td>2.47</td><td>0.37</td><td>85.09</td><td>62.9</td><td>16.16</td><td>20.94</td><td>SaClLo</td><td>Moderadamente fina</td><td>Franco arcillo arenoso</td><td>1.45</td></tr>\n",
       "\t<tr><th scope=row>4</th><td>4</td><td>513263</td><td>9055598</td><td>4.55</td><td>0.10</td><td>2.15</td><td>0.11</td><td> 2.92</td><td>0.12</td><td>1.48</td><td>⋯</td><td>5.08</td><td>1.98</td><td>60.97</td><td>36.9</td><td>32.16</td><td>30.94</td><td>ClLo  </td><td>Moderadamente fina</td><td>Franco arcilloso      </td><td>1.30</td></tr>\n",
       "</tbody>\n",
       "</table>\n"
      ],
      "text/latex": [
       "A data.frame: 4 × 22\n",
       "\\begin{tabular}{r|lllllllllllllllllllll}\n",
       "  & ID & ESTE & NORTE & pH & CE & MO & N & P & K & Ca & ⋯ & CICe & BT & SAl & Arena & Limo & Arcilla & lista\\_textura & Grupo & Nom\\_textura & DA\\_T\\_M3\\\\\n",
       "  & <int> & <int> & <int> & <dbl> & <dbl> & <dbl> & <dbl> & <dbl> & <dbl> & <dbl> & ⋯ & <dbl> & <dbl> & <dbl> & <dbl> & <dbl> & <dbl> & <chr> & <chr> & <chr> & <dbl>\\\\\n",
       "\\hline\n",
       "\t1 & 1 & 512538 & 9056311 & 4.32 & 1.20 & 1.48 & 0.07 & 27.91 & 0.21 & 0.26 & ⋯ & 2.38 & 0.48 & 79.69 & 62.9 & 16.16 & 20.94 & SaClLo & Moderadamente fina & Franco arcillo arenoso & 1.45\\\\\n",
       "\t2 & 2 & 512126 & 9057087 & 5.00 & 0.13 & 2.29 & 0.11 &  2.28 & 0.18 & 1.67 & ⋯ & 3.77 & 2.67 & 29.14 & 54.9 & 20.16 & 24.94 & SaClLo & Moderadamente fina & Franco arcillo arenoso & 1.45\\\\\n",
       "\t3 & 3 & 512766 & 9056489 & 4.58 & 0.16 & 1.61 & 0.08 &  3.68 & 0.16 & 0.17 & ⋯ & 2.47 & 0.37 & 85.09 & 62.9 & 16.16 & 20.94 & SaClLo & Moderadamente fina & Franco arcillo arenoso & 1.45\\\\\n",
       "\t4 & 4 & 513263 & 9055598 & 4.55 & 0.10 & 2.15 & 0.11 &  2.92 & 0.12 & 1.48 & ⋯ & 5.08 & 1.98 & 60.97 & 36.9 & 32.16 & 30.94 & ClLo   & Moderadamente fina & Franco arcilloso       & 1.30\\\\\n",
       "\\end{tabular}\n"
      ],
      "text/markdown": [
       "\n",
       "A data.frame: 4 × 22\n",
       "\n",
       "| <!--/--> | ID &lt;int&gt; | ESTE &lt;int&gt; | NORTE &lt;int&gt; | pH &lt;dbl&gt; | CE &lt;dbl&gt; | MO &lt;dbl&gt; | N &lt;dbl&gt; | P &lt;dbl&gt; | K &lt;dbl&gt; | Ca &lt;dbl&gt; | ⋯ ⋯ | CICe &lt;dbl&gt; | BT &lt;dbl&gt; | SAl &lt;dbl&gt; | Arena &lt;dbl&gt; | Limo &lt;dbl&gt; | Arcilla &lt;dbl&gt; | lista_textura &lt;chr&gt; | Grupo &lt;chr&gt; | Nom_textura &lt;chr&gt; | DA_T_M3 &lt;dbl&gt; |\n",
       "|---|---|---|---|---|---|---|---|---|---|---|---|---|---|---|---|---|---|---|---|---|---|\n",
       "| 1 | 1 | 512538 | 9056311 | 4.32 | 1.20 | 1.48 | 0.07 | 27.91 | 0.21 | 0.26 | ⋯ | 2.38 | 0.48 | 79.69 | 62.9 | 16.16 | 20.94 | SaClLo | Moderadamente fina | Franco arcillo arenoso | 1.45 |\n",
       "| 2 | 2 | 512126 | 9057087 | 5.00 | 0.13 | 2.29 | 0.11 |  2.28 | 0.18 | 1.67 | ⋯ | 3.77 | 2.67 | 29.14 | 54.9 | 20.16 | 24.94 | SaClLo | Moderadamente fina | Franco arcillo arenoso | 1.45 |\n",
       "| 3 | 3 | 512766 | 9056489 | 4.58 | 0.16 | 1.61 | 0.08 |  3.68 | 0.16 | 0.17 | ⋯ | 2.47 | 0.37 | 85.09 | 62.9 | 16.16 | 20.94 | SaClLo | Moderadamente fina | Franco arcillo arenoso | 1.45 |\n",
       "| 4 | 4 | 513263 | 9055598 | 4.55 | 0.10 | 2.15 | 0.11 |  2.92 | 0.12 | 1.48 | ⋯ | 5.08 | 1.98 | 60.97 | 36.9 | 32.16 | 30.94 | ClLo   | Moderadamente fina | Franco arcilloso       | 1.30 |\n",
       "\n"
      ],
      "text/plain": [
       "  ID ESTE   NORTE   pH   CE   MO   N    P     K    Ca   ⋯ CICe BT   SAl   Arena\n",
       "1 1  512538 9056311 4.32 1.20 1.48 0.07 27.91 0.21 0.26 ⋯ 2.38 0.48 79.69 62.9 \n",
       "2 2  512126 9057087 5.00 0.13 2.29 0.11  2.28 0.18 1.67 ⋯ 3.77 2.67 29.14 54.9 \n",
       "3 3  512766 9056489 4.58 0.16 1.61 0.08  3.68 0.16 0.17 ⋯ 2.47 0.37 85.09 62.9 \n",
       "4 4  513263 9055598 4.55 0.10 2.15 0.11  2.92 0.12 1.48 ⋯ 5.08 1.98 60.97 36.9 \n",
       "  Limo  Arcilla lista_textura Grupo              Nom_textura            DA_T_M3\n",
       "1 16.16 20.94   SaClLo        Moderadamente fina Franco arcillo arenoso 1.45   \n",
       "2 20.16 24.94   SaClLo        Moderadamente fina Franco arcillo arenoso 1.45   \n",
       "3 16.16 20.94   SaClLo        Moderadamente fina Franco arcillo arenoso 1.45   \n",
       "4 32.16 30.94   ClLo          Moderadamente fina Franco arcilloso       1.30   "
      ]
     },
     "metadata": {},
     "output_type": "display_data"
    }
   ],
   "source": [
    "# Mostrar el dataframe resultante\n",
    "head(DF_R2,4)"
   ]
  },
  {
   "cell_type": "markdown",
   "id": "ca2a746a-ab1d-428b-b4f0-1046181eae86",
   "metadata": {},
   "source": [
    "## Determinar el Peso de la Capa Arable (PCA)\n",
    "Estimada para una hectárea y profundidad de 0.2 metros del muestreo del suelo."
   ]
  },
  {
   "cell_type": "markdown",
   "id": "da0cf028-9483-4fa2-be62-32d75a4d96e7",
   "metadata": {},
   "source": [
    "<img src=\"Image/PCA.jpg\" width=\"650\" heigth=\"280\">"
   ]
  },
  {
   "cell_type": "code",
   "execution_count": 19,
   "id": "11757e2c-aa64-4939-a2fa-f8af7b12293e",
   "metadata": {},
   "outputs": [],
   "source": [
    "# Determinacion del peso de la capa arable\n",
    "DF_R2$Peso_C_A <- 10000 * DF_R2$DA_T_M3 * 0.2"
   ]
  },
  {
   "cell_type": "code",
   "execution_count": 20,
   "id": "c4f77e69-7248-4e3c-8fad-c1634578c802",
   "metadata": {},
   "outputs": [
    {
     "data": {
      "text/html": [
       "<table class=\"dataframe\">\n",
       "<caption>A data.frame: 4 × 23</caption>\n",
       "<thead>\n",
       "\t<tr><th></th><th scope=col>ID</th><th scope=col>ESTE</th><th scope=col>NORTE</th><th scope=col>pH</th><th scope=col>CE</th><th scope=col>MO</th><th scope=col>N</th><th scope=col>P</th><th scope=col>K</th><th scope=col>Ca</th><th scope=col>⋯</th><th scope=col>BT</th><th scope=col>SAl</th><th scope=col>Arena</th><th scope=col>Limo</th><th scope=col>Arcilla</th><th scope=col>lista_textura</th><th scope=col>Grupo</th><th scope=col>Nom_textura</th><th scope=col>DA_T_M3</th><th scope=col>Peso_C_A</th></tr>\n",
       "\t<tr><th></th><th scope=col>&lt;int&gt;</th><th scope=col>&lt;int&gt;</th><th scope=col>&lt;int&gt;</th><th scope=col>&lt;dbl&gt;</th><th scope=col>&lt;dbl&gt;</th><th scope=col>&lt;dbl&gt;</th><th scope=col>&lt;dbl&gt;</th><th scope=col>&lt;dbl&gt;</th><th scope=col>&lt;dbl&gt;</th><th scope=col>&lt;dbl&gt;</th><th scope=col>⋯</th><th scope=col>&lt;dbl&gt;</th><th scope=col>&lt;dbl&gt;</th><th scope=col>&lt;dbl&gt;</th><th scope=col>&lt;dbl&gt;</th><th scope=col>&lt;dbl&gt;</th><th scope=col>&lt;chr&gt;</th><th scope=col>&lt;chr&gt;</th><th scope=col>&lt;chr&gt;</th><th scope=col>&lt;dbl&gt;</th><th scope=col>&lt;dbl&gt;</th></tr>\n",
       "</thead>\n",
       "<tbody>\n",
       "\t<tr><th scope=row>1</th><td>1</td><td>512538</td><td>9056311</td><td>4.32</td><td>1.20</td><td>1.48</td><td>0.07</td><td>27.91</td><td>0.21</td><td>0.26</td><td>⋯</td><td>0.48</td><td>79.69</td><td>62.9</td><td>16.16</td><td>20.94</td><td>SaClLo</td><td>Moderadamente fina</td><td>Franco arcillo arenoso</td><td>1.45</td><td>2900</td></tr>\n",
       "\t<tr><th scope=row>2</th><td>2</td><td>512126</td><td>9057087</td><td>5.00</td><td>0.13</td><td>2.29</td><td>0.11</td><td> 2.28</td><td>0.18</td><td>1.67</td><td>⋯</td><td>2.67</td><td>29.14</td><td>54.9</td><td>20.16</td><td>24.94</td><td>SaClLo</td><td>Moderadamente fina</td><td>Franco arcillo arenoso</td><td>1.45</td><td>2900</td></tr>\n",
       "\t<tr><th scope=row>3</th><td>3</td><td>512766</td><td>9056489</td><td>4.58</td><td>0.16</td><td>1.61</td><td>0.08</td><td> 3.68</td><td>0.16</td><td>0.17</td><td>⋯</td><td>0.37</td><td>85.09</td><td>62.9</td><td>16.16</td><td>20.94</td><td>SaClLo</td><td>Moderadamente fina</td><td>Franco arcillo arenoso</td><td>1.45</td><td>2900</td></tr>\n",
       "\t<tr><th scope=row>4</th><td>4</td><td>513263</td><td>9055598</td><td>4.55</td><td>0.10</td><td>2.15</td><td>0.11</td><td> 2.92</td><td>0.12</td><td>1.48</td><td>⋯</td><td>1.98</td><td>60.97</td><td>36.9</td><td>32.16</td><td>30.94</td><td>ClLo  </td><td>Moderadamente fina</td><td>Franco arcilloso      </td><td>1.30</td><td>2600</td></tr>\n",
       "</tbody>\n",
       "</table>\n"
      ],
      "text/latex": [
       "A data.frame: 4 × 23\n",
       "\\begin{tabular}{r|lllllllllllllllllllll}\n",
       "  & ID & ESTE & NORTE & pH & CE & MO & N & P & K & Ca & ⋯ & BT & SAl & Arena & Limo & Arcilla & lista\\_textura & Grupo & Nom\\_textura & DA\\_T\\_M3 & Peso\\_C\\_A\\\\\n",
       "  & <int> & <int> & <int> & <dbl> & <dbl> & <dbl> & <dbl> & <dbl> & <dbl> & <dbl> & ⋯ & <dbl> & <dbl> & <dbl> & <dbl> & <dbl> & <chr> & <chr> & <chr> & <dbl> & <dbl>\\\\\n",
       "\\hline\n",
       "\t1 & 1 & 512538 & 9056311 & 4.32 & 1.20 & 1.48 & 0.07 & 27.91 & 0.21 & 0.26 & ⋯ & 0.48 & 79.69 & 62.9 & 16.16 & 20.94 & SaClLo & Moderadamente fina & Franco arcillo arenoso & 1.45 & 2900\\\\\n",
       "\t2 & 2 & 512126 & 9057087 & 5.00 & 0.13 & 2.29 & 0.11 &  2.28 & 0.18 & 1.67 & ⋯ & 2.67 & 29.14 & 54.9 & 20.16 & 24.94 & SaClLo & Moderadamente fina & Franco arcillo arenoso & 1.45 & 2900\\\\\n",
       "\t3 & 3 & 512766 & 9056489 & 4.58 & 0.16 & 1.61 & 0.08 &  3.68 & 0.16 & 0.17 & ⋯ & 0.37 & 85.09 & 62.9 & 16.16 & 20.94 & SaClLo & Moderadamente fina & Franco arcillo arenoso & 1.45 & 2900\\\\\n",
       "\t4 & 4 & 513263 & 9055598 & 4.55 & 0.10 & 2.15 & 0.11 &  2.92 & 0.12 & 1.48 & ⋯ & 1.98 & 60.97 & 36.9 & 32.16 & 30.94 & ClLo   & Moderadamente fina & Franco arcilloso       & 1.30 & 2600\\\\\n",
       "\\end{tabular}\n"
      ],
      "text/markdown": [
       "\n",
       "A data.frame: 4 × 23\n",
       "\n",
       "| <!--/--> | ID &lt;int&gt; | ESTE &lt;int&gt; | NORTE &lt;int&gt; | pH &lt;dbl&gt; | CE &lt;dbl&gt; | MO &lt;dbl&gt; | N &lt;dbl&gt; | P &lt;dbl&gt; | K &lt;dbl&gt; | Ca &lt;dbl&gt; | ⋯ ⋯ | BT &lt;dbl&gt; | SAl &lt;dbl&gt; | Arena &lt;dbl&gt; | Limo &lt;dbl&gt; | Arcilla &lt;dbl&gt; | lista_textura &lt;chr&gt; | Grupo &lt;chr&gt; | Nom_textura &lt;chr&gt; | DA_T_M3 &lt;dbl&gt; | Peso_C_A &lt;dbl&gt; |\n",
       "|---|---|---|---|---|---|---|---|---|---|---|---|---|---|---|---|---|---|---|---|---|---|\n",
       "| 1 | 1 | 512538 | 9056311 | 4.32 | 1.20 | 1.48 | 0.07 | 27.91 | 0.21 | 0.26 | ⋯ | 0.48 | 79.69 | 62.9 | 16.16 | 20.94 | SaClLo | Moderadamente fina | Franco arcillo arenoso | 1.45 | 2900 |\n",
       "| 2 | 2 | 512126 | 9057087 | 5.00 | 0.13 | 2.29 | 0.11 |  2.28 | 0.18 | 1.67 | ⋯ | 2.67 | 29.14 | 54.9 | 20.16 | 24.94 | SaClLo | Moderadamente fina | Franco arcillo arenoso | 1.45 | 2900 |\n",
       "| 3 | 3 | 512766 | 9056489 | 4.58 | 0.16 | 1.61 | 0.08 |  3.68 | 0.16 | 0.17 | ⋯ | 0.37 | 85.09 | 62.9 | 16.16 | 20.94 | SaClLo | Moderadamente fina | Franco arcillo arenoso | 1.45 | 2900 |\n",
       "| 4 | 4 | 513263 | 9055598 | 4.55 | 0.10 | 2.15 | 0.11 |  2.92 | 0.12 | 1.48 | ⋯ | 1.98 | 60.97 | 36.9 | 32.16 | 30.94 | ClLo   | Moderadamente fina | Franco arcilloso       | 1.30 | 2600 |\n",
       "\n"
      ],
      "text/plain": [
       "  ID ESTE   NORTE   pH   CE   MO   N    P     K    Ca   ⋯ BT   SAl   Arena\n",
       "1 1  512538 9056311 4.32 1.20 1.48 0.07 27.91 0.21 0.26 ⋯ 0.48 79.69 62.9 \n",
       "2 2  512126 9057087 5.00 0.13 2.29 0.11  2.28 0.18 1.67 ⋯ 2.67 29.14 54.9 \n",
       "3 3  512766 9056489 4.58 0.16 1.61 0.08  3.68 0.16 0.17 ⋯ 0.37 85.09 62.9 \n",
       "4 4  513263 9055598 4.55 0.10 2.15 0.11  2.92 0.12 1.48 ⋯ 1.98 60.97 36.9 \n",
       "  Limo  Arcilla lista_textura Grupo              Nom_textura            DA_T_M3\n",
       "1 16.16 20.94   SaClLo        Moderadamente fina Franco arcillo arenoso 1.45   \n",
       "2 20.16 24.94   SaClLo        Moderadamente fina Franco arcillo arenoso 1.45   \n",
       "3 16.16 20.94   SaClLo        Moderadamente fina Franco arcillo arenoso 1.45   \n",
       "4 32.16 30.94   ClLo          Moderadamente fina Franco arcilloso       1.30   \n",
       "  Peso_C_A\n",
       "1 2900    \n",
       "2 2900    \n",
       "3 2900    \n",
       "4 2600    "
      ]
     },
     "metadata": {},
     "output_type": "display_data"
    }
   ],
   "source": [
    "# Mostrar el dataframe resultante\n",
    "head(DF_R2,4)"
   ]
  },
  {
   "cell_type": "code",
   "execution_count": 21,
   "id": "1e0c712a-4fae-4395-b9ca-218bc5df67f3",
   "metadata": {},
   "outputs": [],
   "source": [
    "# Cambiar ruta de exportacion\n",
    "setwd(r\"(E:\\RStudio\\01_Interpretacion_Analisis_Fertilidad_Suelo\\Datos\\Resultados)\")"
   ]
  },
  {
   "cell_type": "code",
   "execution_count": 22,
   "id": "bed4f1c7-d889-474e-9e79-54ab96f37bb5",
   "metadata": {},
   "outputs": [],
   "source": [
    "write.csv(DF_R2, \"01_Datos_suelo_CAP.csv\")"
   ]
  },
  {
   "cell_type": "code",
   "execution_count": null,
   "id": "d007ba5c-281b-466c-8b0c-e183c3e6e294",
   "metadata": {},
   "outputs": [],
   "source": []
  }
 ],
 "metadata": {
  "kernelspec": {
   "display_name": "R",
   "language": "R",
   "name": "ir"
  },
  "language_info": {
   "codemirror_mode": "r",
   "file_extension": ".r",
   "mimetype": "text/x-r-source",
   "name": "R",
   "pygments_lexer": "r",
   "version": "4.3.3"
  }
 },
 "nbformat": 4,
 "nbformat_minor": 5
}
