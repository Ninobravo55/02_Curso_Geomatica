{
 "cells": [
  {
   "cell_type": "markdown",
   "id": "31d9a3f2-b80a-4de6-9fe8-3860920198ce",
   "metadata": {},
   "source": [
    "# Descarga de imagenes de Satelite Sentinel2"
   ]
  },
  {
   "cell_type": "code",
   "execution_count": 1,
   "id": "8e5caef4-a0bd-4be9-bdde-d7562bb62944",
   "metadata": {},
   "outputs": [],
   "source": [
    "import ee"
   ]
  },
  {
   "cell_type": "code",
   "execution_count": 1,
   "id": "9ada7421-01ef-4a24-adb4-884f7c6466b3",
   "metadata": {},
   "outputs": [],
   "source": [
    "#ee.Authenticate()"
   ]
  },
  {
   "cell_type": "code",
   "execution_count": 3,
   "id": "c743de6a-d036-410e-9e59-2f5736f65145",
   "metadata": {
    "tags": []
   },
   "outputs": [],
   "source": [
    "import ee\n",
    "import geemap\n",
    "import pandas as pd\n",
    "ee.Initialize()"
   ]
  },
  {
   "cell_type": "code",
   "execution_count": 4,
   "id": "56f6c9df-45b0-428c-ab66-dcfde00d80f4",
   "metadata": {
    "tags": []
   },
   "outputs": [
    {
     "data": {
      "text/html": [
       "\n",
       "            <style>\n",
       "                .geemap-dark {\n",
       "                    --jp-widgets-color: white;\n",
       "                    --jp-widgets-label-color: white;\n",
       "                    --jp-ui-font-color1: white;\n",
       "                    --jp-layout-color2: #454545;\n",
       "                    background-color: #383838;\n",
       "                }\n",
       "\n",
       "                .geemap-dark .jupyter-button {\n",
       "                    --jp-layout-color3: #383838;\n",
       "                }\n",
       "\n",
       "                .geemap-colab {\n",
       "                    background-color: var(--colab-primary-surface-color, white);\n",
       "                }\n",
       "\n",
       "                .geemap-colab .jupyter-button {\n",
       "                    --jp-layout-color3: var(--colab-primary-surface-color, white);\n",
       "                }\n",
       "            </style>\n",
       "            "
      ],
      "text/plain": [
       "<IPython.core.display.HTML object>"
      ]
     },
     "metadata": {},
     "output_type": "display_data"
    }
   ],
   "source": [
    "#!pip install jupyter notebook"
   ]
  },
  {
   "cell_type": "code",
   "execution_count": 5,
   "id": "1345e3ef-a245-4010-9e73-39da26531f74",
   "metadata": {
    "tags": []
   },
   "outputs": [
    {
     "data": {
      "text/html": [
       "\n",
       "            <style>\n",
       "                .geemap-dark {\n",
       "                    --jp-widgets-color: white;\n",
       "                    --jp-widgets-label-color: white;\n",
       "                    --jp-ui-font-color1: white;\n",
       "                    --jp-layout-color2: #454545;\n",
       "                    background-color: #383838;\n",
       "                }\n",
       "\n",
       "                .geemap-dark .jupyter-button {\n",
       "                    --jp-layout-color3: #383838;\n",
       "                }\n",
       "\n",
       "                .geemap-colab {\n",
       "                    background-color: var(--colab-primary-surface-color, white);\n",
       "                }\n",
       "\n",
       "                .geemap-colab .jupyter-button {\n",
       "                    --jp-layout-color3: var(--colab-primary-surface-color, white);\n",
       "                }\n",
       "            </style>\n",
       "            "
      ],
      "text/plain": [
       "<IPython.core.display.HTML object>"
      ]
     },
     "metadata": {},
     "output_type": "display_data"
    },
    {
     "data": {
      "application/vnd.jupyter.widget-view+json": {
       "model_id": "33b001fec73f46469b58306dff1d405c",
       "version_major": 2,
       "version_minor": 0
      },
      "text/plain": [
       "Map(center=[0, 0], controls=(WidgetControl(options=['position', 'transparent_bg'], widget=SearchDataGUI(childr…"
      ]
     },
     "execution_count": 5,
     "metadata": {},
     "output_type": "execute_result"
    }
   ],
   "source": [
    "Map = geemap.Map(basemap='Esri.WorldImagery')\n",
    "Map"
   ]
  },
  {
   "cell_type": "code",
   "execution_count": 6,
   "id": "1ddbfd51-8a30-4ec1-87b2-d324fb727d67",
   "metadata": {
    "tags": []
   },
   "outputs": [
    {
     "data": {
      "text/html": [
       "\n",
       "            <style>\n",
       "                .geemap-dark {\n",
       "                    --jp-widgets-color: white;\n",
       "                    --jp-widgets-label-color: white;\n",
       "                    --jp-ui-font-color1: white;\n",
       "                    --jp-layout-color2: #454545;\n",
       "                    background-color: #383838;\n",
       "                }\n",
       "\n",
       "                .geemap-dark .jupyter-button {\n",
       "                    --jp-layout-color3: #383838;\n",
       "                }\n",
       "\n",
       "                .geemap-colab {\n",
       "                    background-color: var(--colab-primary-surface-color, white);\n",
       "                }\n",
       "\n",
       "                .geemap-colab .jupyter-button {\n",
       "                    --jp-layout-color3: var(--colab-primary-surface-color, white);\n",
       "                }\n",
       "            </style>\n",
       "            "
      ],
      "text/plain": [
       "<IPython.core.display.HTML object>"
      ]
     },
     "metadata": {},
     "output_type": "display_data"
    }
   ],
   "source": [
    "zona = ee.FeatureCollection(\"projects/ee-geomatica/assets/EEA_INIA/Zona_EEA_Geo\")"
   ]
  },
  {
   "cell_type": "code",
   "execution_count": 7,
   "id": "eec6c1df-b549-4491-ba49-bf551223c2f7",
   "metadata": {
    "tags": []
   },
   "outputs": [
    {
     "data": {
      "text/html": [
       "\n",
       "            <style>\n",
       "                .geemap-dark {\n",
       "                    --jp-widgets-color: white;\n",
       "                    --jp-widgets-label-color: white;\n",
       "                    --jp-ui-font-color1: white;\n",
       "                    --jp-layout-color2: #454545;\n",
       "                    background-color: #383838;\n",
       "                }\n",
       "\n",
       "                .geemap-dark .jupyter-button {\n",
       "                    --jp-layout-color3: #383838;\n",
       "                }\n",
       "\n",
       "                .geemap-colab {\n",
       "                    background-color: var(--colab-primary-surface-color, white);\n",
       "                }\n",
       "\n",
       "                .geemap-colab .jupyter-button {\n",
       "                    --jp-layout-color3: var(--colab-primary-surface-color, white);\n",
       "                }\n",
       "            </style>\n",
       "            "
      ],
      "text/plain": [
       "<IPython.core.display.HTML object>"
      ]
     },
     "metadata": {},
     "output_type": "display_data"
    },
    {
     "name": "stdout",
     "output_type": "stream",
     "text": [
      "['DONOSO', 'EL PORVENIR', 'PUCALLPA', 'SANTA ANA']\n"
     ]
    }
   ],
   "source": [
    "# Extraer la lista de paises\n",
    "lista_EEA = zona.reduceColumns(ee.Reducer.toList(),[\"EEA\"]).get(\"list\").getInfo()\n",
    "print(lista_EEA)"
   ]
  },
  {
   "cell_type": "code",
   "execution_count": 8,
   "id": "bd132490-4440-42c1-9969-ef54b1464f22",
   "metadata": {
    "tags": []
   },
   "outputs": [
    {
     "data": {
      "text/html": [
       "\n",
       "            <style>\n",
       "                .geemap-dark {\n",
       "                    --jp-widgets-color: white;\n",
       "                    --jp-widgets-label-color: white;\n",
       "                    --jp-ui-font-color1: white;\n",
       "                    --jp-layout-color2: #454545;\n",
       "                    background-color: #383838;\n",
       "                }\n",
       "\n",
       "                .geemap-dark .jupyter-button {\n",
       "                    --jp-layout-color3: #383838;\n",
       "                }\n",
       "\n",
       "                .geemap-colab {\n",
       "                    background-color: var(--colab-primary-surface-color, white);\n",
       "                }\n",
       "\n",
       "                .geemap-colab .jupyter-button {\n",
       "                    --jp-layout-color3: var(--colab-primary-surface-color, white);\n",
       "                }\n",
       "            </style>\n",
       "            "
      ],
      "text/plain": [
       "<IPython.core.display.HTML object>"
      ]
     },
     "metadata": {},
     "output_type": "display_data"
    },
    {
     "data": {
      "text/plain": [
       "'SANTA ANA'"
      ]
     },
     "execution_count": 8,
     "metadata": {},
     "output_type": "execute_result"
    }
   ],
   "source": [
    "Selec_EEA = lista_EEA[3]\n",
    "Selec_EEA"
   ]
  },
  {
   "cell_type": "code",
   "execution_count": 9,
   "id": "2b14b0d2-d54a-4729-adfd-6666dccbeb15",
   "metadata": {
    "tags": []
   },
   "outputs": [
    {
     "data": {
      "text/html": [
       "\n",
       "            <style>\n",
       "                .geemap-dark {\n",
       "                    --jp-widgets-color: white;\n",
       "                    --jp-widgets-label-color: white;\n",
       "                    --jp-ui-font-color1: white;\n",
       "                    --jp-layout-color2: #454545;\n",
       "                    background-color: #383838;\n",
       "                }\n",
       "\n",
       "                .geemap-dark .jupyter-button {\n",
       "                    --jp-layout-color3: #383838;\n",
       "                }\n",
       "\n",
       "                .geemap-colab {\n",
       "                    background-color: var(--colab-primary-surface-color, white);\n",
       "                }\n",
       "\n",
       "                .geemap-colab .jupyter-button {\n",
       "                    --jp-layout-color3: var(--colab-primary-surface-color, white);\n",
       "                }\n",
       "            </style>\n",
       "            "
      ],
      "text/plain": [
       "<IPython.core.display.HTML object>"
      ]
     },
     "metadata": {},
     "output_type": "display_data"
    }
   ],
   "source": [
    "EEA = zona.filterMetadata('EEA', 'equals', Selec_EEA)"
   ]
  },
  {
   "cell_type": "code",
   "execution_count": 10,
   "id": "18d7d2e7-62b5-49b2-ba33-7feb5433dcb7",
   "metadata": {
    "tags": []
   },
   "outputs": [
    {
     "data": {
      "text/html": [
       "\n",
       "            <style>\n",
       "                .geemap-dark {\n",
       "                    --jp-widgets-color: white;\n",
       "                    --jp-widgets-label-color: white;\n",
       "                    --jp-ui-font-color1: white;\n",
       "                    --jp-layout-color2: #454545;\n",
       "                    background-color: #383838;\n",
       "                }\n",
       "\n",
       "                .geemap-dark .jupyter-button {\n",
       "                    --jp-layout-color3: #383838;\n",
       "                }\n",
       "\n",
       "                .geemap-colab {\n",
       "                    background-color: var(--colab-primary-surface-color, white);\n",
       "                }\n",
       "\n",
       "                .geemap-colab .jupyter-button {\n",
       "                    --jp-layout-color3: var(--colab-primary-surface-color, white);\n",
       "                }\n",
       "            </style>\n",
       "            "
      ],
      "text/plain": [
       "<IPython.core.display.HTML object>"
      ]
     },
     "metadata": {},
     "output_type": "display_data"
    }
   ],
   "source": [
    "geometria = EEA.geometry()"
   ]
  },
  {
   "cell_type": "code",
   "execution_count": 11,
   "id": "8389bf25-43d1-4945-a464-5be7f092c71e",
   "metadata": {
    "tags": []
   },
   "outputs": [
    {
     "data": {
      "text/html": [
       "\n",
       "            <style>\n",
       "                .geemap-dark {\n",
       "                    --jp-widgets-color: white;\n",
       "                    --jp-widgets-label-color: white;\n",
       "                    --jp-ui-font-color1: white;\n",
       "                    --jp-layout-color2: #454545;\n",
       "                    background-color: #383838;\n",
       "                }\n",
       "\n",
       "                .geemap-dark .jupyter-button {\n",
       "                    --jp-layout-color3: #383838;\n",
       "                }\n",
       "\n",
       "                .geemap-colab {\n",
       "                    background-color: var(--colab-primary-surface-color, white);\n",
       "                }\n",
       "\n",
       "                .geemap-colab .jupyter-button {\n",
       "                    --jp-layout-color3: var(--colab-primary-surface-color, white);\n",
       "                }\n",
       "            </style>\n",
       "            "
      ],
      "text/plain": [
       "<IPython.core.display.HTML object>"
      ]
     },
     "metadata": {},
     "output_type": "display_data"
    },
    {
     "data": {
      "application/vnd.jupyter.widget-view+json": {
       "model_id": "33b001fec73f46469b58306dff1d405c",
       "version_major": 2,
       "version_minor": 0
      },
      "text/plain": [
       "Map(bottom=812.0, center=[-12.012035762649006, -75.2214429775274], controls=(WidgetControl(options=['position'…"
      ]
     },
     "execution_count": 11,
     "metadata": {},
     "output_type": "execute_result"
    }
   ],
   "source": [
    "# Visualizar en mapa\n",
    "Map.center_object(EEA,13)\n",
    "Map.addLayer(EEA, {\"color\" : \"green\"}, \"EEA_\" + Selec_EEA)\n",
    "Map"
   ]
  },
  {
   "cell_type": "code",
   "execution_count": 12,
   "id": "57a4c012-0241-471c-9fff-6f5d05182913",
   "metadata": {
    "tags": []
   },
   "outputs": [
    {
     "data": {
      "text/html": [
       "\n",
       "            <style>\n",
       "                .geemap-dark {\n",
       "                    --jp-widgets-color: white;\n",
       "                    --jp-widgets-label-color: white;\n",
       "                    --jp-ui-font-color1: white;\n",
       "                    --jp-layout-color2: #454545;\n",
       "                    background-color: #383838;\n",
       "                }\n",
       "\n",
       "                .geemap-dark .jupyter-button {\n",
       "                    --jp-layout-color3: #383838;\n",
       "                }\n",
       "\n",
       "                .geemap-colab {\n",
       "                    background-color: var(--colab-primary-surface-color, white);\n",
       "                }\n",
       "\n",
       "                .geemap-colab .jupyter-button {\n",
       "                    --jp-layout-color3: var(--colab-primary-surface-color, white);\n",
       "                }\n",
       "            </style>\n",
       "            "
      ],
      "text/plain": [
       "<IPython.core.display.HTML object>"
      ]
     },
     "metadata": {},
     "output_type": "display_data"
    }
   ],
   "source": [
    "# Coleccion de Sentinel-2 SR\n",
    "S2_RS = ee.ImageCollection(\"COPERNICUS/S2_SR_HARMONIZED\")\\\n",
    "          .filterDate('2022-04-01','2022-12-31')\\\n",
    "          .filterMetadata('CLOUDY_PIXEL_PERCENTAGE','less_than',10)\\\n",
    "          .filterBounds(EEA)\\\n",
    "         .sort('CLOUDY_PIXEL_PERCENTAGE', True)"
   ]
  },
  {
   "cell_type": "code",
   "execution_count": 13,
   "id": "4dc560a5-45ab-47dc-b855-40b108506af3",
   "metadata": {
    "tags": []
   },
   "outputs": [
    {
     "data": {
      "text/html": [
       "\n",
       "            <style>\n",
       "                .geemap-dark {\n",
       "                    --jp-widgets-color: white;\n",
       "                    --jp-widgets-label-color: white;\n",
       "                    --jp-ui-font-color1: white;\n",
       "                    --jp-layout-color2: #454545;\n",
       "                    background-color: #383838;\n",
       "                }\n",
       "\n",
       "                .geemap-dark .jupyter-button {\n",
       "                    --jp-layout-color3: #383838;\n",
       "                }\n",
       "\n",
       "                .geemap-colab {\n",
       "                    background-color: var(--colab-primary-surface-color, white);\n",
       "                }\n",
       "\n",
       "                .geemap-colab .jupyter-button {\n",
       "                    --jp-layout-color3: var(--colab-primary-surface-color, white);\n",
       "                }\n",
       "            </style>\n",
       "            "
      ],
      "text/plain": [
       "<IPython.core.display.HTML object>"
      ]
     },
     "metadata": {},
     "output_type": "display_data"
    }
   ],
   "source": [
    "# Imprimir la lista de ID Imagenes\n",
    "ID_S2 = S2_RS.reduceColumns(ee.Reducer.toList(),[\"system:index\"]).get(\"list\").getInfo()"
   ]
  },
  {
   "cell_type": "code",
   "execution_count": 14,
   "id": "c8b40a4a-9e24-476b-a082-efe2b5791d3c",
   "metadata": {
    "tags": []
   },
   "outputs": [
    {
     "data": {
      "text/html": [
       "\n",
       "            <style>\n",
       "                .geemap-dark {\n",
       "                    --jp-widgets-color: white;\n",
       "                    --jp-widgets-label-color: white;\n",
       "                    --jp-ui-font-color1: white;\n",
       "                    --jp-layout-color2: #454545;\n",
       "                    background-color: #383838;\n",
       "                }\n",
       "\n",
       "                .geemap-dark .jupyter-button {\n",
       "                    --jp-layout-color3: #383838;\n",
       "                }\n",
       "\n",
       "                .geemap-colab {\n",
       "                    background-color: var(--colab-primary-surface-color, white);\n",
       "                }\n",
       "\n",
       "                .geemap-colab .jupyter-button {\n",
       "                    --jp-layout-color3: var(--colab-primary-surface-color, white);\n",
       "                }\n",
       "            </style>\n",
       "            "
      ],
      "text/plain": [
       "<IPython.core.display.HTML object>"
      ]
     },
     "metadata": {},
     "output_type": "display_data"
    },
    {
     "name": "stdout",
     "output_type": "stream",
     "text": [
      "20220729T151709_20220729T152454_T18LVM\n",
      "20220614T151711_20220614T152004_T18LVM\n",
      "20220629T151709_20220629T151709_T18LVM\n",
      "20220818T151709_20220818T152433_T18LVM\n",
      "20220813T151721_20220813T152335_T18LVM\n",
      "20220609T151709_20220609T151713_T18LVM\n",
      "20220823T151721_20220823T152332_T18LVM\n",
      "20220828T151709_20220828T152330_T18LVM\n",
      "20220902T151721_20220902T152331_T18LVM\n",
      "20220724T151711_20220724T152452_T18LVM\n",
      "20220714T151721_20220714T151723_T18LVM\n",
      "20220530T151709_20220530T151704_T18LVM\n",
      "20221201T151701_20221201T152033_T18LVM\n",
      "20220803T151721_20220803T151715_T18LVM\n",
      "20221022T151711_20221022T152231_T18LVM\n",
      "20220912T151711_20220912T152434_T18LVM\n",
      "20221012T151711_20221012T151922_T18LVM\n",
      "20220907T151709_20220907T151918_T18LVM\n",
      "20220520T151709_20220520T151704_T18LVM\n",
      "20221111T151711_20221111T151707_T18LVM\n",
      "20220619T151709_20220619T151708_T18LVM\n"
     ]
    }
   ],
   "source": [
    "for i in ID_S2:\n",
    "    print(i)"
   ]
  },
  {
   "cell_type": "code",
   "execution_count": 15,
   "id": "4d30c39d-aa54-4e80-aada-c2dc2e4cec71",
   "metadata": {
    "tags": []
   },
   "outputs": [
    {
     "data": {
      "text/html": [
       "\n",
       "            <style>\n",
       "                .geemap-dark {\n",
       "                    --jp-widgets-color: white;\n",
       "                    --jp-widgets-label-color: white;\n",
       "                    --jp-ui-font-color1: white;\n",
       "                    --jp-layout-color2: #454545;\n",
       "                    background-color: #383838;\n",
       "                }\n",
       "\n",
       "                .geemap-dark .jupyter-button {\n",
       "                    --jp-layout-color3: #383838;\n",
       "                }\n",
       "\n",
       "                .geemap-colab {\n",
       "                    background-color: var(--colab-primary-surface-color, white);\n",
       "                }\n",
       "\n",
       "                .geemap-colab .jupyter-button {\n",
       "                    --jp-layout-color3: var(--colab-primary-surface-color, white);\n",
       "                }\n",
       "            </style>\n",
       "            "
      ],
      "text/plain": [
       "<IPython.core.display.HTML object>"
      ]
     },
     "metadata": {},
     "output_type": "display_data"
    },
    {
     "data": {
      "text/plain": [
       "21"
      ]
     },
     "execution_count": 15,
     "metadata": {},
     "output_type": "execute_result"
    }
   ],
   "source": [
    "len(ID_S2)"
   ]
  },
  {
   "cell_type": "code",
   "execution_count": 16,
   "id": "b7c8767d-ecd7-42e0-b79e-bb76487f8e54",
   "metadata": {
    "tags": []
   },
   "outputs": [
    {
     "data": {
      "text/html": [
       "\n",
       "            <style>\n",
       "                .geemap-dark {\n",
       "                    --jp-widgets-color: white;\n",
       "                    --jp-widgets-label-color: white;\n",
       "                    --jp-ui-font-color1: white;\n",
       "                    --jp-layout-color2: #454545;\n",
       "                    background-color: #383838;\n",
       "                }\n",
       "\n",
       "                .geemap-dark .jupyter-button {\n",
       "                    --jp-layout-color3: #383838;\n",
       "                }\n",
       "\n",
       "                .geemap-colab {\n",
       "                    background-color: var(--colab-primary-surface-color, white);\n",
       "                }\n",
       "\n",
       "                .geemap-colab .jupyter-button {\n",
       "                    --jp-layout-color3: var(--colab-primary-surface-color, white);\n",
       "                }\n",
       "            </style>\n",
       "            "
      ],
      "text/plain": [
       "<IPython.core.display.HTML object>"
      ]
     },
     "metadata": {},
     "output_type": "display_data"
    }
   ],
   "source": [
    "Fecha_inicio = '2022-04-01'\n",
    "Fecha_final = '2022-12-31'\n",
    "Por_Nubosidad = 10"
   ]
  },
  {
   "cell_type": "code",
   "execution_count": null,
   "id": "de77787e-facb-4111-96c8-516b8e30f353",
   "metadata": {
    "tags": []
   },
   "outputs": [
    {
     "data": {
      "text/html": [
       "\n",
       "            <style>\n",
       "                .geemap-dark {\n",
       "                    --jp-widgets-color: white;\n",
       "                    --jp-widgets-label-color: white;\n",
       "                    --jp-ui-font-color1: white;\n",
       "                    --jp-layout-color2: #454545;\n",
       "                    background-color: #383838;\n",
       "                }\n",
       "\n",
       "                .geemap-dark .jupyter-button {\n",
       "                    --jp-layout-color3: #383838;\n",
       "                }\n",
       "\n",
       "                .geemap-colab {\n",
       "                    background-color: var(--colab-primary-surface-color, white);\n",
       "                }\n",
       "\n",
       "                .geemap-colab .jupyter-button {\n",
       "                    --jp-layout-color3: var(--colab-primary-surface-color, white);\n",
       "                }\n",
       "            </style>\n",
       "            "
      ],
      "text/plain": [
       "<IPython.core.display.HTML object>"
      ]
     },
     "metadata": {},
     "output_type": "display_data"
    },
    {
     "name": "stdout",
     "output_type": "stream",
     "text": [
      "Archivo zip DONOSO_S2_20220503T152639_RS https://earthengine.googleapis.com/v1/projects/earthengine-legacy/thumbnails/4e5724280cbf829c5320066e1f99ad74-c9609248c4bcd9a63f1ffa3a6bde04be:getPixels\n",
      "Archivo zip DONOSO_S2_20220503T152639_RS https://earthengine.googleapis.com/v1/projects/earthengine-legacy/thumbnails/d40a9d24f122fb42a4b5ff008413dc62-2948a035382745827094e853ea0cf5b7:getPixels\n",
      "Archivo zip DONOSO_S2_20220528T152651_RS https://earthengine.googleapis.com/v1/projects/earthengine-legacy/thumbnails/ead725a4115420a8c5652a1c6410262b-0f914e499c3cfdcbfdc7502cccdc7b07:getPixels\n",
      "Archivo zip DONOSO_S2_20221214T152641_RS https://earthengine.googleapis.com/v1/projects/earthengine-legacy/thumbnails/45243a2211c388ad5f41a2f6c80bd932-d4ad13a8a04a74ca2410e9c93514b953:getPixels\n",
      "Archivo zip EL PORVENIR_S2_20220826T152651_RS https://earthengine.googleapis.com/v1/projects/earthengine-legacy/thumbnails/49dd33b1c0dd4a7c6143992e7ca582c5-cd333a5bc0de761d98c6d3ba20ecac3a:getPixels\n",
      "Archivo zip EL PORVENIR_S2_20220821T152639_RS https://earthengine.googleapis.com/v1/projects/earthengine-legacy/thumbnails/0898b61f38ace96fc912760e53e98865-a3d9a01fba0e85e59e02dafd6cd57a6a:getPixels\n",
      "Archivo zip EL PORVENIR_S2_20220816T152651_RS https://earthengine.googleapis.com/v1/projects/earthengine-legacy/thumbnails/b16561a6b39cf58dde99e9746de64180-92adef1bcbe16ef4a1abc3f50f166ee2:getPixels\n",
      "Archivo zip EL PORVENIR_S2_20221104T152641_RS https://earthengine.googleapis.com/v1/projects/earthengine-legacy/thumbnails/af013e13b14056964df4fe764416d57d-b3a0a23a335e26b486ae6a8745130529:getPixels\n",
      "Archivo zip EL PORVENIR_S2_20220627T152651_RS https://earthengine.googleapis.com/v1/projects/earthengine-legacy/thumbnails/a9ae7db74c2e5c38cfd8d2ce481d4a93-eb92e3aeffbd5412e12ab9f662fbea2d:getPixels\n",
      "Archivo zip PUCALLPA_S2_20220823T151721_RS https://earthengine.googleapis.com/v1/projects/earthengine-legacy/thumbnails/4d4ccf2ed2340df2fcc887900ab22990-9bdcbf8abac54cbee833b827761ae461:getPixels\n",
      "Archivo zip PUCALLPA_S2_20220922T151711_RS https://earthengine.googleapis.com/v1/projects/earthengine-legacy/thumbnails/0124625dd7dd7a46b2b6d8dc3af417ee-1d7338285c39f3afbeb738dbcb7ed137:getPixels\n",
      "Archivo zip PUCALLPA_S2_20221106T151659_RS https://earthengine.googleapis.com/v1/projects/earthengine-legacy/thumbnails/818c61cee08f0edff040a9d15612992e-29c5dfaf43c33c3dcf5a8986b9a4d541:getPixels\n",
      "Archivo zip PUCALLPA_S2_20220614T151711_RS https://earthengine.googleapis.com/v1/projects/earthengine-legacy/thumbnails/c1583fed89906b908564d0f0e7a2b82b-e7ff3c37450d1a608f221f4067eefdc3:getPixels\n",
      "Archivo zip PUCALLPA_S2_20220520T151709_RS https://earthengine.googleapis.com/v1/projects/earthengine-legacy/thumbnails/e097da45137ede6db1c1a35d7a43a17b-56aab99264c08ba5df06705dff59902e:getPixels\n",
      "Archivo zip PUCALLPA_S2_20220907T151709_RS https://earthengine.googleapis.com/v1/projects/earthengine-legacy/thumbnails/894e0acfd441e14d7ab6fb4c1785a25e-e01a3b47691ccd8897dadd142f294861:getPixels\n",
      "Archivo zip PUCALLPA_S2_20220917T151709_RS https://earthengine.googleapis.com/v1/projects/earthengine-legacy/thumbnails/d82aa0b7f3f3c415922628b2856dbca5-3882b8a88182526054843aa9905926a5:getPixels\n",
      "Archivo zip PUCALLPA_S2_20220629T151709_RS https://earthengine.googleapis.com/v1/projects/earthengine-legacy/thumbnails/043d158f8be9a9470e72693a4b990025-7c63c4d9e618874ebea76dfdf4ac6ae0:getPixels\n",
      "Archivo zip PUCALLPA_S2_20220729T151709_RS https://earthengine.googleapis.com/v1/projects/earthengine-legacy/thumbnails/586e77b8f3e9d39739a30f444d2c903f-4845aba2061aec524657a50d2aee5395:getPixels\n",
      "Archivo zip PUCALLPA_S2_20220912T151711_RS https://earthengine.googleapis.com/v1/projects/earthengine-legacy/thumbnails/5c0b482ff4e72998dafa384edd2734ad-fa396297e917a73a74d4f9811b82c6c3:getPixels\n",
      "Archivo zip PUCALLPA_S2_20220902T151721_RS https://earthengine.googleapis.com/v1/projects/earthengine-legacy/thumbnails/ec0e788e7d9823576bb98411a4353389-fba0d136051331c0afb80db8ddb042f4:getPixels\n",
      "Archivo zip SANTA ANA_S2_20220729T151709_RS https://earthengine.googleapis.com/v1/projects/earthengine-legacy/thumbnails/81b29cc6e41ceba89a10fccb8ef668b9-c14df790ea13da7200e111d71f77a405:getPixels\n",
      "Archivo zip SANTA ANA_S2_20220614T151711_RS https://earthengine.googleapis.com/v1/projects/earthengine-legacy/thumbnails/f487b67d8678cb5d79da5dada2d455fe-1131c8d58333b261228037a085043a74:getPixels\n"
     ]
    }
   ],
   "source": [
    "for a in range(len(lista_EEA)):\n",
    "    EEA = zona.filterMetadata('EEA', 'equals', lista_EEA[a])\n",
    "    geometria = EEA.geometry()\n",
    "    # Coleccion de Sentinel-2 SR\n",
    "    S2_RS = ee.ImageCollection(\"COPERNICUS/S2_SR_HARMONIZED\")\\\n",
    "                .filterDate(Fecha_inicio,Fecha_final)\\\n",
    "                .filterMetadata('CLOUDY_PIXEL_PERCENTAGE','less_than',Por_Nubosidad)\\\n",
    "                .filterBounds(EEA)\\\n",
    "                .sort('CLOUDY_PIXEL_PERCENTAGE', True)\n",
    "    # Imprimir la lista de ID Imagenes\n",
    "    ID_S2 = S2_RS.reduceColumns(ee.Reducer.toList(),[\"system:index\"]).get(\"list\").getInfo()\n",
    "    # Proceso de image\n",
    "    for i in range(len(ID_S2)):\n",
    "        # Mantiene la convención de nombre de archivo original    \n",
    "        image = ee.Image(\"COPERNICUS/S2_SR_HARMONIZED\" + \"/\" + ID_S2[i])\n",
    "        bandas_RS = [\"B1\",\"B2\",\"B3\",\"B4\",\"B5\",\"B6\",\"B7\",\"B8\",\"B9\",\"B11\",\"B12\"]\n",
    "        # Seleccionar imagenes por bandas\n",
    "        img_S2_RS = image.select(bandas_RS)\n",
    "        # Escalar la imagen Sentinel2 RS 0 - 1\n",
    "        img_S2_RS_es = img_S2_RS.multiply(0.0001)\n",
    "        # Reproyectar segun zona de estudio\n",
    "        img_S2_RS_es = img_S2_RS_es.reproject(crs=\"EPSG:32718\", scale=10)\n",
    "        # Recortar RS\n",
    "        img_S2_RS_es_clip = img_S2_RS_es.clip(EEA)\n",
    "        # Exportar en google drive\n",
    "        #geemap.ee_export_image_to_drive(img_S2_RS_es_clip, \n",
    "        #                                description=\"S2_\" + ID_S2[i][0:15]+\"_RS\",\n",
    "        #                                folder='GEE_Sentinel2', \n",
    "        #                                region=geometria, \n",
    "        #                                scale=10)\n",
    "        # Descarga link descarga\n",
    "        link_URL = img_S2_RS_es_clip.getDownloadURL({\n",
    "            'name': lista_EEA[a] + \"_S2_\" + ID_S2[i][0:15]+\"_RS\",\n",
    "            'bands': bandas_RS,\n",
    "            'region': geometria,\n",
    "            'scale': 10,\n",
    "            'filePerBand': False #  True = bandas separadas\n",
    "        })\n",
    "        print('Archivo zip ' + lista_EEA[a] + \"_S2_\" + ID_S2[i][0:15]+\"_RS\", link_URL)\n",
    "    "
   ]
  },
  {
   "cell_type": "code",
   "execution_count": null,
   "id": "cb09fc72-da2f-49f0-b8ca-bd0cf8b58342",
   "metadata": {},
   "outputs": [],
   "source": []
  }
 ],
 "metadata": {
  "kernelspec": {
   "display_name": "Python 3 (ipykernel)",
   "language": "python",
   "name": "python3"
  },
  "language_info": {
   "codemirror_mode": {
    "name": "ipython",
    "version": 3
   },
   "file_extension": ".py",
   "mimetype": "text/x-python",
   "name": "python",
   "nbconvert_exporter": "python",
   "pygments_lexer": "ipython3",
   "version": "3.9.13"
  }
 },
 "nbformat": 4,
 "nbformat_minor": 5
}
