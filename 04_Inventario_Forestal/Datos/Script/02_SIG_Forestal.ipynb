{
 "cells": [
  {
   "cell_type": "markdown",
   "id": "5ce8f0b3-bc0c-41ad-b4aa-97dc291c6777",
   "metadata": {},
   "source": [
    "# SIG forestal"
   ]
  },
  {
   "cell_type": "code",
   "execution_count": 4,
   "id": "466eff39-3766-446d-9118-baaca0eac8a5",
   "metadata": {},
   "outputs": [],
   "source": [
    "import os\n",
    "import glob\n",
    "# Import Libraries\n",
    "import pandas as pd\n",
    "import geopandas as gpd\n",
    "import matplotlib.pyplot as plt"
   ]
  },
  {
   "cell_type": "code",
   "execution_count": 3,
   "id": "fdb3d932-f52c-442f-8d06-03c09aca9cf0",
   "metadata": {},
   "outputs": [],
   "source": [
    "os.chdir(r\"C:\\Users\\GEOMATICA\\Curso_suelo\\04_Inventario_Forestal\\Datos\\Tabla\")"
   ]
  },
  {
   "cell_type": "code",
   "execution_count": 6,
   "id": "6815e948-5ecd-4679-b9c0-733360a11832",
   "metadata": {},
   "outputs": [
    {
     "data": {
      "text/plain": [
       "['Datos_Inventario.csv']"
      ]
     },
     "execution_count": 6,
     "metadata": {},
     "output_type": "execute_result"
    }
   ],
   "source": [
    "lista = glob.glob(\"*Datos_Inventario.csv\")\n",
    "lista"
   ]
  },
  {
   "cell_type": "code",
   "execution_count": 7,
   "id": "475e9414-fae9-496d-9834-19b77d159def",
   "metadata": {},
   "outputs": [],
   "source": [
    "AH_data = pd.read_csv(lista[0],delimiter=\";\")"
   ]
  },
  {
   "cell_type": "code",
   "execution_count": 8,
   "id": "871fdca0-7495-4171-b719-532de5953338",
   "metadata": {},
   "outputs": [
    {
     "data": {
      "text/html": [
       "<div>\n",
       "<style scoped>\n",
       "    .dataframe tbody tr th:only-of-type {\n",
       "        vertical-align: middle;\n",
       "    }\n",
       "\n",
       "    .dataframe tbody tr th {\n",
       "        vertical-align: top;\n",
       "    }\n",
       "\n",
       "    .dataframe thead th {\n",
       "        text-align: right;\n",
       "    }\n",
       "</style>\n",
       "<table border=\"1\" class=\"dataframe\">\n",
       "  <thead>\n",
       "    <tr style=\"text-align: right;\">\n",
       "      <th></th>\n",
       "      <th>Arbol</th>\n",
       "      <th>Este</th>\n",
       "      <th>Norte</th>\n",
       "      <th>DAP_cm</th>\n",
       "      <th>Altura_T</th>\n",
       "      <th>Altura_C</th>\n",
       "    </tr>\n",
       "  </thead>\n",
       "  <tbody>\n",
       "    <tr>\n",
       "      <th>0</th>\n",
       "      <td>1</td>\n",
       "      <td>494028.546</td>\n",
       "      <td>9023749.586</td>\n",
       "      <td>7.862236</td>\n",
       "      <td>8.23</td>\n",
       "      <td>4.24</td>\n",
       "    </tr>\n",
       "    <tr>\n",
       "      <th>1</th>\n",
       "      <td>2</td>\n",
       "      <td>494033.087</td>\n",
       "      <td>9023749.028</td>\n",
       "      <td>4.647313</td>\n",
       "      <td>5.67</td>\n",
       "      <td>3.79</td>\n",
       "    </tr>\n",
       "    <tr>\n",
       "      <th>2</th>\n",
       "      <td>3</td>\n",
       "      <td>494042.399</td>\n",
       "      <td>9023748.940</td>\n",
       "      <td>5.634072</td>\n",
       "      <td>6.94</td>\n",
       "      <td>2.70</td>\n",
       "    </tr>\n",
       "  </tbody>\n",
       "</table>\n",
       "</div>"
      ],
      "text/plain": [
       "   Arbol        Este        Norte    DAP_cm  Altura_T  Altura_C\n",
       "0      1  494028.546  9023749.586  7.862236      8.23      4.24\n",
       "1      2  494033.087  9023749.028  4.647313      5.67      3.79\n",
       "2      3  494042.399  9023748.940  5.634072      6.94      2.70"
      ]
     },
     "execution_count": 8,
     "metadata": {},
     "output_type": "execute_result"
    }
   ],
   "source": [
    "AH_data.head(3)"
   ]
  },
  {
   "cell_type": "code",
   "execution_count": 9,
   "id": "c73f39a9-3ab2-410e-a480-71f159fbacdc",
   "metadata": {},
   "outputs": [
    {
     "data": {
      "text/plain": [
       "161"
      ]
     },
     "execution_count": 9,
     "metadata": {},
     "output_type": "execute_result"
    }
   ],
   "source": [
    "len(AH_data)"
   ]
  },
  {
   "cell_type": "markdown",
   "id": "ccbbae35-0e47-48f7-8ddb-b8257c6ed9e8",
   "metadata": {},
   "source": [
    "## Eliminar datos sin valores"
   ]
  },
  {
   "cell_type": "code",
   "execution_count": 10,
   "id": "cab2892a-742c-4fc9-b769-5a8238016507",
   "metadata": {},
   "outputs": [],
   "source": [
    "data_clean = AH_data.dropna()"
   ]
  },
  {
   "cell_type": "code",
   "execution_count": 11,
   "id": "02b3f08a-a413-4b14-8782-8984f8e6c232",
   "metadata": {},
   "outputs": [
    {
     "data": {
      "text/plain": [
       "160"
      ]
     },
     "execution_count": 11,
     "metadata": {},
     "output_type": "execute_result"
    }
   ],
   "source": [
    "len(data_clean)"
   ]
  },
  {
   "cell_type": "code",
   "execution_count": 12,
   "id": "1a7ed1fb-fde9-4fcd-accd-e1fa6451cec6",
   "metadata": {},
   "outputs": [
    {
     "name": "stdout",
     "output_type": "stream",
     "text": [
      "<class 'pandas.core.frame.DataFrame'>\n",
      "Index: 160 entries, 0 to 160\n",
      "Data columns (total 6 columns):\n",
      " #   Column    Non-Null Count  Dtype  \n",
      "---  ------    --------------  -----  \n",
      " 0   Arbol     160 non-null    int64  \n",
      " 1   Este      160 non-null    float64\n",
      " 2   Norte     160 non-null    float64\n",
      " 3   DAP_cm    160 non-null    float64\n",
      " 4   Altura_T  160 non-null    float64\n",
      " 5   Altura_C  160 non-null    float64\n",
      "dtypes: float64(5), int64(1)\n",
      "memory usage: 8.8 KB\n"
     ]
    }
   ],
   "source": [
    "data_clean.info()"
   ]
  },
  {
   "cell_type": "markdown",
   "id": "be6e849d-5f4e-424e-944e-3177ddf7ae06",
   "metadata": {},
   "source": [
    "## Crear una geometria"
   ]
  },
  {
   "cell_type": "code",
   "execution_count": 13,
   "id": "ad070fe0-faca-40ef-8940-8b8990962a2d",
   "metadata": {},
   "outputs": [],
   "source": [
    "# Create point geometries\n",
    "geometria = gpd.points_from_xy(data_clean['Este'],data_clean['Norte'], crs=32718)"
   ]
  },
  {
   "cell_type": "code",
   "execution_count": 14,
   "id": "e69356c5-ea4b-4299-9be1-3c9737b56011",
   "metadata": {},
   "outputs": [],
   "source": [
    "datos_shp = gpd.GeoDataFrame(data_clean, geometry=geometria)"
   ]
  },
  {
   "cell_type": "code",
   "execution_count": 15,
   "id": "9288716a-8219-435d-81f6-b9ba01faeec0",
   "metadata": {},
   "outputs": [
    {
     "data": {
      "text/html": [
       "<div>\n",
       "<style scoped>\n",
       "    .dataframe tbody tr th:only-of-type {\n",
       "        vertical-align: middle;\n",
       "    }\n",
       "\n",
       "    .dataframe tbody tr th {\n",
       "        vertical-align: top;\n",
       "    }\n",
       "\n",
       "    .dataframe thead th {\n",
       "        text-align: right;\n",
       "    }\n",
       "</style>\n",
       "<table border=\"1\" class=\"dataframe\">\n",
       "  <thead>\n",
       "    <tr style=\"text-align: right;\">\n",
       "      <th></th>\n",
       "      <th>Arbol</th>\n",
       "      <th>Este</th>\n",
       "      <th>Norte</th>\n",
       "      <th>DAP_cm</th>\n",
       "      <th>Altura_T</th>\n",
       "      <th>Altura_C</th>\n",
       "      <th>geometry</th>\n",
       "    </tr>\n",
       "  </thead>\n",
       "  <tbody>\n",
       "    <tr>\n",
       "      <th>0</th>\n",
       "      <td>1</td>\n",
       "      <td>494028.546</td>\n",
       "      <td>9023749.586</td>\n",
       "      <td>7.862236</td>\n",
       "      <td>8.23</td>\n",
       "      <td>4.24</td>\n",
       "      <td>POINT (494028.546 9023749.586)</td>\n",
       "    </tr>\n",
       "    <tr>\n",
       "      <th>1</th>\n",
       "      <td>2</td>\n",
       "      <td>494033.087</td>\n",
       "      <td>9023749.028</td>\n",
       "      <td>4.647313</td>\n",
       "      <td>5.67</td>\n",
       "      <td>3.79</td>\n",
       "      <td>POINT (494033.087 9023749.028)</td>\n",
       "    </tr>\n",
       "    <tr>\n",
       "      <th>2</th>\n",
       "      <td>3</td>\n",
       "      <td>494042.399</td>\n",
       "      <td>9023748.940</td>\n",
       "      <td>5.634072</td>\n",
       "      <td>6.94</td>\n",
       "      <td>2.70</td>\n",
       "      <td>POINT (494042.399 9023748.940)</td>\n",
       "    </tr>\n",
       "  </tbody>\n",
       "</table>\n",
       "</div>"
      ],
      "text/plain": [
       "   Arbol        Este        Norte    DAP_cm  Altura_T  Altura_C  \\\n",
       "0      1  494028.546  9023749.586  7.862236      8.23      4.24   \n",
       "1      2  494033.087  9023749.028  4.647313      5.67      3.79   \n",
       "2      3  494042.399  9023748.940  5.634072      6.94      2.70   \n",
       "\n",
       "                         geometry  \n",
       "0  POINT (494028.546 9023749.586)  \n",
       "1  POINT (494033.087 9023749.028)  \n",
       "2  POINT (494042.399 9023748.940)  "
      ]
     },
     "execution_count": 15,
     "metadata": {},
     "output_type": "execute_result"
    }
   ],
   "source": [
    "datos_shp.head(3)"
   ]
  },
  {
   "cell_type": "code",
   "execution_count": 16,
   "id": "fb4e64ac-c47f-4f8c-8e5b-01d8289127e7",
   "metadata": {},
   "outputs": [
    {
     "name": "stdout",
     "output_type": "stream",
     "text": [
      "EPSG:32718\n"
     ]
    }
   ],
   "source": [
    "print(datos_shp.crs)"
   ]
  },
  {
   "cell_type": "code",
   "execution_count": 18,
   "id": "a331d84b-3636-467c-9c7b-880734c0385e",
   "metadata": {},
   "outputs": [
    {
     "data": {
      "text/plain": [
       "'C:\\\\Users\\\\GEOMATICA\\\\Curso_suelo\\\\04_Inventario_Forestal\\\\Datos\\\\Tabla'"
      ]
     },
     "execution_count": 18,
     "metadata": {},
     "output_type": "execute_result"
    }
   ],
   "source": [
    "os.getcwd()"
   ]
  },
  {
   "cell_type": "code",
   "execution_count": 17,
   "id": "cf66420f-b04f-4c01-9109-6a957c2f4174",
   "metadata": {},
   "outputs": [],
   "source": [
    "# Exportacion del shp \n",
    "datos_shp.to_file('Puntos_utm.shp')"
   ]
  },
  {
   "cell_type": "code",
   "execution_count": 25,
   "id": "4ffc566c-59b9-4f8d-8725-bcc52c35568c",
   "metadata": {},
   "outputs": [
    {
     "data": {
      "image/png": "[encoded data removed]",
      "text/plain": [
       "<Figure size 700x500 with 1 Axes>"
      ]
     },
     "metadata": {},
     "output_type": "display_data"
    }
   ],
   "source": [
    "datos_shp.plot(edgecolor=\"0.9\", figsize=(7, 5))\n",
    "plt.title(\"Mapa de distribucion Shihuahuaco\");"
   ]
  },
  {
   "cell_type": "markdown",
   "id": "1be5ccb4-bc7b-42e2-ba41-eda92cf5f35e",
   "metadata": {},
   "source": [
    "## Calcular el área basal (en metros cuadrados)"
   ]
  },
  {
   "cell_type": "code",
   "execution_count": 26,
   "id": "494a0ffa-0578-4d0d-b6a5-0e975b49fec8",
   "metadata": {},
   "outputs": [],
   "source": [
    "import numpy as np\n",
    "import copy"
   ]
  },
  {
   "cell_type": "code",
   "execution_count": 36,
   "id": "9fdc276d-123e-447f-82a1-03f7a3a95196",
   "metadata": {},
   "outputs": [],
   "source": [
    "Buffer_AB = copy.copy(datos_shp)"
   ]
  },
  {
   "cell_type": "code",
   "execution_count": 37,
   "id": "4fecc24a-3fd6-4c19-9294-928542c06ae0",
   "metadata": {},
   "outputs": [],
   "source": [
    "Buffer_AB['Area_Basal_m2'] = round((Buffer_AB['DAP_cm'] / 100)*(Buffer_AB['DAP_cm'] / 100)* np.pi/4,4)"
   ]
  },
  {
   "cell_type": "code",
   "execution_count": 38,
   "id": "2a0202ba-0145-47c6-b4fd-409c940a7639",
   "metadata": {},
   "outputs": [
    {
     "data": {
      "text/html": [
       "<div>\n",
       "<style scoped>\n",
       "    .dataframe tbody tr th:only-of-type {\n",
       "        vertical-align: middle;\n",
       "    }\n",
       "\n",
       "    .dataframe tbody tr th {\n",
       "        vertical-align: top;\n",
       "    }\n",
       "\n",
       "    .dataframe thead th {\n",
       "        text-align: right;\n",
       "    }\n",
       "</style>\n",
       "<table border=\"1\" class=\"dataframe\">\n",
       "  <thead>\n",
       "    <tr style=\"text-align: right;\">\n",
       "      <th></th>\n",
       "      <th>Arbol</th>\n",
       "      <th>Este</th>\n",
       "      <th>Norte</th>\n",
       "      <th>DAP_cm</th>\n",
       "      <th>Altura_T</th>\n",
       "      <th>Altura_C</th>\n",
       "      <th>geometry</th>\n",
       "      <th>Area_Basal_m2</th>\n",
       "    </tr>\n",
       "  </thead>\n",
       "  <tbody>\n",
       "    <tr>\n",
       "      <th>0</th>\n",
       "      <td>1</td>\n",
       "      <td>494028.546</td>\n",
       "      <td>9023749.586</td>\n",
       "      <td>7.862236</td>\n",
       "      <td>8.23</td>\n",
       "      <td>4.24</td>\n",
       "      <td>POINT (494028.546 9023749.586)</td>\n",
       "      <td>0.0049</td>\n",
       "    </tr>\n",
       "    <tr>\n",
       "      <th>1</th>\n",
       "      <td>2</td>\n",
       "      <td>494033.087</td>\n",
       "      <td>9023749.028</td>\n",
       "      <td>4.647313</td>\n",
       "      <td>5.67</td>\n",
       "      <td>3.79</td>\n",
       "      <td>POINT (494033.087 9023749.028)</td>\n",
       "      <td>0.0017</td>\n",
       "    </tr>\n",
       "    <tr>\n",
       "      <th>2</th>\n",
       "      <td>3</td>\n",
       "      <td>494042.399</td>\n",
       "      <td>9023748.940</td>\n",
       "      <td>5.634072</td>\n",
       "      <td>6.94</td>\n",
       "      <td>2.70</td>\n",
       "      <td>POINT (494042.399 9023748.940)</td>\n",
       "      <td>0.0025</td>\n",
       "    </tr>\n",
       "    <tr>\n",
       "      <th>3</th>\n",
       "      <td>4</td>\n",
       "      <td>494047.100</td>\n",
       "      <td>9023749.095</td>\n",
       "      <td>6.970970</td>\n",
       "      <td>7.81</td>\n",
       "      <td>4.47</td>\n",
       "      <td>POINT (494047.100 9023749.095)</td>\n",
       "      <td>0.0038</td>\n",
       "    </tr>\n",
       "    <tr>\n",
       "      <th>4</th>\n",
       "      <td>5</td>\n",
       "      <td>494056.927</td>\n",
       "      <td>9023749.512</td>\n",
       "      <td>8.498854</td>\n",
       "      <td>9.77</td>\n",
       "      <td>5.05</td>\n",
       "      <td>POINT (494056.927 9023749.512)</td>\n",
       "      <td>0.0057</td>\n",
       "    </tr>\n",
       "  </tbody>\n",
       "</table>\n",
       "</div>"
      ],
      "text/plain": [
       "   Arbol        Este        Norte    DAP_cm  Altura_T  Altura_C  \\\n",
       "0      1  494028.546  9023749.586  7.862236      8.23      4.24   \n",
       "1      2  494033.087  9023749.028  4.647313      5.67      3.79   \n",
       "2      3  494042.399  9023748.940  5.634072      6.94      2.70   \n",
       "3      4  494047.100  9023749.095  6.970970      7.81      4.47   \n",
       "4      5  494056.927  9023749.512  8.498854      9.77      5.05   \n",
       "\n",
       "                         geometry  Area_Basal_m2  \n",
       "0  POINT (494028.546 9023749.586)         0.0049  \n",
       "1  POINT (494033.087 9023749.028)         0.0017  \n",
       "2  POINT (494042.399 9023748.940)         0.0025  \n",
       "3  POINT (494047.100 9023749.095)         0.0038  \n",
       "4  POINT (494056.927 9023749.512)         0.0057  "
      ]
     },
     "execution_count": 38,
     "metadata": {},
     "output_type": "execute_result"
    }
   ],
   "source": [
    "Buffer_AB.head()"
   ]
  },
  {
   "cell_type": "markdown",
   "id": "6b7c5d11-c31d-4980-b61f-94efab0486d6",
   "metadata": {},
   "source": [
    "### Determinar un buffer del área basal"
   ]
  },
  {
   "cell_type": "code",
   "execution_count": 40,
   "id": "7aa40139-4ef7-4c28-a290-d4a8301d94de",
   "metadata": {},
   "outputs": [],
   "source": [
    "# Especificar el nombre de la columna que contiene las distancias para el buffer\n",
    "campo_distancia = 'DAP_cm'"
   ]
  },
  {
   "cell_type": "code",
   "execution_count": 54,
   "id": "a9c3308a-06b4-4360-823b-d1779828c95b",
   "metadata": {},
   "outputs": [],
   "source": [
    "# Crear el buffer utilizando el campo de atributo de distancia\n",
    "Buffer_AB['geometry'] = Buffer_AB.geometry.buffer(Buffer_AB[campo_distancia]/(100*2))"
   ]
  },
  {
   "cell_type": "code",
   "execution_count": 55,
   "id": "6329c7d6-1650-4aa5-a290-8c6d78b5b637",
   "metadata": {},
   "outputs": [
    {
     "data": {
      "text/html": [
       "<div>\n",
       "<style scoped>\n",
       "    .dataframe tbody tr th:only-of-type {\n",
       "        vertical-align: middle;\n",
       "    }\n",
       "\n",
       "    .dataframe tbody tr th {\n",
       "        vertical-align: top;\n",
       "    }\n",
       "\n",
       "    .dataframe thead th {\n",
       "        text-align: right;\n",
       "    }\n",
       "</style>\n",
       "<table border=\"1\" class=\"dataframe\">\n",
       "  <thead>\n",
       "    <tr style=\"text-align: right;\">\n",
       "      <th></th>\n",
       "      <th>Arbol</th>\n",
       "      <th>Este</th>\n",
       "      <th>Norte</th>\n",
       "      <th>DAP_cm</th>\n",
       "      <th>Altura_T</th>\n",
       "      <th>Altura_C</th>\n",
       "      <th>geometry</th>\n",
       "      <th>Area_Basal_m2</th>\n",
       "      <th>Area_m2</th>\n",
       "    </tr>\n",
       "  </thead>\n",
       "  <tbody>\n",
       "    <tr>\n",
       "      <th>0</th>\n",
       "      <td>1</td>\n",
       "      <td>494028.546</td>\n",
       "      <td>9023749.586</td>\n",
       "      <td>7.862236</td>\n",
       "      <td>8.23</td>\n",
       "      <td>4.24</td>\n",
       "      <td>POLYGON ((494028.664 9023749.588, 494028.664 9...</td>\n",
       "      <td>0.0049</td>\n",
       "      <td>0.0194</td>\n",
       "    </tr>\n",
       "    <tr>\n",
       "      <th>1</th>\n",
       "      <td>2</td>\n",
       "      <td>494033.087</td>\n",
       "      <td>9023749.028</td>\n",
       "      <td>4.647313</td>\n",
       "      <td>5.67</td>\n",
       "      <td>3.79</td>\n",
       "      <td>POLYGON ((494033.157 9023749.029, 494033.157 9...</td>\n",
       "      <td>0.0017</td>\n",
       "      <td>0.0068</td>\n",
       "    </tr>\n",
       "    <tr>\n",
       "      <th>2</th>\n",
       "      <td>3</td>\n",
       "      <td>494042.399</td>\n",
       "      <td>9023748.940</td>\n",
       "      <td>5.634072</td>\n",
       "      <td>6.94</td>\n",
       "      <td>2.70</td>\n",
       "      <td>POLYGON ((494042.483 9023748.941, 494042.483 9...</td>\n",
       "      <td>0.0025</td>\n",
       "      <td>0.0100</td>\n",
       "    </tr>\n",
       "    <tr>\n",
       "      <th>3</th>\n",
       "      <td>4</td>\n",
       "      <td>494047.100</td>\n",
       "      <td>9023749.095</td>\n",
       "      <td>6.970970</td>\n",
       "      <td>7.81</td>\n",
       "      <td>4.47</td>\n",
       "      <td>POLYGON ((494047.205 9023749.097, 494047.205 9...</td>\n",
       "      <td>0.0038</td>\n",
       "      <td>0.0152</td>\n",
       "    </tr>\n",
       "    <tr>\n",
       "      <th>4</th>\n",
       "      <td>5</td>\n",
       "      <td>494056.927</td>\n",
       "      <td>9023749.512</td>\n",
       "      <td>8.498854</td>\n",
       "      <td>9.77</td>\n",
       "      <td>5.05</td>\n",
       "      <td>POLYGON ((494057.054 9023749.514, 494057.054 9...</td>\n",
       "      <td>0.0057</td>\n",
       "      <td>0.0227</td>\n",
       "    </tr>\n",
       "  </tbody>\n",
       "</table>\n",
       "</div>"
      ],
      "text/plain": [
       "   Arbol        Este        Norte    DAP_cm  Altura_T  Altura_C  \\\n",
       "0      1  494028.546  9023749.586  7.862236      8.23      4.24   \n",
       "1      2  494033.087  9023749.028  4.647313      5.67      3.79   \n",
       "2      3  494042.399  9023748.940  5.634072      6.94      2.70   \n",
       "3      4  494047.100  9023749.095  6.970970      7.81      4.47   \n",
       "4      5  494056.927  9023749.512  8.498854      9.77      5.05   \n",
       "\n",
       "                                            geometry  Area_Basal_m2  Area_m2  \n",
       "0  POLYGON ((494028.664 9023749.588, 494028.664 9...         0.0049   0.0194  \n",
       "1  POLYGON ((494033.157 9023749.029, 494033.157 9...         0.0017   0.0068  \n",
       "2  POLYGON ((494042.483 9023748.941, 494042.483 9...         0.0025   0.0100  \n",
       "3  POLYGON ((494047.205 9023749.097, 494047.205 9...         0.0038   0.0152  \n",
       "4  POLYGON ((494057.054 9023749.514, 494057.054 9...         0.0057   0.0227  "
      ]
     },
     "execution_count": 55,
     "metadata": {},
     "output_type": "execute_result"
    }
   ],
   "source": [
    "Buffer_AB.head()"
   ]
  },
  {
   "cell_type": "code",
   "execution_count": 56,
   "id": "9dec726d-a9b8-4b41-880e-17777af2570a",
   "metadata": {},
   "outputs": [
    {
     "data": {
      "image/png": "[encoded data removed]",
      "text/plain": [
       "<Figure size 1000x500 with 1 Axes>"
      ]
     },
     "metadata": {},
     "output_type": "display_data"
    }
   ],
   "source": [
    "# Crear una figura\n",
    "fig, ax = plt.subplots(figsize=(10, 5))\n",
    "# Graficar los datos originales\n",
    "datos_shp.plot(ax=ax, color='blue', label='Datos originales')\n",
    "# Graficar los buffers\n",
    "Buffer_AB.boundary.plot(ax=ax, color='red', linewidth=1, linestyle='--', label='Buffers')\n",
    "# Agregar leyenda\n",
    "ax.legend()\n",
    "\n",
    "# Mostrar el gráfico\n",
    "plt.show()"
   ]
  },
  {
   "cell_type": "markdown",
   "id": "e99a6665-5542-40a6-9dce-8532481fb0d1",
   "metadata": {},
   "source": [
    "## Determinar area m2"
   ]
  },
  {
   "cell_type": "code",
   "execution_count": 57,
   "id": "afa0bb2d-81d8-47af-84c2-6e1c7dab80f8",
   "metadata": {},
   "outputs": [],
   "source": [
    "Buffer_AB[\"Area_m2\"] = round(Buffer_AB.area,4)"
   ]
  },
  {
   "cell_type": "code",
   "execution_count": 58,
   "id": "a21e4904-0a0a-4acc-aaab-51b82219749c",
   "metadata": {},
   "outputs": [
    {
     "data": {
      "text/html": [
       "<div>\n",
       "<style scoped>\n",
       "    .dataframe tbody tr th:only-of-type {\n",
       "        vertical-align: middle;\n",
       "    }\n",
       "\n",
       "    .dataframe tbody tr th {\n",
       "        vertical-align: top;\n",
       "    }\n",
       "\n",
       "    .dataframe thead th {\n",
       "        text-align: right;\n",
       "    }\n",
       "</style>\n",
       "<table border=\"1\" class=\"dataframe\">\n",
       "  <thead>\n",
       "    <tr style=\"text-align: right;\">\n",
       "      <th></th>\n",
       "      <th>Arbol</th>\n",
       "      <th>Este</th>\n",
       "      <th>Norte</th>\n",
       "      <th>DAP_cm</th>\n",
       "      <th>Altura_T</th>\n",
       "      <th>Altura_C</th>\n",
       "      <th>geometry</th>\n",
       "      <th>Area_Basal_m2</th>\n",
       "      <th>Area_m2</th>\n",
       "    </tr>\n",
       "  </thead>\n",
       "  <tbody>\n",
       "    <tr>\n",
       "      <th>0</th>\n",
       "      <td>1</td>\n",
       "      <td>494028.546</td>\n",
       "      <td>9023749.586</td>\n",
       "      <td>7.862236</td>\n",
       "      <td>8.23</td>\n",
       "      <td>4.24</td>\n",
       "      <td>POLYGON ((494028.664 9023749.588, 494028.664 9...</td>\n",
       "      <td>0.0049</td>\n",
       "      <td>0.0436</td>\n",
       "    </tr>\n",
       "    <tr>\n",
       "      <th>1</th>\n",
       "      <td>2</td>\n",
       "      <td>494033.087</td>\n",
       "      <td>9023749.028</td>\n",
       "      <td>4.647313</td>\n",
       "      <td>5.67</td>\n",
       "      <td>3.79</td>\n",
       "      <td>POLYGON ((494033.157 9023749.029, 494033.157 9...</td>\n",
       "      <td>0.0017</td>\n",
       "      <td>0.0153</td>\n",
       "    </tr>\n",
       "    <tr>\n",
       "      <th>2</th>\n",
       "      <td>3</td>\n",
       "      <td>494042.399</td>\n",
       "      <td>9023748.940</td>\n",
       "      <td>5.634072</td>\n",
       "      <td>6.94</td>\n",
       "      <td>2.70</td>\n",
       "      <td>POLYGON ((494042.483 9023748.941, 494042.483 9...</td>\n",
       "      <td>0.0025</td>\n",
       "      <td>0.0224</td>\n",
       "    </tr>\n",
       "    <tr>\n",
       "      <th>3</th>\n",
       "      <td>4</td>\n",
       "      <td>494047.100</td>\n",
       "      <td>9023749.095</td>\n",
       "      <td>6.970970</td>\n",
       "      <td>7.81</td>\n",
       "      <td>4.47</td>\n",
       "      <td>POLYGON ((494047.205 9023749.097, 494047.205 9...</td>\n",
       "      <td>0.0038</td>\n",
       "      <td>0.0343</td>\n",
       "    </tr>\n",
       "    <tr>\n",
       "      <th>4</th>\n",
       "      <td>5</td>\n",
       "      <td>494056.927</td>\n",
       "      <td>9023749.512</td>\n",
       "      <td>8.498854</td>\n",
       "      <td>9.77</td>\n",
       "      <td>5.05</td>\n",
       "      <td>POLYGON ((494057.054 9023749.514, 494057.054 9...</td>\n",
       "      <td>0.0057</td>\n",
       "      <td>0.0510</td>\n",
       "    </tr>\n",
       "  </tbody>\n",
       "</table>\n",
       "</div>"
      ],
      "text/plain": [
       "   Arbol        Este        Norte    DAP_cm  Altura_T  Altura_C  \\\n",
       "0      1  494028.546  9023749.586  7.862236      8.23      4.24   \n",
       "1      2  494033.087  9023749.028  4.647313      5.67      3.79   \n",
       "2      3  494042.399  9023748.940  5.634072      6.94      2.70   \n",
       "3      4  494047.100  9023749.095  6.970970      7.81      4.47   \n",
       "4      5  494056.927  9023749.512  8.498854      9.77      5.05   \n",
       "\n",
       "                                            geometry  Area_Basal_m2  Area_m2  \n",
       "0  POLYGON ((494028.664 9023749.588, 494028.664 9...         0.0049   0.0436  \n",
       "1  POLYGON ((494033.157 9023749.029, 494033.157 9...         0.0017   0.0153  \n",
       "2  POLYGON ((494042.483 9023748.941, 494042.483 9...         0.0025   0.0224  \n",
       "3  POLYGON ((494047.205 9023749.097, 494047.205 9...         0.0038   0.0343  \n",
       "4  POLYGON ((494057.054 9023749.514, 494057.054 9...         0.0057   0.0510  "
      ]
     },
     "execution_count": 58,
     "metadata": {},
     "output_type": "execute_result"
    }
   ],
   "source": [
    "Buffer_AB.head()"
   ]
  },
  {
   "cell_type": "code",
   "execution_count": 67,
   "id": "22909795-48b9-4f9f-8e11-9a1bb0329e10",
   "metadata": {},
   "outputs": [
    {
     "data": {
      "text/html": [
       "<div>\n",
       "<style scoped>\n",
       "    .dataframe tbody tr th:only-of-type {\n",
       "        vertical-align: middle;\n",
       "    }\n",
       "\n",
       "    .dataframe tbody tr th {\n",
       "        vertical-align: top;\n",
       "    }\n",
       "\n",
       "    .dataframe thead th {\n",
       "        text-align: right;\n",
       "    }\n",
       "</style>\n",
       "<table border=\"1\" class=\"dataframe\">\n",
       "  <thead>\n",
       "    <tr style=\"text-align: right;\">\n",
       "      <th></th>\n",
       "      <th>Arbol</th>\n",
       "      <th>Este</th>\n",
       "      <th>Norte</th>\n",
       "      <th>DAP_cm</th>\n",
       "      <th>Altura_T</th>\n",
       "      <th>Altura_C</th>\n",
       "      <th>Area_Basal_m2</th>\n",
       "      <th>Area_m2</th>\n",
       "    </tr>\n",
       "  </thead>\n",
       "  <tbody>\n",
       "    <tr>\n",
       "      <th>count</th>\n",
       "      <td>160.000000</td>\n",
       "      <td>160.000000</td>\n",
       "      <td>1.600000e+02</td>\n",
       "      <td>160.000000</td>\n",
       "      <td>160.000000</td>\n",
       "      <td>160.000000</td>\n",
       "      <td>160.000000</td>\n",
       "      <td>160.000000</td>\n",
       "    </tr>\n",
       "    <tr>\n",
       "      <th>mean</th>\n",
       "      <td>81.037500</td>\n",
       "      <td>494047.190506</td>\n",
       "      <td>9.023703e+06</td>\n",
       "      <td>10.558712</td>\n",
       "      <td>10.401312</td>\n",
       "      <td>5.205938</td>\n",
       "      <td>0.009556</td>\n",
       "      <td>0.085899</td>\n",
       "    </tr>\n",
       "    <tr>\n",
       "      <th>std</th>\n",
       "      <td>46.764751</td>\n",
       "      <td>16.835725</td>\n",
       "      <td>2.472906e+01</td>\n",
       "      <td>3.198572</td>\n",
       "      <td>2.788527</td>\n",
       "      <td>1.572007</td>\n",
       "      <td>0.005421</td>\n",
       "      <td>0.048764</td>\n",
       "    </tr>\n",
       "    <tr>\n",
       "      <th>min</th>\n",
       "      <td>1.000000</td>\n",
       "      <td>494020.748000</td>\n",
       "      <td>9.023665e+06</td>\n",
       "      <td>4.329004</td>\n",
       "      <td>4.190000</td>\n",
       "      <td>2.160000</td>\n",
       "      <td>0.001500</td>\n",
       "      <td>0.013200</td>\n",
       "    </tr>\n",
       "    <tr>\n",
       "      <th>25%</th>\n",
       "      <td>40.750000</td>\n",
       "      <td>494031.988250</td>\n",
       "      <td>9.023683e+06</td>\n",
       "      <td>8.307869</td>\n",
       "      <td>8.635000</td>\n",
       "      <td>4.220000</td>\n",
       "      <td>0.005425</td>\n",
       "      <td>0.048750</td>\n",
       "    </tr>\n",
       "    <tr>\n",
       "      <th>50%</th>\n",
       "      <td>81.500000</td>\n",
       "      <td>494046.895500</td>\n",
       "      <td>9.023702e+06</td>\n",
       "      <td>10.472371</td>\n",
       "      <td>10.625000</td>\n",
       "      <td>5.115000</td>\n",
       "      <td>0.008650</td>\n",
       "      <td>0.077450</td>\n",
       "    </tr>\n",
       "    <tr>\n",
       "      <th>75%</th>\n",
       "      <td>121.250000</td>\n",
       "      <td>494060.676500</td>\n",
       "      <td>9.023720e+06</td>\n",
       "      <td>12.867647</td>\n",
       "      <td>12.452500</td>\n",
       "      <td>6.245000</td>\n",
       "      <td>0.013025</td>\n",
       "      <td>0.116925</td>\n",
       "    </tr>\n",
       "    <tr>\n",
       "      <th>max</th>\n",
       "      <td>161.000000</td>\n",
       "      <td>494088.154000</td>\n",
       "      <td>9.023752e+06</td>\n",
       "      <td>18.461930</td>\n",
       "      <td>16.220000</td>\n",
       "      <td>10.320000</td>\n",
       "      <td>0.026800</td>\n",
       "      <td>0.240700</td>\n",
       "    </tr>\n",
       "  </tbody>\n",
       "</table>\n",
       "</div>"
      ],
      "text/plain": [
       "            Arbol           Este         Norte      DAP_cm    Altura_T  \\\n",
       "count  160.000000     160.000000  1.600000e+02  160.000000  160.000000   \n",
       "mean    81.037500  494047.190506  9.023703e+06   10.558712   10.401312   \n",
       "std     46.764751      16.835725  2.472906e+01    3.198572    2.788527   \n",
       "min      1.000000  494020.748000  9.023665e+06    4.329004    4.190000   \n",
       "25%     40.750000  494031.988250  9.023683e+06    8.307869    8.635000   \n",
       "50%     81.500000  494046.895500  9.023702e+06   10.472371   10.625000   \n",
       "75%    121.250000  494060.676500  9.023720e+06   12.867647   12.452500   \n",
       "max    161.000000  494088.154000  9.023752e+06   18.461930   16.220000   \n",
       "\n",
       "         Altura_C  Area_Basal_m2     Area_m2  \n",
       "count  160.000000     160.000000  160.000000  \n",
       "mean     5.205938       0.009556    0.085899  \n",
       "std      1.572007       0.005421    0.048764  \n",
       "min      2.160000       0.001500    0.013200  \n",
       "25%      4.220000       0.005425    0.048750  \n",
       "50%      5.115000       0.008650    0.077450  \n",
       "75%      6.245000       0.013025    0.116925  \n",
       "max     10.320000       0.026800    0.240700  "
      ]
     },
     "execution_count": 67,
     "metadata": {},
     "output_type": "execute_result"
    }
   ],
   "source": [
    "Buffer_AB.describe()"
   ]
  },
  {
   "cell_type": "code",
   "execution_count": 68,
   "id": "f8f2efcd-7932-4a4b-a220-1f59abeb5488",
   "metadata": {},
   "outputs": [
    {
     "name": "stdout",
     "output_type": "stream",
     "text": [
      "<class 'geopandas.geodataframe.GeoDataFrame'>\n",
      "Index: 160 entries, 0 to 160\n",
      "Data columns (total 9 columns):\n",
      " #   Column         Non-Null Count  Dtype   \n",
      "---  ------         --------------  -----   \n",
      " 0   Arbol          160 non-null    int64   \n",
      " 1   Este           160 non-null    float64 \n",
      " 2   Norte          160 non-null    float64 \n",
      " 3   DAP_cm         160 non-null    float64 \n",
      " 4   Altura_T       160 non-null    float64 \n",
      " 5   Altura_C       160 non-null    float64 \n",
      " 6   geometry       160 non-null    geometry\n",
      " 7   Area_Basal_m2  160 non-null    float64 \n",
      " 8   Area_m2        160 non-null    float64 \n",
      "dtypes: float64(7), geometry(1), int64(1)\n",
      "memory usage: 12.5 KB\n"
     ]
    }
   ],
   "source": [
    "Buffer_AB.info()"
   ]
  },
  {
   "cell_type": "code",
   "execution_count": 60,
   "id": "0adebbb2-0bbf-4e5a-aed8-7611e0e32a6c",
   "metadata": {},
   "outputs": [
    {
     "data": {
      "text/plain": [
       "Index(['Arbol', 'Este', 'Norte', 'DAP_cm', 'Altura_T', 'Altura_C', 'geometry',\n",
       "       'Area_Basal_m2', 'Area_m2'],\n",
       "      dtype='object')"
      ]
     },
     "execution_count": 60,
     "metadata": {},
     "output_type": "execute_result"
    }
   ],
   "source": [
    "# Nombre de los campos\n",
    "Buffer_AB.columns"
   ]
  },
  {
   "cell_type": "markdown",
   "id": "a771132d-cec8-42b0-8666-59ea476ee39a",
   "metadata": {},
   "source": [
    "### Cambiar nombre de los campos de atributo"
   ]
  },
  {
   "cell_type": "code",
   "execution_count": 69,
   "id": "24780123-2b52-4a74-95e5-814f35be9e08",
   "metadata": {},
   "outputs": [],
   "source": [
    "nombre = ['Arbol', 'Este', 'Norte', 'DAP_cm', 'Altura_T', 'Altura_C', 'geometry',\n",
    "          'AB_m2', 'Area_m2']"
   ]
  },
  {
   "cell_type": "code",
   "execution_count": 70,
   "id": "7f8a001b-2714-45a3-9724-d4ceb01dffb5",
   "metadata": {},
   "outputs": [],
   "source": [
    "# Cambiar el nombre de los campos\n",
    "Buffer_AB.columns = nombre"
   ]
  },
  {
   "cell_type": "code",
   "execution_count": 71,
   "id": "99ece4c7-1042-4f59-99e6-0d7b5a2afdd7",
   "metadata": {},
   "outputs": [
    {
     "data": {
      "text/plain": [
       "geopandas.geodataframe.GeoDataFrame"
      ]
     },
     "execution_count": 71,
     "metadata": {},
     "output_type": "execute_result"
    }
   ],
   "source": [
    "type(Buffer_AB)"
   ]
  },
  {
   "cell_type": "code",
   "execution_count": 72,
   "id": "892f0628-d635-43e0-a757-5a6f8d08c6b4",
   "metadata": {},
   "outputs": [
    {
     "name": "stdout",
     "output_type": "stream",
     "text": [
      "EPSG:32718\n"
     ]
    }
   ],
   "source": [
    "print(Buffer_AB.crs)"
   ]
  },
  {
   "cell_type": "markdown",
   "id": "2dcee766-d947-494d-8b25-0fa1ea2301d8",
   "metadata": {},
   "source": [
    "## Clasificacion diametrica con Shapefile"
   ]
  },
  {
   "cell_type": "code",
   "execution_count": 76,
   "id": "1e6ebe7c-f0f3-4c28-9074-b46428c3cbfb",
   "metadata": {},
   "outputs": [],
   "source": [
    "intervalos = [2, 7, 12, 17, 22, 27, 32]"
   ]
  },
  {
   "cell_type": "code",
   "execution_count": 77,
   "id": "d006a500-537e-46f0-9b9e-d4eccc75a587",
   "metadata": {},
   "outputs": [
    {
     "data": {
      "text/html": [
       "<div>\n",
       "<style scoped>\n",
       "    .dataframe tbody tr th:only-of-type {\n",
       "        vertical-align: middle;\n",
       "    }\n",
       "\n",
       "    .dataframe tbody tr th {\n",
       "        vertical-align: top;\n",
       "    }\n",
       "\n",
       "    .dataframe thead th {\n",
       "        text-align: right;\n",
       "    }\n",
       "</style>\n",
       "<table border=\"1\" class=\"dataframe\">\n",
       "  <thead>\n",
       "    <tr style=\"text-align: right;\">\n",
       "      <th></th>\n",
       "      <th>Arbol</th>\n",
       "      <th>Este</th>\n",
       "      <th>Norte</th>\n",
       "      <th>DAP_cm</th>\n",
       "      <th>Altura_T</th>\n",
       "      <th>Altura_C</th>\n",
       "      <th>geometry</th>\n",
       "      <th>AB_m2</th>\n",
       "      <th>Area_m2</th>\n",
       "    </tr>\n",
       "  </thead>\n",
       "  <tbody>\n",
       "    <tr>\n",
       "      <th>0</th>\n",
       "      <td>1</td>\n",
       "      <td>494028.546</td>\n",
       "      <td>9023749.586</td>\n",
       "      <td>7.862236</td>\n",
       "      <td>8.23</td>\n",
       "      <td>4.24</td>\n",
       "      <td>POLYGON ((494028.664 9023749.588, 494028.664 9...</td>\n",
       "      <td>0.0049</td>\n",
       "      <td>0.0436</td>\n",
       "    </tr>\n",
       "    <tr>\n",
       "      <th>1</th>\n",
       "      <td>2</td>\n",
       "      <td>494033.087</td>\n",
       "      <td>9023749.028</td>\n",
       "      <td>4.647313</td>\n",
       "      <td>5.67</td>\n",
       "      <td>3.79</td>\n",
       "      <td>POLYGON ((494033.157 9023749.029, 494033.157 9...</td>\n",
       "      <td>0.0017</td>\n",
       "      <td>0.0153</td>\n",
       "    </tr>\n",
       "    <tr>\n",
       "      <th>2</th>\n",
       "      <td>3</td>\n",
       "      <td>494042.399</td>\n",
       "      <td>9023748.940</td>\n",
       "      <td>5.634072</td>\n",
       "      <td>6.94</td>\n",
       "      <td>2.70</td>\n",
       "      <td>POLYGON ((494042.483 9023748.941, 494042.483 9...</td>\n",
       "      <td>0.0025</td>\n",
       "      <td>0.0224</td>\n",
       "    </tr>\n",
       "  </tbody>\n",
       "</table>\n",
       "</div>"
      ],
      "text/plain": [
       "   Arbol        Este        Norte    DAP_cm  Altura_T  Altura_C  \\\n",
       "0      1  494028.546  9023749.586  7.862236      8.23      4.24   \n",
       "1      2  494033.087  9023749.028  4.647313      5.67      3.79   \n",
       "2      3  494042.399  9023748.940  5.634072      6.94      2.70   \n",
       "\n",
       "                                            geometry   AB_m2  Area_m2  \n",
       "0  POLYGON ((494028.664 9023749.588, 494028.664 9...  0.0049   0.0436  \n",
       "1  POLYGON ((494033.157 9023749.029, 494033.157 9...  0.0017   0.0153  \n",
       "2  POLYGON ((494042.483 9023748.941, 494042.483 9...  0.0025   0.0224  "
      ]
     },
     "execution_count": 77,
     "metadata": {},
     "output_type": "execute_result"
    }
   ],
   "source": [
    "Buffer_AB.head(3)"
   ]
  },
  {
   "cell_type": "code",
   "execution_count": 78,
   "id": "3c672cca-b683-4216-ac73-92fc69b5a7f7",
   "metadata": {},
   "outputs": [],
   "source": [
    "# Clasificar los diámetros en categorías\n",
    "Buffer_AB['cat_diam'] = pd.cut(Buffer_AB['DAP_cm'], bins=intervalos, labels=range(1, len(intervalos)))"
   ]
  },
  {
   "cell_type": "code",
   "execution_count": 79,
   "id": "9a8c8762-709f-4850-ac40-d637504dceb6",
   "metadata": {},
   "outputs": [
    {
     "data": {
      "text/html": [
       "<div>\n",
       "<style scoped>\n",
       "    .dataframe tbody tr th:only-of-type {\n",
       "        vertical-align: middle;\n",
       "    }\n",
       "\n",
       "    .dataframe tbody tr th {\n",
       "        vertical-align: top;\n",
       "    }\n",
       "\n",
       "    .dataframe thead th {\n",
       "        text-align: right;\n",
       "    }\n",
       "</style>\n",
       "<table border=\"1\" class=\"dataframe\">\n",
       "  <thead>\n",
       "    <tr style=\"text-align: right;\">\n",
       "      <th></th>\n",
       "      <th>Arbol</th>\n",
       "      <th>Este</th>\n",
       "      <th>Norte</th>\n",
       "      <th>DAP_cm</th>\n",
       "      <th>Altura_T</th>\n",
       "      <th>Altura_C</th>\n",
       "      <th>geometry</th>\n",
       "      <th>AB_m2</th>\n",
       "      <th>Area_m2</th>\n",
       "      <th>cat_diam</th>\n",
       "    </tr>\n",
       "  </thead>\n",
       "  <tbody>\n",
       "    <tr>\n",
       "      <th>0</th>\n",
       "      <td>1</td>\n",
       "      <td>494028.546</td>\n",
       "      <td>9023749.586</td>\n",
       "      <td>7.862236</td>\n",
       "      <td>8.23</td>\n",
       "      <td>4.24</td>\n",
       "      <td>POLYGON ((494028.664 9023749.588, 494028.664 9...</td>\n",
       "      <td>0.0049</td>\n",
       "      <td>0.0436</td>\n",
       "      <td>2</td>\n",
       "    </tr>\n",
       "    <tr>\n",
       "      <th>1</th>\n",
       "      <td>2</td>\n",
       "      <td>494033.087</td>\n",
       "      <td>9023749.028</td>\n",
       "      <td>4.647313</td>\n",
       "      <td>5.67</td>\n",
       "      <td>3.79</td>\n",
       "      <td>POLYGON ((494033.157 9023749.029, 494033.157 9...</td>\n",
       "      <td>0.0017</td>\n",
       "      <td>0.0153</td>\n",
       "      <td>1</td>\n",
       "    </tr>\n",
       "    <tr>\n",
       "      <th>2</th>\n",
       "      <td>3</td>\n",
       "      <td>494042.399</td>\n",
       "      <td>9023748.940</td>\n",
       "      <td>5.634072</td>\n",
       "      <td>6.94</td>\n",
       "      <td>2.70</td>\n",
       "      <td>POLYGON ((494042.483 9023748.941, 494042.483 9...</td>\n",
       "      <td>0.0025</td>\n",
       "      <td>0.0224</td>\n",
       "      <td>1</td>\n",
       "    </tr>\n",
       "    <tr>\n",
       "      <th>3</th>\n",
       "      <td>4</td>\n",
       "      <td>494047.100</td>\n",
       "      <td>9023749.095</td>\n",
       "      <td>6.970970</td>\n",
       "      <td>7.81</td>\n",
       "      <td>4.47</td>\n",
       "      <td>POLYGON ((494047.205 9023749.097, 494047.205 9...</td>\n",
       "      <td>0.0038</td>\n",
       "      <td>0.0343</td>\n",
       "      <td>1</td>\n",
       "    </tr>\n",
       "  </tbody>\n",
       "</table>\n",
       "</div>"
      ],
      "text/plain": [
       "   Arbol        Este        Norte    DAP_cm  Altura_T  Altura_C  \\\n",
       "0      1  494028.546  9023749.586  7.862236      8.23      4.24   \n",
       "1      2  494033.087  9023749.028  4.647313      5.67      3.79   \n",
       "2      3  494042.399  9023748.940  5.634072      6.94      2.70   \n",
       "3      4  494047.100  9023749.095  6.970970      7.81      4.47   \n",
       "\n",
       "                                            geometry   AB_m2  Area_m2 cat_diam  \n",
       "0  POLYGON ((494028.664 9023749.588, 494028.664 9...  0.0049   0.0436        2  \n",
       "1  POLYGON ((494033.157 9023749.029, 494033.157 9...  0.0017   0.0153        1  \n",
       "2  POLYGON ((494042.483 9023748.941, 494042.483 9...  0.0025   0.0224        1  \n",
       "3  POLYGON ((494047.205 9023749.097, 494047.205 9...  0.0038   0.0343        1  "
      ]
     },
     "execution_count": 79,
     "metadata": {},
     "output_type": "execute_result"
    }
   ],
   "source": [
    "Buffer_AB.head(4)"
   ]
  },
  {
   "cell_type": "code",
   "execution_count": 98,
   "id": "a5d3f7e6-87dc-4659-8d20-cbf1e48dbd42",
   "metadata": {},
   "outputs": [],
   "source": [
    "Buffer_AB[\"cat_diam\"] = Buffer_AB[\"cat_diam\"].astype(int)"
   ]
  },
  {
   "cell_type": "code",
   "execution_count": 99,
   "id": "39129d78-2797-46a8-9964-221bcc408fb6",
   "metadata": {},
   "outputs": [],
   "source": [
    "# Exportacion del shp \n",
    "Buffer_AB.to_file('Buffer_AB2.shp')"
   ]
  },
  {
   "cell_type": "code",
   "execution_count": null,
   "id": "e65020d6-45f6-43cd-b496-298fba584033",
   "metadata": {},
   "outputs": [],
   "source": []
  }
 ],
 "metadata": {
  "kernelspec": {
   "display_name": "Python 3 (ipykernel)",
   "language": "python",
   "name": "python3"
  },
  "language_info": {
   "codemirror_mode": {
    "name": "ipython",
    "version": 3
   },
   "file_extension": ".py",
   "mimetype": "text/x-python",
   "name": "python",
   "nbconvert_exporter": "python",
   "pygments_lexer": "ipython3",
   "version": "3.9.13"
  }
 },
 "nbformat": 4,
 "nbformat_minor": 5
}
