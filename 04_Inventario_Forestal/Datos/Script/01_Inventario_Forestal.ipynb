{
 "cells": [
  {
   "cell_type": "markdown",
   "id": "0056706f-dce2-4817-8afd-c041fa0b161e",
   "metadata": {},
   "source": [
    "# Inventario Forestal AGPRES"
   ]
  },
  {
   "cell_type": "code",
   "execution_count": null,
   "id": "bc75568a-4026-475d-adc3-bc379df76220",
   "metadata": {},
   "outputs": [],
   "source": [
    "!pip install pandas"
   ]
  },
  {
   "cell_type": "code",
   "execution_count": 1,
   "id": "f3db417f-cca9-4932-bc26-26e17f6f0ef6",
   "metadata": {},
   "outputs": [],
   "source": [
    "import os\n",
    "import glob\n",
    "import pandas as pd"
   ]
  },
  {
   "cell_type": "code",
   "execution_count": 2,
   "id": "22ec3846-f1b3-4818-b9bc-53324df38aa0",
   "metadata": {},
   "outputs": [],
   "source": [
    "os.chdir(r\"C:\\Users\\GEOMATICA\\Curso_suelo\\04_Inventario_Forestal\\Datos\\Tabla\")"
   ]
  },
  {
   "cell_type": "code",
   "execution_count": 3,
   "id": "6058e5dd-d4f2-402d-98a8-6eb9fc2a9802",
   "metadata": {},
   "outputs": [
    {
     "data": {
      "text/plain": [
       "['Datos_Inventario.csv', 'distribucion_inventario.csv']"
      ]
     },
     "execution_count": 3,
     "metadata": {},
     "output_type": "execute_result"
    }
   ],
   "source": [
    "lista = glob.glob(\"*_Inventario.csv\")\n",
    "lista"
   ]
  },
  {
   "cell_type": "code",
   "execution_count": 4,
   "id": "352033d4-4719-4da9-b4f4-a553ff199a8d",
   "metadata": {},
   "outputs": [],
   "source": [
    "AH_data = pd.read_csv(lista[0], delimiter=\";\")"
   ]
  },
  {
   "cell_type": "code",
   "execution_count": 8,
   "id": "29e3ff28-587f-48f7-b3ee-e8de28e51597",
   "metadata": {},
   "outputs": [
    {
     "data": {
      "text/html": [
       "<div>\n",
       "<style scoped>\n",
       "    .dataframe tbody tr th:only-of-type {\n",
       "        vertical-align: middle;\n",
       "    }\n",
       "\n",
       "    .dataframe tbody tr th {\n",
       "        vertical-align: top;\n",
       "    }\n",
       "\n",
       "    .dataframe thead th {\n",
       "        text-align: right;\n",
       "    }\n",
       "</style>\n",
       "<table border=\"1\" class=\"dataframe\">\n",
       "  <thead>\n",
       "    <tr style=\"text-align: right;\">\n",
       "      <th></th>\n",
       "      <th>Arbol</th>\n",
       "      <th>Este</th>\n",
       "      <th>Norte</th>\n",
       "      <th>DAP_cm</th>\n",
       "      <th>Altura_T</th>\n",
       "      <th>Altura_C</th>\n",
       "    </tr>\n",
       "  </thead>\n",
       "  <tbody>\n",
       "    <tr>\n",
       "      <th>0</th>\n",
       "      <td>1</td>\n",
       "      <td>494028.546</td>\n",
       "      <td>9023749.586</td>\n",
       "      <td>7.862236</td>\n",
       "      <td>8.23</td>\n",
       "      <td>4.24</td>\n",
       "    </tr>\n",
       "    <tr>\n",
       "      <th>1</th>\n",
       "      <td>2</td>\n",
       "      <td>494033.087</td>\n",
       "      <td>9023749.028</td>\n",
       "      <td>4.647313</td>\n",
       "      <td>5.67</td>\n",
       "      <td>3.79</td>\n",
       "    </tr>\n",
       "    <tr>\n",
       "      <th>2</th>\n",
       "      <td>3</td>\n",
       "      <td>494042.399</td>\n",
       "      <td>9023748.940</td>\n",
       "      <td>5.634072</td>\n",
       "      <td>6.94</td>\n",
       "      <td>2.70</td>\n",
       "    </tr>\n",
       "  </tbody>\n",
       "</table>\n",
       "</div>"
      ],
      "text/plain": [
       "   Arbol        Este        Norte    DAP_cm  Altura_T  Altura_C\n",
       "0      1  494028.546  9023749.586  7.862236      8.23      4.24\n",
       "1      2  494033.087  9023749.028  4.647313      5.67      3.79\n",
       "2      3  494042.399  9023748.940  5.634072      6.94      2.70"
      ]
     },
     "execution_count": 8,
     "metadata": {},
     "output_type": "execute_result"
    }
   ],
   "source": [
    "AH_data.head(3)"
   ]
  },
  {
   "cell_type": "code",
   "execution_count": 9,
   "id": "49fa0011-baa1-46d2-aa45-fd3878dac8a2",
   "metadata": {},
   "outputs": [
    {
     "data": {
      "text/plain": [
       "161"
      ]
     },
     "execution_count": 9,
     "metadata": {},
     "output_type": "execute_result"
    }
   ],
   "source": [
    "len(AH_data)"
   ]
  },
  {
   "cell_type": "markdown",
   "id": "7f27a2ad-58a1-427b-bb2a-5e664aadcc8c",
   "metadata": {},
   "source": [
    "## Eliminar datos sin valores"
   ]
  },
  {
   "cell_type": "code",
   "execution_count": 10,
   "id": "feb484e3-a012-47eb-90e4-a4e586f2f66d",
   "metadata": {},
   "outputs": [],
   "source": [
    "data_clean = AH_data.dropna()"
   ]
  },
  {
   "cell_type": "code",
   "execution_count": 11,
   "id": "eb5eb1f9-2270-49ca-a890-7880848c2c5a",
   "metadata": {},
   "outputs": [
    {
     "data": {
      "text/plain": [
       "160"
      ]
     },
     "execution_count": 11,
     "metadata": {},
     "output_type": "execute_result"
    }
   ],
   "source": [
    "len(data_clean)"
   ]
  },
  {
   "cell_type": "markdown",
   "id": "399ee286-fec8-48ec-9879-a5ec6d384286",
   "metadata": {},
   "source": [
    "## Tipo de datos de las columnas"
   ]
  },
  {
   "cell_type": "code",
   "execution_count": 12,
   "id": "0eaea034-ba74-4b9e-9dc1-e97c6a89d69d",
   "metadata": {},
   "outputs": [
    {
     "data": {
      "text/plain": [
       "Arbol         int64\n",
       "Este        float64\n",
       "Norte       float64\n",
       "DAP_cm      float64\n",
       "Altura_T    float64\n",
       "Altura_C    float64\n",
       "dtype: object"
      ]
     },
     "execution_count": 12,
     "metadata": {},
     "output_type": "execute_result"
    }
   ],
   "source": [
    "#Para comprobar que se ha leído bien\n",
    "data_clean.dtypes"
   ]
  },
  {
   "cell_type": "markdown",
   "id": "0d52ee4e-82c6-4024-8791-47b90fdc4dbb",
   "metadata": {},
   "source": [
    "## Calcular el área basal (en metros cuadrados)"
   ]
  },
  {
   "cell_type": "code",
   "execution_count": 14,
   "id": "494a0ffa-0578-4d0d-b6a5-0e975b49fec8",
   "metadata": {},
   "outputs": [],
   "source": [
    "import numpy as np\n",
    "import copy"
   ]
  },
  {
   "cell_type": "code",
   "execution_count": 15,
   "id": "9fdc276d-123e-447f-82a1-03f7a3a95196",
   "metadata": {},
   "outputs": [],
   "source": [
    "data_inventario = copy.copy(data_clean)"
   ]
  },
  {
   "cell_type": "code",
   "execution_count": 16,
   "id": "4fecc24a-3fd6-4c19-9294-928542c06ae0",
   "metadata": {},
   "outputs": [],
   "source": [
    "data_inventario['Area_Basal_m2'] = round((data_inventario['DAP_cm'] / 100)*(data_inventario['DAP_cm'] / 100)* np.pi/4,4)"
   ]
  },
  {
   "cell_type": "code",
   "execution_count": 17,
   "id": "2a0202ba-0145-47c6-b4fd-409c940a7639",
   "metadata": {},
   "outputs": [
    {
     "data": {
      "text/html": [
       "<div>\n",
       "<style scoped>\n",
       "    .dataframe tbody tr th:only-of-type {\n",
       "        vertical-align: middle;\n",
       "    }\n",
       "\n",
       "    .dataframe tbody tr th {\n",
       "        vertical-align: top;\n",
       "    }\n",
       "\n",
       "    .dataframe thead th {\n",
       "        text-align: right;\n",
       "    }\n",
       "</style>\n",
       "<table border=\"1\" class=\"dataframe\">\n",
       "  <thead>\n",
       "    <tr style=\"text-align: right;\">\n",
       "      <th></th>\n",
       "      <th>Arbol</th>\n",
       "      <th>Este</th>\n",
       "      <th>Norte</th>\n",
       "      <th>DAP_cm</th>\n",
       "      <th>Altura_T</th>\n",
       "      <th>Altura_C</th>\n",
       "      <th>Area_Basal_m2</th>\n",
       "    </tr>\n",
       "  </thead>\n",
       "  <tbody>\n",
       "    <tr>\n",
       "      <th>0</th>\n",
       "      <td>1</td>\n",
       "      <td>494028.546</td>\n",
       "      <td>9023749.586</td>\n",
       "      <td>7.862236</td>\n",
       "      <td>8.23</td>\n",
       "      <td>4.24</td>\n",
       "      <td>0.0049</td>\n",
       "    </tr>\n",
       "    <tr>\n",
       "      <th>1</th>\n",
       "      <td>2</td>\n",
       "      <td>494033.087</td>\n",
       "      <td>9023749.028</td>\n",
       "      <td>4.647313</td>\n",
       "      <td>5.67</td>\n",
       "      <td>3.79</td>\n",
       "      <td>0.0017</td>\n",
       "    </tr>\n",
       "    <tr>\n",
       "      <th>2</th>\n",
       "      <td>3</td>\n",
       "      <td>494042.399</td>\n",
       "      <td>9023748.940</td>\n",
       "      <td>5.634072</td>\n",
       "      <td>6.94</td>\n",
       "      <td>2.70</td>\n",
       "      <td>0.0025</td>\n",
       "    </tr>\n",
       "    <tr>\n",
       "      <th>3</th>\n",
       "      <td>4</td>\n",
       "      <td>494047.100</td>\n",
       "      <td>9023749.095</td>\n",
       "      <td>6.970970</td>\n",
       "      <td>7.81</td>\n",
       "      <td>4.47</td>\n",
       "      <td>0.0038</td>\n",
       "    </tr>\n",
       "    <tr>\n",
       "      <th>4</th>\n",
       "      <td>5</td>\n",
       "      <td>494056.927</td>\n",
       "      <td>9023749.512</td>\n",
       "      <td>8.498854</td>\n",
       "      <td>9.77</td>\n",
       "      <td>5.05</td>\n",
       "      <td>0.0057</td>\n",
       "    </tr>\n",
       "  </tbody>\n",
       "</table>\n",
       "</div>"
      ],
      "text/plain": [
       "   Arbol        Este        Norte    DAP_cm  Altura_T  Altura_C  Area_Basal_m2\n",
       "0      1  494028.546  9023749.586  7.862236      8.23      4.24         0.0049\n",
       "1      2  494033.087  9023749.028  4.647313      5.67      3.79         0.0017\n",
       "2      3  494042.399  9023748.940  5.634072      6.94      2.70         0.0025\n",
       "3      4  494047.100  9023749.095  6.970970      7.81      4.47         0.0038\n",
       "4      5  494056.927  9023749.512  8.498854      9.77      5.05         0.0057"
      ]
     },
     "execution_count": 17,
     "metadata": {},
     "output_type": "execute_result"
    }
   ],
   "source": [
    "data_inventario.head()"
   ]
  },
  {
   "cell_type": "markdown",
   "id": "810010ff-c97d-413d-9316-94e8ee3c550c",
   "metadata": {},
   "source": [
    "##  Determinar el volumen comercial"
   ]
  },
  {
   "cell_type": "code",
   "execution_count": 19,
   "id": "e11a1bbb-48b7-434e-908a-3d24c03fffeb",
   "metadata": {},
   "outputs": [],
   "source": [
    "Coeficiente_forma = 0.496"
   ]
  },
  {
   "cell_type": "code",
   "execution_count": 20,
   "id": "ce5e2888-d6f6-4210-85fc-f780814d61d9",
   "metadata": {},
   "outputs": [],
   "source": [
    "data_inventario['Vol_Comerc_m3'] = round((data_inventario['Area_Basal_m2'])*(data_inventario['Altura_C'])* Coeficiente_forma, 4)"
   ]
  },
  {
   "cell_type": "code",
   "execution_count": 21,
   "id": "fdb4dfe1-adc6-4790-8c80-ec74b507bb26",
   "metadata": {},
   "outputs": [
    {
     "data": {
      "text/html": [
       "<div>\n",
       "<style scoped>\n",
       "    .dataframe tbody tr th:only-of-type {\n",
       "        vertical-align: middle;\n",
       "    }\n",
       "\n",
       "    .dataframe tbody tr th {\n",
       "        vertical-align: top;\n",
       "    }\n",
       "\n",
       "    .dataframe thead th {\n",
       "        text-align: right;\n",
       "    }\n",
       "</style>\n",
       "<table border=\"1\" class=\"dataframe\">\n",
       "  <thead>\n",
       "    <tr style=\"text-align: right;\">\n",
       "      <th></th>\n",
       "      <th>Arbol</th>\n",
       "      <th>Este</th>\n",
       "      <th>Norte</th>\n",
       "      <th>DAP_cm</th>\n",
       "      <th>Altura_T</th>\n",
       "      <th>Altura_C</th>\n",
       "      <th>Area_Basal_m2</th>\n",
       "      <th>Vol_Comerc_m3</th>\n",
       "    </tr>\n",
       "  </thead>\n",
       "  <tbody>\n",
       "    <tr>\n",
       "      <th>0</th>\n",
       "      <td>1</td>\n",
       "      <td>494028.546</td>\n",
       "      <td>9023749.586</td>\n",
       "      <td>7.862236</td>\n",
       "      <td>8.23</td>\n",
       "      <td>4.24</td>\n",
       "      <td>0.0049</td>\n",
       "      <td>0.0103</td>\n",
       "    </tr>\n",
       "    <tr>\n",
       "      <th>1</th>\n",
       "      <td>2</td>\n",
       "      <td>494033.087</td>\n",
       "      <td>9023749.028</td>\n",
       "      <td>4.647313</td>\n",
       "      <td>5.67</td>\n",
       "      <td>3.79</td>\n",
       "      <td>0.0017</td>\n",
       "      <td>0.0032</td>\n",
       "    </tr>\n",
       "    <tr>\n",
       "      <th>2</th>\n",
       "      <td>3</td>\n",
       "      <td>494042.399</td>\n",
       "      <td>9023748.940</td>\n",
       "      <td>5.634072</td>\n",
       "      <td>6.94</td>\n",
       "      <td>2.70</td>\n",
       "      <td>0.0025</td>\n",
       "      <td>0.0033</td>\n",
       "    </tr>\n",
       "    <tr>\n",
       "      <th>3</th>\n",
       "      <td>4</td>\n",
       "      <td>494047.100</td>\n",
       "      <td>9023749.095</td>\n",
       "      <td>6.970970</td>\n",
       "      <td>7.81</td>\n",
       "      <td>4.47</td>\n",
       "      <td>0.0038</td>\n",
       "      <td>0.0084</td>\n",
       "    </tr>\n",
       "    <tr>\n",
       "      <th>4</th>\n",
       "      <td>5</td>\n",
       "      <td>494056.927</td>\n",
       "      <td>9023749.512</td>\n",
       "      <td>8.498854</td>\n",
       "      <td>9.77</td>\n",
       "      <td>5.05</td>\n",
       "      <td>0.0057</td>\n",
       "      <td>0.0143</td>\n",
       "    </tr>\n",
       "  </tbody>\n",
       "</table>\n",
       "</div>"
      ],
      "text/plain": [
       "   Arbol        Este        Norte    DAP_cm  Altura_T  Altura_C  \\\n",
       "0      1  494028.546  9023749.586  7.862236      8.23      4.24   \n",
       "1      2  494033.087  9023749.028  4.647313      5.67      3.79   \n",
       "2      3  494042.399  9023748.940  5.634072      6.94      2.70   \n",
       "3      4  494047.100  9023749.095  6.970970      7.81      4.47   \n",
       "4      5  494056.927  9023749.512  8.498854      9.77      5.05   \n",
       "\n",
       "   Area_Basal_m2  Vol_Comerc_m3  \n",
       "0         0.0049         0.0103  \n",
       "1         0.0017         0.0032  \n",
       "2         0.0025         0.0033  \n",
       "3         0.0038         0.0084  \n",
       "4         0.0057         0.0143  "
      ]
     },
     "execution_count": 21,
     "metadata": {},
     "output_type": "execute_result"
    }
   ],
   "source": [
    "data_inventario.head()"
   ]
  },
  {
   "cell_type": "markdown",
   "id": "77945640-537e-4548-9f81-360291b3b452",
   "metadata": {},
   "source": [
    "##  Determinar el volumen total"
   ]
  },
  {
   "cell_type": "code",
   "execution_count": 22,
   "id": "6774f3d3-69d6-497e-b43a-cecb99354e97",
   "metadata": {},
   "outputs": [],
   "source": [
    "data_inventario['Vol_Total_m3'] = round((data_inventario['Area_Basal_m2'])*(data_inventario['Altura_T'])* Coeficiente_forma, 4)"
   ]
  },
  {
   "cell_type": "code",
   "execution_count": 23,
   "id": "56c4a3ab-19fc-46a9-9612-b1bfde9d4968",
   "metadata": {},
   "outputs": [
    {
     "data": {
      "text/html": [
       "<div>\n",
       "<style scoped>\n",
       "    .dataframe tbody tr th:only-of-type {\n",
       "        vertical-align: middle;\n",
       "    }\n",
       "\n",
       "    .dataframe tbody tr th {\n",
       "        vertical-align: top;\n",
       "    }\n",
       "\n",
       "    .dataframe thead th {\n",
       "        text-align: right;\n",
       "    }\n",
       "</style>\n",
       "<table border=\"1\" class=\"dataframe\">\n",
       "  <thead>\n",
       "    <tr style=\"text-align: right;\">\n",
       "      <th></th>\n",
       "      <th>Arbol</th>\n",
       "      <th>Este</th>\n",
       "      <th>Norte</th>\n",
       "      <th>DAP_cm</th>\n",
       "      <th>Altura_T</th>\n",
       "      <th>Altura_C</th>\n",
       "      <th>Area_Basal_m2</th>\n",
       "      <th>Vol_Comerc_m3</th>\n",
       "      <th>Vol_Total_m3</th>\n",
       "    </tr>\n",
       "  </thead>\n",
       "  <tbody>\n",
       "    <tr>\n",
       "      <th>0</th>\n",
       "      <td>1</td>\n",
       "      <td>494028.546</td>\n",
       "      <td>9023749.586</td>\n",
       "      <td>7.862236</td>\n",
       "      <td>8.23</td>\n",
       "      <td>4.24</td>\n",
       "      <td>0.0049</td>\n",
       "      <td>0.0103</td>\n",
       "      <td>0.0200</td>\n",
       "    </tr>\n",
       "    <tr>\n",
       "      <th>1</th>\n",
       "      <td>2</td>\n",
       "      <td>494033.087</td>\n",
       "      <td>9023749.028</td>\n",
       "      <td>4.647313</td>\n",
       "      <td>5.67</td>\n",
       "      <td>3.79</td>\n",
       "      <td>0.0017</td>\n",
       "      <td>0.0032</td>\n",
       "      <td>0.0048</td>\n",
       "    </tr>\n",
       "    <tr>\n",
       "      <th>2</th>\n",
       "      <td>3</td>\n",
       "      <td>494042.399</td>\n",
       "      <td>9023748.940</td>\n",
       "      <td>5.634072</td>\n",
       "      <td>6.94</td>\n",
       "      <td>2.70</td>\n",
       "      <td>0.0025</td>\n",
       "      <td>0.0033</td>\n",
       "      <td>0.0086</td>\n",
       "    </tr>\n",
       "    <tr>\n",
       "      <th>3</th>\n",
       "      <td>4</td>\n",
       "      <td>494047.100</td>\n",
       "      <td>9023749.095</td>\n",
       "      <td>6.970970</td>\n",
       "      <td>7.81</td>\n",
       "      <td>4.47</td>\n",
       "      <td>0.0038</td>\n",
       "      <td>0.0084</td>\n",
       "      <td>0.0147</td>\n",
       "    </tr>\n",
       "    <tr>\n",
       "      <th>4</th>\n",
       "      <td>5</td>\n",
       "      <td>494056.927</td>\n",
       "      <td>9023749.512</td>\n",
       "      <td>8.498854</td>\n",
       "      <td>9.77</td>\n",
       "      <td>5.05</td>\n",
       "      <td>0.0057</td>\n",
       "      <td>0.0143</td>\n",
       "      <td>0.0276</td>\n",
       "    </tr>\n",
       "  </tbody>\n",
       "</table>\n",
       "</div>"
      ],
      "text/plain": [
       "   Arbol        Este        Norte    DAP_cm  Altura_T  Altura_C  \\\n",
       "0      1  494028.546  9023749.586  7.862236      8.23      4.24   \n",
       "1      2  494033.087  9023749.028  4.647313      5.67      3.79   \n",
       "2      3  494042.399  9023748.940  5.634072      6.94      2.70   \n",
       "3      4  494047.100  9023749.095  6.970970      7.81      4.47   \n",
       "4      5  494056.927  9023749.512  8.498854      9.77      5.05   \n",
       "\n",
       "   Area_Basal_m2  Vol_Comerc_m3  Vol_Total_m3  \n",
       "0         0.0049         0.0103        0.0200  \n",
       "1         0.0017         0.0032        0.0048  \n",
       "2         0.0025         0.0033        0.0086  \n",
       "3         0.0038         0.0084        0.0147  \n",
       "4         0.0057         0.0143        0.0276  "
      ]
     },
     "execution_count": 23,
     "metadata": {},
     "output_type": "execute_result"
    }
   ],
   "source": [
    "data_inventario.head()"
   ]
  },
  {
   "cell_type": "markdown",
   "id": "ce4c422a-94b7-483d-b23c-4fb55c9cdac9",
   "metadata": {},
   "source": [
    "## Principales estadísticos"
   ]
  },
  {
   "cell_type": "code",
   "execution_count": 24,
   "id": "d0f54e20-5933-4495-bdba-3d3887e30e57",
   "metadata": {},
   "outputs": [
    {
     "name": "stdout",
     "output_type": "stream",
     "text": [
      "['Arbol', 'Este', 'Norte', 'DAP_cm', 'Altura_T', 'Altura_C', 'Area_Basal_m2', 'Vol_Comerc_m3', 'Vol_Total_m3']\n"
     ]
    }
   ],
   "source": [
    "lista_columna = list(data_inventario.columns)\n",
    "print(lista_columna)"
   ]
  },
  {
   "cell_type": "code",
   "execution_count": 25,
   "id": "6500e66a-c0c4-456e-a406-97464f527cdd",
   "metadata": {},
   "outputs": [
    {
     "data": {
      "text/plain": [
       "['DAP_cm', 'Altura_T', 'Altura_C', 'Area_Basal_m2', 'Vol_Comerc_m3']"
      ]
     },
     "execution_count": 25,
     "metadata": {},
     "output_type": "execute_result"
    }
   ],
   "source": [
    "lista_columna[3:8]"
   ]
  },
  {
   "cell_type": "code",
   "execution_count": 26,
   "id": "fb6f9454-c13a-475b-898a-b0b43c68990b",
   "metadata": {},
   "outputs": [
    {
     "data": {
      "text/html": [
       "<div>\n",
       "<style scoped>\n",
       "    .dataframe tbody tr th:only-of-type {\n",
       "        vertical-align: middle;\n",
       "    }\n",
       "\n",
       "    .dataframe tbody tr th {\n",
       "        vertical-align: top;\n",
       "    }\n",
       "\n",
       "    .dataframe thead th {\n",
       "        text-align: right;\n",
       "    }\n",
       "</style>\n",
       "<table border=\"1\" class=\"dataframe\">\n",
       "  <thead>\n",
       "    <tr style=\"text-align: right;\">\n",
       "      <th></th>\n",
       "      <th>DAP_cm</th>\n",
       "      <th>Altura_T</th>\n",
       "      <th>Altura_C</th>\n",
       "      <th>Area_Basal_m2</th>\n",
       "      <th>Vol_Comerc_m3</th>\n",
       "      <th>Vol_Total_m3</th>\n",
       "    </tr>\n",
       "  </thead>\n",
       "  <tbody>\n",
       "    <tr>\n",
       "      <th>count</th>\n",
       "      <td>160.000000</td>\n",
       "      <td>160.000000</td>\n",
       "      <td>160.000000</td>\n",
       "      <td>160.000000</td>\n",
       "      <td>160.000000</td>\n",
       "      <td>160.000000</td>\n",
       "    </tr>\n",
       "    <tr>\n",
       "      <th>mean</th>\n",
       "      <td>10.558712</td>\n",
       "      <td>10.401312</td>\n",
       "      <td>5.205938</td>\n",
       "      <td>0.009556</td>\n",
       "      <td>0.027059</td>\n",
       "      <td>0.055651</td>\n",
       "    </tr>\n",
       "    <tr>\n",
       "      <th>std</th>\n",
       "      <td>3.198572</td>\n",
       "      <td>2.788527</td>\n",
       "      <td>1.572007</td>\n",
       "      <td>0.005421</td>\n",
       "      <td>0.019756</td>\n",
       "      <td>0.041936</td>\n",
       "    </tr>\n",
       "    <tr>\n",
       "      <th>min</th>\n",
       "      <td>4.329004</td>\n",
       "      <td>4.190000</td>\n",
       "      <td>2.160000</td>\n",
       "      <td>0.001500</td>\n",
       "      <td>0.001600</td>\n",
       "      <td>0.003100</td>\n",
       "    </tr>\n",
       "    <tr>\n",
       "      <th>25%</th>\n",
       "      <td>8.307869</td>\n",
       "      <td>8.635000</td>\n",
       "      <td>4.220000</td>\n",
       "      <td>0.005425</td>\n",
       "      <td>0.011275</td>\n",
       "      <td>0.024975</td>\n",
       "    </tr>\n",
       "    <tr>\n",
       "      <th>50%</th>\n",
       "      <td>10.472371</td>\n",
       "      <td>10.625000</td>\n",
       "      <td>5.115000</td>\n",
       "      <td>0.008650</td>\n",
       "      <td>0.022650</td>\n",
       "      <td>0.044600</td>\n",
       "    </tr>\n",
       "    <tr>\n",
       "      <th>75%</th>\n",
       "      <td>12.867647</td>\n",
       "      <td>12.452500</td>\n",
       "      <td>6.245000</td>\n",
       "      <td>0.013025</td>\n",
       "      <td>0.040500</td>\n",
       "      <td>0.079550</td>\n",
       "    </tr>\n",
       "    <tr>\n",
       "      <th>max</th>\n",
       "      <td>18.461930</td>\n",
       "      <td>16.220000</td>\n",
       "      <td>10.320000</td>\n",
       "      <td>0.026800</td>\n",
       "      <td>0.103400</td>\n",
       "      <td>0.197700</td>\n",
       "    </tr>\n",
       "  </tbody>\n",
       "</table>\n",
       "</div>"
      ],
      "text/plain": [
       "           DAP_cm    Altura_T    Altura_C  Area_Basal_m2  Vol_Comerc_m3  \\\n",
       "count  160.000000  160.000000  160.000000     160.000000     160.000000   \n",
       "mean    10.558712   10.401312    5.205938       0.009556       0.027059   \n",
       "std      3.198572    2.788527    1.572007       0.005421       0.019756   \n",
       "min      4.329004    4.190000    2.160000       0.001500       0.001600   \n",
       "25%      8.307869    8.635000    4.220000       0.005425       0.011275   \n",
       "50%     10.472371   10.625000    5.115000       0.008650       0.022650   \n",
       "75%     12.867647   12.452500    6.245000       0.013025       0.040500   \n",
       "max     18.461930   16.220000   10.320000       0.026800       0.103400   \n",
       "\n",
       "       Vol_Total_m3  \n",
       "count    160.000000  \n",
       "mean       0.055651  \n",
       "std        0.041936  \n",
       "min        0.003100  \n",
       "25%        0.024975  \n",
       "50%        0.044600  \n",
       "75%        0.079550  \n",
       "max        0.197700  "
      ]
     },
     "execution_count": 26,
     "metadata": {},
     "output_type": "execute_result"
    }
   ],
   "source": [
    "#Principales estadísticos\n",
    "data_inventario[lista_columna[3:9]].describe()"
   ]
  },
  {
   "cell_type": "code",
   "execution_count": 27,
   "id": "57dd6b2c-928d-4d6d-aa4f-0a99585496d6",
   "metadata": {},
   "outputs": [],
   "source": [
    "datos_evaluados = data_inventario[lista_columna[3:9]]"
   ]
  },
  {
   "cell_type": "code",
   "execution_count": 28,
   "id": "d9adfcdb-6cd6-4404-a36f-0cd74d670626",
   "metadata": {},
   "outputs": [],
   "source": [
    "estadisticas_descriptivas = datos_evaluados.describe()"
   ]
  },
  {
   "cell_type": "code",
   "execution_count": 29,
   "id": "be4807b3-464c-443d-ba8c-a7aa1c3ec6be",
   "metadata": {},
   "outputs": [
    {
     "data": {
      "text/plain": [
       "pandas.core.frame.DataFrame"
      ]
     },
     "execution_count": 29,
     "metadata": {},
     "output_type": "execute_result"
    }
   ],
   "source": [
    "type(estadisticas_descriptivas)"
   ]
  },
  {
   "cell_type": "code",
   "execution_count": 30,
   "id": "923cb7e3-c30a-4baa-b34f-f6f7991e1e18",
   "metadata": {},
   "outputs": [
    {
     "data": {
      "text/html": [
       "<div>\n",
       "<style scoped>\n",
       "    .dataframe tbody tr th:only-of-type {\n",
       "        vertical-align: middle;\n",
       "    }\n",
       "\n",
       "    .dataframe tbody tr th {\n",
       "        vertical-align: top;\n",
       "    }\n",
       "\n",
       "    .dataframe thead th {\n",
       "        text-align: right;\n",
       "    }\n",
       "</style>\n",
       "<table border=\"1\" class=\"dataframe\">\n",
       "  <thead>\n",
       "    <tr style=\"text-align: right;\">\n",
       "      <th></th>\n",
       "      <th>DAP_cm</th>\n",
       "      <th>Altura_T</th>\n",
       "      <th>Altura_C</th>\n",
       "      <th>Area_Basal_m2</th>\n",
       "      <th>Vol_Comerc_m3</th>\n",
       "      <th>Vol_Total_m3</th>\n",
       "    </tr>\n",
       "  </thead>\n",
       "  <tbody>\n",
       "    <tr>\n",
       "      <th>count</th>\n",
       "      <td>160.000000</td>\n",
       "      <td>160.000000</td>\n",
       "      <td>160.000000</td>\n",
       "      <td>160.000000</td>\n",
       "      <td>160.000000</td>\n",
       "      <td>160.000000</td>\n",
       "    </tr>\n",
       "    <tr>\n",
       "      <th>mean</th>\n",
       "      <td>10.558712</td>\n",
       "      <td>10.401312</td>\n",
       "      <td>5.205938</td>\n",
       "      <td>0.009556</td>\n",
       "      <td>0.027059</td>\n",
       "      <td>0.055651</td>\n",
       "    </tr>\n",
       "    <tr>\n",
       "      <th>std</th>\n",
       "      <td>3.198572</td>\n",
       "      <td>2.788527</td>\n",
       "      <td>1.572007</td>\n",
       "      <td>0.005421</td>\n",
       "      <td>0.019756</td>\n",
       "      <td>0.041936</td>\n",
       "    </tr>\n",
       "    <tr>\n",
       "      <th>min</th>\n",
       "      <td>4.329004</td>\n",
       "      <td>4.190000</td>\n",
       "      <td>2.160000</td>\n",
       "      <td>0.001500</td>\n",
       "      <td>0.001600</td>\n",
       "      <td>0.003100</td>\n",
       "    </tr>\n",
       "    <tr>\n",
       "      <th>25%</th>\n",
       "      <td>8.307869</td>\n",
       "      <td>8.635000</td>\n",
       "      <td>4.220000</td>\n",
       "      <td>0.005425</td>\n",
       "      <td>0.011275</td>\n",
       "      <td>0.024975</td>\n",
       "    </tr>\n",
       "    <tr>\n",
       "      <th>50%</th>\n",
       "      <td>10.472371</td>\n",
       "      <td>10.625000</td>\n",
       "      <td>5.115000</td>\n",
       "      <td>0.008650</td>\n",
       "      <td>0.022650</td>\n",
       "      <td>0.044600</td>\n",
       "    </tr>\n",
       "    <tr>\n",
       "      <th>75%</th>\n",
       "      <td>12.867647</td>\n",
       "      <td>12.452500</td>\n",
       "      <td>6.245000</td>\n",
       "      <td>0.013025</td>\n",
       "      <td>0.040500</td>\n",
       "      <td>0.079550</td>\n",
       "    </tr>\n",
       "    <tr>\n",
       "      <th>max</th>\n",
       "      <td>18.461930</td>\n",
       "      <td>16.220000</td>\n",
       "      <td>10.320000</td>\n",
       "      <td>0.026800</td>\n",
       "      <td>0.103400</td>\n",
       "      <td>0.197700</td>\n",
       "    </tr>\n",
       "  </tbody>\n",
       "</table>\n",
       "</div>"
      ],
      "text/plain": [
       "           DAP_cm    Altura_T    Altura_C  Area_Basal_m2  Vol_Comerc_m3  \\\n",
       "count  160.000000  160.000000  160.000000     160.000000     160.000000   \n",
       "mean    10.558712   10.401312    5.205938       0.009556       0.027059   \n",
       "std      3.198572    2.788527    1.572007       0.005421       0.019756   \n",
       "min      4.329004    4.190000    2.160000       0.001500       0.001600   \n",
       "25%      8.307869    8.635000    4.220000       0.005425       0.011275   \n",
       "50%     10.472371   10.625000    5.115000       0.008650       0.022650   \n",
       "75%     12.867647   12.452500    6.245000       0.013025       0.040500   \n",
       "max     18.461930   16.220000   10.320000       0.026800       0.103400   \n",
       "\n",
       "       Vol_Total_m3  \n",
       "count    160.000000  \n",
       "mean       0.055651  \n",
       "std        0.041936  \n",
       "min        0.003100  \n",
       "25%        0.024975  \n",
       "50%        0.044600  \n",
       "75%        0.079550  \n",
       "max        0.197700  "
      ]
     },
     "execution_count": 30,
     "metadata": {},
     "output_type": "execute_result"
    }
   ],
   "source": [
    "estadisticas_descriptivas.head(10)"
   ]
  },
  {
   "cell_type": "code",
   "execution_count": 53,
   "id": "78076e46-cd8d-460f-a121-abe753f1b325",
   "metadata": {},
   "outputs": [],
   "source": [
    "dap_mean = round((list(estadisticas_descriptivas[\"DAP_cm\"]))[1]/8,4)\n",
    "Altura_C_mean = round((list(estadisticas_descriptivas[\"Altura_C\"]))[1]/8,4)\n",
    "Altura_T_mean = round((list(estadisticas_descriptivas[\"Altura_T\"]))[1]/8,4)\n",
    "#Vol_Comerc_m3_mean = (list(estadisticas_descriptivas[\"Vol_Comerc_m3\"]))[1]/8\n",
    "#Vol_Total_m3_mean = (list(estadisticas_descriptivas[\"Vol_Total_m3\"]))[1]/8\n",
    "#Vol_Total_m3_mean"
   ]
  },
  {
   "cell_type": "code",
   "execution_count": 31,
   "id": "e3add53d-7dc7-466a-bbaf-a596e66171da",
   "metadata": {},
   "outputs": [],
   "source": [
    "estadisticas_descriptivas.to_csv('Estadisticas_descriptivas.csv', index=True)"
   ]
  },
  {
   "cell_type": "code",
   "execution_count": 31,
   "id": "c082af21-b79d-4cd4-9db4-ea2fb0728d3d",
   "metadata": {},
   "outputs": [],
   "source": [
    "# Suma a lo largo de las filas (eje 0)\n",
    "suma_filas = datos_evaluados.sum(axis=0) "
   ]
  },
  {
   "cell_type": "code",
   "execution_count": 32,
   "id": "5d380572-12c2-4e33-879b-9f0fd2b1ec21",
   "metadata": {},
   "outputs": [
    {
     "data": {
      "text/plain": [
       "DAP_cm           1689.393939\n",
       "Altura_T         1664.210000\n",
       "Altura_C          832.950000\n",
       "Area_Basal_m2       1.528900\n",
       "Vol_Comerc_m3       4.329500\n",
       "Vol_Total_m3        8.904100\n",
       "dtype: float64"
      ]
     },
     "execution_count": 32,
     "metadata": {},
     "output_type": "execute_result"
    }
   ],
   "source": [
    "suma_filas.head(7)"
   ]
  },
  {
   "cell_type": "code",
   "execution_count": 33,
   "id": "f44addad-28f4-408b-af45-5a480a0b4362",
   "metadata": {},
   "outputs": [],
   "source": [
    "suma_filas.to_csv('Sumas_totales.csv', index=True)"
   ]
  },
  {
   "cell_type": "markdown",
   "id": "a4c2a8b1-45d0-419c-be0d-c80ba6d5bb22",
   "metadata": {},
   "source": [
    "## Determinar Distribución de frecuencia"
   ]
  },
  {
   "cell_type": "code",
   "execution_count": 34,
   "id": "6a682081-ca6c-451a-a9b4-a8aead3fdcc8",
   "metadata": {},
   "outputs": [],
   "source": [
    "intervalos = [2, 7, 12, 17, 22, 27, 32]"
   ]
  },
  {
   "cell_type": "code",
   "execution_count": 35,
   "id": "e4074e80-c3a9-4f1d-9b7b-b415464eb403",
   "metadata": {},
   "outputs": [],
   "source": [
    "# Utiliza pd.cut() para dividir los diámetros en intervalos y contar cuántos caen en cada intervalo\n",
    "distribucion_frecuencia = pd.cut(data_inventario['DAP_cm'], bins=intervalos, include_lowest=True)"
   ]
  },
  {
   "cell_type": "code",
   "execution_count": 36,
   "id": "59b048c0-dadd-4ae9-a08d-04d839efdace",
   "metadata": {},
   "outputs": [],
   "source": [
    "# Calcula la frecuencia absoluta y relativa\n",
    "frecuencia_absoluta = distribucion_frecuencia.value_counts().sort_index()\n",
    "frecuencia_relativa = distribucion_frecuencia.value_counts(normalize=True).sort_index()"
   ]
  },
  {
   "cell_type": "code",
   "execution_count": 37,
   "id": "e37030b9-0906-4272-91ac-40d48448d8ed",
   "metadata": {},
   "outputs": [],
   "source": [
    "# Calcula la marca de clase (punto medio de cada intervalo)\n",
    "marca_de_clase = [(i.left + i.right) / 2 for i in frecuencia_absoluta.index]"
   ]
  },
  {
   "cell_type": "code",
   "execution_count": 38,
   "id": "ff78a250-8fe1-4691-932a-6e8b00ab8959",
   "metadata": {},
   "outputs": [],
   "source": [
    "# Combina los resultados en un DataFrame\n",
    "distribucion_df = pd.DataFrame({\n",
    "    'Intervalo': frecuencia_absoluta.index,\n",
    "    'Marca de Clase': marca_de_clase,\n",
    "    'Frecuencia Absoluta': frecuencia_absoluta.values,\n",
    "    'Frecuencia Relativa': frecuencia_relativa.values\n",
    "})"
   ]
  },
  {
   "cell_type": "code",
   "execution_count": 39,
   "id": "9dc55674-ea26-48f5-9b05-66aaf27b507e",
   "metadata": {},
   "outputs": [
    {
     "name": "stdout",
     "output_type": "stream",
     "text": [
      "Distribución de frecuencia del diámetro en cm:\n"
     ]
    },
    {
     "data": {
      "text/html": [
       "<div>\n",
       "<style scoped>\n",
       "    .dataframe tbody tr th:only-of-type {\n",
       "        vertical-align: middle;\n",
       "    }\n",
       "\n",
       "    .dataframe tbody tr th {\n",
       "        vertical-align: top;\n",
       "    }\n",
       "\n",
       "    .dataframe thead th {\n",
       "        text-align: right;\n",
       "    }\n",
       "</style>\n",
       "<table border=\"1\" class=\"dataframe\">\n",
       "  <thead>\n",
       "    <tr style=\"text-align: right;\">\n",
       "      <th></th>\n",
       "      <th>Intervalo</th>\n",
       "      <th>Marca de Clase</th>\n",
       "      <th>Frecuencia Absoluta</th>\n",
       "      <th>Frecuencia Relativa</th>\n",
       "    </tr>\n",
       "  </thead>\n",
       "  <tbody>\n",
       "    <tr>\n",
       "      <th>0</th>\n",
       "      <td>(1.999, 7.0]</td>\n",
       "      <td>4.4995</td>\n",
       "      <td>22</td>\n",
       "      <td>0.1375</td>\n",
       "    </tr>\n",
       "    <tr>\n",
       "      <th>1</th>\n",
       "      <td>(7.0, 12.0]</td>\n",
       "      <td>9.5000</td>\n",
       "      <td>84</td>\n",
       "      <td>0.5250</td>\n",
       "    </tr>\n",
       "    <tr>\n",
       "      <th>2</th>\n",
       "      <td>(12.0, 17.0]</td>\n",
       "      <td>14.5000</td>\n",
       "      <td>50</td>\n",
       "      <td>0.3125</td>\n",
       "    </tr>\n",
       "    <tr>\n",
       "      <th>3</th>\n",
       "      <td>(17.0, 22.0]</td>\n",
       "      <td>19.5000</td>\n",
       "      <td>4</td>\n",
       "      <td>0.0250</td>\n",
       "    </tr>\n",
       "    <tr>\n",
       "      <th>4</th>\n",
       "      <td>(22.0, 27.0]</td>\n",
       "      <td>24.5000</td>\n",
       "      <td>0</td>\n",
       "      <td>0.0000</td>\n",
       "    </tr>\n",
       "  </tbody>\n",
       "</table>\n",
       "</div>"
      ],
      "text/plain": [
       "      Intervalo  Marca de Clase  Frecuencia Absoluta  Frecuencia Relativa\n",
       "0  (1.999, 7.0]          4.4995                   22               0.1375\n",
       "1   (7.0, 12.0]          9.5000                   84               0.5250\n",
       "2  (12.0, 17.0]         14.5000                   50               0.3125\n",
       "3  (17.0, 22.0]         19.5000                    4               0.0250\n",
       "4  (22.0, 27.0]         24.5000                    0               0.0000"
      ]
     },
     "execution_count": 39,
     "metadata": {},
     "output_type": "execute_result"
    }
   ],
   "source": [
    "# Muestra la distribución de frecuencia cuantitativa con absoluta y relativa\n",
    "print(\"Distribución de frecuencia del diámetro en cm:\")\n",
    "distribucion_df.head()"
   ]
  },
  {
   "cell_type": "code",
   "execution_count": 40,
   "id": "78e139e2-b747-4eae-8141-0a684575f2c0",
   "metadata": {},
   "outputs": [
    {
     "data": {
      "text/plain": [
       "pandas.core.frame.DataFrame"
      ]
     },
     "execution_count": 40,
     "metadata": {},
     "output_type": "execute_result"
    }
   ],
   "source": [
    "type(distribucion_df)"
   ]
  },
  {
   "cell_type": "code",
   "execution_count": 41,
   "id": "fa974ce0-0abe-4546-9623-a80d5fcaf282",
   "metadata": {},
   "outputs": [],
   "source": [
    "distribucion_inventario = copy.copy(distribucion_df)"
   ]
  },
  {
   "cell_type": "code",
   "execution_count": 42,
   "id": "39dfa94e-a2a2-4e71-bd90-e248e6272dff",
   "metadata": {},
   "outputs": [
    {
     "data": {
      "text/html": [
       "<div>\n",
       "<style scoped>\n",
       "    .dataframe tbody tr th:only-of-type {\n",
       "        vertical-align: middle;\n",
       "    }\n",
       "\n",
       "    .dataframe tbody tr th {\n",
       "        vertical-align: top;\n",
       "    }\n",
       "\n",
       "    .dataframe thead th {\n",
       "        text-align: right;\n",
       "    }\n",
       "</style>\n",
       "<table border=\"1\" class=\"dataframe\">\n",
       "  <thead>\n",
       "    <tr style=\"text-align: right;\">\n",
       "      <th></th>\n",
       "      <th>Intervalo</th>\n",
       "      <th>Marca de Clase</th>\n",
       "      <th>Frecuencia Absoluta</th>\n",
       "      <th>Frecuencia Relativa</th>\n",
       "    </tr>\n",
       "  </thead>\n",
       "  <tbody>\n",
       "    <tr>\n",
       "      <th>0</th>\n",
       "      <td>(1.999, 7.0]</td>\n",
       "      <td>4.4995</td>\n",
       "      <td>22</td>\n",
       "      <td>0.1375</td>\n",
       "    </tr>\n",
       "    <tr>\n",
       "      <th>1</th>\n",
       "      <td>(7.0, 12.0]</td>\n",
       "      <td>9.5000</td>\n",
       "      <td>84</td>\n",
       "      <td>0.5250</td>\n",
       "    </tr>\n",
       "    <tr>\n",
       "      <th>2</th>\n",
       "      <td>(12.0, 17.0]</td>\n",
       "      <td>14.5000</td>\n",
       "      <td>50</td>\n",
       "      <td>0.3125</td>\n",
       "    </tr>\n",
       "    <tr>\n",
       "      <th>3</th>\n",
       "      <td>(17.0, 22.0]</td>\n",
       "      <td>19.5000</td>\n",
       "      <td>4</td>\n",
       "      <td>0.0250</td>\n",
       "    </tr>\n",
       "    <tr>\n",
       "      <th>4</th>\n",
       "      <td>(22.0, 27.0]</td>\n",
       "      <td>24.5000</td>\n",
       "      <td>0</td>\n",
       "      <td>0.0000</td>\n",
       "    </tr>\n",
       "  </tbody>\n",
       "</table>\n",
       "</div>"
      ],
      "text/plain": [
       "      Intervalo  Marca de Clase  Frecuencia Absoluta  Frecuencia Relativa\n",
       "0  (1.999, 7.0]          4.4995                   22               0.1375\n",
       "1   (7.0, 12.0]          9.5000                   84               0.5250\n",
       "2  (12.0, 17.0]         14.5000                   50               0.3125\n",
       "3  (17.0, 22.0]         19.5000                    4               0.0250\n",
       "4  (22.0, 27.0]         24.5000                    0               0.0000"
      ]
     },
     "execution_count": 42,
     "metadata": {},
     "output_type": "execute_result"
    }
   ],
   "source": [
    "distribucion_inventario.head()"
   ]
  },
  {
   "cell_type": "code",
   "execution_count": 43,
   "id": "602aaa78-51db-4e23-bdbd-6d6c321b9abf",
   "metadata": {},
   "outputs": [],
   "source": [
    "import math"
   ]
  },
  {
   "cell_type": "code",
   "execution_count": 44,
   "id": "070b9add-9ec7-4a99-9c67-b236f3693d54",
   "metadata": {},
   "outputs": [],
   "source": [
    "distribucion_inventario['N_Ha'] = ((distribucion_inventario['Frecuencia Absoluta'])*1/0.62).apply(math.ceil)"
   ]
  },
  {
   "cell_type": "code",
   "execution_count": 45,
   "id": "4d587f12-e536-45f6-8a4a-3a7cfb06056c",
   "metadata": {},
   "outputs": [
    {
     "data": {
      "text/html": [
       "<div>\n",
       "<style scoped>\n",
       "    .dataframe tbody tr th:only-of-type {\n",
       "        vertical-align: middle;\n",
       "    }\n",
       "\n",
       "    .dataframe tbody tr th {\n",
       "        vertical-align: top;\n",
       "    }\n",
       "\n",
       "    .dataframe thead th {\n",
       "        text-align: right;\n",
       "    }\n",
       "</style>\n",
       "<table border=\"1\" class=\"dataframe\">\n",
       "  <thead>\n",
       "    <tr style=\"text-align: right;\">\n",
       "      <th></th>\n",
       "      <th>Intervalo</th>\n",
       "      <th>Marca de Clase</th>\n",
       "      <th>Frecuencia Absoluta</th>\n",
       "      <th>Frecuencia Relativa</th>\n",
       "      <th>N_Ha</th>\n",
       "    </tr>\n",
       "  </thead>\n",
       "  <tbody>\n",
       "    <tr>\n",
       "      <th>0</th>\n",
       "      <td>(1.999, 7.0]</td>\n",
       "      <td>4.4995</td>\n",
       "      <td>22</td>\n",
       "      <td>0.1375</td>\n",
       "      <td>36</td>\n",
       "    </tr>\n",
       "    <tr>\n",
       "      <th>1</th>\n",
       "      <td>(7.0, 12.0]</td>\n",
       "      <td>9.5000</td>\n",
       "      <td>84</td>\n",
       "      <td>0.5250</td>\n",
       "      <td>136</td>\n",
       "    </tr>\n",
       "    <tr>\n",
       "      <th>2</th>\n",
       "      <td>(12.0, 17.0]</td>\n",
       "      <td>14.5000</td>\n",
       "      <td>50</td>\n",
       "      <td>0.3125</td>\n",
       "      <td>81</td>\n",
       "    </tr>\n",
       "    <tr>\n",
       "      <th>3</th>\n",
       "      <td>(17.0, 22.0]</td>\n",
       "      <td>19.5000</td>\n",
       "      <td>4</td>\n",
       "      <td>0.0250</td>\n",
       "      <td>7</td>\n",
       "    </tr>\n",
       "    <tr>\n",
       "      <th>4</th>\n",
       "      <td>(22.0, 27.0]</td>\n",
       "      <td>24.5000</td>\n",
       "      <td>0</td>\n",
       "      <td>0.0000</td>\n",
       "      <td>0</td>\n",
       "    </tr>\n",
       "  </tbody>\n",
       "</table>\n",
       "</div>"
      ],
      "text/plain": [
       "      Intervalo  Marca de Clase  Frecuencia Absoluta  Frecuencia Relativa  \\\n",
       "0  (1.999, 7.0]          4.4995                   22               0.1375   \n",
       "1   (7.0, 12.0]          9.5000                   84               0.5250   \n",
       "2  (12.0, 17.0]         14.5000                   50               0.3125   \n",
       "3  (17.0, 22.0]         19.5000                    4               0.0250   \n",
       "4  (22.0, 27.0]         24.5000                    0               0.0000   \n",
       "\n",
       "   N_Ha  \n",
       "0    36  \n",
       "1   136  \n",
       "2    81  \n",
       "3     7  \n",
       "4     0  "
      ]
     },
     "execution_count": 45,
     "metadata": {},
     "output_type": "execute_result"
    }
   ],
   "source": [
    "distribucion_inventario.head()"
   ]
  },
  {
   "cell_type": "code",
   "execution_count": 46,
   "id": "95a9b33a-501f-45f6-a062-8ccdff0a0092",
   "metadata": {},
   "outputs": [],
   "source": [
    "import matplotlib.pyplot as plt"
   ]
  },
  {
   "cell_type": "code",
   "execution_count": 47,
   "id": "e26a070f-ff32-49e8-b091-dbfa52663dd7",
   "metadata": {},
   "outputs": [
    {
     "data": {
      "image/png": "[encoded data removed]",
      "text/plain": [
       "<Figure size 640x480 with 1 Axes>"
      ]
     },
     "metadata": {},
     "output_type": "display_data"
    }
   ],
   "source": [
    "# Graficar los datos\n",
    "plt.bar(distribucion_inventario[\"Marca de Clase\"], distribucion_inventario[\"N_Ha\"], \n",
    "        width=1.9, align='center', alpha=0.7,color='skyblue')\n",
    "plt.xlabel('Marca de clase cm')\n",
    "plt.ylabel('Número de individuos /ha')\n",
    "#plt.title('Gráfico de Barras: Marca de Clase vs Número de Individuos /Ha')\n",
    "plt.grid(axis='y', linestyle='--', alpha=0.5)\n",
    "\n",
    "# Agregar etiquetas de valor en las barras\n",
    "for x, y in zip(distribucion_inventario[\"Marca de Clase\"], distribucion_inventario[\"N_Ha\"]):\n",
    "    plt.text(x, y, str(y), ha='center', va='bottom')\n",
    "\n",
    "# Establecer límite máximo en el eje y\n",
    "plt.ylim(0, 160)  # Ajusta el límite máximo según tus necesidades\n",
    "\n",
    "# Establecer las etiquetas del eje x como marcas de clase\n",
    "plt.xticks(distribucion_inventario[\"Marca de Clase\"])\n",
    "\n",
    "# Guardar el gráfico como un archivo PNG\n",
    "plt.savefig('grafico_barras.png')\n",
    "plt.show()\n"
   ]
  },
  {
   "cell_type": "code",
   "execution_count": 48,
   "id": "8fed6624-6d3b-4c51-aa71-1ad4b0856106",
   "metadata": {},
   "outputs": [],
   "source": [
    "\n",
    "distribucion_inventario.to_csv('distribucion_inventario.csv', index=True)"
   ]
  },
  {
   "cell_type": "markdown",
   "id": "fa85dae6-ad62-4e24-851a-3fdc426c8672",
   "metadata": {},
   "source": [
    "## Regresión Lineal con datos inventario"
   ]
  },
  {
   "cell_type": "code",
   "execution_count": 49,
   "id": "ba55183f-a934-4685-9e41-137e2c44bcac",
   "metadata": {},
   "outputs": [],
   "source": [
    "#pip install -U scikit-learn"
   ]
  },
  {
   "cell_type": "code",
   "execution_count": 50,
   "id": "91944f16-06a2-4319-994e-a30c8b2eafe6",
   "metadata": {},
   "outputs": [],
   "source": [
    "from sklearn.linear_model import LinearRegression\n",
    "from sklearn.metrics import r2_score"
   ]
  },
  {
   "cell_type": "code",
   "execution_count": 51,
   "id": "9a716ec9-dd3a-4232-a364-56ea80fe245d",
   "metadata": {},
   "outputs": [
    {
     "data": {
      "text/html": [
       "<div>\n",
       "<style scoped>\n",
       "    .dataframe tbody tr th:only-of-type {\n",
       "        vertical-align: middle;\n",
       "    }\n",
       "\n",
       "    .dataframe tbody tr th {\n",
       "        vertical-align: top;\n",
       "    }\n",
       "\n",
       "    .dataframe thead th {\n",
       "        text-align: right;\n",
       "    }\n",
       "</style>\n",
       "<table border=\"1\" class=\"dataframe\">\n",
       "  <thead>\n",
       "    <tr style=\"text-align: right;\">\n",
       "      <th></th>\n",
       "      <th>DAP_cm</th>\n",
       "      <th>Altura_T</th>\n",
       "      <th>Altura_C</th>\n",
       "      <th>Area_Basal_m2</th>\n",
       "      <th>Vol_Comerc_m3</th>\n",
       "      <th>Vol_Total_m3</th>\n",
       "    </tr>\n",
       "  </thead>\n",
       "  <tbody>\n",
       "    <tr>\n",
       "      <th>0</th>\n",
       "      <td>7.862236</td>\n",
       "      <td>8.23</td>\n",
       "      <td>4.24</td>\n",
       "      <td>0.0049</td>\n",
       "      <td>0.0103</td>\n",
       "      <td>0.0200</td>\n",
       "    </tr>\n",
       "    <tr>\n",
       "      <th>1</th>\n",
       "      <td>4.647313</td>\n",
       "      <td>5.67</td>\n",
       "      <td>3.79</td>\n",
       "      <td>0.0017</td>\n",
       "      <td>0.0032</td>\n",
       "      <td>0.0048</td>\n",
       "    </tr>\n",
       "    <tr>\n",
       "      <th>2</th>\n",
       "      <td>5.634072</td>\n",
       "      <td>6.94</td>\n",
       "      <td>2.70</td>\n",
       "      <td>0.0025</td>\n",
       "      <td>0.0033</td>\n",
       "      <td>0.0086</td>\n",
       "    </tr>\n",
       "    <tr>\n",
       "      <th>3</th>\n",
       "      <td>6.970970</td>\n",
       "      <td>7.81</td>\n",
       "      <td>4.47</td>\n",
       "      <td>0.0038</td>\n",
       "      <td>0.0084</td>\n",
       "      <td>0.0147</td>\n",
       "    </tr>\n",
       "    <tr>\n",
       "      <th>4</th>\n",
       "      <td>8.498854</td>\n",
       "      <td>9.77</td>\n",
       "      <td>5.05</td>\n",
       "      <td>0.0057</td>\n",
       "      <td>0.0143</td>\n",
       "      <td>0.0276</td>\n",
       "    </tr>\n",
       "  </tbody>\n",
       "</table>\n",
       "</div>"
      ],
      "text/plain": [
       "     DAP_cm  Altura_T  Altura_C  Area_Basal_m2  Vol_Comerc_m3  Vol_Total_m3\n",
       "0  7.862236      8.23      4.24         0.0049         0.0103        0.0200\n",
       "1  4.647313      5.67      3.79         0.0017         0.0032        0.0048\n",
       "2  5.634072      6.94      2.70         0.0025         0.0033        0.0086\n",
       "3  6.970970      7.81      4.47         0.0038         0.0084        0.0147\n",
       "4  8.498854      9.77      5.05         0.0057         0.0143        0.0276"
      ]
     },
     "execution_count": 51,
     "metadata": {},
     "output_type": "execute_result"
    }
   ],
   "source": [
    "datos_evaluados.head()"
   ]
  },
  {
   "cell_type": "code",
   "execution_count": 52,
   "id": "e11c0c71-299b-43ab-987e-0ba184f61fed",
   "metadata": {},
   "outputs": [],
   "source": [
    "# Separar las características (X) y la variable objetivo (y)\n",
    "X = datos_evaluados[['Area_Basal_m2']]\n",
    "y = datos_evaluados['Vol_Comerc_m3']"
   ]
  },
  {
   "cell_type": "code",
   "execution_count": 53,
   "id": "ac5645e6-d7d2-452a-8150-582497c12234",
   "metadata": {},
   "outputs": [],
   "source": [
    "# Inicializar el modelo de regresión lineal\n",
    "modelo = LinearRegression()"
   ]
  },
  {
   "cell_type": "code",
   "execution_count": 54,
   "id": "631b0c1c-880e-4a79-a374-c789704bfcfd",
   "metadata": {},
   "outputs": [
    {
     "data": {
      "text/html": [
       "<style>#sk-container-id-1 {\n",
       "  /* Definition of color scheme common for light and dark mode */\n",
       "  --sklearn-color-text: black;\n",
       "  --sklearn-color-line: gray;\n",
       "  /* Definition of color scheme for unfitted estimators */\n",
       "  --sklearn-color-unfitted-level-0: #fff5e6;\n",
       "  --sklearn-color-unfitted-level-1: #f6e4d2;\n",
       "  --sklearn-color-unfitted-level-2: #ffe0b3;\n",
       "  --sklearn-color-unfitted-level-3: chocolate;\n",
       "  /* Definition of color scheme for fitted estimators */\n",
       "  --sklearn-color-fitted-level-0: #f0f8ff;\n",
       "  --sklearn-color-fitted-level-1: #d4ebff;\n",
       "  --sklearn-color-fitted-level-2: #b3dbfd;\n",
       "  --sklearn-color-fitted-level-3: cornflowerblue;\n",
       "\n",
       "  /* Specific color for light theme */\n",
       "  --sklearn-color-text-on-default-background: var(--sg-text-color, var(--theme-code-foreground, var(--jp-content-font-color1, black)));\n",
       "  --sklearn-color-background: var(--sg-background-color, var(--theme-background, var(--jp-layout-color0, white)));\n",
       "  --sklearn-color-border-box: var(--sg-text-color, var(--theme-code-foreground, var(--jp-content-font-color1, black)));\n",
       "  --sklearn-color-icon: #696969;\n",
       "\n",
       "  @media (prefers-color-scheme: dark) {\n",
       "    /* Redefinition of color scheme for dark theme */\n",
       "    --sklearn-color-text-on-default-background: var(--sg-text-color, var(--theme-code-foreground, var(--jp-content-font-color1, white)));\n",
       "    --sklearn-color-background: var(--sg-background-color, var(--theme-background, var(--jp-layout-color0, #111)));\n",
       "    --sklearn-color-border-box: var(--sg-text-color, var(--theme-code-foreground, var(--jp-content-font-color1, white)));\n",
       "    --sklearn-color-icon: #878787;\n",
       "  }\n",
       "}\n",
       "\n",
       "#sk-container-id-1 {\n",
       "  color: var(--sklearn-color-text);\n",
       "}\n",
       "\n",
       "#sk-container-id-1 pre {\n",
       "  padding: 0;\n",
       "}\n",
       "\n",
       "#sk-container-id-1 input.sk-hidden--visually {\n",
       "  border: 0;\n",
       "  clip: rect(1px 1px 1px 1px);\n",
       "  clip: rect(1px, 1px, 1px, 1px);\n",
       "  height: 1px;\n",
       "  margin: -1px;\n",
       "  overflow: hidden;\n",
       "  padding: 0;\n",
       "  position: absolute;\n",
       "  width: 1px;\n",
       "}\n",
       "\n",
       "#sk-container-id-1 div.sk-dashed-wrapped {\n",
       "  border: 1px dashed var(--sklearn-color-line);\n",
       "  margin: 0 0.4em 0.5em 0.4em;\n",
       "  box-sizing: border-box;\n",
       "  padding-bottom: 0.4em;\n",
       "  background-color: var(--sklearn-color-background);\n",
       "}\n",
       "\n",
       "#sk-container-id-1 div.sk-container {\n",
       "  /* jupyter's `normalize.less` sets `[hidden] { display: none; }`\n",
       "     but bootstrap.min.css set `[hidden] { display: none !important; }`\n",
       "     so we also need the `!important` here to be able to override the\n",
       "     default hidden behavior on the sphinx rendered scikit-learn.org.\n",
       "     See: https://github.com/scikit-learn/scikit-learn/issues/21755 */\n",
       "  display: inline-block !important;\n",
       "  position: relative;\n",
       "}\n",
       "\n",
       "#sk-container-id-1 div.sk-text-repr-fallback {\n",
       "  display: none;\n",
       "}\n",
       "\n",
       "div.sk-parallel-item,\n",
       "div.sk-serial,\n",
       "div.sk-item {\n",
       "  /* draw centered vertical line to link estimators */\n",
       "  background-image: linear-gradient(var(--sklearn-color-text-on-default-background), var(--sklearn-color-text-on-default-background));\n",
       "  background-size: 2px 100%;\n",
       "  background-repeat: no-repeat;\n",
       "  background-position: center center;\n",
       "}\n",
       "\n",
       "/* Parallel-specific style estimator block */\n",
       "\n",
       "#sk-container-id-1 div.sk-parallel-item::after {\n",
       "  content: \"\";\n",
       "  width: 100%;\n",
       "  border-bottom: 2px solid var(--sklearn-color-text-on-default-background);\n",
       "  flex-grow: 1;\n",
       "}\n",
       "\n",
       "#sk-container-id-1 div.sk-parallel {\n",
       "  display: flex;\n",
       "  align-items: stretch;\n",
       "  justify-content: center;\n",
       "  background-color: var(--sklearn-color-background);\n",
       "  position: relative;\n",
       "}\n",
       "\n",
       "#sk-container-id-1 div.sk-parallel-item {\n",
       "  display: flex;\n",
       "  flex-direction: column;\n",
       "}\n",
       "\n",
       "#sk-container-id-1 div.sk-parallel-item:first-child::after {\n",
       "  align-self: flex-end;\n",
       "  width: 50%;\n",
       "}\n",
       "\n",
       "#sk-container-id-1 div.sk-parallel-item:last-child::after {\n",
       "  align-self: flex-start;\n",
       "  width: 50%;\n",
       "}\n",
       "\n",
       "#sk-container-id-1 div.sk-parallel-item:only-child::after {\n",
       "  width: 0;\n",
       "}\n",
       "\n",
       "/* Serial-specific style estimator block */\n",
       "\n",
       "#sk-container-id-1 div.sk-serial {\n",
       "  display: flex;\n",
       "  flex-direction: column;\n",
       "  align-items: center;\n",
       "  background-color: var(--sklearn-color-background);\n",
       "  padding-right: 1em;\n",
       "  padding-left: 1em;\n",
       "}\n",
       "\n",
       "\n",
       "/* Toggleable style: style used for estimator/Pipeline/ColumnTransformer box that is\n",
       "clickable and can be expanded/collapsed.\n",
       "- Pipeline and ColumnTransformer use this feature and define the default style\n",
       "- Estimators will overwrite some part of the style using the `sk-estimator` class\n",
       "*/\n",
       "\n",
       "/* Pipeline and ColumnTransformer style (default) */\n",
       "\n",
       "#sk-container-id-1 div.sk-toggleable {\n",
       "  /* Default theme specific background. It is overwritten whether we have a\n",
       "  specific estimator or a Pipeline/ColumnTransformer */\n",
       "  background-color: var(--sklearn-color-background);\n",
       "}\n",
       "\n",
       "/* Toggleable label */\n",
       "#sk-container-id-1 label.sk-toggleable__label {\n",
       "  cursor: pointer;\n",
       "  display: block;\n",
       "  width: 100%;\n",
       "  margin-bottom: 0;\n",
       "  padding: 0.5em;\n",
       "  box-sizing: border-box;\n",
       "  text-align: center;\n",
       "}\n",
       "\n",
       "#sk-container-id-1 label.sk-toggleable__label-arrow:before {\n",
       "  /* Arrow on the left of the label */\n",
       "  content: \"▸\";\n",
       "  float: left;\n",
       "  margin-right: 0.25em;\n",
       "  color: var(--sklearn-color-icon);\n",
       "}\n",
       "\n",
       "#sk-container-id-1 label.sk-toggleable__label-arrow:hover:before {\n",
       "  color: var(--sklearn-color-text);\n",
       "}\n",
       "\n",
       "/* Toggleable content - dropdown */\n",
       "\n",
       "#sk-container-id-1 div.sk-toggleable__content {\n",
       "  max-height: 0;\n",
       "  max-width: 0;\n",
       "  overflow: hidden;\n",
       "  text-align: left;\n",
       "  /* unfitted */\n",
       "  background-color: var(--sklearn-color-unfitted-level-0);\n",
       "}\n",
       "\n",
       "#sk-container-id-1 div.sk-toggleable__content.fitted {\n",
       "  /* fitted */\n",
       "  background-color: var(--sklearn-color-fitted-level-0);\n",
       "}\n",
       "\n",
       "#sk-container-id-1 div.sk-toggleable__content pre {\n",
       "  margin: 0.2em;\n",
       "  border-radius: 0.25em;\n",
       "  color: var(--sklearn-color-text);\n",
       "  /* unfitted */\n",
       "  background-color: var(--sklearn-color-unfitted-level-0);\n",
       "}\n",
       "\n",
       "#sk-container-id-1 div.sk-toggleable__content.fitted pre {\n",
       "  /* unfitted */\n",
       "  background-color: var(--sklearn-color-fitted-level-0);\n",
       "}\n",
       "\n",
       "#sk-container-id-1 input.sk-toggleable__control:checked~div.sk-toggleable__content {\n",
       "  /* Expand drop-down */\n",
       "  max-height: 200px;\n",
       "  max-width: 100%;\n",
       "  overflow: auto;\n",
       "}\n",
       "\n",
       "#sk-container-id-1 input.sk-toggleable__control:checked~label.sk-toggleable__label-arrow:before {\n",
       "  content: \"▾\";\n",
       "}\n",
       "\n",
       "/* Pipeline/ColumnTransformer-specific style */\n",
       "\n",
       "#sk-container-id-1 div.sk-label input.sk-toggleable__control:checked~label.sk-toggleable__label {\n",
       "  color: var(--sklearn-color-text);\n",
       "  background-color: var(--sklearn-color-unfitted-level-2);\n",
       "}\n",
       "\n",
       "#sk-container-id-1 div.sk-label.fitted input.sk-toggleable__control:checked~label.sk-toggleable__label {\n",
       "  background-color: var(--sklearn-color-fitted-level-2);\n",
       "}\n",
       "\n",
       "/* Estimator-specific style */\n",
       "\n",
       "/* Colorize estimator box */\n",
       "#sk-container-id-1 div.sk-estimator input.sk-toggleable__control:checked~label.sk-toggleable__label {\n",
       "  /* unfitted */\n",
       "  background-color: var(--sklearn-color-unfitted-level-2);\n",
       "}\n",
       "\n",
       "#sk-container-id-1 div.sk-estimator.fitted input.sk-toggleable__control:checked~label.sk-toggleable__label {\n",
       "  /* fitted */\n",
       "  background-color: var(--sklearn-color-fitted-level-2);\n",
       "}\n",
       "\n",
       "#sk-container-id-1 div.sk-label label.sk-toggleable__label,\n",
       "#sk-container-id-1 div.sk-label label {\n",
       "  /* The background is the default theme color */\n",
       "  color: var(--sklearn-color-text-on-default-background);\n",
       "}\n",
       "\n",
       "/* On hover, darken the color of the background */\n",
       "#sk-container-id-1 div.sk-label:hover label.sk-toggleable__label {\n",
       "  color: var(--sklearn-color-text);\n",
       "  background-color: var(--sklearn-color-unfitted-level-2);\n",
       "}\n",
       "\n",
       "/* Label box, darken color on hover, fitted */\n",
       "#sk-container-id-1 div.sk-label.fitted:hover label.sk-toggleable__label.fitted {\n",
       "  color: var(--sklearn-color-text);\n",
       "  background-color: var(--sklearn-color-fitted-level-2);\n",
       "}\n",
       "\n",
       "/* Estimator label */\n",
       "\n",
       "#sk-container-id-1 div.sk-label label {\n",
       "  font-family: monospace;\n",
       "  font-weight: bold;\n",
       "  display: inline-block;\n",
       "  line-height: 1.2em;\n",
       "}\n",
       "\n",
       "#sk-container-id-1 div.sk-label-container {\n",
       "  text-align: center;\n",
       "}\n",
       "\n",
       "/* Estimator-specific */\n",
       "#sk-container-id-1 div.sk-estimator {\n",
       "  font-family: monospace;\n",
       "  border: 1px dotted var(--sklearn-color-border-box);\n",
       "  border-radius: 0.25em;\n",
       "  box-sizing: border-box;\n",
       "  margin-bottom: 0.5em;\n",
       "  /* unfitted */\n",
       "  background-color: var(--sklearn-color-unfitted-level-0);\n",
       "}\n",
       "\n",
       "#sk-container-id-1 div.sk-estimator.fitted {\n",
       "  /* fitted */\n",
       "  background-color: var(--sklearn-color-fitted-level-0);\n",
       "}\n",
       "\n",
       "/* on hover */\n",
       "#sk-container-id-1 div.sk-estimator:hover {\n",
       "  /* unfitted */\n",
       "  background-color: var(--sklearn-color-unfitted-level-2);\n",
       "}\n",
       "\n",
       "#sk-container-id-1 div.sk-estimator.fitted:hover {\n",
       "  /* fitted */\n",
       "  background-color: var(--sklearn-color-fitted-level-2);\n",
       "}\n",
       "\n",
       "/* Specification for estimator info (e.g. \"i\" and \"?\") */\n",
       "\n",
       "/* Common style for \"i\" and \"?\" */\n",
       "\n",
       ".sk-estimator-doc-link,\n",
       "a:link.sk-estimator-doc-link,\n",
       "a:visited.sk-estimator-doc-link {\n",
       "  float: right;\n",
       "  font-size: smaller;\n",
       "  line-height: 1em;\n",
       "  font-family: monospace;\n",
       "  background-color: var(--sklearn-color-background);\n",
       "  border-radius: 1em;\n",
       "  height: 1em;\n",
       "  width: 1em;\n",
       "  text-decoration: none !important;\n",
       "  margin-left: 1ex;\n",
       "  /* unfitted */\n",
       "  border: var(--sklearn-color-unfitted-level-1) 1pt solid;\n",
       "  color: var(--sklearn-color-unfitted-level-1);\n",
       "}\n",
       "\n",
       ".sk-estimator-doc-link.fitted,\n",
       "a:link.sk-estimator-doc-link.fitted,\n",
       "a:visited.sk-estimator-doc-link.fitted {\n",
       "  /* fitted */\n",
       "  border: var(--sklearn-color-fitted-level-1) 1pt solid;\n",
       "  color: var(--sklearn-color-fitted-level-1);\n",
       "}\n",
       "\n",
       "/* On hover */\n",
       "div.sk-estimator:hover .sk-estimator-doc-link:hover,\n",
       ".sk-estimator-doc-link:hover,\n",
       "div.sk-label-container:hover .sk-estimator-doc-link:hover,\n",
       ".sk-estimator-doc-link:hover {\n",
       "  /* unfitted */\n",
       "  background-color: var(--sklearn-color-unfitted-level-3);\n",
       "  color: var(--sklearn-color-background);\n",
       "  text-decoration: none;\n",
       "}\n",
       "\n",
       "div.sk-estimator.fitted:hover .sk-estimator-doc-link.fitted:hover,\n",
       ".sk-estimator-doc-link.fitted:hover,\n",
       "div.sk-label-container:hover .sk-estimator-doc-link.fitted:hover,\n",
       ".sk-estimator-doc-link.fitted:hover {\n",
       "  /* fitted */\n",
       "  background-color: var(--sklearn-color-fitted-level-3);\n",
       "  color: var(--sklearn-color-background);\n",
       "  text-decoration: none;\n",
       "}\n",
       "\n",
       "/* Span, style for the box shown on hovering the info icon */\n",
       ".sk-estimator-doc-link span {\n",
       "  display: none;\n",
       "  z-index: 9999;\n",
       "  position: relative;\n",
       "  font-weight: normal;\n",
       "  right: .2ex;\n",
       "  padding: .5ex;\n",
       "  margin: .5ex;\n",
       "  width: min-content;\n",
       "  min-width: 20ex;\n",
       "  max-width: 50ex;\n",
       "  color: var(--sklearn-color-text);\n",
       "  box-shadow: 2pt 2pt 4pt #999;\n",
       "  /* unfitted */\n",
       "  background: var(--sklearn-color-unfitted-level-0);\n",
       "  border: .5pt solid var(--sklearn-color-unfitted-level-3);\n",
       "}\n",
       "\n",
       ".sk-estimator-doc-link.fitted span {\n",
       "  /* fitted */\n",
       "  background: var(--sklearn-color-fitted-level-0);\n",
       "  border: var(--sklearn-color-fitted-level-3);\n",
       "}\n",
       "\n",
       ".sk-estimator-doc-link:hover span {\n",
       "  display: block;\n",
       "}\n",
       "\n",
       "/* \"?\"-specific style due to the `<a>` HTML tag */\n",
       "\n",
       "#sk-container-id-1 a.estimator_doc_link {\n",
       "  float: right;\n",
       "  font-size: 1rem;\n",
       "  line-height: 1em;\n",
       "  font-family: monospace;\n",
       "  background-color: var(--sklearn-color-background);\n",
       "  border-radius: 1rem;\n",
       "  height: 1rem;\n",
       "  width: 1rem;\n",
       "  text-decoration: none;\n",
       "  /* unfitted */\n",
       "  color: var(--sklearn-color-unfitted-level-1);\n",
       "  border: var(--sklearn-color-unfitted-level-1) 1pt solid;\n",
       "}\n",
       "\n",
       "#sk-container-id-1 a.estimator_doc_link.fitted {\n",
       "  /* fitted */\n",
       "  border: var(--sklearn-color-fitted-level-1) 1pt solid;\n",
       "  color: var(--sklearn-color-fitted-level-1);\n",
       "}\n",
       "\n",
       "/* On hover */\n",
       "#sk-container-id-1 a.estimator_doc_link:hover {\n",
       "  /* unfitted */\n",
       "  background-color: var(--sklearn-color-unfitted-level-3);\n",
       "  color: var(--sklearn-color-background);\n",
       "  text-decoration: none;\n",
       "}\n",
       "\n",
       "#sk-container-id-1 a.estimator_doc_link.fitted:hover {\n",
       "  /* fitted */\n",
       "  background-color: var(--sklearn-color-fitted-level-3);\n",
       "}\n",
       "</style><div id=\"sk-container-id-1\" class=\"sk-top-container\"><div class=\"sk-text-repr-fallback\"><pre>LinearRegression()</pre><b>In a Jupyter environment, please rerun this cell to show the HTML representation or trust the notebook. <br />On GitHub, the HTML representation is unable to render, please try loading this page with nbviewer.org.</b></div><div class=\"sk-container\" hidden><div class=\"sk-item\"><div class=\"sk-estimator fitted sk-toggleable\"><input class=\"sk-toggleable__control sk-hidden--visually\" id=\"sk-estimator-id-1\" type=\"checkbox\" checked><label for=\"sk-estimator-id-1\" class=\"sk-toggleable__label fitted sk-toggleable__label-arrow fitted\">&nbsp;&nbsp;LinearRegression<a class=\"sk-estimator-doc-link fitted\" rel=\"noreferrer\" target=\"_blank\" href=\"https://scikit-learn.org/1.4/modules/generated/sklearn.linear_model.LinearRegression.html\">?<span>Documentation for LinearRegression</span></a><span class=\"sk-estimator-doc-link fitted\">i<span>Fitted</span></span></label><div class=\"sk-toggleable__content fitted\"><pre>LinearRegression()</pre></div> </div></div></div></div>"
      ],
      "text/plain": [
       "LinearRegression()"
      ]
     },
     "execution_count": 54,
     "metadata": {},
     "output_type": "execute_result"
    }
   ],
   "source": [
    "# Ajustar el modelo a los datos\n",
    "modelo.fit(X, y)"
   ]
  },
  {
   "cell_type": "code",
   "execution_count": 55,
   "id": "d0be0270-5365-474b-bd67-328ae81716b6",
   "metadata": {},
   "outputs": [],
   "source": [
    "# Obtener los coeficientes de la regresión\n",
    "pendiente = modelo.coef_[0]\n",
    "intercepto = modelo.intercept_"
   ]
  },
  {
   "cell_type": "code",
   "execution_count": 56,
   "id": "b6bb8670-bec1-42de-ac1c-5b7d00060850",
   "metadata": {},
   "outputs": [
    {
     "name": "stdout",
     "output_type": "stream",
     "text": [
      "Ecuación de la regresión lineal: Volumen_Comercial_m3 = 3.37 * Area_Basal_m2 + -0.01\n"
     ]
    }
   ],
   "source": [
    "# Crear la ecuación de la regresión lineal\n",
    "ecuacion = f\"Volumen_Comercial_m3 = {pendiente:.2f} * Area_Basal_m2 + {intercepto:.2f}\"\n",
    "print(\"Ecuación de la regresión lineal:\", ecuacion)"
   ]
  },
  {
   "cell_type": "code",
   "execution_count": 58,
   "id": "2c6a11e3-ce31-4d7f-9140-f91c16cef3be",
   "metadata": {},
   "outputs": [],
   "source": [
    "# Preparar los puntos para la línea de regresión\n",
    "x_linea_regresion = np.linspace(X.min(), X.max(), 100)"
   ]
  },
  {
   "cell_type": "code",
   "execution_count": null,
   "id": "c2f920b6-e6b2-43ec-859b-86d4e2785380",
   "metadata": {},
   "outputs": [],
   "source": [
    "# Predecir los valores de y utilizando el modelo\n",
    "y_linea_regresion = modelo.predict(X)"
   ]
  },
  {
   "cell_type": "code",
   "execution_count": 61,
   "id": "e235cea6-f7fb-4729-a0d4-0decf9479c59",
   "metadata": {},
   "outputs": [],
   "source": [
    "y_linea_regresion = pendiente * x_linea_regresion + intercepto"
   ]
  },
  {
   "cell_type": "code",
   "execution_count": 78,
   "id": "ae0e8dfa-3e9c-457f-9d0f-5bb09acbe422",
   "metadata": {},
   "outputs": [],
   "source": [
    "# Predecir los valores de y utilizando el modelo\n",
    "y_pred = modelo.predict(X)"
   ]
  },
  {
   "cell_type": "code",
   "execution_count": 79,
   "id": "b870802e-fa3f-492c-8e03-eacb4ba45dfc",
   "metadata": {},
   "outputs": [
    {
     "name": "stdout",
     "output_type": "stream",
     "text": [
      "Coeficiente de determinación R^2: 0.8558945710524575\n"
     ]
    }
   ],
   "source": [
    "# Calcular el coeficiente de determinación R^2\n",
    "r2 = r2_score(y, y_pred)\n",
    "print(\"Coeficiente de determinación R^2:\", r2)"
   ]
  },
  {
   "cell_type": "code",
   "execution_count": 88,
   "id": "5c31a66c-22ca-43bf-98dd-af2a074838c1",
   "metadata": {},
   "outputs": [
    {
     "data": {
      "image/png": "[encoded data removed]",
      "text/plain": [
       "<Figure size 640x480 with 1 Axes>"
      ]
     },
     "metadata": {},
     "output_type": "display_data"
    }
   ],
   "source": [
    "# Graficar los datos originales\n",
    "plt.scatter(X, y, label='Datos Originales')\n",
    "# Graficar la línea de regresión lineal\n",
    "plt.plot(x_linea_regresion, y_linea_regresion, color='red', label='Regresión Lineal')\n",
    "plt.xlabel('Área Basal (m²)')\n",
    "plt.ylabel('Volumen Comercial (m³)')\n",
    "plt.title('Regresión Lineal: Área Basal vs Volumen Comercial')\n",
    "\n",
    "# Agregar el valor de R^2 en el gráfico\n",
    "plt.text(0.02, 0.01, f'R^2 = {r2:.4f}', fontsize=12)\n",
    "\n",
    "plt.legend()\n",
    "plt.grid(True)\n",
    "plt.show()"
   ]
  },
  {
   "cell_type": "markdown",
   "id": "6019b471-930f-4ae0-affa-4f9a8f4e895d",
   "metadata": {},
   "source": [
    "## Determinar la mejor regresión con R2 con AB y Volumen Comercial"
   ]
  },
  {
   "cell_type": "code",
   "execution_count": 89,
   "id": "416aa1c8-3616-4b2a-a07b-9d958879b2f0",
   "metadata": {},
   "outputs": [],
   "source": [
    "import pandas as pd\n",
    "import numpy as np\n",
    "from sklearn.linear_model import LinearRegression\n",
    "from scipy.optimize import curve_fit\n",
    "from sklearn.metrics import r2_score\n",
    "import matplotlib.pyplot as plt"
   ]
  },
  {
   "cell_type": "code",
   "execution_count": 90,
   "id": "62daab6f-8336-4711-a477-3b9daa9ed4f6",
   "metadata": {},
   "outputs": [
    {
     "data": {
      "text/html": [
       "<div>\n",
       "<style scoped>\n",
       "    .dataframe tbody tr th:only-of-type {\n",
       "        vertical-align: middle;\n",
       "    }\n",
       "\n",
       "    .dataframe tbody tr th {\n",
       "        vertical-align: top;\n",
       "    }\n",
       "\n",
       "    .dataframe thead th {\n",
       "        text-align: right;\n",
       "    }\n",
       "</style>\n",
       "<table border=\"1\" class=\"dataframe\">\n",
       "  <thead>\n",
       "    <tr style=\"text-align: right;\">\n",
       "      <th></th>\n",
       "      <th>DAP_cm</th>\n",
       "      <th>Altura_T</th>\n",
       "      <th>Altura_C</th>\n",
       "      <th>Area_Basal_m2</th>\n",
       "      <th>Vol_Comerc_m3</th>\n",
       "      <th>Vol_Total_m3</th>\n",
       "    </tr>\n",
       "  </thead>\n",
       "  <tbody>\n",
       "    <tr>\n",
       "      <th>0</th>\n",
       "      <td>7.862236</td>\n",
       "      <td>8.23</td>\n",
       "      <td>4.24</td>\n",
       "      <td>0.0049</td>\n",
       "      <td>0.0103</td>\n",
       "      <td>0.0200</td>\n",
       "    </tr>\n",
       "    <tr>\n",
       "      <th>1</th>\n",
       "      <td>4.647313</td>\n",
       "      <td>5.67</td>\n",
       "      <td>3.79</td>\n",
       "      <td>0.0017</td>\n",
       "      <td>0.0032</td>\n",
       "      <td>0.0048</td>\n",
       "    </tr>\n",
       "    <tr>\n",
       "      <th>2</th>\n",
       "      <td>5.634072</td>\n",
       "      <td>6.94</td>\n",
       "      <td>2.70</td>\n",
       "      <td>0.0025</td>\n",
       "      <td>0.0033</td>\n",
       "      <td>0.0086</td>\n",
       "    </tr>\n",
       "    <tr>\n",
       "      <th>3</th>\n",
       "      <td>6.970970</td>\n",
       "      <td>7.81</td>\n",
       "      <td>4.47</td>\n",
       "      <td>0.0038</td>\n",
       "      <td>0.0084</td>\n",
       "      <td>0.0147</td>\n",
       "    </tr>\n",
       "    <tr>\n",
       "      <th>4</th>\n",
       "      <td>8.498854</td>\n",
       "      <td>9.77</td>\n",
       "      <td>5.05</td>\n",
       "      <td>0.0057</td>\n",
       "      <td>0.0143</td>\n",
       "      <td>0.0276</td>\n",
       "    </tr>\n",
       "  </tbody>\n",
       "</table>\n",
       "</div>"
      ],
      "text/plain": [
       "     DAP_cm  Altura_T  Altura_C  Area_Basal_m2  Vol_Comerc_m3  Vol_Total_m3\n",
       "0  7.862236      8.23      4.24         0.0049         0.0103        0.0200\n",
       "1  4.647313      5.67      3.79         0.0017         0.0032        0.0048\n",
       "2  5.634072      6.94      2.70         0.0025         0.0033        0.0086\n",
       "3  6.970970      7.81      4.47         0.0038         0.0084        0.0147\n",
       "4  8.498854      9.77      5.05         0.0057         0.0143        0.0276"
      ]
     },
     "execution_count": 90,
     "metadata": {},
     "output_type": "execute_result"
    }
   ],
   "source": [
    "datos_evaluados.head()"
   ]
  },
  {
   "cell_type": "code",
   "execution_count": null,
   "id": "d020e9f0-4a1e-49b2-b80a-2432a6990a55",
   "metadata": {},
   "outputs": [],
   "source": [
    "# Separar las características (X) y la variable objetivo (y)\n",
    "X = datos_evaluados[['Area_Basal_m2']]\n",
    "y = datos_evaluados['Vol_Comerc_m3']"
   ]
  },
  {
   "cell_type": "markdown",
   "id": "52326a44-7066-4077-a9cc-087bb0f3726a",
   "metadata": {},
   "source": [
    "### Regresión lineal"
   ]
  },
  {
   "cell_type": "code",
   "execution_count": 91,
   "id": "d63e0f08-6bd7-4acd-9824-911181f31589",
   "metadata": {},
   "outputs": [],
   "source": [
    "# Regresión Lineal\n",
    "modelo_lineal = LinearRegression()\n",
    "modelo_lineal.fit(X, y)\n",
    "y_pred_lineal = modelo_lineal.predict(X)\n",
    "r2_lineal = r2_score(y, y_pred_lineal)"
   ]
  },
  {
   "cell_type": "markdown",
   "id": "a1fde7ea-63ac-45eb-b80d-3204272700d8",
   "metadata": {},
   "source": [
    "### Regresión Logarítmica"
   ]
  },
  {
   "cell_type": "code",
   "execution_count": 92,
   "id": "5a626bc8-5858-4395-a8b3-41c6dd11530b",
   "metadata": {},
   "outputs": [],
   "source": [
    "# Regresión Logarítmica\n",
    "def func_log(x, a, b):\n",
    "    return a * np.log(x) + b"
   ]
  },
  {
   "cell_type": "code",
   "execution_count": 93,
   "id": "2251aa9b-b8c6-45ee-8cbd-fe67b1563f78",
   "metadata": {},
   "outputs": [],
   "source": [
    "params_log, cov_log = curve_fit(func_log, X.values.flatten(), y.values.flatten())\n",
    "y_pred_log = func_log(X.values.flatten(), *params_log)\n",
    "r2_log = r2_score(y, y_pred_log)"
   ]
  },
  {
   "cell_type": "markdown",
   "id": "8a88c2e5-a119-4c39-bd52-6704964625f4",
   "metadata": {},
   "source": [
    "### Regresión Polinómica"
   ]
  },
  {
   "cell_type": "code",
   "execution_count": 94,
   "id": "d7fffe37-f47c-4115-8193-e1c39c7a248d",
   "metadata": {},
   "outputs": [],
   "source": [
    "# Regresión Polinómica\n",
    "coeffs_polinom, _ = np.polyfit(X.values.flatten(), y.values.flatten(), 2, cov=True)\n",
    "y_pred_polinom = np.polyval(coeffs_polinom, X.values.flatten())\n",
    "r2_polinom = r2_score(y, y_pred_polinom)"
   ]
  },
  {
   "cell_type": "markdown",
   "id": "5471d9e9-f7d2-4b38-968b-a379d38a0131",
   "metadata": {},
   "source": [
    "### Regresión Potencial"
   ]
  },
  {
   "cell_type": "code",
   "execution_count": 96,
   "id": "48f6ae82-ba7e-4fd5-bc50-d41c613f5bd0",
   "metadata": {},
   "outputs": [],
   "source": [
    "# Regresión Potencial\n",
    "def func_pot(x, a, b):\n",
    "    return a * np.power(x, b)"
   ]
  },
  {
   "cell_type": "code",
   "execution_count": 97,
   "id": "c99b5209-b977-4030-83dd-334ba8be2aab",
   "metadata": {},
   "outputs": [],
   "source": [
    "params_pot, cov_pot = curve_fit(func_pot, X.values.flatten(), y.values.flatten())\n",
    "y_pred_pot = func_pot(X.values.flatten(), *params_pot)\n",
    "r2_pot = r2_score(y, y_pred_pot)"
   ]
  },
  {
   "cell_type": "markdown",
   "id": "d02858f7-ce67-41e7-b961-14319b669475",
   "metadata": {},
   "source": [
    "### Regresión Exponencial"
   ]
  },
  {
   "cell_type": "code",
   "execution_count": 98,
   "id": "13eb3c6c-7de8-4d85-a140-0bfab167bbe9",
   "metadata": {},
   "outputs": [],
   "source": [
    "# Regresión Exponencial\n",
    "def func_exp(x, a, b):\n",
    "    return a * np.exp(b * x)"
   ]
  },
  {
   "cell_type": "code",
   "execution_count": 99,
   "id": "7eb9edd5-90a2-4305-a783-0bc99e92b764",
   "metadata": {},
   "outputs": [],
   "source": [
    "params_exp, cov_exp = curve_fit(func_exp, X.values.flatten(), y.values.flatten())\n",
    "y_pred_exp = func_exp(X.values.flatten(), *params_exp)\n",
    "r2_exp = r2_score(y, y_pred_exp)"
   ]
  },
  {
   "cell_type": "code",
   "execution_count": 100,
   "id": "df717b95-daa8-4387-9efc-6ebf74638430",
   "metadata": {},
   "outputs": [],
   "source": [
    "# Seleccionar el mejor ajuste (el que tenga el mayor R2 cercano a 1)\n",
    "mejor_ajuste = max([(r2_lineal, 'Lineal'), (r2_log, 'Logarítmica'), (r2_polinom, 'Polinómica'),\n",
    "                    (r2_pot, 'Potencial'), (r2_exp, 'Exponencial')])"
   ]
  },
  {
   "cell_type": "code",
   "execution_count": 103,
   "id": "b1ac826c-6826-42b4-b514-f45e1610dc79",
   "metadata": {},
   "outputs": [
    {
     "name": "stdout",
     "output_type": "stream",
     "text": [
      "Mejor ajuste: Polinómica , valor R2: 0.856\n"
     ]
    }
   ],
   "source": [
    "print(\"Mejor ajuste:\", mejor_ajuste[1], \", valor R2:\", round(mejor_ajuste[0],3))"
   ]
  },
  {
   "cell_type": "markdown",
   "id": "49752758-c699-424e-b322-da83e85aa7f8",
   "metadata": {},
   "source": [
    "### Graficar los datos"
   ]
  },
  {
   "cell_type": "code",
   "execution_count": 105,
   "id": "e6097f91-0069-4361-babb-1ea7de097fa6",
   "metadata": {},
   "outputs": [
    {
     "data": {
      "image/png": "[encoded data removed]",
      "text/plain": [
       "<Figure size 640x480 with 1 Axes>"
      ]
     },
     "metadata": {},
     "output_type": "display_data"
    }
   ],
   "source": [
    "# Graficar los datos y la mejor línea de ajuste\n",
    "plt.scatter(X, y, label='Datos Originales')\n",
    "if mejor_ajuste[1] == 'Lineal':\n",
    "    plt.plot(X, y_pred_lineal, color='red', label=f'Regresión Lineal (R²={r2_lineal:.3f})')\n",
    "elif mejor_ajuste[1] == 'Logarítmica':\n",
    "    plt.plot(X, y_pred_log, color='green', label=f'Regresión Logarítmica (R²={r2_log:.3f})')\n",
    "elif mejor_ajuste[1] == 'Polinómica':\n",
    "    plt.plot(X, y_pred_polinom, color='blue', label=f'Regresión Polinómica (R²={r2_polinom:.3f})')\n",
    "elif mejor_ajuste[1] == 'Potencial':\n",
    "    plt.plot(X, y_pred_pot, color='orange', label=f'Regresión Potencial (R²={r2_pot:.3f})')\n",
    "elif mejor_ajuste[1] == 'Exponencial':\n",
    "    plt.plot(X, y_pred_exp, color='purple', label=f'Regresión Exponencial (R²={r2_exp:.3f})')\n",
    "\n",
    "plt.xlabel('Área Basal (m²)')\n",
    "plt.ylabel('Volumen Comercial (m³)')\n",
    "plt.title('Mejor Ajuste: ' + mejor_ajuste[1])\n",
    "plt.legend()\n",
    "plt.grid(True)\n",
    "plt.show()"
   ]
  },
  {
   "cell_type": "markdown",
   "id": "ac2e12d8-d433-4816-8a3f-381658936961",
   "metadata": {},
   "source": [
    "## Determinar la mejor regresión con R2 con DAP cm y Volumen Comercial"
   ]
  },
  {
   "cell_type": "code",
   "execution_count": 106,
   "id": "57cab172-89c9-46bb-9cae-d739783f8d80",
   "metadata": {},
   "outputs": [],
   "source": [
    "import pandas as pd\n",
    "import numpy as np\n",
    "from sklearn.linear_model import LinearRegression\n",
    "from scipy.optimize import curve_fit\n",
    "from sklearn.metrics import r2_score\n",
    "import matplotlib.pyplot as plt"
   ]
  },
  {
   "cell_type": "code",
   "execution_count": 107,
   "id": "d826c7b7-50e9-4191-a09b-b5711c56c7b6",
   "metadata": {},
   "outputs": [
    {
     "data": {
      "text/html": [
       "<div>\n",
       "<style scoped>\n",
       "    .dataframe tbody tr th:only-of-type {\n",
       "        vertical-align: middle;\n",
       "    }\n",
       "\n",
       "    .dataframe tbody tr th {\n",
       "        vertical-align: top;\n",
       "    }\n",
       "\n",
       "    .dataframe thead th {\n",
       "        text-align: right;\n",
       "    }\n",
       "</style>\n",
       "<table border=\"1\" class=\"dataframe\">\n",
       "  <thead>\n",
       "    <tr style=\"text-align: right;\">\n",
       "      <th></th>\n",
       "      <th>DAP_cm</th>\n",
       "      <th>Altura_T</th>\n",
       "      <th>Altura_C</th>\n",
       "      <th>Area_Basal_m2</th>\n",
       "      <th>Vol_Comerc_m3</th>\n",
       "      <th>Vol_Total_m3</th>\n",
       "    </tr>\n",
       "  </thead>\n",
       "  <tbody>\n",
       "    <tr>\n",
       "      <th>0</th>\n",
       "      <td>7.862236</td>\n",
       "      <td>8.23</td>\n",
       "      <td>4.24</td>\n",
       "      <td>0.0049</td>\n",
       "      <td>0.0103</td>\n",
       "      <td>0.0200</td>\n",
       "    </tr>\n",
       "    <tr>\n",
       "      <th>1</th>\n",
       "      <td>4.647313</td>\n",
       "      <td>5.67</td>\n",
       "      <td>3.79</td>\n",
       "      <td>0.0017</td>\n",
       "      <td>0.0032</td>\n",
       "      <td>0.0048</td>\n",
       "    </tr>\n",
       "    <tr>\n",
       "      <th>2</th>\n",
       "      <td>5.634072</td>\n",
       "      <td>6.94</td>\n",
       "      <td>2.70</td>\n",
       "      <td>0.0025</td>\n",
       "      <td>0.0033</td>\n",
       "      <td>0.0086</td>\n",
       "    </tr>\n",
       "    <tr>\n",
       "      <th>3</th>\n",
       "      <td>6.970970</td>\n",
       "      <td>7.81</td>\n",
       "      <td>4.47</td>\n",
       "      <td>0.0038</td>\n",
       "      <td>0.0084</td>\n",
       "      <td>0.0147</td>\n",
       "    </tr>\n",
       "    <tr>\n",
       "      <th>4</th>\n",
       "      <td>8.498854</td>\n",
       "      <td>9.77</td>\n",
       "      <td>5.05</td>\n",
       "      <td>0.0057</td>\n",
       "      <td>0.0143</td>\n",
       "      <td>0.0276</td>\n",
       "    </tr>\n",
       "  </tbody>\n",
       "</table>\n",
       "</div>"
      ],
      "text/plain": [
       "     DAP_cm  Altura_T  Altura_C  Area_Basal_m2  Vol_Comerc_m3  Vol_Total_m3\n",
       "0  7.862236      8.23      4.24         0.0049         0.0103        0.0200\n",
       "1  4.647313      5.67      3.79         0.0017         0.0032        0.0048\n",
       "2  5.634072      6.94      2.70         0.0025         0.0033        0.0086\n",
       "3  6.970970      7.81      4.47         0.0038         0.0084        0.0147\n",
       "4  8.498854      9.77      5.05         0.0057         0.0143        0.0276"
      ]
     },
     "execution_count": 107,
     "metadata": {},
     "output_type": "execute_result"
    }
   ],
   "source": [
    "datos_evaluados.head()"
   ]
  },
  {
   "cell_type": "code",
   "execution_count": 108,
   "id": "630339cd-5313-43af-8fae-ce4a546c9272",
   "metadata": {},
   "outputs": [],
   "source": [
    "# Separar las características (X) y la variable objetivo (y)\n",
    "X = datos_evaluados[['DAP_cm']]\n",
    "y = datos_evaluados['Vol_Comerc_m3']"
   ]
  },
  {
   "cell_type": "markdown",
   "id": "48088742-64fe-47cd-95a8-6982b5ca6389",
   "metadata": {},
   "source": [
    "### Regresión lineal"
   ]
  },
  {
   "cell_type": "code",
   "execution_count": 109,
   "id": "6b2722be-46ab-42ad-a30d-983d95ae9f62",
   "metadata": {},
   "outputs": [],
   "source": [
    "# Regresión Lineal\n",
    "modelo_lineal = LinearRegression()\n",
    "modelo_lineal.fit(X, y)\n",
    "y_pred_lineal = modelo_lineal.predict(X)\n",
    "r2_lineal = r2_score(y, y_pred_lineal)"
   ]
  },
  {
   "cell_type": "markdown",
   "id": "93847a09-911b-4ae6-88f1-b18fae5ff1fa",
   "metadata": {},
   "source": [
    "### Regresión Logarítmica"
   ]
  },
  {
   "cell_type": "code",
   "execution_count": 110,
   "id": "7787fcb3-6f93-429e-bd11-7b2b29a50026",
   "metadata": {},
   "outputs": [],
   "source": [
    "# Regresión Logarítmica\n",
    "def func_log(x, a, b):\n",
    "    return a * np.log(x) + b"
   ]
  },
  {
   "cell_type": "code",
   "execution_count": 111,
   "id": "fa0b215a-ede2-48fc-aca9-568a647502f5",
   "metadata": {},
   "outputs": [],
   "source": [
    "params_log, cov_log = curve_fit(func_log, X.values.flatten(), y.values.flatten())\n",
    "y_pred_log = func_log(X.values.flatten(), *params_log)\n",
    "r2_log = r2_score(y, y_pred_log)"
   ]
  },
  {
   "cell_type": "markdown",
   "id": "0b5d34cd-66f2-4422-a8db-632b9c41af9f",
   "metadata": {},
   "source": [
    "### Regresión Polinómica"
   ]
  },
  {
   "cell_type": "code",
   "execution_count": 112,
   "id": "8b9adfa1-d044-439c-b6a8-4540e5cb97eb",
   "metadata": {},
   "outputs": [],
   "source": [
    "# Regresión Polinómica\n",
    "coeffs_polinom, _ = np.polyfit(X.values.flatten(), y.values.flatten(), 2, cov=True)\n",
    "y_pred_polinom = np.polyval(coeffs_polinom, X.values.flatten())\n",
    "r2_polinom = r2_score(y, y_pred_polinom)"
   ]
  },
  {
   "cell_type": "markdown",
   "id": "4ce6a4dd-bb4e-4839-b2f4-9d6a02d89003",
   "metadata": {},
   "source": [
    "### Regresión Potencial"
   ]
  },
  {
   "cell_type": "code",
   "execution_count": 113,
   "id": "ed2c4bd4-dbdf-4706-9b57-e157f04b5416",
   "metadata": {},
   "outputs": [],
   "source": [
    "# Regresión Potencial\n",
    "def func_pot(x, a, b):\n",
    "    return a * np.power(x, b)"
   ]
  },
  {
   "cell_type": "code",
   "execution_count": 114,
   "id": "6f578d4a-c009-4403-ab9c-f7625ea42c4c",
   "metadata": {},
   "outputs": [],
   "source": [
    "params_pot, cov_pot = curve_fit(func_pot, X.values.flatten(), y.values.flatten())\n",
    "y_pred_pot = func_pot(X.values.flatten(), *params_pot)\n",
    "r2_pot = r2_score(y, y_pred_pot)"
   ]
  },
  {
   "cell_type": "markdown",
   "id": "03f86f4d-3a8a-435a-bc16-ad8464166ead",
   "metadata": {},
   "source": [
    "### Regresión Exponencial"
   ]
  },
  {
   "cell_type": "code",
   "execution_count": 115,
   "id": "e98b1a3a-941d-49e0-9333-9482f3816145",
   "metadata": {},
   "outputs": [],
   "source": [
    "# Regresión Exponencial\n",
    "def func_exp(x, a, b):\n",
    "    return a * np.exp(b * x)"
   ]
  },
  {
   "cell_type": "code",
   "execution_count": 116,
   "id": "e2ef267c-6259-4f86-9baa-ff34f0006077",
   "metadata": {},
   "outputs": [],
   "source": [
    "params_exp, cov_exp = curve_fit(func_exp, X.values.flatten(), y.values.flatten())\n",
    "y_pred_exp = func_exp(X.values.flatten(), *params_exp)\n",
    "r2_exp = r2_score(y, y_pred_exp)"
   ]
  },
  {
   "cell_type": "code",
   "execution_count": 117,
   "id": "5396b83a-d331-43dc-9a46-106f3bea716c",
   "metadata": {},
   "outputs": [],
   "source": [
    "# Seleccionar el mejor ajuste (el que tenga el mayor R2 cercano a 1)\n",
    "mejor_ajuste = max([(r2_lineal, 'Lineal'), (r2_log, 'Logarítmica'), (r2_polinom, 'Polinómica'),\n",
    "                    (r2_pot, 'Potencial'), (r2_exp, 'Exponencial')])"
   ]
  },
  {
   "cell_type": "code",
   "execution_count": 118,
   "id": "9b1517b5-0152-4b14-b921-abad7c3edd8b",
   "metadata": {},
   "outputs": [
    {
     "name": "stdout",
     "output_type": "stream",
     "text": [
      "Mejor ajuste: Polinómica , valor R2: 0.856\n"
     ]
    }
   ],
   "source": [
    "print(\"Mejor ajuste:\", mejor_ajuste[1], \", valor R2:\", round(mejor_ajuste[0],3))"
   ]
  },
  {
   "cell_type": "code",
   "execution_count": 121,
   "id": "5aa5c9ee-386d-4f8f-9823-85d8c7a54b1c",
   "metadata": {},
   "outputs": [
    {
     "name": "stdout",
     "output_type": "stream",
     "text": [
      "Fórmula del Mejor Ajuste (Regresión): Volumen_Comercial = 0.01 * Area_Basal_m2 + -0.03\n"
     ]
    }
   ],
   "source": [
    "ecuacion_lineal = f\"Volumen_Comercial = {modelo_lineal.coef_[0]:.2f} * Area_Basal_m2 + {modelo_lineal.intercept_:.2f}\"\n",
    "print(\"Fórmula del Mejor Ajuste (Regresión Lineal):\", ecuacion_lineal)"
   ]
  },
  {
   "cell_type": "code",
   "execution_count": 128,
   "id": "0b597703-a1a8-46f3-860a-909119fe4a21",
   "metadata": {},
   "outputs": [
    {
     "name": "stdout",
     "output_type": "stream",
     "text": [
      "Fórmula del Mejor Ajuste (Regresión Polinómica): Volumen_Comercial = 0.00028 * Area_Basal_m2^2 + -0.00039 * Area_Basal_m2 + -0.00317\n"
     ]
    }
   ],
   "source": [
    "# Regresión Logarítmica\n",
    "if mejor_ajuste[1] == 'Logarítmica':\n",
    "    a_log, b_log = params_log\n",
    "    ecuacion_log = f\"Volumen_Comercial = {a_log:.5f} * ln(Area_Basal_m2) + {b_log:.5f}\"\n",
    "    print(\"Fórmula del Mejor Ajuste (Regresión Logarítmica):\", ecuacion_log)\n",
    "\n",
    "# Regresión Lineal\n",
    "elif mejor_ajuste[1] == 'Lineal':\n",
    "    ecuacion_lineal = f\"Volumen_Comercial = {modelo_lineal.coef_[0]:.5f} * Area_Basal_m2 + {modelo_lineal.intercept_:.5f}\"\n",
    "    print(\"Fórmula del Mejor Ajuste (Regresión Lineal):\", ecuacion_lineal)\n",
    "\n",
    "# Regresión Polinómica\n",
    "elif mejor_ajuste[1] == 'Polinómica':\n",
    "    a_polinom, b_polinom, c_polinom = coeffs_polinom\n",
    "    ecuacion_polinom = f\"Volumen_Comercial = {a_polinom:.5f} * Area_Basal_m2^2 + {b_polinom:.5f} * Area_Basal_m2 + {c_polinom:.5f}\"\n",
    "    print(\"Fórmula del Mejor Ajuste (Regresión Polinómica):\", ecuacion_polinom)\n",
    "# Regresión Potencial\n",
    "elif mejor_ajuste[1] == 'Potencial':\n",
    "    a_pot, b_pot = params_pot\n",
    "    ecuacion_pot = f\"Volumen_Comercial = {a_pot:.5f} * Area_Basal_m2^{b_pot:.5f}\"\n",
    "    print(\"Fórmula del Mejor Ajuste (Regresión Potencial):\", ecuacion_pot)\n",
    "# Regresión Exponencial\n",
    "elif mejor_ajuste[1] == 'Exponencial':\n",
    "    a_exp, b_exp = params_exp\n",
    "    ecuacion_exp = f\"Volumen_Comercial = {a_exp:.5f} * e^({b_exp:.5f} * Area_Basal_m2)\"\n",
    "    print(\"Fórmula del Mejor Ajuste (Regresión Exponencial):\", ecuacion_exp)"
   ]
  },
  {
   "cell_type": "markdown",
   "id": "92bee068-315b-4aa7-ba12-2564e478f50e",
   "metadata": {},
   "source": [
    "### Graficar los datos"
   ]
  },
  {
   "cell_type": "code",
   "execution_count": 129,
   "id": "67c94b5c-bfdf-46e8-8c2b-c8192ceb35c8",
   "metadata": {},
   "outputs": [
    {
     "data": {
      "image/png": "[encoded data removed]",
      "text/plain": [
       "<Figure size 640x480 with 1 Axes>"
      ]
     },
     "metadata": {},
     "output_type": "display_data"
    }
   ],
   "source": [
    "# Graficar los datos y la mejor línea de ajuste\n",
    "plt.scatter(X, y, label='Datos Originales')\n",
    "if mejor_ajuste[1] == 'Lineal':\n",
    "    plt.plot(X, y_pred_lineal, color='red', label=f'Regresión Lineal (R²={r2_lineal:.3f})')\n",
    "elif mejor_ajuste[1] == 'Logarítmica':\n",
    "    plt.plot(X, y_pred_log, color='green', label=f'Regresión Logarítmica (R²={r2_log:.3f})')\n",
    "elif mejor_ajuste[1] == 'Polinómica':\n",
    "    plt.plot(X, y_pred_polinom, color='blue', label=f'Regresión Polinómica (R²={r2_polinom:.3f})')\n",
    "elif mejor_ajuste[1] == 'Potencial':\n",
    "    plt.plot(X, y_pred_pot, color='orange', label=f'Regresión Potencial (R²={r2_pot:.3f})')\n",
    "elif mejor_ajuste[1] == 'Exponencial':\n",
    "    plt.plot(X, y_pred_exp, color='purple', label=f'Regresión Exponencial (R²={r2_exp:.3f})')\n",
    "\n",
    "plt.xlabel('DAP (cm)')\n",
    "plt.ylabel('Volumen Comercial (m³)')\n",
    "plt.title('Mejor Ajuste: ' + mejor_ajuste[1])\n",
    "plt.legend()\n",
    "plt.grid(True)\n",
    "plt.show()"
   ]
  },
  {
   "cell_type": "code",
   "execution_count": null,
   "id": "f4134dee-a1fb-4952-b1e0-f7f776b5e858",
   "metadata": {},
   "outputs": [],
   "source": []
  }
 ],
 "metadata": {
  "kernelspec": {
   "display_name": "Python 3 (ipykernel)",
   "language": "python",
   "name": "python3"
  },
  "language_info": {
   "codemirror_mode": {
    "name": "ipython",
    "version": 3
   },
   "file_extension": ".py",
   "mimetype": "text/x-python",
   "name": "python",
   "nbconvert_exporter": "python",
   "pygments_lexer": "ipython3",
   "version": "3.9.13"
  }
 },
 "nbformat": 4,
 "nbformat_minor": 5
}
