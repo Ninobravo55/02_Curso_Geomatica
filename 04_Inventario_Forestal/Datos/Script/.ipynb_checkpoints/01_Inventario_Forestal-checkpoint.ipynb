{
 "cells": [
  {
   "cell_type": "markdown",
   "id": "0056706f-dce2-4817-8afd-c041fa0b161e",
   "metadata": {},
   "source": [
    "# Inventario Forestal AGPRES"
   ]
  },
  {
   "cell_type": "code",
   "execution_count": 5,
   "id": "f3db417f-cca9-4932-bc26-26e17f6f0ef6",
   "metadata": {},
   "outputs": [],
   "source": [
    "import os\n",
    "import glob\n",
    "import pandas as pd"
   ]
  },
  {
   "cell_type": "code",
   "execution_count": 3,
   "id": "22ec3846-f1b3-4818-b9bc-53324df38aa0",
   "metadata": {},
   "outputs": [],
   "source": [
    "os.chdir(r\"C:\\Users\\GEOMATICA\\Curso_suelo\\04_Inventario_Forestal\\Datos\\Tabla\")"
   ]
  },
  {
   "cell_type": "code",
   "execution_count": 4,
   "id": "6058e5dd-d4f2-402d-98a8-6eb9fc2a9802",
   "metadata": {},
   "outputs": [
    {
     "data": {
      "text/plain": [
       "['Datos_Inventario.csv']"
      ]
     },
     "execution_count": 4,
     "metadata": {},
     "output_type": "execute_result"
    }
   ],
   "source": [
    "lista = glob.glob(\"*csv\")\n",
    "lista"
   ]
  },
  {
   "cell_type": "code",
   "execution_count": 12,
   "id": "352033d4-4719-4da9-b4f4-a553ff199a8d",
   "metadata": {},
   "outputs": [],
   "source": [
    "AH_data = pd.read_csv(lista[0],delimiter=\";\")"
   ]
  },
  {
   "cell_type": "code",
   "execution_count": 13,
   "id": "29e3ff28-587f-48f7-b3ee-e8de28e51597",
   "metadata": {},
   "outputs": [
    {
     "data": {
      "text/html": [
       "<div>\n",
       "<style scoped>\n",
       "    .dataframe tbody tr th:only-of-type {\n",
       "        vertical-align: middle;\n",
       "    }\n",
       "\n",
       "    .dataframe tbody tr th {\n",
       "        vertical-align: top;\n",
       "    }\n",
       "\n",
       "    .dataframe thead th {\n",
       "        text-align: right;\n",
       "    }\n",
       "</style>\n",
       "<table border=\"1\" class=\"dataframe\">\n",
       "  <thead>\n",
       "    <tr style=\"text-align: right;\">\n",
       "      <th></th>\n",
       "      <th>Arbol</th>\n",
       "      <th>Este</th>\n",
       "      <th>Norte</th>\n",
       "      <th>DAP_cm</th>\n",
       "      <th>Altura_T</th>\n",
       "      <th>Altura_C</th>\n",
       "    </tr>\n",
       "  </thead>\n",
       "  <tbody>\n",
       "    <tr>\n",
       "      <th>0</th>\n",
       "      <td>1</td>\n",
       "      <td>494028.546</td>\n",
       "      <td>9023749.586</td>\n",
       "      <td>7.862236</td>\n",
       "      <td>8.23</td>\n",
       "      <td>4.24</td>\n",
       "    </tr>\n",
       "    <tr>\n",
       "      <th>1</th>\n",
       "      <td>2</td>\n",
       "      <td>494033.087</td>\n",
       "      <td>9023749.028</td>\n",
       "      <td>4.647313</td>\n",
       "      <td>5.67</td>\n",
       "      <td>3.79</td>\n",
       "    </tr>\n",
       "    <tr>\n",
       "      <th>2</th>\n",
       "      <td>3</td>\n",
       "      <td>494042.399</td>\n",
       "      <td>9023748.940</td>\n",
       "      <td>5.634072</td>\n",
       "      <td>6.94</td>\n",
       "      <td>2.70</td>\n",
       "    </tr>\n",
       "  </tbody>\n",
       "</table>\n",
       "</div>"
      ],
      "text/plain": [
       "   Arbol        Este        Norte    DAP_cm  Altura_T  Altura_C\n",
       "0      1  494028.546  9023749.586  7.862236      8.23      4.24\n",
       "1      2  494033.087  9023749.028  4.647313      5.67      3.79\n",
       "2      3  494042.399  9023748.940  5.634072      6.94      2.70"
      ]
     },
     "execution_count": 13,
     "metadata": {},
     "output_type": "execute_result"
    }
   ],
   "source": [
    "AH_data.head(3)"
   ]
  },
  {
   "cell_type": "code",
   "execution_count": 15,
   "id": "49fa0011-baa1-46d2-aa45-fd3878dac8a2",
   "metadata": {},
   "outputs": [
    {
     "data": {
      "text/plain": [
       "161"
      ]
     },
     "execution_count": 15,
     "metadata": {},
     "output_type": "execute_result"
    }
   ],
   "source": [
    "len(AH_data)"
   ]
  },
  {
   "cell_type": "markdown",
   "id": "7f27a2ad-58a1-427b-bb2a-5e664aadcc8c",
   "metadata": {},
   "source": [
    "## Eliminar datos sin valores"
   ]
  },
  {
   "cell_type": "code",
   "execution_count": 16,
   "id": "feb484e3-a012-47eb-90e4-a4e586f2f66d",
   "metadata": {},
   "outputs": [],
   "source": [
    "data_clean = AH_data.dropna()"
   ]
  },
  {
   "cell_type": "code",
   "execution_count": 17,
   "id": "eb5eb1f9-2270-49ca-a890-7880848c2c5a",
   "metadata": {},
   "outputs": [
    {
     "data": {
      "text/plain": [
       "160"
      ]
     },
     "execution_count": 17,
     "metadata": {},
     "output_type": "execute_result"
    }
   ],
   "source": [
    "len(data_clean)"
   ]
  },
  {
   "cell_type": "markdown",
   "id": "399ee286-fec8-48ec-9879-a5ec6d384286",
   "metadata": {},
   "source": [
    "## Tipo de datos de las columnas"
   ]
  },
  {
   "cell_type": "code",
   "execution_count": 18,
   "id": "0eaea034-ba74-4b9e-9dc1-e97c6a89d69d",
   "metadata": {},
   "outputs": [
    {
     "data": {
      "text/plain": [
       "Arbol         int64\n",
       "Este        float64\n",
       "Norte       float64\n",
       "DAP_cm      float64\n",
       "Altura_T    float64\n",
       "Altura_C    float64\n",
       "dtype: object"
      ]
     },
     "execution_count": 18,
     "metadata": {},
     "output_type": "execute_result"
    }
   ],
   "source": [
    "#Para comprobar que se ha leído bien\n",
    "data_clean.dtypes"
   ]
  },
  {
   "cell_type": "markdown",
   "id": "0d52ee4e-82c6-4024-8791-47b90fdc4dbb",
   "metadata": {},
   "source": [
    "## Calcular el área basal (en metros cuadrados)"
   ]
  },
  {
   "cell_type": "code",
   "execution_count": 37,
   "id": "494a0ffa-0578-4d0d-b6a5-0e975b49fec8",
   "metadata": {},
   "outputs": [],
   "source": [
    "import numpy as np\n",
    "import copy"
   ]
  },
  {
   "cell_type": "code",
   "execution_count": 38,
   "id": "9fdc276d-123e-447f-82a1-03f7a3a95196",
   "metadata": {},
   "outputs": [],
   "source": [
    "data_inventario = copy.copy(data_clean)"
   ]
  },
  {
   "cell_type": "code",
   "execution_count": 39,
   "id": "4fecc24a-3fd6-4c19-9294-928542c06ae0",
   "metadata": {},
   "outputs": [],
   "source": [
    "data_inventario['Area_Basal_m2'] = round((data_inventario['DAP_cm'] / 100)*(data_inventario['DAP_cm'] / 100)* np.pi/4,4)"
   ]
  },
  {
   "cell_type": "code",
   "execution_count": 40,
   "id": "2a0202ba-0145-47c6-b4fd-409c940a7639",
   "metadata": {},
   "outputs": [
    {
     "data": {
      "text/html": [
       "<div>\n",
       "<style scoped>\n",
       "    .dataframe tbody tr th:only-of-type {\n",
       "        vertical-align: middle;\n",
       "    }\n",
       "\n",
       "    .dataframe tbody tr th {\n",
       "        vertical-align: top;\n",
       "    }\n",
       "\n",
       "    .dataframe thead th {\n",
       "        text-align: right;\n",
       "    }\n",
       "</style>\n",
       "<table border=\"1\" class=\"dataframe\">\n",
       "  <thead>\n",
       "    <tr style=\"text-align: right;\">\n",
       "      <th></th>\n",
       "      <th>Arbol</th>\n",
       "      <th>Este</th>\n",
       "      <th>Norte</th>\n",
       "      <th>DAP_cm</th>\n",
       "      <th>Altura_T</th>\n",
       "      <th>Altura_C</th>\n",
       "      <th>Area_Basal_m2</th>\n",
       "    </tr>\n",
       "  </thead>\n",
       "  <tbody>\n",
       "    <tr>\n",
       "      <th>0</th>\n",
       "      <td>1</td>\n",
       "      <td>494028.546</td>\n",
       "      <td>9023749.586</td>\n",
       "      <td>7.862236</td>\n",
       "      <td>8.23</td>\n",
       "      <td>4.24</td>\n",
       "      <td>0.0049</td>\n",
       "    </tr>\n",
       "    <tr>\n",
       "      <th>1</th>\n",
       "      <td>2</td>\n",
       "      <td>494033.087</td>\n",
       "      <td>9023749.028</td>\n",
       "      <td>4.647313</td>\n",
       "      <td>5.67</td>\n",
       "      <td>3.79</td>\n",
       "      <td>0.0017</td>\n",
       "    </tr>\n",
       "    <tr>\n",
       "      <th>2</th>\n",
       "      <td>3</td>\n",
       "      <td>494042.399</td>\n",
       "      <td>9023748.940</td>\n",
       "      <td>5.634072</td>\n",
       "      <td>6.94</td>\n",
       "      <td>2.70</td>\n",
       "      <td>0.0025</td>\n",
       "    </tr>\n",
       "    <tr>\n",
       "      <th>3</th>\n",
       "      <td>4</td>\n",
       "      <td>494047.100</td>\n",
       "      <td>9023749.095</td>\n",
       "      <td>6.970970</td>\n",
       "      <td>7.81</td>\n",
       "      <td>4.47</td>\n",
       "      <td>0.0038</td>\n",
       "    </tr>\n",
       "    <tr>\n",
       "      <th>4</th>\n",
       "      <td>5</td>\n",
       "      <td>494056.927</td>\n",
       "      <td>9023749.512</td>\n",
       "      <td>8.498854</td>\n",
       "      <td>9.77</td>\n",
       "      <td>5.05</td>\n",
       "      <td>0.0057</td>\n",
       "    </tr>\n",
       "  </tbody>\n",
       "</table>\n",
       "</div>"
      ],
      "text/plain": [
       "   Arbol        Este        Norte    DAP_cm  Altura_T  Altura_C  Area_Basal_m2\n",
       "0      1  494028.546  9023749.586  7.862236      8.23      4.24         0.0049\n",
       "1      2  494033.087  9023749.028  4.647313      5.67      3.79         0.0017\n",
       "2      3  494042.399  9023748.940  5.634072      6.94      2.70         0.0025\n",
       "3      4  494047.100  9023749.095  6.970970      7.81      4.47         0.0038\n",
       "4      5  494056.927  9023749.512  8.498854      9.77      5.05         0.0057"
      ]
     },
     "execution_count": 40,
     "metadata": {},
     "output_type": "execute_result"
    }
   ],
   "source": [
    "data_inventario.head()"
   ]
  },
  {
   "cell_type": "markdown",
   "id": "810010ff-c97d-413d-9316-94e8ee3c550c",
   "metadata": {},
   "source": [
    "##  Determinar el volumen comercial"
   ]
  },
  {
   "cell_type": "code",
   "execution_count": 41,
   "id": "e11a1bbb-48b7-434e-908a-3d24c03fffeb",
   "metadata": {},
   "outputs": [],
   "source": [
    "Coeficiente_forma = 0.496"
   ]
  },
  {
   "cell_type": "code",
   "execution_count": 42,
   "id": "ce5e2888-d6f6-4210-85fc-f780814d61d9",
   "metadata": {},
   "outputs": [],
   "source": [
    "data_inventario['Vol_Comerc_m3'] = round((data_inventario['Area_Basal_m2'])*(data_inventario['Altura_C'])* Coeficiente_forma, 4)"
   ]
  },
  {
   "cell_type": "code",
   "execution_count": 43,
   "id": "fdb4dfe1-adc6-4790-8c80-ec74b507bb26",
   "metadata": {},
   "outputs": [
    {
     "data": {
      "text/html": [
       "<div>\n",
       "<style scoped>\n",
       "    .dataframe tbody tr th:only-of-type {\n",
       "        vertical-align: middle;\n",
       "    }\n",
       "\n",
       "    .dataframe tbody tr th {\n",
       "        vertical-align: top;\n",
       "    }\n",
       "\n",
       "    .dataframe thead th {\n",
       "        text-align: right;\n",
       "    }\n",
       "</style>\n",
       "<table border=\"1\" class=\"dataframe\">\n",
       "  <thead>\n",
       "    <tr style=\"text-align: right;\">\n",
       "      <th></th>\n",
       "      <th>Arbol</th>\n",
       "      <th>Este</th>\n",
       "      <th>Norte</th>\n",
       "      <th>DAP_cm</th>\n",
       "      <th>Altura_T</th>\n",
       "      <th>Altura_C</th>\n",
       "      <th>Area_Basal_m2</th>\n",
       "      <th>Vol_Comerc_m3</th>\n",
       "    </tr>\n",
       "  </thead>\n",
       "  <tbody>\n",
       "    <tr>\n",
       "      <th>0</th>\n",
       "      <td>1</td>\n",
       "      <td>494028.546</td>\n",
       "      <td>9023749.586</td>\n",
       "      <td>7.862236</td>\n",
       "      <td>8.23</td>\n",
       "      <td>4.24</td>\n",
       "      <td>0.0049</td>\n",
       "      <td>0.0103</td>\n",
       "    </tr>\n",
       "    <tr>\n",
       "      <th>1</th>\n",
       "      <td>2</td>\n",
       "      <td>494033.087</td>\n",
       "      <td>9023749.028</td>\n",
       "      <td>4.647313</td>\n",
       "      <td>5.67</td>\n",
       "      <td>3.79</td>\n",
       "      <td>0.0017</td>\n",
       "      <td>0.0032</td>\n",
       "    </tr>\n",
       "    <tr>\n",
       "      <th>2</th>\n",
       "      <td>3</td>\n",
       "      <td>494042.399</td>\n",
       "      <td>9023748.940</td>\n",
       "      <td>5.634072</td>\n",
       "      <td>6.94</td>\n",
       "      <td>2.70</td>\n",
       "      <td>0.0025</td>\n",
       "      <td>0.0033</td>\n",
       "    </tr>\n",
       "    <tr>\n",
       "      <th>3</th>\n",
       "      <td>4</td>\n",
       "      <td>494047.100</td>\n",
       "      <td>9023749.095</td>\n",
       "      <td>6.970970</td>\n",
       "      <td>7.81</td>\n",
       "      <td>4.47</td>\n",
       "      <td>0.0038</td>\n",
       "      <td>0.0084</td>\n",
       "    </tr>\n",
       "    <tr>\n",
       "      <th>4</th>\n",
       "      <td>5</td>\n",
       "      <td>494056.927</td>\n",
       "      <td>9023749.512</td>\n",
       "      <td>8.498854</td>\n",
       "      <td>9.77</td>\n",
       "      <td>5.05</td>\n",
       "      <td>0.0057</td>\n",
       "      <td>0.0143</td>\n",
       "    </tr>\n",
       "  </tbody>\n",
       "</table>\n",
       "</div>"
      ],
      "text/plain": [
       "   Arbol        Este        Norte    DAP_cm  Altura_T  Altura_C  \\\n",
       "0      1  494028.546  9023749.586  7.862236      8.23      4.24   \n",
       "1      2  494033.087  9023749.028  4.647313      5.67      3.79   \n",
       "2      3  494042.399  9023748.940  5.634072      6.94      2.70   \n",
       "3      4  494047.100  9023749.095  6.970970      7.81      4.47   \n",
       "4      5  494056.927  9023749.512  8.498854      9.77      5.05   \n",
       "\n",
       "   Area_Basal_m2  Vol_Comerc_m3  \n",
       "0         0.0049         0.0103  \n",
       "1         0.0017         0.0032  \n",
       "2         0.0025         0.0033  \n",
       "3         0.0038         0.0084  \n",
       "4         0.0057         0.0143  "
      ]
     },
     "execution_count": 43,
     "metadata": {},
     "output_type": "execute_result"
    }
   ],
   "source": [
    "data_inventario.head()"
   ]
  },
  {
   "cell_type": "markdown",
   "id": "77945640-537e-4548-9f81-360291b3b452",
   "metadata": {},
   "source": [
    "##  Determinar el volumen total"
   ]
  },
  {
   "cell_type": "code",
   "execution_count": 44,
   "id": "6774f3d3-69d6-497e-b43a-cecb99354e97",
   "metadata": {},
   "outputs": [],
   "source": [
    "data_inventario['Vol_Total_m3'] = round((data_inventario['Area_Basal_m2'])*(data_inventario['Altura_T'])* Coeficiente_forma, 4)"
   ]
  },
  {
   "cell_type": "code",
   "execution_count": 45,
   "id": "56c4a3ab-19fc-46a9-9612-b1bfde9d4968",
   "metadata": {},
   "outputs": [
    {
     "data": {
      "text/html": [
       "<div>\n",
       "<style scoped>\n",
       "    .dataframe tbody tr th:only-of-type {\n",
       "        vertical-align: middle;\n",
       "    }\n",
       "\n",
       "    .dataframe tbody tr th {\n",
       "        vertical-align: top;\n",
       "    }\n",
       "\n",
       "    .dataframe thead th {\n",
       "        text-align: right;\n",
       "    }\n",
       "</style>\n",
       "<table border=\"1\" class=\"dataframe\">\n",
       "  <thead>\n",
       "    <tr style=\"text-align: right;\">\n",
       "      <th></th>\n",
       "      <th>Arbol</th>\n",
       "      <th>Este</th>\n",
       "      <th>Norte</th>\n",
       "      <th>DAP_cm</th>\n",
       "      <th>Altura_T</th>\n",
       "      <th>Altura_C</th>\n",
       "      <th>Area_Basal_m2</th>\n",
       "      <th>Vol_Comerc_m3</th>\n",
       "      <th>Vol_Total_m3</th>\n",
       "    </tr>\n",
       "  </thead>\n",
       "  <tbody>\n",
       "    <tr>\n",
       "      <th>0</th>\n",
       "      <td>1</td>\n",
       "      <td>494028.546</td>\n",
       "      <td>9023749.586</td>\n",
       "      <td>7.862236</td>\n",
       "      <td>8.23</td>\n",
       "      <td>4.24</td>\n",
       "      <td>0.0049</td>\n",
       "      <td>0.0103</td>\n",
       "      <td>0.0200</td>\n",
       "    </tr>\n",
       "    <tr>\n",
       "      <th>1</th>\n",
       "      <td>2</td>\n",
       "      <td>494033.087</td>\n",
       "      <td>9023749.028</td>\n",
       "      <td>4.647313</td>\n",
       "      <td>5.67</td>\n",
       "      <td>3.79</td>\n",
       "      <td>0.0017</td>\n",
       "      <td>0.0032</td>\n",
       "      <td>0.0048</td>\n",
       "    </tr>\n",
       "    <tr>\n",
       "      <th>2</th>\n",
       "      <td>3</td>\n",
       "      <td>494042.399</td>\n",
       "      <td>9023748.940</td>\n",
       "      <td>5.634072</td>\n",
       "      <td>6.94</td>\n",
       "      <td>2.70</td>\n",
       "      <td>0.0025</td>\n",
       "      <td>0.0033</td>\n",
       "      <td>0.0086</td>\n",
       "    </tr>\n",
       "    <tr>\n",
       "      <th>3</th>\n",
       "      <td>4</td>\n",
       "      <td>494047.100</td>\n",
       "      <td>9023749.095</td>\n",
       "      <td>6.970970</td>\n",
       "      <td>7.81</td>\n",
       "      <td>4.47</td>\n",
       "      <td>0.0038</td>\n",
       "      <td>0.0084</td>\n",
       "      <td>0.0147</td>\n",
       "    </tr>\n",
       "    <tr>\n",
       "      <th>4</th>\n",
       "      <td>5</td>\n",
       "      <td>494056.927</td>\n",
       "      <td>9023749.512</td>\n",
       "      <td>8.498854</td>\n",
       "      <td>9.77</td>\n",
       "      <td>5.05</td>\n",
       "      <td>0.0057</td>\n",
       "      <td>0.0143</td>\n",
       "      <td>0.0276</td>\n",
       "    </tr>\n",
       "  </tbody>\n",
       "</table>\n",
       "</div>"
      ],
      "text/plain": [
       "   Arbol        Este        Norte    DAP_cm  Altura_T  Altura_C  \\\n",
       "0      1  494028.546  9023749.586  7.862236      8.23      4.24   \n",
       "1      2  494033.087  9023749.028  4.647313      5.67      3.79   \n",
       "2      3  494042.399  9023748.940  5.634072      6.94      2.70   \n",
       "3      4  494047.100  9023749.095  6.970970      7.81      4.47   \n",
       "4      5  494056.927  9023749.512  8.498854      9.77      5.05   \n",
       "\n",
       "   Area_Basal_m2  Vol_Comerc_m3  Vol_Total_m3  \n",
       "0         0.0049         0.0103        0.0200  \n",
       "1         0.0017         0.0032        0.0048  \n",
       "2         0.0025         0.0033        0.0086  \n",
       "3         0.0038         0.0084        0.0147  \n",
       "4         0.0057         0.0143        0.0276  "
      ]
     },
     "execution_count": 45,
     "metadata": {},
     "output_type": "execute_result"
    }
   ],
   "source": [
    "data_inventario.head()"
   ]
  },
  {
   "cell_type": "markdown",
   "id": "ce4c422a-94b7-483d-b23c-4fb55c9cdac9",
   "metadata": {},
   "source": [
    "## Principales estadísticos"
   ]
  },
  {
   "cell_type": "code",
   "execution_count": 51,
   "id": "d0f54e20-5933-4495-bdba-3d3887e30e57",
   "metadata": {},
   "outputs": [
    {
     "name": "stdout",
     "output_type": "stream",
     "text": [
      "['Arbol', 'Este', 'Norte', 'DAP_cm', 'Altura_T', 'Altura_C', 'Area_Basal_m2', 'Vol_Comerc_m3', 'Vol_Total_m3']\n"
     ]
    }
   ],
   "source": [
    "lista_columna = list(data_inventario.columns)\n",
    "print(lista_columna)"
   ]
  },
  {
   "cell_type": "code",
   "execution_count": 52,
   "id": "6500e66a-c0c4-456e-a406-97464f527cdd",
   "metadata": {},
   "outputs": [
    {
     "data": {
      "text/plain": [
       "['DAP_cm', 'Altura_T', 'Altura_C', 'Area_Basal_m2', 'Vol_Comerc_m3']"
      ]
     },
     "execution_count": 52,
     "metadata": {},
     "output_type": "execute_result"
    }
   ],
   "source": [
    "lista_columna[3:8]"
   ]
  },
  {
   "cell_type": "code",
   "execution_count": 65,
   "id": "fb6f9454-c13a-475b-898a-b0b43c68990b",
   "metadata": {},
   "outputs": [
    {
     "data": {
      "text/html": [
       "<div>\n",
       "<style scoped>\n",
       "    .dataframe tbody tr th:only-of-type {\n",
       "        vertical-align: middle;\n",
       "    }\n",
       "\n",
       "    .dataframe tbody tr th {\n",
       "        vertical-align: top;\n",
       "    }\n",
       "\n",
       "    .dataframe thead th {\n",
       "        text-align: right;\n",
       "    }\n",
       "</style>\n",
       "<table border=\"1\" class=\"dataframe\">\n",
       "  <thead>\n",
       "    <tr style=\"text-align: right;\">\n",
       "      <th></th>\n",
       "      <th>DAP_cm</th>\n",
       "      <th>Altura_T</th>\n",
       "      <th>Altura_C</th>\n",
       "      <th>Area_Basal_m2</th>\n",
       "      <th>Vol_Comerc_m3</th>\n",
       "      <th>Vol_Total_m3</th>\n",
       "    </tr>\n",
       "  </thead>\n",
       "  <tbody>\n",
       "    <tr>\n",
       "      <th>count</th>\n",
       "      <td>160.000000</td>\n",
       "      <td>160.000000</td>\n",
       "      <td>160.000000</td>\n",
       "      <td>160.000000</td>\n",
       "      <td>160.000000</td>\n",
       "      <td>160.000000</td>\n",
       "    </tr>\n",
       "    <tr>\n",
       "      <th>mean</th>\n",
       "      <td>10.558712</td>\n",
       "      <td>10.401312</td>\n",
       "      <td>5.205938</td>\n",
       "      <td>0.009556</td>\n",
       "      <td>0.027059</td>\n",
       "      <td>0.055651</td>\n",
       "    </tr>\n",
       "    <tr>\n",
       "      <th>std</th>\n",
       "      <td>3.198572</td>\n",
       "      <td>2.788527</td>\n",
       "      <td>1.572007</td>\n",
       "      <td>0.005421</td>\n",
       "      <td>0.019756</td>\n",
       "      <td>0.041936</td>\n",
       "    </tr>\n",
       "    <tr>\n",
       "      <th>min</th>\n",
       "      <td>4.329004</td>\n",
       "      <td>4.190000</td>\n",
       "      <td>2.160000</td>\n",
       "      <td>0.001500</td>\n",
       "      <td>0.001600</td>\n",
       "      <td>0.003100</td>\n",
       "    </tr>\n",
       "    <tr>\n",
       "      <th>25%</th>\n",
       "      <td>8.307869</td>\n",
       "      <td>8.635000</td>\n",
       "      <td>4.220000</td>\n",
       "      <td>0.005425</td>\n",
       "      <td>0.011275</td>\n",
       "      <td>0.024975</td>\n",
       "    </tr>\n",
       "    <tr>\n",
       "      <th>50%</th>\n",
       "      <td>10.472371</td>\n",
       "      <td>10.625000</td>\n",
       "      <td>5.115000</td>\n",
       "      <td>0.008650</td>\n",
       "      <td>0.022650</td>\n",
       "      <td>0.044600</td>\n",
       "    </tr>\n",
       "    <tr>\n",
       "      <th>75%</th>\n",
       "      <td>12.867647</td>\n",
       "      <td>12.452500</td>\n",
       "      <td>6.245000</td>\n",
       "      <td>0.013025</td>\n",
       "      <td>0.040500</td>\n",
       "      <td>0.079550</td>\n",
       "    </tr>\n",
       "    <tr>\n",
       "      <th>max</th>\n",
       "      <td>18.461930</td>\n",
       "      <td>16.220000</td>\n",
       "      <td>10.320000</td>\n",
       "      <td>0.026800</td>\n",
       "      <td>0.103400</td>\n",
       "      <td>0.197700</td>\n",
       "    </tr>\n",
       "  </tbody>\n",
       "</table>\n",
       "</div>"
      ],
      "text/plain": [
       "           DAP_cm    Altura_T    Altura_C  Area_Basal_m2  Vol_Comerc_m3  \\\n",
       "count  160.000000  160.000000  160.000000     160.000000     160.000000   \n",
       "mean    10.558712   10.401312    5.205938       0.009556       0.027059   \n",
       "std      3.198572    2.788527    1.572007       0.005421       0.019756   \n",
       "min      4.329004    4.190000    2.160000       0.001500       0.001600   \n",
       "25%      8.307869    8.635000    4.220000       0.005425       0.011275   \n",
       "50%     10.472371   10.625000    5.115000       0.008650       0.022650   \n",
       "75%     12.867647   12.452500    6.245000       0.013025       0.040500   \n",
       "max     18.461930   16.220000   10.320000       0.026800       0.103400   \n",
       "\n",
       "       Vol_Total_m3  \n",
       "count    160.000000  \n",
       "mean       0.055651  \n",
       "std        0.041936  \n",
       "min        0.003100  \n",
       "25%        0.024975  \n",
       "50%        0.044600  \n",
       "75%        0.079550  \n",
       "max        0.197700  "
      ]
     },
     "execution_count": 65,
     "metadata": {},
     "output_type": "execute_result"
    }
   ],
   "source": [
    "#Principales estadísticos\n",
    "data_inventario[lista_columna[3:9]].describe()"
   ]
  },
  {
   "cell_type": "code",
   "execution_count": 66,
   "id": "57dd6b2c-928d-4d6d-aa4f-0a99585496d6",
   "metadata": {},
   "outputs": [],
   "source": [
    "datos_evaluados = data_inventario[lista_columna[3:9]]"
   ]
  },
  {
   "cell_type": "code",
   "execution_count": 67,
   "id": "d9adfcdb-6cd6-4404-a36f-0cd74d670626",
   "metadata": {},
   "outputs": [],
   "source": [
    "estadisticas_descriptivas = datos_evaluados.describe()"
   ]
  },
  {
   "cell_type": "code",
   "execution_count": 68,
   "id": "be4807b3-464c-443d-ba8c-a7aa1c3ec6be",
   "metadata": {},
   "outputs": [
    {
     "data": {
      "text/plain": [
       "pandas.core.frame.DataFrame"
      ]
     },
     "execution_count": 68,
     "metadata": {},
     "output_type": "execute_result"
    }
   ],
   "source": [
    "type(estadisticas_descriptivas)"
   ]
  },
  {
   "cell_type": "code",
   "execution_count": 73,
   "id": "923cb7e3-c30a-4baa-b34f-f6f7991e1e18",
   "metadata": {},
   "outputs": [
    {
     "data": {
      "text/html": [
       "<div>\n",
       "<style scoped>\n",
       "    .dataframe tbody tr th:only-of-type {\n",
       "        vertical-align: middle;\n",
       "    }\n",
       "\n",
       "    .dataframe tbody tr th {\n",
       "        vertical-align: top;\n",
       "    }\n",
       "\n",
       "    .dataframe thead th {\n",
       "        text-align: right;\n",
       "    }\n",
       "</style>\n",
       "<table border=\"1\" class=\"dataframe\">\n",
       "  <thead>\n",
       "    <tr style=\"text-align: right;\">\n",
       "      <th></th>\n",
       "      <th>DAP_cm</th>\n",
       "      <th>Altura_T</th>\n",
       "      <th>Altura_C</th>\n",
       "      <th>Area_Basal_m2</th>\n",
       "      <th>Vol_Comerc_m3</th>\n",
       "      <th>Vol_Total_m3</th>\n",
       "    </tr>\n",
       "  </thead>\n",
       "  <tbody>\n",
       "    <tr>\n",
       "      <th>count</th>\n",
       "      <td>160.000000</td>\n",
       "      <td>160.000000</td>\n",
       "      <td>160.000000</td>\n",
       "      <td>160.000000</td>\n",
       "      <td>160.000000</td>\n",
       "      <td>160.000000</td>\n",
       "    </tr>\n",
       "    <tr>\n",
       "      <th>mean</th>\n",
       "      <td>10.558712</td>\n",
       "      <td>10.401312</td>\n",
       "      <td>5.205938</td>\n",
       "      <td>0.009556</td>\n",
       "      <td>0.027059</td>\n",
       "      <td>0.055651</td>\n",
       "    </tr>\n",
       "    <tr>\n",
       "      <th>std</th>\n",
       "      <td>3.198572</td>\n",
       "      <td>2.788527</td>\n",
       "      <td>1.572007</td>\n",
       "      <td>0.005421</td>\n",
       "      <td>0.019756</td>\n",
       "      <td>0.041936</td>\n",
       "    </tr>\n",
       "    <tr>\n",
       "      <th>min</th>\n",
       "      <td>4.329004</td>\n",
       "      <td>4.190000</td>\n",
       "      <td>2.160000</td>\n",
       "      <td>0.001500</td>\n",
       "      <td>0.001600</td>\n",
       "      <td>0.003100</td>\n",
       "    </tr>\n",
       "    <tr>\n",
       "      <th>25%</th>\n",
       "      <td>8.307869</td>\n",
       "      <td>8.635000</td>\n",
       "      <td>4.220000</td>\n",
       "      <td>0.005425</td>\n",
       "      <td>0.011275</td>\n",
       "      <td>0.024975</td>\n",
       "    </tr>\n",
       "    <tr>\n",
       "      <th>50%</th>\n",
       "      <td>10.472371</td>\n",
       "      <td>10.625000</td>\n",
       "      <td>5.115000</td>\n",
       "      <td>0.008650</td>\n",
       "      <td>0.022650</td>\n",
       "      <td>0.044600</td>\n",
       "    </tr>\n",
       "    <tr>\n",
       "      <th>75%</th>\n",
       "      <td>12.867647</td>\n",
       "      <td>12.452500</td>\n",
       "      <td>6.245000</td>\n",
       "      <td>0.013025</td>\n",
       "      <td>0.040500</td>\n",
       "      <td>0.079550</td>\n",
       "    </tr>\n",
       "    <tr>\n",
       "      <th>max</th>\n",
       "      <td>18.461930</td>\n",
       "      <td>16.220000</td>\n",
       "      <td>10.320000</td>\n",
       "      <td>0.026800</td>\n",
       "      <td>0.103400</td>\n",
       "      <td>0.197700</td>\n",
       "    </tr>\n",
       "  </tbody>\n",
       "</table>\n",
       "</div>"
      ],
      "text/plain": [
       "           DAP_cm    Altura_T    Altura_C  Area_Basal_m2  Vol_Comerc_m3  \\\n",
       "count  160.000000  160.000000  160.000000     160.000000     160.000000   \n",
       "mean    10.558712   10.401312    5.205938       0.009556       0.027059   \n",
       "std      3.198572    2.788527    1.572007       0.005421       0.019756   \n",
       "min      4.329004    4.190000    2.160000       0.001500       0.001600   \n",
       "25%      8.307869    8.635000    4.220000       0.005425       0.011275   \n",
       "50%     10.472371   10.625000    5.115000       0.008650       0.022650   \n",
       "75%     12.867647   12.452500    6.245000       0.013025       0.040500   \n",
       "max     18.461930   16.220000   10.320000       0.026800       0.103400   \n",
       "\n",
       "       Vol_Total_m3  \n",
       "count    160.000000  \n",
       "mean       0.055651  \n",
       "std        0.041936  \n",
       "min        0.003100  \n",
       "25%        0.024975  \n",
       "50%        0.044600  \n",
       "75%        0.079550  \n",
       "max        0.197700  "
      ]
     },
     "execution_count": 73,
     "metadata": {},
     "output_type": "execute_result"
    }
   ],
   "source": [
    "estadisticas_descriptivas.head(10)"
   ]
  },
  {
   "cell_type": "code",
   "execution_count": 70,
   "id": "c082af21-b79d-4cd4-9db4-ea2fb0728d3d",
   "metadata": {},
   "outputs": [],
   "source": [
    "# Suma a lo largo de las filas (eje 0)\n",
    "suma_filas = datos_evaluados.sum(axis=0) "
   ]
  },
  {
   "cell_type": "code",
   "execution_count": 71,
   "id": "5d380572-12c2-4e33-879b-9f0fd2b1ec21",
   "metadata": {},
   "outputs": [
    {
     "data": {
      "text/plain": [
       "DAP_cm           1689.393939\n",
       "Altura_T         1664.210000\n",
       "Altura_C          832.950000\n",
       "Area_Basal_m2       1.528900\n",
       "Vol_Comerc_m3       4.329500\n",
       "Vol_Total_m3        8.904100\n",
       "dtype: float64"
      ]
     },
     "execution_count": 71,
     "metadata": {},
     "output_type": "execute_result"
    }
   ],
   "source": [
    "suma_filas.head(7)"
   ]
  },
  {
   "cell_type": "markdown",
   "id": "a4c2a8b1-45d0-419c-be0d-c80ba6d5bb22",
   "metadata": {},
   "source": [
    "## Determinar Distribución de frecuencia"
   ]
  },
  {
   "cell_type": "code",
   "execution_count": 74,
   "id": "6a682081-ca6c-451a-a9b4-a8aead3fdcc8",
   "metadata": {},
   "outputs": [],
   "source": [
    "intervalos = [2, 7, 12, 17, 22, 27, 32]"
   ]
  },
  {
   "cell_type": "code",
   "execution_count": 75,
   "id": "e4074e80-c3a9-4f1d-9b7b-b415464eb403",
   "metadata": {},
   "outputs": [],
   "source": [
    "# Utiliza pd.cut() para dividir los diámetros en intervalos y contar cuántos caen en cada intervalo\n",
    "distribucion_frecuencia = pd.cut(data_inventario['DAP_cm'], bins=intervalos, include_lowest=True)"
   ]
  },
  {
   "cell_type": "code",
   "execution_count": 78,
   "id": "59b048c0-dadd-4ae9-a08d-04d839efdace",
   "metadata": {},
   "outputs": [],
   "source": [
    "# Calcula la frecuencia absoluta y relativa\n",
    "frecuencia_absoluta = distribucion_frecuencia.value_counts().sort_index()\n",
    "frecuencia_relativa = distribucion_frecuencia.value_counts(normalize=True).sort_index()"
   ]
  },
  {
   "cell_type": "code",
   "execution_count": 88,
   "id": "e37030b9-0906-4272-91ac-40d48448d8ed",
   "metadata": {},
   "outputs": [],
   "source": [
    "# Calcula la marca de clase (punto medio de cada intervalo)\n",
    "marca_de_clase = [(i.left + i.right) / 2 for i in frecuencia_absoluta.index]"
   ]
  },
  {
   "cell_type": "code",
   "execution_count": 89,
   "id": "ff78a250-8fe1-4691-932a-6e8b00ab8959",
   "metadata": {},
   "outputs": [],
   "source": [
    "# Combina los resultados en un DataFrame\n",
    "distribucion_df = pd.DataFrame({\n",
    "    'Intervalo': frecuencia_absoluta.index,\n",
    "    'Marca de Clase': marca_de_clase,\n",
    "    'Frecuencia Absoluta': frecuencia_absoluta.values,\n",
    "    'Frecuencia Relativa': frecuencia_relativa.values\n",
    "})"
   ]
  },
  {
   "cell_type": "code",
   "execution_count": 90,
   "id": "9dc55674-ea26-48f5-9b05-66aaf27b507e",
   "metadata": {},
   "outputs": [
    {
     "name": "stdout",
     "output_type": "stream",
     "text": [
      "Distribución de frecuencia del diámetro en cm:\n"
     ]
    },
    {
     "data": {
      "text/html": [
       "<div>\n",
       "<style scoped>\n",
       "    .dataframe tbody tr th:only-of-type {\n",
       "        vertical-align: middle;\n",
       "    }\n",
       "\n",
       "    .dataframe tbody tr th {\n",
       "        vertical-align: top;\n",
       "    }\n",
       "\n",
       "    .dataframe thead th {\n",
       "        text-align: right;\n",
       "    }\n",
       "</style>\n",
       "<table border=\"1\" class=\"dataframe\">\n",
       "  <thead>\n",
       "    <tr style=\"text-align: right;\">\n",
       "      <th></th>\n",
       "      <th>Intervalo</th>\n",
       "      <th>Marca de Clase</th>\n",
       "      <th>Frecuencia Absoluta</th>\n",
       "      <th>Frecuencia Relativa</th>\n",
       "    </tr>\n",
       "  </thead>\n",
       "  <tbody>\n",
       "    <tr>\n",
       "      <th>0</th>\n",
       "      <td>(1.999, 7.0]</td>\n",
       "      <td>4.4995</td>\n",
       "      <td>22</td>\n",
       "      <td>0.1375</td>\n",
       "    </tr>\n",
       "    <tr>\n",
       "      <th>1</th>\n",
       "      <td>(7.0, 12.0]</td>\n",
       "      <td>9.5000</td>\n",
       "      <td>84</td>\n",
       "      <td>0.5250</td>\n",
       "    </tr>\n",
       "    <tr>\n",
       "      <th>2</th>\n",
       "      <td>(12.0, 17.0]</td>\n",
       "      <td>14.5000</td>\n",
       "      <td>50</td>\n",
       "      <td>0.3125</td>\n",
       "    </tr>\n",
       "    <tr>\n",
       "      <th>3</th>\n",
       "      <td>(17.0, 22.0]</td>\n",
       "      <td>19.5000</td>\n",
       "      <td>4</td>\n",
       "      <td>0.0250</td>\n",
       "    </tr>\n",
       "    <tr>\n",
       "      <th>4</th>\n",
       "      <td>(22.0, 27.0]</td>\n",
       "      <td>24.5000</td>\n",
       "      <td>0</td>\n",
       "      <td>0.0000</td>\n",
       "    </tr>\n",
       "  </tbody>\n",
       "</table>\n",
       "</div>"
      ],
      "text/plain": [
       "      Intervalo  Marca de Clase  Frecuencia Absoluta  Frecuencia Relativa\n",
       "0  (1.999, 7.0]          4.4995                   22               0.1375\n",
       "1   (7.0, 12.0]          9.5000                   84               0.5250\n",
       "2  (12.0, 17.0]         14.5000                   50               0.3125\n",
       "3  (17.0, 22.0]         19.5000                    4               0.0250\n",
       "4  (22.0, 27.0]         24.5000                    0               0.0000"
      ]
     },
     "execution_count": 90,
     "metadata": {},
     "output_type": "execute_result"
    }
   ],
   "source": [
    "# Muestra la distribución de frecuencia cuantitativa con absoluta y relativa\n",
    "print(\"Distribución de frecuencia del diámetro en cm:\")\n",
    "distribucion_df.head()"
   ]
  },
  {
   "cell_type": "code",
   "execution_count": 91,
   "id": "78e139e2-b747-4eae-8141-0a684575f2c0",
   "metadata": {},
   "outputs": [
    {
     "data": {
      "text/plain": [
       "pandas.core.frame.DataFrame"
      ]
     },
     "execution_count": 91,
     "metadata": {},
     "output_type": "execute_result"
    }
   ],
   "source": [
    "type(distribucion_df)"
   ]
  },
  {
   "cell_type": "code",
   "execution_count": 92,
   "id": "fa974ce0-0abe-4546-9623-a80d5fcaf282",
   "metadata": {},
   "outputs": [],
   "source": [
    "distribucion_inventario = copy.copy(distribucion_df)"
   ]
  },
  {
   "cell_type": "code",
   "execution_count": 93,
   "id": "39dfa94e-a2a2-4e71-bd90-e248e6272dff",
   "metadata": {},
   "outputs": [
    {
     "data": {
      "text/html": [
       "<div>\n",
       "<style scoped>\n",
       "    .dataframe tbody tr th:only-of-type {\n",
       "        vertical-align: middle;\n",
       "    }\n",
       "\n",
       "    .dataframe tbody tr th {\n",
       "        vertical-align: top;\n",
       "    }\n",
       "\n",
       "    .dataframe thead th {\n",
       "        text-align: right;\n",
       "    }\n",
       "</style>\n",
       "<table border=\"1\" class=\"dataframe\">\n",
       "  <thead>\n",
       "    <tr style=\"text-align: right;\">\n",
       "      <th></th>\n",
       "      <th>Intervalo</th>\n",
       "      <th>Marca de Clase</th>\n",
       "      <th>Frecuencia Absoluta</th>\n",
       "      <th>Frecuencia Relativa</th>\n",
       "    </tr>\n",
       "  </thead>\n",
       "  <tbody>\n",
       "    <tr>\n",
       "      <th>0</th>\n",
       "      <td>(1.999, 7.0]</td>\n",
       "      <td>4.4995</td>\n",
       "      <td>22</td>\n",
       "      <td>0.1375</td>\n",
       "    </tr>\n",
       "    <tr>\n",
       "      <th>1</th>\n",
       "      <td>(7.0, 12.0]</td>\n",
       "      <td>9.5000</td>\n",
       "      <td>84</td>\n",
       "      <td>0.5250</td>\n",
       "    </tr>\n",
       "    <tr>\n",
       "      <th>2</th>\n",
       "      <td>(12.0, 17.0]</td>\n",
       "      <td>14.5000</td>\n",
       "      <td>50</td>\n",
       "      <td>0.3125</td>\n",
       "    </tr>\n",
       "    <tr>\n",
       "      <th>3</th>\n",
       "      <td>(17.0, 22.0]</td>\n",
       "      <td>19.5000</td>\n",
       "      <td>4</td>\n",
       "      <td>0.0250</td>\n",
       "    </tr>\n",
       "    <tr>\n",
       "      <th>4</th>\n",
       "      <td>(22.0, 27.0]</td>\n",
       "      <td>24.5000</td>\n",
       "      <td>0</td>\n",
       "      <td>0.0000</td>\n",
       "    </tr>\n",
       "  </tbody>\n",
       "</table>\n",
       "</div>"
      ],
      "text/plain": [
       "      Intervalo  Marca de Clase  Frecuencia Absoluta  Frecuencia Relativa\n",
       "0  (1.999, 7.0]          4.4995                   22               0.1375\n",
       "1   (7.0, 12.0]          9.5000                   84               0.5250\n",
       "2  (12.0, 17.0]         14.5000                   50               0.3125\n",
       "3  (17.0, 22.0]         19.5000                    4               0.0250\n",
       "4  (22.0, 27.0]         24.5000                    0               0.0000"
      ]
     },
     "execution_count": 93,
     "metadata": {},
     "output_type": "execute_result"
    }
   ],
   "source": [
    "distribucion_inventario.head()"
   ]
  },
  {
   "cell_type": "code",
   "execution_count": 96,
   "id": "602aaa78-51db-4e23-bdbd-6d6c321b9abf",
   "metadata": {},
   "outputs": [],
   "source": [
    "import math"
   ]
  },
  {
   "cell_type": "code",
   "execution_count": 97,
   "id": "070b9add-9ec7-4a99-9c67-b236f3693d54",
   "metadata": {},
   "outputs": [],
   "source": [
    "distribucion_inventario['N_Ha'] = ((distribucion_inventario['Frecuencia Absoluta'])*1/0.62).apply(math.ceil)"
   ]
  },
  {
   "cell_type": "code",
   "execution_count": 98,
   "id": "4d587f12-e536-45f6-8a4a-3a7cfb06056c",
   "metadata": {},
   "outputs": [
    {
     "data": {
      "text/html": [
       "<div>\n",
       "<style scoped>\n",
       "    .dataframe tbody tr th:only-of-type {\n",
       "        vertical-align: middle;\n",
       "    }\n",
       "\n",
       "    .dataframe tbody tr th {\n",
       "        vertical-align: top;\n",
       "    }\n",
       "\n",
       "    .dataframe thead th {\n",
       "        text-align: right;\n",
       "    }\n",
       "</style>\n",
       "<table border=\"1\" class=\"dataframe\">\n",
       "  <thead>\n",
       "    <tr style=\"text-align: right;\">\n",
       "      <th></th>\n",
       "      <th>Intervalo</th>\n",
       "      <th>Marca de Clase</th>\n",
       "      <th>Frecuencia Absoluta</th>\n",
       "      <th>Frecuencia Relativa</th>\n",
       "      <th>N_Ha</th>\n",
       "    </tr>\n",
       "  </thead>\n",
       "  <tbody>\n",
       "    <tr>\n",
       "      <th>0</th>\n",
       "      <td>(1.999, 7.0]</td>\n",
       "      <td>4.4995</td>\n",
       "      <td>22</td>\n",
       "      <td>0.1375</td>\n",
       "      <td>36</td>\n",
       "    </tr>\n",
       "    <tr>\n",
       "      <th>1</th>\n",
       "      <td>(7.0, 12.0]</td>\n",
       "      <td>9.5000</td>\n",
       "      <td>84</td>\n",
       "      <td>0.5250</td>\n",
       "      <td>136</td>\n",
       "    </tr>\n",
       "    <tr>\n",
       "      <th>2</th>\n",
       "      <td>(12.0, 17.0]</td>\n",
       "      <td>14.5000</td>\n",
       "      <td>50</td>\n",
       "      <td>0.3125</td>\n",
       "      <td>81</td>\n",
       "    </tr>\n",
       "    <tr>\n",
       "      <th>3</th>\n",
       "      <td>(17.0, 22.0]</td>\n",
       "      <td>19.5000</td>\n",
       "      <td>4</td>\n",
       "      <td>0.0250</td>\n",
       "      <td>7</td>\n",
       "    </tr>\n",
       "    <tr>\n",
       "      <th>4</th>\n",
       "      <td>(22.0, 27.0]</td>\n",
       "      <td>24.5000</td>\n",
       "      <td>0</td>\n",
       "      <td>0.0000</td>\n",
       "      <td>0</td>\n",
       "    </tr>\n",
       "  </tbody>\n",
       "</table>\n",
       "</div>"
      ],
      "text/plain": [
       "      Intervalo  Marca de Clase  Frecuencia Absoluta  Frecuencia Relativa  \\\n",
       "0  (1.999, 7.0]          4.4995                   22               0.1375   \n",
       "1   (7.0, 12.0]          9.5000                   84               0.5250   \n",
       "2  (12.0, 17.0]         14.5000                   50               0.3125   \n",
       "3  (17.0, 22.0]         19.5000                    4               0.0250   \n",
       "4  (22.0, 27.0]         24.5000                    0               0.0000   \n",
       "\n",
       "   N_Ha  \n",
       "0    36  \n",
       "1   136  \n",
       "2    81  \n",
       "3     7  \n",
       "4     0  "
      ]
     },
     "execution_count": 98,
     "metadata": {},
     "output_type": "execute_result"
    }
   ],
   "source": [
    "distribucion_inventario.head()"
   ]
  },
  {
   "cell_type": "code",
   "execution_count": 99,
   "id": "95a9b33a-501f-45f6-a062-8ccdff0a0092",
   "metadata": {},
   "outputs": [],
   "source": [
    "import matplotlib.pyplot as plt"
   ]
  },
  {
   "cell_type": "code",
   "execution_count": 111,
   "id": "e26a070f-ff32-49e8-b091-dbfa52663dd7",
   "metadata": {},
   "outputs": [
    {
     "data": {
      "image/png": "[encoded data removed]",
      "text/plain": [
       "<Figure size 640x480 with 1 Axes>"
      ]
     },
     "metadata": {},
     "output_type": "display_data"
    }
   ],
   "source": [
    "# Graficar los datos\n",
    "plt.bar(distribucion_inventario[\"Marca de Clase\"], distribucion_inventario[\"N_Ha\"], \n",
    "        width=1.9, align='center', alpha=0.7,color='skyblue')\n",
    "plt.xlabel('Marca de clase cm')\n",
    "plt.ylabel('Número de individuos /ha')\n",
    "#plt.title('Gráfico de Barras: Marca de Clase vs Número de Individuos /Ha')\n",
    "plt.grid(axis='y', linestyle='--', alpha=0.5)\n",
    "\n",
    "# Agregar etiquetas de valor en las barras\n",
    "for x, y in zip(distribucion_inventario[\"Marca de Clase\"], distribucion_inventario[\"N_Ha\"]):\n",
    "    plt.text(x, y, str(y), ha='center', va='bottom')\n",
    "\n",
    "# Establecer límite máximo en el eje y\n",
    "plt.ylim(0, 160)  # Ajusta el límite máximo según tus necesidades\n",
    "\n",
    "# Establecer las etiquetas del eje x como marcas de clase\n",
    "plt.xticks(distribucion_inventario[\"Marca de Clase\"])\n",
    "\n",
    "# Guardar el gráfico como un archivo PNG\n",
    "plt.savefig('grafico_barras.png')\n",
    "plt.show()\n"
   ]
  },
  {
   "cell_type": "code",
   "execution_count": null,
   "id": "59f3b0c2-612c-4261-8313-dd3f97d7ef9f",
   "metadata": {},
   "outputs": [],
   "source": []
  },
  {
   "cell_type": "code",
   "execution_count": null,
   "id": "b870802e-fa3f-492c-8e03-eacb4ba45dfc",
   "metadata": {},
   "outputs": [],
   "source": []
  },
  {
   "cell_type": "code",
   "execution_count": null,
   "id": "e6097f91-0069-4361-babb-1ea7de097fa6",
   "metadata": {},
   "outputs": [],
   "source": [
    "## Determinar Area Basal"
   ]
  },
  {
   "cell_type": "code",
   "execution_count": 57,
   "id": "8fed6624-6d3b-4c51-aa71-1ad4b0856106",
   "metadata": {},
   "outputs": [],
   "source": [
    "estadisticas_descriptivas.to_csv('Estadisticas_descriptivas.csv', index=True)"
   ]
  },
  {
   "cell_type": "code",
   "execution_count": null,
   "id": "7e766750-16b6-46f5-9a6f-1999d7d2a810",
   "metadata": {},
   "outputs": [],
   "source": [
    "# Calculate direncia entre campos\n",
    "Datos_XLS[\"DIFEFENCIA\"] = Datos_XLS[\"ALT\"] - Datos_XLS[\"TEMP\"]"
   ]
  },
  {
   "cell_type": "code",
   "execution_count": null,
   "id": "c1e4e596-31f9-4ced-b510-01dcd9567591",
   "metadata": {},
   "outputs": [],
   "source": []
  },
  {
   "cell_type": "code",
   "execution_count": null,
   "id": "839e6142-7239-4569-8f74-2010ee4975b4",
   "metadata": {},
   "outputs": [],
   "source": []
  }
 ],
 "metadata": {
  "kernelspec": {
   "display_name": "Python 3 (ipykernel)",
   "language": "python",
   "name": "python3"
  },
  "language_info": {
   "codemirror_mode": {
    "name": "ipython",
    "version": 3
   },
   "file_extension": ".py",
   "mimetype": "text/x-python",
   "name": "python",
   "nbconvert_exporter": "python",
   "pygments_lexer": "ipython3",
   "version": "3.9.13"
  }
 },
 "nbformat": 4,
 "nbformat_minor": 5
}
